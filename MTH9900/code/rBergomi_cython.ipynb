{
 "cells": [
  {
   "cell_type": "markdown",
   "metadata": {},
   "source": [
    "# <font color='blue'>Rough Bergomi Tree</font>\n",
    "\n",
    "1. Understand Jim's notebook on how to calibrate $(H, \\rho, \\nu)$ based on market smile data.\n",
    "2. Given a set of smiles, possibly at differnt expiries $\\tau$, estimate $(H, \\rho, \\nu)$ .\n",
    "3. Implement the data structure of bushy rBergomi tree.\n",
    "4. Implement forward evolution of stock:\n",
    "    - forward evolution of $B$;\n",
    "    - forward evolution of $W$ and $\\mathcal{G}^{\\alpha}(W)$;\n",
    "    - forward evolution of $X$.\n",
    "5. Implement backward valuation of a European option:\n",
    "    - Given $(H, \\rho, \\nu, S_0, K, r, q, \\xi_0(\\tau))$, return an option price;\n",
    "    - Given $(\\rho, \\nu, S_0, K, r, q, \\xi_0(\\tau))$ and a range of $H$'s, return a list of option prices;\n",
    "    - Use Black-Scholes formula to generate the vanilla smile.\n",
    "6. Implement backward valuation of an American option:\n",
    "    - Given $(H, \\rho, \\nu, S_0, K, r, q, \\xi_0(\\tau))$, return an option price;\n",
    "    - Given $(\\rho, \\nu, S_0, K, r, q, \\xi_0(\\tau))$ and a range of $H$'s, return a list of option prices;\n",
    "7. Take difference between the European option prices and the American optoin prices to get the early exercise premium, over a range of moneyness.\n",
    "8. Loop over a variety of Hurst $H$'s with $(\\rho, \\nu)$ calibrated to the given market smile data."
   ]
  },
  {
   "cell_type": "code",
   "execution_count": 2,
   "metadata": {
    "collapsed": true
   },
   "outputs": [],
   "source": [
    "import numpy as np"
   ]
  },
  {
   "cell_type": "code",
   "execution_count": 3,
   "metadata": {
    "collapsed": true
   },
   "outputs": [],
   "source": [
    "%load_ext Cython"
   ]
  },
  {
   "cell_type": "code",
   "execution_count": 4,
   "metadata": {},
   "outputs": [
    {
     "name": "stdout",
     "output_type": "stream",
     "text": [
      "115\n",
      "[0, 1, 3, 2]\n"
     ]
    },
    {
     "ename": "TypeError",
     "evalue": "a bytes-like object is required, not 'list'",
     "output_type": "error",
     "traceback": [
      "\u001b[0;31m---------------------------------------------------------------------------\u001b[0m",
      "\u001b[0;31mTypeError\u001b[0m                                 Traceback (most recent call last)",
      "\u001b[0;32m<ipython-input-4-3e3999f9c82e>\u001b[0m in \u001b[0;36m<module>\u001b[0;34m()\u001b[0m\n\u001b[0;32m----> 1\u001b[0;31m \u001b[0mget_ipython\u001b[0m\u001b[0;34m(\u001b[0m\u001b[0;34m)\u001b[0m\u001b[0;34m.\u001b[0m\u001b[0mrun_cell_magic\u001b[0m\u001b[0;34m(\u001b[0m\u001b[0;34m'cython'\u001b[0m\u001b[0;34m,\u001b[0m \u001b[0;34m''\u001b[0m\u001b[0;34m,\u001b[0m \u001b[0;34m'#from cython.view cimport array as cvarray\\nimport numpy as np\\n\\ncpdef index_from_path(int[:] path):\\n    cdef int n = len(path)\\n    cdef int base = (4**n-1)//3\\n    cdef int sub = 0\\n    for i in range(n):\\n        assert path[i] >=0 and path[i] < 4\\n        sub = sub*4 + path[i]\\n    return base+sub\\n\\ncpdef path_from_index(int index):\\n    cdef n = 0\\n    cdef base = 0\\n    while True:\\n        n += 1\\n        next_base = (4**n-1)//3\\n        if next_base > index: break\\n        base = next_base\\n    n = n-1    \\n    sub = index - base\\n    path = []\\n    while len(path) < n:\\n        i = sub % 4\\n        path.append(i)\\n        sub = sub // 4\\n    return path[::-1]\\n    \\n\\npath = np.array([0,1,3,2], dtype=np.dtype(\"i\"))\\ncdef int [:] c_path = path\\ni = index_from_path(c_path)\\nprint(i)\\np = path_from_index(i)\\nprint(p)\\ni = index_from_path(p)\\nprint(i)\\np = path_from_index(i)\\nprint(p)'\u001b[0m\u001b[0;34m)\u001b[0m\u001b[0;34m\u001b[0m\u001b[0m\n\u001b[0m",
      "\u001b[0;32m/home/quan/anaconda3/lib/python3.6/site-packages/IPython/core/interactiveshell.py\u001b[0m in \u001b[0;36mrun_cell_magic\u001b[0;34m(self, magic_name, line, cell)\u001b[0m\n\u001b[1;32m   2113\u001b[0m             \u001b[0mmagic_arg_s\u001b[0m \u001b[0;34m=\u001b[0m \u001b[0mself\u001b[0m\u001b[0;34m.\u001b[0m\u001b[0mvar_expand\u001b[0m\u001b[0;34m(\u001b[0m\u001b[0mline\u001b[0m\u001b[0;34m,\u001b[0m \u001b[0mstack_depth\u001b[0m\u001b[0;34m)\u001b[0m\u001b[0;34m\u001b[0m\u001b[0m\n\u001b[1;32m   2114\u001b[0m             \u001b[0;32mwith\u001b[0m \u001b[0mself\u001b[0m\u001b[0;34m.\u001b[0m\u001b[0mbuiltin_trap\u001b[0m\u001b[0;34m:\u001b[0m\u001b[0;34m\u001b[0m\u001b[0m\n\u001b[0;32m-> 2115\u001b[0;31m                 \u001b[0mresult\u001b[0m \u001b[0;34m=\u001b[0m \u001b[0mfn\u001b[0m\u001b[0;34m(\u001b[0m\u001b[0mmagic_arg_s\u001b[0m\u001b[0;34m,\u001b[0m \u001b[0mcell\u001b[0m\u001b[0;34m)\u001b[0m\u001b[0;34m\u001b[0m\u001b[0m\n\u001b[0m\u001b[1;32m   2116\u001b[0m             \u001b[0;32mreturn\u001b[0m \u001b[0mresult\u001b[0m\u001b[0;34m\u001b[0m\u001b[0m\n\u001b[1;32m   2117\u001b[0m \u001b[0;34m\u001b[0m\u001b[0m\n",
      "\u001b[0;32m<decorator-gen-124>\u001b[0m in \u001b[0;36mcython\u001b[0;34m(self, line, cell)\u001b[0m\n",
      "\u001b[0;32m/home/quan/anaconda3/lib/python3.6/site-packages/IPython/core/magic.py\u001b[0m in \u001b[0;36m<lambda>\u001b[0;34m(f, *a, **k)\u001b[0m\n\u001b[1;32m    186\u001b[0m     \u001b[0;31m# but it's overkill for just that one bit of state.\u001b[0m\u001b[0;34m\u001b[0m\u001b[0;34m\u001b[0m\u001b[0m\n\u001b[1;32m    187\u001b[0m     \u001b[0;32mdef\u001b[0m \u001b[0mmagic_deco\u001b[0m\u001b[0;34m(\u001b[0m\u001b[0marg\u001b[0m\u001b[0;34m)\u001b[0m\u001b[0;34m:\u001b[0m\u001b[0;34m\u001b[0m\u001b[0m\n\u001b[0;32m--> 188\u001b[0;31m         \u001b[0mcall\u001b[0m \u001b[0;34m=\u001b[0m \u001b[0;32mlambda\u001b[0m \u001b[0mf\u001b[0m\u001b[0;34m,\u001b[0m \u001b[0;34m*\u001b[0m\u001b[0ma\u001b[0m\u001b[0;34m,\u001b[0m \u001b[0;34m**\u001b[0m\u001b[0mk\u001b[0m\u001b[0;34m:\u001b[0m \u001b[0mf\u001b[0m\u001b[0;34m(\u001b[0m\u001b[0;34m*\u001b[0m\u001b[0ma\u001b[0m\u001b[0;34m,\u001b[0m \u001b[0;34m**\u001b[0m\u001b[0mk\u001b[0m\u001b[0;34m)\u001b[0m\u001b[0;34m\u001b[0m\u001b[0m\n\u001b[0m\u001b[1;32m    189\u001b[0m \u001b[0;34m\u001b[0m\u001b[0m\n\u001b[1;32m    190\u001b[0m         \u001b[0;32mif\u001b[0m \u001b[0mcallable\u001b[0m\u001b[0;34m(\u001b[0m\u001b[0marg\u001b[0m\u001b[0;34m)\u001b[0m\u001b[0;34m:\u001b[0m\u001b[0;34m\u001b[0m\u001b[0m\n",
      "\u001b[0;32m/home/quan/anaconda3/lib/python3.6/site-packages/Cython/Build/IpythonMagic.py\u001b[0m in \u001b[0;36mcython\u001b[0;34m(self, line, cell)\u001b[0m\n\u001b[1;32m    292\u001b[0m             \u001b[0mself\u001b[0m\u001b[0;34m.\u001b[0m\u001b[0m_code_cache\u001b[0m\u001b[0;34m[\u001b[0m\u001b[0mkey\u001b[0m\u001b[0;34m]\u001b[0m \u001b[0;34m=\u001b[0m \u001b[0mmodule_name\u001b[0m\u001b[0;34m\u001b[0m\u001b[0m\n\u001b[1;32m    293\u001b[0m \u001b[0;34m\u001b[0m\u001b[0m\n\u001b[0;32m--> 294\u001b[0;31m         \u001b[0mmodule\u001b[0m \u001b[0;34m=\u001b[0m \u001b[0mimp\u001b[0m\u001b[0;34m.\u001b[0m\u001b[0mload_dynamic\u001b[0m\u001b[0;34m(\u001b[0m\u001b[0mmodule_name\u001b[0m\u001b[0;34m,\u001b[0m \u001b[0mmodule_path\u001b[0m\u001b[0;34m)\u001b[0m\u001b[0;34m\u001b[0m\u001b[0m\n\u001b[0m\u001b[1;32m    295\u001b[0m         \u001b[0mself\u001b[0m\u001b[0;34m.\u001b[0m\u001b[0m_import_all\u001b[0m\u001b[0;34m(\u001b[0m\u001b[0mmodule\u001b[0m\u001b[0;34m)\u001b[0m\u001b[0;34m\u001b[0m\u001b[0m\n\u001b[1;32m    296\u001b[0m \u001b[0;34m\u001b[0m\u001b[0m\n",
      "\u001b[0;32m/home/quan/anaconda3/lib/python3.6/imp.py\u001b[0m in \u001b[0;36mload_dynamic\u001b[0;34m(name, path, file)\u001b[0m\n\u001b[1;32m    340\u001b[0m         spec = importlib.machinery.ModuleSpec(\n\u001b[1;32m    341\u001b[0m             name=name, loader=loader, origin=path)\n\u001b[0;32m--> 342\u001b[0;31m         \u001b[0;32mreturn\u001b[0m \u001b[0m_load\u001b[0m\u001b[0;34m(\u001b[0m\u001b[0mspec\u001b[0m\u001b[0;34m)\u001b[0m\u001b[0;34m\u001b[0m\u001b[0m\n\u001b[0m\u001b[1;32m    343\u001b[0m \u001b[0;34m\u001b[0m\u001b[0m\n\u001b[1;32m    344\u001b[0m \u001b[0;32melse\u001b[0m\u001b[0;34m:\u001b[0m\u001b[0;34m\u001b[0m\u001b[0m\n",
      "\u001b[0;32m/home/quan/anaconda3/lib/python3.6/importlib/_bootstrap.py\u001b[0m in \u001b[0;36m_load\u001b[0;34m(spec)\u001b[0m\n",
      "\u001b[0;32m/home/quan/anaconda3/lib/python3.6/importlib/_bootstrap.py\u001b[0m in \u001b[0;36m_load_unlocked\u001b[0;34m(spec)\u001b[0m\n",
      "\u001b[0;32m/home/quan/anaconda3/lib/python3.6/importlib/_bootstrap.py\u001b[0m in \u001b[0;36mmodule_from_spec\u001b[0;34m(spec)\u001b[0m\n",
      "\u001b[0;32m/home/quan/anaconda3/lib/python3.6/importlib/_bootstrap_external.py\u001b[0m in \u001b[0;36mcreate_module\u001b[0;34m(self, spec)\u001b[0m\n",
      "\u001b[0;32m/home/quan/anaconda3/lib/python3.6/importlib/_bootstrap.py\u001b[0m in \u001b[0;36m_call_with_frames_removed\u001b[0;34m(f, *args, **kwds)\u001b[0m\n",
      "\u001b[0;32m_cython_magic_45a1a55d85b49feab7f8f16eedd939e0.pyx\u001b[0m in \u001b[0;36minit _cython_magic_45a1a55d85b49feab7f8f16eedd939e0 (/home/quan/.cache/ipython/cython/_cython_magic_45a1a55d85b49feab7f8f16eedd939e0.c:15138)\u001b[0;34m()\u001b[0m\n",
      "\u001b[0;32mstringsource\u001b[0m in \u001b[0;36mView.MemoryView.memoryview_cwrapper (/home/quan/.cache/ipython/cython/_cython_magic_45a1a55d85b49feab7f8f16eedd939e0.c:7956)\u001b[0;34m()\u001b[0m\n",
      "\u001b[0;32mstringsource\u001b[0m in \u001b[0;36mView.MemoryView.memoryview.__cinit__ (/home/quan/.cache/ipython/cython/_cython_magic_45a1a55d85b49feab7f8f16eedd939e0.c:4191)\u001b[0;34m()\u001b[0m\n",
      "\u001b[0;31mTypeError\u001b[0m: a bytes-like object is required, not 'list'"
     ]
    }
   ],
   "source": [
    "%%cython\n",
    "#from cython.view cimport array as cvarray\n",
    "import numpy as np\n",
    "\n",
    "cpdef index_from_path(int[:] path):\n",
    "    cdef int n = len(path)\n",
    "    cdef int base = (4**n-1)//3\n",
    "    cdef int sub = 0\n",
    "    for i in range(n):\n",
    "        assert path[i] >=0 and path[i] < 4\n",
    "        sub = sub*4 + path[i]\n",
    "    return base+sub\n",
    "\n",
    "cpdef path_from_index(int index):\n",
    "    cdef n = 0\n",
    "    cdef base = 0\n",
    "    while True:\n",
    "        n += 1\n",
    "        next_base = (4**n-1)//3\n",
    "        if next_base > index: break\n",
    "        base = next_base\n",
    "    n = n-1    \n",
    "    sub = index - base\n",
    "    path = []\n",
    "    while len(path) < n:\n",
    "        i = sub % 4\n",
    "        path.append(i)\n",
    "        sub = sub // 4\n",
    "    return path[::-1]\n",
    "    \n",
    "\n",
    "path = np.array([0,1,3,2], dtype=np.dtype(\"i\"))\n",
    "cdef int [:] c_path = path\n",
    "i = index_from_path(c_path)\n",
    "print(i)\n",
    "p = path_from_index(i)\n",
    "print(p)\n",
    "i = index_from_path(p)\n",
    "print(i)\n",
    "p = path_from_index(i)\n",
    "print(p)"
   ]
  },
  {
   "cell_type": "code",
   "execution_count": null,
   "metadata": {
    "collapsed": true
   },
   "outputs": [],
   "source": []
  }
 ],
 "metadata": {
  "kernelspec": {
   "display_name": "Python 3",
   "language": "python",
   "name": "python3"
  },
  "language_info": {
   "codemirror_mode": {
    "name": "ipython",
    "version": 3
   },
   "file_extension": ".py",
   "mimetype": "text/x-python",
   "name": "python",
   "nbconvert_exporter": "python",
   "pygments_lexer": "ipython3",
   "version": "3.6.0"
  }
 },
 "nbformat": 4,
 "nbformat_minor": 2
}
