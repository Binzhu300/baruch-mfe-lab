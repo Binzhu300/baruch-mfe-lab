{
 "cells": [
  {
   "cell_type": "markdown",
   "metadata": {},
   "source": [
    "## MTH9899 Machine Learning \n",
    "### Assignment 1\n",
    "#### Name: ShengQuan Zhou"
   ]
  },
  {
   "cell_type": "markdown",
   "metadata": {},
   "source": [
    "### Problem 1\n",
    "\n",
    "In class, we spoke about the time complexity for multiplying matrices. Ignoring\n",
    "more sophisticated algorithms, like the Strassen algorithm, multiplying an $a \\times b$ matrix\n",
    "by a $b \\times c$ matrix takes $O(abc)$. As we did in class, please work out the time complexity\n",
    "of computing a naive $K$-Fold Cross Validation Ridge Regression on an $N \\times F$ input\n",
    "matrix."
   ]
  },
  {
   "cell_type": "markdown",
   "metadata": {},
   "source": [
    "#### Solution:\n",
    "\n",
    "The estimate of Ridge regression reads\n",
    "$$\n",
    "\\hat{y} = X\\left( X^TX + \\lambda\\mathbb{1} \\right)^{-1}X^T y,\n",
    "$$\n",
    "where $X$ is an $N\\times F$ input matrix, $y$ is the $N\\times 1$ output vector, and $\\hat{y}$ is the $N\\times 1$ estimated output vector.\n",
    "\n",
    "For a $K$-fold cross validation, the rows of the input matrix $X$ is divided into $K$ chunks, each chunk has size $\\frac{N}{K}$ rows and $F$ columns. Removing each chunk from the input matrix, the training input matrix $X'$ has $N(1-\\frac{1}{K})$ rows and $F$ columns. Computing the estimated output $\n",
    "\\hat{y}' = X'\\left( X'^TX' + \\lambda\\mathbb{1} \\right)^{-1}X'^T y'$ takes a few steps:\n",
    "\n",
    "- computing $X'^T y'$ takes $FN(1-\\frac{1}{K})$ operations, resulting in a vector of size $F$;\n",
    "- computing $X'^TX' + \\lambda\\mathbb{1}$ takes $F^2 N(1-\\frac{1}{K}) + F$ operations, resulting in a matrix of size $F\\times F$;\n",
    "- computing $\\left( X'^TX' + \\lambda\\mathbb{1} \\right)^{-1}X'^T y'$ requires solving a symmetric positive-definite linear system and takes roughly $\\frac{1}{3}F^3 + \\frac{5}{2}F^2 + O(F)$, according to NLA Primer, resulting in a vector of size $F$;\n",
    "- computing $X'\\left( X'^TX' + \\lambda\\mathbb{1} \\right)^{-1}X'^T y'$ takes $FN(1-\\frac{1}{K})$ operations, resulting in a vector of size $N(1-\\frac{1}{K})$.\n",
    "\n",
    "Adding all the above steps together, we get $F^2 N (1-\\frac{1}{K}) + 2FN (1-\\frac{1}{K}) + \\frac{1}{3}F^3 + \\frac{5}{2}F^2 + O(F)$ for each Ridge regression. Performing the above Ridge regression $K$ times, we get an operation count\n",
    "$$\n",
    "F^2 N (K-1) + 2FN (K-1) + \\frac{1}{3}F^3K + \\frac{5}{2}F^2K + O(F\\times K).\n",
    "$$\n",
    "As $N\\gg 1$, the terms of leading order are $(K-1)(F^2+F)N$."
   ]
  },
  {
   "cell_type": "markdown",
   "metadata": {},
   "source": [
    "### Problem 2\n",
    "\n",
    "We can be more efficient. In particular, we don’t have to compute $(X^TX)^{-1}$ completely each time. In particular, if you break up $X$ into $K$ chunks, there is a faster way.\n",
    "$$\n",
    "X = \\begin{bmatrix}\n",
    "X_1\\\\\n",
    "X_2\\\\\n",
    "\\vdots\\\\\n",
    "X_K\n",
    "\\end{bmatrix},\n",
    "$$\n",
    "then\n",
    "$$\n",
    "X^T X = \\begin{bmatrix}\n",
    "X_1^T\\ \n",
    "X_2^T\\ \n",
    "\\cdots X_K^T\\ \n",
    "\\end{bmatrix}\\times \\begin{bmatrix}\n",
    "X_1\\\\\n",
    "X_2\\\\\n",
    "\\vdots\\\\\n",
    "X_K\n",
    "\\end{bmatrix}\n",
    "= \\sum _ {i=1}^K X_i^TX_i.\n",
    "$$\n",
    "Define $X _ {-i}$ as $X$ with the ith fold omitted. Given these hints, write a description\n",
    "of how you can efficiently compute $X _ {−i}^TX _ {−i}$ for all $K$ folds."
   ]
  },
  {
   "cell_type": "markdown",
   "metadata": {},
   "source": [
    "#### Solution:\n",
    "\n",
    "Each $X_i$ is a matrix of $\\frac{N}{K}$ rows and $F$ columns. One can compute the matrix terms $X_i^TX_i, i=1,\\cdots,K$ separately, each taking $F^2\\frac{N}{K}$ operations and resulting in an $F\\times F$ matrix. Thus, computing $X^TX$ takes $F^2 N+\\frac{1}{2}F^2(K-1)$ operations in total, where the latter term $\\frac{1}{2}F^2(K-1)$ comes from adding $K$ number of $F\\times F$ symmetric matrices together.\n",
    "\n",
    "We can gain some efficiency by saving the matrix terms $X_k^TX_k, k=1,\\cdots,K$. One can then compute $X _ {−i}^TX _ {−i}$ by subtracting $X _ {i}^TX _ {i}$ from $\\sum _ {j=1}^K X_j^TX_j$, which each takes $\\frac{1}{2}F^2$. Again, the approximate factor $\\frac{1}{2}$ comes from the fact that all matrices involved are symmetric. Using this approach, the total operation count is\n",
    "$$\n",
    "F^2 N + 2FN(K-1) + \\frac{1}{3}F^3 K + \\frac{1}{2}F^2(7K-1) + O(FK).\n",
    "$$\n",
    "As $N\\gg 1$, the terms of leading order are $(F^2  + 2F(K-1))N$.\n",
    "\n",
    "To compare with the naive $K$-fold cross validation discussed in the previous problem, we consider the case $K\\gg 1$, the leading terms\n",
    "- Naive implementation: $K(F^2+F)N\\sim O(F^2 K N) + O(FKN)$;\n",
    "- Efficient implementation: $\\sim (F^2  + 2FK)N \\sim O(F^2 N) + O(FKN)$.\n",
    "\n",
    "A difference of factor $K$ is observed in the leading term proportional to $F^2N$."
   ]
  },
  {
   "cell_type": "markdown",
   "metadata": {
    "collapsed": true
   },
   "source": [
    "### Problem 3"
   ]
  },
  {
   "cell_type": "code",
   "execution_count": 1,
   "metadata": {
    "collapsed": true
   },
   "outputs": [],
   "source": [
    "import numpy as np\n",
    "import time"
   ]
  },
  {
   "cell_type": "code",
   "execution_count": 2,
   "metadata": {},
   "outputs": [],
   "source": [
    "naive_total_timing_results = {}\n",
    "fast_total_timing_results = {}\n",
    "naive_partial_timing_results = {}\n",
    "fast_partial_timing_results = {}\n",
    "\n",
    "def timeit(method):\n",
    "    \"\"\" A timing decorator \"\"\"\n",
    "\n",
    "    def timed(*args, **kw):\n",
    "        ts = time.time()\n",
    "        result = method(*args, **kw)\n",
    "        te = time.time()\n",
    "        \n",
    "        nrows = np.size(args[0], 0)\n",
    "        ncols = np.size(args[0], 1)\n",
    "        F_N_tuple = (ncols, nrows)\n",
    "        \n",
    "        print(method.__name__, \":\", \"%.6f\" % (te-ts), ' sec')\n",
    "        \n",
    "        if method.__name__ == \"naive_compute_XTX_XTY\":\n",
    "            naive_partial_timing_results[F_N_tuple] = (te-ts)\n",
    "        elif method.__name__ == \"fast_compute_XTX_XTY\":\n",
    "            fast_partial_timing_results[F_N_tuple] = (te-ts)\n",
    "        elif method.__name__ == \"naive_ridge_cv\":\n",
    "            naive_total_timing_results[F_N_tuple] = (te-ts)\n",
    "        elif method.__name__ == \"fast_ridge_cv\":\n",
    "            fast_total_timing_results[F_N_tuple] = (te-ts)\n",
    "        \n",
    "        return result\n",
    "\n",
    "    return timed"
   ]
  },
  {
   "cell_type": "code",
   "execution_count": 3,
   "metadata": {
    "collapsed": true
   },
   "outputs": [],
   "source": [
    "def generate_test_data(n,f):\n",
    "    np.random.seed(1)\n",
    "    true_betas = np.random.randn(f)\n",
    "    \n",
    "    X = np.random.randn(n,f)\n",
    "    Y = np.random.randn(n) + X.dot(true_betas)\n",
    "    \n",
    "    return (X,Y)"
   ]
  },
  {
   "cell_type": "code",
   "execution_count": 4,
   "metadata": {
    "collapsed": true
   },
   "outputs": [],
   "source": [
    "@timeit\n",
    "def ridge_cv_helper(X, Y, XTX_train_list, XTY_train_list, num_folds, lambdas):\n",
    "    \"\"\" A helper function for Ridge regression of X against Y. \n",
    "        It will take in a list of suggested lambda values, the prepared\n",
    "        list of matrices XTX and vectors XTY over the training sets and \n",
    "        return back the lambda. This is a common code used by both\n",
    "        the naive version and the fast version of ridge cross-validation.\n",
    "        \n",
    "        Parameters\n",
    "        ----------\n",
    "        X : numpy ndarray\n",
    "            The independent variables, structured as (samples x features)\n",
    "        Y : numpy ndarray\n",
    "            The dependent variable (samples x 1)\n",
    "        XTX_train_list: list of numpy ndarray\n",
    "            The matrix-matrix products of X-transpose and X over the training sets\n",
    "        XTY_train_list: list of numpy ndarray\n",
    "            The matrix-vecotr products of X-transpose and Y over the training sets\n",
    "        num_folds : int\n",
    "            The number of folds to use for cross validation\n",
    "        lambdas : numpy ndarray\n",
    "            An array of lambda values to test\n",
    "           \n",
    "        Returns\n",
    "        -------\n",
    "        lambda_star : float\n",
    "                The lambda value that represents the min MSE\n",
    "        \"\"\"\n",
    "    \n",
    "    num_rows = np.size(X,0)\n",
    "    num_cols = np.size(X,1)\n",
    "    chunk_size = int(num_rows/num_folds)\n",
    "    \n",
    "    min_error_initialized = False\n",
    "    min_error = 0\n",
    "    optimal_lambda = 0\n",
    "    for Lambda in lambdas:\n",
    "        total_error = 0\n",
    "        for i in range(num_folds):\n",
    "            XTX_train = XTX_train_list[i]\n",
    "            XTY_train = XTY_train_list[i]\n",
    "            beta = np.linalg.solve(XTX_train+Lambda*np.identity(num_cols), XTY_train)\n",
    "            X_test = X[i*chunk_size : (i+1)*chunk_size]\n",
    "            Y_test = Y[i*chunk_size : (i+1)*chunk_size]\n",
    "            Y_estimated = X_test.dot(beta)\n",
    "            error = np.linalg.norm(Y_estimated-Y_test)\n",
    "            error *= error\n",
    "            total_error += error\n",
    "            \n",
    "        # find the lambda for minimum MSE\n",
    "        if not min_error_initialized:\n",
    "            min_error = total_error\n",
    "            optimal_lambda = Lambda\n",
    "            min_error_initialized = True\n",
    "        else:\n",
    "            if total_error < min_error:\n",
    "                min_error = total_error\n",
    "                optimal_lambda = Lambda\n",
    "        \n",
    "    return optimal_lambda"
   ]
  },
  {
   "cell_type": "code",
   "execution_count": 5,
   "metadata": {
    "collapsed": true
   },
   "outputs": [],
   "source": [
    "@timeit\n",
    "def naive_compute_XTX_XTY(X, Y, num_folds):\n",
    "    \"\"\" A helper function for Ridge regression of X against Y. \n",
    "        This is the naive way to compute XTX and XTY over the training set.\n",
    "        It will take in the input matrix and the output vector and\n",
    "        return the list of matrices XTX and vectors XTY over the training sets.\n",
    "        This will be called in naive_ridge_cv.\n",
    "        \n",
    "        Parameters\n",
    "        ----------\n",
    "        X : numpy ndarray\n",
    "            The independent variables, structured as (samples x features)\n",
    "        Y : numpy ndarray\n",
    "            The dependent variable (samples x 1)\n",
    "        num_folds : int\n",
    "            The number of folds to use for cross validation\n",
    "           \n",
    "        Returns\n",
    "        -------\n",
    "        XTX_train_list: list of numpy ndarray\n",
    "            The matrix-matrix products of X-transpose and X over the training sets\n",
    "        XTY_train_list: list of numpy ndarray\n",
    "            The matrix-vecotr products of X-transpose and Y over the training sets\n",
    "        \"\"\"\n",
    "    \n",
    "    num_rows = np.size(X,0)\n",
    "    chunk_size = int(num_rows/num_folds)\n",
    "    \n",
    "    XTY_train_list = []\n",
    "    XTX_train_list = []\n",
    "    for i in range(num_folds):\n",
    "        X_train = np.delete(X, np.s_[i*chunk_size : (i+1)*chunk_size], 0)\n",
    "        Y_train = np.delete(Y, np.s_[i*chunk_size : (i+1)*chunk_size], 0)\n",
    "        XTY_train = (X_train.T).dot(Y_train)\n",
    "        XTX_train = (X_train.T).dot(X_train)\n",
    "        XTY_train_list.append(XTY_train)\n",
    "        XTX_train_list.append(XTX_train)\n",
    "        \n",
    "    return (XTX_train_list, XTY_train_list)"
   ]
  },
  {
   "cell_type": "code",
   "execution_count": 6,
   "metadata": {
    "collapsed": true
   },
   "outputs": [],
   "source": [
    "@timeit\n",
    "def fast_compute_XTX_XTY(X, Y, num_folds):\n",
    "    \"\"\" A helper function for Ridge regression of X against Y. \n",
    "        This is the fast way to compute XTX and XTY over the training set.\n",
    "        It will take in the input matrix and the output vector and\n",
    "        return the list of matrices XTX and vectors XTY over the training sets.\n",
    "        It will also return the matrix XTX and the vector XTY over the complete set.\n",
    "        This will be called in fast_ridge_cv.\n",
    "        \n",
    "        Parameters\n",
    "        ----------\n",
    "        X : numpy ndarray\n",
    "            The independent variables, structured as (samples x features)\n",
    "        Y : numpy ndarray\n",
    "            The dependent variable (samples x 1)\n",
    "        num_folds : int\n",
    "            The number of folds to use for cross validation\n",
    "           \n",
    "        Returns\n",
    "        -------\n",
    "        XTX: numpy ndarray\n",
    "            The matrix-matrix products of X-transpose and X\n",
    "        XTY: numpy ndarray\n",
    "             The matrix-vecotr products of X-transpose and Y\n",
    "        XTX_train_list: list of numpy ndarray\n",
    "            The matrix-matrix products of X-transpose and X over the training sets\n",
    "        XTY_train_list: list of numpy ndarray\n",
    "            The matrix-vecotr products of X-transpose and Y over the training sets\n",
    "        \"\"\"\n",
    "    \n",
    "    num_rows = np.size(X,0)\n",
    "    chunk_size = int(num_rows/num_folds)\n",
    "    \n",
    "    XTY = (X.T).dot(Y)\n",
    "    XTX = (X.T).dot(X)\n",
    "    \n",
    "    # Save a copy of X.T.X and X.T.Y to avoid duplicated computation for each lambda\n",
    "    XTY_train_list = []\n",
    "    XTX_train_list = []\n",
    "    for i in range(num_folds):\n",
    "        # The fast way to compute XTX and XTY over the training set\n",
    "        X_test = X[i*chunk_size : (i+1)*chunk_size]\n",
    "        Y_test = Y[i*chunk_size : (i+1)*chunk_size]\n",
    "        XTY_test = (X_test.T).dot(Y_test)\n",
    "        XTX_test = (X_test.T).dot(X_test)\n",
    "        XTY_train = XTY - XTY_test\n",
    "        XTX_train = XTX - XTX_test\n",
    "        XTY_train_list.append(XTY_train)\n",
    "        XTX_train_list.append(XTX_train)\n",
    "        \n",
    "    return (XTX, XTY, XTX_train_list, XTY_train_list)"
   ]
  },
  {
   "cell_type": "code",
   "execution_count": 7,
   "metadata": {},
   "outputs": [],
   "source": [
    "@timeit\n",
    "def naive_ridge_cv(X, Y, num_folds, lambdas):\n",
    "    \"\"\" Implements a naive (i.e. slow) Ridge regression of X against Y. \n",
    "        It will take in a list of suggested lambda values and return back\n",
    "        the lambda and betas that generates minimum squared error.\n",
    "        \n",
    "        Parameters\n",
    "        ----------\n",
    "        X : numpy ndarray\n",
    "            The independent variables, structured as (samples x features)\n",
    "        Y : numpy ndarray\n",
    "            The dependent variable (samples x 1)\n",
    "        num_folds : int\n",
    "            The number of folds to use for cross validation\n",
    "        lambdas : numpy ndarray\n",
    "            An array of lambda values to test\n",
    "           \n",
    "        Returns\n",
    "        -------\n",
    "        lambda_star : float\n",
    "                The lambda value that represents the min MSE\n",
    "        beta_star : numpy ndarray\n",
    "                The optimal betas\n",
    "        \"\"\"\n",
    "\n",
    "    # Save a copy of X.T.X and X.T.Y to avoid duplicated computation for each lambda\n",
    "    (XTX_train_list, XTY_train_list) = naive_compute_XTX_XTY(X, Y, num_folds)\n",
    "        \n",
    "    # look for each lambda value\n",
    "    optimal_lambda = ridge_cv_helper(X, Y, XTX_train_list, XTY_train_list, num_folds, lambdas)\n",
    "                \n",
    "    # compute the optimal betas using the complete input\n",
    "    XTY = (X.T).dot(Y)\n",
    "    XTX = (X.T).dot(X)\n",
    "    \n",
    "    num_cols = np.size(X,1)\n",
    "    optimal_beta = np.linalg.solve(XTX+optimal_lambda*np.identity(num_cols), XTY)\n",
    "    \n",
    "    return (optimal_lambda, optimal_beta)"
   ]
  },
  {
   "cell_type": "code",
   "execution_count": 8,
   "metadata": {
    "collapsed": true
   },
   "outputs": [],
   "source": [
    "@timeit\n",
    "def fast_ridge_cv(X, Y, num_folds, lambdas):\n",
    "    \"\"\" Implements a fast Ridge regression of X against Y. \n",
    "        It will take in a list of suggested lambda values and return back\n",
    "        the lambda and betas that generates minimum squared error.\n",
    "        \n",
    "        Parameters\n",
    "        ----------\n",
    "        X : numpy ndarray\n",
    "            The independent variables, structured as (samples x features)\n",
    "        Y : numpy ndarray\n",
    "            The dependent variable (samples x 1)\n",
    "        num_folds : int\n",
    "            The number of folds to use for cross validation\n",
    "        lambdas : numpy ndarray\n",
    "            An array of lambda values to test\n",
    "           \n",
    "        Returns\n",
    "        -------\n",
    "        lambda_star : float\n",
    "                The lambda value that represents the min MSE\n",
    "        beta_star : numpy ndarray\n",
    "                The optimal betas\n",
    "        \"\"\"\n",
    "    \n",
    "    num_rows = np.size(X,0)\n",
    "    num_cols = np.size(X,1)\n",
    "    chunk_size = int(num_rows/num_folds)\n",
    "    \n",
    "    # Save a copy of X.T.X and X.T.Y to avoid duplicated computation for each lambda\n",
    "    (XTX, XTY, XTX_train_list, XTY_train_list) = fast_compute_XTX_XTY(X, Y, num_folds)\n",
    "        \n",
    "    # look for each lambda value\n",
    "    optimal_lambda = ridge_cv_helper(X, Y, XTX_train_list, XTY_train_list, num_folds, lambdas)\n",
    "                \n",
    "    # compute the optimal betas using the complete input\n",
    "    optimal_beta = np.linalg.solve(XTX+optimal_lambda*np.identity(num_cols), XTY)\n",
    "        \n",
    "    return (optimal_lambda, optimal_beta)"
   ]
  },
  {
   "cell_type": "code",
   "execution_count": 9,
   "metadata": {
    "scrolled": false
   },
   "outputs": [
    {
     "name": "stdout",
     "output_type": "stream",
     "text": [
      "Naive way:\n",
      "~~~~~~\n",
      "F = 5 , N = 1000\n",
      "------\n",
      "naive_compute_XTX_XTY : 0.002746  sec\n",
      "ridge_cv_helper : 0.013362  sec\n",
      "naive_ridge_cv : 0.017086  sec\n",
      "------\n",
      "Optimal lambda =  1.2\n",
      "======\n",
      "F = 5 , N = 10000\n",
      "------\n",
      "naive_compute_XTX_XTY : 0.002158  sec\n",
      "ridge_cv_helper : 0.006608  sec\n",
      "naive_ridge_cv : 0.010121  sec\n",
      "------\n",
      "Optimal lambda =  0.9\n",
      "======\n",
      "F = 5 , N = 100000\n",
      "------\n",
      "naive_compute_XTX_XTY : 0.024142  sec\n",
      "ridge_cv_helper : 0.010868  sec\n",
      "naive_ridge_cv : 0.037698  sec\n",
      "------\n",
      "Optimal lambda =  1.2\n",
      "======\n",
      "F = 5 , N = 1000000\n",
      "------\n",
      "naive_compute_XTX_XTY : 0.273132  sec\n",
      "ridge_cv_helper : 0.069072  sec\n",
      "naive_ridge_cv : 0.359189  sec\n",
      "------\n",
      "Optimal lambda =  0.6\n",
      "======\n",
      "F = 50 , N = 1000\n",
      "------\n",
      "naive_compute_XTX_XTY : 0.002565  sec\n",
      "ridge_cv_helper : 0.016575  sec\n",
      "naive_ridge_cv : 0.020505  sec\n",
      "------\n",
      "Optimal lambda =  1.2\n",
      "======\n",
      "F = 50 , N = 10000\n",
      "------\n",
      "naive_compute_XTX_XTY : 0.025449  sec\n",
      "ridge_cv_helper : 0.014203  sec\n",
      "naive_ridge_cv : 0.042597  sec\n",
      "------\n",
      "Optimal lambda =  0.9\n",
      "======\n",
      "F = 50 , N = 100000\n",
      "------\n",
      "naive_compute_XTX_XTY : 0.292646  sec\n",
      "ridge_cv_helper : 0.047642  sec\n",
      "naive_ridge_cv : 0.361207  sec\n",
      "------\n",
      "Optimal lambda =  1.2\n",
      "======\n",
      "F = 50 , N = 1000000\n",
      "------\n",
      "naive_compute_XTX_XTY : 2.797708  sec\n",
      "ridge_cv_helper : 0.406326  sec\n",
      "naive_ridge_cv : 3.322930  sec\n",
      "------\n",
      "Optimal lambda =  1.8\n",
      "======\n",
      "Fast way:\n",
      "~~~~~~\n",
      "F = 5 , N = 1000\n",
      "------\n",
      "fast_compute_XTX_XTY : 0.000173  sec\n",
      "ridge_cv_helper : 0.004447  sec\n",
      "fast_ridge_cv : 0.005684  sec\n",
      "------\n",
      "Optimal lambda =  1.2\n",
      "======\n",
      "F = 5 , N = 10000\n",
      "------\n",
      "fast_compute_XTX_XTY : 0.000342  sec\n",
      "ridge_cv_helper : 0.003945  sec\n",
      "fast_ridge_cv : 0.005232  sec\n",
      "------\n",
      "Optimal lambda =  0.9\n",
      "======\n",
      "F = 5 , N = 100000\n",
      "------\n",
      "fast_compute_XTX_XTY : 0.002966  sec\n",
      "ridge_cv_helper : 0.007766  sec\n",
      "fast_ridge_cv : 0.011963  sec\n",
      "------\n",
      "Optimal lambda =  1.2\n",
      "======\n",
      "F = 5 , N = 1000000\n",
      "------\n",
      "fast_compute_XTX_XTY : 0.029695  sec\n",
      "ridge_cv_helper : 0.061170  sec\n",
      "fast_ridge_cv : 0.092168  sec\n",
      "------\n",
      "Optimal lambda =  0.6\n",
      "======\n",
      "F = 50 , N = 1000\n",
      "------\n",
      "fast_compute_XTX_XTY : 0.000405  sec\n",
      "ridge_cv_helper : 0.007457  sec\n",
      "fast_ridge_cv : 0.008993  sec\n",
      "------\n",
      "Optimal lambda =  1.2\n",
      "======\n",
      "F = 50 , N = 10000\n",
      "------\n",
      "fast_compute_XTX_XTY : 0.002159  sec\n",
      "ridge_cv_helper : 0.009847  sec\n",
      "fast_ridge_cv : 0.013301  sec\n",
      "------\n",
      "Optimal lambda =  0.9\n",
      "======\n",
      "F = 50 , N = 100000\n",
      "------\n",
      "fast_compute_XTX_XTY : 0.023117  sec\n",
      "ridge_cv_helper : 0.040828  sec\n",
      "fast_ridge_cv : 0.065380  sec\n",
      "------\n",
      "Optimal lambda =  1.2\n",
      "======\n",
      "F = 50 , N = 1000000\n",
      "------\n",
      "fast_compute_XTX_XTY : 0.333129  sec\n",
      "ridge_cv_helper : 0.586313  sec\n",
      "fast_ridge_cv : 0.921350  sec\n",
      "------\n",
      "Optimal lambda =  1.8\n",
      "======\n"
     ]
    }
   ],
   "source": [
    "num_folds = 10\n",
    "N_list = [1000, 10000, 100000, 1000000]\n",
    "F_list = [5, 50]\n",
    "min_lambda = 0\n",
    "max_lambda = 3\n",
    "num_lambdas = 10\n",
    "Lambda_list = np.arange(min_lambda, max_lambda, (max_lambda-min_lambda)/num_lambdas)\n",
    "\n",
    "print(\"Naive way:\")\n",
    "print(\"~~~~~~\")\n",
    "# number of columns, or features\n",
    "for F in F_list:\n",
    "    # number of rows, or observations\n",
    "    for N in N_list:\n",
    "        print(\"F =\", F, \", N =\", N)\n",
    "        print(\"------\")\n",
    "        (X,Y) = generate_test_data(N,F)\n",
    "        (optimal_lambda, optimal_beta) = naive_ridge_cv(X, Y, num_folds, Lambda_list)\n",
    "        print(\"------\")\n",
    "        print(\"Optimal lambda = \", np.round(optimal_lambda, 3)) \n",
    "        print(\"======\")\n",
    "        \n",
    "print(\"Fast way:\")\n",
    "print(\"~~~~~~\")\n",
    "# number of columns, or features\n",
    "for F in F_list:\n",
    "    # number of rows, or observations\n",
    "    for N in N_list:\n",
    "        print(\"F =\", F, \", N =\", N)\n",
    "        print(\"------\")\n",
    "        (X,Y) = generate_test_data(N,F)\n",
    "        (optimal_lambda, optimal_beta) = fast_ridge_cv(X, Y, num_folds, Lambda_list)\n",
    "        print(\"------\")\n",
    "        print(\"Optimal lambda = \", np.round(optimal_lambda, 3))\n",
    "        print(\"======\")"
   ]
  },
  {
   "cell_type": "markdown",
   "metadata": {},
   "source": [
    "### Results\n",
    "\n",
    "#### The partial time consumed by computing the products of partial matrices over the training set."
   ]
  },
  {
   "cell_type": "code",
   "execution_count": 28,
   "metadata": {},
   "outputs": [],
   "source": [
    "naive_XTX_time_F_5 = [naive_partial_timing_results[(5, 1000)],\n",
    "                      naive_partial_timing_results[(5, 10000)],\n",
    "                      naive_partial_timing_results[(5, 100000)],\n",
    "                      naive_partial_timing_results[(5, 1000000)]]\n",
    "\n",
    "fast_XTX_time_F_5 = [fast_partial_timing_results[(5, 1000)],\n",
    "                     fast_partial_timing_results[(5, 10000)],\n",
    "                     fast_partial_timing_results[(5, 100000)],\n",
    "                     fast_partial_timing_results[(5, 1000000)]]\n",
    "\n",
    "naive_XTX_time_F_50 = [naive_partial_timing_results[(50, 1000)],\n",
    "                       naive_partial_timing_results[(50, 10000)],\n",
    "                       naive_partial_timing_results[(50, 100000)],\n",
    "                       naive_partial_timing_results[(50, 1000000)]]\n",
    "\n",
    "fast_XTX_time_F_50 = [fast_partial_timing_results[(50, 1000)],\n",
    "                      fast_partial_timing_results[(50, 10000)],\n",
    "                      fast_partial_timing_results[(50, 100000)],\n",
    "                      fast_partial_timing_results[(50, 1000000)]]        "
   ]
  },
  {
   "cell_type": "code",
   "execution_count": 29,
   "metadata": {},
   "outputs": [],
   "source": [
    "import matplotlib.pyplot as plt\n",
    "%matplotlib inline  "
   ]
  },
  {
   "cell_type": "code",
   "execution_count": 38,
   "metadata": {},
   "outputs": [
    {
     "data": {
      "text/plain": [
       "<matplotlib.legend.Legend at 0x7f191b7b66d8>"
      ]
     },
     "execution_count": 38,
     "metadata": {},
     "output_type": "execute_result"
    },
    {
     "data": {
      "image/png": "[encoded data removed]",
      "text/plain": [
       "<matplotlib.figure.Figure at 0x7f191b3fbcc0>"
      ]
     },
     "metadata": {},
     "output_type": "display_data"
    }
   ],
   "source": [
    "plt.ylabel('XTX computation time (sec)')\n",
    "plt.xlabel('N')\n",
    "plt.plot(N_list, naive_XTX_time_F_5, label='F=5, Naive', color='red')\n",
    "plt.plot(N_list, fast_XTX_time_F_5, label='F=5, Fast', color='blue')\n",
    "plt.plot(N_list, naive_XTX_time_F_50, label='F=50, Naive', color='gray')\n",
    "plt.plot(N_list, fast_XTX_time_F_50, label='F=50, Fast', color='black')\n",
    "plt.legend(bbox_to_anchor=(0., 1.02, 1., .102), loc=3,\n",
    "           ncol=2, mode=\"expand\", borderaxespad=0.)"
   ]
  },
  {
   "cell_type": "code",
   "execution_count": 39,
   "metadata": {},
   "outputs": [
    {
     "data": {
      "text/plain": [
       "<matplotlib.legend.Legend at 0x7f191b267e10>"
      ]
     },
     "execution_count": 39,
     "metadata": {},
     "output_type": "execute_result"
    },
    {
     "data": {
      "image/png": "[encoded data removed]",
      "text/plain": [
       "<matplotlib.figure.Figure at 0x7f191b3c2fd0>"
      ]
     },
     "metadata": {},
     "output_type": "display_data"
    }
   ],
   "source": [
    "plt.xscale('log')\n",
    "plt.yscale('log')\n",
    "plt.ylabel('XTX computation time (sec) log scale')\n",
    "plt.xlabel('N')\n",
    "plt.plot(N_list, naive_XTX_time_F_5, label='F=5, Naive', color='red')\n",
    "plt.plot(N_list, fast_XTX_time_F_5, label='F=5, Fast', color='blue')\n",
    "plt.plot(N_list, naive_XTX_time_F_50, label='F=50, Naive', color='gray')\n",
    "plt.plot(N_list, fast_XTX_time_F_50, label='F=50, Fast', color='black')\n",
    "plt.legend(bbox_to_anchor=(0., 1.02, 1., .102), loc=3,\n",
    "           ncol=2, mode=\"expand\", borderaxespad=0.)"
   ]
  },
  {
   "cell_type": "markdown",
   "metadata": {},
   "source": [
    "#### The total time of performing Ridge regression cross validation."
   ]
  },
  {
   "cell_type": "code",
   "execution_count": 44,
   "metadata": {},
   "outputs": [],
   "source": [
    "naive_total_time_F_5 = [naive_total_timing_results[(5, 1000)],\n",
    "                        naive_total_timing_results[(5, 10000)],\n",
    "                        naive_total_timing_results[(5, 100000)],\n",
    "                        naive_total_timing_results[(5, 1000000)]]\n",
    "\n",
    "fast_total_time_F_5 = [fast_total_timing_results[(5, 1000)],\n",
    "                       fast_total_timing_results[(5, 10000)],\n",
    "                       fast_total_timing_results[(5, 100000)],\n",
    "                       fast_total_timing_results[(5, 1000000)]]\n",
    "\n",
    "naive_total_time_F_50 = [naive_total_timing_results[(50, 1000)],\n",
    "                         naive_total_timing_results[(50, 10000)],\n",
    "                         naive_total_timing_results[(50, 100000)],\n",
    "                         naive_total_timing_results[(50, 1000000)]]\n",
    "\n",
    "fast_total_time_F_50 = [fast_total_timing_results[(50, 1000)],\n",
    "                        fast_total_timing_results[(50, 10000)],\n",
    "                        fast_total_timing_results[(50, 100000)],\n",
    "                        fast_total_timing_results[(50, 1000000)]] "
   ]
  },
  {
   "cell_type": "code",
   "execution_count": 46,
   "metadata": {
    "scrolled": true
   },
   "outputs": [
    {
     "data": {
      "text/plain": [
       "<matplotlib.legend.Legend at 0x7f191b300f60>"
      ]
     },
     "execution_count": 46,
     "metadata": {},
     "output_type": "execute_result"
    },
    {
     "data": {
      "image/png": "[encoded data removed]",
      "text/plain": [
       "<matplotlib.figure.Figure at 0x7f191b158208>"
      ]
     },
     "metadata": {},
     "output_type": "display_data"
    }
   ],
   "source": [
    "plt.ylabel('Total computation time (sec)')\n",
    "plt.xlabel('N')\n",
    "plt.plot(N_list, naive_total_time_F_5, label='F=5, Naive', color='red')\n",
    "plt.plot(N_list, fast_total_time_F_5, label='F=5, Fast', color='blue')\n",
    "plt.plot(N_list, naive_total_time_F_50, label='F=50, Naive', color='gray')\n",
    "plt.plot(N_list, fast_total_time_F_50, label='F=50, Fast', color='black')\n",
    "plt.legend(bbox_to_anchor=(0., 1.02, 1., .102), loc=3,\n",
    "           ncol=2, mode=\"expand\", borderaxespad=0.)"
   ]
  },
  {
   "cell_type": "code",
   "execution_count": 47,
   "metadata": {},
   "outputs": [
    {
     "data": {
      "text/plain": [
       "<matplotlib.legend.Legend at 0x7f191ae9a9e8>"
      ]
     },
     "execution_count": 47,
     "metadata": {},
     "output_type": "execute_result"
    },
    {
     "data": {
      "image/png": "[encoded data removed]",
      "text/plain": [
       "<matplotlib.figure.Figure at 0x7f191af1ce10>"
      ]
     },
     "metadata": {},
     "output_type": "display_data"
    }
   ],
   "source": [
    "plt.xscale('log')\n",
    "plt.yscale('log')\n",
    "plt.ylabel('XTX computation time (sec) log scale')\n",
    "plt.xlabel('N')\n",
    "plt.plot(N_list, naive_total_time_F_5, label='F=5, Naive', color='red')\n",
    "plt.plot(N_list, fast_total_time_F_5, label='F=5, Fast', color='blue')\n",
    "plt.plot(N_list, naive_total_time_F_50, label='F=50, Naive', color='gray')\n",
    "plt.plot(N_list, fast_total_time_F_50, label='F=50, Fast', color='black')\n",
    "plt.legend(bbox_to_anchor=(0., 1.02, 1., .102), loc=3,\n",
    "           ncol=2, mode=\"expand\", borderaxespad=0.)"
   ]
  },
  {
   "cell_type": "markdown",
   "metadata": {},
   "source": [
    "The numerical results showing the linear relationship between the computing time and the number of observations $N$, with slopes depending on the number of features $F$, agree with the theoretical estimate."
   ]
  }
 ],
 "metadata": {
  "kernelspec": {
   "display_name": "Python 3",
   "language": "python",
   "name": "python3"
  },
  "language_info": {
   "codemirror_mode": {
    "name": "ipython",
    "version": 3
   },
   "file_extension": ".py",
   "mimetype": "text/x-python",
   "name": "python",
   "nbconvert_exporter": "python",
   "pygments_lexer": "ipython3",
   "version": "3.6.0"
  }
 },
 "nbformat": 4,
 "nbformat_minor": 2
}
