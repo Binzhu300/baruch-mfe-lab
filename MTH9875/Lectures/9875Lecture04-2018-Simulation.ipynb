{
 "cells": [
  {
   "cell_type": "markdown",
   "metadata": {
    "slideshow": {
     "slide_type": "slide"
    }
   },
   "source": [
    "### MTH 9875 The Volatility Surface:    Fall 2018\n",
    "\n",
    "<p>\n",
    "\n",
    "### Lecture 4: Simulation of the Heston model\n",
    "\n",
    "Jim Gatheral   \n",
    "Department of Mathematics   \n",
    "  \n",
    "$$\n",
    "\\newcommand{\\Var}{\\mathop{Var}}\n",
    "$$\n",
    "\n",
    "\n",
    "\n",
    "  \n",
    "<h3><img src=\"http://mfe.baruch.cuny.edu/wp-content/uploads/2016/04/MFE-Logo.jpg\" align = \"right\" width=500></h3>\n",
    "\n",
    "\n",
    " $$\n",
    "\\newcommand{\\bea}{\\begin{eqnarray}}\n",
    "\\newcommand{\\eea}{\\end{eqnarray}}\n",
    "\\newcommand{\\beas}{\\begin{eqnarray*}}\n",
    "\\newcommand{\\eeas}{\\end{eqnarray*}}\n",
    "\\newcommand{\\supp}{\\mathrm{supp}}\n",
    "\\newcommand{\\E}{\\mathbb{E} }\n",
    "\\def\\Cov{{ \\mbox{Cov} }}\n",
    "\\def\\Var{{ \\mbox{Var} }}\n",
    "\\newcommand{\\1}{\\mathbf{1} }\n",
    "\\newcommand{\\cF}{\\mathcal{F} }\n",
    "\\newcommand{\\PP}{\\mathbb{P} }\n",
    "\\newcommand{\\QQ}{\\mathbb{Q} }\n",
    "\\newcommand{\\RR}{\\mathbb{R} }\n",
    "\\newcommand{\\DD}{\\mathbb{D} }\n",
    "\\newcommand{\\HH}{\\mathbb{H} }\n",
    "\\newcommand{\\spn}{\\mathrm{span} }\n",
    "\\newcommand{\\cov}{\\mathrm{cov} }\n",
    "\\newcommand{\\HS}{\\mathcal{L}_{\\mathrm{HS}} }\n",
    "\\newcommand{\\trace}{\\mathrm{trace} }\n",
    "\\newcommand{\\LL}{\\mathcal{L} }\n",
    "\\newcommand{\\s}{\\mathcal{S} }\n",
    "\\newcommand{\\ee}{\\mathcal{E} }\n",
    "\\newcommand{\\ff}{\\mathcal{F} }\n",
    "\\newcommand{\\hh}{\\mathcal{H} }\n",
    "\\newcommand{\\bb}{\\mathcal{B} }\n",
    "\\newcommand{\\dd}{\\mathcal{D} }\n",
    "\\newcommand{\\g}{\\mathcal{G} }\n",
    "\\newcommand{\\half}{\\frac{1}{2} }\n",
    "\\newcommand{\\T}{\\mathcal{T} }\n",
    "\\newcommand{\\bi}{\\begin{itemize}}\n",
    "\\newcommand{\\ei}{\\end{itemize}}\n",
    "\\newcommand{\\beq}{\\begin{equation}}\n",
    "\\newcommand{\\eeq}{\\end{equation}}\n",
    "\\newcommand{\\ee}[1]{\\mathbb{E}\\left[{#1}\\right]}\n",
    "\\newcommand{\\eef}[1]{\\mathbb{E}\\left[\\left.{#1}\\right|\\cF_t\\right]}\n",
    "\\newcommand{\\Rplus}{\\mathbb{R}_{\\geqslant 0}}\n",
    "\\newcommand{\\Rpplus}{\\mathbb{R}_{> 0}}\n",
    "\\newcommand{\\Rminus}{\\mathbb{R}_{\\leqslant 0}}\n",
    "\\newcommand{\\p}{\\partial}\n",
    "\\newcommand{\\ui}{\\textrm{i}}\n",
    "\\newcommand{\\mP}{\\mathbb{P}}\n",
    "\\newcommand{\\mQ}{\\mathbb{Q}}\n",
    "\\newcommand{\\angl}[1]{\\langle{#1}\\rangle}\n",
    "\\newcommand{\\var}{{\\rm var}}\n",
    "\\newcommand{\\cov}{{\\rm cov}}\n",
    "\\newcommand{\\covf}[1]{\\cov\\left[\\left.{#1}\\right|\\cF_t\\right]}\n",
    "\\newcommand{\\varf}[1]{\\var\\left[\\left.{#1}\\right|\\cF_t\\right]}\n",
    "$$  "
   ]
  },
  {
   "cell_type": "markdown",
   "metadata": {
    "slideshow": {
     "slide_type": "slide"
    }
   },
   "source": [
    "### Outline of lecture 4\n",
    "\n",
    "* The Feynman-Kac formula\n",
    "\n",
    "\n",
    "* Simulation of the Heston model\n",
    "\n",
    "\n",
    "* Heston variance simulation with partial or truncation\n",
    "\n",
    "\n",
    "* The Ninomiya-Victoir scheme\n",
    "    \n",
    "    * Alfonsi's variance discretization\n",
    "    * Full NV Heston discretization\n"
   ]
  },
  {
   "cell_type": "markdown",
   "metadata": {
    "slideshow": {
     "slide_type": "slide"
    }
   },
   "source": [
    "### Numerical computation under stochastic volatility\n",
    "\n",
    "* The popularity of the Heston model relates to the existence of a quasi-closed-form formula for European option prices.\n",
    "\n",
    "    * To value other types of option, even American options, numerical computations are required.\n",
    "\n",
    "\n",
    "* For other more realistic dynamics, numerical computation is always required.\n",
    "\n",
    "    * For example, consider the much more realistic (lognormal) variance process:\n",
    "<p>    \n",
    "$$\n",
    "dv_t=-\\lambda\\,(v_t-\\bar v)\\,dt+\\xi\\,v_t\\,dW_t.\n",
    "$$"
   ]
  },
  {
   "cell_type": "markdown",
   "metadata": {
    "slideshow": {
     "slide_type": "subslide"
    }
   },
   "source": [
    "* The two numerical techniques that are typically employed are:\n",
    "    * Numerical PDE,\n",
    "    * Monte Carlo simulation."
   ]
  },
  {
   "cell_type": "markdown",
   "metadata": {
    "slideshow": {
     "slide_type": "slide"
    }
   },
   "source": [
    "### Feynman-Kac\n",
    "\n",
    "The Feynman-Kac formula relates the solution of a diffusion PDE to a probabilistic expectation, which may be computed using Monte Carlo simulation.\n",
    "\n",
    "\n",
    "Specifically, consider the SDE\n",
    "\n",
    "$$\n",
    "dx_t=\\mu_t\\,dt+\\sigma_t\\,dZ_t\n",
    "$$\n",
    "\n",
    "and consider the discounted expectation of some function $V(x_T)$ of the terminal value $x_T$.  "
   ]
  },
  {
   "cell_type": "markdown",
   "metadata": {
    "slideshow": {
     "slide_type": "subslide"
    }
   },
   "source": [
    "Then, applying Itô's Lemma to\n",
    "\n",
    "$$\n",
    "f(x_t,t)=e^{-\\int_0^t\\,r_s\\,ds}\\,V(x_t,t),\n",
    "$$\n",
    "\n",
    "we obtain\n",
    "\n",
    "$$\n",
    "\\beas\n",
    "df &=& -r_t\\,f\\,dt+e^{-\\int_0^t\\,r_s\\,ds}\\,\\partial_t V\\,dt+\\partial_x f\\,dx+\\frac{\\sigma_t^2}2\\,\\partial_{x,x} f\\,dt\\\\\n",
    "&=& e^{-\\int_0^t\\,r_s\\,ds}\\,\\left\\{ -r_t\\,V+\\partial_t V+\\mu\\,\\partial_x V+\\frac{\\sigma_t^2}2\\,\\partial_{x,x} V  \\right\\}\\,dt + \\partial_x V\\,\\sigma\\,dZ.\n",
    "\\eeas\n",
    "$$"
   ]
  },
  {
   "cell_type": "markdown",
   "metadata": {
    "slideshow": {
     "slide_type": "subslide"
    }
   },
   "source": [
    "Then, if $V(x,t)$ satisfies the PDE\n",
    "\n",
    "$$\n",
    "\\partial_t V+\\frac{\\sigma_t^2}2\\,\\partial_{x,x} V+\\mu_t\\,\\partial_x V-r_t\\,V=0,\n",
    "$$\n",
    "\n",
    "we have $\\E[df]=0$ and\n",
    "\n",
    "$$\n",
    "\\E[f(x_T,T)]-f(x_t,t)=\\int_t^T\\,\\E[df(x_s,s)]\\,ds=0\n",
    "$$\n",
    "\n",
    "Rearranging gives\n",
    "\n",
    "<blockquote><div style=\"background-color:#add8e6; color:#FFFFFF; font-style: normal;  \" ><h4>\n",
    "The Feynman-Kac formula</h4>\n",
    "</div>\n",
    "<div style=\"background-color:#E8E8E8; color:#000000; font-style: normal; \">\n",
    "<br>\n",
    "$$\n",
    "V(x_t,t)=\\E\\left[e^{-\\int_t^T\\,r_s\\,ds}\\,V(x_T,T)\\right]\n",
    "$$\n",
    "<br>\n",
    "</div>\n",
    "</blockquote>\n",
    "\n"
   ]
  },
  {
   "cell_type": "markdown",
   "metadata": {
    "slideshow": {
     "slide_type": "subslide"
    }
   },
   "source": [
    "In our case, we assume zero interest rates and the terminal condition is of the form $V(x,T) = g(x)$.  Then our problem is to compute\n",
    "\n",
    "$$\n",
    "V(x_t,t)=\\mathbb{E}\\left[V(x_T,T)|\\mathcal{F}_t\\right]= \\mathbb{E}\\left[g(x_T)|\\mathcal{F}_t\\right].\n",
    "$$"
   ]
  },
  {
   "cell_type": "markdown",
   "metadata": {
    "slideshow": {
     "slide_type": "slide"
    }
   },
   "source": [
    "### Implications for valuation of claims under stochastic volatility\n",
    "\n",
    "* Risk-neutral (discounted) expectations of final payoffs may be valued using:\n",
    "\n",
    "    * Numerical PDE,\n",
    "    * Monte Carlo simulation.\n",
    "\n",
    "\n",
    "* We may use whichever technique is more convenient.\n",
    "\n",
    "\n",
    "* Numerical PDE techniques are well-explained in [Tavella and Randall]<sup id=\"cite_ref-TavellaRandall\" class=\"reference\"><a href=\"#cite_note-TavellaRandall\"><span>[</span>9<span>]</span></a></sup>."
   ]
  },
  {
   "cell_type": "markdown",
   "metadata": {
    "slideshow": {
     "slide_type": "subslide"
    }
   },
   "source": [
    "* We will focus on Monte Carlo simulation.\n",
    "\n",
    "\n",
    "* Simulation\n",
    "\n",
    "     * is in general easier to understand,\n",
    "     * is less reliant on specialized artisanal knowledge,\n",
    "     * can deal with higher dimensional processes (no *curse of dimensionality*).\n",
    "  \n",
    "  \n",
    "* Numerical PDE can only work for low-dimensional Markovian models.\n",
    "    * In particular, this excludes rough volatility models."
   ]
  },
  {
   "cell_type": "markdown",
   "metadata": {
    "slideshow": {
     "slide_type": "subslide"
    }
   },
   "source": [
    "* Then, with $\\Delta = (T-t)/n$ and $s=t+k\\,\\Delta$, define recursively\n",
    "\n",
    "$$\n",
    "x_{s+\\Delta} = x_s + \\mu\\,\\Delta + \\sigma\\,\\sqrt{\\Delta}\\,Y_s.\n",
    "$$\n",
    "\n",
    "\n",
    "* If for example, the $Y_n$ were Bernoulli random variables, $\\mathbb{E}\\left[g(x_T)\\right]$ would be computed as a sum of $2^n$ terms.\n",
    "\n",
    "    * In practice of course, one would approximate this sum using Monte Carlo (MC) or quasi-Monte Carlo (QMC) methods."
   ]
  },
  {
   "cell_type": "markdown",
   "metadata": {
    "slideshow": {
     "slide_type": "slide"
    }
   },
   "source": [
    "### Weak and strong convergence\n",
    "\n",
    "From page 327 of [Kloeden and Platen]<sup id=\"cite_ref-KloedenPlaten\" class=\"reference\"><a href=\"#cite_note-KloedenPlaten\">[6]</a></sup>, a time discretization $\\hat X$ with time increment $\\Delta$ *converges weakly with order $\\beta$* if there exists a constant $C$ such that\n",
    "\n",
    "$$\n",
    "\\left|\\E\\left[g(\\hat X_T)\\right]-\\E\\left[g(X_T)\\right]\\right|\\leq C\\,\\Delta^\\beta\n",
    "$$\n",
    "as $\\Delta \\to 0$.\n",
    "\n",
    "\n",
    "From page 323 of [Kloeden and Platen]<sup id=\"cite_ref-KloedenPlaten\" class=\"reference\"><a href=\"#cite_note-KloedenPlaten\"><span>[</span>7<span>]</span></a></sup>, $\\hat X$ with time increment $\\Delta$ *converges strongly with order $\\beta$* if there exists a constant $C$ such that\n",
    "\n",
    "$$\n",
    "\\E\\left[\\left|\\hat X_T-X_T\\right|\\right]\\leq C\\,\\Delta^\\beta\n",
    "$$\n",
    "as $\\Delta \\to 0$.\n",
    "\n",
    "\n",
    "* The exponent $\\beta$ is called the *order* of convergence."
   ]
  },
  {
   "cell_type": "markdown",
   "metadata": {
    "slideshow": {
     "slide_type": "slide"
    }
   },
   "source": [
    "### Monte Carlo simulation\n",
    "\n",
    "Monte Carlo simulation proceeds in two steps:\n",
    "\n",
    "1. Discretize the SDE with time step $\\Delta = T/m$, denoting the discretized process by $\\hat X_t$. This step induces a weak error\n",
    "<br><br>$$\n",
    "\\epsilon_D = \\E[g(X_T)] - \\E[g(\\hat X_T)] \\sim \\Delta^\\beta.\n",
    "$$<br>\n",
    "\n",
    "2. Estimate the expectation of the discretized process as\n",
    "<br><br>$$\n",
    "\\E[g(\\hat X_T)] = \\frac{1}{N}\\,\\sum_{i=1}^N\\,g(\\hat X_T^{(i)}).\n",
    "$$"
   ]
  },
  {
   "cell_type": "markdown",
   "metadata": {
    "slideshow": {
     "slide_type": "subslide"
    }
   },
   "source": [
    "This step induces a statistical error\n",
    "\n",
    "$$\n",
    "\\epsilon_S = \\E[g(\\hat X_T)] -  \\frac{1}{N}\\,\\sum_{i=1}^N\\,g(\\hat X_T^{(i)}) \\sim \\frac{1}{\\sqrt{N}}. \n",
    "$$"
   ]
  },
  {
   "cell_type": "markdown",
   "metadata": {
    "slideshow": {
     "slide_type": "subslide"
    }
   },
   "source": [
    "### Mean squared error (MSE)\n",
    "\n",
    "If $\\hat x$ is an estimator of some quantity $x$ (a Monte Carlo estimate for example), then\n",
    "\n",
    "$$\n",
    "\\begin{eqnarray}\n",
    "\\mbox{MSE}(\\hat x)&=&\\E[(\\hat x-x)^2]\\\\\n",
    "&=&\\left(\\E[\\hat x]-x\\right)^2+\\E\\left[\\left(\\hat x-\\E[\\hat x]\\right)^2\\right]\\\\\n",
    "&=&\\text{Bias}^2(\\hat x)+\\text{Variance}(\\hat x).\n",
    "\\end{eqnarray}\n",
    "$$"
   ]
  },
  {
   "cell_type": "markdown",
   "metadata": {
    "slideshow": {
     "slide_type": "subslide"
    }
   },
   "source": [
    "* Bias relates to the discretization.\n",
    "\n",
    "     * The number of timesteps and how accurately the target process is approximated over each timestep.\n",
    "\n",
    "\n",
    "* The variance relates to the number of samples and how variance is reduced."
   ]
  },
  {
   "cell_type": "markdown",
   "metadata": {
    "slideshow": {
     "slide_type": "slide"
    }
   },
   "source": [
    "### Computational complexity\n",
    "\n",
    "* Following page 365 of [Glasserman]<sup id=\"cite_ref-Glasserman\" class=\"reference\"><a href=\"#cite_note-Glasserman\">[5]</a></sup>, denoting MSE by $\\epsilon^2$, we have\n",
    "\n",
    "<a name=\"eq:MSE\"></a>(1)\n",
    "$$\n",
    "\\epsilon^2 \\sim \\epsilon_D^2 + \\epsilon_S^2 = c_1\\,\\Delta^{2\\,\\beta} + \\frac{c_2}{N} \n",
    "$$\n",
    "\n",
    "for some constants $c_1$ and $c_2$."
   ]
  },
  {
   "cell_type": "markdown",
   "metadata": {
    "slideshow": {
     "slide_type": "subslide"
    }
   },
   "source": [
    "* The computational cost $\\mathcal{C}$ is is proportional to\n",
    "\n",
    "$$\n",
    "m \\times N  = \\frac{T}{\\Delta}\\,N\n",
    "$$\n",
    "\n",
    "so\n",
    "\n",
    "$$\n",
    "\\epsilon^2 \\sim c_1\\,\\Delta^{2\\,\\beta} + \\frac{c_3}{\\mathcal{C}\\,\\Delta} \n",
    "$$\n",
    "\n",
    "for some $c_3$. \n",
    "\n",
    "* Minimizing MSE for fixed cost $\\mathcal{C}$ gives\n",
    "\n",
    "$$\n",
    "\\Delta \\propto \\mathcal{C}^{-\\frac{1}{2\\,\\beta + 1}}.\n",
    "$$"
   ]
  },
  {
   "cell_type": "markdown",
   "metadata": {
    "slideshow": {
     "slide_type": "slide"
    }
   },
   "source": [
    "### Optimal allocation of computational budget\n",
    "\n",
    "Substituting back into [(1)](#eq:MSE), we obtain\n",
    "\n",
    "$$\n",
    "\\epsilon^2 \\sim c_1\\,\\mathcal{C}^{-\\frac{2\\,\\beta}{2\\,\\beta + 1}} + c_2\\,T\\,\\mathcal{C}^{-\\frac{2\\,\\beta}{2\\,\\beta + 1}} \\propto \\mathcal{C}^{-\\frac{2\\,\\beta}{2\\,\\beta + 1}}.\n",
    "$$\n",
    "\n",
    "The optimal allocation thus balances bias squared and variance.\n",
    "\n",
    "* For the Euler scheme with Lipschitz payoff, $\\beta = 1$ so $\\epsilon \\sim \\mathcal{C}^{-1/3}$.\n",
    "* For the Milstein scheme with Lipschitz payoff, $\\beta = 2$ so $\\epsilon \\sim \\mathcal{C}^{-2/5}$.\n",
    "* If the discretization is unbiased,  $\\epsilon \\sim \\mathcal{C}^{-1/2}$."
   ]
  },
  {
   "cell_type": "markdown",
   "metadata": {
    "slideshow": {
     "slide_type": "subslide"
    }
   },
   "source": [
    "Thus, in the limit where very high accuracy is required, the better the discretization, the lower the computational cost.\n",
    "\n",
    "* Although in practice, we have to take into account that a better discretization may involve more computation per time step."
   ]
  },
  {
   "cell_type": "markdown",
   "metadata": {
    "slideshow": {
     "slide_type": "slide"
    }
   },
   "source": [
    "### Why fast Monte Carlo?\n",
    "\n",
    "* For pricing, a not-very-fast Monte Carlo routine might suffice.\n",
    "\n",
    "\n",
    "* For model calibration, we need fast Monte Carlo.\n",
    "\n",
    "    * Fitting a model to the data involves many calls to the pricing routine with different parameter sets."
   ]
  },
  {
   "cell_type": "markdown",
   "metadata": {
    "slideshow": {
     "slide_type": "subslide"
    }
   },
   "source": [
    "* However fast Monte Carlo is only needed for European options.\n",
    "\n",
    "    * We want to calibrate complex models to vanilla option prices.\n",
    "    \n",
    "    * Even if vanilla options are American-style, we can fairly accurately approximate Black-Scholes implied volatility.  See for example [Glau et al.]<sup id=\"cite_ref-GlauEtAl\" class=\"reference\"><a href=\"#cite_note-GlauEtAl\"><span>[</span>3<span>]</span></a></sup>.\n",
    "\n",
    "\n",
    "* We are then only concerned with the order of weak convergence.\n",
    "\n",
    "    * In contrast, the order of strong convergence may be relevant for barrier or lookback options."
   ]
  },
  {
   "cell_type": "markdown",
   "metadata": {
    "slideshow": {
     "slide_type": "slide"
    }
   },
   "source": [
    "### Heston simulation: General remarks\n",
    "\n",
    "* Heston is popular because there is a quasi-closed form formula for European options.\n",
    "\n",
    "\n",
    "* The Heston model is in fact very tricky to simulate.\n",
    "    * This relates to the propensity of the Heston variance process to go to zero.\n",
    "    * This same property makes Heston dynamics very unrealistic.\n",
    "    \n",
    "\n",
    "* If we can figure out how to simulate Heston efficiently, other stochastic volatility models will be easier."
   ]
  },
  {
   "cell_type": "markdown",
   "metadata": {
    "slideshow": {
     "slide_type": "slide"
    }
   },
   "source": [
    "### Variations on the BCC parameters\n",
    "\n",
    "In numerical examples, we will consider the following parameter sets with $\\eta$ halved and doubled relative to BCC:\n",
    "\n",
    "<div align=\"center\">Table 1: BCC and BCC2 parameters \n",
    "\n",
    "  |BCC|BCC1|BCC2\n",
    ":------:|:------:|:----------:|:------:\n",
    "$v$|$0.04$|$0.04$|$0.04$\n",
    "$\\bar v$|$0.04$|$0.04$|$0.04$\n",
    "$\\lambda$|$1.15$|$1.15$|$1.15$\n",
    "$\\rho$|$-0.64$|$-0.64$|$-0.64$\n",
    "$\\eta$|$~~0.39~~$|$~~0.39/2~~$|$~~0.39\\times 2~~$\n",
    "$~~\\frac{2\\,\\lambda\\,\\bar v}{\\eta^2}~~$|$0.60$|$2.42$|$0.15$"
   ]
  },
  {
   "cell_type": "markdown",
   "metadata": {
    "slideshow": {
     "slide_type": "slide"
    }
   },
   "source": [
    "### Boundary behaviors of variance processes\n",
    "\n",
    "Consider a fairly generic variance process:\n",
    "\n",
    "<a name=\"eq:HestonVariance\"></a>(2)\n",
    "$$\n",
    "dv=-\\lambda\\,(v-\\bar v)\\,dt+\\eta\\,v^\\alpha\\,dZ\n",
    "$$\n",
    "\n",
    "<blockquote><div style=\"background-color:#add8e6; color:#FFFFFF; font-style: normal;  \" ><h4>\n",
    "Proposition 2.1 of Andersen and Piterbarg</h4>\n",
    "</div>\n",
    "<div style=\"background-color:#E8E8E8; color:#000000; font-style: normal; \">\n",
    "<br>\n",
    "For the process [(2)](#eq:HestonVariance), the following holds: \n",
    "\n",
    "<p>\n",
    "    1. $0$ is always an attainable boundary for $0 < \\alpha < 1/2$;<br>\n",
    "    2. $0$ is an attainable boundary for $\\alpha=1/2$ if $2\\,\\lambda\\,\\bar v < \\eta^2$ ;<br>\n",
    "    3. $0$ is an unattainable boundary for $\\alpha > 1/2$;<br>\n",
    "    4. $\\infty$ is an unattainable boundary for all values of $\\alpha>0$.\n",
    "<br>\n",
    "</div>\n",
    "</blockquote>"
   ]
  },
  {
   "cell_type": "markdown",
   "metadata": {
    "slideshow": {
     "slide_type": "subslide"
    }
   },
   "source": [
    "### Implications for Heston\n",
    "\n",
    "\n",
    "* Then, with BCC1 parameters, the Heston variance process does not hit zero.\n",
    "\n",
    "* On the other hand, with both BCC and BCC2 parameters, the process can hit zero and does spend considerable time in the neighborhood of zero.\n",
    "\n",
    "    * If the discretized variance process can go negative, this may lead to substantial bias."
   ]
  },
  {
   "cell_type": "markdown",
   "metadata": {
    "slideshow": {
     "slide_type": "slide"
    }
   },
   "source": [
    "### Lord, Koekkoek and Van Dyck\n",
    "\n",
    "Write the Heston variance process as\n",
    "\n",
    "$$\n",
    "v_{t+\\Delta}=f_1(v_t)-\\lambda\\,\\left(f_2(v_t)-\\bar v\\right)\\,\\Delta+\\eta\\,\\left(f_3(v_t)\\right)^\\alpha\\,\\sqrt{\\Delta}\\,Z\n",
    "$$\n",
    "\n",
    "with $Z \\sim N(0,1)$.   [Lord, Koekkoek and Van Dyck]<sup id=\"cite_ref-LKV\" class=\"reference\"><a href=\"#cite_note-LKV\">[7]</a></sup> classify discretization schemes as follows:"
   ]
  },
  {
   "cell_type": "markdown",
   "metadata": {
    "slideshow": {
     "slide_type": "subslide"
    }
   },
   "source": [
    "<div align=\"center\">Table 2: Fixing functions $f_i(\\cdot)$ in various discretizations. \n",
    "\n",
    " Scheme|$~~~f_1(x)~~~$|$~~~f_2(x)~~~$|$~~~f_3(x)~~~$\n",
    ":------|:------:|:----------:|:------:\n",
    "Absorption|$x^+$|$x^+$|$x^+$\n",
    "Reflection|$|x|$|$|x|$|$|x|$\n",
    "Higham and Mao|$x$|$x$|$|x|$\n",
    "Partial truncation|$x$|$x$|$x^+$\n",
    "Full truncation|$x$|$x^+$|$x^+$\n",
    "\n",
    "Based on results of numerical experiments, Lord et al. recommend full truncation."
   ]
  },
  {
   "cell_type": "markdown",
   "metadata": {
    "slideshow": {
     "slide_type": "slide"
    }
   },
   "source": [
    "### Comments on discretization of the Heston variance process\n",
    "\n",
    "* The choice of discretization makes a *big* difference.\n",
    "    * The choices of discretization presented in *The Volatility Surface*<sup id=\"cite_ref-TVS\" class=\"reference\"><a href=\"#cite_note-TVS\"><span>[</span>5<span>]</span></a></sup> are particularly horrible; hundreds of thousands of time steps are required to get decent convergence with typical Heston parameters.\n",
    "   "
   ]
  },
  {
   "cell_type": "markdown",
   "metadata": {
    "slideshow": {
     "slide_type": "subslide"
    }
   },
   "source": [
    "* We will follow LKV's advice and implement full truncation.  Specifically, we will discretize the Heston variance process as\n",
    "\n",
    "$$\n",
    "v_{t+\\Delta}=v_t - \\lambda\\,\\left(v_t^+-\\bar v\\right)\\,\\Delta+\\eta\\,\\sqrt{v_t^+}\\,\\sqrt{\\Delta}\\,Z.\n",
    "$$"
   ]
  },
  {
   "cell_type": "markdown",
   "metadata": {
    "slideshow": {
     "slide_type": "slide"
    }
   },
   "source": [
    "### Richardson extrapolation\n",
    "\n",
    "Suppose that the Euler scheme generates an estimate of the true value of a claim as follows:\n",
    "\n",
    "$$\n",
    "\\E\\left[g(\\hat X_T)\\right]=\\E\\left[g(X_T)\\right]+c\\,\\Delta  + \\mathcal{O}(\\Delta^2)\n",
    "$$\n",
    "\n",
    "where $\\hat X$ is an approximation to $X$ based on this Euler discretization scheme.  This is true under strong regularity assumptions on the drift and diffusion coefficients in the underlying SDE."
   ]
  },
  {
   "cell_type": "markdown",
   "metadata": {
    "slideshow": {
     "slide_type": "subslide"
    }
   },
   "source": [
    "Then for positive integer $M$ (typically $M=2$), we have\n",
    "\n",
    "$$\n",
    "\\frac{M}{M-1}\\,\\E\\left[g\\left(\\hat X^{\\Delta}_T\\right)\\right]-\\frac{1}{M-1}\\,\\E\\left[ g\\left(\\hat X^{M \\Delta}_T\\right)\\right]=\\E\\left[g(X_T)\\right] + \\mathcal{O}(\\Delta^2)\n",
    "$$\n",
    "\n",
    "* Convergence looks linear for our Euler discretizations so Richardson extrapolation might work in this case, giving order 2 weak convergence."
   ]
  },
  {
   "cell_type": "markdown",
   "metadata": {
    "slideshow": {
     "slide_type": "slide"
    }
   },
   "source": [
    "### Variance of extrapolated estimate\n",
    "\n",
    "Following [Glasserman]<sup id=\"cite_ref-Glasserman\" class=\"reference\"><a href=\"#cite_note-Glasserman\"><span>[</span>5<span>]</span></a></sup> again (page 361), note that\n",
    "\n",
    "\\begin{eqnarray}\n",
    "&&\\Var\\left[  \\frac{M}{M-1}\\,g\\left(\\hat X^{\\Delta}_T\\right)-\\frac{1}{M-1}\\, g\\left(\\hat X^{M \\Delta}_T\\right)  \\right]\\\\\n",
    "&=& \\frac{M^2}{(M-1)^2}\\,\\Var\\left[  g\\left(\\hat X^{\\Delta}_T\\right)  \\right] +\n",
    " \\frac{1}{(M-1)^2}\\,\\Var\\left[  g\\left(\\hat X^{M \\Delta}_T\\right)  \\right]  \\\\\n",
    " && \\quad\\quad\\quad - \\frac{2\\,M}{(M-1)^2}\\,\\Cov\\left[  g\\left(\\hat X^{\\Delta}_T\\right), g\\left(\\hat X^{M \\Delta}_T\\right)  \\right] .\n",
    "\\end{eqnarray}"
   ]
  },
  {
   "cell_type": "markdown",
   "metadata": {
    "slideshow": {
     "slide_type": "subslide"
    }
   },
   "source": [
    "One might hope, and this is typically the case, that by using the same random numbers to simulate $\\hat X^{\\Delta}_T$ and $\\hat X^{M \\Delta}_T$, the covariance term would be positive.  However, in the case of the Heston model, especially with BCC2 parameters, this is not at all guaranteed.\n",
    "\n",
    "* If the covariance term is zero or negative, the variance of the extrapolated estimate is greater than that of the original estimate (although the bias is smaller)."
   ]
  },
  {
   "cell_type": "markdown",
   "metadata": {
    "slideshow": {
     "slide_type": "fragment"
    }
   },
   "source": [
    "We now check the Feller condition to see whether 0 is attainable.  Recall from Proposition 2.1 of Andersen and Piterbarg above that $0$ is attainable if $2\\,\\lambda\\,\\bar v/\\eta^2 <1$."
   ]
  },
  {
   "cell_type": "markdown",
   "metadata": {
    "slideshow": {
     "slide_type": "slide"
    }
   },
   "source": [
    "### Heston parameters"
   ]
  },
  {
   "cell_type": "code",
   "execution_count": 1,
   "metadata": {
    "slideshow": {
     "slide_type": "fragment"
    }
   },
   "outputs": [],
   "source": [
    "paramsBCC <- list(lambda = 1.15,rho = -0.64,eta = 0.39,vbar = 0.04,v = 0.04) \n",
    "paramsBCC1 <- list(lambda = 1.15,rho = -0.64,eta = .39/2,vbar = 0.04,v = 0.04) \n",
    "paramsBCC2 <- list(lambda = 1.15,rho = -0.64,eta = 0.39*2,vbar = 0.04,v = 0.04) "
   ]
  },
  {
   "cell_type": "code",
   "execution_count": 2,
   "metadata": {
    "slideshow": {
     "slide_type": "fragment"
    }
   },
   "outputs": [
    {
     "data": {
      "text/html": [
       "<ol class=list-inline>\n",
       "\t<li>0.604865220249836</li>\n",
       "\t<li>2.41946088099934</li>\n",
       "\t<li>0.151216305062459</li>\n",
       "</ol>\n"
      ],
      "text/latex": [
       "\\begin{enumerate*}\n",
       "\\item 0.604865220249836\n",
       "\\item 2.41946088099934\n",
       "\\item 0.151216305062459\n",
       "\\end{enumerate*}\n"
      ],
      "text/markdown": [
       "1. 0.604865220249836\n",
       "2. 2.41946088099934\n",
       "3. 0.151216305062459\n",
       "\n",
       "\n"
      ],
      "text/plain": [
       "[1] 0.6048652 2.4194609 0.1512163"
      ]
     },
     "metadata": {},
     "output_type": "display_data"
    }
   ],
   "source": [
    "feller <- function(params){2*params$lambda*params$vbar/(params$eta)^2}\n",
    "\n",
    "c(feller(paramsBCC),feller(paramsBCC1),feller(paramsBCC2))"
   ]
  },
  {
   "cell_type": "markdown",
   "metadata": {
    "slideshow": {
     "slide_type": "fragment"
    }
   },
   "source": [
    "As we noted earlier, with both BCC and BCC2 parameters, zero is attainable."
   ]
  },
  {
   "cell_type": "markdown",
   "metadata": {
    "slideshow": {
     "slide_type": "slide"
    }
   },
   "source": [
    "### Download some code"
   ]
  },
  {
   "cell_type": "code",
   "execution_count": 3,
   "metadata": {
    "slideshow": {
     "slide_type": "fragment"
    }
   },
   "outputs": [],
   "source": [
    "download.file(url=\"http://mfe.baruch.cuny.edu/wp-content/uploads/2018/09/9875-4.zip\", destfile=\"9875-4.zip\")\n",
    "unzip(zipfile=\"9875-4.zip\")\n",
    "source(\"BlackScholes.R\")\n",
    "source(\"Lewis.R\")\n",
    "source(\"Heston.R\")"
   ]
  },
  {
   "cell_type": "markdown",
   "metadata": {
    "slideshow": {
     "slide_type": "fragment"
    }
   },
   "source": [
    "A useful function"
   ]
  },
  {
   "cell_type": "code",
   "execution_count": 4,
   "metadata": {
    "slideshow": {
     "slide_type": "fragment"
    }
   },
   "outputs": [],
   "source": [
    "impvolHeston <- function(params)function(k,t){impvol.phi(phiHeston(params))(k,t)}"
   ]
  },
  {
   "cell_type": "markdown",
   "metadata": {
    "slideshow": {
     "slide_type": "slide"
    }
   },
   "source": [
    "### Exact Heston implied volatility computations\n",
    "\n",
    "To compute the bias of a simulation scheme, we need to know exact implied volatilities."
   ]
  },
  {
   "cell_type": "code",
   "execution_count": 5,
   "metadata": {
    "slideshow": {
     "slide_type": "fragment"
    }
   },
   "outputs": [
    {
     "name": "stdout",
     "output_type": "stream",
     "text": [
      "[1] 0.2289957 0.1817281 0.1520478\n",
      "[1] 0.2184855 0.1940710 0.1748623\n",
      "[1] 0.2320480 0.1532666 0.1334544\n"
     ]
    }
   ],
   "source": [
    "strikes <- c(0.8,1.0,1.2) \n",
    "print(exactHestonVolsBCC <- sapply(strikes,function(K){impvolHeston(paramsBCC)(log(K),1)}) )\n",
    "print(exactHestonVolsBCC1 <- sapply(strikes,function(K){impvolHeston(paramsBCC1)(log(K),1)}) )\n",
    "print(exactHestonVolsBCC2 <- sapply(strikes,function(K){impvolHeston(paramsBCC2)(log(K),1)}) )\n"
   ]
  },
  {
   "cell_type": "markdown",
   "metadata": {
    "slideshow": {
     "slide_type": "fragment"
    }
   },
   "source": [
    "Note how the skew increases as we increase $\\eta$!"
   ]
  },
  {
   "cell_type": "markdown",
   "metadata": {
    "slideshow": {
     "slide_type": "slide"
    }
   },
   "source": [
    "### Code for Euler with  partial truncation\n",
    "\n",
    "Recall that this discretization reads:\n",
    "\n",
    "$$\n",
    "v_{t+\\Delta}=v_t - \\lambda\\,\\left(v_t-\\bar v\\right)\\,\\Delta+\\eta\\,\\sqrt{v_t^+}\\,\\sqrt{\\Delta}\\,Z.\n",
    "$$"
   ]
  },
  {
   "cell_type": "code",
   "execution_count": 6,
   "metadata": {
    "slideshow": {
     "slide_type": "fragment"
    }
   },
   "outputs": [],
   "source": [
    "evolveEulerP <- function(v,x,dt,Z,W,i){\n",
    "\n",
    "        #Variance process\n",
    "        v2 <- (v > 0) * v  # Take v2 = 0 if v<0, else v2=v\n",
    "        vf <- v - lambda*(v-vbar)*dt +eta * sqrt(v2)*sqrt(dt)*W \n",
    "\n",
    "        # Log-stock process\n",
    "        x <- x  - (v+vf)/4*dt + sqrt(v2*dt) * Z\n",
    "        # Impose martingale constraint\n",
    "        x <- x - log(mean(exp(x))) \n",
    "        v <- vf \n",
    "        \n",
    "        return(cbind(x,v)) \n",
    "}"
   ]
  },
  {
   "cell_type": "markdown",
   "metadata": {
    "slideshow": {
     "slide_type": "slide"
    }
   },
   "source": [
    "### Code for Euler with  full truncation\n",
    "\n",
    "Recall that this discretization reads:\n",
    "\n",
    "$$\n",
    "v_{t+\\Delta}=v_t - \\lambda\\,\\left(v_t^+-\\bar v\\right)\\,\\Delta+\\eta\\,\\sqrt{v_t^+}\\,\\sqrt{\\Delta}\\,Z.\n",
    "$$"
   ]
  },
  {
   "cell_type": "code",
   "execution_count": 7,
   "metadata": {
    "slideshow": {
     "slide_type": "fragment"
    }
   },
   "outputs": [],
   "source": [
    "evolveEulerF <- function(v,x,dt,Z,W,i){\n",
    "\n",
    "        #Variance process\n",
    "        v2 <- (v > 0) * v  # Take v2 = 0 if v<0, else v2=v\n",
    "        vf <- v - lambda*(v2-vbar)*dt +eta * sqrt(v2)*sqrt(dt)*W \n",
    "\n",
    "        # Log-stock process\n",
    "        x <- x  - (v+vf)/4*dt + sqrt(v2*dt) * Z\n",
    "        # Impose martingale constraint\n",
    "        x <- x - log(mean(exp(x))) \n",
    "        v <- vf \n",
    "        \n",
    "        return(cbind(x,v)) \n",
    "}"
   ]
  },
  {
   "cell_type": "markdown",
   "metadata": {
    "slideshow": {
     "slide_type": "slide"
    }
   },
   "source": [
    "### Heston code that uses the above time discretization\n",
    "\n",
    "Note that the code also does Richardson extrapolation."
   ]
  },
  {
   "cell_type": "code",
   "execution_count": 8,
   "metadata": {
    "slideshow": {
     "slide_type": "fragment"
    }
   },
   "outputs": [],
   "source": [
    "is.even <- function(j){as.logical((j+1) %% 2)} # A little function needed later\n",
    "\n",
    "HestonMC <- function(params){\n",
    "    \n",
    "    res <- function(S0, T, AK, N, m, evolve,exactVols=NULL)\n",
    "    {\n",
    "  \n",
    "    lambda <<- params$lambda \n",
    "    rho <<- params$rho \n",
    "    eta <<- params$eta \n",
    "    vbar <<- params$vbar \n",
    "    v0 <<- params$v \n",
    "    \n",
    "   \tphi <<- sqrt(1-rho^2) \n",
    "  \n",
    "    n <- m*2  #n is number of timesteps = 2*m so we can use Richardson extrapolation\n",
    "    sqrt2 <- sqrt(2) \n",
    "    rho2m1 <- sqrt(1-rho*rho) \n",
    "    \n",
    "    negCount <- 0 \n",
    "    \n",
    "    # We use a vertical array, one element per M.C. path\n",
    "    x <- rep(0,N); v <- rep(1,N)*v0 \n",
    "    xm <- x; vm <- v \n",
    "    W1m <- rep(0,N); W2m <- rep(0,N)  \n",
    "  \n",
    "    # Loop for bias computation (N small, n big)\n",
    "    for (i in 1:n)\n",
    "    {\n",
    "        # Two sets of correlated normal random vars.\n",
    "        \n",
    "        W1 <- rnorm(N) \n",
    "        W2 <- rnorm(N) \n",
    "        W1 <- W1 - mean(W1);  W1 <- W1/sd(W1) \n",
    "        W2 <- W2 - mean(W2);  W2 <- W2/sd(W2) \n",
    "        # Now W1 and W2 are forced to have mean=0 and sd=1\n",
    "        \n",
    "        W2p <- W2 - cor(W1,W2)*W1  # Eliminate actual correlation\n",
    "        W2p <- W2p - mean(W2p);  W2 <- W2p/sd(W2p) \n",
    "        W2 <- rho*W1 + rho2m1*W2  \n",
    "        # Now W1 and W2 have mean=0, sd=1 and correlation rho\n",
    "    \n",
    "        # Add code for subgrid\n",
    "        W1m <- W1m + W1/sqrt2;  W2m <- W2m + W2/sqrt2  # N(0,1) rv's for subgrid\n",
    "       \n",
    "        if (is.even(i)) {\n",
    "            #print(c(i,mean(W1m),mean(W2m),sd(W1m),sd(W2m),cor(W1m,W2m))) \n",
    "            resm <- evolve(vm,xm,T/m,W1m,W2m,i/2) \n",
    "            xm <- resm[,1] \n",
    "            vm <- resm[,2] \n",
    "            W1m <- rep(0,N);  W2m <- rep(0,N) \n",
    "        }\n",
    "    \n",
    "        res <- evolve(v,x,T/n,W1,W2,i) \n",
    "        x <- res[,1] \n",
    "        v <- res[,2] \n",
    "        negCount <- negCount +mean(v<0)/n  #Probability of negative variance per path per timestep\n",
    "    \n",
    "  }\n",
    "\n",
    "    S <- S0*exp(x) \n",
    "    Sm <- S0*exp(xm) \n",
    "\n",
    "    # Now we have 2 vectors (length N) of final stock prices\n",
    "  \n",
    "    M <- length(AK) \n",
    "    AV <- numeric(M); AVdev <- numeric(M) \n",
    "    BSV <- numeric(M); BSVH <- numeric(M);  BSVL <- numeric(M) \n",
    "    iv2SD <- numeric(M);  bias <- numeric(M) \n",
    "    AVm <- numeric(M);  AVmdev <- numeric(M) \n",
    "    BSVm <- numeric(M);  BSVHm <- numeric(M);  BSVLm <- numeric(M) \n",
    "    iv2SDm <- numeric(M) \n",
    "    AV1 <- numeric(M);  AV1dev <- numeric(M) \n",
    "    BSV1 <- numeric(M); BSVH1 <- numeric(M); BSVL1 <- numeric(M) \n",
    "    iv2SDrom <- numeric(M); biasRom <- numeric(M) \n",
    "  \n",
    "  # Evaluate mean call value for each path\n",
    "  for (i in 1:M)\n",
    "  {\n",
    "    # 2*m timesteps\n",
    "    K <- AK[i] \n",
    "    V <- (S>K)*(S - K)  # Boundary condition for European call\n",
    "    AV[i] <- mean(V) \n",
    "    AVdev[i] <- sqrt(var(V)/length(V)) \n",
    "    \n",
    "    BSV[i] <- BSImpliedVolCall(S0, K, T, 0, AV[i]) \n",
    "    BSVL[i] <- BSImpliedVolCall(S0, K, T, 0, AV[i] - AVdev[i]) \n",
    "    BSVH[i] <- BSImpliedVolCall(S0, K, T, 0, AV[i] + AVdev[i]) \n",
    "    iv2SD[i] <- (BSVH[i]-BSVL[i]) \n",
    "    \n",
    "    # m timesteps\n",
    "    Vm <- (Sm>K)*(Sm - K)  # Boundary condition for European call\n",
    "    AVm[i] <- mean(Vm) \n",
    "    AVmdev[i] <- sd(Vm) / sqrt(N) \n",
    "    BSVm[i] <- BSImpliedVolCall(S0, K, T, 0, AVm[i]) \n",
    "    BSVLm[i] <- BSImpliedVolCall(S0, K, T, 0, AVm[i] - AVmdev[i]) \n",
    "    BSVHm[i] <- BSImpliedVolCall(S0, K, T, 0, AVm[i] + AVmdev[i]) \n",
    "    iv2SDm[i] <- (BSVH[i]-BSVL[i]) \n",
    "    \n",
    "    # Richardson estimates \n",
    "    V1 <- 2*V - Vm \n",
    "    AV1[i] <- mean(V1) \n",
    "    AV1dev[i] <- sd(V1) / sqrt(N) \n",
    "    BSV1[i] <- BSImpliedVolCall(S0, K, T, 0, AV1[i]) \n",
    "    BSVL1[i] <- BSImpliedVolCall(S0, K, T, 0, AV1[i] - AV1dev[i]) \n",
    "    BSVH1[i] <- BSImpliedVolCall(S0, K, T, 0, AV1[i] + AV1dev[i]) \n",
    "    iv2SDrom[i] <- (BSVH1[i]-BSVL1[i]) \n",
    "    \n",
    "    if(!is.null(exactVols)) {bias <- BSV-exactVols} \n",
    "    if(!is.null(exactVols)) {biasRom <- BSV1-exactVols} \n",
    "  }\n",
    "  \n",
    "  l.AK <- length(AK)      \n",
    "  data.out <- data.frame(AK,rep(N,l.AK),rep(2*m,l.AK),BSV,bias,iv2SD,BSVm,BSV1,biasRom,iv2SDrom) \n",
    "  names(data.out) <- c(\"Strikes\",\"Paths\",\"Steps\",\"ivol\",\"bias\",\"twoSd\",\"ivolm\", \"ivolRichardson\", \"biasRichardson\",\"twoSdRichardson\") \n",
    "  return(data.out) \n",
    "  \n",
    "  \n",
    "}\n",
    "return(res) \n",
    "}"
   ]
  },
  {
   "cell_type": "markdown",
   "metadata": {
    "slideshow": {
     "slide_type": "subslide"
    }
   },
   "source": [
    "Here's an example of a function call:"
   ]
  },
  {
   "cell_type": "code",
   "execution_count": 9,
   "metadata": {
    "slideshow": {
     "slide_type": "fragment"
    }
   },
   "outputs": [
    {
     "data": {
      "text/html": [
       "<table>\n",
       "<thead><tr><th scope=col>Strikes</th><th scope=col>Paths</th><th scope=col>Steps</th><th scope=col>ivol</th><th scope=col>bias</th><th scope=col>twoSd</th><th scope=col>ivolm</th><th scope=col>ivolRichardson</th><th scope=col>biasRichardson</th><th scope=col>twoSdRichardson</th></tr></thead>\n",
       "<tbody>\n",
       "\t<tr><td>0.8          </td><td>1e+06        </td><td>32           </td><td>0.2294468    </td><td>0.0004510717 </td><td>0.0013893767 </td><td>0.2300874    </td><td>0.2288045    </td><td>-0.0001912469</td><td>0.0014565456 </td></tr>\n",
       "\t<tr><td>1.0          </td><td>1e+06        </td><td>32           </td><td>0.1824417    </td><td>0.0007135747 </td><td>0.0004955921 </td><td>0.1833914    </td><td>0.1814921    </td><td>-0.0002360466</td><td>0.0005282382 </td></tr>\n",
       "\t<tr><td>1.2          </td><td>1e+06        </td><td>32           </td><td>0.1528274    </td><td>0.0007796823 </td><td>0.0003557089 </td><td>0.1539332    </td><td>0.1517103    </td><td>-0.0003375034</td><td>0.0003893826 </td></tr>\n",
       "</tbody>\n",
       "</table>\n"
      ],
      "text/latex": [
       "\\begin{tabular}{r|llllllllll}\n",
       " Strikes & Paths & Steps & ivol & bias & twoSd & ivolm & ivolRichardson & biasRichardson & twoSdRichardson\\\\\n",
       "\\hline\n",
       "\t 0.8           & 1e+06         & 32            & 0.2294468     & 0.0004510717  & 0.0013893767  & 0.2300874     & 0.2288045     & -0.0001912469 & 0.0014565456 \\\\\n",
       "\t 1.0           & 1e+06         & 32            & 0.1824417     & 0.0007135747  & 0.0004955921  & 0.1833914     & 0.1814921     & -0.0002360466 & 0.0005282382 \\\\\n",
       "\t 1.2           & 1e+06         & 32            & 0.1528274     & 0.0007796823  & 0.0003557089  & 0.1539332     & 0.1517103     & -0.0003375034 & 0.0003893826 \\\\\n",
       "\\end{tabular}\n"
      ],
      "text/markdown": [
       "\n",
       "Strikes | Paths | Steps | ivol | bias | twoSd | ivolm | ivolRichardson | biasRichardson | twoSdRichardson | \n",
       "|---|---|---|\n",
       "| 0.8           | 1e+06         | 32            | 0.2294468     | 0.0004510717  | 0.0013893767  | 0.2300874     | 0.2288045     | -0.0001912469 | 0.0014565456  | \n",
       "| 1.0           | 1e+06         | 32            | 0.1824417     | 0.0007135747  | 0.0004955921  | 0.1833914     | 0.1814921     | -0.0002360466 | 0.0005282382  | \n",
       "| 1.2           | 1e+06         | 32            | 0.1528274     | 0.0007796823  | 0.0003557089  | 0.1539332     | 0.1517103     | -0.0003375034 | 0.0003893826  | \n",
       "\n",
       "\n"
      ],
      "text/plain": [
       "  Strikes Paths Steps ivol      bias         twoSd        ivolm    \n",
       "1 0.8     1e+06 32    0.2294468 0.0004510717 0.0013893767 0.2300874\n",
       "2 1.0     1e+06 32    0.1824417 0.0007135747 0.0004955921 0.1833914\n",
       "3 1.2     1e+06 32    0.1528274 0.0007796823 0.0003557089 0.1539332\n",
       "  ivolRichardson biasRichardson twoSdRichardson\n",
       "1 0.2288045      -0.0001912469  0.0014565456   \n",
       "2 0.1814921      -0.0002360466  0.0005282382   \n",
       "3 0.1517103      -0.0003375034  0.0003893826   "
      ]
     },
     "metadata": {},
     "output_type": "display_data"
    }
   ],
   "source": [
    "HestonMC(paramsBCC)(S0=1, T=1, strikes, N=1000000, m=16, evolve=evolveEulerF, exactVols=exactHestonVolsBCC) "
   ]
  },
  {
   "cell_type": "markdown",
   "metadata": {
    "slideshow": {
     "slide_type": "slide"
    }
   },
   "source": [
    "### Convergence with BCC parameters"
   ]
  },
  {
   "cell_type": "code",
   "execution_count": 10,
   "metadata": {
    "slideshow": {
     "slide_type": "fragment"
    }
   },
   "outputs": [],
   "source": [
    "load(\"mc.convergence.rData\")"
   ]
  },
  {
   "cell_type": "code",
   "execution_count": 11,
   "metadata": {
    "slideshow": {
     "slide_type": "fragment"
    }
   },
   "outputs": [],
   "source": [
    "library(repr)\n",
    "options(repr.plot.height=5)"
   ]
  },
  {
   "cell_type": "code",
   "execution_count": 12,
   "metadata": {
    "slideshow": {
     "slide_type": "subslide"
    }
   },
   "outputs": [
    {
     "data": {
      "image/png": "[encoded data removed]",
      "text/plain": [
       "plot without title"
      ]
     },
     "metadata": {},
     "output_type": "display_data"
    }
   ],
   "source": [
    "tmp <- resF.BCC\n",
    "sdThreshold <- mean(tmp$twoSd)\n",
    "plot(1/tmp$Steps,abs(tmp$bias),type=\"b\",log=\"xy\",col=\"purple\",ylab=\"Implied volatility bias\",ylim=c(0.00001,0.05),xlab=expression(paste(Delta,t, \" (Years)\")))\n",
    "points(1/tmp$Steps,abs(tmp$biasRichardson),type=\"b\",col=\"purple\",lty=2)\n",
    "curve(sdThreshold+x*0,from=1/512, to=1/4,add=T,col=\"orange\",lwd=2)\n",
    "tmp <- resP.BCC\n",
    "lines(1/tmp$Steps,abs(tmp$bias),type=\"b\",col=\"red\",ylab=\"Implied volatility bias\",ylim=c(0.00001,0.05),xlab=expression(paste(Delta,t, \" (Years)\")))\n",
    "points(1/tmp$Steps,abs(tmp$biasRichardson),type=\"b\",col=\"red\",lty=2)"
   ]
  },
  {
   "cell_type": "markdown",
   "metadata": {
    "slideshow": {
     "slide_type": "fragment"
    }
   },
   "source": [
    "Figure 1: One year option, $K=1.2$ with BCC parameters.  Euler with partial truncation in red; full truncation in purple; dashed lines are from Richardson extrapolation.\n",
    "\n",
    "* The difference between partial and full truncation seems to be minimal; full truncation wins by a hair."
   ]
  },
  {
   "cell_type": "markdown",
   "metadata": {
    "slideshow": {
     "slide_type": "slide"
    }
   },
   "source": [
    "### Convergence with BCC2 parameters"
   ]
  },
  {
   "cell_type": "code",
   "execution_count": 13,
   "metadata": {
    "slideshow": {
     "slide_type": "fragment"
    }
   },
   "outputs": [
    {
     "data": {
      "image/png": "[encoded data removed]",
      "text/plain": [
       "plot without title"
      ]
     },
     "metadata": {},
     "output_type": "display_data"
    }
   ],
   "source": [
    "tmp <- resF.BCC2\n",
    "sdThreshold <- mean(tmp$twoSd)\n",
    "plot(1/tmp$Steps,abs(tmp$bias),type=\"b\",log=\"xy\",col=\"purple\",ylab=\"Implied volatility bias\",ylim=c(0.00001,0.05),xlab=expression(paste(Delta,t, \" (Years)\")))\n",
    "points(1/tmp$Steps,abs(tmp$biasRichardson),type=\"b\",col=\"purple\",lty=2)\n",
    "curve(sdThreshold+x*0,from=1/512, to=1/4,add=T,col=\"orange\",lwd=2)\n",
    "tmp <- resP.BCC2\n",
    "lines(1/tmp$Steps,abs(tmp$bias),type=\"b\",col=\"red\",ylab=\"Implied volatility bias\",ylim=c(0.00001,0.05),xlab=expression(paste(Delta,t, \" (Years)\")))\n",
    "points(1/tmp$Steps,abs(tmp$biasRichardson),type=\"b\",col=\"red\",lty=2)"
   ]
  },
  {
   "cell_type": "markdown",
   "metadata": {
    "slideshow": {
     "slide_type": "fragment"
    }
   },
   "source": [
    "Figure 2: One year option, $K=1.2$ with BCC2 parameters.  Euler with partial truncation in red; full truncation in purple; dashed lines are from Richardson extrapolation.\n",
    "\n",
    "* Again, full truncation wins by a hair."
   ]
  },
  {
   "cell_type": "markdown",
   "metadata": {
    "slideshow": {
     "slide_type": "slide"
    }
   },
   "source": [
    "### Formal solution of the Heston SDE\n",
    "\n",
    "$$\n",
    "\\newcommand{\\E}{\\mathbb{E}}\n",
    "$$\n",
    "\n",
    "We write the Heston SDE in the form\n",
    "\n",
    "\\begin{eqnarray*}\n",
    "d \\log S_t &=&-\\frac{v_t}{2}\\,dt+\\sqrt{v_t}\\,\\left\\{\\rho\\,dW_t+\\sqrt{1-\\rho^2}\\,dW_t^\\perp\\right\\}\\\\\n",
    "dv_t&=&-\\lambda(v_t-\\bar v)\\,dt+\\eta\\,\\sqrt{v_t}\\,dW_t\n",
    "\\end{eqnarray*}"
   ]
  },
  {
   "cell_type": "markdown",
   "metadata": {
    "slideshow": {
     "slide_type": "subslide"
    }
   },
   "source": [
    "The exact solution may then be written as\n",
    "\n",
    "<a name=\"eq:BroadieKaya\"></a>(3)\n",
    "$$\n",
    "\\begin{eqnarray*}\n",
    "S_t&=&S_0\\,\\exp\\left\\{-\\frac{1}{2}\\,\\int_0^t\\,v_s\\,ds+\\rho\\,\\int_0^t\\,\\sqrt{v_s}\\,dW_s\\\\+\\sqrt{1-\\rho^2}\\,\\int_0^t\\sqrt{v_s}\\,dW_s^\\perp\\,\\right\\}\\nonumber\\\\\n",
    "v_t&=&v_0+\\lambda\\,\\bar v \\,t\n",
    "-\\lambda\\,\\int_0^t\\,v_s\\,ds+\\eta\\,\\int_0^t\\,\\sqrt{v_s}\\,dW_s\n",
    "\\end{eqnarray*}\n",
    "$$\n",
    "\n",
    "with\n",
    "$\n",
    "\\E[dW_s \\,{dW_s^\\perp}] =0\n",
    "$."
   ]
  },
  {
   "cell_type": "markdown",
   "metadata": {
    "slideshow": {
     "slide_type": "slide"
    }
   },
   "source": [
    "### Andersen's simulation procedure\n",
    "\n",
    "* [Andersen]<sup id=\"cite_ref-Andersen\" class=\"reference\"><a href=\"#cite_note-Andersen\"><span>[</span>2<span>]</span></a></sup> proposes to simulate processes like the square-root variance process by sampling from a distribution that is similar to the true distribution but not the same.\n",
    "\n",
    "    * This approximate distribution should have at least the same mean and variance as the true distribution.\n",
    "    * More generally, this distribution should have a similar shape."
   ]
  },
  {
   "cell_type": "markdown",
   "metadata": {
    "slideshow": {
     "slide_type": "subslide"
    }
   },
   "source": [
    "* Applying his approach to simulating the Heston process, we would have to at least find the means and variances of $\\int_0^t\\,\\sqrt{v_s}\\,dW_s$, $\\int_0^t \\,v_s\\, ds$, $v_t$ and $v_0$.\n",
    "\n",
    "    * This can only be done when the mean and variance are computable.\n",
    "    * These moments are computable in the case of the Heston model.\n",
    "\n",
    "\n",
    "* Again, we want to focus on generic techniques."
   ]
  },
  {
   "cell_type": "markdown",
   "metadata": {
    "slideshow": {
     "slide_type": "slide"
    }
   },
   "source": [
    "### Cross terms\n",
    "\n",
    "* We have discretized the stock and variance parts of the Heston SDE to $\\mathcal{O}(\\Delta)$ separately.\n",
    "\n",
    "    * In principle, we pick up higher order cross terms too.\n",
    "    * However, the conditions for higher order schemes such as Milstein are not met in the Heston model so some say there is little advantage in getting more complicated."
   ]
  },
  {
   "cell_type": "markdown",
   "metadata": {
    "slideshow": {
     "slide_type": "slide"
    }
   },
   "source": [
    "* Andersen disagrees.\n",
    "\n",
    "    * So far, we have discretized $x=\\log S$ as \n",
    "<br><br><a name=\"eq:31\"></a>(4)\n",
    "$$\n",
    "x_{t+\\Delta}=x_t-\\frac14\\,(v_t+v_{t+\\Delta})\\,\\Delta +\\sqrt{v_t}\\,\\sqrt{\\Delta}\\,Z\n",
    "$$\n",
    "with $\\E[W \\,Z]=\\rho$.\n",
    "\n",
    "    * He observes that if there is a significant probability of a negative $v$, the actual correlation between $\\Delta v$ and $\\Delta x$ will not be $\\rho$ because $v$ has been truncated."
   ]
  },
  {
   "cell_type": "markdown",
   "metadata": {
    "slideshow": {
     "slide_type": "slide"
    }
   },
   "source": [
    "### Leaking correlation\n",
    "\n",
    "\n",
    "\n",
    "Quote from [Andersen]<sup id=\"cite_ref-Andersen\" class=\"reference\"><a href=\"#cite_note-Andersen\"><span>[</span>2<span>]</span></a></sup>\n",
    ">If one were to \"insist on using [(4)](#eq:31), at practical levels of $\\Delta$, one would experience a strong tendency for the Monte Carlo simulation to generate too feeble effective correlation and, consequently, paths of $x$ with poor distribution tails.  In call option pricing terms, this would manifest itself in an overall poor ability to price options with strikes away from at-the-money.\""
   ]
  },
  {
   "cell_type": "markdown",
   "metadata": {
    "slideshow": {
     "slide_type": "slide"
    }
   },
   "source": [
    "### Andersen's solution\n",
    "\n",
    "Noting that\n",
    "\n",
    "$$\n",
    "\\eta\\,\\sqrt{v_t}\\,\\sqrt{\\Delta} \\,W = v_{t+\\Delta}-v_t+\\lambda\\,(v_t-\\bar v)\\,\\Delta,\n",
    "$$\n",
    "\n",
    "and motivated by the exact formal expression [(3)](#eq:BroadieKaya), Andersen suggests the following $x$-discretization instead:"
   ]
  },
  {
   "cell_type": "markdown",
   "metadata": {
    "slideshow": {
     "slide_type": "subslide"
    }
   },
   "source": [
    "<a name=\"eq:33\"></a>(5)\n",
    "\\begin{eqnarray}\n",
    "x_{t+\\Delta}&=&x_t+\\left(\\frac{\\rho}{\\eta}-\\frac12\\right)\\,(v_t+v_{t+\\Delta})\\,\\Delta\n",
    "\\\\&&\\qquad+\\frac{\\rho}{\\eta}\\,\\left[v_{t+\\Delta}-v_t+\\lambda\\,(v_t-\\bar v)\\,\\Delta \\right]\\nonumber\\\\\n",
    "&&\\quad\\quad\\quad+\\sqrt{1-\\rho^2}\\,\\sqrt{\\frac12(v_t+v_{t+\\Delta})}\\,\\sqrt{\\Delta}\\,W^\\perp\n",
    "\\end{eqnarray}\n",
    "\n",
    "where $W^\\perp$ is orthogonal to $W$ (from the variance process).\n",
    "\n",
    "* Let's check to see if [(5)](#eq:33) really does better than [(4)](#eq:31)!"
   ]
  },
  {
   "cell_type": "markdown",
   "metadata": {
    "slideshow": {
     "slide_type": "slide"
    }
   },
   "source": [
    "### Code for Andersen discretization\n",
    "\n",
    "First the `EulerF` timestep with Andersen $x$-discretization:"
   ]
  },
  {
   "cell_type": "code",
   "execution_count": 14,
   "metadata": {
    "slideshow": {
     "slide_type": "fragment"
    }
   },
   "outputs": [],
   "source": [
    "evolveEulerFAndersen <- function(v,x,dt,Z,W,i){\n",
    "        \n",
    "        #Variance process\n",
    "        v2 <- (v > 0) * v  # Take v2 = 0 if v<0, else v2=v\n",
    "        vf <-  v - lambda*(v2 - vbar)*dt +eta * sqrt(v2)*sqrt(dt)*W \n",
    "                               \n",
    "        # Log-stock process (Andersen equation (33))\n",
    "        vvf <- (v+vf > 0) * (v+vf) \n",
    "        dw <- vvf/2*dt \n",
    "        x <- x  - dw/2 + rho2m1*sqrt(dw)*Z +\n",
    "            rho/eta*(lambda*dw + vf-v -lambda*vbar*dt)  \n",
    "        # Impose martingale constraint\n",
    "        x <- x - log(mean(exp(x))) \n",
    "        v <- vf \n",
    "        return(cbind(x,v)) \n",
    "}"
   ]
  },
  {
   "cell_type": "markdown",
   "metadata": {
    "slideshow": {
     "slide_type": "slide"
    }
   },
   "source": [
    "This new x-discretizations needs a new Monte Carlo routine:"
   ]
  },
  {
   "cell_type": "code",
   "execution_count": 15,
   "metadata": {
    "slideshow": {
     "slide_type": "fragment"
    }
   },
   "outputs": [],
   "source": [
    "HestonMCAndersen <- function(params){\n",
    "    \n",
    "    res <- function(S0, T, AK, N, m, evolve,exactVols=NULL)\n",
    "    {\n",
    "  \n",
    "    lambda <<- params$lambda \n",
    "    rho <<- params$rho \n",
    "    eta <<- params$eta \n",
    "    vbar <<- params$vbar \n",
    "    v0 <<- params$v \n",
    "  \n",
    "    n <- m*2  #n is number of timesteps = 2*m so we can use Romberg extrapolation\n",
    "    sqrt2 <- sqrt(2) \n",
    "    rho2m1 <<- sqrt(1-rho*rho) \n",
    "    \n",
    "    negCount <- 0 \n",
    "    \n",
    "    # We use a vertical array, one element per M.C. path\n",
    "    x <- rep(0,N);  v <- rep(1,N)*v0 \n",
    "    xm <- x;  vm <- v \n",
    "    W1m <- rep(0,N);  W2m <- rep(0,N)  \n",
    "  \n",
    "    # Loop for bias computation (N small, n big)\n",
    "    for (i in 1:n)\n",
    "    {\n",
    "        # Two sets of correlated normal random vars.\n",
    "        \n",
    "        W1 <- rnorm(N) \n",
    "        W2 <- rnorm(N) \n",
    "        W1 <- W1 - mean(W1);  W1 <- W1/sd(W1) \n",
    "        W2 <- W2 - mean(W2);  W2 <- W2/sd(W2) \n",
    "        # Now W1 and W2 are forced to have mean=0 and sd=1\n",
    "        \n",
    "        W2p <- W2 - cor(W1,W2)*W1  # Eliminate actual correlation\n",
    "        W2p <- W2p - mean(W2p);  W2 <- W2p/sd(W2p)  \n",
    "        # Now W1 and W2 have mean=0, sd=1 and correlation=0\n",
    "    \n",
    "        # Add code for subgrid\n",
    "        W1m <- W1m + W1/sqrt2;  W2m <- W2m + W2/sqrt2  # N(0,1) rv's for subgrid\n",
    "       \n",
    "        if (is.even(i)) {\n",
    "            resm <- evolve(vm,xm,T/m,W1m,W2m,i/2) \n",
    "            xm <- resm[,1] \n",
    "            vm <- resm[,2] \n",
    "            W1m <- rep(0,N);  W2m <- rep(0,N) \n",
    "        }\n",
    "    \n",
    "        res <- evolve(v,x,T/n,W1,W2,i) \n",
    "        x <- res[,1] \n",
    "        v <- res[,2] \n",
    "        negCount <- negCount +mean(v<0)/n  #Probability of negative variance per path per timestep\n",
    "    \n",
    "  }\n",
    "\n",
    "    S <- S0*exp(x) \n",
    "    Sm <- S0*exp(xm) \n",
    "\n",
    "    # Now we have three vectors of final stock prices\n",
    "  \n",
    "    M <- length(AK) \n",
    "    AV <- numeric(M);  AVdev <- numeric(M) \n",
    "    BSV <- numeric(M) ; BSVH <- numeric(M);  BSVL <- numeric(M) \n",
    "    iv2SD <- numeric(M);  bias <- numeric(M) \n",
    "    AVm <- numeric(M);  AVmdev <- numeric(M) \n",
    "    BSVm <- numeric(M);  BSVHm <- numeric(M);  BSVLm <- numeric(M) \n",
    "    iv2SDm <- numeric(M) \n",
    "    AV1 <- numeric(M);  AV1dev <- numeric(M) \n",
    "    BSV1 <- numeric(M);  BSVH1 <- numeric(M);  BSVL1 <- numeric(M) \n",
    "    iv2SDrom <- numeric(M); biasRom <- numeric(M) \n",
    "  \n",
    "  # Evaluate mean call value for each path\n",
    "  for (i in 1:M)\n",
    "  {\n",
    "    # 2*m timesteps\n",
    "    K <- AK[i] \n",
    "    V <- (S>K)*(S - K)  # Boundary condition for European call\n",
    "    AV[i] <- mean(V) \n",
    "    AVdev[i] <- sqrt(var(V)/length(V))\n",
    "    \n",
    "    BSV[i] <- BSImpliedVolCall(S0, K, T, 0, AV[i]) \n",
    "    BSVL[i] <- BSImpliedVolCall(S0, K, T, 0, AV[i] - AVdev[i]) \n",
    "    BSVH[i] <- BSImpliedVolCall(S0, K, T, 0, AV[i] + AVdev[i]) \n",
    "    iv2SD[i] <- (BSVH[i]-BSVL[i]) \n",
    "    \n",
    "    # m timesteps\n",
    "    Vm <- (Sm>K)*(Sm - K)  # Boundary condition for European call\n",
    "    AVm[i] <- mean(Vm) \n",
    "    AVmdev[i] <- sd(Vm) / sqrt(N) \n",
    "    BSVm[i] <- BSImpliedVolCall(S0, K, T, 0, AVm[i]) \n",
    "    BSVLm[i] <- BSImpliedVolCall(S0, K, T, 0, AVm[i] - AVmdev[i]) \n",
    "    BSVHm[i] <- BSImpliedVolCall(S0, K, T, 0, AVm[i] + AVmdev[i]) \n",
    "    iv2SDm[i] <- (BSVH[i]-BSVL[i]) \n",
    "    \n",
    "    # Romberg estimates \n",
    "    V1 <- 2*V - Vm \n",
    "    AV1[i] <- mean(V1) \n",
    "    AV1dev[i] <- sd(V1) / sqrt(N) \n",
    "    BSV1[i] <- BSImpliedVolCall(S0, K, T, 0, AV1[i]) \n",
    "    BSVL1[i] <- BSImpliedVolCall(S0, K, T, 0, AV1[i] - AV1dev[i]) \n",
    "    BSVH1[i] <- BSImpliedVolCall(S0, K, T, 0, AV1[i] + AV1dev[i]) \n",
    "    iv2SDrom[i] <- (BSVH1[i]-BSVL1[i]) \n",
    "    \n",
    "    if(!is.null(exactVols)) {bias <- BSV-exactVols} \n",
    "    if(!is.null(exactVols)) {biasRom <- BSV1-exactVols} \n",
    "  }\n",
    "  \n",
    "  l.AK <- length(AK)      \n",
    "  data.out <- data.frame(AK,rep(N,l.AK),rep(2*m,l.AK),BSV,bias,iv2SD,BSVm,BSV1,biasRom,iv2SDrom) \n",
    "  names(data.out) <- c(\"Strikes\",\"Paths\",\"Steps\",\"ivol\",\"bias\",\"twoSd\",\"ivolm\", \"ivolRichardson\", \"biasRichardson\",\"twoSdRichardson\") \n",
    "  return(data.out) \n",
    "  \n",
    "}\n",
    "return(res) \n",
    "}"
   ]
  },
  {
   "cell_type": "markdown",
   "metadata": {
    "slideshow": {
     "slide_type": "slide"
    }
   },
   "source": [
    "### Example of function call"
   ]
  },
  {
   "cell_type": "code",
   "execution_count": 16,
   "metadata": {
    "slideshow": {
     "slide_type": "fragment"
    }
   },
   "outputs": [
    {
     "data": {
      "text/html": [
       "<table>\n",
       "<thead><tr><th scope=col>Strikes</th><th scope=col>Paths</th><th scope=col>Steps</th><th scope=col>ivol</th><th scope=col>bias</th><th scope=col>twoSd</th><th scope=col>ivolm</th><th scope=col>ivolRichardson</th><th scope=col>biasRichardson</th><th scope=col>twoSdRichardson</th></tr></thead>\n",
       "<tbody>\n",
       "\t<tr><td>0.8         </td><td>1e+05       </td><td>32          </td><td>0.2307839   </td><td>0.0017881485</td><td>0.004368571 </td><td>0.2324400   </td><td>0.2291167   </td><td>0.0001210120</td><td>0.004577552 </td></tr>\n",
       "\t<tr><td>1.0         </td><td>1e+05       </td><td>32          </td><td>0.1829000   </td><td>0.0011718570</td><td>0.001564757 </td><td>0.1840025   </td><td>0.1817976   </td><td>0.0000694464</td><td>0.001656310 </td></tr>\n",
       "\t<tr><td>1.2         </td><td>1e+05       </td><td>32          </td><td>0.1524469   </td><td>0.0003991672</td><td>0.001129774 </td><td>0.1523772   </td><td>0.1525166   </td><td>0.0004688019</td><td>0.001209160 </td></tr>\n",
       "</tbody>\n",
       "</table>\n"
      ],
      "text/latex": [
       "\\begin{tabular}{r|llllllllll}\n",
       " Strikes & Paths & Steps & ivol & bias & twoSd & ivolm & ivolRichardson & biasRichardson & twoSdRichardson\\\\\n",
       "\\hline\n",
       "\t 0.8          & 1e+05        & 32           & 0.2307839    & 0.0017881485 & 0.004368571  & 0.2324400    & 0.2291167    & 0.0001210120 & 0.004577552 \\\\\n",
       "\t 1.0          & 1e+05        & 32           & 0.1829000    & 0.0011718570 & 0.001564757  & 0.1840025    & 0.1817976    & 0.0000694464 & 0.001656310 \\\\\n",
       "\t 1.2          & 1e+05        & 32           & 0.1524469    & 0.0003991672 & 0.001129774  & 0.1523772    & 0.1525166    & 0.0004688019 & 0.001209160 \\\\\n",
       "\\end{tabular}\n"
      ],
      "text/markdown": [
       "\n",
       "Strikes | Paths | Steps | ivol | bias | twoSd | ivolm | ivolRichardson | biasRichardson | twoSdRichardson | \n",
       "|---|---|---|\n",
       "| 0.8          | 1e+05        | 32           | 0.2307839    | 0.0017881485 | 0.004368571  | 0.2324400    | 0.2291167    | 0.0001210120 | 0.004577552  | \n",
       "| 1.0          | 1e+05        | 32           | 0.1829000    | 0.0011718570 | 0.001564757  | 0.1840025    | 0.1817976    | 0.0000694464 | 0.001656310  | \n",
       "| 1.2          | 1e+05        | 32           | 0.1524469    | 0.0003991672 | 0.001129774  | 0.1523772    | 0.1525166    | 0.0004688019 | 0.001209160  | \n",
       "\n",
       "\n"
      ],
      "text/plain": [
       "  Strikes Paths Steps ivol      bias         twoSd       ivolm    \n",
       "1 0.8     1e+05 32    0.2307839 0.0017881485 0.004368571 0.2324400\n",
       "2 1.0     1e+05 32    0.1829000 0.0011718570 0.001564757 0.1840025\n",
       "3 1.2     1e+05 32    0.1524469 0.0003991672 0.001129774 0.1523772\n",
       "  ivolRichardson biasRichardson twoSdRichardson\n",
       "1 0.2291167      0.0001210120   0.004577552    \n",
       "2 0.1817976      0.0000694464   0.001656310    \n",
       "3 0.1525166      0.0004688019   0.001209160    "
      ]
     },
     "metadata": {},
     "output_type": "display_data"
    }
   ],
   "source": [
    "HestonMCAndersen(paramsBCC)(S0=1, T=1, strikes, N=100000, m=16, evolve=evolveEulerFAndersen, exactVols=exactHestonVolsBCC) "
   ]
  },
  {
   "cell_type": "markdown",
   "metadata": {
    "slideshow": {
     "slide_type": "slide"
    }
   },
   "source": [
    "### Convergence with BCC parameters"
   ]
  },
  {
   "cell_type": "code",
   "execution_count": 17,
   "metadata": {
    "slideshow": {
     "slide_type": "fragment"
    }
   },
   "outputs": [
    {
     "data": {
      "image/png": "[encoded data removed]",
      "text/plain": [
       "plot without title"
      ]
     },
     "metadata": {},
     "output_type": "display_data"
    }
   ],
   "source": [
    "tmp <- resF.BCC\n",
    "sdThreshold <- mean(tmp$twoSd)\n",
    "plot(1/tmp$Steps,abs(tmp$bias),type=\"b\",log=\"xy\",col=\"purple\",ylab=\"Implied volatility bias\",ylim=c(0.00001,0.05),xlab=expression(paste(Delta,t, \" (Years)\")))\n",
    "points(1/tmp$Steps,abs(tmp$biasRichardson),type=\"b\",col=\"purple\",lty=2)\n",
    "curve(sdThreshold+x*0,from=1/512, to=1/4,add=T,col=\"orange\",lwd=2)\n",
    "tmp <- resFAndersen.BCC\n",
    "lines(1/tmp$Steps,abs(tmp$bias),type=\"b\",col=\"green4\",ylab=\"Implied volatility bias\",ylim=c(0.00001,0.05),xlab=expression(paste(Delta,t, \" (Years)\")))\n",
    "points(1/tmp$Steps,abs(tmp$biasRichardson),type=\"b\",col=\"green4\",lty=2)"
   ]
  },
  {
   "cell_type": "markdown",
   "metadata": {
    "slideshow": {
     "slide_type": "fragment"
    }
   },
   "source": [
    "Figure 3: One year option, $K=1.2$ with BCC parameters.  Euler with full truncation in purple;  with Andersen $x$-discretization in green; dashed lines are from Richardson extrapolation.\n",
    "\n",
    "* Andersen's $x$ discretization seems to do much better!"
   ]
  },
  {
   "cell_type": "markdown",
   "metadata": {
    "slideshow": {
     "slide_type": "slide"
    }
   },
   "source": [
    "### Convergence with BCC2 parameters\n"
   ]
  },
  {
   "cell_type": "code",
   "execution_count": 18,
   "metadata": {
    "slideshow": {
     "slide_type": "fragment"
    }
   },
   "outputs": [
    {
     "data": {
      "image/png": "[encoded data removed]",
      "text/plain": [
       "plot without title"
      ]
     },
     "metadata": {},
     "output_type": "display_data"
    }
   ],
   "source": [
    "tmp <- resF.BCC2\n",
    "sdThreshold <- mean(tmp$twoSd)\n",
    "plot(1/tmp$Steps,abs(tmp$bias),type=\"b\",log=\"xy\",col=\"purple\",ylab=\"Implied volatility bias\",ylim=c(0.00001,0.05),xlab=expression(paste(Delta,t, \" (Years)\")))\n",
    "points(1/tmp$Steps,abs(tmp$biasRichardson),type=\"b\",col=\"purple\",lty=2)\n",
    "curve(sdThreshold+x*0,from=1/512, to=1/4,add=T,col=\"orange\",lwd=2)\n",
    "tmp <- resFAndersen.BCC2\n",
    "lines(1/tmp$Steps,abs(tmp$bias),type=\"b\",col=\"green4\",ylab=\"Implied volatility bias\",ylim=c(0.00001,0.05),xlab=expression(paste(Delta,t, \" (Years)\")))\n",
    "points(1/tmp$Steps,abs(tmp$biasRichardson),type=\"b\",col=\"green4\",lty=2)"
   ]
  },
  {
   "cell_type": "markdown",
   "metadata": {
    "slideshow": {
     "slide_type": "fragment"
    }
   },
   "source": [
    "Figure 4: Euler with full truncation in purple; with Andersen $x$-discretization in green; dashed lines are with Richardson extrapolation ($K=1.2$; $T=1$)\n",
    "\n",
    "* Andersen's discretization is better, and Richardson extrapolation improves it."
   ]
  },
  {
   "cell_type": "markdown",
   "metadata": {
    "slideshow": {
     "slide_type": "slide"
    }
   },
   "source": [
    "### The Alfonsi Heston scheme\n",
    "\n",
    "[Alfonsi (2010)]<sup id=\"cite_ref-Alfonsi:2010\" class=\"reference\"><a href=\"#cite_note-Alfonsi:2010\"><span>[</span>1<span>]</span></a></sup> implements the following scheme for variance:\n",
    "\n",
    "<a name=\"eq:Alfonsi2010\"></a>(6)\n",
    "\\begin{eqnarray}\n",
    "&& v_{t+\\Delta}\\\\&=&e^{-\\lambda\\,\\Delta/2}\\,\\left(\\sqrt{v_t\\,e^{-\\lambda\\,\\Delta/2}+\\left[\\lambda \\,\\bar v-\\frac{\\eta^2}{4}\\right]\\,\\psi\\left(\\frac{\\Delta}{2}\\right)}\n",
    "+\\frac{\\eta}{2}\\,\\sqrt{\\Delta}\\,Z\n",
    "\\right)^2\\nonumber\\\\\n",
    "&&\\quad\\quad\\quad+\\left[\\lambda \\,\\bar v-\\frac{\\eta^2}{4}\\right]\\,\\psi\\left(\\frac{\\Delta}{2}\\right)\n",
    "\\end{eqnarray}\n",
    "with $Z \\sim N(0,1)$ and \n",
    "\n",
    "$$\n",
    "\\psi(x):=\\frac{1-e^{-\\lambda x}}{\\lambda}\n",
    "$$\n",
    "\n",
    "Note in particular that $v_{t+\\Delta}>0$ if $4\\,\\lambda\\,\\bar v > \\eta^2$.  So the discretized variance process cannot hit zero with BCC or BCC1 parameters."
   ]
  },
  {
   "cell_type": "markdown",
   "metadata": {
    "slideshow": {
     "slide_type": "slide"
    }
   },
   "source": [
    "### Alfonsi (2010) code"
   ]
  },
  {
   "cell_type": "code",
   "execution_count": 19,
   "metadata": {
    "slideshow": {
     "slide_type": "fragment"
    }
   },
   "outputs": [],
   "source": [
    "evolveAlfonsi <- function(v,x,dt,W1,W2,L=NULL){\n",
    "\n",
    "        eldt2 <- exp(-lambda*dt/2);\n",
    "\n",
    "        #Variance process\n",
    "        vbarp <- vbar - eta^2/(4*lambda);\n",
    "        psi <- (1-eldt2)/lambda;\n",
    "        v1 <- v*eldt2 + lambda*vbarp*psi;\n",
    "        v2 <- (v1 > 0) * v1; # Take v2 = 0 if v1<0, else v2=v1\n",
    "        par <- sqrt(v2) + eta/2*sqrt(dt)*W2;\n",
    "        vf <- eldt2*par*par + lambda*vbarp*psi;\n",
    "\n",
    "        # Log-stock process (Andersen equation (33))\n",
    "        vvf <- (v+vf > 0) * (v+vf);\n",
    "        dw <- vvf/2*dt;\n",
    "        x <- x  - dw/2 + rho2m1*sqrt(dw)*W1 +\n",
    "            rho/eta*(lambda*dw + vf-v -lambda*vbar*dt) ;\n",
    "        # Impose martingale constraint\n",
    "        x <- x - log(mean(exp(x)));\n",
    "        v <- vf;\n",
    "        return(cbind(x,v));\n",
    "}"
   ]
  },
  {
   "cell_type": "markdown",
   "metadata": {
    "slideshow": {
     "slide_type": "subslide"
    }
   },
   "source": [
    "Here's Monte Carlo code that uses the above time step:"
   ]
  },
  {
   "cell_type": "code",
   "execution_count": 20,
   "metadata": {
    "slideshow": {
     "slide_type": "fragment"
    }
   },
   "outputs": [],
   "source": [
    "HestonMC2 <- function(params){\n",
    "    \n",
    "    is.even <- function(j){as.logical((j+1) %% 2)}\n",
    "    \n",
    "    res <- function(S0, T, AK, N, m, evolve,exactVols=NULL)\n",
    "    {\n",
    "  \n",
    "    lambda <<- params$lambda;\n",
    "    rho <<- params$rho;\n",
    "    eta <<- params$eta;\n",
    "    vbar <<- params$vbar;\n",
    "    v0 <<- params$v;\n",
    "  \n",
    "    n <- m*2; #n is number of timesteps = 2*m so we can use Romberg extrapolation\n",
    "    sqrt2 <- sqrt(2);\n",
    "    rho2m1 <<- sqrt(1-rho*rho);\n",
    "    vbarp <<- vbar - eta^2/(4*lambda);\n",
    "    \n",
    "    negCount <- 0;\n",
    "    \n",
    "    # We use a vertical array, one element per M.C. path\n",
    "    x <- rep(0,N); v <- rep(1,N)*v0;\n",
    "    xm <- x; vm <- v;\n",
    "    W1m <- rep(0,N); W2m <- rep(0,N); \n",
    "  \n",
    "    # Loop for bias computation (N small, n big)\n",
    "    for (i in 1:n)\n",
    "    {\n",
    "        # Two sets of correlated normal random vars.\n",
    "        \n",
    "        W1 <- rnorm(N);\n",
    "        W2 <- rnorm(N);\n",
    "        W1 <- W1 - mean(W1); W1 <- W1/sd(W1);\n",
    "        W2 <- W2 - mean(W2); W2 <- W2/sd(W2);\n",
    "        # Now W1 and W2 are forced to have mean=0 and sd=1\n",
    "        \n",
    "        W2p <- W2 - cor(W1,W2)*W1; # Eliminate actual correlation\n",
    "        W2p <- W2p - mean(W2p); W2 <- W2p/sd(W2p); \n",
    "        # Now W1 and W2 have mean=0, sd=1 and correlation=0\n",
    "        \n",
    "        L <- rbinom(N, size=1, prob=1/2); # Bernoulli rv for NV step\n",
    "    \n",
    "        # Add code for subgrid\n",
    "        W1m <- W1m + W1/sqrt2; W2m <- W2m + W2/sqrt2; # N(0,1) rv's for subgrid\n",
    "       \n",
    "        if (is.even(i)) {\n",
    "            #print(c(i,mean(W1m),mean(W2m),sd(W1m),sd(W2m),cor(W1m,W2m)));\n",
    "            resm <- evolve(vm,xm,T/m,W1m,W2m,L);\n",
    "            xm <- resm[,1];\n",
    "            vm <- resm[,2];\n",
    "            W1m <- rep(0,N); W2m <- rep(0,N);\n",
    "        }\n",
    "    \n",
    "        res <- evolve(v,x,T/n,W1,W2,L);\n",
    "        x <- res[,1];\n",
    "        v <- res[,2];\n",
    "        negCount <- negCount +mean(v<0)/n; #Probability of negative variance per path per timestep\n",
    "    \n",
    "  }\n",
    "\n",
    "    S <- S0*exp(x);\n",
    "    Sm <- S0*exp(xm);\n",
    "\n",
    "    # Now we have three vectors of final stock prices\n",
    "  \n",
    "    M <- length(AK);\n",
    "    AV <- numeric(M); AVdev <- numeric(M);\n",
    "    BSV <- numeric(M); BSVH <- numeric(M); BSVL <- numeric(M);\n",
    "    iv2SD <- numeric(M); bias <- numeric(M);\n",
    "    AVm <- numeric(M); AVmdev <- numeric(M);\n",
    "    BSVm <- numeric(M); BSVHm <- numeric(M); BSVLm <- numeric(M);\n",
    "    iv2SDm <- numeric(M);\n",
    "    AV1 <- numeric(M); AV1dev <- numeric(M);\n",
    "    BSV1 <- numeric(M); BSVH1 <- numeric(M); BSVL1 <- numeric(M);\n",
    "    iv2SDrom <- numeric(M);biasRom <- numeric(M);\n",
    "  \n",
    "  # Evaluate mean call value for each path\n",
    "  for (i in 1:M)\n",
    "  {\n",
    "    # 2*m timesteps\n",
    "    K <- AK[i];\n",
    "    V <- (S>K)*(S - K); # Boundary condition for European call\n",
    "    AV[i] <- mean(V);\n",
    "    AVdev[i] <- sqrt(var(V)/length(V));  \n",
    "    \n",
    "    BSV[i] <- BSImpliedVolCall(S0, K, T, 0, AV[i]);\n",
    "    BSVL[i] <- BSImpliedVolCall(S0, K, T, 0, AV[i] - AVdev[i]);\n",
    "    BSVH[i] <- BSImpliedVolCall(S0, K, T, 0, AV[i] + AVdev[i]);\n",
    "    iv2SD[i] <- (BSVH[i]-BSVL[i]);\n",
    "    \n",
    "    # m timesteps\n",
    "    Vm <- (Sm>K)*(Sm - K); # Boundary condition for European call\n",
    "    AVm[i] <- mean(Vm);\n",
    "    AVmdev[i] <- sd(Vm) / sqrt(N);\n",
    "    BSVm[i] <- BSImpliedVolCall(S0, K, T, 0, AVm[i]);\n",
    "    BSVLm[i] <- BSImpliedVolCall(S0, K, T, 0, AVm[i] - AVmdev[i]);\n",
    "    BSVHm[i] <- BSImpliedVolCall(S0, K, T, 0, AVm[i] + AVmdev[i]);\n",
    "    iv2SDm[i] <- (BSVH[i]-BSVL[i]);\n",
    "    \n",
    "    # Richardson extrapolation estimates \n",
    "    V1 <- 2*V - Vm;\n",
    "    AV1[i] <- mean(V1);\n",
    "    AV1dev[i] <- sd(V1) / sqrt(N);\n",
    "    BSV1[i] <- BSImpliedVolCall(S0, K, T, 0, AV1[i]);\n",
    "    BSVL1[i] <- BSImpliedVolCall(S0, K, T, 0, AV1[i] - AV1dev[i]);\n",
    "    BSVH1[i] <- BSImpliedVolCall(S0, K, T, 0, AV1[i] + AV1dev[i]);\n",
    "    iv2SDrom[i] <- (BSVH1[i]-BSVL1[i]);\n",
    "    \n",
    "    if(!is.null(exactVols)) {bias <- BSV-exactVols};\n",
    "    if(!is.null(exactVols)) {biasRom <- BSV1-exactVols};\n",
    "  }\n",
    "  \n",
    "  \n",
    "  l.AK <- length(AK)      \n",
    "  data.out <- data.frame(AK,rep(N,l.AK),rep(2*m,l.AK),BSV,bias,iv2SD,BSVm,BSV1,biasRom,iv2SDrom) \n",
    "  names(data.out) <- c(\"Strikes\",\"Paths\",\"Steps\",\"ivol\",\"bias\",\"twoSd\",\"ivolm\", \"ivolRichardson\", \"biasRichardson\",\"twoSdRichardson\") \n",
    "  return(data.out) \n",
    "  \n",
    "  \n",
    "}\n",
    "return(res)\n",
    "}"
   ]
  },
  {
   "cell_type": "markdown",
   "metadata": {
    "slideshow": {
     "slide_type": "subslide"
    }
   },
   "source": [
    "Here's an example of how to call the code:"
   ]
  },
  {
   "cell_type": "code",
   "execution_count": 21,
   "metadata": {
    "slideshow": {
     "slide_type": "fragment"
    }
   },
   "outputs": [
    {
     "data": {
      "text/html": [
       "<table>\n",
       "<thead><tr><th scope=col>Strikes</th><th scope=col>Paths</th><th scope=col>Steps</th><th scope=col>ivol</th><th scope=col>bias</th><th scope=col>twoSd</th><th scope=col>ivolm</th><th scope=col>ivolRichardson</th><th scope=col>biasRichardson</th><th scope=col>twoSdRichardson</th></tr></thead>\n",
       "<tbody>\n",
       "\t<tr><td>0.8          </td><td>1e+06        </td><td>8            </td><td>0.2286438    </td><td>-0.0003518999</td><td>0.0013884503 </td><td>0.2281540    </td><td>0.2291327    </td><td> 1.369392e-04</td><td>0.0014290170 </td></tr>\n",
       "\t<tr><td>1.0          </td><td>1e+06        </td><td>8            </td><td>0.1815212    </td><td>-0.0002069074</td><td>0.0004931474 </td><td>0.1812450    </td><td>0.1817975    </td><td> 6.932751e-05</td><td>0.0005163264 </td></tr>\n",
       "\t<tr><td>1.2          </td><td>1e+06        </td><td>8            </td><td>0.1519196    </td><td>-0.0001281308</td><td>0.0003556276 </td><td>0.1520906    </td><td>0.1517483    </td><td>-2.994116e-04</td><td>0.0003827734 </td></tr>\n",
       "</tbody>\n",
       "</table>\n"
      ],
      "text/latex": [
       "\\begin{tabular}{r|llllllllll}\n",
       " Strikes & Paths & Steps & ivol & bias & twoSd & ivolm & ivolRichardson & biasRichardson & twoSdRichardson\\\\\n",
       "\\hline\n",
       "\t 0.8           & 1e+06         & 8             & 0.2286438     & -0.0003518999 & 0.0013884503  & 0.2281540     & 0.2291327     &  1.369392e-04 & 0.0014290170 \\\\\n",
       "\t 1.0           & 1e+06         & 8             & 0.1815212     & -0.0002069074 & 0.0004931474  & 0.1812450     & 0.1817975     &  6.932751e-05 & 0.0005163264 \\\\\n",
       "\t 1.2           & 1e+06         & 8             & 0.1519196     & -0.0001281308 & 0.0003556276  & 0.1520906     & 0.1517483     & -2.994116e-04 & 0.0003827734 \\\\\n",
       "\\end{tabular}\n"
      ],
      "text/markdown": [
       "\n",
       "Strikes | Paths | Steps | ivol | bias | twoSd | ivolm | ivolRichardson | biasRichardson | twoSdRichardson | \n",
       "|---|---|---|\n",
       "| 0.8           | 1e+06         | 8             | 0.2286438     | -0.0003518999 | 0.0013884503  | 0.2281540     | 0.2291327     |  1.369392e-04 | 0.0014290170  | \n",
       "| 1.0           | 1e+06         | 8             | 0.1815212     | -0.0002069074 | 0.0004931474  | 0.1812450     | 0.1817975     |  6.932751e-05 | 0.0005163264  | \n",
       "| 1.2           | 1e+06         | 8             | 0.1519196     | -0.0001281308 | 0.0003556276  | 0.1520906     | 0.1517483     | -2.994116e-04 | 0.0003827734  | \n",
       "\n",
       "\n"
      ],
      "text/plain": [
       "  Strikes Paths Steps ivol      bias          twoSd        ivolm    \n",
       "1 0.8     1e+06 8     0.2286438 -0.0003518999 0.0013884503 0.2281540\n",
       "2 1.0     1e+06 8     0.1815212 -0.0002069074 0.0004931474 0.1812450\n",
       "3 1.2     1e+06 8     0.1519196 -0.0001281308 0.0003556276 0.1520906\n",
       "  ivolRichardson biasRichardson twoSdRichardson\n",
       "1 0.2291327       1.369392e-04  0.0014290170   \n",
       "2 0.1817975       6.932751e-05  0.0005163264   \n",
       "3 0.1517483      -2.994116e-04  0.0003827734   "
      ]
     },
     "metadata": {},
     "output_type": "display_data"
    }
   ],
   "source": [
    "HestonMC2(paramsBCC)(S0=1, T=1, AK=strikes, N=1000000, m=4, evolve=evolveAlfonsi, exactVols=exactHestonVolsBCC) "
   ]
  },
  {
   "cell_type": "markdown",
   "metadata": {
    "slideshow": {
     "slide_type": "slide"
    }
   },
   "source": [
    "### Convergence of the Alfonsi scheme with BCC parameters"
   ]
  },
  {
   "cell_type": "code",
   "execution_count": 22,
   "metadata": {
    "slideshow": {
     "slide_type": "fragment"
    }
   },
   "outputs": [
    {
     "data": {
      "image/png": "[encoded data removed]",
      "text/plain": [
       "plot without title"
      ]
     },
     "metadata": {},
     "output_type": "display_data"
    }
   ],
   "source": [
    "tmp <- resFAndersen.BCC\n",
    "sdThreshold <- mean(tmp$twoSd)\n",
    "plot(1/tmp$Steps,abs(tmp$bias),type=\"b\",log=\"xy\",col=\"green4\",ylab=\"Implied volatility bias\",ylim=c(0.00001,0.05),xlab=expression(paste(Delta,t, \" (Years)\")))\n",
    "points(1/tmp$Steps,abs(tmp$biasRichardson),type=\"b\",col=\"green4\",lty=2)\n",
    "curve(sdThreshold+x*0,from=1/512, to=1/4,add=T,col=\"orange\",lwd=2)\n",
    "tmp <- resAlfonsi.BCC\n",
    "lines(1/tmp$Steps,abs(tmp$bias),type=\"b\",col=\"brown\",ylab=\"Implied volatility bias\",ylim=c(0.00001,0.05),xlab=expression(paste(Delta,t, \" (Years)\")))\n",
    "points(1/tmp$Steps,abs(tmp$biasRichardson),type=\"b\",col=\"brown\",lty=2)"
   ]
  },
  {
   "cell_type": "markdown",
   "metadata": {
    "slideshow": {
     "slide_type": "fragment"
    }
   },
   "source": [
    "Figure 5: Euler with full truncation and Andersen $x$-discretization in green; Alfonsi in brown; dashed lines are with Richardson extrapolation ($T=1$, $K=1.2$)"
   ]
  },
  {
   "cell_type": "markdown",
   "metadata": {
    "slideshow": {
     "slide_type": "slide"
    }
   },
   "source": [
    "### Convergence of the Alfonsi scheme with BCC2 parameters"
   ]
  },
  {
   "cell_type": "code",
   "execution_count": 23,
   "metadata": {
    "slideshow": {
     "slide_type": "fragment"
    }
   },
   "outputs": [
    {
     "data": {
      "image/png": "[encoded data removed]",
      "text/plain": [
       "plot without title"
      ]
     },
     "metadata": {},
     "output_type": "display_data"
    }
   ],
   "source": [
    "tmp <- resFAndersen.BCC2\n",
    "sdThreshold <- mean(tmp$twoSd)\n",
    "plot(1/tmp$Steps,abs(tmp$bias),type=\"b\",log=\"xy\",col=\"green4\",ylab=\"Implied volatility bias\",ylim=c(0.00001,0.05),xlab=expression(paste(Delta,t, \" (Years)\")))\n",
    "points(1/tmp$Steps,abs(tmp$biasRichardson),type=\"b\",col=\"green4\",lty=2)\n",
    "curve(sdThreshold+x*0,from=1/512, to=1/4,add=T,col=\"orange\",lwd=2)\n",
    "tmp <- resAlfonsi.BCC2\n",
    "lines(1/tmp$Steps,abs(tmp$bias),type=\"b\",col=\"brown\",ylab=\"Implied volatility bias\",ylim=c(0.00001,0.05),xlab=expression(paste(Delta,t, \" (Years)\")))\n",
    "points(1/tmp$Steps,abs(tmp$biasRichardson),type=\"b\",col=\"brown\",lty=2)"
   ]
  },
  {
   "cell_type": "markdown",
   "metadata": {
    "slideshow": {
     "slide_type": "fragment"
    }
   },
   "source": [
    "Figure 6: Euler with full truncation and Andersen $x$-discretization in green; Alfonsi in brown; dashed lines are with Richardson extrapolation ($T=1$, $K=1.2$)\n",
    "\n",
    "* Now Alfonsi is underperforming."
   ]
  },
  {
   "cell_type": "markdown",
   "metadata": {
    "slideshow": {
     "slide_type": "slide"
    }
   },
   "source": [
    "### Alfonsi code with Andersen trick"
   ]
  },
  {
   "cell_type": "code",
   "execution_count": 24,
   "metadata": {
    "slideshow": {
     "slide_type": "fragment"
    }
   },
   "outputs": [],
   "source": [
    "evolveAlfonsiF <- function(v,x,dt,W1,W2,L=NULL){\n",
    "\n",
    "        eldt2 <- exp(-lambda*dt/2);\n",
    "\n",
    "        #Variance process\n",
    "        vbarp <- vbar - eta^2/(4*lambda);\n",
    "        psi <- (1-eldt2)/lambda;\n",
    "        v1 <- v*eldt2+lambda*vbarp*psi;\n",
    "        v2 <- (v1 > 0) * v1; # Take v2 = 0 if v1<0, else v2=v1\n",
    "        par <- sqrt(v2) + eta/2 * sqrt(dt)*W2;\n",
    "        vf <- eldt2*par*par +lambda*vbarp*psi + v1 - v2;\n",
    "                                # Full truncation\n",
    "\n",
    "        # Log-stock process (Andersen equation (33))\n",
    "        vvf <- (v+vf > 0) * (v+vf);\n",
    "        dw <- vvf/2*dt;\n",
    "        x <- x  - dw/2 + rho2m1*sqrt(dw)*W1 +\n",
    "            rho/eta*(lambda*dw + vf-v -lambda*vbar*dt) ;\n",
    "        # Impose martingale constraint\n",
    "        x <- x - log(mean(exp(x)));\n",
    "        v <- vf;\n",
    "        return(cbind(x,v));\n",
    "}"
   ]
  },
  {
   "cell_type": "markdown",
   "metadata": {
    "slideshow": {
     "slide_type": "subslide"
    }
   },
   "source": [
    "Once again, here's how to run the code:"
   ]
  },
  {
   "cell_type": "code",
   "execution_count": 25,
   "metadata": {
    "slideshow": {
     "slide_type": "fragment"
    }
   },
   "outputs": [
    {
     "data": {
      "text/html": [
       "<table>\n",
       "<thead><tr><th scope=col>Strikes</th><th scope=col>Paths</th><th scope=col>Steps</th><th scope=col>ivol</th><th scope=col>bias</th><th scope=col>twoSd</th><th scope=col>ivolm</th><th scope=col>ivolRichardson</th><th scope=col>biasRichardson</th><th scope=col>twoSdRichardson</th></tr></thead>\n",
       "<tbody>\n",
       "\t<tr><td>0.8          </td><td>1e+06        </td><td>8            </td><td>0.2288055    </td><td>-0.0001902132</td><td>0.0013882511 </td><td>0.2283923    </td><td>0.2292181    </td><td> 2.223445e-04</td><td>0.0014292912 </td></tr>\n",
       "\t<tr><td>1.0          </td><td>1e+06        </td><td>8            </td><td>0.1816118    </td><td>-0.0001163415</td><td>0.0004937795 </td><td>0.1812673    </td><td>0.1819563    </td><td> 2.281701e-04</td><td>0.0005169019 </td></tr>\n",
       "\t<tr><td>1.2          </td><td>1e+06        </td><td>8            </td><td>0.1521840    </td><td> 0.0001362294</td><td>0.0003554202 </td><td>0.1523776    </td><td>0.1519901    </td><td>-5.770984e-05</td><td>0.0003828855 </td></tr>\n",
       "</tbody>\n",
       "</table>\n"
      ],
      "text/latex": [
       "\\begin{tabular}{r|llllllllll}\n",
       " Strikes & Paths & Steps & ivol & bias & twoSd & ivolm & ivolRichardson & biasRichardson & twoSdRichardson\\\\\n",
       "\\hline\n",
       "\t 0.8           & 1e+06         & 8             & 0.2288055     & -0.0001902132 & 0.0013882511  & 0.2283923     & 0.2292181     &  2.223445e-04 & 0.0014292912 \\\\\n",
       "\t 1.0           & 1e+06         & 8             & 0.1816118     & -0.0001163415 & 0.0004937795  & 0.1812673     & 0.1819563     &  2.281701e-04 & 0.0005169019 \\\\\n",
       "\t 1.2           & 1e+06         & 8             & 0.1521840     &  0.0001362294 & 0.0003554202  & 0.1523776     & 0.1519901     & -5.770984e-05 & 0.0003828855 \\\\\n",
       "\\end{tabular}\n"
      ],
      "text/markdown": [
       "\n",
       "Strikes | Paths | Steps | ivol | bias | twoSd | ivolm | ivolRichardson | biasRichardson | twoSdRichardson | \n",
       "|---|---|---|\n",
       "| 0.8           | 1e+06         | 8             | 0.2288055     | -0.0001902132 | 0.0013882511  | 0.2283923     | 0.2292181     |  2.223445e-04 | 0.0014292912  | \n",
       "| 1.0           | 1e+06         | 8             | 0.1816118     | -0.0001163415 | 0.0004937795  | 0.1812673     | 0.1819563     |  2.281701e-04 | 0.0005169019  | \n",
       "| 1.2           | 1e+06         | 8             | 0.1521840     |  0.0001362294 | 0.0003554202  | 0.1523776     | 0.1519901     | -5.770984e-05 | 0.0003828855  | \n",
       "\n",
       "\n"
      ],
      "text/plain": [
       "  Strikes Paths Steps ivol      bias          twoSd        ivolm    \n",
       "1 0.8     1e+06 8     0.2288055 -0.0001902132 0.0013882511 0.2283923\n",
       "2 1.0     1e+06 8     0.1816118 -0.0001163415 0.0004937795 0.1812673\n",
       "3 1.2     1e+06 8     0.1521840  0.0001362294 0.0003554202 0.1523776\n",
       "  ivolRichardson biasRichardson twoSdRichardson\n",
       "1 0.2292181       2.223445e-04  0.0014292912   \n",
       "2 0.1819563       2.281701e-04  0.0005169019   \n",
       "3 0.1519901      -5.770984e-05  0.0003828855   "
      ]
     },
     "metadata": {},
     "output_type": "display_data"
    }
   ],
   "source": [
    "HestonMC2(paramsBCC)(S0=1, T=1, AK=strikes, N=1000000, m=4, evolve=evolveAlfonsiF, exactVols=exactHestonVolsBCC) "
   ]
  },
  {
   "cell_type": "markdown",
   "metadata": {
    "slideshow": {
     "slide_type": "slide"
    }
   },
   "source": [
    "### Convergence of Alfonsi scheme with full truncation and BCC2 parameters\n"
   ]
  },
  {
   "cell_type": "code",
   "execution_count": 26,
   "metadata": {
    "slideshow": {
     "slide_type": "fragment"
    }
   },
   "outputs": [
    {
     "data": {
      "image/png": "[encoded data removed]",
      "text/plain": [
       "plot without title"
      ]
     },
     "metadata": {},
     "output_type": "display_data"
    }
   ],
   "source": [
    "tmp <- resFAndersen.BCC2\n",
    "sdThreshold <- mean(tmp$twoSd)\n",
    "plot(1/tmp$Steps,abs(tmp$bias),type=\"b\",log=\"xy\",col=\"green4\",ylab=\"Implied volatility bias\",ylim=c(0.00001,0.05),xlab=expression(paste(Delta,t, \" (Years)\")))\n",
    "points(1/tmp$Steps,abs(tmp$biasRichardson),type=\"b\",col=\"green4\",lty=2)\n",
    "curve(sdThreshold+x*0,from=1/512, to=1/4,add=T,col=\"orange\",lwd=2)\n",
    "tmp <- resAlfonsiF.BCC2\n",
    "lines(1/tmp$Steps,abs(tmp$bias),type=\"b\",col=\"deeppink2\",ylab=\"Implied volatility bias\",ylim=c(0.00001,0.05),xlab=expression(paste(Delta,t, \" (Years)\")))\n",
    "points(1/tmp$Steps,abs(tmp$biasRichardson),type=\"b\",col=\"deeppink2\",lty=2)"
   ]
  },
  {
   "cell_type": "markdown",
   "metadata": {
    "slideshow": {
     "slide_type": "fragment"
    }
   },
   "source": [
    "Figure 7: Euler with full truncation and Andersen $x$-discretization in green; Alfonsi with full truncation in pink; dashed lines are with Richardson extrapolation ($T=1$, $K=1.2$)\n",
    "\n",
    "* Now the problem with Alfonsi is fixed!"
   ]
  },
  {
   "cell_type": "markdown",
   "metadata": {
    "slideshow": {
     "slide_type": "slide"
    }
   },
   "source": [
    "### Convergence of moments\n",
    "\n",
    "Recall from Lecture 3 that in the Heston model,\n",
    "\n",
    "$$\n",
    "\\hat v_{t+\\Delta}:=\\mathbb{E}\\left[v_{t+\\Delta}|v_t\\right]=\\bar v+(v_t-\\bar v)\\,e^{-\\lambda\\,\\Delta}\n",
    "$$\n",
    "\n",
    "and\n",
    "\n",
    "$$\n",
    "\\begin{eqnarray}\n",
    "\\Var\\left[v_{t+\\Delta}|v_t\\right]&=&\\int_t^{t+\\Delta}\\,e^{-2\\,\\lambda\\,(T-t)}\\,\\eta^2\\,\\hat v_s\\,dt\\\\\n",
    "&=&\\frac{\\eta ^2}{\\lambda}\\,  \\left(1-e^{- \\lambda\\,\\Delta }\\right) \\left[ e^{- \\lambda\\,\\Delta }\\,v_t+\n",
    "\\frac{1}{2} \\left(1-e^{- \\lambda\\,\\Delta }\\right)\\,\\bar v\n",
    "  \\right]\n",
    "\\end{eqnarray}\n",
    "$$"
   ]
  },
  {
   "cell_type": "markdown",
   "metadata": {
    "slideshow": {
     "slide_type": "subslide"
    }
   },
   "source": [
    "We can show that if $\\tilde v$ denotes the Alfonsi (2010) discretization [(4)](#eq:Alfonsi2010), we have\n",
    "\n",
    "$$\n",
    "\\mathbb{E}[\\tilde v_{t+\\Delta}|v_t]=\\mathbb{E}[ v_{t+\\Delta}|v_t]+\\mathcal{O}(\\Delta^3)\n",
    "$$\n",
    "\n",
    "and\n",
    "\n",
    "$$\n",
    "\\Var[\\tilde v_{t+\\Delta}|v_t]=\\Var[ v_{t+\\Delta}|v_t]+\\mathcal{O}(\\Delta^3)\n",
    "$$"
   ]
  },
  {
   "cell_type": "markdown",
   "metadata": {
    "slideshow": {
     "slide_type": "slide"
    }
   },
   "source": [
    "### Richardson extrapolation again\n",
    "\n",
    "Suppose now that our scheme has order 2 weak convergence and so generates an estimate of the true value of a claim as follows:\n",
    "\n",
    "$$\n",
    "\\mathbb{E}\\left[g(\\hat X_T)\\right]=\\mathbb{E}\\left[g(X_T)\\right]+c\\,\\Delta^2  + \\mathcal{O}(\\Delta^3)\n",
    "$$\n",
    "where $\\hat X$ is the discretization.\n",
    "\n",
    "\n",
    "\n",
    "Then we have\n",
    "\n",
    "$$\n",
    "4\\,\\mathbb{E}\\left[g\\left(\\hat X^{\\Delta}_T\\right)\\right]-\\mathbb{E}\\left[ g\\left(\\hat X^{2\\,\\Delta}_T\\right)\\right]=3\\,\\mathbb{E}\\left[g(X_T)\\right] + \\mathcal{O}(\\Delta^3)\n",
    "$$"
   ]
  },
  {
   "cell_type": "markdown",
   "metadata": {
    "slideshow": {
     "slide_type": "subslide"
    }
   },
   "source": [
    "* Convergence does look quadratic for our Euler discretizations with BCC parameters so Richardson extrapolation might work in this case.\n",
    "\n",
    "* However, convergence seems to be sublinear in the BCC2 case, and quadratic Richardson will not work there."
   ]
  },
  {
   "cell_type": "markdown",
   "metadata": {
    "slideshow": {
     "slide_type": "slide"
    }
   },
   "source": [
    "### Explaining the Alfonsi scheme\n",
    "\n",
    "* How could Alfonsi have been so smart as to pick this particular discretization where errors cancel to $\\mathcal{O}(\\Delta^2)$?\n",
    "\n",
    "    * Answer: He implemented a scheme due to Ninomiya and Victoir (NV)."
   ]
  },
  {
   "cell_type": "markdown",
   "metadata": {
    "slideshow": {
     "slide_type": "subslide"
    }
   },
   "source": [
    "* [Ninomiya and Victoir]<sup id=\"cite_ref-NinomiyaVictoir\" class=\"reference\"><a href=\"#cite_note-NinomiyaVictoir\">[8]</a></sup> showed in complete generality that their scheme  has second order weak convergence.\n",
    "\n",
    "    * In particular, the mean and variance of the discretized process must be accurate to second order in the timestep.\n",
    "    * Alfonsi uses NV discretization only for the variance process.\n",
    "    \n",
    "<!--\n",
    "####Intuition for the NV solution\n",
    "\n",
    "The following slides are for interest only, and understanding of the contents will not be tested; neither in the homework assignments nor in the final exam.\n",
    "-->"
   ]
  },
  {
   "cell_type": "markdown",
   "metadata": {
    "slideshow": {
     "slide_type": "slide"
    }
   },
   "source": [
    "### Operator splitting\n",
    "\n",
    "\n",
    "* Suppose we have two operators (matrices $A_1$ and $A_2$ say) that don't commute in general.\n",
    "\n",
    "* Write the solution to the ODE\n",
    "\n",
    "    $$\n",
    "    \\frac{d x}{dt}=A\\,x\n",
    "    $$\n",
    "\n",
    "    as\n",
    "    $$\n",
    "    x(t)=e^{A\\,t}\\,x(0).\n",
    "    $$\n",
    "\n",
    "* Now split the operator as $A=A_1+A_2$.  Then\n",
    "\n",
    "$$\n",
    "e^{A\\,t}\\,x(0) \\neq e^{A_1\\,t}\\,e^{A_2\\,t}\\,x(0)\n",
    "$$"
   ]
  },
  {
   "cell_type": "markdown",
   "metadata": {
    "slideshow": {
     "slide_type": "slide"
    }
   },
   "source": [
    "### The Baker-Campbell-Hausdorff formula\n",
    "\n",
    "From Wikipedia, the Baker-Campbell-Hausdorff formula is the solution to\n",
    "\n",
    "$$\n",
    "Z=\\log{e^{X}\\,e^{Y}}\n",
    "$$\n",
    "for noncommutative ${X}$ and ${Y}$.\n",
    "\n",
    "\n",
    "$$\n",
    "Z=X+Y+\\frac12[X,Y]+\\frac1{12}[X,[X,Y]]-\\frac{1}{12}[Y,[X,Y]]+...\n",
    "$$"
   ]
  },
  {
   "cell_type": "markdown",
   "metadata": {
    "slideshow": {
     "slide_type": "slide"
    }
   },
   "source": [
    "### The Ninomiya-Victoir (NV) scheme\n",
    "\n",
    "Suppose we are given a problem of the form\n",
    "\n",
    "<a name=\"eq:diffusion\"></a>(7)\n",
    "\\begin{equation}\n",
    "\\partial_t f+\\left\\{V_0+\\frac12 \\sum_{i=1}^nV_i^2\\right\\} f=0\n",
    "\\end{equation}\n",
    "\n",
    "(the diffusion equation for example) where the $V_i$ are first order differential operators.\n",
    "<!--  and $\\tau=T-t$.-->\n",
    "\n",
    "<!--\n",
    "If we could solve this equation, the solution could be written formally as\n",
    "$$\n",
    "f({\\bf x},t)=e^{\\mathcal{L}\\,t}\\,f({\\bf x}_0,0)\n",
    "$$\n",
    "where $\\bf x$ is the state vector.  Suppose now we find a way to write $\\cL^2$ as $\\cL^2=V_0+V_1+...+V_n$ where each of the $V_i$ is a first order differential operator.\n",
    "-->"
   ]
  },
  {
   "cell_type": "markdown",
   "metadata": {
    "slideshow": {
     "slide_type": "subslide"
    }
   },
   "source": [
    "Then, according to [Ninomiya and Victoir]<sup id=\"cite_ref-NinomiyaVictoir\" class=\"reference\"><a href=\"#cite_note-NinomiyaVictoir\"><span>[</span>4<span>]</span></a></sup>, a second order weak solution is given by simulation with a step\n",
    "\n",
    "$$\n",
    "{\\bf x}_{t+\\Delta}=\\left\\{\n",
    "\\begin{array}{ll}\n",
    "e^{V_0\\,\\Delta/2} \\,e^{V_1\\,\\sqrt{\\Delta}\\,Z_1} \\,e^{V_2\\,\\sqrt{\\Delta}\\,Z_2}\\,...\\,e^{V_n\\,\\sqrt{\\Delta}\\,Z_n}\\,e^{V_0\\,\\Delta/2}\\,{\\bf x}_t & \\text{ if }\\Lambda_t =1 \\\\\n",
    "e^{V_0\\,\\Delta/2} \\,e^{V_n\\,\\sqrt{\\Delta}\\,Z_n}\\,...\\,\\,e^{V_2\\,\\sqrt{\\Delta}\\,Z_2} \\,e^{V_1\\,\\sqrt{\\Delta}\\,Z_1}\\,e^{V_0\\,\\Delta/2} \\,{\\bf x}_t  & \\text{ if }\\Lambda_t =0\n",
    "\\end{array}\n",
    "\\right.\n",
    "$$\n",
    "\n",
    "where the $Z_i$ are independent $N(0,1)$ random variables, and $\\Lambda_t$ is a Bernoulli random variable with $p=1/2$.\n",
    "\n",
    "* This looks like a mixture of Strang splitting and Symmetrically Weighted Sequential Splitting (SWSS)."
   ]
  },
  {
   "cell_type": "markdown",
   "metadata": {
    "slideshow": {
     "slide_type": "slide"
    }
   },
   "source": [
    "### Splitting methods\n",
    "\n",
    "Consider the initial value problem\n",
    "\n",
    "<a name=\"eq:ODE\"></a>(8)\n",
    "\\begin{equation}\n",
    "\\frac{dx}{dt}= (A_1+A_2)\\,x\n",
    "\\end{equation}\n",
    "\n",
    "where $A_1$ and $A_2$ are differential operators.\n",
    "\n",
    "* The true solution to [(8)](#eq:ODE) over some small interval $\\Delta$ is\n",
    "\n",
    "$$\n",
    "x(t+\\Delta) = e^{(A_1+A_2)\\,\\Delta}\\,x(t).\n",
    "$$"
   ]
  },
  {
   "cell_type": "markdown",
   "metadata": {
    "slideshow": {
     "slide_type": "subslide"
    }
   },
   "source": [
    "* *Strang splitting* is the approximation \n",
    "\n",
    "$$\n",
    "x(t+\\Delta) \\approx e^{A_1\\,\\Delta/2}\\,e^{A_2\\,\\Delta}\\,e^{A_1\\,\\Delta/2}\\,x(t).\n",
    "$$\n",
    "\n",
    "* *SWSS splitting* is the approximation\n",
    "\n",
    "$$\n",
    "x(t+\\Delta) \\approx \\frac 12 \\,\\left\\{e^{A_1\\,\\Delta}\\,e^{A_2\\,\\Delta} + e^{A_2\\,\\Delta}\\,e^{A_1\\,\\Delta}\\right\\}\\,x(t).\n",
    "$$\n",
    "\n",
    "* Both of these splitting methods have errors of order $\\Delta^3$."
   ]
  },
  {
   "cell_type": "markdown",
   "metadata": {
    "slideshow": {
     "slide_type": "slide"
    }
   },
   "source": [
    "### Cubature on Wiener space of degree 3\n",
    "\n",
    "* *Cubature on Wiener space* of degree 3 discretizes the process \n",
    "$$\n",
    "dx_t = \\mu(x,t)\\,dt + \\sigma(x,t)\\,dZ_t\n",
    "$$\n",
    "as \n",
    "\n",
    "<a name=\"eq:cubature\"></a>(9)\n",
    "\\begin{equation}\n",
    "x_{s+\\Delta} = \\exp\\left\\{  \\Delta\\,V_0 + \\sqrt{\\Delta}\\,Y_{s}\\, V_1 \\right\\} x_s\n",
    "\\end{equation}\n",
    "\n",
    "where\n",
    "\n",
    "$$\n",
    "V_0 = \\mu(x,t)\\,\\partial_x;\\, V_1 = \\sigma(x,t)\\,\\partial_x; Y_s \\sim  N(0,1).\n",
    "$$"
   ]
  },
  {
   "cell_type": "markdown",
   "metadata": {
    "slideshow": {
     "slide_type": "subslide"
    }
   },
   "source": [
    "* Here, an expression of the form \n",
    "<p>\n",
    "$$\n",
    "x_{s+\\Delta} = \\exp\\left\\{  \\sqrt{\\Delta}\\,Y_{s}\\, V_1 \\right\\} x_s\n",
    "$$\n",
    "<p>\n",
    "is understood as a solution of the ODE\n",
    "<p>\n",
    "$$\n",
    "dx_t = V_1 x_t\\,dt\n",
    "$$\n",
    "<p>\n",
    "computed at the random time $\\sqrt{\\Delta}\\,Y_s$."
   ]
  },
  {
   "cell_type": "markdown",
   "metadata": {
    "slideshow": {
     "slide_type": "slide"
    }
   },
   "source": [
    "### Relationship to Euler-Maruyama\n",
    "\n",
    "* Taylor expanding the exponential in [(9)](#eq:cubature):\n",
    "\n",
    "    $$\n",
    "    x_{s+\\Delta} = \\exp\\left\\{  \\Delta\\,V_0 + \\sqrt{\\Delta}\\,Y_{s}\\, V_1 \\right\\} x_s\n",
    "    $$\n",
    "    to first order gives\n",
    "\n",
    "    \\begin{eqnarray}\n",
    "    x_{s+\\Delta} &=&x_s + \\left\\{  \\Delta\\,V_0 + \\sqrt{\\Delta}\\,Y_{s}\\, V_1 \\right\\} x_s\n",
    "    =x_s + \\mu\\, \\Delta+ \\sigma\\,\\sqrt{\\Delta}\\,Y_{s}\n",
    "    \\end{eqnarray}\n",
    "\n",
    "    which is just the Euler-Maruyama scheme again.\n",
    "\n",
    "\n",
    "* The point is that an exact solution of [(7)](#eq:cubature) or a better approximation to [(7)](#eq:cubature) may lead to better convergence."
   ]
  },
  {
   "cell_type": "markdown",
   "metadata": {
    "slideshow": {
     "slide_type": "subslide"
    }
   },
   "source": [
    "* The ODEs in each step may be solved exactly (if lucky or smart) or numerically using a Runge-Kutta scheme for example.\n",
    "    \n",
    "    * Again, MC or QMC methods would be used in practice to compute the expectation."
   ]
  },
  {
   "cell_type": "markdown",
   "metadata": {
    "slideshow": {
     "slide_type": "slide"
    }
   },
   "source": [
    "### Summary of the cubature method\n",
    "\n",
    "* Write the backward equation for the claim to be valued in the form\n",
    "\n",
    "    $$\n",
    "     \\partial_ t f(S, t) +\\mathcal{L} f(S,t) =0\n",
    "    $$\n",
    "    \n",
    "    with $f(S_T,T) = g(S_T)$ where\n",
    "    \n",
    "    $$\n",
    "    \\mathcal{L}=V_0 + \\frac 12 \\sum_i {V_i}^2 \n",
    "    $$\n",
    "    \n",
    "    is the infinitesimal generator of the Itô diffusion."
   ]
  },
  {
   "cell_type": "markdown",
   "metadata": {
    "slideshow": {
     "slide_type": "subslide"
    }
   },
   "source": [
    "* Then\n",
    "\n",
    "    $$\n",
    "    f(S,t) = \\mathbb{E}_t\\left[g(S_T)\\right]\n",
    "    $$\n",
    "\n",
    "    where $S_T$ is obtained as the ODE solution\n",
    "\n",
    "    $$\n",
    "    S_T = \\exp\\left\\{(T-t)\\,V_0 + \\sum_i \\sqrt{T-t}\\, Z_i V_i\\right\\} S.\n",
    "    $$"
   ]
  },
  {
   "cell_type": "markdown",
   "metadata": {
    "slideshow": {
     "slide_type": "slide"
    }
   },
   "source": [
    "### Example: The Bachelier model\n",
    "\n",
    "* The Bachelier SDE is\n",
    "\n",
    "$$\n",
    "dS_t=\\sigma\\,dZ_t.\n",
    "$$\n",
    "\n",
    "* The corresponding backward equation is\n",
    "\n",
    "    $$\n",
    "    \\partial_ t f(S, t) + \\frac{\\sigma^2}2 \\partial_{S,S}f(S, t)=0 =: \\partial_ t f(S, t) +\\frac12\\,V_1^2\\,f(S, t)=0  \n",
    "    $$\n",
    "\n",
    "    with $V_1= \\sigma\\,\\partial_S$.\n",
    "\n",
    "\n",
    "* Applying Feynman-Kac, the value of an option is given by $\\mathbb{E}\\left[g(S_T)\\right]$ for some payoff function $g(\\cdot)$."
   ]
  },
  {
   "cell_type": "markdown",
   "metadata": {
    "slideshow": {
     "slide_type": "slide"
    }
   },
   "source": [
    "### Solution using cubature on Wiener space\n",
    "\n",
    "* Using cubature, $\\mathbb{E}\\left[g(S_T)\\right]$ may be approximated as an average over the\n",
    "\n",
    "    $$\n",
    "    S_T= e^{\\sqrt{T-t}\\,Y\\,V_1} S(t).\n",
    "    $$\n",
    "\n",
    "    The $S_T$ are solutions of the ODE\n",
    "\n",
    "    $$\n",
    "    \\frac{d}{du} S(u) = V_1 S(u) = \\sigma \\partial_S S(u) =\\sigma\n",
    "    $$\n",
    "\n",
    "    evaluated at the random times $u=\\sqrt{T-t}\\,Y$ where the law of $Y$ is some approximation to the law of $Z \\sim N(0,1)$."
   ]
  },
  {
   "cell_type": "markdown",
   "metadata": {
    "slideshow": {
     "slide_type": "subslide"
    }
   },
   "source": [
    "* The solution is of course just\n",
    "$\n",
    "S_T = S_t+ \\sigma\\,\\sqrt{T-t}\\,Y\n",
    "$\n",
    "so that\n",
    "\n",
    "$$\n",
    "f(S,t)= \\mathbb{E}\\left[g(S_t + \\sigma\\,\\sqrt{T-t}\\,Y)\\right].\n",
    "$$"
   ]
  },
  {
   "cell_type": "markdown",
   "metadata": {
    "slideshow": {
     "slide_type": "slide"
    }
   },
   "source": [
    "### Solution for European call option\n",
    "\n",
    "* If $g(S_T) = (S_T-K)^+$, we obtain\n",
    "    <br><br>$$\n",
    "    C(S,t)=\\mathbb{E}\\left[ (S_T-K)^+  \\right]= \\mathbb{E}\\left[ (S+\\sigma\\,\\sqrt{T-t}\\,Y -K)^+  \\right].\n",
    "    $$<br>\n",
    "    where $Y$ could be for example binomial.\n",
    "    \n",
    "    * Recall that cubature in finite dimensions involves picking points and weights to as to integrate exactly some functions of chosen form (such as polynomials up to some order or Gaussians).\n",
    "\n",
    "\n",
    "* Note that we don't need cubature to compute the RHS; the expectation may be computed explicitly  in this case."
   ]
  },
  {
   "cell_type": "markdown",
   "metadata": {
    "slideshow": {
     "slide_type": "slide"
    }
   },
   "source": [
    "### Intuition for Ninomiya-Victoir: Feynman-Kac\n",
    "\n",
    "<!--\n",
    "For concreteness, consider only the Heston variance process $v_t$.  \n",
    "-->\n",
    "\n",
    "The solution of [(7)](#eq:diffusion):\n",
    "\n",
    "$$\n",
    "\\partial_t f + \\left\\{V_0+\\frac12 \\sum_{i=1}^nV_i^2\\right\\} f =0\n",
    "$$\n",
    "\n",
    "with $f(x_T,T)=g(x_T)$ may be written formally as\n",
    "$\n",
    "f(x,t)=\\mathbb{E}\\left[g(x_T)\\right]\n",
    "$\n",
    "where \n",
    "\n",
    "\\begin{eqnarray}\n",
    "x_T&=&\\exp\\left\\{V_0\\,(T-t)+\\sum_i V_i\\,\\sqrt{T-t}\\,Z_i \\right\\}x\\\\\n",
    "&\\approx & \\prod_{j=1}^n\\,\\exp\\left\\{V_0\\,\\Delta+\\sum_i V_i\\,\\sqrt{\\Delta}\\,Z_{ij} \\right\\}x\n",
    "\\end{eqnarray}\n",
    "\n",
    "where $n$ is the number of time steps, and $\\Delta=(T-t)/n$."
   ]
  },
  {
   "cell_type": "markdown",
   "metadata": {
    "slideshow": {
     "slide_type": "subslide"
    }
   },
   "source": [
    "* The Ninomiya-Victoir scheme involves evaluating the solutions of ODEs over deterministic and random time intervals $\\Delta$ and $\\sqrt{\\Delta}\\,Z_{ij}$ respectively."
   ]
  },
  {
   "cell_type": "markdown",
   "metadata": {
    "slideshow": {
     "slide_type": "slide"
    }
   },
   "source": [
    "### Intuition for Ninomiya-Victoir: Splitting\n",
    "\n",
    "Consider two non-commuting operators (or matrices) $A$ and $B$.  Then\n",
    "\n",
    "$$\n",
    "(A+B)(A+B)=A^2+A\\,B+B\\,A+B^2\n",
    "$$\n",
    "\n",
    "and\n",
    "\n",
    "$$\n",
    "e^{(A+B)\\,\\Delta}=\\frac{1}{2}\\,\\left[e^{A\\,\\Delta}\\,e^{B\\,\\Delta}+e^{B\\,\\Delta}\\,e^{A\\,\\Delta} \\right]+ \\mathcal{O}(\\Delta^3)\n",
    "$$\n",
    "\n",
    "\\begin{eqnarray}\n",
    "\\mbox{LHS}&=&1+(A+B)\\,\\Delta+\\frac{1}{2}(A+B)^2\\,\\Delta^2+\\mathcal{O}(\\Delta^3)\\\\\n",
    "\\mbox{RHS}&=&1+(A+B)\\,\\Delta+\\frac{1}{2}\\,A^2\\,\\Delta^2+\\frac{1}{2}\\,B^2\\,\\Delta^2\\\\\n",
    "&&\\quad\\quad\\quad\\quad+\\frac12\\,\\left(A\\,B+B\\,A\\right)\\,\\Delta^2+\\mathcal{O}(\\Delta^3)\n",
    "\\end{eqnarray}\n",
    "\n",
    "Similarly\n",
    "\n",
    "$$\n",
    "e^{(A+B)\\,\\Delta}=e^{A\\,\\Delta/2}\\,e^{B\\,\\Delta}\\,e^{A\\,\\Delta/2} + \\mathcal{O}(\\Delta^3)\n",
    "$$"
   ]
  },
  {
   "cell_type": "markdown",
   "metadata": {
    "slideshow": {
     "slide_type": "slide"
    }
   },
   "source": [
    "### Intuition for Ninomiya-Victoir: Randomization\n",
    "\n",
    "* Randomization in the Ninomiya-Victoir (NV scheme) has the effect of ensuring that pairs of operators appear in forward and reverse orders.\n",
    "\n",
    "   * Expanding the expectation gives terms like\n",
    "<br><br>\\begin{eqnarray}\n",
    "&&\\mathbb{E}\\left[\\left(\\Lambda\\, V_i^2\\,V_j^2\\,\\Delta^2+(1-\\Lambda)\\, V_j^2\\,V_i^2\\,\\Delta^2\\right)\\bf x_t\\right]\\\\\n",
    "&=&\\frac 12 \\,\\mathbb{E}\\left[\\left(V_i^2\\,V_j^2\\,\\Delta^2+ V_j^2\\,V_i^2\\,\\Delta^2\\right)\\,\\bf x_t\\right]\n",
    "\\end{eqnarray}<br>\n",
    " "
   ]
  },
  {
   "cell_type": "markdown",
   "metadata": {
    "slideshow": {
     "slide_type": "subslide"
    }
   },
   "source": [
    "  * To order $\\Delta^2$, this gives agreement with the expansion of $e^{\\frac 12 V_i^2\\,\\Delta+\\frac 12 V_j^2\\,\\Delta}\\,{\\bf x}_t$.\n",
    "   * Higher order terms such as $V_i^2\\,V_j^2\\,V_k^2\\,\\Delta^3$ also appear in forward and reverse orders but this is not consistent with the expansion of $e^{\\frac 12 V_i^2\\,\\Delta+\\frac 12 V_j^2\\,\\Delta+\\frac 12 V_k^2\\,\\Delta}\\,{\\bf x}_t$.\n",
    "\n",
    "* It may be explicitly checked that the scheme is second order."
   ]
  },
  {
   "cell_type": "markdown",
   "metadata": {
    "slideshow": {
     "slide_type": "slide"
    }
   },
   "source": [
    "### Example: The Heston variance process\n",
    "\n",
    "The Heston variance SDE reads\n",
    "\n",
    "$$\n",
    "dv=-\\lambda\\,(v-\\bar v)\\,dt+\\eta\\,\\sqrt{v} \\, dZ\n",
    "$$\n",
    "\n",
    "Applying Itô's Lemma, functions $f(v,t)$ satisfy the equation\n",
    "\n",
    "\\begin{eqnarray}\n",
    "\\frac{df}{dt}&=&-\\lambda(v-\\bar v)\\,\\partial_v f+\\frac{\\eta^2}{2}\\,v\\,\\partial_{v,v}f\\\\\n",
    "&=&\\left(V_0+\\frac{1}{2}\\,{V_1}^2\\right)f(v,t)\n",
    "\\end{eqnarray}\n",
    "\n",
    "and\n",
    "$\n",
    "V_0=\\left[-\\lambda\\,(v-\\bar v)-\\eta^2/4\\right]\\partial_v;\\,\\,V_1=\\eta\\,\\sqrt{v}\\,\\partial_v.\n",
    "$"
   ]
  },
  {
   "cell_type": "markdown",
   "metadata": {
    "slideshow": {
     "slide_type": "slide"
    }
   },
   "source": [
    "### Example: The Heston variance process\n",
    "\n",
    "\n",
    "Now choose $f(v,t)=v$.  Then $e^{V_0\\,\\Delta}v(0)$ is the solution of the ODE\n",
    "\n",
    "$$\n",
    "\\frac{ dv}{dt}=V_0 v=\\left[-\\lambda\\,(v-\\bar v)-\\eta^2/4\\right]\\partial_v v=-\\lambda\\,(v-\\bar v)-\\eta^2/4\n",
    "$$\n",
    "\n",
    "which is\n",
    "\n",
    "$$\n",
    "v(t)=\\bar v'+(v_0-\\bar v')\\,e^{-\\lambda\\,\\Delta}\n",
    "$$\n",
    "\n",
    "where\n",
    "\n",
    "$$\n",
    "\\bar v'=\\frac{\\lambda\\, \\bar v-\\eta^2/4}{\\lambda}.\n",
    "$$"
   ]
  },
  {
   "cell_type": "markdown",
   "metadata": {
    "slideshow": {
     "slide_type": "subslide"
    }
   },
   "source": [
    "Likewise,  $e^{V_1\\,\\sqrt{\\Delta}\\,Z}v(0)$ is the solution of the ODE\n",
    "\n",
    "$$\n",
    "\\frac{ dv}{ds}=V_1 v=\\eta\\,\\sqrt{v}\n",
    "$$\n",
    "\n",
    "evaluated at the time $s=\\sqrt{\\Delta}\\,Z$ which is\n",
    "\n",
    "$$\n",
    "e^{V_1\\,\\sqrt{t}\\,Z}v(0)=\\left(\\sqrt{v_0}+\\frac{\\eta}{2}\\,\\sqrt{\\Delta}\\,Z\\right)^2.\n",
    "$$"
   ]
  },
  {
   "cell_type": "markdown",
   "metadata": {
    "slideshow": {
     "slide_type": "slide"
    }
   },
   "source": [
    "### The Heston variance process: A NV timestep\n",
    "\n",
    "One NV timestep of length $\\Delta$ is then evaluated as follows:\n",
    "\n",
    "1. <br>$$\n",
    "v_1:=e^{V_0\\,\\Delta/2}v_t=\\bar v'+(v_t-\\bar v')\\,e^{-\\lambda\\,\\Delta/2}\n",
    "$$<br>\n",
    "\n",
    "2. <br>$$\n",
    "v_2:=e^{V_1\\,\\sqrt{\\Delta}\\,Z}v_1=\\left(\\sqrt{\\bar v'+(v_t-\\bar v')\\,e^{-\\lambda\\,\\Delta/2}}+\\frac{\\eta}{2}\\,\\sqrt{\\Delta}\\,Z\\right)^2\n",
    "$$<br>\n",
    "\n",
    "3. <br><a name=\"eq:alfonsiStep2\"></a>(10)\\begin{eqnarray}\n",
    "v_{t+\\Delta}&=&e^{V_0\\,\\Delta/2}v_2=\\bar v'+(\\bar v'-v_2)\\,e^{-\\lambda\\,\\Delta/2}\\nonumber\\\\\n",
    "&=&\\bar v'+\\left[\\left(\\sqrt{\\bar v'+(v_t-\\bar v')\\,e^{-\\lambda\\,\\Delta/2}}+\\frac{\\eta}{2}\\,\\sqrt{\\Delta}\\,Z\\right)^2-\\bar v'\n",
    "\\right]\\,e^{-\\lambda\\,\\Delta/2}\\nonumber\n",
    "\\end{eqnarray}<br>\n",
    "\n",
    "It is easy to show that [(6)](#eq:Alfonsi2010) and [(10)](#eq:alfonsiStep2) are equivalent."
   ]
  },
  {
   "cell_type": "markdown",
   "metadata": {
    "slideshow": {
     "slide_type": "slide"
    }
   },
   "source": [
    "### The Heston SDE again\n",
    "\n",
    "The Heston SDE may be written in the form\n",
    "\n",
    "\\begin{eqnarray}\n",
    "dx&=&-\\frac{v}{2}\\,dt+\\sqrt{v}\\,\\,dZ\\\\\n",
    "dv&=&-\\lambda\\,(v-\\bar v)\\,dt+\\eta\\,\\sqrt{v}\\,\\left\\{\\rho\\,dZ+\\sqrt{1-\\rho^2}\\,dZ^\\perp\\right\\}\n",
    "\\end{eqnarray}"
   ]
  },
  {
   "cell_type": "markdown",
   "metadata": {
    "slideshow": {
     "slide_type": "subslide"
    }
   },
   "source": [
    "Applying Itô's Lemma as before, functions $f(x,v,t)$ satisfy the equation\n",
    "\n",
    "$$\n",
    "\\frac{df}{dt}+\\mathcal{L} f = 0\n",
    "$$\n",
    "\n",
    "with\n",
    "\n",
    "$$\n",
    "\\mathcal{L} f=-\\frac{1}{2}\\,v\\,\\partial_x f-\\lambda(v-\\bar v)\\,\\partial_v f+\\frac12 \\,v \\,\\partial_{x,x} f \\\\+\\rho\\,\\eta\\,v\\,\\partial_{x,v}\\,f\n",
    "+\\frac{\\eta^2}{2}\\,v\\,\\partial_{v,v}f.\n",
    "$$"
   ]
  },
  {
   "cell_type": "markdown",
   "metadata": {
    "slideshow": {
     "slide_type": "slide"
    }
   },
   "source": [
    "### Operator splitting again\n",
    "\n",
    "$\\mathcal{L}$ can be rewritten in the form\n",
    "\n",
    "$$\n",
    "\\mathcal{L}=V_0+\\frac{1}{2}\\,V_1^2+\\frac12\\,V_2^2\n",
    "$$\n",
    "\n",
    "with\n",
    "\n",
    "\\begin{eqnarray}\n",
    "V_0&=&\\left[-\\lambda\\,(v-\\bar v)-\\frac{1}{4}\\,\\eta^2\\right]\\partial_v-\\left(\\frac12 \\,v+\\frac{1}{4}\\,\\rho\\,\\eta\\right)\\, \\partial_x\\\\\n",
    "V_1&=&\\sqrt{v}\\,\\partial_x+\\rho\\,\\eta\\,\\sqrt{v}\\,\\partial_v\\\\\n",
    "V_2&=&\\sqrt{1-\\rho^2}\\,\\eta\\,\\sqrt{v}\\,\\partial_v.\n",
    "\\end{eqnarray}\n",
    "\n",
    "The solution may be written formally as:\n",
    "\n",
    "$$\n",
    "f(x,v,t)=e^{\\left\\{V_0+\\frac{1}{2}\\,V_1^2+\\frac12\\,V_2^2\\right\\}\\,t}f(x_0,v_0,0)\n",
    "$$"
   ]
  },
  {
   "cell_type": "markdown",
   "metadata": {
    "slideshow": {
     "slide_type": "slide"
    }
   },
   "source": [
    "### The Ninomiya-Victoir recipe again\n",
    "\n",
    "\n",
    "\n",
    "Let $f(x,v,t)$ be the state vector\n",
    "$\\left(\n",
    "\\begin{array}{c}\n",
    "x\\\\\n",
    "v\n",
    "\\end{array}\n",
    "\\right)=:\\bf x.\n",
    "$\n",
    "\n",
    "\n",
    "\n",
    "Then, according to Ninomiya-Victoir, a second order weak solution is given by simulating with the discretization:\n",
    "\n",
    "$$\n",
    "{\\bf x}_{t+\\Delta}=\\left\\{\n",
    "\\begin{array}{ll}\n",
    "e^{V_0\\,\\Delta/2} \\,e^{V_1\\,\\sqrt{\\Delta}\\,Z} \\,e^{V_2\\,\\sqrt{\\Delta}\\,Z^\\perp}\\,e^{V_0\\,\\Delta/2}\\,{\\bf x}_t & \\text{ if }\\Lambda_t =1  \\\\\n",
    "e^{V_0\\,\\Delta/2}\\,e^{V_2\\,\\sqrt{\\Delta}\\,Z^\\perp}\\,e^{V_1\\,\\sqrt{\\Delta}\\,Z} \\,e^{V_0\\,\\Delta/2} \\,{\\bf x}_t & \\text{ if }\\Lambda_t =0\n",
    "\\end{array}\n",
    "\\right.\n",
    "$$\n",
    "\n",
    "where $\\Lambda_t$ is a Bernoulli random variable with probability $1/2$,and $Z$ and $Z^\\perp$ are independent $N(0,1)$ random variables."
   ]
  },
  {
   "cell_type": "markdown",
   "metadata": {
    "slideshow": {
     "slide_type": "slide"
    }
   },
   "source": [
    "### The full Heston process: A NV timestep\n",
    "\n",
    "The first set of ODEs to solve is\n",
    "\n",
    "\\begin{eqnarray}\n",
    "\\frac{dx}{dt}&=&-\\frac v 2 -\\frac{\\rho\\,\\eta}{4}\\\\\n",
    "\\frac{dv}{dt}&=&-\\lambda\\,(v-\\bar v)-\\frac{1}{4}\\,\\eta^2\n",
    "\\end{eqnarray}"
   ]
  },
  {
   "cell_type": "markdown",
   "metadata": {
    "slideshow": {
     "slide_type": "subslide"
    }
   },
   "source": [
    "The solution gives the first operation in the NV timestep as follows:\n",
    "\n",
    "1.\n",
    "    <br>\\begin{eqnarray}\n",
    "    {\\bf x}_1&:=&e^{V_0\\,\\Delta/2}{\\bf x}_t=e^{V_0\\,\\Delta/2}\\left(\n",
    "    \\begin{array}{c}\n",
    "    x_t\\\\\n",
    "    v_t\n",
    "    \\end{array}\n",
    "    \\right)\\\\\n",
    "    &=&\\left(\\begin{array}{c}\n",
    "    x_t-\\left(\\frac12 \\,\\bar v'+\\frac{1}{4}\\,\\rho\\,\\eta\\right)\\,\\Delta/2-\\frac12\\,(v_t-\\bar v')\\,\\psi(\\Delta/2)\\\\\n",
    "    \\bar v'+(v_t-\\bar v')\\,e^{-\\lambda\\,\\Delta/2}\n",
    "    \\end{array}\n",
    "    \\right)\\\\&=:&\\left(\\begin{array}{c}  x_1 \\\\ v_1 \\end{array}\\right)\n",
    "    \\end{eqnarray}\n",
    "    where\n",
    "$$\n",
    "    \\psi(x)=\\frac{1-e^{-\\lambda\\,x}}{\\lambda}.\n",
    "    $$"
   ]
  },
  {
   "cell_type": "markdown",
   "metadata": {
    "slideshow": {
     "slide_type": "subslide"
    }
   },
   "source": [
    "The second set of ODEs to solve is\n",
    "\n",
    "\\begin{eqnarray}\n",
    "\\frac{dx}{dt}&=&\\sqrt{v}\\\\\n",
    "\\frac{dv}{dt}&=&\\rho\\,\\eta\\,\\sqrt{v}\n",
    "\\end{eqnarray}\n",
    "\n",
    "The solution gives the second operation in the NV timestep as follows:\n",
    "\n",
    "2.\n",
    "    <br>\\begin{eqnarray}\n",
    "    \\left(\\begin{array}{c}  x_2 \\\\ v_2 \\end{array}\\right)\n",
    "    &=&e^{V_1\\,\\sqrt{\\Delta}\\,Z}\\left(\\begin{array}{c}  x_1 \\\\ v_1 \\end{array}\\right)\\\\\n",
    "    &=&\\left(\\begin{array}{c}  x_1 +\\frac{\\left(\\sqrt{v_1}+\\frac12 \\rho\\,\\eta\\,\\sqrt{\\Delta} Z\\right)_+^2-v_1}{\\rho\\,\\eta}\\,\\sqrt{\\Delta}\\,Z\\\\\n",
    "    \\left(\\sqrt{v_1}+\\frac12 \\rho\\,\\eta\\,\\sqrt{\\Delta} Z\\right)_+^2 \\end{array}\\right)\n",
    "    \\end{eqnarray}<br><br>"
   ]
  },
  {
   "cell_type": "markdown",
   "metadata": {
    "slideshow": {
     "slide_type": "subslide"
    }
   },
   "source": [
    "The third set of ODEs to solve is\n",
    "\n",
    "\\begin{eqnarray}\n",
    "\\frac{dv}{dt}=\\sqrt{1-\\rho^2}\\,\\eta\\,\\sqrt{v}\n",
    "\\end{eqnarray}<br>The solution gives the third operation in the NV timestep as follows:\n",
    "\n",
    "\n",
    "3.\n",
    "    <br>\\begin{eqnarray}\n",
    "    \\left(\\begin{array}{c}  x_3 \\\\ v_3 \\end{array}\\right)\n",
    "    &=&e^{V_2\\,\\sqrt{\\Delta}\\,Z}\\left(\\begin{array}{c}  x_2 \\\\ v_2 \\end{array}\\right)\\\\\n",
    "    &=&\\left(\\begin{array}{c}  x_2\\\\\n",
    "    \\left(\\sqrt{v_2}+\\frac12 \\rho\\,\\eta\\,\\sqrt{\\Delta} Z^\\perp\\right)_+^2 \\end{array}\\right)\n",
    "    \\end{eqnarray}"
   ]
  },
  {
   "cell_type": "markdown",
   "metadata": {
    "slideshow": {
     "slide_type": "subslide"
    }
   },
   "source": [
    "So that, if $\\Lambda_t=1$,\n",
    "\n",
    "4.\n",
    "    \\begin{eqnarray}\n",
    "    {\\bf x}_{t+\\Delta}\n",
    "    &=&e^{V_0\\,\\Delta/2}\\left(\\begin{array}{c}  x_3 \\\\ v_3 \\end{array}\\right)\\\\\n",
    "    &=&\\left(\\begin{array}{c}\n",
    "    x_3-\\left(\\frac12 \\,\\bar v'+\\frac{1}{4}\\,\\rho\\,\\eta\\right)\\,\\Delta/2-\\frac12\\,(v_3-\\bar v')\\,\\psi(\\Delta/2)\\\\\n",
    "    \\bar v'+(v_3-\\bar v')\\,e^{-\\lambda\\,\\Delta/2}\n",
    "    \\end{array}\n",
    "    \\right)\n",
    "    \\end{eqnarray}\n",
    "\n",
    "We follow the same procedure in reverse if $\\Lambda=0$.\n",
    "\n",
    "* Note that this scheme is somewhat more complicated than Andersen's, but shouldn't really take longer to run."
   ]
  },
  {
   "cell_type": "markdown",
   "metadata": {
    "slideshow": {
     "slide_type": "slide"
    }
   },
   "source": [
    "### Ninomiya-Victoir code"
   ]
  },
  {
   "cell_type": "code",
   "execution_count": 27,
   "metadata": {
    "slideshow": {
     "slide_type": "fragment"
    }
   },
   "outputs": [],
   "source": [
    "evolveNV <- function(v,x,dt,W1,W2,L){\n",
    "        \n",
    "        eldt2 <- exp(-lambda*dt/2)\n",
    "        sqrtdt <- sqrt(dt)\n",
    "        psi <- (1-exp(-lambda*dt/2))/lambda\n",
    "        \n",
    "            #Evolve x and v together forwards: L0-L1-L2-L0\n",
    "            x1 <- x - (vbarp/2+rho*eta/4)*dt/2-(v-vbarp)/2*psi\n",
    "            v1 <- vbarp + (v-vbarp)*eldt2\n",
    "            \n",
    "            par1 <- sqrt(v1) + rho*eta/2*sqrtdt*W1\n",
    "            sqrtv2 <- (par1>0)*par1# Same choice as Friz et al.\n",
    "            v2 <- sqrtv2*sqrtv2\n",
    "            x2 <- x1+(v2-v1)/(rho*eta)\n",
    "            \n",
    "            x3 <- x2\n",
    "            par1 <- sqrtv2 + rho2m1*eta/2*sqrtdt*W2\n",
    "            sqrtv3 <- (par1>0)*par1 # Same choice as Friz et al.\n",
    "            v3 <- sqrtv3*sqrtv3\n",
    "        \n",
    "            xfwd <- x3 - (vbarp/2+rho*eta/4)*dt/2-(v3-vbarp)/2*psi\n",
    "            vfwd <- vbarp + (v3-vbarp)*eldt2\n",
    "        \n",
    "            #Evolve x and v together backwards:  L0-L2-L1-L0\n",
    "            x1 <- x - (vbarp/2+rho*eta/4)*dt/2-(v-vbarp)/2*psi\n",
    "            v1 <- vbarp + (v-vbarp)*eldt2\n",
    "            \n",
    "            x2 <- x1\n",
    "            par1 <- sqrt(v1) + rho2m1*eta/2*sqrtdt*W2\n",
    "            sqrtv2 <- (par1>0)*par1 # Same choice as Friz et al.\n",
    "            v2 <- sqrtv2*sqrtv2\n",
    "                    \n",
    "            par1 <- sqrtv2 + rho*eta/2*sqrtdt*W1; \n",
    "            sqrtv3 <- (par1>0)*par1 # Same choice as Friz et al.\n",
    "            v3 <- sqrtv3*sqrtv3\n",
    "            x3 <- x2+(v3-v2)/(rho*eta)\n",
    "            \n",
    "            xbwd <- x3 - (vbarp/2+rho*eta/4)*dt/2-(v3-vbarp)/2*psi\n",
    "            vbwd <- vbarp + (v3-vbarp)*eldt2\n",
    "            \n",
    "        xf <- xfwd*L + xbwd*(1-L) #Forwards if L=1 else backwards\n",
    "        x <- xf - log(mean(exp(xf))) # Martingale constraint\n",
    "        v <- vfwd*L + vbwd*(1-L) #Forwards if L=1 else backwards\n",
    "        \n",
    "        return(cbind(x,v))\n",
    "}\n"
   ]
  },
  {
   "cell_type": "markdown",
   "metadata": {
    "slideshow": {
     "slide_type": "subslide"
    }
   },
   "source": [
    "And here's an example:"
   ]
  },
  {
   "cell_type": "code",
   "execution_count": 28,
   "metadata": {
    "slideshow": {
     "slide_type": "fragment"
    }
   },
   "outputs": [
    {
     "data": {
      "text/html": [
       "<table>\n",
       "<thead><tr><th scope=col>Strikes</th><th scope=col>Paths</th><th scope=col>Steps</th><th scope=col>ivol</th><th scope=col>bias</th><th scope=col>twoSd</th><th scope=col>ivolm</th><th scope=col>ivolRichardson</th><th scope=col>biasRichardson</th><th scope=col>twoSdRichardson</th></tr></thead>\n",
       "<tbody>\n",
       "\t<tr><td>0.8          </td><td>1e+06        </td><td>8            </td><td>0.2294277    </td><td> 0.000431942 </td><td>0.0013813736 </td><td>0.2302531    </td><td>0.2285995    </td><td>-0.0003962431</td><td>0.0014850862 </td></tr>\n",
       "\t<tr><td>1.0          </td><td>1e+06        </td><td>8            </td><td>0.1815600    </td><td>-0.000168176 </td><td>0.0004911350 </td><td>0.1813054    </td><td>0.1818145    </td><td> 0.0000863793</td><td>0.0005482598 </td></tr>\n",
       "\t<tr><td>1.2          </td><td>1e+06        </td><td>8            </td><td>0.1510395    </td><td>-0.001008300 </td><td>0.0003596641 </td><td>0.1505668    </td><td>0.1515100    </td><td>-0.0005377983</td><td>0.0004313691 </td></tr>\n",
       "</tbody>\n",
       "</table>\n"
      ],
      "text/latex": [
       "\\begin{tabular}{r|llllllllll}\n",
       " Strikes & Paths & Steps & ivol & bias & twoSd & ivolm & ivolRichardson & biasRichardson & twoSdRichardson\\\\\n",
       "\\hline\n",
       "\t 0.8           & 1e+06         & 8             & 0.2294277     &  0.000431942  & 0.0013813736  & 0.2302531     & 0.2285995     & -0.0003962431 & 0.0014850862 \\\\\n",
       "\t 1.0           & 1e+06         & 8             & 0.1815600     & -0.000168176  & 0.0004911350  & 0.1813054     & 0.1818145     &  0.0000863793 & 0.0005482598 \\\\\n",
       "\t 1.2           & 1e+06         & 8             & 0.1510395     & -0.001008300  & 0.0003596641  & 0.1505668     & 0.1515100     & -0.0005377983 & 0.0004313691 \\\\\n",
       "\\end{tabular}\n"
      ],
      "text/markdown": [
       "\n",
       "Strikes | Paths | Steps | ivol | bias | twoSd | ivolm | ivolRichardson | biasRichardson | twoSdRichardson | \n",
       "|---|---|---|\n",
       "| 0.8           | 1e+06         | 8             | 0.2294277     |  0.000431942  | 0.0013813736  | 0.2302531     | 0.2285995     | -0.0003962431 | 0.0014850862  | \n",
       "| 1.0           | 1e+06         | 8             | 0.1815600     | -0.000168176  | 0.0004911350  | 0.1813054     | 0.1818145     |  0.0000863793 | 0.0005482598  | \n",
       "| 1.2           | 1e+06         | 8             | 0.1510395     | -0.001008300  | 0.0003596641  | 0.1505668     | 0.1515100     | -0.0005377983 | 0.0004313691  | \n",
       "\n",
       "\n"
      ],
      "text/plain": [
       "  Strikes Paths Steps ivol      bias         twoSd        ivolm    \n",
       "1 0.8     1e+06 8     0.2294277  0.000431942 0.0013813736 0.2302531\n",
       "2 1.0     1e+06 8     0.1815600 -0.000168176 0.0004911350 0.1813054\n",
       "3 1.2     1e+06 8     0.1510395 -0.001008300 0.0003596641 0.1505668\n",
       "  ivolRichardson biasRichardson twoSdRichardson\n",
       "1 0.2285995      -0.0003962431  0.0014850862   \n",
       "2 0.1818145       0.0000863793  0.0005482598   \n",
       "3 0.1515100      -0.0005377983  0.0004313691   "
      ]
     },
     "metadata": {},
     "output_type": "display_data"
    }
   ],
   "source": [
    "HestonMC2(paramsBCC)(S0=1, T=1, AK=strikes, N=1000000, m=4, evolve=evolveNV, exactVols=exactHestonVolsBCC) "
   ]
  },
  {
   "cell_type": "markdown",
   "metadata": {
    "slideshow": {
     "slide_type": "slide"
    }
   },
   "source": [
    "### Convergence of Ninomya-Victoir with BCC parameters"
   ]
  },
  {
   "cell_type": "code",
   "execution_count": 29,
   "metadata": {
    "slideshow": {
     "slide_type": "fragment"
    }
   },
   "outputs": [
    {
     "data": {
      "image/png": "[encoded data removed]",
      "text/plain": [
       "plot without title"
      ]
     },
     "metadata": {},
     "output_type": "display_data"
    }
   ],
   "source": [
    "tmp <- resFAndersen.BCC\n",
    "sdThreshold <- mean(tmp$twoSd)\n",
    "plot(1/tmp$Steps,abs(tmp$bias),type=\"b\",log=\"xy\",col=\"green4\",ylab=\"Implied volatility bias\",ylim=c(0.00001,0.05),xlab=expression(paste(Delta,t, \" (Years)\")))\n",
    "points(1/tmp$Steps,abs(tmp$biasRichardson),type=\"b\",col=\"green4\",lty=2)\n",
    "curve(sdThreshold+x*0,from=1/512, to=1/4,add=T,col=\"orange\",lwd=2)\n",
    "tmp <- resNV.BCC\n",
    "lines(1/tmp$Steps,abs(tmp$bias),type=\"b\",col=\"blue\",ylab=\"Implied volatility bias\",ylim=c(0.00001,0.05),xlab=expression(paste(Delta,t, \" (Years)\")))\n",
    "points(1/tmp$Steps,abs(tmp$biasRichardson),type=\"b\",col=\"blue\",lty=2)"
   ]
  },
  {
   "cell_type": "markdown",
   "metadata": {
    "slideshow": {
     "slide_type": "fragment"
    }
   },
   "source": [
    "Figure 8: Euler with full truncation and Andersen $x$-discretization in green; Ninomiya-Victoir in blue; dashed lines are with Richardson extrapolation ($T=1$, $K=1.2$)\n",
    "\n",
    "\n",
    "* Let's leave the fixing of NV for future research..."
   ]
  },
  {
   "cell_type": "markdown",
   "metadata": {
    "slideshow": {
     "slide_type": "slide"
    }
   },
   "source": [
    "### Summary convergence plot\n",
    "\n",
    "Now we put results using all schemes so far on the same plot."
   ]
  },
  {
   "cell_type": "code",
   "execution_count": 30,
   "metadata": {
    "slideshow": {
     "slide_type": "subslide"
    }
   },
   "outputs": [
    {
     "data": {
      "image/png": "[encoded data removed]",
      "text/plain": [
       "plot without title"
      ]
     },
     "metadata": {},
     "output_type": "display_data"
    }
   ],
   "source": [
    "tmp <- resF.BCC\n",
    "sdThreshold <- mean(tmp$twoSd)\n",
    "plot(1/tmp$Steps,abs(tmp$bias),type=\"b\",log=\"xy\",col=\"purple\",ylab=\"Implied volatility bias\",ylim=c(0.00001,0.05),xlab=expression(paste(Delta,t, \" (Years)\")))\n",
    "curve(sdThreshold+x*0,from=1/512, to=1/4,add=T,col=\"orange\",lwd=2)\n",
    "\n",
    "tmp <- resFAndersen.BCC\n",
    "lines(1/tmp$Steps,abs(tmp$bias),type=\"b\",col=\"green4\",ylab=\"Implied volatility bias\",ylim=c(0.00001,0.05),xlab=expression(paste(Delta,t, \" (Years)\")))\n",
    "\n",
    "tmp <- resAlfonsi.BCC\n",
    "lines(1/tmp$Steps,abs(tmp$bias),type=\"b\",col=\"deeppink2\",ylab=\"Implied volatility bias\",ylim=c(0.00001,0.05),xlab=expression(paste(Delta,t, \" (Years)\")))\n",
    "\n",
    "tmp <- resNV.BCC\n",
    "lines(1/tmp$Steps,abs(tmp$bias),type=\"b\",col=\"blue\",ylab=\"Implied volatility bias\",ylim=c(0.00001,0.05),xlab=expression(paste(Delta,t, \" (Years)\")))\n"
   ]
  },
  {
   "cell_type": "markdown",
   "metadata": {
    "slideshow": {
     "slide_type": "fragment"
    }
   },
   "source": [
    "Figure 9: Euler with full truncation in purple; with Andersen $x$-discretization in green; Alfonsi in pink; Ninomiya-Victoir in blue; \n",
    "\n",
    "* Let's stick with Alfonsi with full truncation!"
   ]
  },
  {
   "cell_type": "markdown",
   "metadata": {
    "slideshow": {
     "slide_type": "slide"
    }
   },
   "source": [
    "### More complicated models\n",
    "\n",
    "* It is typically thought that the Ninomiya-Victoir scheme gives rise to closed form ODE solutions for each time step only in lucky special cases such as Heston.\n",
    "\n",
    "    * The reason is that the $V_0$ ODE is typically not soluble in closed-form.\n",
    "\n",
    "\n",
    "* In [Bayer, Gatheral and Karlsmark]<sup id=\"cite_ref-BGK\" class=\"reference\"><a href=\"#cite_note-BGK\">[4]</a></sup>, we show that we may further split the $V_0$ operator, writing *e.g.* $V_0=V_{0,1}+V_{0,2}$ achieving closed-form time steps whilst maintaining $O(\\Delta^2)$ accuracy.\n",
    "\n",
    "    * In particular, we may efficiently simulate much more complicated models such as DMR."
   ]
  },
  {
   "cell_type": "markdown",
   "metadata": {
    "slideshow": {
     "slide_type": "subslide"
    }
   },
   "source": [
    "* The form of the $k$th time step is:\n",
    "    \n",
    "    \\begin{eqnarray}\n",
    "    &&X\\left((k+1)\\,\\Delta,x\\right)\\\\\n",
    "    &=&\\left\\{\n",
    "    \\begin{array}{ll}\n",
    "    e^{\\frac 12\\Delta\\, V_{0,1}}\\,e^{\\frac 12\\Delta\\, V_{0,2}}\\,e^{Z_k^1\\, V_1}\\,e^{Z_k^2\\, V_2}\\,e^{Z_k^3\\, V_3}\\, e^{\\frac 12\\Delta\\, V_{0,2}}\\,e^{\\frac 12\\Delta\\, V_{0,1}} X(k\\,\\Delta,x)&  \\text{ if } \\Lambda_k=-1  \\\\\n",
    "    e^{\\frac 12\\Delta\\, V_{0,1}}\\,e^{\\frac 12\\Delta\\, V_{0,2}}\\,e^{Z_k^3\\, V_3}\\,e^{Z_k^2\\, V_2}\\,e^{Z_k^1\\, V_1}\\, e^{\\frac 12\\Delta\\, V_{0,2}}\\,e^{\\frac 12\\Delta\\, V_{0,1}} X(k\\,\\Delta,x)&  \\text{ if } \\Lambda_k=+1  \\\\\n",
    "    \\end{array}\n",
    "    \\right.\n",
    "    \\end{eqnarray}\n",
    "\n",
    "    where the $Z_k^i \\sim N(0,\\Delta)$ are independent."
   ]
  },
  {
   "cell_type": "markdown",
   "metadata": {
    "slideshow": {
     "slide_type": "slide"
    }
   },
   "source": [
    "### A remark on mathematical innovation driven by applications\n",
    "\n",
    "\n",
    "* This is the first example in our lecture series of financial applications spurring pure mathematical innovation.\n",
    "\n",
    "    * Specifically, rough paths theory and the Ninomiya-Victoir scheme.\n",
    "    \n",
    "<!--\n",
    "* The Heston model serves as a useful test for the convergence of new simulation schemes.\n",
    "-->"
   ]
  },
  {
   "cell_type": "markdown",
   "metadata": {
    "slideshow": {
     "slide_type": "slide"
    }
   },
   "source": [
    "### Applications\n",
    "\n",
    "\n",
    "* Now we have an efficient simulation scheme that we can use to compute various quantities of interest:\n",
    "\n",
    "    * Alfonsi with full truncation, 16 timesteps; MC with 25,000 paths.\n",
    "    \n",
    "    * We may want to increase the number of timesteps for path-dependent options.\n",
    "\n",
    "\n",
    "* To finish the lecture, let's draw some pictures using data generated from MC and QMC."
   ]
  },
  {
   "cell_type": "markdown",
   "metadata": {
    "slideshow": {
     "slide_type": "slide"
    }
   },
   "source": [
    "### The 1-year implied volatility smile: BCC parameters.\n",
    "\n",
    "<h3><img src=\"http://mfe.baruch.cuny.edu/wp-content/uploads/2018/09/VolSmile.png\" align = \"left\" width=600></h3> "
   ]
  },
  {
   "cell_type": "markdown",
   "metadata": {
    "slideshow": {
     "slide_type": "fragment"
    }
   },
   "source": [
    "Figure 10: Exact implied vols in blue; MC in red; There's almost no difference when we have 1 million paths!"
   ]
  },
  {
   "cell_type": "markdown",
   "metadata": {
    "slideshow": {
     "slide_type": "slide"
    }
   },
   "source": [
    "### 1-year local and implied variance: BCC parameters\n",
    "\n",
    "\n",
    "<h3><img src=\"http://mfe.baruch.cuny.edu/wp-content/uploads/2018/09/LocalVolImpliedVol.png\" align = \"left\" width=600></h3> "
   ]
  },
  {
   "cell_type": "markdown",
   "metadata": {
    "slideshow": {
     "slide_type": "fragment"
    }
   },
   "source": [
    "Figure 11: Local variance (dark green) obtained by binning final variance (with error bars); implied variance (red) is superimposed (1 million paths again)."
   ]
  },
  {
   "cell_type": "markdown",
   "metadata": {
    "slideshow": {
     "slide_type": "slide"
    }
   },
   "source": [
    "### Summary of Lecture 4\n",
    "\n",
    "* We derived the Feynman-Kac formula.\n",
    "\n",
    "\n",
    "* We explained why the choice of discretization of the continuous time stochastic process is critical for efficient simulation.\n",
    "\n",
    "\n",
    "* We showed how further efficiency could potentially be achieved by using Richardson extrapolation.\n",
    "\n",
    "\n",
    "* Financial applications are now inspiring (great) mathematicians to find new results.\n",
    "    * These results are already being put to practical use, generating more efficient algorithms.\n",
    "\n",
    "\n",
    "* Because there is a quasi-closed form formula and because the underlying process is not easy to simulate, the Heston model makes a great test-bed for algorithms.\n",
    "\n",
    "\n",
    "\n",
    "\n",
    "* Finally, we have a practical Monte Carlo algorithm (Alfonsi with full truncation and Andersen x-discretization) that can be used in later lectures."
   ]
  },
  {
   "cell_type": "markdown",
   "metadata": {
    "slideshow": {
     "slide_type": "slide"
    }
   },
   "source": [
    "## References\n",
    "\n",
    "<br />\n",
    "\n",
    "<div class=\"reflist\" style=\"list-style-type: decimal;\">\n",
    "\n",
    "<ol>\n",
    "  \n",
    "  <!--   <li id=\"cite_note-Alfonsi:2005\"><span class=\"mw-cite-backlink\"><b><a href=\"#cite_ref-Alfonsi:2005\">^</a></b></span>  Aurélien Alfonsi, On the discretization schemes for the CIR (and Bessel squared) processes., <span>*Monte Carlo Methods and Applications*</span> <span>**11**(4)</span>, 355–384 (2005).</li>  -->\n",
    "  \n",
    "  <li id=\"cite_note-Alfonsi:2010\"><span class=\"mw-cite-backlink\"><b><a href=\"#cite_ref-Alfonsi:2010\">^</a></b></span>   Aurélien Alfonsi, High order discretization schemes for the CIR process: application to affine term structure and Heston models, <span>*Mathematics of Computation*</span> <span>**79**(269)</span>, 209–237 (2010).</li>\n",
    "  \n",
    "    <li id=\"cite_note-Andersen\"><span class=\"mw-cite-backlink\"><b><a href=\"#cite_ref-Andersen\">^</a></b></span>   Andersen, Leif B G, Simple and efficient simulation of the Heston stochastic volatility model, <span>*Journal of Computational Finance*</span> <span>**11**(3)</span>, 1–42 (2008).</li>\n",
    "    \n",
    "    \n",
    "<li id=\"cite_note-GlauEtAl\"><span class=\"mw-cite-backlink\"><b><a href=\"#cite_ref-GlauEtAl\">^</a></b></span>   Olena Burkovska, Kathrin Glau, Maximilian Gaß, Mirco Mahlstedt, Wim Schoutens and Barbara Wohlmuth, Calibration to American Options: Numerical Investigation of the de–Americanization Method, *Quantitative Finance* **18**(7), 1091-1113 (2018).</li>\n",
    "    \n",
    "\n",
    "  \n",
    "  <li id=\"cite_note-BGK\"><span class=\"mw-cite-backlink\"><b><a href=\"#cite_ref-BGK\">^</a></b></span>   Christian Bayer, Jim Gatheral, and Morten Karlsmark, \n",
    "Fast Ninomiya-Victoir calibration of the double-mean-reverting model, <span>*Quantitative Finance*</span> <span>**13**(11)</span>, 1813–1829 (2013).</li>\n",
    "\n",
    "<!--  <li id=\"cite_note-Gatheral\"><span class=\"mw-cite-backlink\"><b><a href=\"#cite_ref-Gatheral\">^</a></b></span>   Jim Gatheral,  <span>*The Volatility Surface: A Practitioner's Guide*</span>, John Wiley and Sons, Hoboken, NJ (2006).</li>\n",
    "\n",
    "  <li id=\"cite_note-Glasserman\"><span class=\"mw-cite-backlink\"><b><a href=\"#cite_ref-Glasserman\">^</a></b></span>  Paul Glasserman,  <span>*Monte Carlo Methods in Financial Engineering*</span>, Springer-Verlag, Heidelberg (2004).</li>\n",
    "\n",
    "\n",
    "\n",
    "  <!-- <li id=\"cite_note-TavellaRandall\"><span class=\"mw-cite-backlink\"><b><a href=\"#cite_ref-TavellaRandall\">^</a></b></span>  Domingo Tavella and Curt Randall <span>*Pricing Financial Instruments: The Finite Difference Method*</span>,  John Wiley and Sons, Hoboken, NJ (2000).</li>  -->\n",
    "  \n",
    "  <li id=\"cite_note-Glasserman\"><span class=\"mw-cite-backlink\"><b><a href=\"#cite_ref-Glasserman\">^</a></b></span>  Paul Glasserman,  <span>*Monte Carlo Methods in Financial Engineering*</span>, Springer-Verlag, Heidelberg (2004).</li>\n",
    "  \n",
    "   <li id=\"cite_note-KloedenPlaten\"><span class=\"mw-cite-backlink\"><b><a href=\"#cite_ref-KloedenPlaten\">^</a></b></span>  Peter E. Kloeden and Eckhard Platen, <span>*Numerical Solution of Stochastic Differential Equations*</span>, Springer-Verlag, Heidelberg (1992).</li>\n",
    "\n",
    " <li id=\"cite_note-LKV\"><span class=\"mw-cite-backlink\"><b><a href=\"#cite_ref-LKV\">^</a></b></span>  Roger Lord, Remmert Koekkoek and Dick Van Dijk, A Comparison of biased simulation schemes for stochastic volatility models., <span>*Quantitative Finance*</span> <span>**10**(2)</span>, 177–194 (2010).</li> \n",
    "  \n",
    "    <li id=\"cite_note-NinomiyaVictoir\"><span class=\"mw-cite-backlink\"><b><a href=\"#cite_ref-NinomiyaVictoir\">^</a></b></span>  Syoiti Ninomiya and Nicolas Victoir, Weak approximation of stochastic differential equations and application to derivative pricing, <span>*Applied Mathematical Finance*</span> <span>**15**(2)</span>, 107–121(2008).</li>\n",
    "  \n",
    "</ol>"
   ]
  }
 ],
 "metadata": {
  "anaconda-cloud": {},
  "celltoolbar": "Slideshow",
  "kernelspec": {
   "display_name": "R",
   "language": "R",
   "name": "ir"
  },
  "language_info": {
   "codemirror_mode": "r",
   "file_extension": ".r",
   "mimetype": "text/x-r-source",
   "name": "R",
   "pygments_lexer": "r",
   "version": "3.4.3"
  }
 },
 "nbformat": 4,
 "nbformat_minor": 1
}
