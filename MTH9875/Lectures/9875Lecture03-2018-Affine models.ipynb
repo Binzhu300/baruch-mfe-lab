{
 "cells": [
  {
   "cell_type": "markdown",
   "metadata": {
    "slideshow": {
     "slide_type": "slide"
    }
   },
   "source": [
    "## MTH 9875 The Volatility Surface:    Fall 2018\n",
    "\n",
    "<p>\n",
    "\n",
    "### Lecture 3: Affine models\n",
    "\n",
    "\n",
    "Jim Gatheral   \n",
    "Department of Mathematics   \n",
    "  \n",
    "\n",
    "  \n",
    "  \n",
    "<h3><img src=\"http://mfe.baruch.cuny.edu/wp-content/uploads/2016/04/MFE-Logo.jpg\" align = \"right\" width=500></h3>\n",
    "\n",
    "\n",
    "$$\n",
    "\\newcommand{\\bea}{\\begin{eqnarray}}\n",
    "\\newcommand{\\eea}{\\end{eqnarray}}\n",
    "\\newcommand{\\beas}{\\begin{eqnarray*}}\n",
    "\\newcommand{\\eeas}{\\end{eqnarray*}}\n",
    "\\newcommand{\\supp}{\\mathrm{supp}}\n",
    "\\newcommand{\\E}{\\mathbb{E} }\n",
    "\\def\\Cov{{ \\mbox{Cov} }}\n",
    "\\def\\Var{{ \\mbox{Var} }}\n",
    "\\newcommand{\\1}{\\mathbf{1} }\n",
    "\\newcommand{\\cF}{\\mathcal{F} }\n",
    "\\newcommand{\\PP}{\\mathbb{P} }\n",
    "\\newcommand{\\QQ}{\\mathbb{Q} }\n",
    "\\newcommand{\\RR}{\\mathbb{R} }\n",
    "\\newcommand{\\DD}{\\mathbb{D} }\n",
    "\\newcommand{\\HH}{\\mathbb{H} }\n",
    "\\newcommand{\\spn}{\\mathrm{span} }\n",
    "\\newcommand{\\cov}{\\mathrm{cov} }\n",
    "\\newcommand{\\HS}{\\mathcal{L}_{\\mathrm{HS}} }\n",
    "\\newcommand{\\trace}{\\mathrm{trace} }\n",
    "\\newcommand{\\LL}{\\mathcal{L} }\n",
    "\\newcommand{\\s}{\\mathcal{S} }\n",
    "\\newcommand{\\ee}{\\mathcal{E} }\n",
    "\\newcommand{\\ff}{\\mathcal{F} }\n",
    "\\newcommand{\\hh}{\\mathcal{H} }\n",
    "\\newcommand{\\bb}{\\mathcal{B} }\n",
    "\\newcommand{\\dd}{\\mathcal{D} }\n",
    "\\newcommand{\\g}{\\mathcal{G} }\n",
    "\\newcommand{\\half}{\\frac{1}{2} }\n",
    "\\newcommand{\\T}{\\mathcal{T} }\n",
    "\\newcommand{\\bi}{\\begin{itemize}}\n",
    "\\newcommand{\\ei}{\\end{itemize}}\n",
    "\\newcommand{\\beq}{\\begin{equation}}\n",
    "\\newcommand{\\eeq}{\\end{equation}}\n",
    "\\newcommand{\\ee}[1]{\\mathbb{E}\\left[{#1}\\right]}\n",
    "\\newcommand{\\eef}[1]{\\mathbb{E}\\left[\\left.{#1}\\right|\\cF_t\\right]}\n",
    "\\newcommand{\\Rplus}{\\mathbb{R}_{\\geqslant 0}}\n",
    "\\newcommand{\\Rpplus}{\\mathbb{R}_{> 0}}\n",
    "\\newcommand{\\Rminus}{\\mathbb{R}_{\\leqslant 0}}\n",
    "\\newcommand{\\p}{\\partial}\n",
    "\\newcommand{\\ui}{\\textrm{i}}\n",
    "\\newcommand{\\mP}{\\mathbb{P}}\n",
    "\\newcommand{\\mQ}{\\mathbb{Q}}\n",
    "\\newcommand{\\angl}[1]{\\langle{#1}\\rangle}\n",
    "\\newcommand{\\var}{{\\rm var}}\n",
    "\\newcommand{\\cov}{{\\rm cov}}\n",
    "\\newcommand{\\covf}[1]{\\cov\\left[\\left.{#1}\\right|\\cF_t\\right]}\n",
    "\\newcommand{\\varf}[1]{\\var\\left[\\left.{#1}\\right|\\cF_t\\right]}\n",
    "$$"
   ]
  },
  {
   "cell_type": "markdown",
   "metadata": {
    "slideshow": {
     "slide_type": "slide"
    }
   },
   "source": [
    "## Outline of lecture 3\n",
    "\n",
    "* Forward variance models\n",
    "* Affine forward variance models\n",
    "* The classical Heston model\n",
    "* The rough Heston model\n",
    "* The characteristic function of an affine forward variance model\n",
    "    - Classical Heston and rough Heston characteristic functions\n",
    "* Implementation of the classical and rough Heston models in R\n",
    "* Numerical experiments"
   ]
  },
  {
   "cell_type": "markdown",
   "metadata": {
    "slideshow": {
     "slide_type": "slide"
    }
   },
   "source": [
    "### Forward variance models\n",
    "\n",
    "Following [Bergomi and Guyon]<sup id=\"cite_ref-BG\" class=\"reference\"><a href=\"#cite_note-BG\"><span>[</span>3<span>]</span></a></sup>, forward variance models may be written in the form \n",
    "\n",
    "$$\n",
    "\\beas\n",
    "dS_t &=& S_t \\, \\sqrt{v_t}\\, \\left(\\rho dW_t + \\sqrt{1 - \\rho^2} dW_t^\\bot\\right)\\\\\n",
    "d\\xi_t(u) &=& \\eta_t(u;\\omega) \\,dW_t,\n",
    "\\eeas\n",
    "$$\n",
    "\n",
    "where $W, W^\\bot$ are independent Brownian motions, the $\\Rplus$-valued stochastic process $\\eta_t(u;\\omega)$ is progressively measurable for all $u > 0$ and $\\xi$ is linked to the instantaneous variance $v$ by \n",
    "\n",
    "$$\n",
    "\\xi_t(T) = \\eef{v_T}.\n",
    "$$\n",
    "\n",
    "- Models of this form were also studied by Hans Bühler as *variance curve models*. "
   ]
  },
  {
   "cell_type": "markdown",
   "metadata": {
    "slideshow": {
     "slide_type": "subslide"
    }
   },
   "source": [
    "- If $v$ is continuous and uniformly integrable, we can recover $v_t$ from $\\xi_t(u)$ as $v_t = \\lim_{u \\downarrow t} \\xi_t(u)$.  For our purposes, $v_t = \\xi_t(t)$.\n",
    "\n",
    "\n",
    "- The initial conditions of a forward variance model are the initial stock price $S_t$ and the initial forward variance curve $\\xi_t(u)_{u > t}$. "
   ]
  },
  {
   "cell_type": "markdown",
   "metadata": {
    "slideshow": {
     "slide_type": "subslide"
    }
   },
   "source": [
    "#### Important remark\n",
    "\n",
    "As noted by [Bergomi and Guyon]<sup id=\"cite_ref-BG\" class=\"reference\"><a href=\"#cite_note-BG\"><span>[3]</span></a></sup>, all conventional finite-dimensional Markovian stochastic volatility models may be cast as forward variance models.\n"
   ]
  },
  {
   "cell_type": "markdown",
   "metadata": {
    "slideshow": {
     "slide_type": "slide"
    }
   },
   "source": [
    "### The classical Heston model\n",
    "\n",
    "\n",
    "The classical Heston stochastic volatility model may be written as\n",
    "\n",
    "$$\n",
    "\\beas\n",
    "\\frac{dS_t}{S_t} &=&  \\sqrt{v_t}\\,S_t \\,dZ_t\\\\\n",
    "dv_t &=&  - \\lambda \\,(v_t - \\bar v)\\,dt + \\eta \\,\\sqrt {v_t} \\,dW_t\n",
    "\\eeas\n",
    "$$\n",
    "\n",
    "with $\n",
    "\\ee {dZ_t\\,dW_t} = \\rho \\, dt\n",
    "$ and where $\\lambda$ is the speed of reversion of $v_t$ to its long term\n",
    "mean $\\bar v$."
   ]
  },
  {
   "cell_type": "markdown",
   "metadata": {
    "slideshow": {
     "slide_type": "subslide"
    }
   },
   "source": [
    "* The process followed by the instantaneous variance $v_t$ may be recognized as a version of the square root process or CIR process of [Cox, Ingersoll, Ross]<sup id=\"cite_ref-CIR\" class=\"reference\"><a href=\"#cite_note-CIR\"><span>[</span>5<span>]</span></a></sup>.\n",
    "\n",
    "\n",
    "* It is a (jump-free) special case of a so-called *affine jump diffusion (AJD)*.\n",
    "  * Roughly speaking a jump-diffusion process for which the drifts and covariances and jump intensities are linear in the state vector (which is $\\{ x,v \\}$ in this case with $x= \\log (S) $)."
   ]
  },
  {
   "cell_type": "markdown",
   "metadata": {
    "slideshow": {
     "slide_type": "slide"
    }
   },
   "source": [
    "###### $\\mP$ and $\\mQ$ measures\n",
    "\n",
    "* In Heston's original paper, the price of risk is assumed to be linear in the instantaneous variance $v$ in order to be able to retain the form of the dynamics under the transformation from the physical measure $\\mP$ to the pricing measure $\\mQ$.\n",
    "\n",
    "\n",
    "* In contrast, in the following, we assume that model dynamics with parameters fitted to option prices generates the pricing measure.\n",
    "    - All expectations in the following are under $\\mQ$.\n",
    "\n",
    "    "
   ]
  },
  {
   "cell_type": "markdown",
   "metadata": {
    "slideshow": {
     "slide_type": "slide"
    }
   },
   "source": [
    "### Forward variance in the Heston model\n",
    "\n",
    "Recall the Heston variance SDE\n",
    "\n",
    "$$\n",
    "dv_t = -\\lambda(v - \\bar v)\\,dt + \\eta\\,\\sqrt{v_t}\\,dW_t.\n",
    "$$\n",
    "\n",
    "With $\\xi_t(u) = \\eef{v_u}$, take expectations to get\n",
    "\n",
    "$$\n",
    " d\\xi_t(u) = -\\lambda\\,(\\xi_t(u) -\\bar v)\\,du.\n",
    "$$\n",
    "\n",
    "This ODE has the solution\n",
    "\n",
    "$$\n",
    "\\xi_t(u) = (\\xi_t(t)-\\bar v)\\,e^{-\\lambda\\,(u-t)}+\\bar v = (v_t-\\bar v)\\,e^{-\\lambda\\,(u-t)}+\\bar v.\n",
    "$$"
   ]
  },
  {
   "cell_type": "markdown",
   "metadata": {
    "slideshow": {
     "slide_type": "subslide"
    }
   },
   "source": [
    "### The Heston model in forward variance form\n",
    "\n",
    "For each $u$, $\\xi_t(u)$ is a conditional expectation and so a martingale in $t$.  It is then immediate from the last equation that\n",
    "\n",
    "$$\n",
    "d \\xi_t(u) = e^{-\\lambda\\,(u-t)}\\,\\widehat{d v_t} = \\eta\\,e^{-\\lambda\\,(u-t)}\\,\\sqrt{v_t}\\,dW_t\n",
    "$$\n",
    "\n",
    "where $\\widehat{d v_t}$ denotes the martingale part of $dv_t$.\n",
    "\n",
    "- It is easy to check explicitly that all drift (*i.e.* $dt$) terms cancel."
   ]
  },
  {
   "cell_type": "markdown",
   "metadata": {
    "slideshow": {
     "slide_type": "slide"
    }
   },
   "source": [
    "### The rough Heston model\n",
    "\n",
    "By considering the limit of a simple Hawkes process-based model of order flow, [El Euch and Rosenbaum]<sup id=\"cite_ref-EER\" class=\"reference\"><a href=\"#cite_note-EER\">[6]</a></sup> derive a rough Heston model.  The equation for variance in this model takes the form\n",
    "\n",
    "$$\n",
    "v_u =  \\theta(u) -  \\frac{1}{\\Gamma(H + 1/2)}  \\int_{t}^u (u-s)^{H-1/2} \\lambda\\, v_s \\,ds +\\frac{1}{\\Gamma(H + 1/2)}  \\int_{t}^u (u-s)^{H-1/2} \\eta \\sqrt{v_s} \\,dW_s.\n",
    "$$\n",
    "\n",
    "- $H \\in (0, 1/2]$ is the Hurst exponent of the volatility, $\\lambda>0$ is the mean reversion parameter, $\\eta>0$ is the volatility of volatility parameter.\n",
    "\n",
    "- The function $\\theta$ is assumed to be continuous and represents a time-dependent mean reversion level.\n",
    "\n",
    "- The rough Heston model generalizes the classical Heston model which is recovered when $H=1/2$."
   ]
  },
  {
   "cell_type": "markdown",
   "metadata": {
    "slideshow": {
     "slide_type": "slide"
    }
   },
   "source": [
    "### Forward variance in the rough Heston model\n",
    "\n",
    "- We will consider only the special case $\\lambda=0$.  In this case,\n",
    "$\\xi_t(u) = \\eef{v_u}= \\theta(u)$.\n",
    "\n",
    "- It follows that\n",
    "<p>\n",
    "$$\n",
    "v_u =  \\xi_t(u)  +\\frac{1}{\\Gamma(H + 1/2)}  \\int_{t}^u (u-s)^{H-1/2} \\eta \\sqrt{v_s} \\,dW_s.\n",
    "$$\n",
    "\n",
    "- Also\n",
    "\n",
    "$$\n",
    "v_u =  \\xi_{t+h}(u)  +\\frac{1}{\\Gamma(H + 1/2)}  \\int_{t+h}^u (u-s)^{H-1/2} \\eta \\sqrt{v_s} \\,dW_s.\n",
    "$$\n"
   ]
  },
  {
   "cell_type": "markdown",
   "metadata": {
    "slideshow": {
     "slide_type": "subslide"
    }
   },
   "source": [
    "### The rough Heston model in forward variance form\n",
    "\n",
    "Subtracting these two equations gives\n",
    "\n",
    "$$\n",
    " \\xi_{t+h}(u) -  \\xi_{t}(u) = \\frac{1}{\\Gamma(H + 1/2)} \\, \\int_t^{t+h} (u-s)^{H-1/2} \\eta \\sqrt{v_s} \\,dW_s.\n",
    "$$\n",
    "\n",
    "Taking the limit $h \\to 0$, we obtain \n",
    "\n",
    "$$\n",
    "d\\xi_{t}(u) = \\frac{\\eta}{{\\Gamma(H + 1/2)}}\\,(u-t)^{H-1/2}\\, \\sqrt{v_t} \\,dW_t,\n",
    "$$\n",
    "\n",
    "the rough Heston model in forward variance form.\n"
   ]
  },
  {
   "cell_type": "markdown",
   "metadata": {
    "slideshow": {
     "slide_type": "subslide"
    }
   },
   "source": [
    "### Non-Markovianity of the rough Heston model\n",
    "\n",
    "- Note that the limit $u \\to t$ of the rough Heston model makes no sense.\n",
    "    - This reflects the fact that the rough Heston model is not Markovian.\n",
    "    - There is no SDE for $v_t$ and no corresponding PDE.\n",
    "    - On the other hand, we can write an SDE for each $\\xi_t(u)$, $u>t$.\n",
    "      - We can even apply Itô's Lemma!\n",
    " \n",
    " \n",
    "- The rough Heston model is Markovian in the infinite-dimensional forward variance curve $\\xi_t(u), \\, u>t$."
   ]
  },
  {
   "cell_type": "markdown",
   "metadata": {
    "slideshow": {
     "slide_type": "slide"
    }
   },
   "source": [
    "### Affine processes\n",
    "\n",
    "The following explanation is due to Martin Keller-Ressel:\n",
    "\n",
    ">An *affine process* can be described as a Markov process whose log-characteristic function is an affine \n",
    "function of its initial state vector.\n",
    "\n",
    "\n",
    "And here's a definition of the word *affine* from Wikipedia:\n",
    "\n",
    " \n",
    "\n",
    ">In geometry, an affine transformation or affine map or an affinity (from the Latin, *affinis*, \"connected with\") between two vector spaces (strictly speaking, two affine spaces) consists of a linear transformation followed by a translation:\n",
    "$$\n",
    "x \\mapsto A\\,x+b\n",
    "$$\n",
    "\n"
   ]
  },
  {
   "cell_type": "markdown",
   "metadata": {
    "slideshow": {
     "slide_type": "slide"
    }
   },
   "source": [
    "### Affine CGF\n",
    "\n",
    "Let $X_t = \\log S_t$.  According to Definition 2.2 of [Gatheral and Keller-Ressel]<sup id=\"cite_ref-AFV\" class=\"reference\"><a href=\"#cite_note-AFV\"><span>[</span>9<span>]</span></a></sup>, we say that a forward variance model has an *affine cumulant generating function* determined by $g(t;u)$, if its conditional cumulant generating function is of the form \n",
    "\n",
    "<a name=\"eq:affineCGF\"></a>(1)\n",
    "$$\n",
    "\\log \\eef{e^{u(X_T - X_t)}} = \\int_t^T g(T-s;u)\\, \\xi_t(s)ds.\n",
    "$$\n",
    "\n",
    "for all $u \\in [0,1]$, $0 \\le t \\le T$ and $g(.;u)$ is $\\Rminus$-valued and continuous on $[0,T]$ for all $T > 0$ and $u \\in [0,1]$.\n",
    "\n",
    "- The restriction $u \\in [0,1]$ is for mathematical convenience.  We will later allow complex $u$."
   ]
  },
  {
   "cell_type": "markdown",
   "metadata": {
    "slideshow": {
     "slide_type": "slide"
    }
   },
   "source": [
    "### When is a forward variance model affine?\n",
    "\n",
    "Theorem 2.4 of [Gatheral and Keller-Ressel]<sup id=\"cite_ref-AFV\" class=\"reference\"><a href=\"#cite_note-AFV\"><span>[</span>9<span>]</span></a></sup> states that a forward variance model has an affine CGF if and only if it takes the form\n",
    "\n",
    "$$\n",
    "\\beas\n",
    "\\frac{dS_t}{S_t} &=& \\sqrt{v_t}\\,dZ_t\\\\\n",
    "d\\xi_t(u) &=& \\sqrt{v_t}\\, \\kappa(u-t)\\,dW_t\n",
    "\\eeas\n",
    "$$\n",
    "\n",
    "for some deterministic, non-negative decreasing kernel $\\kappa$, which satisfies $\\int_0^T \\kappa(r) dr < \\infty$ for all $T > 0$."
   ]
  },
  {
   "cell_type": "markdown",
   "metadata": {
    "slideshow": {
     "slide_type": "subslide"
    }
   },
   "source": [
    "Moreover, $g(.,u): \\Rplus \\to \\Rminus$ in the definition [(1)](#eq:affineCGF) of the CGF is the unique global continuous solution of the convolution Riccati equation\n",
    "\n",
    "$$\n",
    "g(t,u) = R_V\\Big(u, \\int_0^t \\kappa(t-s) g(s,u) ds\\Big) = R_V\\Big(u,(\\kappa \\star g) (t,u)\\Big),\\quad t \\ge 0\n",
    "$$\n",
    "\n",
    "where\n",
    "\n",
    "$$\n",
    "R_V(u,w) = \\frac{1}{2}(u^2 - u)  +   \\rho\\, u\\, w  + \\frac{1}{2}\\, w^2.\n",
    "$$"
   ]
  },
  {
   "cell_type": "markdown",
   "metadata": {
    "slideshow": {
     "slide_type": "subslide"
    }
   },
   "source": [
    "\n",
    "Alternatively, $g(t,u)$ can be written as\n",
    "\n",
    "$$\n",
    "g(t,u) = R_V(u,f(t,u)),\n",
    "$$\n",
    "\n",
    "where $f(t,u)$ is the unique global solution of the non-linear Volterra equation\n",
    "\n",
    "$$\n",
    "f(t,u) = \\int_0^t \\kappa(t-s) R_V(u,f(t,s)) ds.\n",
    "$$"
   ]
  },
  {
   "cell_type": "markdown",
   "metadata": {
    "slideshow": {
     "slide_type": "slide"
    }
   },
   "source": [
    "### Derivation of the Riccati equation\n",
    "\n",
    "From the definition definition [(1)](#eq:affineCGF) of the CGF, \n",
    "\n",
    "$$\n",
    "M_t = \\eef{e^{u\\,X_T}} = \\exp\\left\\{u\\,X_t + \\int_t^T\\,\\xi_t(s)\\,g(T-s;u)\\,ds \\right\\} =: \\exp\\left\\{u\\,X_t + G_t \\right\\}\n",
    "$$\n",
    "\n",
    "is a conditional expectation and thus a martingale in $t$."
   ]
  },
  {
   "cell_type": "markdown",
   "metadata": {
    "slideshow": {
     "slide_type": "subslide"
    }
   },
   "source": [
    "Applying Itô's Lemma to $M$ gives\n",
    "\n",
    "$$\n",
    "\\frac{d M_t}{M_t} = u\\,dX_t + dG_t + \\frac{u^2}2\\,d\\angl{X}_t + \\frac12\\,d\\angl{G}_t +u\\,d\\angl{X,G}_t.\n",
    "$$\n",
    "\n",
    "Now\n",
    "\n",
    "$$\n",
    "\\beas\n",
    "dX_t &=& -\\frac 12 \\,v_t\\,dt + \\sqrt{v_t}\\,dZ_t\\\\\n",
    "dG_t &=& -\\xi_t(t)\\,g(T-t;u)\\,dt + \\int_t^T\\,d\\xi_t(s)\\,g(T-s;u)\\,ds\\\\\n",
    " &=& -v_t\\,g(T-t;u)\\,dt + \\int_t^T\\,\\kappa(s-t)\\,\\sqrt{v_t}\\,dW_t\\,g(T-s;u)\\,ds.\n",
    "\\eeas\n",
    "$$"
   ]
  },
  {
   "cell_type": "markdown",
   "metadata": {
    "slideshow": {
     "slide_type": "subslide"
    }
   },
   "source": [
    "We compute\n",
    "\n",
    "$$\n",
    "\\beas\n",
    "d\\angl{X}_t &=& v_t\\,dt\\\\\n",
    "d\\angl{G}_t &=& v_t\\,dt\\, \\left( \\int_t^T\\,\\kappa(s-t)\\,g(T-s;u)\\,ds \\right)^2\\\\\n",
    "d\\angl{X,G}_t &=& \\rho\\,v_t\\, dt\\,\\int_t^T\\,\\kappa(s-t)\\,g(T-s;u)\\,ds.\n",
    "\\eeas\n",
    "$$"
   ]
  },
  {
   "cell_type": "markdown",
   "metadata": {
    "slideshow": {
     "slide_type": "subslide"
    }
   },
   "source": [
    "Imposing $\\ee{dM_t}=0$ and letting $\\tau = T-t$ gives\n",
    "\n",
    "$$\n",
    "0 = v_t\\,dt\\,\\left\\{-\\frac 12\\,u +\\frac12\\,u^2 -g(\\tau;u)\n",
    "+\\rho\\,u\\,(\\kappa \\star g) (\\tau,u) + \\frac12\\,(\\kappa \\star g) (\\tau,u)^2\n",
    "\\right\\}\n",
    "$$\n",
    "\n",
    "where the convolution integral is given by\n",
    "\n",
    "$$\n",
    "(\\kappa \\star g) (\\tau,u) = \\int_0^\\tau\\,\\kappa(\\tau - s)\\,g(s;u)\\,ds.\n",
    "$$\n",
    "\n",
    "- It is almost obvious why the CGF is affine if an only if the forward variance process is of the form $d\\xi_t(u) = \\sqrt{v_t}\\, \\kappa(u-t)\\,dW_t$."
   ]
  },
  {
   "cell_type": "markdown",
   "metadata": {
    "slideshow": {
     "slide_type": "subslide"
    }
   },
   "source": [
    "### The convolution Riccati equation\n",
    "\n",
    "Rearranging gives \n",
    "\n",
    "$$\n",
    "g(\\tau;u) =  \\frac 12\\,u(u-1) + \\rho \\,u\\, (\\kappa \\star g) (\\tau;u) + \\frac 12\\, (\\kappa \\star g) (\\tau;u)^2 = R_V(u,(\\kappa \\star g)),\n",
    "$$\n",
    "\n",
    "as required."
   ]
  },
  {
   "cell_type": "markdown",
   "metadata": {
    "slideshow": {
     "slide_type": "slide"
    }
   },
   "source": [
    "### Example: The rough Heston model (with $\\lambda=0$)\n",
    "\n",
    "In this case, \n",
    "$\n",
    "\\kappa(\\tau) =\\frac{\\eta}{\\Gamma(\\alpha)} \\,\\tau^{\\alpha-1}\n",
    "$\n",
    "and\n",
    "\n",
    "$$\n",
    "\\eta\\,h(\\tau;u):=(\\kappa \\star g)(\\tau;u) =  \\frac{\\eta}{\\Gamma(\\alpha)} \\int_0^\\tau\\,(\\tau-s)^{\\alpha-1}\\,g(s;u)\\,ds = \\eta\\,I^\\alpha g(\\tau;u).\n",
    "$$\n",
    "\n",
    "Inverting this gives\n",
    "$\n",
    "g(\\tau;u) =D^\\alpha h(\\tau; u).\n",
    "$\n",
    "\n",
    "The convolution integral Riccati equation then reads\n",
    "\n",
    "$$\n",
    "D^\\alpha h(\\tau;u) =  \\frac 12\\,u\\,(u-1) + \\rho\\,\\eta\\, u\\, h (\\tau;u) + \\frac 12\\,\\eta^2\\, h(\\tau;u)^2,\n",
    "$$\n",
    "\n",
    "consistent with [El Euch and Rosenbaum]<sup id=\"cite_ref-EER\" class=\"reference\"><a href=\"#cite_note-EER\"><span>[</span>6<span>]</span></a></sup>."
   ]
  },
  {
   "cell_type": "markdown",
   "metadata": {
    "slideshow": {
     "slide_type": "slide"
    }
   },
   "source": [
    "### An aside: Fractional calculus\n",
    "\n",
    "Define the fractional integral and differential operators:\n",
    "\n",
    "$$\n",
    "I^{\\alpha} f(t) = \\frac{1}{\\Gamma(\\alpha)}\\,\\int_0^t\\,(t-s)^{\\alpha-1}\\,f(s)\\,ds;\\quad D^\\alpha f(t) = \\frac{d}{dt}\\,I^{1-\\alpha} f(t).\n",
    "$$\n",
    "\n",
    "The fractional integral is a natural generalization of the ordinary integral using the Cauchy formula for repeated integration:\n",
    "\n",
    "$$\n",
    "\\beas\n",
    "I^{n} f(t) &:=& \\int_0^t dt_1\\int_0^{t_1}...dt_{n-1}\\int_0^{t_{n-1}}f(t_n)\\,dt_n\\\\\n",
    "&=&\\frac{1}{(n-1)!}\\,\\int_0^t\\, (t-s)^{n-1}\\,f(s)\\,ds.\n",
    "\\eeas\n",
    "$$\n",
    "\n"
   ]
  },
  {
   "cell_type": "markdown",
   "metadata": {
    "slideshow": {
     "slide_type": "slide"
    }
   },
   "source": [
    "### A microstructural foundation of the rough Heston model\n",
    "\n",
    "- The rough Heston model emerges as the continuous time limit of a Hawkes process-based model of order flow.\n",
    "    - Buys(sells) make the price go up(down)\n",
    "    - Buys(sells) induce more buys(sells).  That is, the processes are self-exciting.\n",
    "    - Excitations decay as a power law.\n",
    "    \n",
    "    \n",
    "- This gives us a clue as to why rough volatility appears to be universal.\n",
    "    "
   ]
  },
  {
   "cell_type": "markdown",
   "metadata": {
    "slideshow": {
     "slide_type": "slide"
    }
   },
   "source": [
    "### Example: The classical Heston model\n",
    "\n",
    "In this case, \n",
    "$\n",
    "\\kappa(\\tau) =\\eta\\,e^{-\\lambda\\,\\tau}$.\n",
    "\n",
    "Then\n",
    "\n",
    "$$\n",
    "\\eta\\,h(\\tau;u):=(\\kappa \\star g)(\\tau;u) =  \\eta\\, \\int_0^\\tau\\,e^{-\\lambda\\,(\\tau-s)}\\,g(s;u)\\,ds .\n",
    "$$\n",
    "\n",
    "Also, \n",
    "$\n",
    "\\p_\\tau h(\\tau;u) = -\\lambda\\,h(\\tau;u) + g(\\tau;u).\n",
    "$\n",
    "The convolution Riccati equation then becomes\n",
    "\n",
    "<a name=\"eq:HestonRiccati\"></a>(2)\n",
    "$$\n",
    "\\p_\\tau h(\\tau;u)  =  \\frac 12\\,u\\,(u-1)  - (\\lambda - \\rho\\,\\eta\\,u)\\, h (\\tau;u) + \\frac 12\\,\\eta^2\\, h(\\tau;u)^2\n",
    "$$\n",
    "\n",
    "consistent with the classical derivation in (for example) Chapter 2 of [The Volatility Surface]<sup id=\"cite_ref-TVS\" class=\"reference\"><a href=\"#cite_note-TVS\"><span>[</span>7<span>]</span></a></sup>."
   ]
  },
  {
   "cell_type": "markdown",
   "metadata": {
    "slideshow": {
     "slide_type": "subslide"
    }
   },
   "source": [
    "### Solution of the classical Heston Riccati equation\n",
    "\n",
    "We rewrite equation [(2)](#eq:HestonRiccati) in the form\n",
    "\n",
    "<a name=\"eq:cdeqn\"></a>(3)\n",
    "$$\n",
    "\\p_\\tau h =\\frac12\\,\\eta^2 \\,(h - r_ +  )(h - r_ -  )\n",
    "$$\n",
    "\n",
    "where\n",
    "\n",
    "$$\n",
    "r_ \\pm   = \\frac{\\lambda -\\rho\\,\\eta \\,  u\n",
    "\\pm \\sqrt{\\lambda^2+ u \\,(\\eta^2 -2\\rho\\,\\eta\\, \\lambda )-u^2\\,\\eta ^2 \\,\\left(1-\\rho ^2\\right)}}{\\eta ^2}=: \\frac{\\lambda -\\rho\\,\\eta \\,  u\n",
    "\\pm d}{\\eta ^2}.\n",
    "$$"
   ]
  },
  {
   "cell_type": "markdown",
   "metadata": {
    "slideshow": {
     "slide_type": "subslide"
    }
   },
   "source": [
    "Integrating [(3)](#eq:cdeqn) with the terminal condition $h(0;u)=(\\kappa \\star g) (0,u)= 0$ gives\n",
    "\n",
    "\n",
    "$$\n",
    "h(\\tau;u ) = r_ -  \\frac{{1 - e^{ - d\\,\\tau } }}{{1 - \\frac{{r_ -  }}{{r_ +  }}\\,e^{ -\n",
    "d\\,\\tau } }} .\n",
    "$$\n"
   ]
  },
  {
   "cell_type": "markdown",
   "metadata": {
    "slideshow": {
     "slide_type": "slide"
    }
   },
   "source": [
    "### The Heston characteristic function\n",
    "\n",
    "The characteristic function is given by \n",
    "\n",
    "$$\n",
    "\\beas\n",
    "\\varphi_t^T(a) = \\eef{e^{\\ui a X_T}} = \\exp\\left\\{\\ui a X_t + \\int_t^T\\,\\xi_t(s)\\,g(T-s;\\ui a)\\,ds\\right\\}\n",
    "\\eeas\n",
    "$$\n",
    "\n",
    "Recall that in the Heston model, \n",
    "\n",
    "$$\n",
    "\\xi_t(s) = (v_t-\\bar v)\\,e^{-\\lambda(s-t)}+\\bar v.\n",
    "$$"
   ]
  },
  {
   "cell_type": "markdown",
   "metadata": {
    "slideshow": {
     "slide_type": "subslide"
    }
   },
   "source": [
    "First note that \n",
    "\n",
    "$$\n",
    "\\int_t^T\\,e^{-\\lambda\\,(s-t)}\\,g(T-s;\\ui a)\\,ds = h(T-t;\\ui a).\n",
    "$$\n",
    "\n",
    "Also, \n",
    "$$\n",
    "g(\\tau;u)=\\p_\\tau h(\\tau;u) +\\lambda\\,h(\\tau;u)\n",
    "$$\n",
    "\n",
    "so\n",
    "\n",
    "$$\n",
    "\\int_t^T\\,g(T-s;\\ui a)\\,ds = h(T-t;\\ui a) \n",
    "+\\lambda\\,\\int_t^T\\,h(T-s;\\ui a)\\,ds.\n",
    "$$"
   ]
  },
  {
   "cell_type": "markdown",
   "metadata": {
    "slideshow": {
     "slide_type": "subslide"
    }
   },
   "source": [
    "Identifying $h(\\tau;\\ui a)$ with $D(a,\\tau)$ and with\n",
    "\n",
    "$$\n",
    "C(a,\\tau) = \\lambda\\,\\int_t^T\\,h(T-s;\\ui a)\\,ds,\n",
    "$$\n",
    "we obtain\n",
    "\n",
    "<a name=\"eq:hestonCD\"></a>(4)\n",
    "$$\n",
    "\\beas\n",
    "D(a,\\tau ) &=& r_ -  \\frac{{1 - e^{ - d\\,\\tau } }}{{1 - \\frac{{r_ -  }}{{r_ +  }}\\,e^{ -\n",
    "d\\,\\tau } }} \\nonumber\\\\ C(a,\\tau ) &=& \\lambda \\,\\left\\{ {r_ - \\tau\n",
    "- \\frac{2}{{\\eta ^2 }}\\,\\log\\left( {\\frac{{1 - \\frac{{r_ -  }}{{r_ +  }}\\,e^{ - d\\,\\tau }\n",
    "}}{{1 - \\frac{{r_ -  }}{{r_ +  }}}}} \\right)} \\right\\}\n",
    "\\eeas\n",
    "$$\n",
    "\n",
    "as in equation (2.12) of [The Volatility Surface]<sup id=\"cite_ref-TVS\" class=\"reference\"><a href=\"#cite_note-TVS\">[7]</a></sup>."
   ]
  },
  {
   "cell_type": "markdown",
   "metadata": {
    "slideshow": {
     "slide_type": "slide"
    }
   },
   "source": [
    "### The Heston characteristic function\n",
    "\n",
    "For emphasis, the Heston characteristic function is given by\n",
    "\n",
    "<blockquote><div style=\"background-color:#add8e6; color:#FFFFFF; font-style: normal;  \" ><h4>\n",
    "The Heston characteristic function</h4>\n",
    "</div>\n",
    "<div style=\"background-color:#E8E8E8; color:#000000; font-style: normal; \">\n",
    "<br>\n",
    "$$\n",
    "\\varphi_t^T(a)=\\exp \\left\\{ C (a,\\tau )\\,\\bar v + D (a,\\tau )\\,v \\right\\}\n",
    "$$\n",
    "<br>\n",
    "</div>\n",
    "</blockquote>\n"
   ]
  },
  {
   "cell_type": "markdown",
   "metadata": {
    "slideshow": {
     "slide_type": "slide"
    }
   },
   "source": [
    "### The Heston density\n",
    "\n",
    "The Heston probability density function may be computed by Fourier inversion as\n",
    "\n",
    "<a name=\"eq:HestonDensity\"></a>(5)\n",
    "\\begin{eqnarray*}\n",
    "p(y,\\tau)&=&\n",
    "\\int_{ - \\infty }^\\infty \\, \\frac{du}{2\\pi}\\,\n",
    "e^{-i\\,u\\,y} \\,\\varphi(u)\\nonumber\\\\\n",
    "&=&\\frac{1}{\\pi}\\,\\int_0^\\infty \\, du\\,{\\mathop{ Re}} \\left[\\exp \\left\\{ C (u,\\tau )\\,\\bar v + D (u,\\tau )\\,v -i\\,u\\,y\\right\\} \\right]\n",
    "\\end{eqnarray*}\n",
    "\n",
    "* Note that $y=\\log S_T/S_t$ is the forward variable.\n"
   ]
  },
  {
   "cell_type": "markdown",
   "metadata": {
    "slideshow": {
     "slide_type": "slide"
    }
   },
   "source": [
    "### Information content of the characteristic function\n",
    "\n",
    "The following are equivalent in the sense that given one of these, all of the others may be derived:\n",
    "\n",
    "* All $T$ expiration European option prices.\n",
    "* The $T$ expiration risk-neutral density.\n",
    "* The $T$ expiration implied volatilities.\n",
    "* The $T$ expiration characteristic function."
   ]
  },
  {
   "cell_type": "markdown",
   "metadata": {
    "slideshow": {
     "slide_type": "slide"
    }
   },
   "source": [
    "### R-implementation of the Heston characteristic function"
   ]
  },
  {
   "cell_type": "code",
   "execution_count": 1,
   "metadata": {
    "slideshow": {
     "slide_type": "fragment"
    }
   },
   "outputs": [],
   "source": [
    "download.file(\n",
    "    url=\"http://mfe.baruch.cuny.edu/wp-content/uploads/2018/09/9875-3.zip\",\n",
    "    destfile=\"9875-3.zip\")\n",
    "unzip(zipfile=\"9875-3.zip\")"
   ]
  },
  {
   "cell_type": "code",
   "execution_count": 2,
   "metadata": {
    "slideshow": {
     "slide_type": "fragment"
    }
   },
   "outputs": [],
   "source": [
    "source(\"BlackScholes.R\")\n",
    "source(\"Lewis.R\")\n",
    "source(\"Heston.R\")\n",
    "source(\"roughHestonPade.R\")"
   ]
  },
  {
   "cell_type": "code",
   "execution_count": 3,
   "metadata": {
    "slideshow": {
     "slide_type": "subslide"
    }
   },
   "outputs": [
    {
     "data": {
      "text/html": [
       "<pre class=language-r><code>function (params) \n",
       "{\n",
       "<span style=white-space:pre-wrap>    lambda &lt;- params$lambda</span>\n",
       "<span style=white-space:pre-wrap>    rho &lt;- params$rho</span>\n",
       "<span style=white-space:pre-wrap>    eta &lt;- params$eta</span>\n",
       "<span style=white-space:pre-wrap>    vbar &lt;- params$vbar</span>\n",
       "<span style=white-space:pre-wrap>    v &lt;- params$v</span>\n",
       "<span style=white-space:pre-wrap>    function(u, t) {</span>\n",
       "<span style=white-space:pre-wrap>        al &lt;- -u * u/2 - (0+1i) * u/2</span>\n",
       "<span style=white-space:pre-wrap>        bet &lt;- lambda - rho * eta * (0+1i) * u</span>\n",
       "<span style=white-space:pre-wrap>        gam &lt;- eta^2/2</span>\n",
       "<span style=white-space:pre-wrap>        d &lt;- sqrt(bet * bet - 4 * al * gam)</span>\n",
       "<span style=white-space:pre-wrap>        rp &lt;- (bet + d)/(2 * gam)</span>\n",
       "<span style=white-space:pre-wrap>        rm &lt;- (bet - d)/(2 * gam)</span>\n",
       "<span style=white-space:pre-wrap>        g &lt;- rm/rp</span>\n",
       "<span style=white-space:pre-wrap>        D &lt;- rm * (1 - exp(-d * t))/(1 - g * exp(-d * t))</span>\n",
       "<span style=white-space:pre-wrap>        C &lt;- lambda * (rm * t - 2/eta^2 * log((1 - g * exp(-(d * </span>\n",
       "<span style=white-space:pre-wrap>            t)))/(1 - g)))</span>\n",
       "<span style=white-space:pre-wrap>        return(exp(C * vbar + D * v))</span>\n",
       "<span style=white-space:pre-wrap>    }</span>\n",
       "}</code></pre>"
      ],
      "text/latex": [
       "\\begin{minted}{r}\n",
       "function (params) \n",
       "\\{\n",
       "    lambda <- params\\$lambda\n",
       "    rho <- params\\$rho\n",
       "    eta <- params\\$eta\n",
       "    vbar <- params\\$vbar\n",
       "    v <- params\\$v\n",
       "    function(u, t) \\{\n",
       "        al <- -u * u/2 - (0+1i) * u/2\n",
       "        bet <- lambda - rho * eta * (0+1i) * u\n",
       "        gam <- eta\\textasciicircum{}2/2\n",
       "        d <- sqrt(bet * bet - 4 * al * gam)\n",
       "        rp <- (bet + d)/(2 * gam)\n",
       "        rm <- (bet - d)/(2 * gam)\n",
       "        g <- rm/rp\n",
       "        D <- rm * (1 - exp(-d * t))/(1 - g * exp(-d * t))\n",
       "        C <- lambda * (rm * t - 2/eta\\textasciicircum{}2 * log((1 - g * exp(-(d * \n",
       "            t)))/(1 - g)))\n",
       "        return(exp(C * vbar + D * v))\n",
       "    \\}\n",
       "\\}\n",
       "\\end{minted}"
      ],
      "text/markdown": [
       "```r\n",
       "function (params) \n",
       "{\n",
       "    lambda <- params$lambda\n",
       "    rho <- params$rho\n",
       "    eta <- params$eta\n",
       "    vbar <- params$vbar\n",
       "    v <- params$v\n",
       "    function(u, t) {\n",
       "        al <- -u * u/2 - (0+1i) * u/2\n",
       "        bet <- lambda - rho * eta * (0+1i) * u\n",
       "        gam <- eta^2/2\n",
       "        d <- sqrt(bet * bet - 4 * al * gam)\n",
       "        rp <- (bet + d)/(2 * gam)\n",
       "        rm <- (bet - d)/(2 * gam)\n",
       "        g <- rm/rp\n",
       "        D <- rm * (1 - exp(-d * t))/(1 - g * exp(-d * t))\n",
       "        C <- lambda * (rm * t - 2/eta^2 * log((1 - g * exp(-(d * \n",
       "            t)))/(1 - g)))\n",
       "        return(exp(C * vbar + D * v))\n",
       "    }\n",
       "}\n",
       "```"
      ],
      "text/plain": [
       "function (params) \n",
       "{\n",
       "    lambda <- params$lambda\n",
       "    rho <- params$rho\n",
       "    eta <- params$eta\n",
       "    vbar <- params$vbar\n",
       "    v <- params$v\n",
       "    function(u, t) {\n",
       "        al <- -u * u/2 - (0+1i) * u/2\n",
       "        bet <- lambda - rho * eta * (0+1i) * u\n",
       "        gam <- eta^2/2\n",
       "        d <- sqrt(bet * bet - 4 * al * gam)\n",
       "        rp <- (bet + d)/(2 * gam)\n",
       "        rm <- (bet - d)/(2 * gam)\n",
       "        g <- rm/rp\n",
       "        D <- rm * (1 - exp(-d * t))/(1 - g * exp(-d * t))\n",
       "        C <- lambda * (rm * t - 2/eta^2 * log((1 - g * exp(-(d * \n",
       "            t)))/(1 - g)))\n",
       "        return(exp(C * vbar + D * v))\n",
       "    }\n",
       "}"
      ]
     },
     "metadata": {},
     "output_type": "display_data"
    }
   ],
   "source": [
    "phiHeston"
   ]
  },
  {
   "cell_type": "markdown",
   "metadata": {
    "slideshow": {
     "slide_type": "slide"
    }
   },
   "source": [
    "### A digression: the complex logarithm in [(4)](#eq:hestonCD)\n",
    "\n",
    "In Heston's original paper and in most other papers on the subject,\n",
    "$C(u,\\tau)$ is written (almost) equivalently as\n",
    "\n",
    "<a name=\"eq:hestonc\"></a>(6)\n",
    "$$\n",
    "C(u,\\tau ) =\\lambda \\,\\left\\{ {r_+  \\tau  - \\frac{2}{{\\eta ^2\n",
    "}}\\,\\log \\left( {\\frac{{e^{ + d\\,\\tau } - g }}{{1 - g}}} \\right)}\n",
    "\\right\\}\n",
    "$$\n",
    "\n",
    "with $g = \\frac{r_-}{r_+}$.\n",
    "\n",
    "The reason for the qualification \"almost\" is that this definition\n",
    "coincides with our previous one only if the imaginary part of the\n",
    "complex logarithm is chosen so that $C(u,\\tau )$ is continuous with\n",
    "respect to $u$. "
   ]
  },
  {
   "cell_type": "markdown",
   "metadata": {
    "slideshow": {
     "slide_type": "subslide"
    }
   },
   "source": [
    " It turns out that taking the principal value of the\n",
    "logarithm in [(6)](#eq:hestonc) causes $C(u,\\tau )$ to jump\n",
    "discontinuously each time the imaginary part of the argument of the\n",
    "logarithm crosses the negative real axis. "
   ]
  },
  {
   "cell_type": "markdown",
   "metadata": {
    "slideshow": {
     "slide_type": "slide"
    }
   },
   "source": [
    "### BCC parameters\n",
    "\n",
    "[Bakshi, Cao and Chen]<sup id=\"cite_ref-BCC\" class=\"reference\"><a href=\"#cite_note-BCC\"><span>[</span>2<span>]</span></a></sup> found (more or less) the following Heston (SV) parameters  in a fit of the Heston model to historical volatility surfaces:\n",
    "\n",
    "<div align=\"center\">Table 1: BCC parameters \n",
    "<p>\n",
    "\n",
    "$v$|$0.04$\n",
    "------: | -------------:\n",
    "$\\bar v$|$0.04$\n",
    "$\\lambda$|$1.15$\n",
    "$\\eta$|$0.39$\n",
    "$\\rho$|$-0.64$"
   ]
  },
  {
   "cell_type": "markdown",
   "metadata": {
    "slideshow": {
     "slide_type": "slide"
    }
   },
   "source": [
    "### A numerical example with BCC parameters\n",
    "\n",
    "Recall the two versions of $C(u,\\tau)$:\n",
    "\n",
    "$$\n",
    "C^{JG}(u,\\tau ) = \\lambda \\,\\left\\{ {r_ - \\tau\n",
    "- \\frac{2}{{\\eta ^2 }}\\,\\log\\left( {\\frac{{1 - g\\,e^{ - d\\,\\tau }\n",
    "}}{{1 - g}}} \\right)} \\right\\}\n",
    "$$\n",
    "\n",
    "and\n",
    "\n",
    "$$\n",
    "C^{Heston}(u,\\tau ) =\\lambda \\,\\left\\{ {r_+  \\tau  - \\frac{2}{{\\eta ^2\n",
    "}}\\,\\log \\left( {\\frac{{e^{ + d\\,\\tau } - g }}{{1 - g}}} \\right)}\\right\\}.\n",
    "$$\n",
    "\n",
    "We code these below."
   ]
  },
  {
   "cell_type": "code",
   "execution_count": 4,
   "metadata": {
    "slideshow": {
     "slide_type": "subslide"
    }
   },
   "outputs": [],
   "source": [
    "bigC <- function(params){\n",
    "    \n",
    "    lambda <- params$lambda\n",
    "    rho <- params$rho\n",
    "    eta <- params$eta\n",
    "    vbar <- params$vbar\n",
    "    v <- params$v\n",
    "    \n",
    "    fj <- function(u, t, j){\n",
    "\n",
    "            al <- -u*u/2 - 1i*u/2 + 1i*j*u\n",
    "            bet <- lambda - rho*eta*1i*u-rho*eta*j\n",
    "            gam <- eta^2/2\n",
    "            d <- sqrt(bet*bet - 4*al*gam)\n",
    "            rp <- (bet + d)/(2*gam)\n",
    "            rm <- (bet - d)/(2*gam)\n",
    "            g <- rm / rp\n",
    "            C.JG <- lambda * (rm * t - 2/eta^2 * log( (1 - g*exp(-(d*t)))/(1 - g) ) )\n",
    "            C.Heston <- lambda * (rp * t - 2/eta^2 * log( (exp(d*t) - g)/(1 - g) ) )\n",
    "            return(list(C.JG=C.JG,C.Heston=C.Heston))\n",
    "    } \n",
    "}"
   ]
  },
  {
   "cell_type": "markdown",
   "metadata": {
    "slideshow": {
     "slide_type": "subslide"
    }
   },
   "source": [
    "Check the two versions with $\\tau=3$, and with BCC parameters:"
   ]
  },
  {
   "cell_type": "code",
   "execution_count": 5,
   "metadata": {
    "slideshow": {
     "slide_type": "fragment"
    }
   },
   "outputs": [],
   "source": [
    "paramsBCC <- list(lambda = 1.15,rho = -0.64,eta = 0.39,vbar = 0.04,v = .04)"
   ]
  },
  {
   "cell_type": "code",
   "execution_count": 6,
   "metadata": {
    "slideshow": {
     "slide_type": "fragment"
    }
   },
   "outputs": [
    {
     "data": {
      "text/html": [
       "<dl>\n",
       "\t<dt>$C.JG</dt>\n",
       "\t\t<dd>-47.5424985325402+26.838817444334i</dd>\n",
       "\t<dt>$C.Heston</dt>\n",
       "\t\t<dd>-47.54249853254+121.850824061777i</dd>\n",
       "</dl>\n"
      ],
      "text/latex": [
       "\\begin{description}\n",
       "\\item[\\$C.JG] -47.5424985325402+26.838817444334i\n",
       "\\item[\\$C.Heston] -47.54249853254+121.850824061777i\n",
       "\\end{description}\n"
      ],
      "text/markdown": [
       "$C.JG\n",
       ":   -47.5424985325402+26.838817444334i\n",
       "$C.Heston\n",
       ":   -47.54249853254+121.850824061777i\n",
       "\n",
       "\n"
      ],
      "text/plain": [
       "$C.JG\n",
       "[1] -47.5425+26.83882i\n",
       "\n",
       "$C.Heston\n",
       "[1] -47.5425+121.8508i\n"
      ]
     },
     "metadata": {},
     "output_type": "display_data"
    }
   ],
   "source": [
    "bigC(paramsBCC)(u=10,t=3,j=0)"
   ]
  },
  {
   "cell_type": "markdown",
   "metadata": {
    "slideshow": {
     "slide_type": "fragment"
    }
   },
   "source": [
    "The imaginary parts are very different.  Which function works better?"
   ]
  },
  {
   "cell_type": "markdown",
   "metadata": {
    "slideshow": {
     "slide_type": "subslide"
    }
   },
   "source": [
    "### Comparison plot"
   ]
  },
  {
   "cell_type": "code",
   "execution_count": 7,
   "metadata": {
    "slideshow": {
     "slide_type": "fragment"
    }
   },
   "outputs": [],
   "source": [
    "library(repr)\n",
    "options(repr.plot.height=5)"
   ]
  },
  {
   "cell_type": "code",
   "execution_count": 8,
   "metadata": {
    "slideshow": {
     "slide_type": "fragment"
    }
   },
   "outputs": [],
   "source": [
    "u.vec <- seq(0,10,.01)\n",
    "x <- bigC(paramsBCC)(u=u.vec,t=3,j=0)"
   ]
  },
  {
   "cell_type": "code",
   "execution_count": 9,
   "metadata": {
    "slideshow": {
     "slide_type": "subslide"
    }
   },
   "outputs": [
    {
     "data": {
      "image/png": "[encoded data removed]",
      "text/plain": [
       "plot without title"
      ]
     },
     "metadata": {},
     "output_type": "display_data"
    }
   ],
   "source": [
    "plot(Re(x$C.Heston),Im(x$C.Heston),type=\"l\",col=\"red\",lty=2,lwd=2,xlab=\"Re(C)\",ylab=\"Im(C)\")\n",
    "lines(Re(x$C.JG),Im(x$C.JG),type=\"l\",col=\"green4\",lwd=1.5)"
   ]
  },
  {
   "cell_type": "markdown",
   "metadata": {
    "slideshow": {
     "slide_type": "fragment"
    }
   },
   "source": [
    "Figure 1: $C^{Heston}(\\cdot)$ in red, $C^{JG}(\\cdot)$ in green."
   ]
  },
  {
   "cell_type": "markdown",
   "metadata": {
    "slideshow": {
     "slide_type": "slide"
    }
   },
   "source": [
    "### Solutions in the literature\n",
    "\n",
    "\n",
    "One conventional\n",
    "resolution is to keep careful track of the winding number in the\n",
    "integration [(14)](#eq:hestonformula) so as to remain on the same\n",
    "Riemann sheet. \n",
    "\n",
    "This leads to practical implementation problems\n",
    "because standard numerical integration routines cannot be used.  The\n",
    "paper of [Kahl and Jäckel]<sup id=\"cite_ref-KJ\" class=\"reference\"><a href=\"#cite_note-KJ\"><span>[</span>10<span>]</span></a></sup> concerns itself with this\n",
    "problem and provides an ingenious resolution."
   ]
  },
  {
   "cell_type": "markdown",
   "metadata": {
    "slideshow": {
     "slide_type": "subslide"
    }
   },
   "source": [
    "### A better solution\n",
    "\n",
    "* With *our* definition [(4)](#eq:hestonCD) of $C(u,\\tau)$,  whenever the imaginary part of the argument of the logarithm is zero, the real part is positive.\n",
    "\n",
    "    * Plotted in the complex plane, the argument of the logarithm never cuts the negative real axis.\n",
    "    * This result was proved by [Albrecher, Mayer, Schoutens and Tistaert]<sup id=\"cite_ref-AMST\" class=\"reference\"><a href=\"#cite_note-AMST\"><span>[</span>1<span>]</span></a></sup>.\n",
    "\n",
    "\n",
    "* It follows that with our definition of $C(u,\\tau)$, taking the principal value of the logarithm leads to a continuous integrand over the full range of integration."
   ]
  },
  {
   "cell_type": "markdown",
   "metadata": {
    "slideshow": {
     "slide_type": "slide"
    }
   },
   "source": [
    "### The rough Heston characteristic function\n",
    "\n",
    "- There exist a number of standard numerical techniques, such as the Adams scheme, for solving fractional differential equations such as the rough Heston fractional Riccati equation.\n",
    "    - These techniques are all slow!\n",
    "    \n",
    "    \n",
    "- Recently, [Gatheral and Radoičić]<sup id=\"cite_ref-GR\" class=\"reference\"><a href=\"#cite_note-GR\"><span>[</span>10]</a></sup> showed how to approximate the solution of the rough Heston fractional Riccati equation by a rational function.\n",
    "    - This approximation solution is just as fast as the classical Heston solution and appears to be more accurate than the Adams scheme for any reasonable number of time steps!"
   ]
  },
  {
   "cell_type": "markdown",
   "metadata": {
    "slideshow": {
     "slide_type": "slide"
    }
   },
   "source": [
    "### Computing option prices from the characteristic function\n",
    "\n",
    "It turns out (see [Carr and Madan]<sup id=\"cite_ref-CarrMadan\" class=\"reference\"><a href=\"#cite_note-CarrMadan\"><span>[</span>4<span>]</span></a></sup> and [Lewis]<sup id=\"cite_ref-Lewis\" class=\"reference\"><a href=\"#cite_note-Lewis\"><span>[</span>11<span>]</span></a></sup>) that it is quite\n",
    "straightforward to get option prices by inverting the characteristic\n",
    "function of a given stochastic process (if it is known in closed-form).\n",
    "\n",
    "\n",
    "The formula we will use is a special case of formula (2.10) of Lewis (as\n",
    "usual we assume zero interest rates and dividends):\n",
    "\n",
    "<blockquote><div style=\"background-color:#add8e6; color:#FFFFFF; font-style: normal;  \" ><h4>\n",
    "Formula (2.10) of Lewis</h4>\n",
    "</div>\n",
    "<div style=\"background-color:#E8E8E8; color:#000000; font-style: normal; \">\n",
    "<br>\n",
    "<a name=\"eq:lewis\"></a>(7)\n",
    "$$\n",
    "C(S,K,t,T)=S-\\sqrt{SK}\\frac{1}{\\pi}\\int_0^\\infty\\frac{du}{u^2+\\frac{1}{4}}\n",
    "\\,\\mathrm{Re}\\left[e^{-iuk}\\varphi_t^T\\left(u-i/2\\right)\\right]\n",
    "$$\n",
    "<br>\n",
    "<br>\n",
    "\n",
    "</div>\n",
    "\n",
    "</blockquote>\n",
    "\n",
    "\n",
    "with $k=\\log\\left(\\frac{K}{S}\\right)$. We now proceed to prove this\n",
    "formula."
   ]
  },
  {
   "cell_type": "markdown",
   "metadata": {
    "slideshow": {
     "slide_type": "slide"
    }
   },
   "source": [
    "### Heston greeks\n",
    "\n",
    "It is worth noting that taking derivatives of the Heston option value\n",
    "with respect to $x$ or $v$ in order to compute delta, gamma, vega and so on is\n",
    "extremely straightforward because the functions $C(u,\\tau)$ and\n",
    "$D(u,\\tau)$ are independent of $x$ and $v$."
   ]
  },
  {
   "cell_type": "markdown",
   "metadata": {
    "slideshow": {
     "slide_type": "slide"
    }
   },
   "source": [
    "### Proof of [(7)](#eq:lewis)\n",
    "\n",
    "A covered call position has the payoff $\\min[S_T,K]$ where $S_T$ is the\n",
    "stock price at time $T$ and $K$ is the strike price of the call.\n",
    "\n",
    "\n",
    "Consider the Fourier transform of this covered call position $G(k,\\tau)$\n",
    "with respect to the log-strike $k := \\log{(K/F)}$ defined by\n",
    "\n",
    "\n",
    "$$\\hat G(u,\\tau)=\\int\\limits_{-\\infty}^{\\infty}e^{i \\,u\\, k}G(k,\\tau) \\,dk$$"
   ]
  },
  {
   "cell_type": "markdown",
   "metadata": {
    "slideshow": {
     "slide_type": "subslide"
    }
   },
   "source": [
    "Denoting time-to-expiration by $\\tau = T-t$, and setting interest rates\n",
    "and dividends to zero as usual, we have that\n",
    "\n",
    "\\begin{eqnarray*}\n",
    "\\frac{1}{S}\\hat G(u,\\tau)&=&\\int\\limits_{-\\infty}^{\\infty}\\,e^{i\\, u\\, k}\\,\n",
    "\\mathbb{E}\\left[\\min[e^{x_\\tau},e^k)^+] \\right]\\,dk\\\\\n",
    "&=&\\mathbb{E}\\left[\\int\\limits_{-\\infty}^{\\infty}\\,e^{i\\, u\\, k}\\,\n",
    "\\min[e^{x_\\tau},e^k)^+] \\,dk \\right]\\\\\n",
    "&=&\\mathbb{E}\\left[\\int\\limits_{-\\infty}^{x_\\tau}\\,e^{i\\, u\\, k}\\, e^k\n",
    "\\,dk+\\int\\limits_{x_\\tau}^{\\infty}\\,e^{i\\, u\\, k}\\,\n",
    "e^{x_\\tau} \\,dk \\right]\\\\\n",
    "&=&\\mathbb{E}\\left[\\frac{e^{(1+i\n",
    "u)x_\\tau}}{1+i u}-\\frac{e^{(1+i u)x_\\tau}}{i u} \\right]\\textrm{ only if } 0<\\mathrm{Im}[u]<1!\\\\\n",
    "&=&\\frac{1}{ u(u-i)}\\mathbb{E}\\left[{e^{(1+i u)x_\\tau}} \\right]\\\\\n",
    "&=&\\frac{1}{ u(u-i)}\\,\\phi_\\tau(u-i)\n",
    "\\end{eqnarray*}\n",
    "\n",
    "by definition of the characteristic function $\\phi_\\tau(u)$."
   ]
  },
  {
   "cell_type": "markdown",
   "metadata": {
    "slideshow": {
     "slide_type": "subslide"
    }
   },
   "source": [
    "* Note that the transform of the covered call value exists only if $0<\\mathrm{Im}[u]<1$.\n",
    "\n",
    "    * It is easy to see that this derivation would go through pretty much as above with other payoffs.\n",
    "\n",
    "    * The region where the transform exists depends on the payoff."
   ]
  },
  {
   "cell_type": "markdown",
   "metadata": {
    "slideshow": {
     "slide_type": "subslide"
    }
   },
   "source": [
    "To get the call price in terms of the characteristic function, we\n",
    "express it in terms of the covered call and invert the Fourier\n",
    "transform, integrating along the line $\\mathrm{Im}[u]=1/2$. Then\n",
    "\n",
    "\\begin{eqnarray*}\n",
    "C(S,K,T)&=&S- S \\frac{1}{2 \\pi}\\int_{-\\infty+i/2}\n",
    "^{\\infty+i/2}\\frac{du}{u(u-i)}\\,\\phi_T(u-i)\\,e^{-i k u}\\\\\n",
    "&=&S- S \\frac{1}{2 \\pi}\\int_{-\\infty}\n",
    "^{\\infty}\\frac{du}{(u+i/2)(u-i/2)}\\,\\phi_T(u-i/2)\\,e^{-i k (u+i/2)}\\\\\n",
    "&=&S-\\sqrt{SK}\\frac{1}{\\pi}\\int_0^\\infty\\frac{du}{u^2+\\frac{1}{4}}\n",
    "\\,\\mathrm{Re}\\left[e^{-iuk}\\phi_T\\left(u-i/2\\right)\\right]\n",
    "\\end{eqnarray*}\n",
    "\n",
    "with $k=\\log\\left(\\frac{K}{S}\\right)$."
   ]
  },
  {
   "cell_type": "markdown",
   "metadata": {
    "slideshow": {
     "slide_type": "slide"
    }
   },
   "source": [
    "### R implementation of the Lewis formula"
   ]
  },
  {
   "cell_type": "code",
   "execution_count": 10,
   "metadata": {
    "slideshow": {
     "slide_type": "fragment"
    }
   },
   "outputs": [
    {
     "data": {
      "text/html": [
       "<pre class=language-r><code>function (phi, k, t) \n",
       "{\n",
       "<span style=white-space:pre-wrap>    integrand &lt;- function(u) {</span>\n",
       "<span style=white-space:pre-wrap>        Re(exp(-(0+1i) * u * k) * phi(u - (0+1i)/2, t)/(u^2 + </span>\n",
       "<span style=white-space:pre-wrap>            1/4))</span>\n",
       "<span style=white-space:pre-wrap>    }</span>\n",
       "<span style=white-space:pre-wrap>    k.minus &lt;- (k &lt; 0) * k</span>\n",
       "<span style=white-space:pre-wrap>    res &lt;- exp(k.minus) - exp(k/2)/pi * integrate(integrand, </span>\n",
       "<span style=white-space:pre-wrap>        lower = 0, upper = Inf, rel.tol = 1e-08)$value</span>\n",
       "<span style=white-space:pre-wrap>    return(res)</span>\n",
       "}</code></pre>"
      ],
      "text/latex": [
       "\\begin{minted}{r}\n",
       "function (phi, k, t) \n",
       "\\{\n",
       "    integrand <- function(u) \\{\n",
       "        Re(exp(-(0+1i) * u * k) * phi(u - (0+1i)/2, t)/(u\\textasciicircum{}2 + \n",
       "            1/4))\n",
       "    \\}\n",
       "    k.minus <- (k < 0) * k\n",
       "    res <- exp(k.minus) - exp(k/2)/pi * integrate(integrand, \n",
       "        lower = 0, upper = Inf, rel.tol = 1e-08)\\$value\n",
       "    return(res)\n",
       "\\}\n",
       "\\end{minted}"
      ],
      "text/markdown": [
       "```r\n",
       "function (phi, k, t) \n",
       "{\n",
       "    integrand <- function(u) {\n",
       "        Re(exp(-(0+1i) * u * k) * phi(u - (0+1i)/2, t)/(u^2 + \n",
       "            1/4))\n",
       "    }\n",
       "    k.minus <- (k < 0) * k\n",
       "    res <- exp(k.minus) - exp(k/2)/pi * integrate(integrand, \n",
       "        lower = 0, upper = Inf, rel.tol = 1e-08)$value\n",
       "    return(res)\n",
       "}\n",
       "```"
      ],
      "text/plain": [
       "function (phi, k, t) \n",
       "{\n",
       "    integrand <- function(u) {\n",
       "        Re(exp(-(0+1i) * u * k) * phi(u - (0+1i)/2, t)/(u^2 + \n",
       "            1/4))\n",
       "    }\n",
       "    k.minus <- (k < 0) * k\n",
       "    res <- exp(k.minus) - exp(k/2)/pi * integrate(integrand, \n",
       "        lower = 0, upper = Inf, rel.tol = 1e-08)$value\n",
       "    return(res)\n",
       "}"
      ]
     },
     "metadata": {},
     "output_type": "display_data"
    }
   ],
   "source": [
    "option.OTM.raw"
   ]
  },
  {
   "cell_type": "markdown",
   "metadata": {
    "slideshow": {
     "slide_type": "fragment"
    }
   },
   "source": [
    "- Note that there is only one numerical integration here.  \n",
    "\n",
    "\n",
    "- In the version presented in Chapter 2 of [The Volatility Surface]<sup id=\"cite_ref-TVS\" class=\"reference\"><a href=\"#cite_note-TVS\"><span>[</span>7<span>]</span></a></sup>, two integrations are required.\n",
    "    - The option price is then given by the difference between two large numbers, introducing numerical error."
   ]
  },
  {
   "cell_type": "markdown",
   "metadata": {
    "slideshow": {
     "slide_type": "slide"
    }
   },
   "source": [
    "### The Heston model in R\n",
    "\n",
    "* In the next few slides, we will exhibit an implementation of  the Heston model in R.\n",
    "\n",
    "\n",
    "* We can then develop some intuition for the behavior of the model through experiment."
   ]
  },
  {
   "cell_type": "markdown",
   "metadata": {
    "slideshow": {
     "slide_type": "slide"
    }
   },
   "source": [
    "### Black-Scholes\n",
    "\n",
    "First, we need an implementation of the Black-Scholes formula (this is in `BlackScholes.R`)."
   ]
  },
  {
   "cell_type": "code",
   "execution_count": 11,
   "metadata": {
    "slideshow": {
     "slide_type": "fragment"
    }
   },
   "outputs": [
    {
     "data": {
      "text/html": [
       "<pre class=language-r><code>function (S0, K, T, r, sigma) \n",
       "{\n",
       "<span style=white-space:pre-wrap>    x &lt;- log(S0/K) + r * T</span>\n",
       "<span style=white-space:pre-wrap>    sig &lt;- sigma * sqrt(T)</span>\n",
       "<span style=white-space:pre-wrap>    d1 &lt;- x/sig + sig/2</span>\n",
       "<span style=white-space:pre-wrap>    d2 &lt;- d1 - sig</span>\n",
       "<span style=white-space:pre-wrap>    pv &lt;- exp(-r * T)</span>\n",
       "<span style=white-space:pre-wrap>    return(S0 * pnorm(d1) - pv * K * pnorm(d2))</span>\n",
       "}</code></pre>"
      ],
      "text/latex": [
       "\\begin{minted}{r}\n",
       "function (S0, K, T, r, sigma) \n",
       "\\{\n",
       "    x <- log(S0/K) + r * T\n",
       "    sig <- sigma * sqrt(T)\n",
       "    d1 <- x/sig + sig/2\n",
       "    d2 <- d1 - sig\n",
       "    pv <- exp(-r * T)\n",
       "    return(S0 * pnorm(d1) - pv * K * pnorm(d2))\n",
       "\\}\n",
       "\\end{minted}"
      ],
      "text/markdown": [
       "```r\n",
       "function (S0, K, T, r, sigma) \n",
       "{\n",
       "    x <- log(S0/K) + r * T\n",
       "    sig <- sigma * sqrt(T)\n",
       "    d1 <- x/sig + sig/2\n",
       "    d2 <- d1 - sig\n",
       "    pv <- exp(-r * T)\n",
       "    return(S0 * pnorm(d1) - pv * K * pnorm(d2))\n",
       "}\n",
       "```"
      ],
      "text/plain": [
       "function (S0, K, T, r, sigma) \n",
       "{\n",
       "    x <- log(S0/K) + r * T\n",
       "    sig <- sigma * sqrt(T)\n",
       "    d1 <- x/sig + sig/2\n",
       "    d2 <- d1 - sig\n",
       "    pv <- exp(-r * T)\n",
       "    return(S0 * pnorm(d1) - pv * K * pnorm(d2))\n",
       "}"
      ]
     },
     "metadata": {},
     "output_type": "display_data"
    }
   ],
   "source": [
    "BSFormula"
   ]
  },
  {
   "cell_type": "markdown",
   "metadata": {
    "slideshow": {
     "slide_type": "slide"
    }
   },
   "source": [
    "### Implied volatility computation\n",
    "\n",
    "Then, we need an implied volatility computation (this is also in `BlackScholes.R`)."
   ]
  },
  {
   "cell_type": "code",
   "execution_count": 12,
   "metadata": {
    "slideshow": {
     "slide_type": "fragment"
    }
   },
   "outputs": [
    {
     "data": {
      "text/html": [
       "<pre class=language-r><code>function (S0, K, T, r, C) \n",
       "{\n",
       "<span style=white-space:pre-wrap>    nK &lt;- length(K)</span>\n",
       "<span style=white-space:pre-wrap>    sigmaL &lt;- rep(1e-10, nK)</span>\n",
       "<span style=white-space:pre-wrap>    CL &lt;- BSFormula(S0, K, T, r, sigmaL)</span>\n",
       "<span style=white-space:pre-wrap>    sigmaH &lt;- rep(10, nK)</span>\n",
       "<span style=white-space:pre-wrap>    CH &lt;- BSFormula(S0, K, T, r, sigmaH)</span>\n",
       "<span style=white-space:pre-wrap>    while (mean(sigmaH - sigmaL) &gt; 1e-10) {</span>\n",
       "<span style=white-space:pre-wrap>        sigma &lt;- (sigmaL + sigmaH)/2</span>\n",
       "<span style=white-space:pre-wrap>        CM &lt;- BSFormula(S0, K, T, r, sigma)</span>\n",
       "<span style=white-space:pre-wrap>        CL &lt;- CL + (CM &lt; C) * (CM - CL)</span>\n",
       "<span style=white-space:pre-wrap>        sigmaL &lt;- sigmaL + (CM &lt; C) * (sigma - sigmaL)</span>\n",
       "<span style=white-space:pre-wrap>        CH &lt;- CH + (CM &gt;= C) * (CM - CH)</span>\n",
       "<span style=white-space:pre-wrap>        sigmaH &lt;- sigmaH + (CM &gt;= C) * (sigma - sigmaH)</span>\n",
       "<span style=white-space:pre-wrap>    }</span>\n",
       "<span style=white-space:pre-wrap>    return(sigma)</span>\n",
       "}</code></pre>"
      ],
      "text/latex": [
       "\\begin{minted}{r}\n",
       "function (S0, K, T, r, C) \n",
       "\\{\n",
       "    nK <- length(K)\n",
       "    sigmaL <- rep(1e-10, nK)\n",
       "    CL <- BSFormula(S0, K, T, r, sigmaL)\n",
       "    sigmaH <- rep(10, nK)\n",
       "    CH <- BSFormula(S0, K, T, r, sigmaH)\n",
       "    while (mean(sigmaH - sigmaL) > 1e-10) \\{\n",
       "        sigma <- (sigmaL + sigmaH)/2\n",
       "        CM <- BSFormula(S0, K, T, r, sigma)\n",
       "        CL <- CL + (CM < C) * (CM - CL)\n",
       "        sigmaL <- sigmaL + (CM < C) * (sigma - sigmaL)\n",
       "        CH <- CH + (CM >= C) * (CM - CH)\n",
       "        sigmaH <- sigmaH + (CM >= C) * (sigma - sigmaH)\n",
       "    \\}\n",
       "    return(sigma)\n",
       "\\}\n",
       "\\end{minted}"
      ],
      "text/markdown": [
       "```r\n",
       "function (S0, K, T, r, C) \n",
       "{\n",
       "    nK <- length(K)\n",
       "    sigmaL <- rep(1e-10, nK)\n",
       "    CL <- BSFormula(S0, K, T, r, sigmaL)\n",
       "    sigmaH <- rep(10, nK)\n",
       "    CH <- BSFormula(S0, K, T, r, sigmaH)\n",
       "    while (mean(sigmaH - sigmaL) > 1e-10) {\n",
       "        sigma <- (sigmaL + sigmaH)/2\n",
       "        CM <- BSFormula(S0, K, T, r, sigma)\n",
       "        CL <- CL + (CM < C) * (CM - CL)\n",
       "        sigmaL <- sigmaL + (CM < C) * (sigma - sigmaL)\n",
       "        CH <- CH + (CM >= C) * (CM - CH)\n",
       "        sigmaH <- sigmaH + (CM >= C) * (sigma - sigmaH)\n",
       "    }\n",
       "    return(sigma)\n",
       "}\n",
       "```"
      ],
      "text/plain": [
       "function (S0, K, T, r, C) \n",
       "{\n",
       "    nK <- length(K)\n",
       "    sigmaL <- rep(1e-10, nK)\n",
       "    CL <- BSFormula(S0, K, T, r, sigmaL)\n",
       "    sigmaH <- rep(10, nK)\n",
       "    CH <- BSFormula(S0, K, T, r, sigmaH)\n",
       "    while (mean(sigmaH - sigmaL) > 1e-10) {\n",
       "        sigma <- (sigmaL + sigmaH)/2\n",
       "        CM <- BSFormula(S0, K, T, r, sigma)\n",
       "        CL <- CL + (CM < C) * (CM - CL)\n",
       "        sigmaL <- sigmaL + (CM < C) * (sigma - sigmaL)\n",
       "        CH <- CH + (CM >= C) * (CM - CH)\n",
       "        sigmaH <- sigmaH + (CM >= C) * (sigma - sigmaH)\n",
       "    }\n",
       "    return(sigma)\n",
       "}"
      ]
     },
     "metadata": {},
     "output_type": "display_data"
    }
   ],
   "source": [
    "BSImpliedVolCall"
   ]
  },
  {
   "cell_type": "markdown",
   "metadata": {
    "slideshow": {
     "slide_type": "slide"
    }
   },
   "source": [
    "### A numerical example\n",
    "\n",
    "First generate some option prices."
   ]
  },
  {
   "cell_type": "code",
   "execution_count": 13,
   "metadata": {
    "slideshow": {
     "slide_type": "fragment"
    }
   },
   "outputs": [
    {
     "data": {
      "text/html": [
       "<ol class=list-inline>\n",
       "\t<li>0.145896960390544</li>\n",
       "\t<li>0.079655674554058</li>\n",
       "\t<li>0.0355767789605738</li>\n",
       "</ol>\n"
      ],
      "text/latex": [
       "\\begin{enumerate*}\n",
       "\\item 0.145896960390544\n",
       "\\item 0.079655674554058\n",
       "\\item 0.0355767789605738\n",
       "\\end{enumerate*}\n"
      ],
      "text/markdown": [
       "1. 0.145896960390544\n",
       "2. 0.079655674554058\n",
       "3. 0.0355767789605738\n",
       "\n",
       "\n"
      ],
      "text/plain": [
       "[1] 0.14589696 0.07965567 0.03557678"
      ]
     },
     "metadata": {},
     "output_type": "display_data"
    }
   ],
   "source": [
    "vols <- c(0.23,0.20,0.18)\n",
    "K <- c(0.9,1.0,1.1) \n",
    "(optVals <- BSFormula(S0=1,K,T=1,r=0,sigma=vols))"
   ]
  },
  {
   "cell_type": "markdown",
   "metadata": {
    "slideshow": {
     "slide_type": "fragment"
    }
   },
   "source": [
    "Then compute implied volatilities."
   ]
  },
  {
   "cell_type": "code",
   "execution_count": 14,
   "metadata": {
    "slideshow": {
     "slide_type": "fragment"
    }
   },
   "outputs": [
    {
     "data": {
      "text/html": [
       "<ol class=list-inline>\n",
       "\t<li>0.230000000035418</li>\n",
       "\t<li>0.200000000065986</li>\n",
       "\t<li>0.179999999989352</li>\n",
       "</ol>\n"
      ],
      "text/latex": [
       "\\begin{enumerate*}\n",
       "\\item 0.230000000035418\n",
       "\\item 0.200000000065986\n",
       "\\item 0.179999999989352\n",
       "\\end{enumerate*}\n"
      ],
      "text/markdown": [
       "1. 0.230000000035418\n",
       "2. 0.200000000065986\n",
       "3. 0.179999999989352\n",
       "\n",
       "\n"
      ],
      "text/plain": [
       "[1] 0.23 0.20 0.18"
      ]
     },
     "metadata": {},
     "output_type": "display_data"
    }
   ],
   "source": [
    "(impVols <- BSImpliedVolCall(S0=1, K, T=1, r=0, C=optVals))"
   ]
  },
  {
   "cell_type": "markdown",
   "metadata": {
    "slideshow": {
     "slide_type": "slide"
    }
   },
   "source": [
    "### Pick some Heston parameters"
   ]
  },
  {
   "cell_type": "code",
   "execution_count": 15,
   "metadata": {
    "slideshow": {
     "slide_type": "fragment"
    }
   },
   "outputs": [
    {
     "data": {
      "text/html": [
       "0.0970140580426301"
      ],
      "text/latex": [
       "0.0970140580426301"
      ],
      "text/markdown": [
       "0.0970140580426301"
      ],
      "text/plain": [
       "[1] 0.09701406"
      ]
     },
     "metadata": {},
     "output_type": "display_data"
    },
    {
     "data": {
      "text/html": [
       "0.243780488551484"
      ],
      "text/latex": [
       "0.243780488551484"
      ],
      "text/markdown": [
       "0.243780488551484"
      ],
      "text/plain": [
       "[1] 0.2437805"
      ]
     },
     "metadata": {},
     "output_type": "display_data"
    }
   ],
   "source": [
    "subHeston <- list(lambda = 0.6067,rho = -0.7571,eta = 0.2928,vbar = 0.0707,v = .0654)\n",
    "\n",
    "option.OTM(phiHeston(subHeston), 0, 1)\n",
    "\n",
    "impvol.phi(phiHeston(subHeston))(0,1)"
   ]
  },
  {
   "cell_type": "markdown",
   "metadata": {
    "slideshow": {
     "slide_type": "slide"
    }
   },
   "source": [
    "### Now draw a Heston 1-year smile"
   ]
  },
  {
   "cell_type": "code",
   "execution_count": 16,
   "metadata": {
    "slideshow": {
     "slide_type": "fragment"
    }
   },
   "outputs": [
    {
     "data": {
      "image/png": "[encoded data removed]",
      "text/plain": [
       "plot without title"
      ]
     },
     "metadata": {},
     "output_type": "display_data"
    }
   ],
   "source": [
    "vol <- function(k){sapply(k,function(x){impvol.phi(phiHeston(subHeston))(x,1)})}\n",
    "curve(vol(x),from=-3,to=1,col=\"red\")"
   ]
  },
  {
   "cell_type": "markdown",
   "metadata": {
    "slideshow": {
     "slide_type": "slide"
    }
   },
   "source": [
    "### Some notable features of R\n",
    "\n",
    "\n",
    "\n",
    "* Complex arithmetic with $\\text{1i}$.\n",
    "\n",
    "* Functional programming:\n",
    "    * This is what allows us to code a function which is called as: \n",
    "    \n",
    "            impvol.phi(phiHeston(paramsBCC))(0,1)\n",
    "    \n",
    "    * We can define a function that returns a function (and so on indefinitely).\n",
    "    \n",
    "    * We could even conveniently define a new function: \n",
    "          \n",
    "            impvolBCC <-\n",
    "                impvol.phi(phiHeston(paramsBCC)) "
   ]
  },
  {
   "cell_type": "markdown",
   "metadata": {
    "slideshow": {
     "slide_type": "subslide"
    }
   },
   "source": [
    "* We can conceptually separate parameters and variables rather than having to carry all the parameters around with each function call."
   ]
  },
  {
   "cell_type": "markdown",
   "metadata": {
    "slideshow": {
     "slide_type": "slide"
    }
   },
   "source": [
    "### The Heston smile with BCC parameters\n",
    "\n",
    "First we list the BCC parameters."
   ]
  },
  {
   "cell_type": "code",
   "execution_count": 17,
   "metadata": {
    "slideshow": {
     "slide_type": "fragment"
    }
   },
   "outputs": [],
   "source": [
    "paramsBCC <- list(lambda = 1.15,rho = -0.64,eta = 0.39,vbar = 0.04,v = .04)"
   ]
  },
  {
   "cell_type": "markdown",
   "metadata": {
    "slideshow": {
     "slide_type": "fragment"
    }
   },
   "source": [
    "Then, generate the smile as before."
   ]
  },
  {
   "cell_type": "code",
   "execution_count": 18,
   "metadata": {
    "slideshow": {
     "slide_type": "subslide"
    }
   },
   "outputs": [
    {
     "data": {
      "text/plain": [
       "   user  system elapsed \n",
       "   0.12    0.00    0.14 "
      ]
     },
     "metadata": {},
     "output_type": "display_data"
    },
    {
     "data": {
      "image/png": "[encoded data removed]",
      "text/plain": [
       "plot without title"
      ]
     },
     "metadata": {},
     "output_type": "display_data"
    }
   ],
   "source": [
    "vol <- function(k){\n",
    "    sapply(k,function(x){impvol.phi(phiHeston(paramsBCC))(x,1)})}\n",
    "system.time(curve(vol(x),from=-.4,to=.4,col=\"red\"))"
   ]
  },
  {
   "cell_type": "markdown",
   "metadata": {
    "slideshow": {
     "slide_type": "fragment"
    }
   },
   "source": [
    "Figure 2: The $\\tau=1$ Heston smile with BCC parameters."
   ]
  },
  {
   "cell_type": "markdown",
   "metadata": {
    "slideshow": {
     "slide_type": "slide"
    }
   },
   "source": [
    "### Sensitivity of the Heston smile to $\\rho$"
   ]
  },
  {
   "cell_type": "code",
   "execution_count": 19,
   "metadata": {
    "slideshow": {
     "slide_type": "fragment"
    }
   },
   "outputs": [],
   "source": [
    "subH <- function(incr){\n",
    "    tmp <- paramsBCC\n",
    "    tmp$rho <- tmp$rho+incr\n",
    "    return(tmp)\n",
    "}\n",
    "\n",
    "vol <- function(phi)function(k){sapply(k,function(x){impvol.phi(phi)(x,1)})}"
   ]
  },
  {
   "cell_type": "code",
   "execution_count": 20,
   "metadata": {
    "slideshow": {
     "slide_type": "subslide"
    }
   },
   "outputs": [
    {
     "data": {
      "image/png": "[encoded data removed]",
      "text/plain": [
       "plot without title"
      ]
     },
     "metadata": {},
     "output_type": "display_data"
    }
   ],
   "source": [
    "yrange <- c(0.15,.3)\n",
    "curve(vol(phiHeston(paramsBCC))(x),from=-.5,to=.5,col=\"red\",ylim=yrange,lwd=2,ylab=\"Implied vol.\",xlab=\"Log-strike k\")\n",
    "for (incr in seq(0.1,0.5,0.1))\n",
    "    {\n",
    "    curve(vol(phiHeston(subH(incr)))(x),from=-.5,to=.5,col=\"red\",lty=2,add=T)\n",
    "    }"
   ]
  },
  {
   "cell_type": "markdown",
   "metadata": {
    "slideshow": {
     "slide_type": "fragment"
    }
   },
   "source": [
    "Figure 3: The dotted lines are smiles with $\\rho=\\rho_{BCC}+\\{0.1,0.2,0.3,0.4,0.5\\}$."
   ]
  },
  {
   "cell_type": "markdown",
   "metadata": {
    "slideshow": {
     "slide_type": "slide"
    }
   },
   "source": [
    "### Sensitivity of the Heston smile to $\\eta$"
   ]
  },
  {
   "cell_type": "code",
   "execution_count": 21,
   "metadata": {
    "slideshow": {
     "slide_type": "fragment"
    }
   },
   "outputs": [],
   "source": [
    "subH <- function(incr){\n",
    "    tmp <- paramsBCC\n",
    "    tmp$eta <- tmp$eta+incr\n",
    "    return(tmp)\n",
    "}"
   ]
  },
  {
   "cell_type": "code",
   "execution_count": 22,
   "metadata": {
    "slideshow": {
     "slide_type": "subslide"
    }
   },
   "outputs": [
    {
     "data": {
      "image/png": "[encoded data removed]",
      "text/plain": [
       "plot without title"
      ]
     },
     "metadata": {},
     "output_type": "display_data"
    }
   ],
   "source": [
    "yrange <- c(0.1,.35)\n",
    "curve(vol(phiHeston(paramsBCC))(x),from=-.5,to=.5,col=\"red\",ylim=yrange,lwd=2,ylab=\"Implied vol.\",xlab=\"Log-strike k\")\n",
    "for (incr in seq(0.1,0.5,0.1))\n",
    "    {\n",
    "    curve(vol(phiHeston(subH(incr)))(x),from=-.5,to=.5,col=\"red\",lty=2,add=T)\n",
    "    }"
   ]
  },
  {
   "cell_type": "markdown",
   "metadata": {
    "slideshow": {
     "slide_type": "fragment"
    }
   },
   "source": [
    "Figure 4: The dotted lines are smiles with $\\eta=\\eta_{BCC}+\\{0.1,0.2,0.3,0.4,0.5\\}$. "
   ]
  },
  {
   "cell_type": "markdown",
   "metadata": {
    "slideshow": {
     "slide_type": "slide"
    }
   },
   "source": [
    "### Sensitivity of the Heston smile to $\\lambda$\n"
   ]
  },
  {
   "cell_type": "code",
   "execution_count": 23,
   "metadata": {
    "slideshow": {
     "slide_type": "fragment"
    }
   },
   "outputs": [],
   "source": [
    "subH <- function(incr){\n",
    "    tmp <- paramsBCC\n",
    "    tmp$lambda <- tmp$lambda+incr\n",
    "    return(tmp)\n",
    "}"
   ]
  },
  {
   "cell_type": "code",
   "execution_count": 24,
   "metadata": {
    "slideshow": {
     "slide_type": "subslide"
    }
   },
   "outputs": [
    {
     "data": {
      "image/png": "[encoded data removed]",
      "text/plain": [
       "plot without title"
      ]
     },
     "metadata": {},
     "output_type": "display_data"
    }
   ],
   "source": [
    "yrange <- c(0.15,.3)\n",
    "curve(vol(phiHeston(paramsBCC))(x),from=-.5,to=.5,col=\"red\",ylim=yrange,lwd=2,ylab=\"Implied vol.\",xlab=\"Log-strike k\")\n",
    "for (incr in seq(0.5,2.5,0.5))\n",
    "    {\n",
    "    curve(vol(phiHeston(subH(incr)))(x),from=-.5,to=.5,col=\"red\",lty=2,add=T)\n",
    "    }"
   ]
  },
  {
   "cell_type": "markdown",
   "metadata": {
    "slideshow": {
     "slide_type": "fragment"
    }
   },
   "source": [
    "Figure 5: The dotted lines are smiles with $\\lambda=\\lambda_{BCC}+\\{0.5,1.0,1.5,2.0,2.5\\}$."
   ]
  },
  {
   "cell_type": "markdown",
   "metadata": {
    "slideshow": {
     "slide_type": "slide"
    }
   },
   "source": [
    "### Another sensitivity plot"
   ]
  },
  {
   "cell_type": "markdown",
   "metadata": {
    "slideshow": {
     "slide_type": "fragment"
    }
   },
   "source": [
    "Now increase both $\\lambda$ and $\\eta$ keeping the ratio $\\eta^2/\\lambda$ constant."
   ]
  },
  {
   "cell_type": "code",
   "execution_count": 25,
   "metadata": {
    "slideshow": {
     "slide_type": "fragment"
    }
   },
   "outputs": [],
   "source": [
    "subH <- function(incr){\n",
    "    tmp <- paramsBCC\n",
    "    tmp$eta <- tmp$eta+incr\n",
    "    tmp$lambda <- tmp$lambda*(tmp$eta/paramsBCC$eta)^2\n",
    "    return(tmp)\n",
    "}"
   ]
  },
  {
   "cell_type": "code",
   "execution_count": 26,
   "metadata": {
    "slideshow": {
     "slide_type": "subslide"
    }
   },
   "outputs": [
    {
     "data": {
      "image/png": "[encoded data removed]",
      "text/plain": [
       "plot without title"
      ]
     },
     "metadata": {},
     "output_type": "display_data"
    }
   ],
   "source": [
    "yrange <- c(0.1,.35)\n",
    "curve(vol(phiHeston(paramsBCC))(x),from=-.5,to=.5,col=\"red\",ylim=yrange,lwd=2,ylab=\"Implied vol.\",xlab=\"Log-strike k\")\n",
    "for (incr in seq(0.1,0.5,0.1))\n",
    "    {\n",
    "    curve(vol(phiHeston(subH(incr)))(x),from=-.5,to=.5,col=\"red\",lty=2,add=T)\n",
    "    }"
   ]
  },
  {
   "cell_type": "markdown",
   "metadata": {
    "slideshow": {
     "slide_type": "fragment"
    }
   },
   "source": [
    "\n",
    "Figure 6: The dotted lines are smiles with $\\eta=\\eta_{BCC}+\\{0.1,0.2,0.3,0.4,0.5\\}$ and $\\lambda$ incremented so as to keep the ratio $\\lambda/\\eta^2$ constant. "
   ]
  },
  {
   "cell_type": "markdown",
   "metadata": {
    "slideshow": {
     "slide_type": "slide"
    }
   },
   "source": [
    "### Variance of $v_T$ in the Heston model (old version)\n",
    "\n",
    "Applying Itô's Lemma, we get\n",
    "\n",
    "$$\n",
    "d v^2= 2\\,v\\,dv+(dv)^2\n",
    "$$\n",
    "\n",
    "With $\\hat v = \\E[v]$, this gives\n",
    "\n",
    "$$\n",
    "\\E[ d v^2]=-2\\,\\lambda\\,\\left(\\E[v^2]-\\bar v\\,\\hat v\\right)\\,dt+\\eta^2\\,\\hat v\\,dt\n",
    "$$\n",
    "\n",
    "Also\n",
    "\n",
    "$$\n",
    "d \\hat v^2=-2\\,\\lambda\\,\\left(\\hat v^2-\\bar v\\,\\hat v\\right)\\,dt\n",
    "$$\n",
    "\n",
    "So\n",
    "$$\n",
    "d \\Var(v)=-2\\,\\lambda\\,\\Var(v)\\,dt+\\eta^2\\,\\hat v\\,dt\n",
    "$$"
   ]
  },
  {
   "cell_type": "markdown",
   "metadata": {
    "slideshow": {
     "slide_type": "subslide"
    }
   },
   "source": [
    "Integrating, we get\n",
    "\n",
    "$$\n",
    "\\Var(v_T)=\\int_0^T\\,e^{-2\\,\\lambda\\,(T-t)}\\,\\eta^2\\,\\hat v_t\\,dt\n",
    "$$"
   ]
  },
  {
   "cell_type": "markdown",
   "metadata": {
    "slideshow": {
     "slide_type": "subslide"
    }
   },
   "source": [
    "Putting $\\hat v_t = \\bar v$ for simplicity, we obtain\n",
    "\n",
    "\\begin{eqnarray*}\n",
    "\\Var(v_T)&=&\\eta^2\\,\\bar v\\,\\int_0^T\\,e^{-2\\,\\lambda\\,(T-t)}\\,dt\\\\\n",
    "&=&\\eta^2\\,\\bar v\\,\\frac{1-e^{-2\\,\\lambda\\,T}}{2\\,\\lambda}\\\\\n",
    "&\\to&\\frac{\\eta^2\\,\\bar v}{2\\,\\lambda} \\text{ as }T \\to \\infty\n",
    "\\end{eqnarray*}\n",
    "\n",
    "* The smile depends only on the distribution of integrated variance and its correlation with the stock price, so for longer expirations, the smile should depend (roughly) only on $\\rho$ and the ratio $\\eta^2\\,\\bar v/\\lambda$."
   ]
  },
  {
   "cell_type": "markdown",
   "metadata": {
    "slideshow": {
     "slide_type": "slide"
    }
   },
   "source": [
    "### Variance of $v_T$ in affine forward variance models\n",
    "\n",
    "$$\n",
    "\\beas\n",
    "v_T^2 = \\xi_T(T)^2 &=& \\xi_t(T)^2 + \\int_t^T\\,d\\xi_s(T)^2\\\\\n",
    "&=& \\xi_t(T)^2 + 2\\,\\int_t^T\\,\\xi_s(T)\\,d\\xi_s(T)+\\int_t^T\\,d\\angl{\\xi(T)}_s.\n",
    "\\eeas\n",
    "$$\n",
    "\n",
    "Taking expectations (recall that $\\xi_t(T) = \\eef{v_T}$), we obtain\n",
    "\n",
    "$$\n",
    "\\varf{v_T} = \\eef{\\int_t^T\\,v_s\\,\\kappa(s-t)^2\\,ds}= \\int_t^T\\,\\xi_t(s)\\,\\kappa(s-t)^2\\,ds.\n",
    "$$"
   ]
  },
  {
   "cell_type": "markdown",
   "metadata": {
    "slideshow": {
     "slide_type": "subslide"
    }
   },
   "source": [
    "### Application to the Heston model\n",
    "\n",
    "With $\\kappa(\\tau) = \\eta\\,e^{-\\lambda\\,\\tau}$ and putting $\\xi_t(s) = \\bar v$ (a flat curve), we obtain\n",
    "\n",
    "$$\n",
    "\\beas\n",
    "\\varf{v_T} &=& \\eta^2\\,\\bar v\\,\\int_t^T\\,e^{-2\\lambda\\,(s-t)}\\,ds\\\\\n",
    "&=&\\frac{\\eta^2\\,\\bar v}{2\\,\\lambda}\\,\\left\\{1-e^{-2\\lambda\\,(T-t)} \\right\\}.\n",
    "\\eeas\n",
    "$$\n",
    "\n",
    " - The same results as before.\n"
   ]
  },
  {
   "cell_type": "markdown",
   "metadata": {
    "slideshow": {
     "slide_type": "subslide"
    }
   },
   "source": [
    "### Application to the rough Heston model\n",
    "\n",
    "With $\\kappa(\\tau) = \\frac{1}{\\Gamma(\\alpha)}\\,\\eta\\,\\tau^{\\alpha-1}$ and putting $\\xi_t(s) = \\bar v$ (a flat curve), we obtain\n",
    "\n",
    "$$\n",
    "\\beas\n",
    "\\varf{v_T} &=& \\frac{\\eta^2\\,\\bar v}{\\Gamma(\\alpha)^2}\\,\\int_t^T\\,(s-t)^{2 \\alpha-2}\\,ds\\\\\n",
    "&=&\\frac{\\eta^2\\,\\bar v}{(2 \\alpha-1)\\,\\Gamma(\\alpha)^2}\\,(T-t)^{2\\,\\alpha-1}\\\\\n",
    "&=&\\frac{\\eta^2\\,\\bar v}{2 H\\,\\Gamma(\\alpha)^2}\\,(T-t)^{2 H}\\\\\n",
    "\\eeas\n",
    "$$\n",
    "\n",
    " - Variance of $v_T$ is power-law in $\\tau=T-t$.\n"
   ]
  },
  {
   "cell_type": "markdown",
   "metadata": {
    "slideshow": {
     "slide_type": "slide"
    }
   },
   "source": [
    "### Autocorrelation of variance in the Heston model\n",
    "\n",
    "The autocorrelation function of variance is estimated as \n",
    "\n",
    "$$\n",
    "\\rho(\\tau)\\sim\\frac{\\Cov (v_t, v_{t+\\tau} )}{\\Var(v_t)}\n",
    "$$\n",
    "\n",
    "To compute this, first compute\n",
    "$$\n",
    "\\E\\left[\\left.v_{t+\\tau}\\right|v_t\\right]=\\bar v+(v_t-\\bar v)\\,e^{-\\lambda\\, \\tau}\n",
    "$$"
   ]
  },
  {
   "cell_type": "markdown",
   "metadata": {
    "slideshow": {
     "slide_type": "subslide"
    }
   },
   "source": [
    "The unconditional expectation of $v_t$ is $\\bar v$ so we get\n",
    "\n",
    "\\begin{eqnarray*}\n",
    "\\Cov\\left[v_{t+\\tau},v_t\\right]&=&\\E\\left[\\E\\left[v_{t+\\tau}\\,v_t|v_t\\right]\\right]-\\bar v^2\\\\\n",
    "&=&\\E\\left[v_t\\,(\\bar v +(v_t-\\bar v)\\,e^{-\\lambda\\,\\tau})\\right]-\\bar v^2\\\\\n",
    "&=&e^{-\\lambda\\,\\tau}\\,\\Var[v_t]\n",
    "\\end{eqnarray*}\n",
    "\n",
    "and the autocorrelation function in the Heston model is just\n",
    "$$\n",
    "\\rho(\\tau)=e^{-\\lambda\\,\\tau}.\n",
    "$$"
   ]
  },
  {
   "cell_type": "markdown",
   "metadata": {
    "slideshow": {
     "slide_type": "slide"
    }
   },
   "source": [
    "### Empirical autocorrelation of volatility"
   ]
  },
  {
   "cell_type": "code",
   "execution_count": 27,
   "metadata": {
    "slideshow": {
     "slide_type": "fragment"
    }
   },
   "outputs": [],
   "source": [
    "load(\"oxfordRVnew.rData\")"
   ]
  },
  {
   "cell_type": "code",
   "execution_count": 28,
   "metadata": {
    "slideshow": {
     "slide_type": "fragment"
    }
   },
   "outputs": [],
   "source": [
    "v <- as.numeric(rv.list[[\".SPX\"]][,1])  # Pick spx.rk\n",
    "aclog <-acf(log(v),lag=100,plot=F)"
   ]
  },
  {
   "cell_type": "code",
   "execution_count": 29,
   "metadata": {
    "slideshow": {
     "slide_type": "subslide"
    }
   },
   "outputs": [
    {
     "data": {
      "image/png": "[encoded data removed]",
      "text/plain": [
       "plot without title"
      ]
     },
     "metadata": {},
     "output_type": "display_data"
    }
   ],
   "source": [
    "plot(aclog$lag[-1],aclog$acf[-1],pch=20,ylab=expression(rho(Delta)),xlab=expression(paste(Delta,\" (days)\")),log=\"xy\",col=\"blue\")"
   ]
  },
  {
   "cell_type": "markdown",
   "metadata": {
    "slideshow": {
     "slide_type": "fragment"
    }
   },
   "source": [
    "Figure 7: The empirical autocovariance function of SPX realized kernal estimates of integrated variance."
   ]
  },
  {
   "cell_type": "markdown",
   "metadata": {
    "slideshow": {
     "slide_type": "subslide"
    }
   },
   "source": [
    "Now add the Heston autocorrelation function with $\\lambda=1$, $\\lambda=2$ and $\\lambda=5$ respectively."
   ]
  },
  {
   "cell_type": "code",
   "execution_count": 30,
   "metadata": {
    "slideshow": {
     "slide_type": "fragment"
    }
   },
   "outputs": [
    {
     "data": {
      "image/png": "[encoded data removed]",
      "text/plain": [
       "plot without title"
      ]
     },
     "metadata": {},
     "output_type": "display_data"
    }
   ],
   "source": [
    "plot(aclog$lag[-1],aclog$acf[-1],pch=20,ylab=expression(rho(Delta)),ylim=c(0.3,1),\n",
    "     xlab=expression(paste(Delta,\" (days)\")),log=\"xy\",col=\"blue\")\n",
    "curve(0.9*exp(-x/252),from=0.001,to=100,col=\"red\",add=T,lwd=2,log=\"xy\")\n",
    "curve(0.9*exp(-x*2/252),from=0.001,to=100,col=\"red\",add=T,lwd=2,log=\"xy\")\n",
    "curve(0.9*exp(-x*5/252),from=0.001,to=100,col=\"red\",add=T,lwd=2,log=\"xy\")"
   ]
  },
  {
   "cell_type": "markdown",
   "metadata": {
    "slideshow": {
     "slide_type": "fragment"
    }
   },
   "source": [
    "Figure 8: The empirical autocovariance function of SPX realized kernel estimates of integrated variance is not consistent with classical Heston."
   ]
  },
  {
   "cell_type": "markdown",
   "metadata": {
    "slideshow": {
     "slide_type": "slide"
    }
   },
   "source": [
    "### Model versus empirical observation\n",
    "\n",
    "* In the Heston model, the variance autocorrelation function $\\sim \\exp\\left\\{-\\lambda\\,\\tau\\right\\}$.\n",
    "    \n",
    "    * This is true for all conventional one-factor stochastic volatility models where the volatility process is of the form:\n",
    "$$\n",
    "dv=-\\lambda\\,(v-\\bar v)\\,dt +\\text{ noise}.\n",
    "$$\n",
    "    - Single-factor stochastic volatility models are not compatible with the volatility time series!"
   ]
  },
  {
   "cell_type": "markdown",
   "metadata": {
    "slideshow": {
     "slide_type": "subslide"
    }
   },
   "source": [
    "* We can match the autocorrelation function more realistically by adding another timescale as in the DMR model we presented in Lecture 2.\n",
    "    * Or even better, as we can see from the plot, we can reproduce the observed autocorrelation function using a rough volatility model<sup id=\"cite_ref-GJR\" class=\"reference\"><a href=\"#cite_note-GJR\"><span>[</span>8<span>]</span></a></sup>. "
   ]
  },
  {
   "cell_type": "markdown",
   "metadata": {
    "slideshow": {
     "slide_type": "slide"
    }
   },
   "source": [
    "### The rough Heston smile"
   ]
  },
  {
   "cell_type": "code",
   "execution_count": 31,
   "metadata": {
    "slideshow": {
     "slide_type": "fragment"
    }
   },
   "outputs": [],
   "source": [
    "params.rHeston <- list(H=0.05,nu=0.4,rho=-.65,eta=0.4)\n",
    "xiCurve <- function(t){0.025+0*t}"
   ]
  },
  {
   "cell_type": "code",
   "execution_count": 32,
   "metadata": {
    "slideshow": {
     "slide_type": "fragment"
    }
   },
   "outputs": [],
   "source": [
    "phi <- phiRoughHestonDhApprox(params.rHeston, xiCurve, dh.approx= d.h.Pade33, n=20)"
   ]
  },
  {
   "cell_type": "code",
   "execution_count": 33,
   "metadata": {
    "slideshow": {
     "slide_type": "subslide"
    }
   },
   "outputs": [
    {
     "data": {
      "text/plain": [
       "   user  system elapsed \n",
       "   1.48    0.00    1.50 "
      ]
     },
     "metadata": {},
     "output_type": "display_data"
    },
    {
     "data": {
      "image/png": "[encoded data removed]",
      "text/plain": [
       "plot without title"
      ]
     },
     "metadata": {},
     "output_type": "display_data"
    }
   ],
   "source": [
    "vol <- function(k){\n",
    "    sapply(k,function(x){impvol.phi(phi)(x,1)})}\n",
    "system.time(curve(vol(x),from=-.4,to=.4,col=\"red\"))"
   ]
  },
  {
   "cell_type": "markdown",
   "metadata": {
    "slideshow": {
     "slide_type": "slide"
    }
   },
   "source": [
    "### Sensitivity of the rough Heston smile to $\\eta$"
   ]
  },
  {
   "cell_type": "code",
   "execution_count": 34,
   "metadata": {
    "slideshow": {
     "slide_type": "fragment"
    }
   },
   "outputs": [],
   "source": [
    "subH <- function(incr){\n",
    "    tmp <- params.rHeston\n",
    "    tmp$eta <- tmp$eta+incr\n",
    "    return(tmp)\n",
    "}\n",
    "\n",
    "vol <- function(params)function(k){\n",
    "    phi <- phiRoughHestonDhApprox(params, xiCurve, dh.approx= d.h.Pade33, n=20)\n",
    "    sapply(k,function(x){impvol.phi(phi)(x,1)})}"
   ]
  },
  {
   "cell_type": "code",
   "execution_count": 35,
   "metadata": {
    "slideshow": {
     "slide_type": "subslide"
    }
   },
   "outputs": [
    {
     "data": {
      "image/png": "[encoded data removed]",
      "text/plain": [
       "plot without title"
      ]
     },
     "metadata": {},
     "output_type": "display_data"
    }
   ],
   "source": [
    "yrange <- c(0.05,.35)\n",
    "curve(vol(subH(0))(x),from=-.5,to=.5,col=\"red\",ylim=yrange,lwd=2,ylab=\"Implied vol.\",xlab=\"Log-strike k\")\n",
    "for (incr in seq(0.1,0.5,0.1))\n",
    "    {\n",
    "    curve(vol(subH(incr))(x),from=-.5,to=.5,col=\"red\",lty=2,add=T)\n",
    "    }"
   ]
  },
  {
   "cell_type": "markdown",
   "metadata": {
    "slideshow": {
     "slide_type": "fragment"
    }
   },
   "source": [
    "Figure 9: The dotted lines are smiles with $\\eta=\\eta_{BCC}+\\{0.1,0.2,0.3,0.4,0.5\\}$. "
   ]
  },
  {
   "cell_type": "markdown",
   "metadata": {
    "slideshow": {
     "slide_type": "slide"
    }
   },
   "source": [
    "### Sensitivity of the rough Heston 1 year smile to $H$\n"
   ]
  },
  {
   "cell_type": "code",
   "execution_count": 36,
   "metadata": {
    "slideshow": {
     "slide_type": "fragment"
    }
   },
   "outputs": [],
   "source": [
    "subH <- function(incr){\n",
    "    tmp <- params.rHeston\n",
    "    tmp$H <- tmp$H+incr\n",
    "    return(tmp)\n",
    "}\n",
    "\n",
    "vol <- function(params)function(k){\n",
    "    phi <- phiRoughHestonDhApprox(params, xiCurve, dh.approx= d.h.Pade33, n=20)\n",
    "    sapply(k,function(x){impvol.phi(phi)(x,1)})}"
   ]
  },
  {
   "cell_type": "code",
   "execution_count": 37,
   "metadata": {
    "slideshow": {
     "slide_type": "subslide"
    }
   },
   "outputs": [
    {
     "data": {
      "image/png": "[encoded data removed]",
      "text/plain": [
       "plot without title"
      ]
     },
     "metadata": {},
     "output_type": "display_data"
    }
   ],
   "source": [
    "yrange <- c(0.05,.35)\n",
    "curve(vol(subH(0))(x),from=-.5,to=.5,col=\"red\",ylim=yrange,lwd=2,ylab=\"Implied vol.\",xlab=\"Log-strike k\")\n",
    "for (incr in seq(0.1,0.4,0.1))\n",
    "    {\n",
    "    curve(vol(subH(incr))(x),from=-.5,to=.5,col=\"red\",lty=2,add=T)\n",
    "    }"
   ]
  },
  {
   "cell_type": "markdown",
   "metadata": {
    "slideshow": {
     "slide_type": "fragment"
    }
   },
   "source": [
    "Figure 9: The dotted lines are 1 year smiles with $H \\mapsto H +\\{0.1,0.2,0.3,0.4\\}$. "
   ]
  },
  {
   "cell_type": "markdown",
   "metadata": {
    "slideshow": {
     "slide_type": "slide"
    }
   },
   "source": [
    "### Sensitivity of the rough Heston 1 week smile to $H$\n"
   ]
  },
  {
   "cell_type": "code",
   "execution_count": 38,
   "metadata": {
    "slideshow": {
     "slide_type": "fragment"
    }
   },
   "outputs": [],
   "source": [
    "subH <- function(incr){\n",
    "    tmp <- params.rHeston\n",
    "    tmp$H <- tmp$H+incr\n",
    "    return(tmp)\n",
    "}\n",
    "\n",
    "vol <- function(params)function(k){\n",
    "    phi <- phiRoughHestonDhApprox(params, xiCurve, dh.approx= d.h.Pade33, n=20)\n",
    "    sapply(k,function(x){impvol.phi(phi)(x,1/52)})}"
   ]
  },
  {
   "cell_type": "code",
   "execution_count": 39,
   "metadata": {
    "slideshow": {
     "slide_type": "subslide"
    }
   },
   "outputs": [
    {
     "data": {
      "image/png": "[encoded data removed]",
      "text/plain": [
       "plot without title"
      ]
     },
     "metadata": {},
     "output_type": "display_data"
    }
   ],
   "source": [
    "yrange <- c(0.05,.4)\n",
    "curve(vol(subH(0))(x),from=-.15,to=.15,col=\"red\",ylim=yrange,lwd=2,ylab=\"Implied vol.\",xlab=\"Log-strike k\")\n",
    "for (incr in seq(0.1,0.4,0.1))\n",
    "    {\n",
    "    curve(vol(subH(incr))(x),from=-.15,to=.15,col=\"red\",lty=2,add=T)\n",
    "    }"
   ]
  },
  {
   "cell_type": "markdown",
   "metadata": {
    "slideshow": {
     "slide_type": "fragment"
    }
   },
   "source": [
    "Figure 10: The dotted lines are 1 week smiles with $H \\mapsto H +\\{0.1,0.2,0.3,0.4\\}$. The smile flattens as we increase $H$."
   ]
  },
  {
   "cell_type": "markdown",
   "metadata": {
    "slideshow": {
     "slide_type": "slide"
    }
   },
   "source": [
    "### Summary of Lecture 3\n",
    "\n",
    "* We introduce forward variance and affine models.\n",
    "\n",
    "* We showed how to compute the characteristic function for any affine forward variance model.\n",
    "\n",
    "* We applied these general results to the classical Heston and rough Heston models.\n",
    "\n"
   ]
  },
  {
   "cell_type": "markdown",
   "metadata": {
    "slideshow": {
     "slide_type": "slide"
    }
   },
   "source": [
    "### References\n",
    "\n",
    "<br />\n",
    "\n",
    "<div class=\"reflist\" style=\"list-style-type: decimal;\">\n",
    "\n",
    "<ol>\n",
    "  \n",
    "  <li id=\"cite_note-AMST\"><span class=\"mw-cite-backlink\"><b><a href=\"#cite_ref-AMST\">^</a></b></span>   Albrecher, Hansjörg, Philipp Mayer, Wim Schoutens and Jurgen Tistaert, The Little Heston Trap, <span>*Wilmott Magazine*</span> 83–92 (January 2007).</li>\n",
    " \n",
    "  <li id=\"cite_note-BCC\"><span class=\"mw-cite-backlink\"><b><a href=\"#cite_ref-BCC\">^</a></b></span>   Bakshi, Gurdip, Charles Cao and Zhiwu Chen, Empirical performance of alternative pricing models. <span>*Journal of Finance*</span> <span>**52**(5)</span>, 2003–2049 (1997).</li>\n",
    "  \n",
    "   <li id=\"cite_note-BG\"><span class=\"mw-cite-backlink\"><b><a href=\"#cite_ref-BG\">^</a></b></span>   Lorenzo Bergomi and Julien Guyon, The smile in stochastic volatility models. <span>*SSRN*</span> (2011).</li>\n",
    "   \n",
    "   <li id=\"cite_note-CarrMadan\"><span class=\"mw-cite-backlink\"><b><a href=\"#cite_ref-CarrMadan\">^</a></b></span> Peter Carr and Dilip Madan, Option valuation using the Fast Fourier Transform, <span>*Journal of Computational Finance*</span> <span>**2**</span>(4), 61–73 (1999).</li>\n",
    "\n",
    "  <li id=\"cite_note-CIR\"><span class=\"mw-cite-backlink\"><b><a href=\"#cite_ref-CIR\">^</a></b></span>   Cox, John, Jonathan Ingersoll and Stephen Ross, A theory of the term structure of interest rates. <span>*Econometrica*</span>\n",
    "<span>**53**(2)</span>, 385–408 (1985).</li>\n",
    "\n",
    "  <li id=\"cite_note-EER\"><span class=\"mw-cite-backlink\"><b><a href=\"#cite_ref-EER\">^</a></b></span>   Omar El Euch and Mathieu Rosenbaum, The characteristic function of rough Heston models, <span>*Mathematical Finance*, forthcoming (2018).</li>\n",
    "\n",
    "  <li id=\"cite_note-TVS\"><span class=\"mw-cite-backlink\"><b><a href=\"#cite_ref-TVS\">^</a></b></span>Jim Gatheral, <span>*The Volatility Surface: A Practitioner’s\n",
    "Guide*</span>, John Wiley and Sons, Hoboken, NJ (2006).</li>\n",
    "\n",
    "<li id=\"cite_note-GJR\"><span class=\"mw-cite-backlink\"><b><a href=\"#cite_ref-GJR\">^</a></b></span> Jim Gatheral, Thibault Jaisson and Mathieu Rosenbaum, Volatility is rough, *Quantitative Finance* **18**(6), 933-949 (2018).</li> \n",
    "\n",
    "<li id=\"cite_note-AFV\"><span class=\"mw-cite-backlink\"><b><a href=\"#cite_ref-AFV\">^</a></b></span>\n",
    "Jim Gatheral and Martin Keller-Ressel, Affine forward variance models,  available at https://papers.ssrn.com/sol3/papers.cfm?abstract_id=3105387 (2017).\n",
    "\n",
    "<li id=\"cite_note-GR\"><span class=\"mw-cite-backlink\"><b><a href=\"#cite_ref-GR\">^</a></b></span>\n",
    "Jim Gatheral and Radoš Radoičić, Rational approximation of the rough Heston solution,  available at https://papers.ssrn.com/sol3/papers.cfm?abstract_id=3191578 (2018).\n",
    "\n",
    " <li id=\"cite_note-Lewis\"><span class=\"mw-cite-backlink\"><b><a href=\"#cite_ref-Lewis\">^</a></b></span>   Alan L. Lewis,  <span>*Option Valuation under Stochastic Volatility with Mathematica Code*</span>, Finance Press: Newport Beach, CA (2000).</li>\n",
    "\n",
    "  \n",
    "\n",
    "</ol>"
   ]
  }
 ],
 "metadata": {
  "celltoolbar": "Slideshow",
  "kernelspec": {
   "display_name": "R",
   "language": "R",
   "name": "ir"
  },
  "language_info": {
   "codemirror_mode": "r",
   "file_extension": ".r",
   "mimetype": "text/x-r-source",
   "name": "R",
   "pygments_lexer": "r",
   "version": "3.4.3"
  }
 },
 "nbformat": 4,
 "nbformat_minor": 1
}
