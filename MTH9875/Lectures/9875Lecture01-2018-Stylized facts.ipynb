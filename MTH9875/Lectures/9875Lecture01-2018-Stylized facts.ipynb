{
 "cells": [
  {
   "cell_type": "markdown",
   "metadata": {
    "slideshow": {
     "slide_type": "slide"
    }
   },
   "source": [
    "## MTH 9875 The Volatility Surface:    Fall 2018\n",
    "\n",
    "<p>\n",
    "\n",
    "### Lecture 1: Stylized facts\n",
    "\n",
    "\n",
    "Jim Gatheral   \n",
    "Department of Mathematics   \n",
    "\n",
    "$$\n",
    "\\newcommand{\\bea}{\\begin{eqnarray}}\n",
    "\\newcommand{\\eea}{\\end{eqnarray}}\n",
    "\\newcommand{\\supp}{\\mathrm{supp}}\n",
    "\\newcommand{\\E}{\\mathbb{E} }\n",
    "\\def\\Cov{{ \\mbox{Cov} }}\n",
    "\\def\\Var{{ \\mbox{Var} }}\n",
    "\\newcommand{\\1}{\\mathbf{1} }\n",
    "\\newcommand{\\PP}{\\mathbb{P} }\n",
    "\\newcommand{\\QQ}{\\mathbb{Q} }\n",
    "\\newcommand{\\RR}{\\mathbb{R} }\n",
    "\\newcommand{\\DD}{\\mathbb{D} }\n",
    "\\newcommand{\\HH}{\\mathbb{H} }\n",
    "\\newcommand{\\spn}{\\mathrm{span} }\n",
    "\\newcommand{\\cov}{\\mathrm{cov} }\n",
    "\\newcommand{\\HS}{\\mathcal{L}_{\\mathrm{HS}} }\n",
    "\\newcommand{\\trace}{\\mathrm{trace} }\n",
    "\\newcommand{\\LL}{\\mathcal{L} }\n",
    "\\newcommand{\\s}{\\mathcal{S} }\n",
    "\\newcommand{\\ee}{\\mathcal{E} }\n",
    "\\newcommand{\\ff}{\\mathcal{F} }\n",
    "\\newcommand{\\hh}{\\mathcal{H} }\n",
    "\\newcommand{\\bb}{\\mathcal{B} }\n",
    "\\newcommand{\\dd}{\\mathcal{D} }\n",
    "\\newcommand{\\g}{\\mathcal{G} }\n",
    "\\newcommand{\\half}{\\frac{1}{2} }\n",
    "\\newcommand{\\T}{\\mathcal{T} }\n",
    "\\newcommand{\\bi}{\\begin{itemize}}\n",
    "\\newcommand{\\ei}{\\end{itemize}}\n",
    "\\newcommand{\\beq}{\\begin{equation}}\n",
    "\\newcommand{\\eeq}{\\end{equation}}\n",
    "\\newcommand{\\angl}[1]{\\langle{#1}\\rangle}\n",
    "$$   \n",
    "   \n",
    "   \n",
    "\n",
    "\n",
    "  \n",
    "<h3><img src=\"http://mfe.baruch.cuny.edu/wp-content/uploads/2016/04/MFE-Logo.jpg\" align = \"right\" width=500></h3>\n",
    "   \n",
    "   \n",
    "   \n",
    "\n",
    "   \n",
    "   \n",
    "   \n",
    "   \n",
    "   \n",
    "   \n",
    "   \n",
    "   \n",
    "   \n"
   ]
  },
  {
   "cell_type": "markdown",
   "metadata": {
    "slideshow": {
     "slide_type": "slide"
    }
   },
   "source": [
    "### Outline of lecture 1\n",
    "\n",
    "* Power laws in finance\n",
    " * Zipf's law\n",
    " * Power laws in financial data\n",
    " \n",
    " \n",
    "* Financial time series: more stylized facts\n",
    "\n",
    "\n",
    "* The volatility surface\n",
    "    - Term structure of at-the-money skew\n",
    "    - The skew-stickiness ratio\n",
    "    - The volatility envelope"
   ]
  },
  {
   "cell_type": "markdown",
   "metadata": {
    "slideshow": {
     "slide_type": "slide"
    }
   },
   "source": [
    "### Power laws\n",
    "\n",
    "$S$ has a power-law distribution (or distribution with a power-law tail) if for large $x$,\n",
    "\n",
    "$$\n",
    "\\Pr(S>x) \\sim \\frac{1}{x^\\zeta} \n",
    "$$\n",
    "\n",
    "for some exponent $\\zeta$.\n",
    "\n",
    "- Power-laws are ubiquitous in social sciences, and in particular in finance."
   ]
  },
  {
   "cell_type": "markdown",
   "metadata": {
    "slideshow": {
     "slide_type": "slide"
    }
   },
   "source": [
    "\n",
    "### Zipf's Law\n",
    "\n",
    "\"The frequency of any word is inversely proportional to its rank in the frequency table.\"\n",
    "\n",
    "$$\n",
    "\\Pr(S>x) \\sim \\frac{1}{x^\\zeta} \\quad \\text{ with } \\zeta \\approx 1\n",
    "$$\n",
    "\n",
    "This empirical law applies to the sizes of cities and many other economic variables.  Here are some others:  \n",
    "\n",
    "* Amazon book rank\n",
    "* Firm sizes\n",
    "* Income and wealth\n",
    "* CEO compensation. \n",
    "\n"
   ]
  },
  {
   "cell_type": "markdown",
   "metadata": {
    "slideshow": {
     "slide_type": "slide"
    }
   },
   "source": [
    "### Aggregation properties\n",
    "\n",
    "\n",
    "If $X_i$ are independent power-law distributed random variables,\n",
    "\n",
    "$$\n",
    "\\bea\n",
    "\\zeta_{X_1+ \\dots + X_n}&=&\\min(\\zeta_{X_1},\\dots,\\zeta_{X_n})\\\\\n",
    "\\zeta_{X_1\\times \\dots \\times X_n}&=&\\min(\\zeta_{X_1},\\dots,\\zeta_{X_n})\\\\\n",
    "\\zeta_{\\max(X_1,\\dots ,X_n)}&=&\\min(\\zeta_{X_1},\\dots,\\zeta_{X_n})\\\\\n",
    "\\zeta_{\\min(X_1,\\dots ,X_n)}&=&\\zeta_{X_1}+\\dots+\\zeta_{X_n}\\\\\n",
    "\\zeta_{\\alpha\\,X}&=&\\zeta_{X}\\\\\n",
    "\\zeta_{X^\\alpha}&=&\\frac{\\zeta_{X}}{\\alpha}\\\\\n",
    "\\eea\n",
    "$$\n",
    "\n",
    "Thus, combinations of power-law distributed random variables gives rise to more power-laws."
   ]
  },
  {
   "cell_type": "markdown",
   "metadata": {
    "slideshow": {
     "slide_type": "slide"
    }
   },
   "source": [
    "### Power laws in daily SPX returns\n",
    "\n",
    "Using R and the quantmod package, we analyze log-returns of SPX since 1950."
   ]
  },
  {
   "cell_type": "code",
   "execution_count": 1,
   "metadata": {
    "scrolled": true,
    "slideshow": {
     "slide_type": "fragment"
    }
   },
   "outputs": [
    {
     "name": "stderr",
     "output_type": "stream",
     "text": [
      "Loading required package: xts\n",
      "Loading required package: zoo\n",
      "\n",
      "Attaching package: 'zoo'\n",
      "\n",
      "The following objects are masked from 'package:base':\n",
      "\n",
      "    as.Date, as.Date.numeric\n",
      "\n",
      "Loading required package: TTR\n",
      "Version 0.4-0 included new data defaults. See ?getSymbols.\n"
     ]
    }
   ],
   "source": [
    "library(quantmod)\n",
    "library(boot)"
   ]
  },
  {
   "cell_type": "code",
   "execution_count": 2,
   "metadata": {
    "slideshow": {
     "slide_type": "fragment"
    }
   },
   "outputs": [
    {
     "name": "stderr",
     "output_type": "stream",
     "text": [
      "\n",
      "WARNING: There have been significant changes to Yahoo Finance data.\n",
      "Please see the Warning section of '?getSymbols.yahoo' for details.\n",
      "\n",
      "This message is shown once per session and may be disabled by setting\n",
      "options(\"getSymbols.yahoo.warning\"=FALSE).\n"
     ]
    },
    {
     "data": {
      "text/html": [
       "'GSPC'"
      ],
      "text/latex": [
       "'GSPC'"
      ],
      "text/markdown": [
       "'GSPC'"
      ],
      "text/plain": [
       "[1] \"GSPC\""
      ]
     },
     "metadata": {},
     "output_type": "display_data"
    }
   ],
   "source": [
    "#Get SPX and VIX data from Yahoo!\n",
    "options(\"getSymbols.warning4.0\"=FALSE)\n",
    "\n",
    "getSymbols(\"^GSPC\",from=\"1927-01-01\") #Creates the time series object GSPC"
   ]
  },
  {
   "cell_type": "markdown",
   "metadata": {
    "slideshow": {
     "slide_type": "subslide"
    }
   },
   "source": [
    "Do the same for VIX and create joint dataset of VIX and SPX"
   ]
  },
  {
   "cell_type": "code",
   "execution_count": 3,
   "metadata": {
    "slideshow": {
     "slide_type": "fragment"
    }
   },
   "outputs": [
    {
     "data": {
      "text/html": [
       "'VIX'"
      ],
      "text/latex": [
       "'VIX'"
      ],
      "text/markdown": [
       "'VIX'"
      ],
      "text/plain": [
       "[1] \"VIX\""
      ]
     },
     "metadata": {},
     "output_type": "display_data"
    },
    {
     "name": "stdout",
     "output_type": "stream",
     "text": [
      "           Cl.GSPC Cl.VIX\n",
      "1990-01-02  359.69  17.24\n",
      "1990-01-03  358.76  18.19\n",
      "1990-01-04  355.67  19.22\n",
      "1990-01-05  352.20  20.11\n",
      "1990-01-08  353.79  20.26\n",
      "1990-01-09  349.62  22.20\n",
      "           Cl.GSPC Cl.VIX\n",
      "2018-11-15 2730.20  19.98\n",
      "2018-11-16 2736.27  18.14\n",
      "2018-11-19 2690.73  20.10\n",
      "2018-11-20 2641.89  22.48\n",
      "2018-11-21 2649.93  20.80\n",
      "2018-11-23 2632.56  21.52\n"
     ]
    }
   ],
   "source": [
    "getSymbols(\"^VIX\",from=\"1927-01-01\") #Creates the time series object VIX\n",
    "\n",
    "mm <- specifyModel(Cl(GSPC)~Cl(VIX))\n",
    "spxVixData <-modelData(mm) #quantmod function automatically aligns data from two series\n",
    "\n",
    "vix <- spxVixData[,\"Cl.VIX\"]\n",
    "spx <- spxVixData[,\"Cl.GSPC\"]\n",
    "\n",
    "print(head(spxVixData))\n",
    "print(tail(spxVixData))"
   ]
  },
  {
   "cell_type": "code",
   "execution_count": 4,
   "metadata": {
    "slideshow": {
     "slide_type": "fragment"
    }
   },
   "outputs": [],
   "source": [
    "library(repr)\n",
    "options(repr.plot.height=5)"
   ]
  },
  {
   "cell_type": "markdown",
   "metadata": {
    "slideshow": {
     "slide_type": "slide"
    }
   },
   "source": [
    "### Histogram of SPX daily log-returns"
   ]
  },
  {
   "cell_type": "code",
   "execution_count": 5,
   "metadata": {
    "slideshow": {
     "slide_type": "fragment"
    }
   },
   "outputs": [
    {
     "data": {
      "image/png": "[encoded data removed]",
      "text/plain": [
       "Plot with title \"Histogram of ret.spx\""
      ]
     },
     "metadata": {},
     "output_type": "display_data"
    }
   ],
   "source": [
    "ret.spx <- log(Cl(GSPC)/lag(Cl(GSPC)))\n",
    "ret.spx <- ret.spx[!is.na(ret.spx)]  # Remove missing values\n",
    "ret.spx <- ret.spx-mean(ret.spx)\n",
    "breaks <- seq(-.235,.115,.002)\n",
    "hist.spx <- hist(ret.spx,breaks=breaks,freq=F)\n"
   ]
  },
  {
   "cell_type": "markdown",
   "metadata": {
    "slideshow": {
     "slide_type": "fragment"
    }
   },
   "source": [
    "Figure 1: Histogram of SPX daily log-returns. Note the outlier in the left tail!"
   ]
  },
  {
   "cell_type": "markdown",
   "metadata": {
    "slideshow": {
     "slide_type": "slide"
    }
   },
   "source": [
    "### The cubic law of returns"
   ]
  },
  {
   "cell_type": "code",
   "execution_count": 6,
   "metadata": {
    "slideshow": {
     "slide_type": "fragment"
    }
   },
   "outputs": [
    {
     "name": "stdout",
     "output_type": "stream",
     "text": [
      "[1] \"breaks\"   \"counts\"   \"density\"  \"mids\"     \"xname\"    \"equidist\"\n"
     ]
    },
    {
     "data": {
      "image/png": "[encoded data removed]",
      "text/plain": [
       "plot without title"
      ]
     },
     "metadata": {},
     "output_type": "display_data"
    }
   ],
   "source": [
    "print(names(hist.spx))\n",
    "spx.density <- hist.spx$density \n",
    "mids <- hist.spx$mids \n",
    "x <- abs(mids)[abs(mids)>0.005] \n",
    "y <- spx.density[abs(mids)>0.005] \n",
    "\n",
    "# Log-log plot\n",
    "plot(log(x),log(y),ylab=\"log density\",xlab=\"log abs. returns\",pch=20,col=\"blue\")"
   ]
  },
  {
   "cell_type": "markdown",
   "metadata": {
    "slideshow": {
     "slide_type": "fragment"
    }
   },
   "source": [
    "Figure 2: Log-log plot of the empirical density of absolute daily returns of SPX."
   ]
  },
  {
   "cell_type": "code",
   "execution_count": 7,
   "metadata": {
    "slideshow": {
     "slide_type": "subslide"
    }
   },
   "outputs": [],
   "source": [
    "# Look only at tails\n",
    "cutoff <- 0.02 \n",
    "rh <- (mids > cutoff) \n",
    "lh <- (mids < (-cutoff)) \n",
    "\n",
    "xrh <- mids[rh] \n",
    "xlh <- -mids[lh] \n",
    "yrh <- spx.density[rh]\n",
    "ylh <- spx.density[lh] \n",
    "\n",
    "lnx.rh <- log(xrh)[yrh>0] \n",
    "lny.rh <- log(yrh)[yrh>0] \n",
    "lnx.lh <- log(xlh)[ylh>0] \n",
    "lny.lh <- log(ylh)[ylh>0] \n",
    "\n",
    "rh.lm <- lm(lny.rh~lnx.rh) \n",
    "lh.lm <-lm(lny.lh~lnx.lh) "
   ]
  },
  {
   "cell_type": "code",
   "execution_count": 8,
   "metadata": {
    "slideshow": {
     "slide_type": "subslide"
    }
   },
   "outputs": [
    {
     "data": {
      "image/png": "[encoded data removed]",
      "text/plain": [
       "plot without title"
      ]
     },
     "metadata": {},
     "output_type": "display_data"
    }
   ],
   "source": [
    "plot(lnx.rh,lny.rh,ylab=\"log density\",col=\"blue\",xlab=\"log abs. returns\",pch=20)\n",
    "points(lnx.lh,lny.lh,col=\"red\",pch=20) \n",
    "abline(rh.lm,col=\"green\") \n",
    "abline(lh.lm,col=\"pink\") "
   ]
  },
  {
   "cell_type": "markdown",
   "metadata": {
    "slideshow": {
     "slide_type": "fragment"
    }
   },
   "source": [
    "Figure 3: Log-log plot of the empirical density of absolute daily returns of SPX with a lower cutoff."
   ]
  },
  {
   "cell_type": "code",
   "execution_count": 9,
   "metadata": {
    "slideshow": {
     "slide_type": "subslide"
    }
   },
   "outputs": [],
   "source": [
    "# Repeat with upper cutoff\n",
    "upperCutoff <- 0.08 \n",
    "\n",
    "rh <- (mids>cutoff)&(mids<upperCutoff) \n",
    "lh <- (mids < (-cutoff))&(mids > (-upperCutoff)) \n",
    "\n",
    "xrh <- mids[rh] \n",
    "xlh <- -mids[lh] \n",
    "yrh <- spx.density[rh]\n",
    "ylh <- spx.density[lh] \n",
    "\n",
    "lnx.rh <- log(xrh)[yrh>0]\n",
    "lny.rh <- log(yrh)[yrh>0] \n",
    "lnx.lh <- log(xlh)[ylh>0]\n",
    "lny.lh <- log(ylh)[ylh>0] \n",
    "\n",
    "rh.lm <-lm(lny.rh~lnx.rh)\n",
    "lh.lm <-lm(lny.lh~lnx.lh) "
   ]
  },
  {
   "cell_type": "code",
   "execution_count": 10,
   "metadata": {
    "slideshow": {
     "slide_type": "subslide"
    }
   },
   "outputs": [
    {
     "data": {
      "image/png": "[encoded data removed]",
      "text/plain": [
       "plot without title"
      ]
     },
     "metadata": {},
     "output_type": "display_data"
    }
   ],
   "source": [
    "plot(lnx.rh,lny.rh,ylab=\"log density\",col=\"blue\",xlab=\"log abs. returns\",pch=20)\n",
    "points(lnx.lh,lny.lh,col=\"red\",pch=20) \n",
    "abline(rh.lm,col=\"green\") \n",
    "abline(lh.lm,col=\"pink\") "
   ]
  },
  {
   "cell_type": "markdown",
   "metadata": {
    "slideshow": {
     "slide_type": "fragment"
    }
   },
   "source": [
    "Figure 4: Log-log  plot of the empirical density of SPX returns with lower and upper cutoff. The red points are from the left tail, the blue points from the right tail, the green and pink lines are linear fits.  The fit slopes (rh:$3.69$, lh: $3.41$) are consistent with a value of $3$."
   ]
  },
  {
   "cell_type": "code",
   "execution_count": 11,
   "metadata": {
    "slideshow": {
     "slide_type": "subslide"
    }
   },
   "outputs": [
    {
     "data": {
      "text/plain": [
       "\n",
       "Call:\n",
       "lm(formula = lny.rh ~ lnx.rh)\n",
       "\n",
       "Residuals:\n",
       "     Min       1Q   Median       3Q      Max \n",
       "-0.81523 -0.10729  0.01159  0.17688  0.76884 \n",
       "\n",
       "Coefficients:\n",
       "            Estimate Std. Error t value Pr(>|t|)    \n",
       "(Intercept) -13.4918     0.8285  -16.28 1.29e-12 ***\n",
       "lnx.rh       -3.6955     0.2534  -14.58 9.05e-12 ***\n",
       "---\n",
       "Signif. codes:  0 '***' 0.001 '**' 0.01 '*' 0.05 '.' 0.1 ' ' 1\n",
       "\n",
       "Residual standard error: 0.4074 on 19 degrees of freedom\n",
       "Multiple R-squared:  0.918,\tAdjusted R-squared:  0.9137 \n",
       "F-statistic: 212.6 on 1 and 19 DF,  p-value: 9.045e-12\n"
      ]
     },
     "metadata": {},
     "output_type": "display_data"
    }
   ],
   "source": [
    "summary(rh.lm)"
   ]
  },
  {
   "cell_type": "code",
   "execution_count": 12,
   "metadata": {
    "slideshow": {
     "slide_type": "subslide"
    }
   },
   "outputs": [
    {
     "data": {
      "text/plain": [
       "\n",
       "Call:\n",
       "lm(formula = lny.lh ~ lnx.lh)\n",
       "\n",
       "Residuals:\n",
       "     Min       1Q   Median       3Q      Max \n",
       "-1.16281 -0.30356  0.07543  0.27225  1.46541 \n",
       "\n",
       "Coefficients:\n",
       "            Estimate Std. Error t value Pr(>|t|)    \n",
       "(Intercept) -12.5160     0.9664  -12.95 9.06e-12 ***\n",
       "lnx.lh       -3.4273     0.3066  -11.18 1.54e-10 ***\n",
       "---\n",
       "Signif. codes:  0 '***' 0.001 '**' 0.01 '*' 0.05 '.' 0.1 ' ' 1\n",
       "\n",
       "Residual standard error: 0.5408 on 22 degrees of freedom\n",
       "Multiple R-squared:  0.8503,\tAdjusted R-squared:  0.8435 \n",
       "F-statistic: 124.9 on 1 and 22 DF,  p-value: 1.535e-10\n"
      ]
     },
     "metadata": {},
     "output_type": "display_data"
    }
   ],
   "source": [
    "summary(lh.lm)"
   ]
  },
  {
   "cell_type": "markdown",
   "metadata": {
    "slideshow": {
     "slide_type": "slide"
    }
   },
   "source": [
    "### The Student-t distribution\n",
    "\n",
    "$$\n",
    "p(x) =\\frac{\\Gamma\\left(\\frac{\\nu+1}{2}\\right)}{\\sqrt{\\nu\\,\\pi}\\,\\Gamma\\left(\\frac{\\nu}{2}\\right)}\\,\\frac{1}{\\left(1+\\frac{x^2}{\\nu}\\right)^{\\frac{\\nu+1}{2}}}\\sim \\frac{1}{x^{\\nu+1}}\\text{ as }x\\to \\infty \n",
    "$$\n",
    "\n",
    "So the tail-exponent $\\zeta=\\nu$, the degrees of freedom.\n",
    "\n",
    "Obviously, this distribution has mean zero.  Its variance is\n",
    "\n",
    "$$\n",
    "\\int x^2\\,p(x)\\,dx=\\frac{\\nu}{\\nu-2}\n",
    "$$\n",
    "\n",
    "With $\\nu=3$, the density simplifies to\n",
    "$$\n",
    "p(x) =\\frac{2}{\\sqrt{3}\\,\\pi}\\,\\frac{1}{\\left(1+\\frac{x^2}{3}\\right)^2}\n",
    "$$"
   ]
  },
  {
   "cell_type": "markdown",
   "metadata": {
    "slideshow": {
     "slide_type": "slide"
    }
   },
   "source": [
    "### SPX daily log-returns: Student-t fit"
   ]
  },
  {
   "cell_type": "code",
   "execution_count": 13,
   "metadata": {
    "slideshow": {
     "slide_type": "fragment"
    }
   },
   "outputs": [
    {
     "data": {
      "image/png": "[encoded data removed]",
      "text/plain": [
       "Plot with title \"NA\""
      ]
     },
     "metadata": {},
     "output_type": "display_data"
    }
   ],
   "source": [
    "plot(hist.spx,xlim=c(-.05,.05),freq=F,main=NA,xlab=\"Log return\") \n",
    "sig <- as.numeric(sd(ret.spx)) \n",
    "curve(dt(x*sqrt(3)/sig,df=3)*sqrt(3)/sig,from=-.05,to=.05,col=\"red\", add=T)\n",
    "curve(dnorm(x,mean=0,sd=sig),from=-.05,to=.05,col=\"blue\", add=T)"
   ]
  },
  {
   "cell_type": "markdown",
   "metadata": {
    "slideshow": {
     "slide_type": "fragment"
    }
   },
   "source": [
    "Figure 5: Student-t with $\\nu=3$ fits almost perfectly!  Normal fit is in blue.  The cubic law is confirmed."
   ]
  },
  {
   "cell_type": "markdown",
   "metadata": {
    "slideshow": {
     "slide_type": "slide"
    }
   },
   "source": [
    "### Note on power-law tails\n",
    "\n",
    "Although Student-t seems to fit well, the distribution of log-returns cannot have power-law tails in reality.  For example, we certainly believe that the first moment of the stock price exists.  That is $\\E[S_T]= \\E[e^x]=C$ for some $C<\\infty$ where $x = \\log S_T/F$. If the distribution of log-returns is power-law with tail exponent $\\nu$, then $\\E[x^\\alpha] = \\infty$ if $\\alpha>\\nu$ and in particular $\\E[e^x] >\\infty$.\n",
    "\n",
    "This is obviously true more generally in physics: one cannot have a true power-law in a system with finite physical extent.  Power-laws describe approximate behavior up to some cutoff."
   ]
  },
  {
   "cell_type": "markdown",
   "metadata": {
    "slideshow": {
     "slide_type": "slide"
    }
   },
   "source": [
    "### SPX weekly log-returns"
   ]
  },
  {
   "cell_type": "code",
   "execution_count": 14,
   "metadata": {
    "slideshow": {
     "slide_type": "fragment"
    }
   },
   "outputs": [
    {
     "data": {
      "text/html": [
       "<ol class=list-inline>\n",
       "\t<li>-0.0289737765566317</li>\n",
       "\t<li>0.031659977074704</li>\n",
       "</ol>\n"
      ],
      "text/latex": [
       "\\begin{enumerate*}\n",
       "\\item -0.0289737765566317\n",
       "\\item 0.031659977074704\n",
       "\\end{enumerate*}\n"
      ],
      "text/markdown": [
       "1. -0.0289737765566317\n",
       "2. 0.031659977074704\n",
       "\n",
       "\n"
      ],
      "text/plain": [
       "[1] -0.02897378  0.03165998"
      ]
     },
     "metadata": {},
     "output_type": "display_data"
    }
   ],
   "source": [
    "pxw <- Cl(to.weekly(GSPC))  # Built-in quantmod function to get close\n",
    "retw <- Delt(log(pxw))[-1] \n",
    "retw <- retw-mean(retw) \n",
    "c(min(retw),max(retw))\n",
    "breaks <- seq(-.0345,.0345,.001)\n",
    "spx.histw <- hist(retw,breaks=breaks,plot=F) \n",
    "sigw <- as.numeric(sd(retw)) \n",
    "scale <- function(nu){sqrt(nu/(nu-2))} "
   ]
  },
  {
   "cell_type": "code",
   "execution_count": 15,
   "metadata": {
    "slideshow": {
     "slide_type": "subslide"
    }
   },
   "outputs": [
    {
     "data": {
      "image/png": "[encoded data removed]",
      "text/plain": [
       "Plot with title \"NA\""
      ]
     },
     "metadata": {},
     "output_type": "display_data"
    }
   ],
   "source": [
    "plot(spx.histw,xlim=c(-.035,.035),freq=F,main=NA,xlab=\"Weekly log return\") \n",
    "curve(dt(x*scale(4)/sigw,df=4)*scale(4)/sigw,from=-.05,to=.05,col=\"red\", add=T)\n",
    "curve(dnorm(x,mean=0,sd=sigw),from=-.05,to=.05,col=\"blue\", add=T) "
   ]
  },
  {
   "cell_type": "markdown",
   "metadata": {
    "slideshow": {
     "slide_type": "fragment"
    }
   },
   "source": [
    "Figure 6: Student-t with $\\nu=4$ in red. Normal fit is in blue.  Aggregational Gaussianity?"
   ]
  },
  {
   "cell_type": "markdown",
   "metadata": {
    "slideshow": {
     "slide_type": "slide"
    }
   },
   "source": [
    "### SPX monthly log-returns"
   ]
  },
  {
   "cell_type": "code",
   "execution_count": 16,
   "metadata": {
    "slideshow": {
     "slide_type": "fragment"
    }
   },
   "outputs": [
    {
     "data": {
      "text/html": [
       "<ol class=list-inline>\n",
       "\t<li>-0.043776173384781</li>\n",
       "\t<li>0.0351106930775606</li>\n",
       "</ol>\n"
      ],
      "text/latex": [
       "\\begin{enumerate*}\n",
       "\\item -0.043776173384781\n",
       "\\item 0.0351106930775606\n",
       "\\end{enumerate*}\n"
      ],
      "text/markdown": [
       "1. -0.043776173384781\n",
       "2. 0.0351106930775606\n",
       "\n",
       "\n"
      ],
      "text/plain": [
       "[1] -0.04377617  0.03511069"
      ]
     },
     "metadata": {},
     "output_type": "display_data"
    }
   ],
   "source": [
    "pxm <- Cl(to.monthly(GSPC))  # Built-in quantmod function to get close\n",
    "retm <- Delt(log(pxm))[-1] \n",
    "retm <- retm-mean(retm) \n",
    "c(min(retm),max(retm))\n",
    "breaks <- seq(-.046,.038,.004)\n",
    "spx.histm <- hist(retm,breaks=breaks,plot=F) \n",
    "sigm <- as.numeric(sd(retm)) \n",
    "scale <- function(nu){sqrt(nu/(nu-2))} "
   ]
  },
  {
   "cell_type": "code",
   "execution_count": 17,
   "metadata": {
    "slideshow": {
     "slide_type": "subslide"
    }
   },
   "outputs": [
    {
     "data": {
      "image/png": "[encoded data removed]",
      "text/plain": [
       "Plot with title \"NA\""
      ]
     },
     "metadata": {},
     "output_type": "display_data"
    }
   ],
   "source": [
    "plot(spx.histm,xlim=c(-.045,.045),freq=F,main=NA,xlab=\"monthly log return\") \n",
    "curve(dt(x*scale(5)/sigm,df=5)*scale(5)/sigm,from=-.05,to=.05,col=\"red\", add=T)\n",
    "curve(dnorm(x,mean=0,sd=sigm),from=-.05,to=.05,col=\"blue\", add=T) "
   ]
  },
  {
   "cell_type": "markdown",
   "metadata": {
    "slideshow": {
     "slide_type": "fragment"
    }
   },
   "source": [
    "Figure 7: Student-t with $\\nu=5$ in red. Normal fit is in blue.  Aggregational Gaussianity again?"
   ]
  },
  {
   "cell_type": "markdown",
   "metadata": {
    "slideshow": {
     "slide_type": "slide"
    }
   },
   "source": [
    "\n",
    "\n",
    "### A digression: the Fokker-Planck equation\n",
    "\n",
    "The Fokker-Planck equation describes the evolution of the probability density in a diffusion process. Specifically, suppose\n",
    "\n",
    "$$\n",
    "dX_t=\\mu(X_t,t)\\,dt+\\sigma(X_t,t)\\,dW\n",
    "$$\n",
    "\n",
    "Then, applying It&ocirc;'s Lemma,\n",
    "$$\n",
    "df = \\frac{\\partial f}{\\partial t}\\,dt+\\mu(X_t,t)\\,\\frac{\\partial f}{\\partial X_t}\\,dt+\n",
    "\\frac{\\sigma(X_t,t)^2}{2}\\,\\frac{\\partial^2 f}{\\partial X_t^2}\\,dt+\\\\\\sigma(X_t,t)\\,\\frac{\\partial f}{\\partial X_t}\\,dW\n",
    "$$"
   ]
  },
  {
   "cell_type": "markdown",
   "metadata": {
    "slideshow": {
     "slide_type": "subslide"
    }
   },
   "source": [
    "We now choose a special $f(.)$.  Let $f(z,t)=\\delta(z-x)$ (independent of $t$).  Then\n",
    "\n",
    "$$\n",
    "\\E\\left[f(X_t,t)\\right]=\\int_{-\\infty}^{+\\infty}\\,dz\\,p(z,t)\\,\\delta(z-x)=p(x,t)\n",
    "$$"
   ]
  },
  {
   "cell_type": "markdown",
   "metadata": {
    "slideshow": {
     "slide_type": "subslide"
    }
   },
   "source": [
    "Taking expectations of It&ocirc;'s Lemma, noting that $\\partial_t f(z,t)=0$, we obtain (if the density decays suitably fast at $\\pm \\infty$),\n",
    "\n",
    "\\begin{eqnarray*}\n",
    "&&\\frac{d\\E\\left[f(X_t,t)\\right]}{dt}\\\\&=&\\E\\left[\\mu(z,t)\\,\\frac{\\partial f(z,t)}{\\partial z}+\\frac{\\sigma^2(z,t)}{2}\\,\\frac{\\partial^2 f(z,t)}{\\partial z^2}\\right]\\\\\n",
    "&=&\\int_{-\\infty}^{+\\infty}\\,dz\\,p(z,t)\\,\\left\\{\\mu(z,t)\\,\\frac{\\partial f(z,t)}{\\partial z}+\\frac{\\sigma^2(z,t)}{2}\\,\\frac{\\partial^2 f(z,t)}{\\partial z^2}\\right\\}\\\\\n",
    "&=&\\int_{-\\infty}^{+\\infty}\\,dz\\,f(z,t)\\,\\left\\{-\\frac{\\partial}{\\partial z}\\left(\\mu(z,t)\\,p(z,t)\\right)+\\frac{1}{2}\\,\\frac{\\partial^2}{\\partial z^2}\\,\\left(\\sigma^2(z,t)\\,p(z,t)\\right)\n",
    "\\right\\}\\\\\n",
    "\\end{eqnarray*}\n",
    "\n",
    "Substituting $f(z,t)=\\delta(z-x)$ gives"
   ]
  },
  {
   "cell_type": "markdown",
   "metadata": {
    "slideshow": {
     "slide_type": "subslide"
    }
   },
   "source": [
    "#### The forward Kolmogorov or Fokker-Planck equation\n",
    "\n",
    "\n",
    "$$\n",
    "\\frac{d p(x,t)}{dt}=-\\frac{\\partial}{\\partial x}\\left(\\mu(x,t)\\,p(x,t)\\right)+\\frac{1}{2}\\,\\frac{\\partial^2}{\\partial x^2}\\,\\left(\\sigma^2(x,t)\\,p(x,t)\\right)\n",
    "$$"
   ]
  },
  {
   "cell_type": "markdown",
   "metadata": {
    "slideshow": {
     "slide_type": "slide"
    }
   },
   "source": [
    "### Where do power-laws come from?\n",
    "\n",
    "The following robust heuristic derivation of Zipf's Law is due to Gabaix<sup id=\"cite_ref-Gabaix\" class=\"reference\"><a href=\"#cite_note-Gabaix\"><span>[</span>5<span>]</span></a></sup>. Assume\n",
    "\n",
    "<a name=\"eq:GabaixProcess\"></a>(1)$$\n",
    "dX=\\mu\\,X\\,dt+\\nu\\,X\\,dZ\n",
    "$$\n",
    "where $X$ is size.  \n",
    "\n",
    "\n",
    "Let $f(x,t)$ be the density (of sizes for example).  In steady state, $\\partial_t f(\\cdot)=0$ so put $f(x,t)=f(x)$ and the forward Kolmogorov (Fokker-Planck) equation then reads:\n",
    "\n",
    "$$\n",
    "-\\partial_x\\left(\\mu\\, x\\,f(x)\\right)+\\partial_{x,x}\\left(\\frac{\\nu^2}{2}\\,x^2\\,f(x)\\right)=0\n",
    "$$"
   ]
  },
  {
   "cell_type": "markdown",
   "metadata": {
    "slideshow": {
     "slide_type": "subslide"
    }
   },
   "source": [
    "Try\n",
    "$$\n",
    "f(x)=\\frac{C}{x^{\\zeta+1}}\n",
    "$$\n",
    "Then\n",
    "$$\n",
    "\\frac{C}{x^{\\zeta+1}}\\,\\left\\{\\mu\\,\\zeta+\\frac{\\nu^2}{2}(\\zeta-1)\\,\\zeta\\right\\}=0\n",
    "$$\n",
    "\n",
    "Then either $\\zeta = 0$ or\n",
    "$$\n",
    "\\zeta=1-\\frac{2\\,\\mu}{\\nu^2}.\n",
    "$$\n",
    "The choice $\\zeta=0$ gives a logarithmic function that diverges at $x \\to 0$ and as $x \\to \\infty$.  "
   ]
  },
  {
   "cell_type": "markdown",
   "metadata": {
    "slideshow": {
     "slide_type": "subslide"
    }
   },
   "source": [
    "The choice\n",
    "$\\zeta=1-\\frac{2\\,\\mu}{\\nu^2}\n",
    "$ gives a density that diverges as $x \\to 0$, so cut off at $S_{min}$.\n",
    "\n",
    "$$\n",
    "\\int f(x)\\,dx=\\int_{S_{min}}^\\infty\\,\\frac{C}{x^{\\zeta+1}}\\,dx=\\frac{C}{\\zeta\\,S_{min}^\\zeta}=1 \n",
    "$$\n",
    "Then we obtain the power law\n",
    "\n",
    "$$\n",
    "f(x)=\\zeta\\,S_{min}^\\zeta\\,\\frac{1}{x^{\\zeta+1}};\\,\\tilde F(x)=\\left(\\frac{S_{min}}{x}\\right)^\\zeta.\n",
    "$$\n",
    "\n",
    "where $\\tilde F$ is the tail distribution.  Now, to estimate $\\zeta$, compute the average size\n",
    "\n",
    "$$\n",
    "\\bar S=\\int x\\,f(x)\\,dx=\\frac{\\zeta}{\\zeta-1}\\,S_{min}.\n",
    "$$\n",
    "\n",
    "Then\n",
    "\n",
    "$$\n",
    "\\zeta=\\frac{1}{1-\\frac{S_{min}}{\\bar S}}\n",
    "$$\n",
    "\n",
    "which gives us our result if $S_{min} \\ll \\bar S$."
   ]
  },
  {
   "cell_type": "markdown",
   "metadata": {
    "slideshow": {
     "slide_type": "subslide"
    }
   },
   "source": [
    "### The Gabaix result in words\n",
    "\n",
    "<font color=\"red\">If the average size of something is much bigger than the minimum size, and assuming the growth process  [(1)](#eq:GabaixProcess), the distribution of sizes is power-law with tail exponent approximately $1$."
   ]
  },
  {
   "cell_type": "markdown",
   "metadata": {
    "slideshow": {
     "slide_type": "slide"
    }
   },
   "source": [
    "### Power laws from entropy maximization\n",
    "\n",
    "Define the set of observables $n$ to be the positive integers so that $n \\in \\left\\{1,2,3,...\\right\\}$.  The Shannon entropy (a measure of average information) is given by\n",
    "\n",
    "$$\n",
    "\\mathcal{S} = - \\sum_n\\,p_n\\,\\log p_n\n",
    "$$\n",
    "\n",
    "where the probability that $n$ is observed is $p_n$."
   ]
  },
  {
   "cell_type": "markdown",
   "metadata": {
    "slideshow": {
     "slide_type": "subslide"
    }
   },
   "source": [
    "Suppose that we know that the mean of $\\log n$ exists (definitely so in any finite system).  Denote $\\langle \\log n \\rangle = \\sum_n\\,p_n\\,\\log n= \\chi$.  Of course we also have the further contraint $\\sum_n p_n =1$.\n",
    "\n",
    "\n",
    "\n",
    "We now maximimize the Shannon entropy subject to these constraints using Lagrange multipliers.   We want to maximize\n",
    "\n",
    "$$\n",
    "\\mathcal{L} = - \\sum_n\\,p_n\\,\\log p_n - \\lambda\\,\\left(\\sum_n p_n - 1\\right) - z\\,\\left(\\sum_n p_n\\,\\log n -\\chi\\right)\n",
    "$$\n",
    "\n",
    "with respect to the $p_n$."
   ]
  },
  {
   "cell_type": "markdown",
   "metadata": {
    "slideshow": {
     "slide_type": "subslide"
    }
   },
   "source": [
    "Differentiating with respect to $p_n$ gives\n",
    "\n",
    "$$\n",
    "- \\log p_n -1 -\\lambda - z\\,\\log n = 0.\n",
    "$$\n",
    "\n",
    "or equivalently,\n",
    "\n",
    "$$\n",
    "p_n = \\frac{e^{-1-\\lambda}}{n^{z}}.\n",
    "$$"
   ]
  },
  {
   "cell_type": "markdown",
   "metadata": {
    "slideshow": {
     "slide_type": "subslide"
    }
   },
   "source": [
    "The Riemann zeta function is defined as\n",
    "\n",
    "$$\n",
    "\\zeta(z) = \\sum_n \\frac{1}{n^z}\n",
    "$$\n",
    "\n",
    "so applying the normalization constraint gives the explicit solution\n",
    "\n",
    "$$\n",
    "p_n = \\frac{1}{\\zeta(z)}\\,\\frac{1}{n^z}.\n",
    "$$\n",
    "\n",
    "- We see immediately that maximizing entropy subject only to the constraint that the mean of the log exists, gives rise to a power-law distribution."
   ]
  },
  {
   "cell_type": "markdown",
   "metadata": {
    "slideshow": {
     "slide_type": "subslide"
    }
   },
   "source": [
    "The value of the exponent $z$ in the power law may be obtained in terms of $\\chi$ as follows.\n",
    "\n",
    "$$\n",
    "\\chi(z) = \\langle \\log n \\rangle =  \\frac{1}{\\zeta(z)}\\,\\sum_n\\,\\frac{\\log n}{n^z} \n",
    "= - \\frac{1}{\\zeta(z)}\\,\\frac{d\\zeta(z)}{dz} = - \\frac{d }{dz} \\log \\zeta(z).\n",
    "$$\n",
    "\n",
    "- Note in particular that $\\zeta(z)$ converges only if $z>1$ so we cannot obtain Zipf's law exactly using entropy maximization.\n",
    "    - Recall that the argument of Gabaix also gives $z>1$.\n",
    "- Notice also that if $\\langle \\log n \\rangle$ is a reasonably large number, $z$ is close to $1$.\n",
    "    - https://www.wolframalpha.com/input/?i=Plot%5B-ReimannZeta%27%5Bz%5D,%7Bz,1.1,1.3%7D%5D"
   ]
  },
  {
   "cell_type": "markdown",
   "metadata": {
    "slideshow": {
     "slide_type": "slide"
    }
   },
   "source": [
    "### Ané and Geman\n",
    "\n",
    "According to Ané and Geman<sup id=\"cite_ref-AneGeman\" class=\"reference\"><a href=\"#cite_note-AneGeman\"><span>[</span>1<span>]</span></a></sup>, returns are normal when measured in business time. \n",
    "- Their procedure has been shown to be defective and their conclusion is widely considered to be false.\n",
    "- Gillemot, Farmer, and Lillo<sup id=\"cite_ref-Gillemot\" class=\"reference\"><a href=\"#cite_note-Gillemot\"><span>[</span>8<span>]</span></a></sup> is one paper that shows that the methodology of An&eacute; and Geman is incorrect.\n",
    "- Nevertheless, returns normalized by integrated variance and very close to normal as we will see below.\n",
    "\n"
   ]
  },
  {
   "cell_type": "markdown",
   "metadata": {
    "slideshow": {
     "slide_type": "slide"
    }
   },
   "source": [
    "### The Oxford-Man dataset\n",
    "\n",
    "- The Oxford-Man Institute of Quantitative Finance makes historical realized variance (RV) estimates freely available at http://realized.oxford-man.ox.ac.uk.  These estimates are updated daily.\n",
    "\n",
    "    - Each day, for 31 different indices, all trades and quotes are used to estimate realized (or integrated) variance over the trading day from open to close.\n",
    "    - The open and close of the price is also recorded.\n",
    "\n",
    "\n",
    "\n",
    "- We may then investigate the distribution of intraday returns normalized by integrated variance empirically."
   ]
  },
  {
   "cell_type": "markdown",
   "metadata": {
    "slideshow": {
     "slide_type": "slide"
    }
   },
   "source": [
    "### Tail distribution of normalized returns\n",
    "\n",
    "<h3><img src=\"http://mfe.baruch.cuny.edu/wp-content/uploads/2018/08/tailDistribution.png\" align = \"left\" width=800></h3>  "
   ]
  },
  {
   "cell_type": "markdown",
   "metadata": {
    "slideshow": {
     "slide_type": "fragment"
    }
   },
   "source": [
    "Figure 8: The blue line is the empirical distribution of normalized intraday returns from Jan-2000 to Dec-2009; the red line from Jan-2010 to today.  The orange line is an $N(0,1)$ fit and the green line Student-t with 3 degrees of freedom, consistent with the cubic law of returns. We see that the tail distribution seems to be stable over time and quite consistent with $N(0,1)$."
   ]
  },
  {
   "cell_type": "markdown",
   "metadata": {
    "slideshow": {
     "slide_type": "slide"
    }
   },
   "source": [
    "### Rationale for stochastic volatility\n",
    "\n",
    "- Though the conclusion of Ané and Geman may be (strictly speaking) incorrect, defining business time instead as proportional to integrated variance gives results that support their claim.\n",
    "\n",
    "- It is then also very natural to model the evolution of the underlying as \n",
    "$$\n",
    "\\frac{dS_t}{S_t} = \\sigma_t\\,dZ_t\\\\\n",
    "$$\n",
    "where $\\sigma_t$ is some stochastic process - in other words, stochastic volatility."
   ]
  },
  {
   "cell_type": "markdown",
   "metadata": {
    "slideshow": {
     "slide_type": "slide"
    }
   },
   "source": [
    "### Power laws in high-frequency returns\n",
    "\n",
    "It is claimed that high-frequency returns obey the cubic law, consistent with daily returns.\n",
    "\n",
    "\n",
    "For a good introduction to the analysis of empirical financial data, see Bouchaud and Potters<sup id=\"cite_ref-BouchaudPotters\" class=\"reference\"><a href=\"#cite_note-BouchaudPotters\"><span>[</span>2<span>]</span></a></sup>.\n",
    "\n",
    "* We analyze 16 days of CSCO trade data from 01-Aug-2018 to 22-Aug-2018\n",
    " * over 350,000 trades.\n",
    "* We compute price changes over intervals of a given number of trades. \n"
   ]
  },
  {
   "cell_type": "markdown",
   "metadata": {
    "slideshow": {
     "slide_type": "fragment"
    }
   },
   "source": [
    "### Price changes after 1,000 trades\n",
    "\n",
    "<h3><img src=\"http://mfe.baruch.cuny.edu/wp-content/uploads/2018/08/hist1000.png\" align = \"left\" width=600></h3>  \n",
    "\n"
   ]
  },
  {
   "cell_type": "markdown",
   "metadata": {
    "slideshow": {
     "slide_type": "fragment"
    }
   },
   "source": [
    "Figure 9: A histogram of CSCO price changes after 1,000 trades. The red line is a fit of the normal density.\n"
   ]
  },
  {
   "cell_type": "markdown",
   "metadata": {
    "slideshow": {
     "slide_type": "subslide"
    }
   },
   "source": [
    "* We see from Figure 13 that the empirical distribution of high-frequency returns in trading time has a high peak and fat tails.  \n",
    " * Contrast this with the claim of An&eacute; and Geman that returns in trading time are normal.\n",
    "* In Figure 14 below, we see that returns in trading time have fat tails.\n"
   ]
  },
  {
   "cell_type": "markdown",
   "metadata": {
    "slideshow": {
     "slide_type": "fragment"
    }
   },
   "source": [
    "### Log-log plot of CSCO prices changes\n",
    "\n",
    "<h3><img src=\"http://mfe.baruch.cuny.edu/wp-content/uploads/2018/08/dt1000.png\" align = \"left\" width=600></h3>  "
   ]
  },
  {
   "cell_type": "markdown",
   "metadata": {
    "slideshow": {
     "slide_type": "fragment"
    }
   },
   "source": [
    "Figure 10: The green line is a (power-law) fit to the blue points; the slope is around $-4.05$, completely consistent with the cubic law.  The orange curve is the fitted normal density.\n",
    "\n"
   ]
  },
  {
   "cell_type": "markdown",
   "metadata": {
    "slideshow": {
     "slide_type": "slide"
    }
   },
   "source": [
    "### The Gabaix (2006) market impact explanation of the cubic law\n",
    "\n",
    "\n",
    "\n",
    "The argument of Gabaix<sup id=\"cite_ref-Gabaix\" class=\"reference\"><a href=\"#cite_note-Gabaix\"><span>[</span>5<span>]</span></a></sup> goes as follows:\n",
    "\n",
    "\n",
    "Market impact is proportional to the square-root of trade size so\n",
    "$$\n",
    "\\frac{\\Delta S}{S} \\sim \\sqrt{V}$$\n",
    "\n",
    "Then, the  dollar cost of a trade $\\sim  V^{3/2}$.  It seems reasonable to suppose that the average dollar impact of a fund's trades should be proportional to the size $X$ of the fund.  So\n",
    "\n",
    "$$\n",
    " V^{3/2} \\sim X; \\,V \\sim X^{2/3}\n",
    "$$\n",
    "\n",
    "Fund sizes are assumed to be Zipf-distributed so $\\zeta_X \\approx 1$.  "
   ]
  },
  {
   "cell_type": "markdown",
   "metadata": {
    "slideshow": {
     "slide_type": "subslide"
    }
   },
   "source": [
    "Applying the rule from above\n",
    "$$\n",
    "\\zeta_{X^\\alpha}=\\frac{\\zeta_{X}}{\\alpha},\n",
    "$$\n",
    "gives\n",
    "$$\n",
    "\\zeta_V=\\frac{\\zeta_X}{2/3}=\\frac{3}{2}\n",
    "$$\n",
    "\n",
    "The price return $r$ satisfies\n",
    "$$\n",
    "r=\\frac{\\Delta S}{S} \\sim \\sqrt{V} \\sim X^{1/3}\n",
    "$$\n",
    "and applying the same rule again gives\n",
    "$$\n",
    "\\zeta_r=\\frac{\\zeta_X}{{1}/{3}}=3\n",
    "$$\n",
    "both consistent with empirical estimates."
   ]
  },
  {
   "cell_type": "markdown",
   "metadata": {
    "slideshow": {
     "slide_type": "slide"
    }
   },
   "source": [
    "### Distribution of CSCO trade sizes\n",
    "\n",
    "<h3><img src=\"http://mfe.baruch.cuny.edu/wp-content/uploads/2018/08/cscoSize.png\" align = \"left\" width=600></h3> \n",
    "\n"
   ]
  },
  {
   "cell_type": "markdown",
   "metadata": {
    "slideshow": {
     "slide_type": "fragment"
    }
   },
   "source": [
    "Figure 11: CSCO on 07-Sep-2006: Distribution of trade sizes.  The orange line is a power-law fit to the blue points; the slope is roughly -3.07 which is not entirely inconsistent with -5/2."
   ]
  },
  {
   "cell_type": "markdown",
   "metadata": {
    "slideshow": {
     "slide_type": "slide"
    }
   },
   "source": [
    "### Distribution of trade sizes for four French stocks\n",
    "\n",
    "<h3><img src=\"http://mfe.baruch.cuny.edu/wp-content/uploads/2014/07/ChakrabortiFig14.png\" align = \"left\" width=600></h3>"
   ]
  },
  {
   "cell_type": "markdown",
   "metadata": {
    "slideshow": {
     "slide_type": "fragment"
    }
   },
   "source": [
    "Figure 12: Data from 1-Oct-2007 to 30-May-2008: Distribution of market order sizes (from Chakraborti et al.<sup id=\"cite_ref-Chakraborti\" class=\"reference\"><a href=\"#cite_note-Chakraborti\"><span>[</span>3<span>]</span></a></sup>)"
   ]
  },
  {
   "cell_type": "markdown",
   "metadata": {
    "slideshow": {
     "slide_type": "fragment"
    }
   },
   "source": [
    "- An exponent of roughly $5/2$ in the tail of the density corresponds to a power-law tail in the CDF of approximately 3/2, consistent with the Gabaix story."
   ]
  },
  {
   "cell_type": "markdown",
   "metadata": {
    "slideshow": {
     "slide_type": "slide"
    }
   },
   "source": [
    "## Financial time series: stylized facts\n",
    "\n",
    "From Cont (2001)<sup id=\"cite_ref-Cont2001\" class=\"reference\"><a href=\"#cite_note-Cont2001\"><span>[</span>5<span>]</span></a></sup>:\n",
    "\n",
    ">the seemingly \n",
    "random variations of asset prices do share some quite non-trivial statistical properties. Such properties, common across \n",
    "a wide range of instruments, markets and time periods are \n",
    "called *stylized empirical facts*.\n",
    "\n"
   ]
  },
  {
   "cell_type": "markdown",
   "metadata": {
    "slideshow": {
     "slide_type": "subslide"
    }
   },
   "source": [
    "Cont (2001)<sup id=\"cite_ref-Cont2001\" class=\"reference\"><a href=\"#cite_note-Cont2001\"><span>[</span>4<span>]</span></a></sup> lists the following stylized facts\n",
    "\n",
    "-  **Absence of autocorrelation**: (linear) autocorrelations \n",
    "of asset returns are often insigniﬁcant, except for very \n",
    "small intraday time scales.\n",
    "\n",
    "\n",
    "- **Heavy tails**: the (unconditional) distribution of returns \n",
    "seems to display a power-law or Pareto-like tail, with \n",
    "a tail index which is finite, higher than two and less \n",
    "than five for most data sets studied. In particular this \n",
    "excludes stable laws with infinite variance and the normal \n",
    "distribution."
   ]
  },
  {
   "cell_type": "markdown",
   "metadata": {
    "slideshow": {
     "slide_type": "subslide"
    }
   },
   "source": [
    "- **Gain/loss asymmetry**: one observes large drawdowns in \n",
    "stock prices and stock index values but not equally large \n",
    "upward movements. \n",
    "\n",
    "\n",
    "- **Aggregational Gaussianity**: as one increases the \n",
    "time scale $\\Delta t$ over which returns are calculated, \n",
    "their distribution looks more and more like a normal \n",
    "distribution. In particular, the shape of the distribution \n",
    "is not the same at different time scales. "
   ]
  },
  {
   "cell_type": "markdown",
   "metadata": {
    "slideshow": {
     "slide_type": "subslide"
    }
   },
   "source": [
    "- **Intermittency**: returns display, at any time scale, a high \n",
    "degree of variability. This is quantiﬁed by the presence of \n",
    "irregular bursts in time series of a wide variety of volatility \n",
    "estimators. \n",
    "\n",
    "\n",
    "- **Volatility clustering**:\n",
    "different measures of volatility \n",
    "display a positive autocorrelation over several days, which \n",
    "quantiﬁes the fact that high-volatility events tend to cluster \n",
    "in time. "
   ]
  },
  {
   "cell_type": "markdown",
   "metadata": {
    "slideshow": {
     "slide_type": "subslide"
    }
   },
   "source": [
    "- **Conditional heavy tails**: \n",
    "even after correcting returns for \n",
    "volatility clustering (e.g. via GARCH-type models), the \n",
    "residual time series still exhibit heavy tails. However, the \n",
    "tails are less heavy than in the unconditional distribution \n",
    "of returns. \n",
    "\n",
    "\n",
    "- **Slow decay of autocorrelation in absolute returns**:\n",
    " the \n",
    "autocorrelation function of absolute returns decays slowly \n",
    "as a function of the time lag, roughly as a power law with \n",
    "an exponent $\\beta \\in [0.2, 0.4]$. This is sometimes interpreted \n",
    "as a sign of long-range dependence. "
   ]
  },
  {
   "cell_type": "markdown",
   "metadata": {
    "slideshow": {
     "slide_type": "subslide"
    }
   },
   "source": [
    "- **Leverage effect**: \n",
    "most measures of volatility of an asset are negatively correlated with the returns of that asset.\n",
    "\n",
    "\n",
    "- **Volatility/volume correlation**:trading volume is \n",
    "correlated with all measures of volatility. \n",
    "\n",
    "\n",
    "- **Asymmetry in time scales**:\n",
    "coarse-grained measures of \n",
    "volatility predict fine-scale volatility better than the other \n",
    "way round. "
   ]
  },
  {
   "cell_type": "markdown",
   "metadata": {
    "slideshow": {
     "slide_type": "subslide"
    }
   },
   "source": [
    "To quote Rama Cont again, \n",
    "\n",
    ">these stylized facts are so constraining that\n",
    "it is not easy to exhibit even an *ad hoc* stochastic process\n",
    "which possesses the same set of properties and one has to go to\n",
    "great lengths to reproduce them with a model."
   ]
  },
  {
   "cell_type": "markdown",
   "metadata": {
    "slideshow": {
     "slide_type": "slide"
    }
   },
   "source": [
    "### Time series of SPX log-returns: Volatility clustering"
   ]
  },
  {
   "cell_type": "code",
   "execution_count": 18,
   "metadata": {
    "slideshow": {
     "slide_type": "fragment"
    }
   },
   "outputs": [],
   "source": [
    "ret1 <- ret.spx[\"19980101::\"] #Subset returns to include only the modern era"
   ]
  },
  {
   "cell_type": "code",
   "execution_count": 19,
   "metadata": {
    "slideshow": {
     "slide_type": "fragment"
    }
   },
   "outputs": [
    {
     "data": {},
     "metadata": {},
     "output_type": "display_data"
    },
    {
     "data": {
      "image/png": "[encoded data removed]",
      "text/plain": [
       "plot without title"
      ]
     },
     "metadata": {},
     "output_type": "display_data"
    }
   ],
   "source": [
    "plot(ret1,main=NA,col=\"red\")"
   ]
  },
  {
   "cell_type": "markdown",
   "metadata": {
    "slideshow": {
     "slide_type": "fragment"
    }
   },
   "source": [
    "Figure 13: Daily log-returns of SPX. Note the intermittency and volatility clustering!"
   ]
  },
  {
   "cell_type": "markdown",
   "metadata": {
    "slideshow": {
     "slide_type": "slide"
    }
   },
   "source": [
    "### Autocorrelation of SPX returns"
   ]
  },
  {
   "cell_type": "code",
   "execution_count": 20,
   "metadata": {
    "slideshow": {
     "slide_type": "fragment"
    }
   },
   "outputs": [
    {
     "data": {
      "image/png": "[encoded data removed]",
      "text/plain": [
       "Plot with title \"NA\""
      ]
     },
     "metadata": {},
     "output_type": "display_data"
    }
   ],
   "source": [
    "acf.r <- acf(ret1,main=NA)"
   ]
  },
  {
   "cell_type": "markdown",
   "metadata": {
    "slideshow": {
     "slide_type": "fragment"
    }
   },
   "source": [
    "Figure 14: No significant autocorrelation in returns.\n"
   ]
  },
  {
   "cell_type": "markdown",
   "metadata": {
    "slideshow": {
     "slide_type": "slide"
    }
   },
   "source": [
    "### Autocorrelation of SPX absolute returns\n",
    "\n",
    "It is a stylized fact that the autocorrelation function (ACF) of absolute log-returns decays as a power-law. However, we will see below that this widespread belief is probably not justified."
   ]
  },
  {
   "cell_type": "code",
   "execution_count": 21,
   "metadata": {
    "slideshow": {
     "slide_type": "fragment"
    }
   },
   "outputs": [],
   "source": [
    "acf.rabs <- acf(abs(ret1),main=NA,plot=F)\n",
    "logacf.rabs <- log(acf.rabs$acf)[-1]  \n",
    "loglag.rabs <- log(acf.rabs$lag)[-1] "
   ]
  },
  {
   "cell_type": "code",
   "execution_count": 22,
   "metadata": {
    "slideshow": {
     "slide_type": "subslide"
    }
   },
   "outputs": [
    {
     "name": "stdout",
     "output_type": "stream",
     "text": [
      "\n",
      "Call:\n",
      "lm(formula = logacf.rabs[-(1:15)] ~ loglag.rabs[-(1:15)])\n",
      "\n",
      "Coefficients:\n",
      "         (Intercept)  loglag.rabs[-(1:15)]  \n",
      "             -0.5016               -0.3150  \n",
      "\n"
     ]
    },
    {
     "data": {
      "image/png": "[encoded data removed]",
      "text/plain": [
       "plot without title"
      ]
     },
     "metadata": {},
     "output_type": "display_data"
    }
   ],
   "source": [
    "plot(loglag.rabs,logacf.rabs,xlab=\"log(lag)\",ylab=\"log(acf)\",pch=20,col=\"blue\") \n",
    "print(acfrabs.lm <- lm(logacf.rabs[-(1:15)]~loglag.rabs[-(1:15)]) )\n",
    "abline(acfrabs.lm,col=\"red\",lwd=2) "
   ]
  },
  {
   "cell_type": "markdown",
   "metadata": {
    "slideshow": {
     "slide_type": "fragment"
    }
   },
   "source": [
    "Figure 15: Slope of fit is around $-0.31$.  \n",
    "\n",
    "- It is often concluded from fits like this that the autocorrelation function of volatility decays roughly as $t^{-\\alpha}$ with $\\alpha \\approx 0.3$."
   ]
  },
  {
   "cell_type": "markdown",
   "metadata": {
    "slideshow": {
     "slide_type": "slide"
    }
   },
   "source": [
    "### Autocorrelation of SPX squared returns"
   ]
  },
  {
   "cell_type": "code",
   "execution_count": 23,
   "metadata": {
    "slideshow": {
     "slide_type": "fragment"
    }
   },
   "outputs": [
    {
     "data": {
      "text/plain": [
       "\n",
       "Call:\n",
       "lm(formula = logacf.r2[-(1:15)] ~ loglag.r2[-(1:15)])\n",
       "\n",
       "Coefficients:\n",
       "       (Intercept)  loglag.r2[-(1:15)]  \n",
       "           0.09887            -0.54685  \n"
      ]
     },
     "metadata": {},
     "output_type": "display_data"
    },
    {
     "data": {
      "image/png": "[encoded data removed]",
      "text/plain": [
       "plot without title"
      ]
     },
     "metadata": {},
     "output_type": "display_data"
    }
   ],
   "source": [
    "acf.r2 <- acf(ret1^2,main=NA,plot=F)\n",
    "logacf.r2 <- log(acf.r2$acf)[-1]  \n",
    "loglag.r2 <- log(acf.r2$lag)[-1] \n",
    "plot(loglag.r2,logacf.r2,xlab=\"log(lag)\",ylab=\"log(acf)\",pch=20,col=\"blue\") \n",
    "(acfr2.lm <- lm(logacf.r2[-(1:15)]~loglag.r2[-(1:15)]) )\n",
    "abline(acfr2.lm,col=\"red\") "
   ]
  },
  {
   "cell_type": "markdown",
   "metadata": {
    "slideshow": {
     "slide_type": "fragment"
    }
   },
   "source": [
    "Figure 16: Slope of fit is around $-0.55$ so autocorrelation seems to decay roughly as $1/\\sqrt{t}$."
   ]
  },
  {
   "cell_type": "markdown",
   "metadata": {
    "slideshow": {
     "slide_type": "slide"
    }
   },
   "source": [
    "### The autocorrelation function of volatility\n",
    "\n",
    "Absolute daily log-returns are (very) noisy proxies for daily volatilities $\\sigma_t$ and squared daily log-returns are (very) noisy proxies for daily variances $\\sigma_t^2$.  Gatheral and Oomen <sup id=\"cite_ref-GO\" class=\"reference\"><a href=\"#cite_note-GO\"><span>[</span>7<span>]</span></a></sup> (for example) show how tick data can be used to obtain more accurate estimates of daily realized variance $\\sigma_r^2$.\n",
    "\n",
    "The Oxford-Man Institute of Quantitative Finance makes historical realized variance estimates for 21 different stock indices freely available at http://realized.oxford-man.ox.ac.uk.  These estimates are updated daily. We may then investigate the time series properties of $\\sigma_t^2$ empirically.\n"
   ]
  },
  {
   "cell_type": "markdown",
   "metadata": {
    "slideshow": {
     "slide_type": "slide"
    }
   },
   "source": [
    "### Decay of the volatility ACF\n",
    "\n",
    "As noted earlier, that the autocorrelation function of volatility decays as a power-law is more or less established as a stylized fact.  According to our recent work<sup id=\"cite_ref-GJR\" class=\"reference\"><a href=\"#cite_note-GJR\"><span>[</span>6<span>]</span></a></sup> on rough volatility using such realized variance time series, the empirical ACF of volatility does not decay as a power-law. \n",
    "\n",
    "In fact, SPX realized variance has the following amazingly simple scaling property:\n",
    "\n",
    "$$\n",
    "m(q,\\Delta) := \\angl{|\\log \\sigma_{t+\\Delta}-\\log \\sigma_t|^q}\n",
    "=A\\, \\Delta^{q\\,H} \n",
    "$$\n",
    "\n",
    "where $\\angl{\\cdot}$ denotes a sample average.  \n",
    "\n",
    "This simple scaling property holds for all 31 indices in the Oxford-Man dataset.  We have also checked that it holds for crude oil, gold and Bund futures.  For SPX over 18 years, $H \\approx 0.14$ and $A \\approx 0.38$."
   ]
  },
  {
   "cell_type": "markdown",
   "metadata": {
    "slideshow": {
     "slide_type": "subslide"
    }
   },
   "source": [
    "The autocorrelation function of realized variance is well fitted by the functional form\n",
    "\n",
    "<a name=\"eq:ACF\"></a>(2)\n",
    "$$\n",
    "\\rho(\\Delta)\\sim e^{- \\frac12\\,\\nu^2\\,\\Delta^{2\\,H}}.\n",
    "$$"
   ]
  },
  {
   "cell_type": "markdown",
   "metadata": {
    "slideshow": {
     "slide_type": "slide"
    }
   },
   "source": [
    "### Predicted vs empirical autocorrelation function\n",
    "\n",
    "- Squared returns can be regarded as just very noisy estimates of integrated variance.\n",
    "\n",
    "- It therefore makes sense to superimpose the functional form [(2)](#eq:ACF) of $\\rho(\\Delta)$ on the empirical ACF of squared returns."
   ]
  },
  {
   "cell_type": "code",
   "execution_count": 24,
   "metadata": {
    "slideshow": {
     "slide_type": "fragment"
    }
   },
   "outputs": [],
   "source": [
    "h.spx <- 0.14\n",
    "\n",
    "y <- logacf.rabs\n",
    "x <- acf.rabs$lag[-1]^(2*h.spx)\n",
    "\n",
    "fit.lm <- lm(y[-1]~x[-1])\n",
    "a <- fit.lm$coef[1]\n",
    "b <- fit.lm$coef[2]"
   ]
  },
  {
   "cell_type": "code",
   "execution_count": 25,
   "metadata": {
    "slideshow": {
     "slide_type": "subslide"
    }
   },
   "outputs": [
    {
     "data": {
      "image/png": "[encoded data removed]",
      "text/plain": [
       "plot without title"
      ]
     },
     "metadata": {},
     "output_type": "display_data"
    }
   ],
   "source": [
    "plot(loglag.rabs,logacf.rabs,xlab=\"log(lag)\",ylab=\"log(acf)\",pch=20,col=\"blue\",xlim=c(0,4.5)) \n",
    "abline(acfrabs.lm,col=\"red\",lwd=2) \n",
    "curve(a+b*exp(x*2*h.spx),from=0,to=4.5,add=T,col=\"green4\",lwd=2)"
   ]
  },
  {
   "cell_type": "markdown",
   "metadata": {
    "slideshow": {
     "slide_type": "fragment"
    }
   },
   "source": [
    "Figure 17: The red line is the conventional linear fit; the green line is the rough volatilty prediction [(2)](#eq:ACF) ."
   ]
  },
  {
   "cell_type": "markdown",
   "metadata": {
    "slideshow": {
     "slide_type": "slide"
    }
   },
   "source": [
    "### Log returns of VIX\n",
    "\n",
    "VIX can be thought of as a measure of volatility smoothed over one month. Let's look at the distribution of VIX log-returns."
   ]
  },
  {
   "cell_type": "code",
   "execution_count": 26,
   "metadata": {
    "slideshow": {
     "slide_type": "fragment"
    }
   },
   "outputs": [],
   "source": [
    "vix <- spxVixData[,\"Cl.VIX\"]\n",
    "spx <- spxVixData[,\"Cl.GSPC\"]\n",
    "\n",
    "retVIX <- as.numeric(diff(log(vix))[-1])\n",
    "retSPX <- as.numeric(diff(log(spx))[-1])\n",
    "\n",
    "sdVIX <- as.numeric(sd(retVIX)) "
   ]
  },
  {
   "cell_type": "code",
   "execution_count": 27,
   "metadata": {
    "slideshow": {
     "slide_type": "subslide"
    }
   },
   "outputs": [
    {
     "data": {
      "image/png": "[encoded data removed]",
      "text/plain": [
       "Plot with title \"Histogram of retVIX\""
      ]
     },
     "metadata": {},
     "output_type": "display_data"
    }
   ],
   "source": [
    "hist(retVIX,breaks = 100,freq=F)\n",
    "scale <- function(nu){sqrt(nu/(nu-2))} \n",
    "curve(dt(x*scale(4)/sdVIX,df=4)*scale(4)/sdVIX,from=-.3,to=.3,col=\"red\",lwd=2, add=T)\n",
    "curve(dnorm(x,mean=0,sd=sdVIX),from=-.3,to=.3,col=\"blue\", lwd=2,add=T) "
   ]
  },
  {
   "cell_type": "markdown",
   "metadata": {
    "slideshow": {
     "slide_type": "fragment"
    }
   },
   "source": [
    "Figure 18: Log-returns of VIX are somewhat less fat-tailed than log-returns of SPX."
   ]
  },
  {
   "cell_type": "markdown",
   "metadata": {
    "slideshow": {
     "slide_type": "slide"
    }
   },
   "source": [
    "### VIX vs SPX\n",
    "\n",
    "We now regress log-returns of VIX against log-returns of SPX."
   ]
  },
  {
   "cell_type": "code",
   "execution_count": 28,
   "metadata": {
    "slideshow": {
     "slide_type": "fragment"
    }
   },
   "outputs": [
    {
     "name": "stdout",
     "output_type": "stream",
     "text": [
      "[1] -0.7072323\n"
     ]
    }
   ],
   "source": [
    "fit.spxvix <- lm(retVIX~retSPX)\n",
    "\n",
    "print(cor(retVIX,retSPX)) # Gets correlation"
   ]
  },
  {
   "cell_type": "code",
   "execution_count": 29,
   "metadata": {
    "slideshow": {
     "slide_type": "subslide"
    }
   },
   "outputs": [
    {
     "data": {
      "image/png": "[encoded data removed]",
      "text/plain": [
       "plot without title"
      ]
     },
     "metadata": {},
     "output_type": "display_data"
    }
   ],
   "source": [
    "# Scatter plot + fit\n",
    "plot(retSPX,retVIX,xlab=\"SPX log returns\",ylab=\"VIX log returns\",pch=20,col=\"blue\")\n",
    "abline(fit.spxvix,col=\"red\",lwd=2)\n"
   ]
  },
  {
   "cell_type": "markdown",
   "metadata": {
    "slideshow": {
     "slide_type": "fragment"
    }
   },
   "source": [
    "Figure 19: Regression of VIX log-returns vs SPX log-returns.\n",
    "\n",
    "- Note the negative correlation $\\approx -0.7$ - similar to the correlation implied from fits of stochastic volatility models to option prices."
   ]
  },
  {
   "cell_type": "markdown",
   "metadata": {
    "slideshow": {
     "slide_type": "slide"
    }
   },
   "source": [
    "## Volatility surface stylized properties\n",
    "\n",
    "Having studied some properties of financial time series, let's now look at some stylized properties of volatility surfaces."
   ]
  },
  {
   "cell_type": "markdown",
   "metadata": {
    "slideshow": {
     "slide_type": "slide"
    }
   },
   "source": [
    "### Smiles as of 15-Sep-2005\n",
    "\n",
    "We see that the graph of implied volatility vs log-strike looks like a skewed smile.  Some people say \"smirk\".\n",
    "\n",
    "<h3><img src=\"http://mfe.baruch.cuny.edu/wp-content/uploads/2014/07/spxVols050915.png\" align = \"left\" width=900></h3> "
   ]
  },
  {
   "cell_type": "markdown",
   "metadata": {
    "slideshow": {
     "slide_type": "fragment"
    }
   },
   "source": [
    "Figure 20: SPX volatility smiles as of September 15, 2005."
   ]
  },
  {
   "cell_type": "markdown",
   "metadata": {
    "slideshow": {
     "slide_type": "slide"
    }
   },
   "source": [
    "### Interpreting the smile\n",
    "\n",
    "Given a volatility smile for a particular time to expiration, there is very little that can be deduced about the underlying dynamics:\n",
    "\n",
    "- The realized variance (quadratic variation) of the underlying from now to expiration is uncertain.\n",
    "\n",
    "- As the underlying price decreases, volatility tends to increase (anticorrelation of underlying moves and volatility moves)."
   ]
  },
  {
   "cell_type": "markdown",
   "metadata": {
    "slideshow": {
     "slide_type": "slide"
    }
   },
   "source": [
    "### 3D plot\n",
    "\n",
    "Interpolating by time to expiration, we obtain the following picture of the SPX volatility surface as of the close on September 15, 2005.  $k:=\\log{K/F}$ is the log-strike and $t$ is time to expiry in years.\n",
    "\n",
    "<h3><img src=\"http://mfe.baruch.cuny.edu/wp-content/uploads/2014/07/SA2009plot3D.png\" align = \"left\" width=900></h3> \n",
    "\n"
   ]
  },
  {
   "cell_type": "markdown",
   "metadata": {
    "slideshow": {
     "slide_type": "fragment"
    }
   },
   "source": [
    "Figure 21: The SPX volatility surface as of September 15, 2005."
   ]
  },
  {
   "cell_type": "markdown",
   "metadata": {
    "slideshow": {
     "slide_type": "slide"
    }
   },
   "source": [
    "### At-the-money (ATM) volatility skew\n",
    "\n",
    "For a given time to expiration $T$, we define the ATM volatility skew\n",
    "\n",
    "$$\n",
    "\\psi(T) = \\left. \\frac{\\partial}{\\partial k} \\sigma_{\\text{BS}}(k,T) \\right|_{k=0}.\n",
    "$$\n",
    "\n",
    "It turns out that the observed term structure of $\\psi$ in consistent with only a very restricted class of stochastic volatility models, and is in fact inconsistent with all conventional stochastic volatility models, including those with jumps."
   ]
  },
  {
   "cell_type": "markdown",
   "metadata": {
    "slideshow": {
     "slide_type": "slide"
    }
   },
   "source": [
    "### Observed term structure of ATM volatility skew\n",
    "\n",
    "We study a period of history over which the ATM skew was relatively stable."
   ]
  },
  {
   "cell_type": "code",
   "execution_count": 30,
   "metadata": {
    "slideshow": {
     "slide_type": "fragment"
    }
   },
   "outputs": [],
   "source": [
    "download.file(url=\"http://mfe.baruch.cuny.edu/wp-content/uploads/2015/08/9875-1.zip\", destfile=\"9875-1.zip\")\n",
    "unzip(zipfile=\"9875-1.zip\")"
   ]
  },
  {
   "cell_type": "code",
   "execution_count": 31,
   "metadata": {
    "slideshow": {
     "slide_type": "fragment"
    }
   },
   "outputs": [],
   "source": [
    "load(\"spxAtmVolSkew2010.rData\")"
   ]
  },
  {
   "cell_type": "code",
   "execution_count": 32,
   "metadata": {
    "slideshow": {
     "slide_type": "fragment"
    }
   },
   "outputs": [],
   "source": [
    "vsl <- volSkewList2010\n",
    "n <- length(names(vsl))\n",
    "\n",
    "mycol <- rainbow(n)"
   ]
  },
  {
   "cell_type": "code",
   "execution_count": 33,
   "metadata": {
    "slideshow": {
     "slide_type": "subslide"
    }
   },
   "outputs": [
    {
     "data": {
      "image/png": "[encoded data removed]",
      "text/plain": [
       "plot without title"
      ]
     },
     "metadata": {},
     "output_type": "display_data"
    }
   ],
   "source": [
    "plot(vsl[[1]]$texp,abs(vsl[[1]]$atmSkew),col=mycol[1],pch=20,cex=0.1,xlim=c(0,2.6),\n",
    "     xlab=expression(paste(\"Expiration \",tau)),ylab=expression(psi(tau)))\n",
    "for (i in 2:n){\n",
    "    points(vsl[[i]]$texp,abs(vsl[[i]]$atmSkew),col=mycol[i],pch=20,cex=0.1)\n",
    "}"
   ]
  },
  {
   "cell_type": "markdown",
   "metadata": {
    "slideshow": {
     "slide_type": "fragment"
    }
   },
   "source": [
    "Figure 22: Decay of ATM skew (red dots) with respect to time to expiration.  Data is SPX from 01-Jun-2010 to 01-Jun-2011."
   ]
  },
  {
   "cell_type": "markdown",
   "metadata": {
    "slideshow": {
     "slide_type": "slide"
    }
   },
   "source": [
    "### A shorter even more stable period"
   ]
  },
  {
   "cell_type": "code",
   "execution_count": 34,
   "metadata": {
    "slideshow": {
     "slide_type": "fragment"
    }
   },
   "outputs": [
    {
     "data": {
      "text/html": [
       "<strong>$`20110525`</strong> = <table>\n",
       "<thead><tr><th scope=col>texp</th><th scope=col>atmVol</th><th scope=col>atmSkew</th></tr></thead>\n",
       "<tbody>\n",
       "\t<tr><td>0.002737851</td><td>0.2192636  </td><td>-3.0149283 </td></tr>\n",
       "\t<tr><td>0.062970568</td><td>0.1426870  </td><td>-0.8773126 </td></tr>\n",
       "\t<tr><td>0.095824778</td><td>0.1516852  </td><td>-0.7840320 </td></tr>\n",
       "\t<tr><td>0.139630390</td><td>0.1523736  </td><td>-0.6622743 </td></tr>\n",
       "\t<tr><td>0.235455168</td><td>0.1628832  </td><td>-0.5254140 </td></tr>\n",
       "\t<tr><td>0.312114990</td><td>0.1696078  </td><td>-0.4650097 </td></tr>\n",
       "\t<tr><td>0.347707050</td><td>0.1746546  </td><td>-0.4554276 </td></tr>\n",
       "\t<tr><td>0.561259411</td><td>0.1869223  </td><td>-0.3884290 </td></tr>\n",
       "\t<tr><td>0.596851472</td><td>0.1880972  </td><td>-0.3765237 </td></tr>\n",
       "\t<tr><td>0.810403833</td><td>0.1960207  </td><td>-0.3406099 </td></tr>\n",
       "\t<tr><td>0.845995893</td><td>0.1976195  </td><td>-0.3254442 </td></tr>\n",
       "\t<tr><td>1.059548255</td><td>0.2021622  </td><td>-0.3050885 </td></tr>\n",
       "\t<tr><td>1.577002053</td><td>0.2090098  </td><td>-0.2850876 </td></tr>\n",
       "\t<tr><td>2.573579740</td><td>0.2203062  </td><td>-0.2213770 </td></tr>\n",
       "</tbody>\n",
       "</table>\n"
      ],
      "text/latex": [
       "\\textbf{\\$`20110525`} = \\begin{tabular}{r|lll}\n",
       " texp & atmVol & atmSkew\\\\\n",
       "\\hline\n",
       "\t 0.002737851 & 0.2192636   & -3.0149283 \\\\\n",
       "\t 0.062970568 & 0.1426870   & -0.8773126 \\\\\n",
       "\t 0.095824778 & 0.1516852   & -0.7840320 \\\\\n",
       "\t 0.139630390 & 0.1523736   & -0.6622743 \\\\\n",
       "\t 0.235455168 & 0.1628832   & -0.5254140 \\\\\n",
       "\t 0.312114990 & 0.1696078   & -0.4650097 \\\\\n",
       "\t 0.347707050 & 0.1746546   & -0.4554276 \\\\\n",
       "\t 0.561259411 & 0.1869223   & -0.3884290 \\\\\n",
       "\t 0.596851472 & 0.1880972   & -0.3765237 \\\\\n",
       "\t 0.810403833 & 0.1960207   & -0.3406099 \\\\\n",
       "\t 0.845995893 & 0.1976195   & -0.3254442 \\\\\n",
       "\t 1.059548255 & 0.2021622   & -0.3050885 \\\\\n",
       "\t 1.577002053 & 0.2090098   & -0.2850876 \\\\\n",
       "\t 2.573579740 & 0.2203062   & -0.2213770 \\\\\n",
       "\\end{tabular}\n"
      ],
      "text/markdown": [
       "**$`20110525`** = \n",
       "texp | atmVol | atmSkew | \n",
       "|---|---|---|---|---|---|---|---|---|---|---|---|---|---|\n",
       "| 0.002737851 | 0.2192636   | -3.0149283  | \n",
       "| 0.062970568 | 0.1426870   | -0.8773126  | \n",
       "| 0.095824778 | 0.1516852   | -0.7840320  | \n",
       "| 0.139630390 | 0.1523736   | -0.6622743  | \n",
       "| 0.235455168 | 0.1628832   | -0.5254140  | \n",
       "| 0.312114990 | 0.1696078   | -0.4650097  | \n",
       "| 0.347707050 | 0.1746546   | -0.4554276  | \n",
       "| 0.561259411 | 0.1869223   | -0.3884290  | \n",
       "| 0.596851472 | 0.1880972   | -0.3765237  | \n",
       "| 0.810403833 | 0.1960207   | -0.3406099  | \n",
       "| 0.845995893 | 0.1976195   | -0.3254442  | \n",
       "| 1.059548255 | 0.2021622   | -0.3050885  | \n",
       "| 1.577002053 | 0.2090098   | -0.2850876  | \n",
       "| 2.573579740 | 0.2203062   | -0.2213770  | \n",
       "\n",
       "\n"
      ],
      "text/plain": [
       "$`20110525`\n",
       "          texp    atmVol    atmSkew\n",
       "1  0.002737851 0.2192636 -3.0149283\n",
       "2  0.062970568 0.1426870 -0.8773126\n",
       "3  0.095824778 0.1516852 -0.7840320\n",
       "4  0.139630390 0.1523736 -0.6622743\n",
       "5  0.235455168 0.1628832 -0.5254140\n",
       "6  0.312114990 0.1696078 -0.4650097\n",
       "7  0.347707050 0.1746546 -0.4554276\n",
       "8  0.561259411 0.1869223 -0.3884290\n",
       "9  0.596851472 0.1880972 -0.3765237\n",
       "10 0.810403833 0.1960207 -0.3406099\n",
       "11 0.845995893 0.1976195 -0.3254442\n",
       "12 1.059548255 0.2021622 -0.3050885\n",
       "13 1.577002053 0.2090098 -0.2850876\n",
       "14 2.573579740 0.2203062 -0.2213770\n"
      ]
     },
     "metadata": {},
     "output_type": "display_data"
    }
   ],
   "source": [
    "vsl <- volSkewList2010[201:250]\n",
    "volSkewList2010[250]\n",
    "n <- length(names(vsl))"
   ]
  },
  {
   "cell_type": "code",
   "execution_count": 35,
   "metadata": {
    "slideshow": {
     "slide_type": "subslide"
    }
   },
   "outputs": [
    {
     "data": {
      "image/png": "[encoded data removed]",
      "text/plain": [
       "plot without title"
      ]
     },
     "metadata": {},
     "output_type": "display_data"
    }
   ],
   "source": [
    "plot(vsl[[1]]$texp,abs(vsl[[1]]$atmSkew),col=\"red\",pch=20,cex=0.1,xlim=c(0,2.6),\n",
    "     xlab=expression(paste(\"Expiration \",tau)),ylab=expression(psi(tau)))\n",
    "for (i in 2:n){\n",
    "    points(vsl[[i]]$texp,abs(vsl[[i]]$atmSkew),col=\"red\",pch=20,cex=0.1)\n",
    "}"
   ]
  },
  {
   "cell_type": "markdown",
   "metadata": {
    "slideshow": {
     "slide_type": "fragment"
    }
   },
   "source": [
    "Figure 23: Decay of ATM skew (red dots) with respect to time to expiration.  Data is SPX from 16-Mar-2011 to 25-May-2011."
   ]
  },
  {
   "cell_type": "markdown",
   "metadata": {
    "slideshow": {
     "slide_type": "slide"
    }
   },
   "source": [
    "### Log-log plot of empirical ATM skew"
   ]
  },
  {
   "cell_type": "code",
   "execution_count": 36,
   "metadata": {
    "slideshow": {
     "slide_type": "fragment"
    }
   },
   "outputs": [],
   "source": [
    "lvsl.texp <- log(vsl[[1]]$texp)\n",
    "lvsl.atmSkew <- log(abs(vsl[[1]]$atmSkew))\n",
    "\n",
    "for (i in 2:n){\n",
    "    lvsl.texp <- c(lvsl.texp,log(vsl[[i]]$texp))\n",
    "    lvsl.atmSkew <- c(lvsl.atmSkew,log(abs(vsl[[i]]$atmSkew)))  \n",
    "}"
   ]
  },
  {
   "cell_type": "code",
   "execution_count": 37,
   "metadata": {
    "slideshow": {
     "slide_type": "fragment"
    }
   },
   "outputs": [
    {
     "name": "stdout",
     "output_type": "stream",
     "text": [
      "\n",
      "Call:\n",
      "lm(formula = lvsl.atmSkew[pick] ~ lvsl.texp[pick])\n",
      "\n",
      "Coefficients:\n",
      "    (Intercept)  lvsl.texp[pick]  \n",
      "        -1.1332          -0.3983  \n",
      "\n"
     ]
    }
   ],
   "source": [
    "pick <- (lvsl.texp > -3)\n",
    "print(fit.lm <- lm(lvsl.atmSkew[pick] ~ lvsl.texp[pick]))"
   ]
  },
  {
   "cell_type": "code",
   "execution_count": 38,
   "metadata": {
    "slideshow": {
     "slide_type": "subslide"
    }
   },
   "outputs": [
    {
     "data": {
      "image/png": "[encoded data removed]",
      "text/plain": [
       "plot without title"
      ]
     },
     "metadata": {},
     "output_type": "display_data"
    }
   ],
   "source": [
    "plot(lvsl.texp,lvsl.atmSkew,col=\"red\",pch=20,cex=0.5,\n",
    "     xlab=expression(paste(\"log \",tau)),ylab=expression(paste(\"log \", psi(tau))))\n",
    "abline(fit.lm,col=\"blue\",lwd=2)"
   ]
  },
  {
   "cell_type": "markdown",
   "metadata": {
    "slideshow": {
     "slide_type": "fragment"
    }
   },
   "source": [
    "Figure 24: Log-log plot of decay of ATM skew (red dots) with respect to time to expiration. "
   ]
  },
  {
   "cell_type": "markdown",
   "metadata": {
    "slideshow": {
     "slide_type": "slide"
    }
   },
   "source": [
    "### Plot of ATM skew with power-law fit"
   ]
  },
  {
   "cell_type": "code",
   "execution_count": 39,
   "metadata": {
    "slideshow": {
     "slide_type": "fragment"
    }
   },
   "outputs": [
    {
     "data": {
      "image/png": "[encoded data removed]",
      "text/plain": [
       "plot without title"
      ]
     },
     "metadata": {},
     "output_type": "display_data"
    }
   ],
   "source": [
    "plot(vsl[[1]]$texp,abs(vsl[[1]]$atmSkew),col=\"red\",pch=20,cex=0.1,xlim=c(0,2.6),\n",
    "     xlab=expression(paste(\"Expiration \",tau)),ylab=expression(psi(tau)))\n",
    "for (i in 2:n){\n",
    "    points(vsl[[i]]$texp,abs(vsl[[i]]$atmSkew),col=\"red\",pch=20,cex=0.1)\n",
    "}\n",
    "\n",
    "a <- fit.lm$coef[1]; b <- fit.lm$coef[2]\n",
    "curve(exp(a+b*log(x)),from=0,to=3,col=\"blue\",add=T,n=1000,lwd=2)"
   ]
  },
  {
   "cell_type": "markdown",
   "metadata": {
    "slideshow": {
     "slide_type": "fragment"
    }
   },
   "source": [
    "Figure 25: Log-log plot of decay of ATM skew (red dots) with respect to time to expiration.  Power-law fit $\\psi(\\tau) \\sim \\tau ^{-.3983}$ in blue.  Data is SPX from 16-Mar-2011 to 25-May-2011."
   ]
  },
  {
   "cell_type": "markdown",
   "metadata": {
    "slideshow": {
     "slide_type": "slide"
    }
   },
   "source": [
    "### Hedging European options\n",
    "\n",
    "From the definition of implied volatility $\\sigma_{\\text{BS}}(k,T)$, the market price of an option is given by\n",
    "\n",
    "$$\n",
    "C(S,K,T) = C_{\\text{BS}}(S,K,T,\\sigma_{\\text{BS}}(k,T))\n",
    "$$\n",
    "\n",
    "where $C_{\\text{BS}}$ denotes the Black-Scholes formula and $k=\\log K/S$ is the log-strike.\n",
    "\n",
    "To hedge options using the Black-Scholes formula, market makers need to hedge two effects:\n",
    "\n",
    "- The explicit spot effect \n",
    "$$\\frac{\\partial C}{\\partial S}\\,\\delta S$$\n",
    "\n",
    "and\n",
    "- The change in implied volatility conditional on a change in the spot \n",
    "\n",
    "$$\n",
    "\\frac{\\partial C}{\\partial \\sigma}\\,\\E \\left[{\\delta \\sigma | \\delta S}\\right].\n",
    "$$"
   ]
  },
  {
   "cell_type": "markdown",
   "metadata": {
    "slideshow": {
     "slide_type": "subslide"
    }
   },
   "source": [
    "ATM implied volatilities $\\sigma(T)=\\sigma_{\\text{BS}}(0,T)$ and stock prices are both observable so market makers can estimate the second component using a simple regression:\n",
    "\n",
    "$$\n",
    "\\delta \\sigma(T) =  \\beta(T)\\,\\frac{\\delta S}{S} + \\text{noise}.\n",
    "$$\n",
    "\n",
    "Then \n",
    "\n",
    "$$\n",
    "\\beta(T) = \\frac{\\E \\left[ \\delta \\sigma(T) | \\delta S\\right]}{\\delta S}.\n",
    "$$."
   ]
  },
  {
   "cell_type": "markdown",
   "metadata": {
    "slideshow": {
     "slide_type": "slide"
    }
   },
   "source": [
    "### The skew-stickiness ratio\n",
    "\n",
    "<span>[Bergomi]<sup id=\"cite_ref-Bergomi4\" class=\"reference\"><a href=\"#cite_note-Bergomi4\"><span>[</span>2<span>]</span></a></sup> calls \n",
    "$$\n",
    "\\mathcal{R}(T) = \\frac{\\beta(T)}{\\psi(T)} \n",
    "$$\n",
    "the *skew-stickiness ratio* or *SSR*.\n",
    "\n",
    "\n",
    "In the old days, traders would typically make one of two assumptions:\n",
    "\n",
    "- **Sticky delta** where the ATM volatility is fixed.  \n",
    "\n",
    "    - In this case, when $S$ increases to $S + \\delta S$, $\\delta \\sigma(T)=0$ so $\\mathcal{R}(T)=0$.    \n"
   ]
  },
  {
   "cell_type": "markdown",
   "metadata": {
    "slideshow": {
     "slide_type": "subslide"
    }
   },
   "source": [
    "or\n",
    "\n",
    "- **Sticky strike** where the implied volatility is fixed for a given strike independent of the stock price.\n",
    "\n",
    "    - In this case, when $S$ increases to $S + \\delta S$,\n",
    "        $$\n",
    "        \\delta \\sigma(T)= \\sigma(S+\\delta S) - \\sigma(S) \\approx \\psi(T)\\,\\delta S\n",
    "        $$  so\n",
    "    $\n",
    "    \\beta(T) = \\psi(T)\n",
    "    $ and $\\mathcal{R} = 1$.\n",
    "\n",
    "\n",
    "Listed options were thought of as sticky strike and OTC options as sticky delta.\n",
    "\n",
    "- **Empirically**, $\\mathcal{R}(T) \\approx 1.5$, *independent* of $T$."
   ]
  },
  {
   "cell_type": "markdown",
   "metadata": {
    "slideshow": {
     "slide_type": "slide"
    }
   },
   "source": [
    "### Regress volatility changes vs spot returns\n",
    "\n",
    "Let's check the skew-stickiness ratio over the period June 1, 2010 to June 1, 2011, reproducing a figure from an article in the Encyclopedia of Quantitative Finance<sup id=\"cite_ref-Kamal\" class=\"reference\"><a href=\"#cite_note-Kamal\"><span>[</span>9<span>]</span></a></sup>."
   ]
  },
  {
   "cell_type": "code",
   "execution_count": 40,
   "metadata": {
    "slideshow": {
     "slide_type": "fragment"
    }
   },
   "outputs": [
    {
     "name": "stderr",
     "output_type": "stream",
     "text": [
      "Warning message:\n",
      "\"package 'stinepack' was built under R version 3.4.4\""
     ]
    },
    {
     "name": "stdout",
     "output_type": "stream",
     "text": [
      "     vol.1m    vol.3m    vol.6m   vol.12m    skew.1m    skew.3m    skew.6m\n",
      "1 0.3116781 0.2892093 0.2840357 0.2848998 -0.9775653 -0.6994318 -0.5033279\n",
      "2 0.2585816 0.2569657 0.2637964 0.2674395 -1.0391103 -0.6308754 -0.5047893\n",
      "3 0.2593993 0.2532371 0.2590840 0.2633074 -1.0543336 -0.6167919 -0.4882985\n",
      "4 0.3217950 0.2916457 0.2932080 0.2841629 -0.9936603 -0.6787185 -0.5012572\n",
      "5 0.3240469 0.2982968 0.2859462 0.2874102 -1.0006733 -0.6137535 -0.4395970\n",
      "6 0.2963918 0.2821198 0.2833307 0.2822569 -1.1808506 -0.6769495 -0.5147833\n",
      "    skew.12m\n",
      "1 -0.3469127\n",
      "2 -0.3334118\n",
      "3 -0.3472150\n",
      "4 -0.3454572\n",
      "5 -0.3411661\n",
      "6 -0.3498540\n"
     ]
    }
   ],
   "source": [
    "library(stinepack)\n",
    "\n",
    "# First we need the time series of SPX returns:\n",
    "spx2010 <- spx[\"2010-06-01::2011-06-01\"]\n",
    "ret.spx2010 <- diff(log(as.numeric(spx2010)))\n",
    "\n",
    "n <- length(volSkewList2010)\n",
    "\n",
    "vol.res <- array(dim=c(n,8))\n",
    "\n",
    "for (i in 1:n){\n",
    "    dat <- volSkewList2010[[i]]\n",
    "    vol.res[i,1:4] <- stinterp(x=dat$texp,y=dat$atmVol,xout=c(1,3,6,12)/12)$y\n",
    "    vol.res[i,5:8] <- stinterp(x=dat$texp,y=dat$atmSkew,xout=c(1,3,6,12)/12)$y    \n",
    "}\n",
    "\n",
    "vol.skew.atm <- as.data.frame(vol.res)\n",
    "colnames(vol.skew.atm) <- c(\"vol.1m\",\"vol.3m\",\"vol.6m\",\"vol.12m\",\"skew.1m\",\"skew.3m\",\"skew.6m\",\"skew.12m\")\n",
    "\n",
    "print(head(vol.skew.atm))\n",
    "\n",
    "# Finally, create matrix of volatility changes\n",
    "del.vol <- apply(vol.skew.atm[,1:4],2,function(x){diff(x)})"
   ]
  },
  {
   "cell_type": "markdown",
   "metadata": {
    "slideshow": {
     "slide_type": "slide"
    }
   },
   "source": [
    "### 1-month SSR"
   ]
  },
  {
   "cell_type": "code",
   "execution_count": 41,
   "metadata": {
    "slideshow": {
     "slide_type": "fragment"
    }
   },
   "outputs": [
    {
     "name": "stdout",
     "output_type": "stream",
     "text": [
      "\n",
      "Call:\n",
      "lm(formula = y ~ x)\n",
      "\n",
      "Residuals:\n",
      "      Min        1Q    Median        3Q       Max \n",
      "-0.039160 -0.004263  0.000181  0.004642  0.024866 \n",
      "\n",
      "Coefficients:\n",
      "            Estimate Std. Error t value Pr(>|t|)    \n",
      "(Intercept) 0.000265   0.000466   0.569     0.57    \n",
      "x           1.474092   0.054832  26.884   <2e-16 ***\n",
      "---\n",
      "Signif. codes:  0 '***' 0.001 '**' 0.01 '*' 0.05 '.' 0.1 ' ' 1\n",
      "\n",
      "Residual standard error: 0.007394 on 251 degrees of freedom\n",
      "Multiple R-squared:  0.7422,\tAdjusted R-squared:  0.7412 \n",
      "F-statistic: 722.7 on 1 and 251 DF,  p-value: < 2.2e-16\n",
      "\n"
     ]
    }
   ],
   "source": [
    "y <- del.vol[,1]\n",
    "x <- ret.spx2010*vol.skew.atm[-n,5]\n",
    "fit.lm1 <- lm(y~x)\n",
    "print(summary(fit.lm1))"
   ]
  },
  {
   "cell_type": "code",
   "execution_count": 42,
   "metadata": {
    "slideshow": {
     "slide_type": "subslide"
    }
   },
   "outputs": [
    {
     "data": {
      "image/png": "[encoded data removed]",
      "text/plain": [
       "Plot with title \"1m SSR\""
      ]
     },
     "metadata": {},
     "output_type": "display_data"
    }
   ],
   "source": [
    "plot(x,y,xlab=expression(psi(tau)*delta*x),ylab=expression(Delta*sigma ),main=\"1m SSR\",pch=20,col=\"blue\")\n",
    "abline(fit.lm1,col=\"red\",lwd=2)\n",
    "text(x=0.025,y=-0.0,\"Slope is 1.47\")\n",
    "abline(coef=c(0,1),lty=2,lwd=2,col=\"green4\")"
   ]
  },
  {
   "cell_type": "markdown",
   "metadata": {
    "slideshow": {
     "slide_type": "fragment"
    }
   },
   "source": [
    "Figure 26: The 1-month skew-stickiness ratio (SSR).  The \"sticky strike\" green line with slope 1 clearly doesn't fit."
   ]
  },
  {
   "cell_type": "markdown",
   "metadata": {
    "slideshow": {
     "slide_type": "slide"
    }
   },
   "source": [
    "### 3-month SSR"
   ]
  },
  {
   "cell_type": "code",
   "execution_count": 43,
   "metadata": {
    "slideshow": {
     "slide_type": "fragment"
    }
   },
   "outputs": [
    {
     "name": "stdout",
     "output_type": "stream",
     "text": [
      "\n",
      "Call:\n",
      "lm(formula = y ~ x)\n",
      "\n",
      "Residuals:\n",
      "       Min         1Q     Median         3Q        Max \n",
      "-0.0180521 -0.0023352 -0.0000552  0.0024244  0.0106338 \n",
      "\n",
      "Coefficients:\n",
      "             Estimate Std. Error t value Pr(>|t|)    \n",
      "(Intercept) 0.0001939  0.0002445   0.793    0.428    \n",
      "x           1.4509582  0.0432965  33.512   <2e-16 ***\n",
      "---\n",
      "Signif. codes:  0 '***' 0.001 '**' 0.01 '*' 0.05 '.' 0.1 ' ' 1\n",
      "\n",
      "Residual standard error: 0.003876 on 251 degrees of freedom\n",
      "Multiple R-squared:  0.8173,\tAdjusted R-squared:  0.8166 \n",
      "F-statistic:  1123 on 1 and 251 DF,  p-value: < 2.2e-16\n",
      "\n"
     ]
    }
   ],
   "source": [
    "y <- del.vol[,2]\n",
    "x <- ret.spx2010*vol.skew.atm[-n,6]\n",
    "fit.lm3 <- lm(y~x)\n",
    "print(summary(fit.lm3))"
   ]
  },
  {
   "cell_type": "code",
   "execution_count": 44,
   "metadata": {
    "slideshow": {
     "slide_type": "subslide"
    }
   },
   "outputs": [
    {
     "data": {
      "image/png": "[encoded data removed]",
      "text/plain": [
       "Plot with title \"3m SSR\""
      ]
     },
     "metadata": {},
     "output_type": "display_data"
    }
   ],
   "source": [
    "plot(x,y,xlab=expression(psi(tau)*delta*x),ylab=expression(Delta*sigma ),main=\"3m SSR\",pch=20,col=\"blue\")\n",
    "abline(fit.lm3,col=\"red\",lwd=2)\n",
    "text(x=0.015,y=-0.0,\"Slope is 1.45\")\n",
    "abline(coef=c(0,1),lty=2,lwd=2,col=\"green4\")"
   ]
  },
  {
   "cell_type": "markdown",
   "metadata": {
    "slideshow": {
     "slide_type": "fragment"
    }
   },
   "source": [
    "Figure 27: The 3-month skew-stickiness ratio (SSR).  The \"sticky strike\" green line with slope 1 clearly doesn't fit."
   ]
  },
  {
   "cell_type": "markdown",
   "metadata": {
    "slideshow": {
     "slide_type": "slide"
    }
   },
   "source": [
    "### 6-month SSR"
   ]
  },
  {
   "cell_type": "code",
   "execution_count": 45,
   "metadata": {
    "slideshow": {
     "slide_type": "fragment"
    }
   },
   "outputs": [
    {
     "name": "stdout",
     "output_type": "stream",
     "text": [
      "\n",
      "Call:\n",
      "lm(formula = y ~ x)\n",
      "\n",
      "Residuals:\n",
      "       Min         1Q     Median         3Q        Max \n",
      "-0.0176677 -0.0017325 -0.0000075  0.0016376  0.0089884 \n",
      "\n",
      "Coefficients:\n",
      "             Estimate Std. Error t value Pr(>|t|)    \n",
      "(Intercept) 8.003e-05  1.894e-04   0.423    0.673    \n",
      "x           1.512e+00  4.522e-02  33.436   <2e-16 ***\n",
      "---\n",
      "Signif. codes:  0 '***' 0.001 '**' 0.01 '*' 0.05 '.' 0.1 ' ' 1\n",
      "\n",
      "Residual standard error: 0.003004 on 251 degrees of freedom\n",
      "Multiple R-squared:  0.8166,\tAdjusted R-squared:  0.8159 \n",
      "F-statistic:  1118 on 1 and 251 DF,  p-value: < 2.2e-16\n",
      "\n"
     ]
    }
   ],
   "source": [
    "y <- del.vol[,3]\n",
    "x <- ret.spx2010*vol.skew.atm[-n,7]\n",
    "fit.lm6 <- lm(y~x)\n",
    "print(summary(fit.lm6))"
   ]
  },
  {
   "cell_type": "code",
   "execution_count": 46,
   "metadata": {
    "slideshow": {
     "slide_type": "subslide"
    }
   },
   "outputs": [
    {
     "data": {
      "image/png": "[encoded data removed]",
      "text/plain": [
       "Plot with title \"6m SSR\""
      ]
     },
     "metadata": {},
     "output_type": "display_data"
    }
   ],
   "source": [
    "plot(x,y,xlab=expression(psi(tau)*delta*x),ylab=expression(Delta*sigma ),main=\"6m SSR\",pch=20,col=\"blue\")\n",
    "abline(fit.lm6,col=\"red\",lwd=2)\n",
    "text(x=0.01,y=-0.0,\"Slope is 1.512\")\n",
    "abline(coef=c(0,1),lty=2,lwd=2,col=\"green4\")"
   ]
  },
  {
   "cell_type": "markdown",
   "metadata": {
    "slideshow": {
     "slide_type": "fragment"
    }
   },
   "source": [
    "Figure 28: The 6-month skew-stickiness ratio (SSR).  The \"sticky strike\" green line with slope 1 clearly doesn't fit."
   ]
  },
  {
   "cell_type": "markdown",
   "metadata": {
    "slideshow": {
     "slide_type": "slide"
    }
   },
   "source": [
    "### 12-month SSR"
   ]
  },
  {
   "cell_type": "code",
   "execution_count": 47,
   "metadata": {
    "slideshow": {
     "slide_type": "fragment"
    }
   },
   "outputs": [
    {
     "name": "stdout",
     "output_type": "stream",
     "text": [
      "\n",
      "Call:\n",
      "lm(formula = y ~ x)\n",
      "\n",
      "Residuals:\n",
      "      Min        1Q    Median        3Q       Max \n",
      "-0.007310 -0.001219  0.000014  0.001259  0.008139 \n",
      "\n",
      "Coefficients:\n",
      "             Estimate Std. Error t value Pr(>|t|)    \n",
      "(Intercept) 6.517e-05  1.401e-04   0.465    0.642    \n",
      "x           1.601e+00  4.407e-02  36.343   <2e-16 ***\n",
      "---\n",
      "Signif. codes:  0 '***' 0.001 '**' 0.01 '*' 0.05 '.' 0.1 ' ' 1\n",
      "\n",
      "Residual standard error: 0.002221 on 251 degrees of freedom\n",
      "Multiple R-squared:  0.8403,\tAdjusted R-squared:  0.8397 \n",
      "F-statistic:  1321 on 1 and 251 DF,  p-value: < 2.2e-16\n",
      "\n"
     ]
    }
   ],
   "source": [
    "y <- del.vol[,4]\n",
    "x <- ret.spx2010*vol.skew.atm[-n,8]\n",
    "fit.lm12 <- lm(y~x)\n",
    "print(summary(fit.lm12))"
   ]
  },
  {
   "cell_type": "code",
   "execution_count": 48,
   "metadata": {
    "slideshow": {
     "slide_type": "subslide"
    }
   },
   "outputs": [
    {
     "data": {
      "image/png": "[encoded data removed]",
      "text/plain": [
       "Plot with title \"12m SSR\""
      ]
     },
     "metadata": {},
     "output_type": "display_data"
    }
   ],
   "source": [
    "plot(x,y,xlab=expression(psi(tau)*delta*x),ylab=expression(Delta*sigma ),main=\"12m SSR\",pch=20,col=\"blue\")\n",
    "abline(fit.lm12,col=\"red\",lwd=2)\n",
    "text(x=0.007,y=0.0,\"Slope is 1.601\")\n",
    "abline(coef=c(0,1),lty=2,lwd=2,col=\"green4\")"
   ]
  },
  {
   "cell_type": "markdown",
   "metadata": {
    "slideshow": {
     "slide_type": "fragment"
    }
   },
   "source": [
    "Figure 29: The 12-month skew-stickiness ratio (SSR).  The \"sticky strike\" green line with slope 1 clearly doesn't fit."
   ]
  },
  {
   "cell_type": "markdown",
   "metadata": {
    "slideshow": {
     "slide_type": "slide"
    }
   },
   "source": [
    "### The variance swap curve\n",
    "\n",
    "Assuming the underlying diffuses, the fair value $\\mathcal{V}_t(T)$ of a variance swap with maturity $T$ may be computed as follows:\n",
    "\n",
    "$$\n",
    "\\mathcal{V}_t(T) = \\int_t^T\\,\\xi_t(u)\\,du = \\int_0^\\infty\\,\\min[P(K,T),C(K,T)]\\,\\frac{dK}{K^2}\n",
    "$$\n",
    "\n",
    "where $C(K,T)$ and $P(K,T)$ denote the prices of calls and puts with strike $K$ and expiration $T$ respectively.  For details, see for example <span>[The Volatility Surface]<sup id=\"cite_ref-TVS\" class=\"reference\"><a href=\"#cite_note-TVS\"><span>[</span>5<span>]</span></a></sup>.  We will visit this again in Lecture 12.\n"
   ]
  },
  {
   "cell_type": "markdown",
   "metadata": {
    "slideshow": {
     "slide_type": "subslide"
    }
   },
   "source": [
    "Thus, with this continuity assumption, we may compute the fair value of a variance swap from an infinite strip of call and put option prices (the so-called log-strip).  \n",
    "\n",
    "\n",
    "- For a given maturity, the variance swap level depends on exactly how we interpolate and extrapolate option prices.\n",
    "\n",
    "\n",
    "- We use the *arbitrage-free SVI parameterization* that I will explain later in the lecture series.\n",
    "\n",
    "\n",
    "-  In particular, we will analyze variance swap estimates from June 01, 2010 to June 10, 2011, the same period as before."
   ]
  },
  {
   "cell_type": "code",
   "execution_count": 49,
   "metadata": {
    "slideshow": {
     "slide_type": "fragment"
    }
   },
   "outputs": [],
   "source": [
    "load(\"spxVarSwapList2010.rData\")\n",
    "\n",
    "n <- length(names(varSwapList2010))\n",
    "\n",
    "# Convert list to matrix\n",
    "tmp <- array(dim=c(n,40))\n",
    "\n",
    "for (i in 1:n){\n",
    "    tmp[i,] <- varSwapList2010[[i]]$varSwap\n",
    "}\n",
    "\n",
    "varswap.mean <- apply(tmp,2,mean)\n",
    "varswap.sd <- apply(tmp,2,sd)\n",
    "tmat <- (1:40)*.05"
   ]
  },
  {
   "cell_type": "markdown",
   "metadata": {
    "slideshow": {
     "slide_type": "slide"
    }
   },
   "source": [
    "### The average shape of the variance swap curve\n"
   ]
  },
  {
   "cell_type": "code",
   "execution_count": 50,
   "metadata": {
    "slideshow": {
     "slide_type": "fragment"
    }
   },
   "outputs": [
    {
     "data": {
      "image/png": "[encoded data removed]",
      "text/plain": [
       "plot without title"
      ]
     },
     "metadata": {},
     "output_type": "display_data"
    }
   ],
   "source": [
    "plot(tmat,sqrt(varswap.mean),type=\"b\",col=\"red\",xlab=expression(paste(\"Maturity \",tau)),ylab=\"Variance swap quote\")"
   ]
  },
  {
   "cell_type": "markdown",
   "metadata": {
    "slideshow": {
     "slide_type": "fragment"
    }
   },
   "source": [
    "Figure 30: Average shape of the variance swap curve from  01-Jun-2010 to 01-Jun-2011."
   ]
  },
  {
   "cell_type": "markdown",
   "metadata": {
    "slideshow": {
     "slide_type": "slide"
    }
   },
   "source": [
    "### The volatility envelope\n",
    "\n",
    "The *envelope* is the graph of volatilities of variance swap quotes vs time to maturity.  First, we draw a log-log plot of standard deviation of log-differences of the curves. "
   ]
  },
  {
   "cell_type": "code",
   "execution_count": 51,
   "metadata": {
    "slideshow": {
     "slide_type": "fragment"
    }
   },
   "outputs": [
    {
     "name": "stdout",
     "output_type": "stream",
     "text": [
      "\n",
      "Call:\n",
      "lm(formula = y[1:20] ~ x[1:20])\n",
      "\n",
      "Residuals:\n",
      "      Min        1Q    Median        3Q       Max \n",
      "-0.046099 -0.015713  0.004174  0.014588  0.048747 \n",
      "\n",
      "Coefficients:\n",
      "             Estimate Std. Error t value Pr(>|t|)    \n",
      "(Intercept) -2.885944   0.008890  -324.6   <2e-16 ***\n",
      "x[1:20]     -0.365137   0.007513   -48.6   <2e-16 ***\n",
      "---\n",
      "Signif. codes:  0 '***' 0.001 '**' 0.01 '*' 0.05 '.' 0.1 ' ' 1\n",
      "\n",
      "Residual standard error: 0.02662 on 18 degrees of freedom\n",
      "Multiple R-squared:  0.9924,\tAdjusted R-squared:  0.992 \n",
      "F-statistic:  2362 on 1 and 18 DF,  p-value: < 2.2e-16\n",
      "\n"
     ]
    }
   ],
   "source": [
    "# Compute standard deviation of log-differences\n",
    "sd.t <- function(x){sd(diff(log(x)))}\n",
    "\n",
    "varswap.sd.t <- apply(tmp,2,sd.t)\n",
    "\n",
    "# Log-log plot\n",
    "x <- log(tmat)\n",
    "y <- log(varswap.sd.t)\n",
    "\n",
    "fit.lm2 <- lm(y[1:20]~x[1:20])\n",
    "print(summary(fit.lm2))\n",
    "a2 <- fit.lm2$coef[1]; b2 <- fit.lm2$coef[2]"
   ]
  },
  {
   "cell_type": "code",
   "execution_count": 52,
   "metadata": {
    "slideshow": {
     "slide_type": "subslide"
    }
   },
   "outputs": [
    {
     "data": {
      "image/png": "[encoded data removed]",
      "text/plain": [
       "plot without title"
      ]
     },
     "metadata": {},
     "output_type": "display_data"
    }
   ],
   "source": [
    "plot(x,y,col=\"red\")\n",
    "points(x[1:20],y[1:20],col=\"blue\",pch=20)\n",
    "abline(fit.lm2,col=\"orange\",lwd=2)"
   ]
  },
  {
   "cell_type": "markdown",
   "metadata": {
    "slideshow": {
     "slide_type": "fragment"
    }
   },
   "source": [
    "Figure 31: Log-log plot of volatility envelope with linear fit."
   ]
  },
  {
   "cell_type": "markdown",
   "metadata": {
    "slideshow": {
     "slide_type": "slide"
    }
   },
   "source": [
    "### Variance swap envelope with power-law fit"
   ]
  },
  {
   "cell_type": "code",
   "execution_count": 53,
   "metadata": {
    "slideshow": {
     "slide_type": "fragment"
    }
   },
   "outputs": [
    {
     "data": {
      "image/png": "[encoded data removed]",
      "text/plain": [
       "plot without title"
      ]
     },
     "metadata": {},
     "output_type": "display_data"
    }
   ],
   "source": [
    "plot(tmat,varswap.sd.t,col=\"red\",pch=20,xlab=expression(paste(\"Maturity \",tau)),ylab=\"sd(Variance swap quote)\",ylim=c(0.04,.2))\n",
    "curve(exp(a2+b2*log(x)),from=0,to=3,col=\"blue\",add=T,n=1000,lwd=2)"
   ]
  },
  {
   "cell_type": "markdown",
   "metadata": {
    "slideshow": {
     "slide_type": "fragment"
    }
   },
   "source": [
    "Figure 32: Variance swap envelope from  01-Jun-2010 to 01-Jun-2011.  The blue line corresponds to the fit $\\tau^{-0.365}$."
   ]
  },
  {
   "cell_type": "markdown",
   "metadata": {
    "slideshow": {
     "slide_type": "slide"
    }
   },
   "source": [
    "### Volatility surface summary\n",
    "\n",
    "* The term structure of ATM volatility skew seems to be power-law $\\sim T^{-0.4}$\n",
    "\n",
    "* The term structure of the volatility envelope seems to be power-law $\\sim T^{-0.4}$\n",
    "\n",
    "* The Skew-stickiness ratio is empirically $1.5$ *independent* of time to expiry.\n",
    "\n",
    "\n",
    "No conventional Markovian model of the volatility surface is consistent with these observations.\n",
    "- Rough volatility model are however!"
   ]
  },
  {
   "cell_type": "markdown",
   "metadata": {
    "slideshow": {
     "slide_type": "slide"
    }
   },
   "source": [
    "### Moral of the story\n",
    "\n",
    "As we will see, though stochastic volatility models are well-motivated in that returns normalized by integrated variance are close to $N(0,1)$, conventional Markovian stochastic volatility models are *normative*.\n",
    "\n",
    "- We write down underlying dynamics as if to say ``suppose the underlying stochastic drivers were to satisfy the following...''.\n",
    "\n",
    "- Dynamics are invariably Markovian, in contrast to the real world.\n",
    "\n",
    "- The state space is typically very small.\n",
    "\n",
    "<blockquote>\n",
    "<div style=\"background-color:#E8E8E8; color:#000000; font-style: normal; \">\n",
    "\n",
    "\n",
    "Conventional models of volatility are \n",
    "engineering models, not physics models.\n",
    "\n",
    "\n",
    "</div>\n",
    "\n",
    "</blockquote>\n",
    "\n",
    " - Conventional stochastic volatility models are Markovian approximations to a non-Markovian reality.\n",
    "\n"
   ]
  },
  {
   "cell_type": "markdown",
   "metadata": {
    "slideshow": {
     "slide_type": "slide"
    }
   },
   "source": [
    "## References  \n",
    "\n",
    "<br />\n",
    "\n",
    "<div class=\"reflist\" style=\"list-style-type: decimal;\">\n",
    "\n",
    "<ol>\n",
    "\n",
    "<li id=\"cite_note-AneGeman\"><span class=\"mw-cite-backlink\"><b><a href=\"#cite_ref-AneGeman\">^</a></b></span>   Thierry An&eacute; and H&eacute;lyette Geman, Order flow, transaction\n",
    "  clock, and normality of asset returns, *The Journal of Finance* **55**,\n",
    "  2259-2284 (2000).</li>\n",
    "\n",
    "<li id=\"cite_note-BouchaudPotters\"><span class=\"mw-cite-backlink\"><b><a href=\"#cite_ref-BouchaudPotters\">^</a></b></span>   Jean-Philippe Bouchaud and Marc Potters, *Theory of Financial Risk and Derivative Pricing: From Statististical Physics to Risk Management, 2 edn.*, Cambridge University Press (2009).</li>\n",
    " \n",
    " \n",
    "<li id=\"cite_note-Chakraborti\"><span class=\"mw-cite-backlink\"><b><a href=\"#cite_ref-Chakraborti\">^</a></b></span> Anirban Chakraborti, Ioane Muni Toke, Marco Patriarca, and Fr&eacute;d&eacute;ric Abergel, Econophysics: I. Empirical facts, *Quantitative Finance*, **11**(7) 991-1012 (2011).</li>\n",
    " \n",
    "<li id=\"cite_note-Cont2001\"><span class=\"mw-cite-backlink\"><b><a href=\"#cite_ref-Cont2001\">^</a></b></span> Rama Cont Empirical properties of asset returns: stylized facts and statistical issues, *Quantitative Finance* **1** 223-236 (2001).</li>\n",
    " \n",
    "<li id=\"cite_note-Gabaix\"><span class=\"mw-cite-backlink\"><b><a href=\"#cite_ref-Gabaix\">^</a></b></span> Xavier Gabaix, Power laws in economics and finance, statistical issues, *Annual Review of Economics* **1** 255-293 (2009).</li>\n",
    "\n",
    "<li id=\"cite_note-GJR\"><span class=\"mw-cite-backlink\"><b><a href=\"#cite_ref-GJR\">^</a></b></span> Jim Gatheral, Thibault Jaisson and Mathieu Rosenbaum, Volatility is rough, *Quantitative Finance*, **18**(6) 933-949 (2018).</li>\n",
    "\n",
    "<li id=\"cite_note-GO\"><span class=\"mw-cite-backlink\"><b><a href=\"#cite_ref-GO\">^</a></b></span> Jim Gatheral and Roel Oomen, Zero-intelligence realized variance estimation, *Finance and Stochastics* **14**(2) 249-283 (2010).</li> \n",
    " \n",
    "<li id=\"cite_note-Gillemot\"><span class=\"mw-cite-backlink\"><b><a href=\"#cite_ref-Gillemot\">^</a></b></span> L&aacute;szl&oacute; Gillemot, J. Doyne Farmer, and Fabrizio Lillo, There's more to volatility than volume, *Quantitative Finance* **6** 371-384 (2006).</li>\n",
    " \n",
    " <li id=\"cite_note-Kamal\"><span class=\"mw-cite-backlink\"><b><a href=\"#cite_ref-Kamal\">^</a></b></span> Michael Kamal and Jim Gatheral, Implied Volatility Surface, *Encyclopedia of Quantitative Finance*, Wiley (2010). </li>\n",
    " \n",
    " \n",
    " <li id=\"cite_note-Kamal\"><span class=\"mw-cite-backlink\"><b><a href=\"#cite_ref-Kamal\">^</a></b></span> Matt Visser , Implied Volatility Surface, *New Journal of Physics* **15** 043021 (2013). </li>\n",
    "\n",
    "  \n",
    "</ol>\n",
    "\n"
   ]
  }
 ],
 "metadata": {
  "celltoolbar": "Slideshow",
  "kernelspec": {
   "display_name": "R",
   "language": "R",
   "name": "ir"
  },
  "language_info": {
   "codemirror_mode": "r",
   "file_extension": ".r",
   "mimetype": "text/x-r-source",
   "name": "R",
   "pygments_lexer": "r",
   "version": "3.4.3"
  }
 },
 "nbformat": 4,
 "nbformat_minor": 1
}
