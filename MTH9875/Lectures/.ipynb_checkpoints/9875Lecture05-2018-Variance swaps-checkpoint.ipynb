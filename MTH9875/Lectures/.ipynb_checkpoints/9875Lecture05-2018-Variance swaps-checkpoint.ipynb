{
 "cells": [
  {
   "cell_type": "markdown",
   "metadata": {
    "slideshow": {
     "slide_type": "slide"
    }
   },
   "source": [
    "# MTH 9875 The Volatility Surface:    Fall 2018\n",
    "\n",
    "<p>\n",
    "### Lecture 5: Variance swaps and the forward variance curve\n",
    "<p>\n",
    "\n",
    "Jim Gatheral   \n",
    "Department of Mathematics   \n",
    "  \n",
    "  \n",
    "<h3><img src=\"http://mfe.baruch.cuny.edu/wp-content/uploads/2016/04/MFE-Logo.jpg\" align = \"right\" width=500></h3>\n",
    "\n",
    "$$\n",
    "\\newcommand{\\bea}{\\begin{eqnarray}}\n",
    "\\newcommand{\\eea}{\\end{eqnarray}}\n",
    "\\newcommand{\\beas}{\\begin{eqnarray*}}\n",
    "\\newcommand{\\eeas}{\\end{eqnarray*}}\n",
    "\\newcommand{\\supp}{\\mathrm{supp}}\n",
    "\\newcommand{\\E}{\\mathbb{E} }\n",
    "\\def\\Cov{{ \\mbox{Cov} }}\n",
    "\\def\\Var{{ \\mbox{Var} }}\n",
    "\\newcommand{\\1}{\\mathbf{1} }\n",
    "\\newcommand{\\cF}{\\mathcal{F} }\n",
    "\\newcommand{\\PP}{\\mathbb{P} }\n",
    "\\newcommand{\\QQ}{\\mathbb{Q} }\n",
    "\\newcommand{\\RR}{\\mathbb{R} }\n",
    "\\newcommand{\\DD}{\\mathbb{D} }\n",
    "\\newcommand{\\HH}{\\mathbb{H} }\n",
    "\\newcommand{\\spn}{\\mathrm{span} }\n",
    "\\newcommand{\\cov}{\\mathrm{cov} }\n",
    "\\newcommand{\\HS}{\\mathcal{L}_{\\mathrm{HS}} }\n",
    "\\newcommand{\\cV}{\\mathcal{V}}\n",
    "\\newcommand{\\cG}{\\mathcal{G}}\n",
    "\\newcommand{\\cL}{\\mathcal{L}}\n",
    "\\newcommand{\\cO}{\\mathcal{O}}\n",
    "\\newcommand{\\trace}{\\mathrm{trace} }\n",
    "\\newcommand{\\LL}{\\mathcal{L} }\n",
    "\\newcommand{\\s}{\\mathcal{S} }\n",
    "\\newcommand{\\ee}{\\mathcal{E} }\n",
    "\\newcommand{\\ff}{\\mathcal{F} }\n",
    "\\newcommand{\\hh}{\\mathcal{H} }\n",
    "\\newcommand{\\bb}{\\mathcal{B} }\n",
    "\\newcommand{\\dd}{\\mathcal{D} }\n",
    "\\newcommand{\\half}{\\frac{1}{2} }\n",
    "\\newcommand{\\T}{\\mathcal{T} }\n",
    "\\newcommand{\\bi}{\\begin{itemize}}\n",
    "\\newcommand{\\ei}{\\end{itemize}}\n",
    "\\newcommand{\\beq}{\\begin{equation}}\n",
    "\\newcommand{\\eeq}{\\end{equation}}\n",
    "\\newcommand{\\ee}[1]{\\mathbb{E}\\left[{#1}\\right]}\n",
    "\\newcommand{\\eef}[1]{\\mathbb{E}\\left[\\left.{#1}\\right|\\cF_t\\right]}\n",
    "\\newcommand{\\Rplus}{\\mathbb{R}_{\\geqslant 0}}\n",
    "\\newcommand{\\Rpplus}{\\mathbb{R}_{> 0}}\n",
    "\\newcommand{\\Rminus}{\\mathbb{R}_{\\leqslant 0}}\n",
    "\\newcommand{\\p}{\\partial}\n",
    "\\newcommand{\\ui}{\\textrm{i}}\n",
    "\\newcommand{\\mP}{\\mathbb{P}}\n",
    "\\newcommand{\\mQ}{\\mathbb{Q}}\n",
    "\\newcommand{\\angl}[1]{\\langle{#1}\\rangle}\n",
    "\\newcommand{\\var}{{\\rm var}}\n",
    "\\newcommand{\\cov}{{\\rm cov}}\n",
    "\\newcommand{\\covf}[1]{\\cov\\left[\\left.{#1}\\right|\\cF_t\\right]}\n",
    "\\newcommand{\\varf}[1]{\\var\\left[\\left.{#1}\\right|\\cF_t\\right]}\n",
    "$$  "
   ]
  },
  {
   "cell_type": "markdown",
   "metadata": {
    "slideshow": {
     "slide_type": "slide"
    }
   },
   "source": [
    "### Outline of lecture\n",
    "\n",
    "* Spanning generalized European payoffs\n",
    "\n",
    "\n",
    "* The log contract\n",
    "\n",
    "\n",
    "* The variance swap\n",
    "    * Dependence on skew and curvature\n",
    "    \n",
    "    \n",
    "* Weighted variance swaps\n",
    "    * The gamma swap\n",
    "    * The leverage swap"
   ]
  },
  {
   "cell_type": "markdown",
   "metadata": {
    "slideshow": {
     "slide_type": "subslide"
    }
   },
   "source": [
    "* Building a forward variance curve\n",
    "\n",
    "\n",
    "* Volatility swaps\n",
    "    * The convexity adjustment"
   ]
  },
  {
   "cell_type": "markdown",
   "metadata": {
    "slideshow": {
     "slide_type": "slide"
    }
   },
   "source": [
    "### Volatility derivatives\n",
    "\n",
    "* In this lecture, we will investigate the pricing and hedging of claims that have realized volatility or variance (quadratic variation) as underlying.\n",
    "\n",
    "\n",
    "* We might expect volatility derivatives be very exotic and therefore hard to price and hedge\n",
    "\n",
    "    * It turns out that in some respects, they are amongst the safest and easiest.\n",
    "    \n",
    "\n",
    "* In our survey of volatility derivatives, we will encounter some of the most elegant constructions in financial mathematics."
   ]
  },
  {
   "cell_type": "markdown",
   "metadata": {
    "slideshow": {
     "slide_type": "slide"
    }
   },
   "source": [
    "### Spanning generalized European payoffs\n",
    "\n",
    "* As usual, we assume that European options with all possible strikes and expirations are traded.  \n",
    "\n",
    "\n",
    "* We will show that any twice-differentiable payoff at time $T$ may be statically hedged using a portfolio of European options expiring at time $T$.  "
   ]
  },
  {
   "cell_type": "markdown",
   "metadata": {
    "slideshow": {
     "slide_type": "subslide"
    }
   },
   "source": [
    "### Proof from [Carr and Madan]<sup id=\"cite_ref-CarrMadan\" class=\"reference\"><a href=\"#cite_note-CarrMadan\"><span>[3]</span></a></sup>\n",
    "\n",
    "The value of a claim with a generalized payoff $g(S_T)$ at time $T$ is\n",
    "given by \n",
    "\n",
    "\\begin{eqnarray*}\n",
    " g(S_T)&=&\\int_0^\\infty\\,g(K)\\,\\delta(S_T-K)\\,dK\\\\\n",
    " &=&\\int_0^F\\,g(K)\\,\\delta(S_T-K)\\,dK + \\int_F^\\infty\\,g(K)\\,\\delta(S_T-K)\\,dK.\n",
    "\\end{eqnarray*}\n",
    "\n",
    "Integrating by parts gives\n",
    "\\begin{eqnarray*}\n",
    " g(S_T)&=&g(F)-\\int_0^F\\,g'(K)\\,\\theta(K-S_T)\\,dK \\\\&&+ \\int_F^\\infty\\,g'(K)\\,\\theta(S_T-K)\\,dK.\n",
    "\\end{eqnarray*}"
   ]
  },
  {
   "cell_type": "markdown",
   "metadata": {
    "slideshow": {
     "slide_type": "subslide"
    }
   },
   "source": [
    "... and integrating by parts again gives\n",
    "\n",
    "<a name=\"eq:spanning\"></a>(1)\n",
    "\\begin{eqnarray*}\n",
    " g(S_T)&=&\\int_0^F\\,g''(K)\\,(K-S_T)^+\\,dK + \\int_F^\\infty\\,g''(K)\\,(S_T-K)^+\\,dK\\nonumber\\\\\n",
    " &&+ g(F) - g'(F)\\,\\left[ (F-S_T)^+ - (S_T-F)^+ \\right]\\nonumber\\\\\n",
    " &=&\\int_0^F\\,g''(K)\\,(K-S_T)^+\\,dK + \\int_F^\\infty\\,g''(K)\\,(S_T-K)^+\\,dK\\nonumber\\\\\n",
    " &&+ g(F)  + g'(F)\\,(S_T-F).\n",
    "\\end{eqnarray*}"
   ]
  },
  {
   "cell_type": "markdown",
   "metadata": {
    "slideshow": {
     "slide_type": "subslide"
    }
   },
   "source": [
    "Then, with $F=\\E[S_T]$, \n",
    "\n",
    "<a name=\"eq:generalizedpayoff\"></a>(2)\n",
    "\\begin{eqnarray*}\n",
    " \\mathbb{E} \\left[ g(S_T)\\right]\n",
    " =g(F)\\,+\\,\\int _0 ^F \\, dK \\, \n",
    " \\tilde P(K)\\,g''(K)\\,\\\\+\\,\\int _F ^\\infty \\, dK \\,\n",
    "  \\tilde C(K)\\,g''(K)\n",
    "\\end{eqnarray*}\n",
    "where $\\tilde P$ and $\\tilde C$ represent undiscounted put and call prices.\n",
    "\n",
    "* Equation [(1)](#eq:spanning) shows how to build any curve using hockey-stick payoffs (if $g(\\cdot)$ is twice-differentiable)."
   ]
  },
  {
   "cell_type": "markdown",
   "metadata": {
    "slideshow": {
     "slide_type": "slide"
    }
   },
   "source": [
    "### Remarks on spanning of European-style payoffs\n",
    "\n",
    "* From equation [(1)](#eq:spanning) we see that any European-style twice-differentiable payoff may be replicated using a portfolio of European options with strikes from $0$ to $\\infty$.\n",
    "\n",
    "    * The weight of each option equal to the second derivative of the payoff at the strike price of the option.   "
   ]
  },
  {
   "cell_type": "markdown",
   "metadata": {
    "slideshow": {
     "slide_type": "subslide"
    }
   },
   "source": [
    "* This portfolio of European options is a static hedge because the weight of an option with a particular strike depends only on the strike price and the form of the payoff function and not on time or the level of the stock price.  \n",
    "\n",
    "\n",
    "* Note further that equation [(1)](#eq:spanning) is *completely model-independent* (assuming continuity of paths of the underlying)."
   ]
  },
  {
   "cell_type": "markdown",
   "metadata": {
    "slideshow": {
     "slide_type": "slide"
    }
   },
   "source": [
    "### Example: European options\n",
    "\n",
    "* In fact, using Dirac delta-functions, we can extend the above result to payoffs which are not twice-differentiable.\n",
    "\n",
    "\n",
    "* For example with $g(S_T)=(S_T-L)^+$, $g''(K)=\\delta(K-L)$ and equation [(2)](#eq:generalizedpayoff) gives:"
   ]
  },
  {
   "cell_type": "markdown",
   "metadata": {
    "slideshow": {
     "slide_type": "subslide"
    }
   },
   "source": [
    "$$\\begin{eqnarray*}\n",
    " \\mathbb{E} \\left[ (S_T-L)^+ \\right]\n",
    " &=&(F-L)^+\\,+\\,\\int _0 ^F \\, dK \\, \\tilde\n",
    " P(K)\\,\\delta(K-L)\\,\\nonumber\\\\\n",
    " &\\,&+\\,\\int _F ^\\infty \\, dK \\,\n",
    "  \\tilde C(K)\\,\\delta(K-L)\\nonumber\\\\\n",
    " &=&\\left\\{ \\begin{array} {r@{\\quad \\rm{if} \\quad}l}\n",
    " (F-L)\\,+\\,\\tilde P(L) & L<F\\\\ \\tilde C(L) & L\\geq F \\end{array}\n",
    " \\right.\\nonumber\\\\\n",
    " &=& \\tilde C(L)\\end{eqnarray*}$$\n",
    "\n",
    "with the last step following from put-call parity as before.\n",
    "\n",
    "* The replicating portfolio for a European option is just the option itself.  "
   ]
  },
  {
   "cell_type": "markdown",
   "metadata": {
    "slideshow": {
     "slide_type": "slide"
    }
   },
   "source": [
    "### Example: Amortizing options\n",
    "\n",
    "* A variation on the payoff of the standard European option is given by the amortizing option with strike $L$ with payoff\n",
    "\n",
    "    $$g(S_T)=\\frac{(S_T-L)^+}{S_T}.$$  \n",
    "\n",
    "    * Such options look particularly attractive when the volatility of the underlying stock is very high and the price of a standard European option is prohibitive.   \n",
    "\n",
    "\n",
    "* The payoff is effectively that of a European option whose notional amount declines as the option goes in-the-money.  "
   ]
  },
  {
   "cell_type": "markdown",
   "metadata": {
    "slideshow": {
     "slide_type": "subslide"
    }
   },
   "source": [
    "* Then,\n",
    "    $$g''(K)\\,=\\,\\left. \\left\\{-\\frac{2L}{{S_T}^3}\\,\\theta(S_T-L) \\,+\\,\\frac{\\delta(S_T-L)}{S_T}\\right\\}\\right|_{S_T=K}$$   \n",
    "\n",
    "\n",
    "* Without loss of generality (but to make things easier), suppose $L>F$.   \n",
    "\n",
    "\n",
    "* Substituting into equation [(2)](#eq:generalizedpayoff) gives\n",
    "\n",
    "    $$\\begin{eqnarray*}\n",
    "     \\mathbb{E} \\left[ \\frac{(S_T-L)^+}{S_T}\\right]\n",
    "      &=&\\int _F ^\\infty\\,dK \\,  \\tilde C(K)\\,g''(K)\\nonumber\\\\\n",
    "      &=&\\frac{\\tilde C(L)}{L}\\,-2 L \\,\\int _L ^\\infty\\,\\frac{dK}{K^3} \\,  \\tilde C(K).\\end{eqnarray*}$$"
   ]
  },
  {
   "cell_type": "markdown",
   "metadata": {
    "slideshow": {
     "slide_type": "subslide"
    }
   },
   "source": [
    "* We see that an Amortizing call option struck at $L$ is equivalent to a European call option struck at $L$ minus an infinite strip of European call options with strikes from $L$ to $\\infty$.  "
   ]
  },
  {
   "cell_type": "markdown",
   "metadata": {
    "slideshow": {
     "slide_type": "slide"
    }
   },
   "source": [
    "### The log contract\n",
    "\n",
    "Now consider a contract whose payoff at time $T$ is $\\log ({S_T}/{F})$.\n",
    "Then $g''(K)=-\\left.{1}/{{S_T}^2}\\right|_{S_T=K}$ and it follows from\n",
    "equation [(2)](#eq:generalizedpayoff) that\n",
    "\n",
    "$$\\begin{eqnarray*}\n",
    " \\mathbb{E} \\left[\\log\n",
    "\\left(\\frac{S_T}{F}\\right)\\right]\n",
    "  &=&\\,-\\int _0 ^F \\, \\frac{dK}{K^2} \\, \\tilde\n",
    " P(K)\\,-\\,\\int _F ^\\infty \\, \\frac{dK}{K^2} \\,\n",
    "  \\tilde C(K)\\end{eqnarray*}$$\n",
    "\n",
    "Rewriting this equation in terms of the log-strike variable $k := \\log \\left( {K}/{F} \\right)$, we get the promising-looking expression"
   ]
  },
  {
   "cell_type": "markdown",
   "metadata": {
    "slideshow": {
     "slide_type": "subslide"
    }
   },
   "source": [
    "<a name=\"eq:varfairval\"></a>(3)\n",
    "$$\\begin{eqnarray*}\n",
    " \\mathbb{E} \\left[\\log\n",
    "\\left(\\frac{S_T}{F}\\right)\\right]\n",
    "  &=&\\,-\\int _{-\\infty} ^0 \\, dk \\,\n",
    " p(k)\\,-\\,\\int _0 ^\\infty \\, dk \\,\n",
    "  c(k)\n",
    "\\end{eqnarray*}$$\n",
    "\n",
    "with\n",
    "$$c(y) :=  \\frac{ \\tilde C(F e^y)}{F e^y}; \\, p(y) := \\frac{\\tilde P(F\n",
    "e^y)}{F e^y}$$ \n",
    "\n",
    "representing option prices expressed in terms of\n",
    "percentage of the strike price."
   ]
  },
  {
   "cell_type": "markdown",
   "metadata": {
    "slideshow": {
     "slide_type": "slide"
    }
   },
   "source": [
    "### Variance swaps\n",
    "\n",
    "Assume zero interest rates and dividends. Then $F=S_0$ and applying\n",
    "Itô’s Lemma, path-by-path\n",
    "\n",
    "<a name=\"eq:logcontract\"></a>(4)\n",
    "$$\\begin{eqnarray*}\n",
    " \\log\\left(\\frac{S_T}{F}\\right)\n",
    " &=&\n",
    " \\log\\left(\\frac{S_T}{S_0}\\right)\\nonumber\\\\\n",
    " &=& \\int _0 ^T \\, d\n",
    " \\log\\left({S_t}\\right)\\nonumber\\\\\n",
    " &=& \\int _0 ^T \\, \\frac {d S_t}{S_t}\\,-\\,\\int _0 ^T \\, \\frac {{\\sigma_t}^2}{2}dt\n",
    "\\end{eqnarray*}$$"
   ]
  },
  {
   "cell_type": "markdown",
   "metadata": {
    "slideshow": {
     "slide_type": "subslide"
    }
   },
   "source": [
    "* The second term on the RHS of equation [(4)](#eq:logcontract) is immediately recognizable as half the quadratic variation $\\langle x \\rangle_T$ over the interval $[ 0,T]$.\n",
    "  \n",
    "\n",
    "* The first term on the RHS represents the payoff of a hedging strategy which involves maintaining a constant dollar amount in stock (if the stock price increases, sell stock; if the stock price decreases, buy stock so as to maintain a constant dollar value of stock).   "
   ]
  },
  {
   "cell_type": "markdown",
   "metadata": {
    "slideshow": {
     "slide_type": "subslide"
    }
   },
   "source": [
    "* Since the log payoff on the LHS can be hedged using a portfolio of European options as noted earlier, it follows that quadratic variation may be replicated in a completely model-independent way so long as the stock price process is a diffusion.   \n",
    "\n",
    "    * In particular, volatility may be stochastic or deterministic and equation [(4)](#eq:logcontract) still applies.   "
   ]
  },
  {
   "cell_type": "markdown",
   "metadata": {
    "slideshow": {
     "slide_type": "slide"
    }
   },
   "source": [
    "### The log-strip hedge for a variance swap\n",
    "\n",
    "Now taking the risk-neutral expectation of [(4)](#eq:logcontract) and\n",
    "comparing with equation [(3)](#eq:varfairval), we obtain\n",
    "\n",
    "<a name=\"eq:varstrip\"></a>(5)\n",
    "$$\\mathbb{E}\\left[\\int _0 ^T \\,{\\sigma_{t}^2}dt\\right] =-\n",
    "2\\,\\mathbb{E}\\left[ \\log\\left(\\frac{S_T}{S_0}\\right)\\right]\\\\= 2\\left\\{\n",
    "\\int _{-\\infty} ^0 dk \\,\n",
    " p(k)\\,+\\,\\int _0 ^\\infty  dk \\,c(k)\\right\\}$$\n",
    "\n",
    "* We see that the fair value of quadratic variation is given by the value of an infinite strip of European options in a completely *model-independent* way so long as the underlying process is a diffusion.  "
   ]
  },
  {
   "cell_type": "markdown",
   "metadata": {
    "slideshow": {
     "slide_type": "slide"
    }
   },
   "source": [
    "### Weighted variance swaps\n",
    "\n",
    "Consider the weighted variance swap with payoff\n",
    "\n",
    "$$\\int_0^T\\,\\alpha(S_t)\\,v_t\\,dt.$$ \n",
    "\n",
    "An application of Itô’s Lemma gives\n",
    "the quasi-static hedge: \n",
    "\n",
    "<a name=\"eq:genVarSwap\"></a>(6)\n",
    "\\begin{equation}\n",
    "\\int_0^T\\,\\alpha(S_t)\\,v_t\\,dt = A(S_T)-A(S_0) - \\int_0^T\\,A'(S_u)\\,dS_u\n",
    "\\end{equation}\n",
    "\n",
    "with\n",
    "$$A(x) = 2\\,\\int_1^x\\,dy\\,\\int_1^y \\frac{\\alpha(z)}{z^2}\\,dz.$$"
   ]
  },
  {
   "cell_type": "markdown",
   "metadata": {
    "slideshow": {
     "slide_type": "subslide"
    }
   },
   "source": [
    "* The LHS of [(6)](#eq:genVarSwap) is the payoff to be hedged. The last term on the RHS of [(6)](#eq:genVarSwap) corresponds to rebalancing in the underlying. The first term on the RHS corresponds to a static position in options given by the spanning formula [(1)](#eq:spanning)."
   ]
  },
  {
   "cell_type": "markdown",
   "metadata": {
    "slideshow": {
     "slide_type": "slide"
    }
   },
   "source": [
    "### Example: Gamma swaps\n",
    "\n",
    "The payoff of a gamma swap is\n",
    "\n",
    "$$\\frac 1 {S_0} \\,\\int_0^T\\,S_t\\,v_t\\,dt.$$ \n",
    "\n",
    "Thus $\\alpha(x)=x$ and\n",
    "\n",
    "$$A(x) = \\frac{2}{S_0}\\,\\int_1^x\\,dy\\,\\int_1^y \\frac{z}{z^2}\\,dz = \\frac{2}{S_0}\\,\\left\\{1 -x + x \\, \\log x\\right\\}.$$\n",
    "\n",
    "The static options hedge is the spanning strip for $\\frac{2}{S_0}\\,S_T\\,\\log S_T$.\n",
    "\n",
    "* Gamma swaps are marketed as “less dangerous” because higher variances are associated with lower stock prices."
   ]
  },
  {
   "cell_type": "markdown",
   "metadata": {
    "slideshow": {
     "slide_type": "slide"
    }
   },
   "source": [
    "### Variance swaps and gamma swaps as traded assets\n",
    "\n",
    "Denote the time $t$ value of the option strip for a variance swap\n",
    "maturing at $T$ by $\\cV_t(T)$. That is\n",
    "\n",
    "$$\\cV_t(T)=-2\\,\\eef{\\log \\frac{S_T}{S_t}}={\\mathbb{E} }\\left [\\left. \\int_t^T\\,v_u\\,du \\right| {\\mathcal{F} }_t\\right].$$\n",
    "\n",
    "Similarly, for a gamma swap\n",
    "\n",
    "$$\\cG_t(T) =2\\,\\eef{\\frac{S_T}{S_t}\\,\\log \\frac{S_T}{S_t}}= {\\mathbb{E} }\\left [\\left. \\int_t^T\\,\\frac{S_u}{S_t}\\,v_u\\,du \\right| {\\mathcal{F} }_t\\right].$$"
   ]
  },
  {
   "cell_type": "markdown",
   "metadata": {
    "slideshow": {
     "slide_type": "subslide"
    }
   },
   "source": [
    "* Both $\\cV_t(T)$ and $\\cG_t(T)$ are stochastic processes representing the prices of traded assets.\n",
    "    * Specifically, values of portfolios of options appropriately weighted by strike.\n",
    "        * $\\cV_t(T)$ is given by the expectation $\\E_t[\\log S_T]$ of the log contract.\n",
    "        * $\\cG_t(T)$ is given by the expectation $\\E_t[S_T \\log S_T]$ of the entropy contract.\n",
    "    "
   ]
  },
  {
   "cell_type": "markdown",
   "metadata": {
    "slideshow": {
     "slide_type": "slide"
    }
   },
   "source": [
    "### The leverage swap\n",
    "\n",
    "Following [Fukasawa]<sup id=\"cite_ref-FukasawaMFIL\" class=\"reference\"><a href=\"#cite_note-FukasawaMFIL\">[6]</a></sup>, consider the expected quadratic covariation of the underlying and the variance swap:\n",
    "\n",
    "$$\\E\\left[\\langle S,\\cV(T) \\rangle_T \\right]:= {\\mathbb{E} }\\left[\\int_0^T\\,dS_t\\,d\\cV_t(T) \\right].$$\n",
    "\n",
    "Itô’s Lemma gives\n",
    "\n",
    "$$d(S_t\\,\\cV_t(T))=S_t\\,d\\cV_t(T) + \\cV_t(T)\\,dS_t + dS_t \\,d\\cV_t(T)$$ \n",
    "\n",
    "so\n",
    "\n",
    "$$\n",
    "\\E\\left[\\langle S,\\cV(T) \\rangle_T \\right]= \\E[S_T\\,\\cV_T(T)] - S_0\\,\\cV_0(T) - \\E\\left[ \\int_0^T\\,S_t\\,d\\cV_t(T)\\right].\n",
    "$$"
   ]
  },
  {
   "cell_type": "markdown",
   "metadata": {
    "slideshow": {
     "slide_type": "subslide"
    }
   },
   "source": [
    "Noting that $\\cV_T(T)=0$ and that $d\\cV_t(T) = -v_t\\,dt$, we obtain\n",
    "\n",
    "<a name=\"eq:covarianceSwap\"></a>(7)\n",
    "\\begin{eqnarray*}\n",
    "\\E\\left[\\langle S,\\cV(T) \\rangle_T \\right]&=& \\E\\left[ \\int_0^T\\,S_t\\,v_t\\,dt \\right]-  S_0\\,\\cV_0(T) \\nonumber\\\\\n",
    "&=& S_0\\,\\left(\\cG_0(T)- \\cV_0(T)\\right)\\\\\n",
    "&=&S_0\\, \\cL_0(T) \n",
    "\\end{eqnarray*}\n",
    "\n",
    "where $\\cL_0(T) = \\cG_0(T)- \\cV_0(T)$ is the *leverage* swap.\n",
    "\n",
    "Thus the leverage swap gives us the expected quadratic covariation between the underlying and the variance swap.\n",
    "\n",
    "   * This result is completely  *model independent*   (assuming diffusion), just as in the variance swap and gamma swap cases.\n",
    "   "
   ]
  },
  {
   "cell_type": "markdown",
   "metadata": {
    "slideshow": {
     "slide_type": "subslide"
    }
   },
   "source": [
    "#### Expression in terms of log and entropy contracts\n",
    "\n",
    "Going back to the expression of the variance and gamma swaps in terms of log and entropy contracts respectively,\n",
    "\n",
    "$$\n",
    "\\cL_t(T) = \\cG_t(T)- \\cV_t(T) = 2\\,\\E\\left[\\left(\\frac{S_T}{S_t}+1\\right)\\,\\log \\frac{S_T}{S_t}\\right].\n",
    "$$"
   ]
  },
  {
   "cell_type": "markdown",
   "metadata": {
    "slideshow": {
     "slide_type": "slide"
    }
   },
   "source": [
    "### Bergomi-Guyon again\n",
    "\n",
    "Recall from Lecture 3 that [Bergomi-Guyon]<sup id=\"cite_ref-BG\" class=\"reference\"><a href=\"#cite_note-BG\">[1]</a></sup> dynamics (this time with their original notation) are:\n",
    "\n",
    "\\begin{eqnarray*}\n",
    "\\frac{dS_t}{S_t} &=&\\sqrt{\\xi_t(t)}\\,dZ_t^{(1)}\\\\\n",
    "d\\xi_t(u) &=& \\lambda(t,u,\\xi_t).dZ_t.\n",
    "\\end{eqnarray*}\n",
    "\n",
    "Here, the instantaneous forward variance curve at time $t$ is represented by\n",
    "\n",
    "$$\n",
    "\\xi_t := \\left\\{\\xi_t(u): \\,u \\geq t \\right\\}\n",
    "$$\n",
    "\n",
    "and $Z=\\left\\{Z^{(1)},...,Z^{(d)}\\right\\}$ is a $d-$dimensional Brownian motion."
   ]
  },
  {
   "cell_type": "markdown",
   "metadata": {
    "slideshow": {
     "slide_type": "subslide"
    }
   },
   "source": [
    "### The Bergomi-Guyon expansion to first order\n",
    "\n",
    "To first order in volatility of volatility, the Bergomi-Guyon expansion takes the form\n",
    "\n",
    "$$\n",
    "\\sigma_\\text{BS}(k,t)=\\hat\\sigma_T + \\mathcal{S}_T\\,k  +\\cO(\\epsilon^2)\n",
    "$$ \n",
    "\n",
    "with \n",
    "\n",
    "\\begin{eqnarray*}\n",
    "\\hat\\sigma_T &=& \\sqrt{\\frac w T} \\,\\left\\{ 1 + \\frac{1}{4\\,w}\\,C^{x \\xi}  \\right\\}\\\\\n",
    "\\mathcal{S}_T &=&  \\sqrt{\\frac w T} \\,\\left\\{\\frac{1}{2\\,w^2}\\,C^{x\\,\\xi} \\right\\}\n",
    "\\end{eqnarray*}\n",
    "\n",
    "where\n",
    "$\n",
    "w = \\int_0^T\\,\\xi_0(s)\\,ds = \\cV_0(T)\n",
    "$\n",
    "is total variance to expiration $T$."
   ]
  },
  {
   "cell_type": "markdown",
   "metadata": {
    "slideshow": {
     "slide_type": "subslide"
    }
   },
   "source": [
    "From the definition of the *spot-vol autocovariance functional* $C^{x \\xi}$,\n",
    "\n",
    "$$\n",
    "\\begin{eqnarray*}\n",
    "C^{x\\,\\xi} &=& \\int_0^T\\,dt\\,\\int_t^T\\,du\\,\\frac{\\E \\left[dx_t\\,d\\xi_t(u)\\right]}{dt}\\\\\n",
    "&=& \\int_0^T\\,dt\\,\\frac{\\E \\left[dx_t\\,d\\cV_t(T)\\right]}{dt}\\\\\n",
    "&=& \\E\\left[\\langle \\log S,\\cV(T) \\rangle_T \\right]\\\\\n",
    "&=& \\E\\left[\\langle \\log S,\\cG(T) \\rangle_T \\right] + \\cO(\\epsilon)\\\\\n",
    "&=& \\cL_0(T) + \\cO(\\epsilon).\n",
    "\\end{eqnarray*}\n",
    "$$\n",
    "\n",
    "where we further used the fact (see Fukasawa again) that $\\cL_0(T)=\\E\\left[\\langle \\log S,\\cG(T) \\rangle_T \\right]$.  "
   ]
  },
  {
   "cell_type": "markdown",
   "metadata": {
    "slideshow": {
     "slide_type": "subslide"
    }
   },
   "source": [
    "Then\n",
    "\n",
    "\\begin{eqnarray*}\n",
    "\\sigma_\\text{BS}^2(k,t)\\, T &=& \\hat\\sigma_T^2\\,T + 2\\,\\hat\\sigma_T^2\\,\\mathcal{S}_T\\,k  +O(\\epsilon^2)\\\\\n",
    "&=& w + \\frac12\\,C^{x \\xi} + C^{x \\xi}\\,\\frac{k}{w}+\\cO(\\epsilon^2).\n",
    "\\end{eqnarray*}\n",
    "\n",
    "Noting that $w=\\cV_0(T)$, we find the following first order approximation to the at-the-money total variance skew in terms of the leverage swap:\n",
    "\n",
    "$$\n",
    "\\left.\\partial_k \\sigma_\\text{BS}^2(k,t)\\, T \\right|_{k=0}=\\frac{\\cL_0(T)}{\\cV_0(T)} + \\cO(\\epsilon^2).\n",
    "$$\n",
    "\n",
    "Thus, to first order in vol of vol, the leverage swap is given by the variance skew."
   ]
  },
  {
   "cell_type": "markdown",
   "metadata": {
    "slideshow": {
     "slide_type": "slide"
    }
   },
   "source": [
    "### Variance swap contracts in practice\n",
    "\n",
    "* A variance swap is not really a swap at all but a forward contract on the realized annualized variance. The payoff at time $T$ is\n",
    "\n",
    "    $$N\\times A \\times \\left\\{ \\frac{1}{N}\\sum _{i=1} ^N \\left\\{\\log\n",
    "    \\left(\\frac{S_i}{S_{i-1}} \\right)\\right\\}^2\n",
    "    \\,-\\,\\left\\{\\frac{1}{N}\\log \\left(\\frac{S_N}{S_0} \\right)\\right\\}^2\n",
    "     \\right\\}\\,-\\,N\\times K_{var}$$ \n",
    "     \n",
    "     where $N$ is the notional amount of the swap, $A$ is the annualization factor and $K_{var}$ is the strike price.\n",
    "  "
   ]
  },
  {
   "cell_type": "markdown",
   "metadata": {
    "slideshow": {
     "slide_type": "subslide"
    }
   },
   "source": [
    "  \n",
    "* Annualized variance may or may not be defined as mean-adjusted in practice.  \n",
    "\n",
    "\n",
    "* From a theoretical perspective, the beauty of a variance swap is that it may be replicated perfectly assuming a diffusion process for the stock price as shown in the previous section.\n",
    "\n",
    "\n",
    "* From a practical perspective, traders may express views on volatility using variance swaps without having to delta hedge.  "
   ]
  },
  {
   "cell_type": "markdown",
   "metadata": {
    "slideshow": {
     "slide_type": "slide"
    }
   },
   "source": [
    "### History of variance swaps\n",
    "\n",
    "* Variance swaps took off as a product in the aftermath of the LTCM meltdown in late 1998 when implied stock index volatility levels rose to unprecedented levels.   \n",
    "\n",
    "\n",
    "*  Hedge funds took advantage of this by paying variance in swaps (selling the realized volatility at high implied levels).  \n",
    "\n",
    "    * The key to their willingness to pay on a variance swap rather than sell options was that a variance swap is a pure play on realized volatility – no labor-intensive delta hedging or other path dependency is involved.  "
   ]
  },
  {
   "cell_type": "markdown",
   "metadata": {
    "slideshow": {
     "slide_type": "subslide"
    }
   },
   "source": [
    "* Dealers were happy to buy vega at these high levels because they were structurally short vega (in the aggregate) through sales of guaranteed equity-linked investments to retail investors and were getting badly hurt by high implied volatility levels.  "
   ]
  },
  {
   "cell_type": "markdown",
   "metadata": {
    "slideshow": {
     "slide_type": "slide"
    }
   },
   "source": [
    "### Variance swaps in the Heston model\n",
    "\n",
    "Recall that $v$ follows the process:\n",
    "\n",
    "$$dv_t =  - \\lambda (v_{t} - \\bar v)dt + \\eta \\,\\sqrt {v_{t}}\\, dZ_t$$\n",
    "\n",
    "Then\n",
    "\n",
    "$$\\begin{eqnarray*}\n",
    " \\cV_0(T)\n",
    " &=&\\mathbb{E} \\left[\\int_0 ^T \\, v_t \\,dt \\right]\\nonumber\\\\\n",
    " &=&\\frac{1-e^{-\\lambda T}}{\\lambda}\\,(v_0-\\bar v)\\,+\\,\\bar v T\\end{eqnarray*}$$"
   ]
  },
  {
   "cell_type": "markdown",
   "metadata": {
    "slideshow": {
     "slide_type": "subslide"
    }
   },
   "source": [
    "The expected annualized variance is given by\n",
    "\n",
    "$$\\frac{1}{T}\\cV_0(T) \\,=\\,\\frac{1-e^{-\\lambda\n",
    "T}}{\\lambda T}\\,(v_0-\\bar v)\\,+\\,\\bar v.$$\n",
    "\n",
    "\n",
    "* Note that expected variance in the Heston model depends only on $v_0$, $\\bar v$ and $\\lambda$.   \n",
    "\n",
    "    * It does not depend on the volatility of volatility $\\eta$.   "
   ]
  },
  {
   "cell_type": "markdown",
   "metadata": {
    "slideshow": {
     "slide_type": "slide"
    }
   },
   "source": [
    "### Robust valuation of swaps\n",
    "\n",
    "- So far, we have seen that variance, gamma, and covariance swaps may be valued straightforwardly if the prices of Europeans with all possible strikes for a given expiration are known.\n",
    "    - In practice, we only have a finite number of strike prices listed per expiration.\n",
    "\n",
    "\n",
    "- One way to estimate the value of such swaps is to fit a parameterization such as SVI or one of the [Vola Dyanmics](https://www.voladynamics.com) curves, interpolating and extrapolating to fill in all the other strikes."
   ]
  },
  {
   "cell_type": "markdown",
   "metadata": {
    "slideshow": {
     "slide_type": "subslide"
    }
   },
   "source": [
    "- We will now show that it is possible to estimate swap values robustly with not too much dependence on the interpolation/extrapolation method."
   ]
  },
  {
   "cell_type": "markdown",
   "metadata": {
    "slideshow": {
     "slide_type": "slide"
    }
   },
   "source": [
    "### A cool formula\n",
    "\n",
    "Define\n",
    "\n",
    "$$\n",
    "d_\\pm=-\\frac{k}{\\sigma_{BS}(k)\\sqrt{T}}\\pm \\frac{\\sigma_{BS}(k)\\sqrt{T}}{2}\n",
    "$$\n",
    "\n",
    "and further define the inverse functions\n",
    "$\n",
    "g_\\pm(z) = d_\\pm^{-1}(z)\n",
    "$.  \n",
    "\n",
    "\n",
    "Intuitively, $z$ measures the log-moneyness of an option in implied\n",
    "standard deviations.  Then,\n",
    "\n",
    "<a name=\"eq:vard2\"></a>(8)\n",
    "\n",
    "$$\n",
    "\\mathbb{E}[\\cV_0(T)]=-2\\,\\mathbb{E}\\left[\\log\\frac{S_T}{F}\\right]=\\int\\limits_{-\\infty}^{\\infty}dz \\,N'(z)\\,\n",
    "\\sigma_{BS}^2\\left(g_-(z)\\right) T.\n",
    "$$\n",
    "\n",
    "To see this formula is plausible, it is obviously correct in the flat-volatility Black-Scholes case. We now proceed to prove it."
   ]
  },
  {
   "cell_type": "markdown",
   "metadata": {
    "slideshow": {
     "slide_type": "subslide"
    }
   },
   "source": [
    "### Proof of equation [(8)](#eq:vard2)\n",
    "\n",
    "As usual, the undiscounted European call option price is given by\n",
    "\n",
    "$$\n",
    "C = F\\left\\{ N(  d_+ ) - e^k N (d_-)\\right\\}\n",
    "$$ \n",
    "where $k:=\\log(K/F)$ is the log-strike, $w = \\sigma_{\\text{BS}}^2(k,T)\\,T$ and\n",
    "\n",
    "$$\n",
    "d_\\pm  =  - \\frac{k}{{\\sqrt w }} \\pm \\frac{{\\sqrt\n",
    "w }}{2}.\n",
    "$$\n",
    "\n",
    "Differentiating wrt the strike $K$ we obtain\n",
    "\n",
    "$$\\frac{{\\partial C}}{{\\partial K}} = \\frac{1}{K}\\frac{{\\partial\n",
    "C}}{{\\partial k}} =  - N\\left( d_- \\right) + N'\\left( d_- \\right)\\frac{{\\partial \\sqrt w }}{{\\partial\n",
    "k}}$$ "
   ]
  },
  {
   "cell_type": "markdown",
   "metadata": {
    "slideshow": {
     "slide_type": "subslide"
    }
   },
   "source": [
    "Recall that the fair value of a variance swap under\n",
    "diffusion may be obtained by valuing a contract that pays $ 2 \\,\\log\n",
    "\\left( {S_T/F} \\right)$ at maturity $T$.  Then\n",
    "\n",
    "\n",
    "$$\n",
    "\\begin{eqnarray*}\n",
    " 2{\\mathbb{E}}\\left[ {\\log \\frac{S_T}{F}} \\right] &=& 2\\int_{0 }^\\infty  {dK\\log\\left( \\frac{K}{F}\\right)\\,\\frac{{\\partial ^2 C}}{{\\partial K^2 }}}  \\nonumber\\\\\n",
    "  &=& 2\\int_{ - \\infty }^\\infty  {dk\\,k\\,N'\\left( {d_- } \\right)\\left\\{ { - \\frac{{\\partial d_- }}{{\\partial k}}\\left( {1 + d_- \\frac{{\\partial \\sqrt w }}{{\\partial k}}} \\right) + \\frac{{\\partial ^2 \\sqrt w }}{{\\partial k^2 }}} \\right\\}}  \\nonumber\\\\\n",
    "  &=& 2\\int_{ - \\infty }^\\infty  {dk\\,N'\\left( {d_- } \\right)\\left\\{ { - k\\frac{{\\partial d_- }}{{\\partial k}} - \\frac{{\\partial \\sqrt w }}{{\\partial k}}} \\right\\}}  \\nonumber\\\\\n",
    "  &=& \\int_{ - \\infty }^\\infty  {dk\\,N'\\left( {d_- } \\right)\\,\\frac{{\\partial d_- }}{{\\partial k}}\\,w}\n",
    "\\end{eqnarray*}\n",
    "$$\n",
    "\n",
    "which recovers equation [(8)](#eq:vard2) as required."
   ]
  },
  {
   "cell_type": "markdown",
   "metadata": {
    "slideshow": {
     "slide_type": "slide"
    }
   },
   "source": [
    "### A generalization due to Fukusawa\n",
    "\n",
    "[Fukasawa]<sup id=\"cite_ref-Fukasawa\" class=\"reference\"><a href=\"#cite_note-Fukasawa\">[5]</a></sup> derives an expression for the value of a generalized European\n",
    "payoff in terms of implied volatilities.\n",
    "\n",
    "As one application, he derives the following expression for the value of a gamma swap.  \n",
    "\n",
    "\n",
    "<a name=\"eq:vard1\"></a>(9)\n",
    "$$\n",
    "\\mathbb{E}[\\cG_t(T)]=2\\,\\mathbb{E}\\left[\\frac{S_T}{F}\\log\\frac{S_T}{F}\\right]=\\int\\limits_{-\\infty}^{\\infty}dz \\,N'(z)\\,\n",
    "\\sigma_{BS}^2\\left(g_+(z)\\right) T.\n",
    "$$\n",
    "(note $g_+$ instead of $g_-$ in the variance swap case).\n",
    "\n",
    "- In particular, if we have a parameterization of the volatility smile (such as SVI), computing the fair value of the covariance swap is straightforward."
   ]
  },
  {
   "cell_type": "markdown",
   "metadata": {
    "slideshow": {
     "slide_type": "slide"
    }
   },
   "source": [
    "### Dependence of variance swap on skew and curvature\n",
    "\n",
    "Now consider the following simple parameterization of the BS implied\n",
    "variance skew:\n",
    "\n",
    "$$\\sigma_{BS}^2(z)\\,=\\sigma_{0}^2 +\\alpha\\, z \\,+\\, \\beta\\, z^2$$\n",
    "\n",
    "with $z = d_-$.  Substituting into equation [(8)](#eq:vard2) and integrating, we obtain\n",
    "\n",
    "$$\\mathbb{E}[\\cV_0(T)]=\\sigma_{0}^2 T + \\beta T.$$"
   ]
  },
  {
   "cell_type": "markdown",
   "metadata": {
    "slideshow": {
     "slide_type": "subslide"
    }
   },
   "source": [
    "* Skew makes no contribution to this expression, only the curvature contributes.  \n",
    "\n",
    "\n",
    "* The intuition for this is simply that increasing the skew does not change the average level of volatility but increasing the curvature $\\beta$ increases the prices of puts and calls in equation [(3)](#eq:varfairval) and always increases the fair value of variance.\n",
    "  "
   ]
  },
  {
   "cell_type": "markdown",
   "metadata": {
    "slideshow": {
     "slide_type": "slide"
    }
   },
   "source": [
    "### Robust valuation\n",
    "\n",
    "Following [Fukasawa]<sup id=\"cite_ref-Fukasawa\" class=\"reference\"><a href=\"#cite_note-Fukasawa\">[5]</a></sup> again, putting $y = N(z)$, we obtain\n",
    "\n",
    "$$\n",
    "\\int_{-\\infty}^\\infty N'(z) \\,\\sigma^2(z)\\,dz = \\int_0^1 \\,\\sigma^2(y)\\,dy.\n",
    "$$\n",
    "\n",
    "- It turns out that the integrand $\\sigma^2(y)$ is typically a very nice function of $y$ in practice.\n",
    "- The integral is not very dependent on the method of interpolation or extrapolation."
   ]
  },
  {
   "cell_type": "markdown",
   "metadata": {
    "slideshow": {
     "slide_type": "fragment"
    }
   },
   "source": [
    "Let's see how this works with real data..."
   ]
  },
  {
   "cell_type": "markdown",
   "metadata": {
    "slideshow": {
     "slide_type": "slide"
    }
   },
   "source": [
    "### Download some code"
   ]
  },
  {
   "cell_type": "code",
   "execution_count": 1,
   "metadata": {
    "slideshow": {
     "slide_type": "fragment"
    }
   },
   "outputs": [
    {
     "name": "stderr",
     "output_type": "stream",
     "text": [
      "Warning message:\n",
      "\"package 'stinepack' was built under R version 3.4.4\""
     ]
    }
   ],
   "source": [
    "download.file(url=\"http://mfe.baruch.cuny.edu/wp-content/uploads/2018/09/9875-5.zip\", destfile=\"9875-5.zip\")\n",
    "unzip(zipfile=\"9875-5.zip\")\n",
    "\n",
    "source(\"BlackScholes.R\")\n",
    "source(\"plotIvols.R\")\n",
    "source(\"FukasawaRobust.R\")"
   ]
  },
  {
   "cell_type": "markdown",
   "metadata": {
    "slideshow": {
     "slide_type": "slide"
    }
   },
   "source": [
    "### SPX smiles as of April 24, 2017\n",
    "\n",
    "- We use SPX option data from OptionMetrics on WRDS (<https://wrds-web.wharton.upenn.edu/wrds/>) as of the close on April 24, 2017.\n",
    "\n",
    "\n",
    "- We will estimate variance swaps and gamma swaps using Fukasawa's robust methodology."
   ]
  },
  {
   "cell_type": "code",
   "execution_count": 2,
   "metadata": {
    "slideshow": {
     "slide_type": "subslide"
    }
   },
   "outputs": [
    {
     "data": {
      "text/html": [
       "<table>\n",
       "<thead><tr><th scope=col>X</th><th scope=col>Expiry</th><th scope=col>Texp</th><th scope=col>Strike</th><th scope=col>Bid</th><th scope=col>Ask</th><th scope=col>Fwd</th><th scope=col>CallMid</th><th scope=col>PV</th></tr></thead>\n",
       "<tbody>\n",
       "\t<tr><td>1          </td><td>4/26/17    </td><td>0.002737851</td><td>2275       </td><td>0.3470891  </td><td>0.3745447  </td><td>2387.867   </td><td>112.94255  </td><td>0.998      </td></tr>\n",
       "\t<tr><td>2          </td><td>4/26/17    </td><td>0.002737851</td><td>2290       </td><td>0.3045018  </td><td>0.3291942  </td><td>2387.867   </td><td> 97.94255  </td><td>0.998      </td></tr>\n",
       "\t<tr><td>3          </td><td>4/26/17    </td><td>0.002737851</td><td>2295       </td><td>0.2902495  </td><td>0.3140047  </td><td>2387.867   </td><td> 92.94255  </td><td>0.998      </td></tr>\n",
       "\t<tr><td>4          </td><td>4/26/17    </td><td>0.002737851</td><td>2300       </td><td>0.2759625  </td><td>0.2987715  </td><td>2387.867   </td><td> 87.94255  </td><td>0.998      </td></tr>\n",
       "\t<tr><td>5          </td><td>4/26/17    </td><td>0.002737851</td><td>2305       </td><td>0.2616363  </td><td>0.2985407  </td><td>2387.867   </td><td> 82.96760  </td><td>0.998      </td></tr>\n",
       "\t<tr><td>6          </td><td>4/26/17    </td><td>0.002737851</td><td>2310       </td><td>0.2472659  </td><td>0.2825590  </td><td>2387.867   </td><td> 77.96760  </td><td>0.998      </td></tr>\n",
       "</tbody>\n",
       "</table>\n"
      ],
      "text/latex": [
       "\\begin{tabular}{r|lllllllll}\n",
       " X & Expiry & Texp & Strike & Bid & Ask & Fwd & CallMid & PV\\\\\n",
       "\\hline\n",
       "\t 1           & 4/26/17     & 0.002737851 & 2275        & 0.3470891   & 0.3745447   & 2387.867    & 112.94255   & 0.998      \\\\\n",
       "\t 2           & 4/26/17     & 0.002737851 & 2290        & 0.3045018   & 0.3291942   & 2387.867    &  97.94255   & 0.998      \\\\\n",
       "\t 3           & 4/26/17     & 0.002737851 & 2295        & 0.2902495   & 0.3140047   & 2387.867    &  92.94255   & 0.998      \\\\\n",
       "\t 4           & 4/26/17     & 0.002737851 & 2300        & 0.2759625   & 0.2987715   & 2387.867    &  87.94255   & 0.998      \\\\\n",
       "\t 5           & 4/26/17     & 0.002737851 & 2305        & 0.2616363   & 0.2985407   & 2387.867    &  82.96760   & 0.998      \\\\\n",
       "\t 6           & 4/26/17     & 0.002737851 & 2310        & 0.2472659   & 0.2825590   & 2387.867    &  77.96760   & 0.998      \\\\\n",
       "\\end{tabular}\n"
      ],
      "text/markdown": [
       "\n",
       "X | Expiry | Texp | Strike | Bid | Ask | Fwd | CallMid | PV | \n",
       "|---|---|---|---|---|---|\n",
       "| 1           | 4/26/17     | 0.002737851 | 2275        | 0.3470891   | 0.3745447   | 2387.867    | 112.94255   | 0.998       | \n",
       "| 2           | 4/26/17     | 0.002737851 | 2290        | 0.3045018   | 0.3291942   | 2387.867    |  97.94255   | 0.998       | \n",
       "| 3           | 4/26/17     | 0.002737851 | 2295        | 0.2902495   | 0.3140047   | 2387.867    |  92.94255   | 0.998       | \n",
       "| 4           | 4/26/17     | 0.002737851 | 2300        | 0.2759625   | 0.2987715   | 2387.867    |  87.94255   | 0.998       | \n",
       "| 5           | 4/26/17     | 0.002737851 | 2305        | 0.2616363   | 0.2985407   | 2387.867    |  82.96760   | 0.998       | \n",
       "| 6           | 4/26/17     | 0.002737851 | 2310        | 0.2472659   | 0.2825590   | 2387.867    |  77.96760   | 0.998       | \n",
       "\n",
       "\n"
      ],
      "text/plain": [
       "  X Expiry  Texp        Strike Bid       Ask       Fwd      CallMid   PV   \n",
       "1 1 4/26/17 0.002737851 2275   0.3470891 0.3745447 2387.867 112.94255 0.998\n",
       "2 2 4/26/17 0.002737851 2290   0.3045018 0.3291942 2387.867  97.94255 0.998\n",
       "3 3 4/26/17 0.002737851 2295   0.2902495 0.3140047 2387.867  92.94255 0.998\n",
       "4 4 4/26/17 0.002737851 2300   0.2759625 0.2987715 2387.867  87.94255 0.998\n",
       "5 5 4/26/17 0.002737851 2305   0.2616363 0.2985407 2387.867  82.96760 0.998\n",
       "6 6 4/26/17 0.002737851 2310   0.2472659 0.2825590 2387.867  77.96760 0.998"
      ]
     },
     "metadata": {},
     "output_type": "display_data"
    }
   ],
   "source": [
    "ivolData <- read.csv(\"spxVols20170424.csv\")\n",
    "\n",
    "head(ivolData)"
   ]
  },
  {
   "cell_type": "code",
   "execution_count": 3,
   "metadata": {
    "slideshow": {
     "slide_type": "fragment"
    }
   },
   "outputs": [],
   "source": [
    "library(repr)\n",
    "options(repr.plot.width=14,repr.plot.height=8)"
   ]
  },
  {
   "cell_type": "code",
   "execution_count": 4,
   "metadata": {
    "slideshow": {
     "slide_type": "subslide"
    }
   },
   "outputs": [
    {
     "data": {
      "image/png": "[encoded data removed]",
      "text/plain": [
       "Plot with title \"NA\""
      ]
     },
     "metadata": {},
     "output_type": "display_data"
    }
   ],
   "source": [
    "res <- plotIvols(ivolData)"
   ]
  },
  {
   "cell_type": "markdown",
   "metadata": {
    "slideshow": {
     "slide_type": "fragment"
    }
   },
   "source": [
    "Figure 1: SPX smiles as of April 24, 2017."
   ]
  },
  {
   "cell_type": "markdown",
   "metadata": {
    "slideshow": {
     "slide_type": "slide"
    }
   },
   "source": [
    "### Estimated variance swap curve"
   ]
  },
  {
   "cell_type": "markdown",
   "metadata": {
    "slideshow": {
     "slide_type": "fragment"
    }
   },
   "source": [
    "Here's a function to estimate the variance swap robustly with flat extrapolation."
   ]
  },
  {
   "cell_type": "code",
   "execution_count": 5,
   "metadata": {
    "slideshow": {
     "slide_type": "fragment"
    }
   },
   "outputs": [
    {
     "data": {
      "text/html": [
       "<pre class=language-r><code>function (ivolData, slices = NULL) \n",
       "{\n",
       "<span style=white-space:pre-wrap>    bidVols &lt;- as.numeric(ivolData$Bid)</span>\n",
       "<span style=white-space:pre-wrap>    askVols &lt;- as.numeric(ivolData$Ask)</span>\n",
       "<span style=white-space:pre-wrap>    expDates &lt;- sort(unique(ivolData$Texp))</span>\n",
       "<span style=white-space:pre-wrap>    nSlices &lt;- length(expDates)</span>\n",
       "<span style=white-space:pre-wrap>    if (!is.null(slices)) {</span>\n",
       "<span style=white-space:pre-wrap>        nSlices &lt;- length(slices)</span>\n",
       "<span style=white-space:pre-wrap>    }</span>\n",
       "<span style=white-space:pre-wrap>    else {</span>\n",
       "<span style=white-space:pre-wrap>        slices &lt;- 1:nSlices</span>\n",
       "<span style=white-space:pre-wrap>    }</span>\n",
       "<span style=white-space:pre-wrap>    vs.mid &lt;- numeric(nSlices)</span>\n",
       "<span style=white-space:pre-wrap>    vs.bid &lt;- numeric(nSlices)</span>\n",
       "<span style=white-space:pre-wrap>    vs.ask &lt;- numeric(nSlices)</span>\n",
       "<span style=white-space:pre-wrap>    vs.lh &lt;- numeric(nSlices)</span>\n",
       "<span style=white-space:pre-wrap>    vs.rh &lt;- numeric(nSlices)</span>\n",
       "<span style=white-space:pre-wrap>    varswap &lt;- function(kIn, vol.series, include, slice) {</span>\n",
       "<span style=white-space:pre-wrap>        t &lt;- expDates[slice]</span>\n",
       "<span style=white-space:pre-wrap>        volIn &lt;- vol.series[include]</span>\n",
       "<span style=white-space:pre-wrap>        sigIn &lt;- volIn * sqrt(t)</span>\n",
       "<span style=white-space:pre-wrap>        zm.In &lt;- -kIn/sigIn - sigIn/2</span>\n",
       "<span style=white-space:pre-wrap>        zp.In &lt;- zm.In + sigIn</span>\n",
       "<span style=white-space:pre-wrap>        yIn &lt;- pnorm(zm.In)</span>\n",
       "<span style=white-space:pre-wrap>        ord.yIn &lt;- order(yIn)</span>\n",
       "<span style=white-space:pre-wrap>        sigIn.y &lt;- sigIn[ord.yIn]</span>\n",
       "<span style=white-space:pre-wrap>        y.min &lt;- min(yIn)</span>\n",
       "<span style=white-space:pre-wrap>        y.max &lt;- max(yIn)</span>\n",
       "<span style=white-space:pre-wrap>        sigIn.0 &lt;- sigIn.y[1]</span>\n",
       "<span style=white-space:pre-wrap>        sigIn.1 &lt;- tail(sigIn.y, 1)</span>\n",
       "<span style=white-space:pre-wrap>        k.max &lt;- kIn[ord.yIn][1]</span>\n",
       "<span style=white-space:pre-wrap>        k.min &lt;- tail(kIn[ord.yIn], 1)</span>\n",
       "<span style=white-space:pre-wrap>        integVar &lt;- function(yOut) {</span>\n",
       "<span style=white-space:pre-wrap>            stinterp(x = sort(yIn), y = sigIn.y^2, yOut)$y</span>\n",
       "<span style=white-space:pre-wrap>        }</span>\n",
       "<span style=white-space:pre-wrap>        wbar.flat &lt;- integrate(integVar, lower = y.min, upper = y.max)$value</span>\n",
       "<span style=white-space:pre-wrap>        res.mid &lt;- wbar.flat</span>\n",
       "<span style=white-space:pre-wrap>        z.minus &lt;- (zm.In[ord.yIn])[1]</span>\n",
       "<span style=white-space:pre-wrap>        res.lh &lt;- sigIn.0^2 * pnorm(z.minus)</span>\n",
       "<span style=white-space:pre-wrap>        z.plus &lt;- tail(zm.In[ord.yIn], 1)</span>\n",
       "<span style=white-space:pre-wrap>        res.rh &lt;- sigIn.1^2 * pnorm(-z.plus)</span>\n",
       "<span style=white-space:pre-wrap>        res.vs &lt;- res.mid + res.lh + res.rh</span>\n",
       "<span style=white-space:pre-wrap>        return(res.vs)</span>\n",
       "<span style=white-space:pre-wrap>    }</span>\n",
       "<span style=white-space:pre-wrap>    for (slice in slices) {</span>\n",
       "<span style=white-space:pre-wrap>        t &lt;- expDates[slice]</span>\n",
       "<span style=white-space:pre-wrap>        texp &lt;- ivolData$Texp</span>\n",
       "<span style=white-space:pre-wrap>        bidVol &lt;- bidVols[texp == t]</span>\n",
       "<span style=white-space:pre-wrap>        askVol &lt;- askVols[texp == t]</span>\n",
       "<span style=white-space:pre-wrap>        midVol &lt;- (bidVol + askVol)/2</span>\n",
       "<span style=white-space:pre-wrap>        f &lt;- (ivolData$Fwd[texp == t])[1]</span>\n",
       "<span style=white-space:pre-wrap>        k &lt;- log(ivolData$Strike[texp == t]/f)</span>\n",
       "<span style=white-space:pre-wrap>        include &lt;- !is.na(midVol)</span>\n",
       "<span style=white-space:pre-wrap>        kIn &lt;- k[include]</span>\n",
       "<span style=white-space:pre-wrap>        vs.mid[slice] &lt;- varswap(kIn, midVol, include, slice)/t</span>\n",
       "<span style=white-space:pre-wrap>        vs.bid[slice] &lt;- varswap(kIn, bidVol, include, slice)/t</span>\n",
       "<span style=white-space:pre-wrap>        vs.ask[slice] &lt;- varswap(kIn, askVol, include, slice)/t</span>\n",
       "<span style=white-space:pre-wrap>    }</span>\n",
       "<span style=white-space:pre-wrap>    return(list(expiries = expDates, vs.mid = vs.mid, vs.bid = vs.bid, </span>\n",
       "<span style=white-space:pre-wrap>        vs.ask = vs.ask))</span>\n",
       "}</code></pre>"
      ],
      "text/latex": [
       "\\begin{minted}{r}\n",
       "function (ivolData, slices = NULL) \n",
       "\\{\n",
       "    bidVols <- as.numeric(ivolData\\$Bid)\n",
       "    askVols <- as.numeric(ivolData\\$Ask)\n",
       "    expDates <- sort(unique(ivolData\\$Texp))\n",
       "    nSlices <- length(expDates)\n",
       "    if (!is.null(slices)) \\{\n",
       "        nSlices <- length(slices)\n",
       "    \\}\n",
       "    else \\{\n",
       "        slices <- 1:nSlices\n",
       "    \\}\n",
       "    vs.mid <- numeric(nSlices)\n",
       "    vs.bid <- numeric(nSlices)\n",
       "    vs.ask <- numeric(nSlices)\n",
       "    vs.lh <- numeric(nSlices)\n",
       "    vs.rh <- numeric(nSlices)\n",
       "    varswap <- function(kIn, vol.series, include, slice) \\{\n",
       "        t <- expDates{[}slice{]}\n",
       "        volIn <- vol.series{[}include{]}\n",
       "        sigIn <- volIn * sqrt(t)\n",
       "        zm.In <- -kIn/sigIn - sigIn/2\n",
       "        zp.In <- zm.In + sigIn\n",
       "        yIn <- pnorm(zm.In)\n",
       "        ord.yIn <- order(yIn)\n",
       "        sigIn.y <- sigIn{[}ord.yIn{]}\n",
       "        y.min <- min(yIn)\n",
       "        y.max <- max(yIn)\n",
       "        sigIn.0 <- sigIn.y{[}1{]}\n",
       "        sigIn.1 <- tail(sigIn.y, 1)\n",
       "        k.max <- kIn{[}ord.yIn{]}{[}1{]}\n",
       "        k.min <- tail(kIn{[}ord.yIn{]}, 1)\n",
       "        integVar <- function(yOut) \\{\n",
       "            stinterp(x = sort(yIn), y = sigIn.y\\textasciicircum{}2, yOut)\\$y\n",
       "        \\}\n",
       "        wbar.flat <- integrate(integVar, lower = y.min, upper = y.max)\\$value\n",
       "        res.mid <- wbar.flat\n",
       "        z.minus <- (zm.In{[}ord.yIn{]}){[}1{]}\n",
       "        res.lh <- sigIn.0\\textasciicircum{}2 * pnorm(z.minus)\n",
       "        z.plus <- tail(zm.In{[}ord.yIn{]}, 1)\n",
       "        res.rh <- sigIn.1\\textasciicircum{}2 * pnorm(-z.plus)\n",
       "        res.vs <- res.mid + res.lh + res.rh\n",
       "        return(res.vs)\n",
       "    \\}\n",
       "    for (slice in slices) \\{\n",
       "        t <- expDates{[}slice{]}\n",
       "        texp <- ivolData\\$Texp\n",
       "        bidVol <- bidVols{[}texp == t{]}\n",
       "        askVol <- askVols{[}texp == t{]}\n",
       "        midVol <- (bidVol + askVol)/2\n",
       "        f <- (ivolData\\$Fwd{[}texp == t{]}){[}1{]}\n",
       "        k <- log(ivolData\\$Strike{[}texp == t{]}/f)\n",
       "        include <- !is.na(midVol)\n",
       "        kIn <- k{[}include{]}\n",
       "        vs.mid{[}slice{]} <- varswap(kIn, midVol, include, slice)/t\n",
       "        vs.bid{[}slice{]} <- varswap(kIn, bidVol, include, slice)/t\n",
       "        vs.ask{[}slice{]} <- varswap(kIn, askVol, include, slice)/t\n",
       "    \\}\n",
       "    return(list(expiries = expDates, vs.mid = vs.mid, vs.bid = vs.bid, \n",
       "        vs.ask = vs.ask))\n",
       "\\}\n",
       "\\end{minted}"
      ],
      "text/markdown": [
       "```r\n",
       "function (ivolData, slices = NULL) \n",
       "{\n",
       "    bidVols <- as.numeric(ivolData$Bid)\n",
       "    askVols <- as.numeric(ivolData$Ask)\n",
       "    expDates <- sort(unique(ivolData$Texp))\n",
       "    nSlices <- length(expDates)\n",
       "    if (!is.null(slices)) {\n",
       "        nSlices <- length(slices)\n",
       "    }\n",
       "    else {\n",
       "        slices <- 1:nSlices\n",
       "    }\n",
       "    vs.mid <- numeric(nSlices)\n",
       "    vs.bid <- numeric(nSlices)\n",
       "    vs.ask <- numeric(nSlices)\n",
       "    vs.lh <- numeric(nSlices)\n",
       "    vs.rh <- numeric(nSlices)\n",
       "    varswap <- function(kIn, vol.series, include, slice) {\n",
       "        t <- expDates[slice]\n",
       "        volIn <- vol.series[include]\n",
       "        sigIn <- volIn * sqrt(t)\n",
       "        zm.In <- -kIn/sigIn - sigIn/2\n",
       "        zp.In <- zm.In + sigIn\n",
       "        yIn <- pnorm(zm.In)\n",
       "        ord.yIn <- order(yIn)\n",
       "        sigIn.y <- sigIn[ord.yIn]\n",
       "        y.min <- min(yIn)\n",
       "        y.max <- max(yIn)\n",
       "        sigIn.0 <- sigIn.y[1]\n",
       "        sigIn.1 <- tail(sigIn.y, 1)\n",
       "        k.max <- kIn[ord.yIn][1]\n",
       "        k.min <- tail(kIn[ord.yIn], 1)\n",
       "        integVar <- function(yOut) {\n",
       "            stinterp(x = sort(yIn), y = sigIn.y^2, yOut)$y\n",
       "        }\n",
       "        wbar.flat <- integrate(integVar, lower = y.min, upper = y.max)$value\n",
       "        res.mid <- wbar.flat\n",
       "        z.minus <- (zm.In[ord.yIn])[1]\n",
       "        res.lh <- sigIn.0^2 * pnorm(z.minus)\n",
       "        z.plus <- tail(zm.In[ord.yIn], 1)\n",
       "        res.rh <- sigIn.1^2 * pnorm(-z.plus)\n",
       "        res.vs <- res.mid + res.lh + res.rh\n",
       "        return(res.vs)\n",
       "    }\n",
       "    for (slice in slices) {\n",
       "        t <- expDates[slice]\n",
       "        texp <- ivolData$Texp\n",
       "        bidVol <- bidVols[texp == t]\n",
       "        askVol <- askVols[texp == t]\n",
       "        midVol <- (bidVol + askVol)/2\n",
       "        f <- (ivolData$Fwd[texp == t])[1]\n",
       "        k <- log(ivolData$Strike[texp == t]/f)\n",
       "        include <- !is.na(midVol)\n",
       "        kIn <- k[include]\n",
       "        vs.mid[slice] <- varswap(kIn, midVol, include, slice)/t\n",
       "        vs.bid[slice] <- varswap(kIn, bidVol, include, slice)/t\n",
       "        vs.ask[slice] <- varswap(kIn, askVol, include, slice)/t\n",
       "    }\n",
       "    return(list(expiries = expDates, vs.mid = vs.mid, vs.bid = vs.bid, \n",
       "        vs.ask = vs.ask))\n",
       "}\n",
       "```"
      ],
      "text/plain": [
       "function (ivolData, slices = NULL) \n",
       "{\n",
       "    bidVols <- as.numeric(ivolData$Bid)\n",
       "    askVols <- as.numeric(ivolData$Ask)\n",
       "    expDates <- sort(unique(ivolData$Texp))\n",
       "    nSlices <- length(expDates)\n",
       "    if (!is.null(slices)) {\n",
       "        nSlices <- length(slices)\n",
       "    }\n",
       "    else {\n",
       "        slices <- 1:nSlices\n",
       "    }\n",
       "    vs.mid <- numeric(nSlices)\n",
       "    vs.bid <- numeric(nSlices)\n",
       "    vs.ask <- numeric(nSlices)\n",
       "    vs.lh <- numeric(nSlices)\n",
       "    vs.rh <- numeric(nSlices)\n",
       "    varswap <- function(kIn, vol.series, include, slice) {\n",
       "        t <- expDates[slice]\n",
       "        volIn <- vol.series[include]\n",
       "        sigIn <- volIn * sqrt(t)\n",
       "        zm.In <- -kIn/sigIn - sigIn/2\n",
       "        zp.In <- zm.In + sigIn\n",
       "        yIn <- pnorm(zm.In)\n",
       "        ord.yIn <- order(yIn)\n",
       "        sigIn.y <- sigIn[ord.yIn]\n",
       "        y.min <- min(yIn)\n",
       "        y.max <- max(yIn)\n",
       "        sigIn.0 <- sigIn.y[1]\n",
       "        sigIn.1 <- tail(sigIn.y, 1)\n",
       "        k.max <- kIn[ord.yIn][1]\n",
       "        k.min <- tail(kIn[ord.yIn], 1)\n",
       "        integVar <- function(yOut) {\n",
       "            stinterp(x = sort(yIn), y = sigIn.y^2, yOut)$y\n",
       "        }\n",
       "        wbar.flat <- integrate(integVar, lower = y.min, upper = y.max)$value\n",
       "        res.mid <- wbar.flat\n",
       "        z.minus <- (zm.In[ord.yIn])[1]\n",
       "        res.lh <- sigIn.0^2 * pnorm(z.minus)\n",
       "        z.plus <- tail(zm.In[ord.yIn], 1)\n",
       "        res.rh <- sigIn.1^2 * pnorm(-z.plus)\n",
       "        res.vs <- res.mid + res.lh + res.rh\n",
       "        return(res.vs)\n",
       "    }\n",
       "    for (slice in slices) {\n",
       "        t <- expDates[slice]\n",
       "        texp <- ivolData$Texp\n",
       "        bidVol <- bidVols[texp == t]\n",
       "        askVol <- askVols[texp == t]\n",
       "        midVol <- (bidVol + askVol)/2\n",
       "        f <- (ivolData$Fwd[texp == t])[1]\n",
       "        k <- log(ivolData$Strike[texp == t]/f)\n",
       "        include <- !is.na(midVol)\n",
       "        kIn <- k[include]\n",
       "        vs.mid[slice] <- varswap(kIn, midVol, include, slice)/t\n",
       "        vs.bid[slice] <- varswap(kIn, bidVol, include, slice)/t\n",
       "        vs.ask[slice] <- varswap(kIn, askVol, include, slice)/t\n",
       "    }\n",
       "    return(list(expiries = expDates, vs.mid = vs.mid, vs.bid = vs.bid, \n",
       "        vs.ask = vs.ask))\n",
       "}"
      ]
     },
     "metadata": {},
     "output_type": "display_data"
    }
   ],
   "source": [
    "varSwap.Robust"
   ]
  },
  {
   "cell_type": "code",
   "execution_count": 6,
   "metadata": {
    "slideshow": {
     "slide_type": "fragment"
    }
   },
   "outputs": [],
   "source": [
    "expDates <- sort(unique(ivolData$Texp))\n",
    "bidVols <- as.numeric(ivolData$Bid)\n",
    "askVols <- as.numeric(ivolData$Ask)"
   ]
  },
  {
   "cell_type": "markdown",
   "metadata": {
    "slideshow": {
     "slide_type": "slide"
    }
   },
   "source": [
    "### A very short-dated smile\n",
    "\n",
    "- First we look at a 6-day smile"
   ]
  },
  {
   "cell_type": "code",
   "execution_count": 7,
   "metadata": {
    "slideshow": {
     "slide_type": "fragment"
    }
   },
   "outputs": [],
   "source": [
    "slice <- 2\n",
    "\n",
    "t <- expDates[slice]\n",
    "texp <- ivolData$Texp\n",
    "bidVol <- bidVols[texp == t]\n",
    "askVol <- askVols[texp == t]\n",
    "midVol <- (bidVol + askVol)/2\n",
    "f <- (ivolData$Fwd[texp == t])[1]\n",
    "k <- log(ivolData$Strike[texp == t]/f)\n",
    "include <- !is.na(midVol)\n",
    "kIn <- k[include]"
   ]
  },
  {
   "cell_type": "code",
   "execution_count": 8,
   "metadata": {
    "slideshow": {
     "slide_type": "subslide"
    }
   },
   "outputs": [
    {
     "data": {
      "image/png": "[encoded data removed]",
      "text/plain": [
       "Plot with title \"Time to expiry  0.0164\""
      ]
     },
     "metadata": {},
     "output_type": "display_data"
    }
   ],
   "source": [
    "plot(kIn,midVol[include],pch=20,col=\"blue\",main=paste(\"Time to expiry \",round(t,4)),\n",
    "     xlab=\"Log strike k\",ylab=expression(sigma[BS]))"
   ]
  },
  {
   "cell_type": "markdown",
   "metadata": {
    "slideshow": {
     "slide_type": "fragment"
    }
   },
   "source": [
    "<a name=\"fig:6DaySmile\"></a>Figure 2: 6-day SPX smile as of April 24, 2017."
   ]
  },
  {
   "cell_type": "code",
   "execution_count": 9,
   "metadata": {
    "slideshow": {
     "slide_type": "subslide"
    }
   },
   "outputs": [],
   "source": [
    "volIn <- midVol[include]\n",
    "sigIn <- volIn * sqrt(t)\n",
    "zm.In <- -kIn/sigIn - sigIn/2\n",
    "zp.In <- zm.In + sigIn\n",
    "yIn <- pnorm(zm.In)\n",
    "ord.yIn <- order(yIn)\n",
    "sigIn.y <- sigIn[ord.yIn]\n",
    "y.min <- min(yIn)\n",
    "y.max <- max(yIn)\n",
    "sigIn.0 <- sigIn.y[1]\n",
    "sigIn.1 <- tail(sigIn.y, 1)"
   ]
  },
  {
   "cell_type": "code",
   "execution_count": 10,
   "metadata": {
    "slideshow": {
     "slide_type": "subslide"
    }
   },
   "outputs": [
    {
     "data": {
      "image/png": "[encoded data removed]",
      "text/plain": [
       "Plot with title \"Time to expiry  0.0164\""
      ]
     },
     "metadata": {},
     "output_type": "display_data"
    }
   ],
   "source": [
    "plot(yIn,sigIn.y ,pch=20,col=\"green4\",main=paste(\"Time to expiry \", round(t,4)),\n",
    "     xlab=expression(paste(y,\"=\",N(d[\"-\"](k)))),ylab=expression(sigma(k)*sqrt(tau)))"
   ]
  },
  {
   "cell_type": "markdown",
   "metadata": {
    "slideshow": {
     "slide_type": "fragment"
    }
   },
   "source": [
    "<a name=\"fig:6DayNormalizedSmile\"></a>Figure 3: 6-day SPX smile as a function of $y =N(d_-(k))$."
   ]
  },
  {
   "cell_type": "code",
   "execution_count": 11,
   "metadata": {
    "slideshow": {
     "slide_type": "subslide"
    }
   },
   "outputs": [
    {
     "data": {
      "text/html": [
       "<table>\n",
       "<thead><tr><th scope=col>y.min</th><th scope=col>y.max</th></tr></thead>\n",
       "<tbody>\n",
       "\t<tr><td>0.006084934</td><td>0.9977376  </td></tr>\n",
       "</tbody>\n",
       "</table>\n"
      ],
      "text/latex": [
       "\\begin{tabular}{r|ll}\n",
       " y.min & y.max\\\\\n",
       "\\hline\n",
       "\t 0.006084934 & 0.9977376  \\\\\n",
       "\\end{tabular}\n"
      ],
      "text/markdown": [
       "\n",
       "y.min | y.max | \n",
       "|---|\n",
       "| 0.006084934 | 0.9977376   | \n",
       "\n",
       "\n"
      ],
      "text/plain": [
       "  y.min       y.max    \n",
       "1 0.006084934 0.9977376"
      ]
     },
     "metadata": {},
     "output_type": "display_data"
    }
   ],
   "source": [
    "data.frame(y.min,y.max)"
   ]
  },
  {
   "cell_type": "markdown",
   "metadata": {
    "slideshow": {
     "slide_type": "fragment"
    }
   },
   "source": [
    "From the above and [Figure 3](#fig:6DayNormalizedSmile), we see that for this very short expiry,\n",
    "\n",
    "- The range of strikes is such that very little of the integration region is excluded.\n",
    "\n",
    "\n",
    "- On the other hand, flat extrapolation is obviously not the best.\n",
    "\n",
    "\n",
    "- Note that this is almost like plotting implied volatility against delta, as in FX."
   ]
  },
  {
   "cell_type": "markdown",
   "metadata": {
    "slideshow": {
     "slide_type": "slide"
    }
   },
   "source": [
    "### A longer-dated smile\n",
    "\n",
    "- Now we look at a 14-month smile"
   ]
  },
  {
   "cell_type": "code",
   "execution_count": 12,
   "metadata": {
    "slideshow": {
     "slide_type": "subslide"
    }
   },
   "outputs": [],
   "source": [
    "slice <- 26\n",
    "\n",
    "t <- expDates[slice]\n",
    "texp <- ivolData$Texp\n",
    "bidVol <- bidVols[texp == t]\n",
    "askVol <- askVols[texp == t]\n",
    "midVol <- (bidVol + askVol)/2\n",
    "f <- (ivolData$Fwd[texp == t])[1]\n",
    "k <- log(ivolData$Strike[texp == t]/f)\n",
    "include <- !is.na(midVol)\n",
    "kIn <- k[include]"
   ]
  },
  {
   "cell_type": "code",
   "execution_count": 13,
   "metadata": {
    "slideshow": {
     "slide_type": "subslide"
    }
   },
   "outputs": [
    {
     "data": {
      "image/png": "[encoded data removed]",
      "text/plain": [
       "Plot with title \"Time to expiry  1.1389\""
      ]
     },
     "metadata": {},
     "output_type": "display_data"
    }
   ],
   "source": [
    "plot(kIn,midVol[include],pch=20,col=\"blue\",main=paste(\"Time to expiry \",round(t,4)),\n",
    "     xlab=\"Log strike k\",ylab=expression(sigma[BS]))"
   ]
  },
  {
   "cell_type": "markdown",
   "metadata": {
    "slideshow": {
     "slide_type": "fragment"
    }
   },
   "source": [
    "Figure 4: 14-month SPX smile as of April 24, 2017."
   ]
  },
  {
   "cell_type": "code",
   "execution_count": 14,
   "metadata": {
    "slideshow": {
     "slide_type": "subslide"
    }
   },
   "outputs": [],
   "source": [
    "volIn <- midVol[include]\n",
    "sigIn <- volIn * sqrt(t)\n",
    "zm.In <- -kIn/sigIn - sigIn/2\n",
    "zp.In <- zm.In + sigIn\n",
    "yIn <- pnorm(zm.In)\n",
    "ord.yIn <- order(yIn)\n",
    "sigIn.y <- sigIn[ord.yIn]\n",
    "y.min <- min(yIn)\n",
    "y.max <- max(yIn)\n",
    "sigIn.0 <- sigIn.y[1]\n",
    "sigIn.1 <- tail(sigIn.y, 1)"
   ]
  },
  {
   "cell_type": "code",
   "execution_count": 15,
   "metadata": {
    "slideshow": {
     "slide_type": "subslide"
    }
   },
   "outputs": [
    {
     "data": {
      "image/png": "[encoded data removed]",
      "text/plain": [
       "Plot with title \"Time to expiry  1.13894592744695\""
      ]
     },
     "metadata": {},
     "output_type": "display_data"
    }
   ],
   "source": [
    "plot(yIn,sigIn.y ,pch=20,col=\"blue\",main=paste(\"Time to expiry \", t))"
   ]
  },
  {
   "cell_type": "markdown",
   "metadata": {
    "slideshow": {
     "slide_type": "fragment"
    }
   },
   "source": [
    "<a name=\"fig:14MonthNormalizedSmile\"></a>Figure 5: 14-month SPX smile as a function of $y =N(d_-(k))$."
   ]
  },
  {
   "cell_type": "code",
   "execution_count": 16,
   "metadata": {
    "slideshow": {
     "slide_type": "subslide"
    }
   },
   "outputs": [
    {
     "data": {
      "text/html": [
       "<table>\n",
       "<thead><tr><th scope=col>y.min</th><th scope=col>y.max</th></tr></thead>\n",
       "<tbody>\n",
       "\t<tr><td>0.009988228</td><td>0.9957381  </td></tr>\n",
       "</tbody>\n",
       "</table>\n"
      ],
      "text/latex": [
       "\\begin{tabular}{r|ll}\n",
       " y.min & y.max\\\\\n",
       "\\hline\n",
       "\t 0.009988228 & 0.9957381  \\\\\n",
       "\\end{tabular}\n"
      ],
      "text/markdown": [
       "\n",
       "y.min | y.max | \n",
       "|---|\n",
       "| 0.009988228 | 0.9957381   | \n",
       "\n",
       "\n"
      ],
      "text/plain": [
       "  y.min       y.max    \n",
       "1 0.009988228 0.9957381"
      ]
     },
     "metadata": {},
     "output_type": "display_data"
    }
   ],
   "source": [
    "data.frame(y.min,y.max)"
   ]
  },
  {
   "cell_type": "markdown",
   "metadata": {
    "slideshow": {
     "slide_type": "fragment"
    }
   },
   "source": [
    "From the above and [Figure 5](#fig:14MonthNormalizedSmile), we see that for this longer dated expiry,\n",
    "\n",
    "- Much more of the integration region is excluded.\n",
    "    - The result will be sensitive to extrapolation.\n",
    "\n",
    "\n",
    "- Again, flat extrapolation is obviously not the best.\n",
    "\n",
    "\n",
    "- Even interpolation is not clear in this case.\n",
    "\n",
    "\n",
    "- Better extrapolation methodologies are still work in progress."
   ]
  },
  {
   "cell_type": "markdown",
   "metadata": {
    "slideshow": {
     "slide_type": "slide"
    }
   },
   "source": [
    "### Robust estimates of variance and gamma swaps"
   ]
  },
  {
   "cell_type": "code",
   "execution_count": 17,
   "metadata": {
    "slideshow": {
     "slide_type": "fragment"
    }
   },
   "outputs": [
    {
     "data": {
      "text/html": [
       "<ol class=list-inline>\n",
       "\t<li>0.0118570960782593</li>\n",
       "\t<li>0.00852911538878801</li>\n",
       "\t<li>0.00936158485375123</li>\n",
       "\t<li>0.00971552840116688</li>\n",
       "\t<li>0.0103139914968534</li>\n",
       "\t<li>0.0103185307616161</li>\n",
       "\t<li>0.0109180623459334</li>\n",
       "\t<li>0.00996905951547865</li>\n",
       "\t<li>0.0104673833202302</li>\n",
       "\t<li>0.0109767654560432</li>\n",
       "\t<li>0.0104763607779443</li>\n",
       "\t<li>0.0109943932010865</li>\n",
       "\t<li>0.0114362182209804</li>\n",
       "\t<li>0.0110568746531561</li>\n",
       "\t<li>0.0117444291244855</li>\n",
       "\t<li>0.0118068961400724</li>\n",
       "\t<li>0.0128449974688424</li>\n",
       "\t<li>0.0142405090850806</li>\n",
       "\t<li>0.0145360955193762</li>\n",
       "\t<li>0.0159294214768137</li>\n",
       "\t<li>0.0177194071149689</li>\n",
       "\t<li>0.0192955771656507</li>\n",
       "\t<li>0.0229393115480421</li>\n",
       "\t<li>0.0230869049027902</li>\n",
       "\t<li>0.0253900191338881</li>\n",
       "\t<li>0.0282624437134018</li>\n",
       "\t<li>0.0313722267572495</li>\n",
       "\t<li>0.0362771914384497</li>\n",
       "</ol>\n"
      ],
      "text/latex": [
       "\\begin{enumerate*}\n",
       "\\item 0.0118570960782593\n",
       "\\item 0.00852911538878801\n",
       "\\item 0.00936158485375123\n",
       "\\item 0.00971552840116688\n",
       "\\item 0.0103139914968534\n",
       "\\item 0.0103185307616161\n",
       "\\item 0.0109180623459334\n",
       "\\item 0.00996905951547865\n",
       "\\item 0.0104673833202302\n",
       "\\item 0.0109767654560432\n",
       "\\item 0.0104763607779443\n",
       "\\item 0.0109943932010865\n",
       "\\item 0.0114362182209804\n",
       "\\item 0.0110568746531561\n",
       "\\item 0.0117444291244855\n",
       "\\item 0.0118068961400724\n",
       "\\item 0.0128449974688424\n",
       "\\item 0.0142405090850806\n",
       "\\item 0.0145360955193762\n",
       "\\item 0.0159294214768137\n",
       "\\item 0.0177194071149689\n",
       "\\item 0.0192955771656507\n",
       "\\item 0.0229393115480421\n",
       "\\item 0.0230869049027902\n",
       "\\item 0.0253900191338881\n",
       "\\item 0.0282624437134018\n",
       "\\item 0.0313722267572495\n",
       "\\item 0.0362771914384497\n",
       "\\end{enumerate*}\n"
      ],
      "text/markdown": [
       "1. 0.0118570960782593\n",
       "2. 0.00852911538878801\n",
       "3. 0.00936158485375123\n",
       "4. 0.00971552840116688\n",
       "5. 0.0103139914968534\n",
       "6. 0.0103185307616161\n",
       "7. 0.0109180623459334\n",
       "8. 0.00996905951547865\n",
       "9. 0.0104673833202302\n",
       "10. 0.0109767654560432\n",
       "11. 0.0104763607779443\n",
       "12. 0.0109943932010865\n",
       "13. 0.0114362182209804\n",
       "14. 0.0110568746531561\n",
       "15. 0.0117444291244855\n",
       "16. 0.0118068961400724\n",
       "17. 0.0128449974688424\n",
       "18. 0.0142405090850806\n",
       "19. 0.0145360955193762\n",
       "20. 0.0159294214768137\n",
       "21. 0.0177194071149689\n",
       "22. 0.0192955771656507\n",
       "23. 0.0229393115480421\n",
       "24. 0.0230869049027902\n",
       "25. 0.0253900191338881\n",
       "26. 0.0282624437134018\n",
       "27. 0.0313722267572495\n",
       "28. 0.0362771914384497\n",
       "\n",
       "\n"
      ],
      "text/plain": [
       " [1] 0.011857096 0.008529115 0.009361585 0.009715528 0.010313991 0.010318531\n",
       " [7] 0.010918062 0.009969060 0.010467383 0.010976765 0.010476361 0.010994393\n",
       "[13] 0.011436218 0.011056875 0.011744429 0.011806896 0.012844997 0.014240509\n",
       "[19] 0.014536096 0.015929421 0.017719407 0.019295577 0.022939312 0.023086905\n",
       "[25] 0.025390019 0.028262444 0.031372227 0.036277191"
      ]
     },
     "metadata": {},
     "output_type": "display_data"
    },
    {
     "data": {
      "text/html": [
       "<ol class=list-inline>\n",
       "\t<li>0.0118134532489119</li>\n",
       "\t<li>0.00842504244188869</li>\n",
       "\t<li>0.00915104625413217</li>\n",
       "\t<li>0.00956449757553039</li>\n",
       "\t<li>0.010134033220254</li>\n",
       "\t<li>0.0101435384964909</li>\n",
       "\t<li>0.0105690716953137</li>\n",
       "\t<li>0.0097008738056768</li>\n",
       "\t<li>0.0101739899108317</li>\n",
       "\t<li>0.0105249696029737</li>\n",
       "\t<li>0.0101514380699715</li>\n",
       "\t<li>0.0106184020458628</li>\n",
       "\t<li>0.0109513695670643</li>\n",
       "\t<li>0.0105649067048731</li>\n",
       "\t<li>0.0111766979574138</li>\n",
       "\t<li>0.011306436257028</li>\n",
       "\t<li>0.0121837238144083</li>\n",
       "\t<li>0.0132025079123637</li>\n",
       "\t<li>0.0136336812626067</li>\n",
       "\t<li>0.0148318678335426</li>\n",
       "\t<li>0.0162910519442907</li>\n",
       "\t<li>0.0174866273650905</li>\n",
       "\t<li>0.0203738630291949</li>\n",
       "\t<li>0.0207508437365311</li>\n",
       "\t<li>0.0225050841741714</li>\n",
       "\t<li>0.0245087618754156</li>\n",
       "\t<li>0.0265139928030895</li>\n",
       "\t<li>0.0292433611559228</li>\n",
       "</ol>\n"
      ],
      "text/latex": [
       "\\begin{enumerate*}\n",
       "\\item 0.0118134532489119\n",
       "\\item 0.00842504244188869\n",
       "\\item 0.00915104625413217\n",
       "\\item 0.00956449757553039\n",
       "\\item 0.010134033220254\n",
       "\\item 0.0101435384964909\n",
       "\\item 0.0105690716953137\n",
       "\\item 0.0097008738056768\n",
       "\\item 0.0101739899108317\n",
       "\\item 0.0105249696029737\n",
       "\\item 0.0101514380699715\n",
       "\\item 0.0106184020458628\n",
       "\\item 0.0109513695670643\n",
       "\\item 0.0105649067048731\n",
       "\\item 0.0111766979574138\n",
       "\\item 0.011306436257028\n",
       "\\item 0.0121837238144083\n",
       "\\item 0.0132025079123637\n",
       "\\item 0.0136336812626067\n",
       "\\item 0.0148318678335426\n",
       "\\item 0.0162910519442907\n",
       "\\item 0.0174866273650905\n",
       "\\item 0.0203738630291949\n",
       "\\item 0.0207508437365311\n",
       "\\item 0.0225050841741714\n",
       "\\item 0.0245087618754156\n",
       "\\item 0.0265139928030895\n",
       "\\item 0.0292433611559228\n",
       "\\end{enumerate*}\n"
      ],
      "text/markdown": [
       "1. 0.0118134532489119\n",
       "2. 0.00842504244188869\n",
       "3. 0.00915104625413217\n",
       "4. 0.00956449757553039\n",
       "5. 0.010134033220254\n",
       "6. 0.0101435384964909\n",
       "7. 0.0105690716953137\n",
       "8. 0.0097008738056768\n",
       "9. 0.0101739899108317\n",
       "10. 0.0105249696029737\n",
       "11. 0.0101514380699715\n",
       "12. 0.0106184020458628\n",
       "13. 0.0109513695670643\n",
       "14. 0.0105649067048731\n",
       "15. 0.0111766979574138\n",
       "16. 0.011306436257028\n",
       "17. 0.0121837238144083\n",
       "18. 0.0132025079123637\n",
       "19. 0.0136336812626067\n",
       "20. 0.0148318678335426\n",
       "21. 0.0162910519442907\n",
       "22. 0.0174866273650905\n",
       "23. 0.0203738630291949\n",
       "24. 0.0207508437365311\n",
       "25. 0.0225050841741714\n",
       "26. 0.0245087618754156\n",
       "27. 0.0265139928030895\n",
       "28. 0.0292433611559228\n",
       "\n",
       "\n"
      ],
      "text/plain": [
       " [1] 0.011813453 0.008425042 0.009151046 0.009564498 0.010134033 0.010143538\n",
       " [7] 0.010569072 0.009700874 0.010173990 0.010524970 0.010151438 0.010618402\n",
       "[13] 0.010951370 0.010564907 0.011176698 0.011306436 0.012183724 0.013202508\n",
       "[19] 0.013633681 0.014831868 0.016291052 0.017486627 0.020373863 0.020750844\n",
       "[25] 0.022505084 0.024508762 0.026513993 0.029243361"
      ]
     },
     "metadata": {},
     "output_type": "display_data"
    }
   ],
   "source": [
    "expiries <- res$expiries\n",
    "\n",
    "(vs <- varSwap.Robust(ivolData)$vs.mid)\n",
    "\n",
    "(gs <- gammaSwap.Robust(ivolData)$gs.mid)"
   ]
  },
  {
   "cell_type": "code",
   "execution_count": 18,
   "metadata": {
    "slideshow": {
     "slide_type": "fragment"
    }
   },
   "outputs": [],
   "source": [
    "options(repr.plot.width=10,repr.plot.height=7)"
   ]
  },
  {
   "cell_type": "code",
   "execution_count": 19,
   "metadata": {
    "slideshow": {
     "slide_type": "subslide"
    }
   },
   "outputs": [
    {
     "data": {
      "image/png": "[encoded data removed]",
      "text/plain": [
       "plot without title"
      ]
     },
     "metadata": {},
     "output_type": "display_data"
    }
   ],
   "source": [
    "plot(expiries,vs,type=\"l\",col=\"blue\",ylab=\"Swap values\",xlab=\"Maturity (years)\")\n",
    "lines(expiries,gs,lty=1,col=\"red\")\n",
    "legend(\"topleft\",inset=0.02,c(\"Variance swap\",\"Gamma swap\"),col=c(\"blue\",\"red\"),lty=c(1,1))"
   ]
  },
  {
   "cell_type": "markdown",
   "metadata": {
    "slideshow": {
     "slide_type": "fragment"
    }
   },
   "source": [
    "<a name=\"fig:VSGS\"></a>Figure 6: SPX variance curve (blue) and gamma swap curve (red) as of April 24, 2017 estimated using Fukasawa's robust methodology."
   ]
  },
  {
   "cell_type": "markdown",
   "metadata": {
    "slideshow": {
     "slide_type": "slide"
    }
   },
   "source": [
    "### Leverage swap term structure"
   ]
  },
  {
   "cell_type": "code",
   "execution_count": 20,
   "metadata": {
    "slideshow": {
     "slide_type": "fragment"
    }
   },
   "outputs": [
    {
     "data": {
      "image/png": "[encoded data removed]",
      "text/plain": [
       "plot without title"
      ]
     },
     "metadata": {},
     "output_type": "display_data"
    }
   ],
   "source": [
    "plot(expiries,gs-vs,type=\"l\",col=\"green4\",ylab=\"Levereage swap\",xlab=\"Maturity (years)\")"
   ]
  },
  {
   "cell_type": "markdown",
   "metadata": {
    "slideshow": {
     "slide_type": "fragment"
    }
   },
   "source": [
    "<a name=\"fig:Leverage\"></a>Figure 7: SPX leverage swap curve as of April 24, 2017 estimated using Fukasawa's robust methodology."
   ]
  },
  {
   "cell_type": "markdown",
   "metadata": {
    "slideshow": {
     "slide_type": "slide"
    }
   },
   "source": [
    "### The forward variance curve from the variance curve\n",
    "\n",
    "- By defition, \n",
    "$\n",
    "\\xi_t(u) = \\eef{v_t}\n",
    "$.\n",
    "\n",
    "\n",
    "- Also by definition,\n",
    "$$\\cV_t(T)=\\eef{ \\int_t^T\\,v_u\\,du }.$$\n",
    "\n",
    "- Thus\n",
    "$$\\cV_t(T)=\\int_t^T\\,\\xi_t(u)\\,du. $$\n",
    "\n",
    "\n",
    "- Differentiating gives\n",
    "$$\n",
    "\\xi_t(T)= \\p_T \\cV_t(T).\n",
    "$$"
   ]
  },
  {
   "cell_type": "markdown",
   "metadata": {
    "slideshow": {
     "slide_type": "slide"
    }
   },
   "source": [
    "### An initial guess for the forward variance curve\n",
    "\n",
    "\n",
    "- We build a piecewise constant forward variance curve by differencing the variance swap curve.  "
   ]
  },
  {
   "cell_type": "code",
   "execution_count": 21,
   "metadata": {
    "slideshow": {
     "slide_type": "subslide"
    }
   },
   "outputs": [],
   "source": [
    "xi.vec <- c(vs[1],diff(vs*expiries)/diff(expiries))"
   ]
  },
  {
   "cell_type": "code",
   "execution_count": 22,
   "metadata": {
    "slideshow": {
     "slide_type": "fragment"
    }
   },
   "outputs": [],
   "source": [
    "xi.curve.raw <- function(t){\n",
    "    n <- length(expiries)\n",
    "    res <- xi.vec[sum(expiries < t)+1]\n",
    "    if(t>=expiries[n]) res <- xi.vec[n]\n",
    "    return(res)\n",
    "}\n",
    "\n",
    "xi.curve.170424 <- function(t){sapply(t,xi.curve.raw)}"
   ]
  },
  {
   "cell_type": "code",
   "execution_count": 23,
   "metadata": {
    "slideshow": {
     "slide_type": "subslide"
    }
   },
   "outputs": [
    {
     "data": {
      "image/png": "[encoded data removed]",
      "text/plain": [
       "plot without title"
      ]
     },
     "metadata": {},
     "output_type": "display_data"
    }
   ],
   "source": [
    "plot(expiries,xi.vec,pch=20,col=\"red\",xlim=c(0,5))\n",
    "curve(xi.curve.170424,from=0,to=5,col=\"red\",add=T,n=100000)"
   ]
  },
  {
   "cell_type": "markdown",
   "metadata": {
    "slideshow": {
     "slide_type": "fragment"
    }
   },
   "source": [
    "Figure 8: Piecewise linear approximation to the forward variance curve."
   ]
  },
  {
   "cell_type": "markdown",
   "metadata": {
    "slideshow": {
     "slide_type": "slide"
    }
   },
   "source": [
    "### Using forward variance curves in practice\n",
    "\n",
    "- Forward variance models, rough volatility models in particular, take the forward variance curve as given.  \n",
    "\n",
    "- The forward variance curve is estimated from the variance swap curve (by differencing for example).\n",
    "    - Variance swap estimates depend on the extrapolation methodology.\n",
    "    \n",
    "    \n",
    "- A forward variance model that takes the estimated forward variance curve as input will not generate the same variance swap values as the estimates.\n",
    "    - In particular, the smile extrapolation will be different.\n",
    "    \n",
    "    \n",
    "- In practice therefore, we iterate on the forward variance curve so as to match market and model ATM volatilities."
   ]
  },
  {
   "cell_type": "markdown",
   "metadata": {
    "slideshow": {
     "slide_type": "slide"
    }
   },
   "source": [
    "### Volatility swaps\n",
    "\n",
    "* Realized volatility $\\Sigma_T$ is the square root of realized variance $V_T:=\\langle x \\rangle_T/T$.  \n",
    "\n",
    "    * We know that the expectation of the square root of a random variable is less than (or equal to) the square root of its expectation.  \n",
    "\n",
    "    * The difference between $\\sqrt {V_T}$ and ${\\Sigma_T}$ is known as the *convexity adjustment*.  "
   ]
  },
  {
   "cell_type": "markdown",
   "metadata": {
    "slideshow": {
     "slide_type": "subslide"
    }
   },
   "source": [
    "* Intuitively, the magnitude of the convexity adjustment must depend on the volatility of realized volatility.  \n",
    "\n",
    "    * Note that volatility does not have to be stochastic for realized volatility to be volatile; realized volatility $\\Sigma_T$ varies according to the path of the stock price even in a local volatility model.  "
   ]
  },
  {
   "cell_type": "markdown",
   "metadata": {
    "slideshow": {
     "slide_type": "slide"
    }
   },
   "source": [
    "### Variance swap and volatility swap payoffs compared"
   ]
  },
  {
   "cell_type": "code",
   "execution_count": 24,
   "metadata": {
    "slideshow": {
     "slide_type": "fragment"
    }
   },
   "outputs": [],
   "source": [
    "library(repr)\n",
    "options(repr.plot.width=7,repr.plot.height=5)"
   ]
  },
  {
   "cell_type": "code",
   "execution_count": 25,
   "metadata": {
    "slideshow": {
     "slide_type": "subslide"
    }
   },
   "outputs": [
    {
     "data": {
      "image/png": "[encoded data removed]",
      "text/plain": [
       "plot without title"
      ]
     },
     "metadata": {},
     "output_type": "display_data"
    }
   ],
   "source": [
    "curve(x-.3,from=0.1,to=.5,col=\"red\",ylab=\"Payoff\",xlab=expression(Sigma[T]))\n",
    "curve((x^2-.3^2)/.6,from=0.1,to=4,col=\"blue\",lty=2,add=T)"
   ]
  },
  {
   "cell_type": "markdown",
   "metadata": {
    "slideshow": {
     "slide_type": "fragment"
    }
   },
   "source": [
    "<a name=\"fig:VolVar\"></a> Figure 9: Payoff of a variance swap (dashed line) and volatility swap (solid\n",
    "line) as a function of realized volatility $\\Sigma_T$. Both swaps are\n",
    "struck at 30% volatility."
   ]
  },
  {
   "cell_type": "markdown",
   "metadata": {
    "slideshow": {
     "slide_type": "slide"
    }
   },
   "source": [
    "### Convexity Adjustment in the Heston Model\n",
    "\n",
    "In general, there is no replicating portfolio for a volatility swap and\n",
    "the magnitude of the convexity adjustment is model-dependent. We will\n",
    "now compute the convexity adjustment in the Heston model.\n",
    "\n",
    "To proceed, we use the following trick:\n",
    "\n",
    "<a name=\"eq:ExpectedVol\"></a>(10)\n",
    "$$\\mathbb{E} \\left[\\sqrt{W_T} \\right]\n",
    " \\,=\\,\\frac{1}{2 \\sqrt{\\pi}} \\int _0 ^\\infty\n",
    " \\frac{1-\\mathbb{E} \\left[e^{-\\psi W_T} \\right]}{\\psi^{3/2}}\\, d\\psi$$\n",
    "\n",
    "We recognize that\n",
    "\n",
    "$$\\mathbb{E} \\left[e^{-\\psi W_T} \\right]=\\mathbb{E}\n",
    "\\left[\\exp\\left\\{-\\psi \\int_0^T\\,v_t\\,dt\\right\\} \\right]$$ \n",
    "\n",
    "is formally to the value of a bond in the CIR model."
   ]
  },
  {
   "cell_type": "markdown",
   "metadata": {
    "slideshow": {
     "slide_type": "slide"
    }
   },
   "source": [
    "### The CIR bond formula\n",
    "\n",
    "From the well-known CIR bond formula, the Laplace transform of quadratic variance $W_T := \\langle x \\rangle_T = \\int _0 ^T \\, v_t \\, dt$ is given by\n",
    "\n",
    "$$\\mathbb{E} \\left[e^{-\\psi W_T} \\right]\n",
    " \\,=\\,A\\, e^{- \\psi v B}$$ \n",
    " \n",
    " where\n",
    "$$\\begin{eqnarray*}\n",
    " A&=&\\left\\{\\frac{2 \\phi\\, e^{(\\phi+\\lambda) T/2}}{(\\phi+\\lambda)\n",
    " (e^{\\phi T}-1)+2 \\phi}\\right\\}^{2 \\lambda \\bar v / {\\eta ^2}}\\nonumber\\\\\n",
    " B&=&\\frac{2\\,(e^{\\phi T}-1)}{(\\phi+\\lambda)\n",
    " (e^{\\phi T}-1)+2 \\phi}\\end{eqnarray*}$$\n",
    "\n",
    "with $\\phi = \\sqrt {\\lambda^2 + 2 \\psi \\eta^2}$."
   ]
  },
  {
   "cell_type": "markdown",
   "metadata": {
    "slideshow": {
     "slide_type": "slide"
    }
   },
   "source": [
    "### Plausibility check\n",
    "\n",
    "It is easy but tedious to verify that\n",
    "\n",
    "$$\\begin{eqnarray*}\n",
    " \\cV_0(T) = \\E\\left[{W_T}\\right]&=&\\left.\n",
    " -\\frac{\\partial }{\\partial \\psi} \\mathbb{E} \\left[e^{-\\psi\n",
    " W_T} \\right]\\right|_{\\psi=0}\\nonumber\\\\\n",
    " &=&\\frac{1-e^{-\\lambda T}}{\\lambda}\\,(v_0-\\bar v)\\,+\\,\\bar v T\\end{eqnarray*}$$\n",
    "\n",
    "as we found earlier by direct integration of the Heston SDE.\n",
    "\n",
    "Computing the integral in equation [(10)](#eq:ExpectedVol) numerically using\n",
    "the Heston-Nandi (HN) parameters ($v_0= 0.04, \\bar v =\n",
    "0.04, \\lambda=10.0, \\eta=1.0, \\rho=-1$), we get the graph of the convexity\n",
    "adjustment as a function of time to expiration shown in [Figure 11](#fig:convadj1)."
   ]
  },
  {
   "cell_type": "markdown",
   "metadata": {
    "slideshow": {
     "slide_type": "slide"
    }
   },
   "source": [
    "### Convexity adjustment with HN parameters"
   ]
  },
  {
   "cell_type": "code",
   "execution_count": 26,
   "metadata": {
    "slideshow": {
     "slide_type": "fragment"
    }
   },
   "outputs": [],
   "source": [
    "laplaceT <- function(params){\n",
    "  \n",
    "  lambda <- params$lambda \n",
    "  rho <- params$rho \n",
    "  eta <- params$eta \n",
    "  vbar <- params$vbar \n",
    "  v0 <- params$v \n",
    "  \n",
    "  function(psi,t){\n",
    "    phi <- sqrt(lambda^2+2*psi*eta^2) \n",
    "    denom <- (phi+lambda)*(exp(phi*t)-1)+2*phi \n",
    "    a <- (2*phi*exp((phi+lambda)*t/2)/denom)^(2*lambda*vbar/eta^2) \n",
    "    b <- (2*(exp(phi*t)-1))/denom \n",
    "    return(a*exp(-psi*v0*b)) \n",
    "  }\n",
    "} \n",
    "\n",
    "convexityAdj <- function(params){\n",
    "  function(t){\n",
    "    \n",
    "    integrand <- function(psi){1/2/sqrt(pi)*(1-laplaceT(params)(psi,t))/psi^(3/2)} \n",
    "    res <- .2 - integrate(integrand,lower=0.01,upper=Inf,subdivisions=10000)$value/sqrt(t) \n",
    "    return(res) \n",
    "  }\n",
    "} \n",
    "\n",
    "# Vectorize\n",
    "ca <- function(params){function(x){sapply(x,convexityAdj(params))}} "
   ]
  },
  {
   "cell_type": "code",
   "execution_count": 27,
   "metadata": {
    "slideshow": {
     "slide_type": "subslide"
    }
   },
   "outputs": [
    {
     "data": {
      "image/png": "[encoded data removed]",
      "text/plain": [
       "plot without title"
      ]
     },
     "metadata": {},
     "output_type": "display_data"
    }
   ],
   "source": [
    "# Figure 2. with HN parameters\n",
    "paramsHN <- list(lambda = 1,rho = -1,eta = 1,vbar = 0.04,v = 0.04) \n",
    "curve(ca(paramsHN)(x),from=0.01,to=.7,col=\"red\",ylab=\"Convexity adjustment\",xlab=\"T\",n=500) "
   ]
  },
  {
   "cell_type": "markdown",
   "metadata": {
    "slideshow": {
     "slide_type": "fragment"
    }
   },
   "source": [
    " <a name=\"fig:convadj1\"></a>Figure 10: Annualized Heston convexity adjustment as a function of $T$ with Heston-Nandi parameters."
   ]
  },
  {
   "cell_type": "markdown",
   "metadata": {
    "slideshow": {
     "slide_type": "slide"
    }
   },
   "source": [
    "### Convexity adjustment with BCC parameters\n",
    "\n",
    "Using Bakshi, Cao and Chen parameters ($v_0= 0.04, \\bar v = 0.04,\n",
    "\\lambda=1.15, \\eta=0.39$), we get the graph of the convexity adjustment\n",
    "as a function of time to expiration shown in [Figure 11](#fig:convadj2)."
   ]
  },
  {
   "cell_type": "code",
   "execution_count": 28,
   "metadata": {
    "slideshow": {
     "slide_type": "fragment"
    }
   },
   "outputs": [
    {
     "data": {
      "image/png": "[encoded data removed]",
      "text/plain": [
       "plot without title"
      ]
     },
     "metadata": {},
     "output_type": "display_data"
    }
   ],
   "source": [
    "paramsBCC <- list(lambda = 1.15,rho = -0.64,eta = 0.39,vbar = 0.04,v = 0.04) \n",
    "curve(ca(paramsBCC)(x),from=0,to=5,col=\"red\",ylab=\"Convexity adjustment\",\n",
    "      xlab=\"Maturity (years)\") "
   ]
  },
  {
   "cell_type": "markdown",
   "metadata": {
    "slideshow": {
     "slide_type": "fragment"
    }
   },
   "source": [
    " <a name=\"fig:convadj2\"></a>Figure 11: Annualized Heston convexity adjustment as a function of $T$ with Bakshi, Cao and Chen parameters."
   ]
  },
  {
   "cell_type": "markdown",
   "metadata": {
    "slideshow": {
     "slide_type": "slide"
    }
   },
   "source": [
    "### Intuition\n",
    "\n",
    "With $v_0=\\bar v$, as $T \\to \\infty$,\n",
    "\n",
    "$$\\begin{eqnarray*}\n",
    " \\rm{var} \\left[{W_T} \\right]\n",
    " &=& \\mathbb{E} \\left[{W_T}^2 \\right]-\\left\\{ \\mathbb{E} \\left[{W_T} \\right]\\right\\}^2\\nonumber\\\\\n",
    " &=&\\left. \\frac{\\partial^2 }{\\partial \\psi^2} \\mathbb{E} \\left[e^{-\\psi\n",
    " W_T} \\right]\\right|_{\\psi=0}\\,-\\,\\left\\{\\left. \\frac{\\partial }{\\partial \\psi} \\mathbb{E} \\left[e^{-\\psi\n",
    " W_T} \\right]\\right|_{\\psi=0}\\right\\}^2\\nonumber\\\\\n",
    " &=& \\bar v T \\frac {\\eta^2}{\\lambda^2}+O(T^0).\\end{eqnarray*}$$"
   ]
  },
  {
   "cell_type": "markdown",
   "metadata": {
    "slideshow": {
     "slide_type": "subslide"
    }
   },
   "source": [
    "* The convexity adjustment should be of the order of the standard deviation of annualized volatility over the life of the contract.  \n",
    "\n",
    "    * This scales roughly as ${\\eta}/{\\lambda}$.  \n",
    "\n",
    "\n",
    "* Comparing BCC with HN parameters, the BCC convexity adjustment should be roughly 3.39 times smaller.  "
   ]
  },
  {
   "cell_type": "markdown",
   "metadata": {
    "slideshow": {
     "slide_type": "slide"
    }
   },
   "source": [
    "### Valuing volatility derivatives\n",
    "\n",
    "* Suppose the underlying process is a diffusion and that there is zero correlation between moves in the underlying and moves in volatility.   \n",
    "\n",
    "\n",
    "* With these assumptions, [Carr and Lee]<sup id=\"cite_ref-CarrLee:2009\" class=\"reference\"><a href=\"#cite_note-CarrLee:2009\"><span>[2]</span></a></sup> show that any volatility derivative whose payoff is a function of the quadratic variation $\\langle x \\rangle_T$ may in principle be valued in terms of European options with expiration $T$.  \n",
    "\n",
    "    * A practical algorithm for doing this is to be found in [Friz and Gatheral]<sup id=\"cite_ref-FrizGatheral:2005\" class=\"reference\"><a href=\"#cite_note-FrizGatheral:2005\"><span>[4]</span></a></sup>.  "
   ]
  },
  {
   "cell_type": "markdown",
   "metadata": {
    "slideshow": {
     "slide_type": "slide"
    }
   },
   "source": [
    "### Fair value of the power payoff\n",
    "\n",
    "Recall the spanning formula [(2)](#eq:generalizedpayoff):\n",
    "\n",
    " <a name=\"eq:discretemax\"></a>(11)\n",
    "\\begin{equation}\n",
    " \\mathbb{E} \\left[ \\left. g(S_T)\\right.\\right]\n",
    " =g(F)\\,+\\,\\int _0 ^F \\, dK \\, \\tilde\n",
    " P(K,T)\\,g''(K)\\,+\\,\\int _F ^\\infty \\, dK \\,\n",
    "  \\tilde C(K,T)\\,g''(K)\n",
    "\\end{equation}\n",
    "\n",
    "where $\\tilde C$ and $\\tilde P$ represent undiscounted call and put\n",
    "prices respectively and $F$ represents the time-$T$ forward price of the\n",
    "stock."
   ]
  },
  {
   "cell_type": "markdown",
   "metadata": {
    "slideshow": {
     "slide_type": "subslide"
    }
   },
   "source": [
    "With the substitution $g(S_T)=S_T^p$, we obtain the replicating\n",
    "portfolio for a power payoff: \n",
    "\n",
    "\\begin{eqnarray*}\n",
    " \\mathbb{E} \\left[ \\left. S_T^p\\right.\\right]\n",
    " &=&F^p+p\\,(p-1)\\,\\int _0 ^F \\, dK \\, \\tilde\n",
    " P(K,T)\\,K^{p-2}\\\\&&\\quad\\quad\\quad+p\\,(p-1)\\,\\int _F ^\\infty \\, dK \\,\n",
    "  \\tilde C(K,T)\\,K^{p-2}\n",
    "\\end{eqnarray*}"
   ]
  },
  {
   "cell_type": "markdown",
   "metadata": {
    "slideshow": {
     "slide_type": "slide"
    }
   },
   "source": [
    "### The option strip for the power payoff\n",
    "\n",
    "Define the log-strike $k := \\log(K/F)$. Then\n",
    "\n",
    " <a name=\"eq:powerpayoff\"></a>(12)\n",
    "$$\\mathbb{E} \\left[ \\left. S_T^p\\right.\\right]\n",
    " =F^p\\,\\left\\{1+p\\,(p-1)\\,\\int _{-\\infty} ^0 \\, dk \\, \\hat\n",
    " p(k)\\,e^{p\\,k}\\\\+p\\,(p-1)\\,\\int _0 ^\\infty \\, dk \\,\n",
    "  \\hat c(k)\\,e^{p\\,k}\\right\\}\n",
    "$$\n",
    "\n",
    "where $\\hat p(k)$ and $\\hat c(k)$ denote the prices of puts and calls\n",
    "respectively in terms of percentage of strike."
   ]
  },
  {
   "cell_type": "markdown",
   "metadata": {
    "slideshow": {
     "slide_type": "subslide"
    }
   },
   "source": [
    "If there is zero correlation between moves in the underlying and\n",
    "volatility moves, put-call symmetry holds, so that $\\hat\n",
    "p(k)=e^{-k}\\,\\hat c(-k)$. We can then rewrite equation\n",
    "[(12)](#eq:powerpayoff) as \n",
    "\n",
    "$$\\mathbb{E} \\left[ \\left. S_T^p\\right.\\right]\n",
    " =F^p\\,\\left\\{1+2\\,p\\,(p-1)\\,\\int _0 ^\\infty \\, dk \\,\n",
    "  e^{k/2}\\,\\hat c(k)\\,\\cosh{(p-1/2)\\,k}\\right\\}$$"
   ]
  },
  {
   "cell_type": "markdown",
   "metadata": {
    "slideshow": {
     "slide_type": "slide"
    }
   },
   "source": [
    "### The Laplace transform of quadratic variation under zero correlation\n",
    "\n",
    "Following [Carr and Lee]<sup id=\"cite_ref-CarrLee:2009\" class=\"reference\"><a href=\"#cite_note-CarrLee:2009\"><span>[</span>1<span>]</span></a></sup>, assume diffusion and zero correlation between\n",
    "spot moves and volatility moves.\n",
    "\n",
    "We derive an expression for the Laplace transform (moment generating\n",
    "function) of the quadratic variation $W_T := \\langle x \\rangle _T$ in\n",
    "terms of the fair value [(12)](#eq:powerpayoff) of the power payoff.\n",
    "\n",
    "* Since we know the replicating strip for the power payoff, it follows that we know the replicating strip for quadratic variation.  "
   ]
  },
  {
   "cell_type": "markdown",
   "metadata": {
    "slideshow": {
     "slide_type": "slide"
    }
   },
   "source": [
    "### Derivation of MGF of quadratic variation\n",
    "\n",
    "Under these Carr-Lee assumptions, conditional on a particular\n",
    "realization of the volatility process (volatility path), the log-stock\n",
    "price \n",
    "\n",
    "$$x_T=\\int_0^T\\,\\sigma_t\\,dW_t-\\frac{1}{2}\\,\\langle x \\rangle_T$$\n",
    "\n",
    "\n",
    "is normally distributed with mean $-\\langle x \\rangle_T /2$ and variance\n",
    "$\\langle x \\rangle_T$.\n",
    "\n",
    "It follows that \n",
    "\n",
    "$${\\mathbb{E} }\\left[\n",
    " e^{p\\,x_T}\\right]={\\mathbb{E} }\\left[\n",
    " e^{(p^2/2-p/2)\\,\\langle x \\rangle_T }\\right]=:{\\mathbb{E} }\\left[\n",
    " e^{\\lambda\\,\\langle x \\rangle_T }\\right]$$ \n",
    " \n",
    " with $\\lambda=p^2/2-p/2$."
   ]
  },
  {
   "cell_type": "markdown",
   "metadata": {
    "slideshow": {
     "slide_type": "subslide"
    }
   },
   "source": [
    "Inverting this, we obtain the moment generating function as\n",
    "\n",
    "$$\\mathbb{E} \\left[ \\left. e^{\\lambda \\langle x \\rangle_T}\\right.\\right]\n",
    " =\\mathbb{E} \\left[ \\left.\n",
    " e^{p(\\lambda)x_T}\\right.\\right]$$\n",
    " \n",
    " with $p(\\lambda)=1/2 \\pm \\sqrt{1/4 + 2 \\, \\lambda} $.\n",
    "\n",
    "From the option strip [(12)](#eq:powerpayoff) for the power payoff, we then\n",
    "have that\n",
    "\n",
    "<a name=\"eq:powerstrip\"></a>(13)\n",
    "$$\\mathbb{E} \\left[ \\left. e^{\\lambda \\langle x\n",
    "\\rangle_T}\\right.\\right]\n",
    " =1+p(\\lambda)\\,\\left(p(\\lambda)-1\\right)\\,\\left\\{\\int _{-\\infty} ^0 \\, dk \\, \\hat\n",
    " p(k)\\,e^{p(\\lambda)\\,k}+\\int _0 ^\\infty \\, dk \\,\n",
    "  \\hat c(k)\\,e^{p(\\lambda)\\,k}\\right\\}$$"
   ]
  },
  {
   "cell_type": "markdown",
   "metadata": {
    "slideshow": {
     "slide_type": "subslide"
    }
   },
   "source": [
    "or alternatively\n",
    "\n",
    "$$\\mathbb{E}\\left[ \\left. e^{\\lambda \\langle x\n",
    "\\rangle_T}\\right.\\right]\n",
    " =1+2\\,p(\\lambda)\\,(p(\\lambda)-1)\\,\\int _0 ^\\infty \\, dk \\,\n",
    "  e^{k/2}\\,\\hat c(k)\\,\\cosh{(p(\\lambda)-1/2)\\,k}.$$"
   ]
  },
  {
   "cell_type": "markdown",
   "metadata": {
    "slideshow": {
     "slide_type": "slide"
    }
   },
   "source": [
    "### The final result\n",
    "\n",
    "Noting that $p(\\lambda)\\,(p(\\lambda)-1)=2\\,\\lambda$, we may simplify\n",
    "further to obtain\n",
    "\n",
    "<blockquote><div style=\"background-color:#add8e6; color:#FFFFFF; font-style: normal;  \" ><h4>\n",
    " MGF of quadratic variation </h4>\n",
    "</div>\n",
    "<div style=\"background-color:#E8E8E8; color:#000000; font-style: normal; \">\n",
    "<br>\n",
    "<a name=\"eq:qvmgfstrip\"></a>(14)\n",
    "$$\\mathbb{E}\\left[ \\left. e^{\\lambda \\langle x\n",
    "\\rangle_T}\\right.\\right]\n",
    " =1+4\\,\\lambda\\,\\int _0 ^\\infty \\, dk \\,\n",
    "  e^{k/2}\\,\\hat c(k)\\,\\cosh{(p(\\lambda)-1/2)\\,k}.$$\n",
    "\n",
    "<br>\n",
    "\n",
    "</div>\n",
    "\n",
    "</blockquote>\n",
    "\n",
    "The fair value of an exponential quadratic-variation (realized\n",
    "volatility) payoff follows immediately from equation [(14)](#eq:qvmgfstrip)."
   ]
  },
  {
   "cell_type": "markdown",
   "metadata": {
    "slideshow": {
     "slide_type": "slide"
    }
   },
   "source": [
    "### Fair value of powers of quadratic variation\n",
    "\n",
    "By taking derivatives, the fair value of any positive integral power of\n",
    "quadratic variation also follows.\n",
    "\n",
    "For example, the fair value of the first power of quadratic variation –\n",
    "expected realized total variance, is given by\n",
    "\n",
    "$$\\begin{eqnarray*}\n",
    "\\mathbb{E}\\left[\\left.\\langle x \\rangle_T\\right.\\right] &=&\\left.\n",
    "\\frac{\\partial}{\\partial \\lambda}\\,\\mathbb{E}\\left[\\left.\n",
    "e^{\\lambda \\langle x \\rangle_T}\\right.\\right]\\right|_{\\lambda=0}\\\\\n",
    "&=&\\left. \\frac{\\partial}{\\partial\n",
    "\\lambda}\\,\\left\\{1+4\\,\\lambda\\,\\int _0 ^\\infty \\, dk \\,\n",
    "  e^{k/2}\\,\\hat c(k)\\,\\cosh{(p(\\lambda)-1/2)\\,k}\\right\\}\\right|_{\\lambda=0}\\\\\n",
    "&=&4\\,\\int _0 ^\\infty \\, dk \\,\n",
    "  e^{k/2}\\,\\hat c(k)\\,\\cosh{(p(0)-1/2)\\,k}\\\\\n",
    "&=&4\\,\\int _0 ^\\infty \\, dk \\,\n",
    "  e^{k/2}\\,\\hat c(k)\\,\\cosh{{k}/{2}}\\\\\n",
    "&=&2\\,\\int _0 ^\\infty \\, dk \\,\n",
    "  \\hat c(k)\\,\\left\\{1+e^{k}\\right\\}\\\\\n",
    "&=&2\\,\\left\\{\\int _0 ^\\infty \\, dk \\,\\hat c(k)\\,+\\,\\int _{-\\infty}^0\n",
    "\\, dk \\,\\hat p(k)\\right\\} \\end{eqnarray*}$$consistent with [(5)](#eq:varstrip)."
   ]
  },
  {
   "cell_type": "markdown",
   "metadata": {
    "slideshow": {
     "slide_type": "slide"
    }
   },
   "source": [
    "### The fair value of generic claims on quadratic variation\n",
    "\n",
    "* In principle, since we have an explicit expression for the moment generating function (*mgf*) of realized variance, we know its entire terminal (time $T$) pseudo-probability distribution.  \n",
    "\n",
    "    * We may compute the fair value of any European-style claim on realized variance – knowing only market prices of European options!  "
   ]
  },
  {
   "cell_type": "markdown",
   "metadata": {
    "slideshow": {
     "slide_type": "subslide"
    }
   },
   "source": [
    "* Unfortunately, the analogue of the replicating option strip for variance swaps doesn’t exist for generic volatility derivatives.  \n",
    "\n",
    "    * In [Friz and Gatheral]<sup id=\"cite_ref-FrizGatheral:2005\" class=\"reference\"><a href=\"#cite_note-FrizGatheral:2005\"><span>[</span>3<span>]</span></a></sup>, we show that although it’s easy to write down a formal expression, the weights of the options in the strip are undefined.  "
   ]
  },
  {
   "cell_type": "markdown",
   "metadata": {
    "slideshow": {
     "slide_type": "slide"
    }
   },
   "source": [
    "### The fair value of volatility under zero correlation\n",
    "\n",
    "After the variance swap, the next simplest claim to analyze is the\n",
    "volatility swap. Under the zero-correlation assumption (see\n",
    "[Friz and Gatheral]<sup id=\"cite_ref-FrizGatheral:2005\" class=\"reference\"><a href=\"#cite_note-FrizGatheral:2005\"><span>[</span>3<span>]</span></a></sup>),\n",
    "\n",
    "<a name=\"eq:volswap\"></a>(15)\n",
    "$$\\mathbb{E}\\left[\\sqrt{\\langle x \\rangle_T}\\right]=\n",
    "\\sqrt{2\\,\\pi}\\,\\hat\n",
    "c(0)+\\sqrt{\\frac{2}{\\pi}}\\,\\int_0^\\infty\\,dk\\,e^{k/2}\\,I_1\\left(\\frac{k}{2}\\right)$$\n",
    "\n",
    "where $I_n(\\cdot)$ represents a modified Bessel function of the first\n",
    "kind."
   ]
  },
  {
   "cell_type": "markdown",
   "metadata": {
    "slideshow": {
     "slide_type": "subslide"
    }
   },
   "source": [
    "That the at-the-money option should have a delta-function weight should\n",
    "come as no surprise as we are already familiar with the extremely\n",
    "accurate approximation\n",
    "\n",
    "<a name=\"eq:atmfcall\"></a>(16)\n",
    "$$\\hat c(0)\\approx \\frac{\\sigma_{BS}\\,\\sqrt{T}}{\\sqrt{2\\,\\pi}}$$\n",
    "\n",
    "for at-the-money forward European options."
   ]
  },
  {
   "cell_type": "markdown",
   "metadata": {
    "slideshow": {
     "slide_type": "slide"
    }
   },
   "source": [
    "### Remarks on volatility swap valuation\n",
    "\n",
    "To see just how dominant the contribution of the at-the-money forward\n",
    "European option is, consider a one-year flat volatility smile with\n",
    "$\\sigma_{BS}(k,1)=0.2, \\,\\forall k$.\n",
    "\n",
    "* The first term in [(15)](#eq:volswap) evaluates to $0.1997$.  \n",
    "\n",
    "\n",
    "* The continuous strip of options with Bessel function weights to $0.0003$.  \n",
    "\n",
    "\n",
    "* The total must of course give $0.2$ which is the fair value of volatility when the volatility smile is flat (no convexity adjustment).  \n",
    "\n",
    "Formula [(15)](#eq:volswap) can be proved by direct integration. A more\n",
    "financially-based derivation due to Peter Friz is given in [The Volatility Surface]<sup id=\"cite_ref-Gatheral\" class=\"reference\"><a href=\"#cite_note-Gatheral\">[7]</a></sup>."
   ]
  },
  {
   "cell_type": "markdown",
   "metadata": {
    "slideshow": {
     "slide_type": "slide"
    }
   },
   "source": [
    "### Replication of volatility swaps\n",
    "\n",
    "* Even though we can express the fair value of volatility as the value of a weighted strip of European options (in the zero correlation case), the volatility replication strategy differs fundamentally from the variance replication strategy.  \n",
    "\n",
    "\n",
    "* In the variance case, we trade a strip of options at inception and thereafter rebalance daily in the underlying only and then only to maintain a constant dollar amount of the underlying in the hedge portfolio.  "
   ]
  },
  {
   "cell_type": "markdown",
   "metadata": {
    "slideshow": {
     "slide_type": "subslide"
    }
   },
   "source": [
    "* In contrast, in the volatility case we have to continuously maintain a position in the at-the-money option:  \n",
    "\n",
    "    * Each day, we sell the entire position (which is no longer at-the-money) and buy a new one.\n",
    "\n",
    "\n",
    "* This strategy is clearly not practical – the option bid-offer would kill the hedger.  "
   ]
  },
  {
   "cell_type": "markdown",
   "metadata": {
    "slideshow": {
     "slide_type": "slide"
    }
   },
   "source": [
    "### Summary\n",
    "\n",
    "* Variance swaps are now very actively traded, not least because from a practical perspective, valuation is well-understood.  \n",
    "\n",
    "\n",
    "* Variance swaps and gamma swaps may be robustly estimated from volatility smiles.\n",
    "\n",
    "\n",
    "* Various features of the volatility surface may be understood in a model-free way using replicating portfolios of options."
   ]
  },
  {
   "cell_type": "markdown",
   "metadata": {
    "slideshow": {
     "slide_type": "slide"
    }
   },
   "source": [
    "### References\n",
    "<br />\n",
    "\n",
    "<div class=\"reflist\" style=\"list-style-type: decimal;\">\n",
    "\n",
    "<ol>\n",
    "\n",
    "   <li id=\"cite_note-BG\"><span class=\"mw-cite-backlink\"><b><a href=\"#cite_ref-BG\">^</a></b></span>   Lorenzo Bergomi and Julien Guyon, The smile in stochastic volatility models. <span>*SSRN*</span> (2011).</li>\n",
    "\n",
    "  <li id=\"cite_note-CarrLee:2009\"><span class=\"mw-cite-backlink\"><b><a href=\"#cite_ref-CarrLee:2009\">^</a></b></span> Peter Carr and Roger Lee, Robust replication of\n",
    "volatility derivatives, <span>available at <http://math.uchicago.edu/~rl/rrvd.pdf></span> (2009).</li>\n",
    "\n",
    "  <li id=\"cite_note-CarrMadan\"><span class=\"mw-cite-backlink\"><b><a href=\"#cite_ref-CarrMadan\">^</a></b></span> Peter Carr and Dilip Madan, Towards a theory of volatility trading, in <span>*Volatility: New estimation techniques for pricing derivatives*</span>, Risk Publications, Robert Jarrow, ed., 417–427 (1998).</li>\n",
    "\n",
    "  <li id=\"cite_note-FrizGatheral:2005\"><span class=\"mw-cite-backlink\"><b><a href=\"#cite_ref-FrizGatheral:2005\">^</a></b></span> Peter Friz and Jim Gatheral, Valuation of volatility derivatives as an inverse problem, <span>*Quantitative Finance*</span> <span>**5**</span>(6) 531–542 (2005).</li>\n",
    "\n",
    "  <li id=\"cite_note-Fukasawa\"><span class=\"mw-cite-backlink\"><b><a href=\"#cite_ref-Fukasawa\">^</a></b></span>   Masaaki Fukasawa, The normalizing transformation of the implied volatility smile, <span>*Mathematical Finance*</span> <span>**22**</span>(4) 753–762 (2012).</li>\n",
    "\n",
    "  <li id=\"cite_note-FukasawaMFIL\"><span class=\"mw-cite-backlink\"><b><a href=\"#cite_ref-FukasawaMFIL\">^</a></b></span>   Masaaki Fukaswawa, Volatility Derivatives and Model-free Implied Leverage, <span>*International Journal of Theoretical and Applied Finance*</span> <span>**17**</span>(1) 1450002 (2014).</li>\n",
    "\n",
    "  <li id=\"cite_note-Gatheral\"><span class=\"mw-cite-backlink\"><b><a href=\"#cite_ref-Gatheral\">^</a></b></span>   Jim Gatheral,  <span>*The Volatility Surface: A Practitioner's Guide*</span>, John Wiley and Sons, Hoboken, NJ (2006).</li>\n",
    "\n",
    "</ol>"
   ]
  },
  {
   "cell_type": "code",
   "execution_count": null,
   "metadata": {},
   "outputs": [],
   "source": []
  }
 ],
 "metadata": {
  "celltoolbar": "Slideshow",
  "kernelspec": {
   "display_name": "R",
   "language": "R",
   "name": "ir"
  },
  "language_info": {
   "codemirror_mode": "r",
   "file_extension": ".r",
   "mimetype": "text/x-r-source",
   "name": "R",
   "pygments_lexer": "r",
   "version": "3.4.3"
  }
 },
 "nbformat": 4,
 "nbformat_minor": 1
}
