{
 "cells": [
  {
   "cell_type": "markdown",
   "metadata": {},
   "source": [
    "# MTH9875 Homework 2\n",
    "\n",
    "### ShengQuan Zhou\n",
    "\n",
    "Assigned: September 6, 2018.\n",
    "Due: September 20, 2018 by 6pm.\n",
    "\n",
    "Late homework **will not be accepted**."
   ]
  },
  {
   "cell_type": "markdown",
   "metadata": {},
   "source": [
    "<font color = \"red\">Homework is to be done by each student individually.  To receive full credit, you must email a completed copy of this iPython notebook to Victor Istratov (stavka@gmail.com), Yassine Ghalem (yassine.ghalem@gmail.com) and Jim Gatheral (jim.gatheral@gmail.com) by the due date and time.  All R-code must run correctly and solutions must be written up neatly in Markdown/LaTeX format."
   ]
  },
  {
   "cell_type": "markdown",
   "metadata": {},
   "source": [
    "### The  volatility smile in a simple regime-switching model\n",
    "\n",
    "#### 1. (10 points) \n",
    "\n",
    "Consider the simple regime-switching model from Lecture 2 where realized volatility over a one-year period can be either $10\\%$ or $30\\%$, each with probability $1/2$ (depending on an initial coin toss say).  The density of 1-year returns is given by the sum of the two corresponding normal densities (the forward price is equal to the spot price in each regime):\n"
   ]
  },
  {
   "cell_type": "code",
   "execution_count": 1,
   "metadata": {},
   "outputs": [],
   "source": [
    "d3010 <- function(x){(dnorm(x,mean=-.1^2/2,sd=.1)+dnorm(x,mean=-.3^2/2,sd=.3))/2}"
   ]
  },
  {
   "cell_type": "markdown",
   "metadata": {},
   "source": [
    "The following snippet loads Black-Scholes functions from Lecture 1.  Please use these in your solution."
   ]
  },
  {
   "cell_type": "code",
   "execution_count": 2,
   "metadata": {},
   "outputs": [],
   "source": [
    "download.file(url=\"http://mfe.baruch.cuny.edu/wp-content/uploads/2015/09/9875HW2.zip\", destfile=\"9875HW2.zip\")\n",
    "unzip(zipfile=\"9875HW2.zip\")\n",
    "\n",
    "source(\"BlackScholes.R\")"
   ]
  },
  {
   "cell_type": "code",
   "execution_count": 3,
   "metadata": {},
   "outputs": [],
   "source": [
    "library(repr)\n",
    "options(repr.plot.height=5)"
   ]
  },
  {
   "cell_type": "markdown",
   "metadata": {},
   "source": [
    "(a) Code a function to return the price of a 1-year European option with log-strike $k$ in this model.  Your function should return the price as a fraction of the current stock price.\n",
    "\n",
    "(b) Code a function to return the implied volatility 1-year European option with log-strike $k$ in this model.\n",
    "\n",
    "(c) Draw the 1-year volatility smile in this model for log-strikes from -$2.0$ to $2.0$ with implied volatility on the y-axis and log-strike on the x-axis.  \n",
    "\n",
    "(d) What is implied volatility at-the-money?  Give intuition as to why.\n",
    "\n",
    "(e) In the extreme wings of the volatility smile, implied volatility tends to $30\\%$.  Why?"
   ]
  },
  {
   "cell_type": "markdown",
   "metadata": {},
   "source": [
    "### Solution (a)"
   ]
  },
  {
   "cell_type": "code",
   "execution_count": 4,
   "metadata": {},
   "outputs": [],
   "source": [
    "EuropeanCallOptionPrice<-function(logk)\n",
    "{\n",
    "    return (0.5*BSFormula(1,exp(logk),1,0,0.1)+0.5*BSFormula(1,exp(logk),1,0,0.3))\n",
    "}"
   ]
  },
  {
   "cell_type": "markdown",
   "metadata": {},
   "source": [
    "### Solution (b)"
   ]
  },
  {
   "cell_type": "code",
   "execution_count": 5,
   "metadata": {},
   "outputs": [],
   "source": [
    "EuropeanCallOptionImpliedVolatility<-function(logk)\n",
    "{\n",
    "    CallPrice = EuropeanCallOptionPrice(logk)\n",
    "    return (BSImpliedVolCall(1, exp(logk), 1, 0, CallPrice))\n",
    "}"
   ]
  },
  {
   "cell_type": "markdown",
   "metadata": {},
   "source": [
    "### Solution (c)"
   ]
  },
  {
   "cell_type": "code",
   "execution_count": 6,
   "metadata": {},
   "outputs": [
    {
     "data": {
      "image/png": "[encoded data removed]",
      "text/plain": [
       "plot without title"
      ]
     },
     "metadata": {},
     "output_type": "display_data"
    }
   ],
   "source": [
    "curve(EuropeanCallOptionImpliedVolatility(x),from=-2.0,to=2.0,xlab=\"Log-Strike\",ylab=\"Implied Volatility\")"
   ]
  },
  {
   "cell_type": "markdown",
   "metadata": {},
   "source": [
    "### Solution (d)\n",
    "\n",
    "Because the call price is superposition of the form\n",
    "$$\n",
    "C = \\frac{1}{2}C_{\\sigma_1} + \\frac{1}{2}C_{\\sigma 2}\n",
    "$$\n",
    "and the at-the-money call price \n",
    "$$\n",
    "C_{\\text{ATM}} \\approx \\sqrt{\\frac{T}{2\\pi}} \\sigma S\n",
    "$$\n",
    "is approximately linear in terms of the volatility, we expect that\n",
    "$$\n",
    "\\sigma_{\\text{ATM}} \\approx \\frac{1}{2}\\sigma_1 + \\frac{1}{2}\\sigma_2 = 20\\%.\n",
    "$$"
   ]
  },
  {
   "cell_type": "code",
   "execution_count": 7,
   "metadata": {},
   "outputs": [
    {
     "name": "stdout",
     "output_type": "stream",
     "text": [
      "Implied volatility at-the-money = 0.19975"
     ]
    }
   ],
   "source": [
    "AtmImpliedVolatility = EuropeanCallOptionImpliedVolatility(0)\n",
    "cat(\"Implied volatility at-the-money =\", round(AtmImpliedVolatility,6))"
   ]
  },
  {
   "cell_type": "markdown",
   "metadata": {},
   "source": [
    "### Solution (e)\n",
    "\n",
    "It is a known result that for extreme strikes (See Lingjiong Zhu, Options with Extreme Strikes, Risks 2015, 3, 234-249)\n",
    "\n",
    "$$\n",
    "C(K\\rightarrow\\infty) \\approx \\text{ATM Price}\\times e^{-\\frac{d_+^2}{2}},\\\\\n",
    "P(K\\rightarrow 0)\\approx \\text{ATM Price}\\times e^{-\\frac{d_+^2}{2}},\n",
    "$$\n",
    "where\n",
    "$$\n",
    "d_\\pm = \\frac{\\log\\frac{S_0}{K} \\pm \\frac{1}{2}\\sigma^2 T}{\\sigma T}.\n",
    "$$\n",
    "Thus, for $K\\rightarrow \\infty$, the term $\\log\\frac{S_0}{K}$ in the numerator of $d_\\pm$ donimates. Thus, the smaller the volatility $\\sigma$, the smaller in magnitude for the factor $e^{-\\frac{1}{2}d_+^2}$. In other words, when a mixture of two volatilities exist, the compnent with the smaller volatlity vanishes more quickly as the strike goes to infinity. In our example, as $K\\rightarrow \\infty$, the call price in the regime-switching model is simply proportional to the Black-Scholes price with the higher volatility:\n",
    "$$\n",
    "C = \\frac{1}{2}C_{\\sigma_1 = 10\\%} + \\frac{1}{2}C_{\\sigma_2 = 30\\%} \\approx \\frac{1}{2}C_{\\sigma_2 = 30\\%}.\n",
    "$$\n",
    "Thus, in the extreme wings of the volatility smile, implied volatility tends to 30%. The same argument applies for $K\\rightarrow 0$ for put options (or use put-call parity with call options)."
   ]
  },
  {
   "cell_type": "markdown",
   "metadata": {},
   "source": [
    "### Tanaka's formula\n",
    "$$\\newcommand{\\supp}{\\mathrm{supp}}\n",
    "\\newcommand{\\EE}{\\mathbb{E} }\n",
    "\\def\\Cov{{ \\mbox{Cov} }}\n",
    "\\def\\Var{{ \\mbox{Var} }}\n",
    "\\newcommand{\\1}{\\mathbf{1} }\n",
    "\\newcommand{\\PP}{\\mathbb{P} }\n",
    "%\\newcommand{\\Pr}{\\mathrm{Pr} }\n",
    "\\newcommand{\\QQ}{\\mathbb{Q} }\n",
    "\\newcommand{\\RR}{\\mathbb{R} }\n",
    "\\newcommand{\\DD}{\\mathbb{D} }\n",
    "\\newcommand{\\HH}{\\mathbb{H} }\n",
    "\\newcommand{\\spn}{\\mathrm{span} }\n",
    "\\newcommand{\\cov}{\\mathrm{cov} }\n",
    "\\newcommand{\\sgn}{\\mathrm{sgn} }\n",
    "\\newcommand{\\HS}{\\mathcal{L}_{\\mathrm{HS}} }\n",
    "%\\newcommand{\\HS}{\\mathrm{HS} }\n",
    "\\newcommand{\\trace}{\\mathrm{trace} }\n",
    "\\newcommand{\\LL}{\\mathcal{L} }\n",
    "%\\newcommand{\\LL}{\\mathrm{L} }\n",
    "\\newcommand{\\s}{\\mathcal{S} }\n",
    "\\newcommand{\\ee}{\\mathcal{E} }\n",
    "\\newcommand{\\ff}{\\mathcal{F} }\n",
    "\\newcommand{\\hh}{\\mathcal{H} }\n",
    "\\newcommand{\\bb}{\\mathcal{B} }\n",
    "\\newcommand{\\dd}{\\mathcal{D} }\n",
    "\\newcommand{\\g}{\\mathcal{G} }\n",
    "\\newcommand{\\half}{\\frac{1}{2} }\n",
    "\\newcommand{\\T}{\\mathcal{T} }\n",
    "\\newcommand{\\bi}{\\begin{itemize}}\n",
    "\\newcommand{\\ei}{\\end{itemize}}\n",
    "\\newcommand{\\beq}{\\begin{equation}}\n",
    "\\newcommand{\\eeq}{\\end{equation}}\n",
    "\\newcommand{\\beas}{\\begin{eqnarray*}}\n",
    "\\newcommand{\\eeas}{\\end{eqnarray*}}\n",
    "$$\n",
    "#### 2. (6 points)\n",
    "\n",
    "By applying Itô's lemma as in the notes, prove Tanaka's formula in its usual form:\n",
    "\n",
    "$$\n",
    "\\left|B_t\\right|=\\int_0^t\\,\\sgn(B_s)\\,dB_s+L_t\n",
    "$$\n",
    "where $B_t$ is a standard Brownian motion, $\\sgn$ denotes the sign function\n",
    "\n",
    "$$\n",
    "\\sgn(x)=\\left\\{\n",
    "\\begin{array}{ll}\n",
    "  +1&x \\ge 0  \\\\\n",
    " -1 & x <0 \n",
    "\\end{array}\n",
    "\\right.\n",
    "$$\n",
    "\n",
    "and $L_t$ is its local time at $0$ (roughly the time spent by $B$ at $0$ before time $t$) given by the formal expression\n",
    "\n",
    "$$\n",
    "L_t=\\int_0^t\\,\\delta(B_s)\\,ds.\n",
    "$$\n",
    "\n",
    "Explain in words what this result means in terms of delta-hedging of a particular options position.\n"
   ]
  },
  {
   "cell_type": "markdown",
   "metadata": {},
   "source": [
    "### Solution:\n",
    "\n",
    "Apply Itô's lemma, let $f(x) = |x|$, then $\\frac{\\partial f}{\\partial x} = \\text{sgn}(x)$, $\\frac{\\partial^2 f}{\\partial x^2} = 2\\delta (x)$, thus,\n",
    "$$\n",
    "d|B_t| = df(B_t) = \\frac{\\partial f}{\\partial x}\\Big|_{x=B_t}dB_t + \\frac{1}{2}\\frac{\\partial^2 f}{\\partial x^2}\\Big|_{x=B_t}dB_tdB_t = \\text{sgn}(B_t)dB_t + \\delta(B_t)dt.\n",
    "$$\n",
    "In integral form,\n",
    "$$\n",
    "|B_t| = \\int_0^t \\text{sgn}(B_s)dB_s + \\int_0^t \\delta(B_s)ds = \\int_0^t \\text{sgn}(B_s)dB_s + L_t.\n",
    "$$\n",
    "\n",
    "This result is closely related to the Stop-Loss-Start-Gain (SLSG) strategy: fix a price\n",
    "level $K$, if the stock price $S_t$ at time $t$ rises from $< K$ to $\\ge K$, then buy 1 share\n",
    "immediately (SG); if $S_t$ drops from $\\ge K$ to $< K$, then sell immediately the share\n",
    "already hold, if any (SL); do nothing in other cases. The position process is $\\Delta_t = \\mathbb{1}_{B_t\\ge 0}$.\n",
    "\n",
    "Our example is a slight variation of the SLSG strategy. Consider $K=0$ and $S_t = B_t$. If $B_t$ at time $t$ rises from $<0$ to $\\ge 0$, then take a long position in 1 share; if $B_t$ drops from $\\ge 0$ to $<0$, then take a short position in 1 share. The process of stock positions is thus $\\Delta_t = \\text{sgn}(B_t)$, and $\\int_0^t \\text{sgn}(B_s)dB_s$ is the PnL process. If the local time term $L_t$ is absent, we would have $\\int_0^t \\text{sgn}(B_s)dB_s = |B_t| \\ge 0$, which is always non-negative, corresponding to a dynamic arbitrage. However, the existence of the local time term causes this arbitrage argument to break down."
   ]
  },
  {
   "cell_type": "markdown",
   "metadata": {},
   "source": [
    "## Local volatility and implied volatility\n",
    "\n",
    "#### 3. (6 points) \n",
    "\n",
    "Using the BBF formula, prove the well-known rule of thumb that the local volatility skew is roughly twice the implied volatility skew for short expirations.  Formally, for small $T$,\n",
    "\n",
    "$$\n",
    "\\left.\\partial_k \\sigma(k,T)\\right|_{k=0} \\approx 2\\, \\left.\\partial_k \\sigma_{BS}(k,T)\\right|_{k=0}.\n",
    "$$"
   ]
  },
  {
   "cell_type": "markdown",
   "metadata": {},
   "source": [
    "### Solution:\n",
    "\n",
    "BBF formulat for small $T$, suppress the second argument in $\\sigma(k,\\cdot)$ for brevity,\n",
    "$$\\frac{1}{\\sigma_{BS}(k)}=\\frac{1}{k}\\,\\int_0^k\\,\\frac{dy}{\\sigma(y)}=\\int_0^1\\,\\frac{d\\alpha}{\\sigma(\\alpha\\,k)}.$$\n",
    "Firstly, as $k\\rightarrow 0$, $\\sigma(k\\rightarrow 0)$ is regular. Thus,\n",
    "$$\n",
    "\\frac{1}{\\sigma_{BS}(k)} \\approx \\frac{1}{k}\\frac{1}{\\sigma(k)}\\int_0^k dy = \\frac{1}{k}\\frac{k}{\\sigma(k)} = \\frac{1}{\\sigma(k)} \\Rightarrow \\sigma_{BS}(k)\\big|_{k=0}\\approx \\sigma(k)\\big|_{k=0}.\n",
    "$$\n",
    "Thus,\n",
    "$$\n",
    "\\partial_k \\sigma_{BS}(k) = \\partial_k \\left( \\int_0^1\\,\\frac{d\\alpha}{\\sigma(\\alpha k)} \\right)^{-1}\n",
    " = \\left( \\int_0^1\\,\\frac{d\\alpha}{\\sigma(\\alpha k)} \\right)^{-2} \\int_0^1 \\frac{d\\alpha}{\\sigma^2(\\alpha k)}\\frac{\\partial \\sigma(\\alpha k)}{\\partial k} = \\sigma^2_{BS}(k)\\int_0^1 \\frac{d\\alpha}{\\sigma^2(\\alpha k)}\\frac{\\partial \\sigma(\\alpha k)}{\\partial k}  = \\frac{\\sigma^2_{BS}(k)}{k}\\int_0^k \\frac{dy}{\\sigma^2(y)}\\frac{\\partial \\sigma(y)}{\\partial y} \\frac{y}{k}.\n",
    "$$\n",
    "Similarly, as $k\\rightarrow 0$, assuming $\\lim_{k\\rightarrow 0}\\partial_k\\sigma(k)$ is also regular,\n",
    "$$\n",
    "\\partial_k \\sigma_{BS}(k)\\big|_{k=0} \\approx \\lim_{k\\rightarrow 0} \\frac{\\sigma^2_{BS}(k)}{k^2}\\frac{1}{\\sigma^2(k)}\\partial_k \\sigma(k)\\int_0^k ydy = \\lim_{k\\rightarrow 0} \\frac{\\sigma^2_{BS}(k)}{k^2}\\frac{1}{\\sigma^2(k)}\\partial_k \\sigma(k)\\frac{k^2}{2}\n",
    "= \\frac{1}{2} \\partial_k \\sigma(k)\\big|_{k=0}.\n",
    "$$\n",
    "In other words,\n",
    "$$\n",
    "\\partial_k \\sigma(k)\\big|_{k=0} = 2\\partial_k \\sigma_{BS}(k)\\big|_{k=0}.\n",
    "$$"
   ]
  },
  {
   "cell_type": "markdown",
   "metadata": {},
   "source": [
    "#### 4. (6 points) \n",
    "\n",
    "Consider formula (12) from Lecture 2:\n",
    "\n",
    "$$\n",
    "v_\\ell(k,T) = \\frac{\\frac{\\partial w}{\\partial T}}\n",
    "{\\left(1 -\\frac 12\\frac{k}{w}\\,\\frac{\\partial w}{\\partial k}\\right)^2\n",
    " - \\frac14\\,\\left( \\frac{1}{4} + \\frac{1}{w} \\right)\\,\n",
    " \\left( \\frac{\\partial w}{\\partial k} \\right)^2  +\n",
    "\\frac{1}{2}\\,\\frac{\\partial^2 w}{\\partial k^2 }}.\n",
    "$$\n",
    "\n",
    "Using this formula, show that the simple quadratic parameterization\n",
    "\n",
    "$$\n",
    "w(k,T)=\\alpha(T)+\\beta(T)\\,{k}+\\gamma(T)\\,{k^2}\n",
    "$$\n",
    "\n",
    "with $\\alpha(T)>0$ and $\\gamma(T)>0$ is arbitrageable.  Explain your result in words in terms of option strategies."
   ]
  },
  {
   "cell_type": "markdown",
   "metadata": {},
   "source": [
    "### Solution:\n",
    "\n",
    "Plug in the denominator and differentiate,\n",
    "\\begin{eqnarray}\n",
    "&&\\left(1 -\\frac 12\\frac{k}{w}\\,\\frac{\\partial w}{\\partial k}\\right)^2\n",
    " - \\frac14\\,\\left( \\frac{1}{4} + \\frac{1}{w} \\right)\\,\n",
    " \\left( \\frac{\\partial w}{\\partial k} \\right)^2  +\n",
    "\\frac{1}{2}\\,\\frac{\\partial^2 w}{\\partial k^2 }\\\\\n",
    "&=& \\left[1 -\\frac 12\\frac{k (\\beta + 2\\gamma k)  }{\\alpha + \\beta k + \\gamma k^2}  \\right]^2\n",
    "- \\frac14\\,\\left( \\frac{1}{4} + \\frac{1}{ \\alpha + \\beta k + \\gamma k^2 } \\right) (\\beta + 2\\gamma k)^2 + \\gamma\\\\\n",
    "(\\text{As } k\\rightarrow \\infty) &\\approx & \\left[ \\underbrace{1-\\frac{1}{2}\\frac{2\\gamma k^2}{\\gamma k^2}}_{=0} + O\\left(\\frac{1}{k}\\right)\\right]^2 - \\frac{1}{4}\\gamma^2 k^2 - \\frac{1}{4}\\beta\\gamma k - \\frac{1}{16}\\beta^2 + O\\left(\\frac{1}{k^2}\\right)+\\gamma \\\\\n",
    "&=& - \\frac{1}{4}\\gamma^2 k^2 - \\frac{1}{4}\\beta\\gamma k + \\gamma - \\frac{1}{16}\\beta^2 + O\\left(\\frac{1}{k^2}\\right)\\\\\n",
    "&<& 0, \\quad \\text{ for sufficiently large }k.\n",
    "\\end{eqnarray}\n",
    "This violates the positivity condition for $v_\\ell(k,T)$, indicating that the volatility surface is arbitrageable. The option strategy to implement this arbitrage is called butterfly because the denominator of $v_\\ell(k,T)$ corresponds to $\\frac{\\partial^2 C}{\\partial K^2}$ in Dupire formula.\n"
   ]
  }
 ],
 "metadata": {
  "anaconda-cloud": {},
  "kernelspec": {
   "display_name": "R",
   "language": "R",
   "name": "ir"
  },
  "language_info": {
   "codemirror_mode": "r",
   "file_extension": ".r",
   "mimetype": "text/x-r-source",
   "name": "R",
   "pygments_lexer": "r",
   "version": "3.4.3"
  }
 },
 "nbformat": 4,
 "nbformat_minor": 1
}
