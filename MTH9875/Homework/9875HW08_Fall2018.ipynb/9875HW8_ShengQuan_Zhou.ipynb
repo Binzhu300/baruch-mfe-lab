{
 "cells": [
  {
   "cell_type": "markdown",
   "metadata": {},
   "source": [
    "## MTH9875 Homework 8\n",
    "### ShengQuan Zhou\n",
    "\n",
    "Assigned: October 18, 2018.\n",
    "Due: November 1, 2018 by 6pm.\n",
    "\n",
    "Late homework **will not be accepted**."
   ]
  },
  {
   "cell_type": "markdown",
   "metadata": {},
   "source": [
    "<font color = \"red\">Homework is to be done by each student individually.  To receive full credit, you must email a completed copy of this iPython notebook to Victor Istratov (stavka@gmail.com), Yassine Ghalem (yassine.ghalem@gmail.com) and Jim Gatheral (jim.gatheral@gmail.com) by the due date and time.  All R-code must run correctly and solutions must be written up neatly in Markdown/LaTeX format."
   ]
  },
  {
   "cell_type": "markdown",
   "metadata": {},
   "source": [
    "### Download some R-code\n"
   ]
  },
  {
   "cell_type": "code",
   "execution_count": 1,
   "metadata": {},
   "outputs": [],
   "source": [
    "download.file(url=\"http://mfe.baruch.cuny.edu/wp-content/uploads/2018/10/9875-8.zip\", destfile=\"9875-8.zip\")\n",
    "unzip(zipfile=\"9875-8.zip\")"
   ]
  },
  {
   "cell_type": "code",
   "execution_count": 2,
   "metadata": {},
   "outputs": [],
   "source": [
    "source(\"BlackScholes.R\")\n",
    "source(\"Lewis.R\")\n",
    "source(\"roughHestonPade.R\")"
   ]
  },
  {
   "cell_type": "code",
   "execution_count": 3,
   "metadata": {},
   "outputs": [],
   "source": [
    "library(repr)\n",
    "options(repr.plot.height=5)"
   ]
  },
  {
   "cell_type": "markdown",
   "metadata": {},
   "source": [
    "### 0. (0 points) \n",
    "\n",
    "Read Chapter 6 of The Volatility Surface. "
   ]
  },
  {
   "cell_type": "markdown",
   "metadata": {},
   "source": [
    "### Answer:\n",
    "\n",
    "Done."
   ]
  },
  {
   "cell_type": "markdown",
   "metadata": {},
   "source": [
    "## The Kou double-exponential jump diffusion model\n",
    "\n",
    "\n",
    "In the Kou model, the underlying follows a jump-diffusion process of the form\n",
    "\n",
    "$$\n",
    "x_t=\\alpha\\,t+\\sigma\\,W_t+\\sum_{i=1}^{N_t}\\,y_i\n",
    "$$\n",
    "\n",
    "where $\\{N_t\\}$ is the Poisson process counting the jumps of $x$, and $y_i$ are jump sizes.  The distribution of jump sizes is an asymmetric exponential with density\n",
    "\n",
    "<a name=\"eq:KouDensity\"></a>(1)\n",
    "$$\n",
    "\\nu(x)=p\\,\\lambda_+\\,e^{-\\lambda_+\\,x}\\,{\\mathbb 1}_{x>0}+(1-p)\\,\\lambda_-\\,e^{+\\lambda_-\\,x}\\,{\\mathbb 1}_{x \\leq 0}.\n",
    "$$"
   ]
  },
  {
   "cell_type": "markdown",
   "metadata": {},
   "source": [
    "### 1. (2 points)\n",
    "\n",
    "Conditional on an up-jump, what is the expected size of the jump?\n",
    "\n",
    "\n",
    "$$\n",
    "\\newcommand{\\supp}{\\mathrm{supp}}\n",
    "\\newcommand{\\E}{\\mathbb{E} }\n",
    "\\def\\Cov{{ \\mbox{Cov} }}\n",
    "\\def\\Var{{ \\mbox{Var} }}\n",
    "\\newcommand{\\1}{\\mathbf{1} }\n",
    "\\newcommand{\\PP}{\\mathbb{P} }\n",
    "%\\newcommand{\\Pr}{\\mathrm{Pr} }\n",
    "\\newcommand{\\QQ}{\\mathbb{Q} }\n",
    "\\newcommand{\\RR}{\\mathbb{R} }\n",
    "\\newcommand{\\DD}{\\mathbb{D} }\n",
    "\\newcommand{\\HH}{\\mathbb{H} }\n",
    "\\newcommand{\\spn}{\\mathrm{span} }\n",
    "\\newcommand{\\cov}{\\mathrm{cov} }\n",
    "\\newcommand{\\sgn}{\\mathrm{sgn} }\n",
    "\\newcommand{\\HS}{\\mathcal{L}_{\\mathrm{HS}} }\n",
    "%\\newcommand{\\HS}{\\mathrm{HS} }\n",
    "\\newcommand{\\trace}{\\mathrm{trace} }\n",
    "\\newcommand{\\LL}{\\mathcal{L} }\n",
    "%\\newcommand{\\LL}{\\mathrm{L} }\n",
    "\\newcommand{\\s}{\\mathcal{S} }\n",
    "\\newcommand{\\ee}{\\mathcal{E} }\n",
    "\\newcommand{\\ff}{\\mathcal{F} }\n",
    "\\newcommand{\\hh}{\\mathcal{H} }\n",
    "\\newcommand{\\bb}{\\mathcal{B} }\n",
    "\\newcommand{\\dd}{\\mathcal{D} }\n",
    "\\newcommand{\\g}{\\mathcal{G} }\n",
    "\\newcommand{\\p}{\\partial}\n",
    "\\newcommand{\\half}{\\frac{1}{2} }\n",
    "\\newcommand{\\T}{\\mathcal{T} }\n",
    "\\newcommand{\\bi}{\\begin{itemize}}\n",
    "\\newcommand{\\ei}{\\end{itemize}}\n",
    "\\newcommand{\\beq}{\\begin{equation}}\n",
    "\\newcommand{\\eeq}{\\end{equation}}\n",
    "\\newcommand{\\beas}{\\begin{eqnarray*}}\n",
    "\\newcommand{\\eeas}{\\end{eqnarray*}}\n",
    "\\newcommand{\\cO}{\\mathcal{O}}\n",
    "\\newcommand{\\cF}{\\mathcal{F}}\n",
    "\\newcommand{\\cL}{\\mathcal{L}}\n",
    "$$\n",
    "\n"
   ]
  },
  {
   "cell_type": "markdown",
   "metadata": {},
   "source": [
    "### Solution:\n",
    "\n",
    "Expected size of the jump is $\\mathbb{E}[x|x>0]=\\frac{\\int^\\infty_0 x\\nu(x)dx}{\\int^\\infty_0 \\nu(x)dx}$. Given that\n",
    "\n",
    "$$\n",
    "\\nu(x)=p\\,\\lambda_+\\,e^{-\\lambda_+\\,x}\\,{\\bf 1}_{x>0}+(1-p)\\,\\lambda_-\\,e^{+\\lambda_-\\,x}\\,{\\bf 1}_{x \\leq 0},\n",
    "$$\n",
    "\n",
    "we have\n",
    "$\\mathbb{E}[x|x>0]= \\frac{\\int_0^{\\infty} p\\lambda_+ e^{-\\lambda_+x}x dx}{ \\int_0^{\\infty} p \\lambda_{+} e^{-\\lambda_+ x}dx } = \\frac{1}{\\lambda_+}$."
   ]
  },
  {
   "cell_type": "markdown",
   "metadata": {},
   "source": [
    "### 2. (8 points) \n",
    "\n",
    "Using the Lévy Khintchine formula, derive the characteristic function \n",
    "$\n",
    "\\phi_T(u)=\\exp\\{\\psi(u)\\,T\\}\n",
    "$\n",
    "with\n",
    "\n",
    "<a name=\"eq:KouPsi\"></a>(2)\n",
    "$$\n",
    "\\psi(u)=-\\frac{\\sigma^2}{2}\\,u^2+i\\,\\omega\\,u+i\\,u\\,\\lambda\\,\\left\\{\\frac{p}{\\lambda_+-i\\,u}-\\frac{1-p}{\\lambda_-+i\\,u}\\right\\}\n",
    "$$\n",
    "\n",
    "where $\\lambda$ is the mean jump arrival rate and\n",
    "\n",
    "$$\n",
    "\\omega=-\\frac{\\sigma^2}{2}-\\lambda\\,\\left\\{\\frac{p}{\\lambda_+-1}-\\frac{1-p}{\\lambda_-+1}\\right\\}.\n",
    "$$\n",
    "\n",
    "$\\psi(u)$ is known as the *characteristic exponent* of the Lévy process."
   ]
  },
  {
   "cell_type": "markdown",
   "metadata": {},
   "source": [
    "### Solution: \n",
    "The Levy Khintchine formula reads:\n",
    "\n",
    "$$\n",
    "\\phi_T(u)=\\exp\\left\\{i \\,u\\, \\omega\\, T -\\frac{1}{2}u^2\\, \\sigma^2 T +T\n",
    "\\int \\left[e^{i \\,u \\,x}-1\\right]\\mu(x)\\,dx\\right\\}\n",
    "$$\n",
    "\n",
    "where\n",
    "\n",
    "$$\n",
    "\\mu(x)=\\lambda \\nu(x)=\\lambda \\left(p\\,\\lambda_+\\,e^{-\\lambda_+\\,x}\\,{\\bf 1}_{x>0}+(1-p)\\,\\lambda_-\\,e^{+\\lambda_-\\,x}\\,{\\bf 1}_{x \\leq 0}\\right)\n",
    "$$\n",
    "\n",
    "Substitute into the integration, we have:\n",
    "\n",
    "$$\n",
    "\\begin{eqnarray*}\n",
    "\\int [ e^{iux}-1]\\mu(x) dx &=& \\int_{-\\infty}^0 \\lambda \\left(e^{iux}-1\\right)(1-p)\\lambda_{-}e^{\\lambda_- x}dx +\n",
    "\\int_0^{\\infty} p\\lambda \\lambda_{+} \\left( e^{iux}-1\\right)e^{-\\lambda_{+}x}dx\\\\\n",
    "&=& \\lambda (1-p)\\lambda_- \\int_{-\\infty}^0 e^{(iu+\\lambda_-)x}dx -\\lambda (1-p)\\int_{-\\infty}^0 \\lambda_-e^{\\lambda_-x}dx + p\\lambda \\int_{0}^{\\infty} \\lambda_+ e^{(iu-\\lambda_+)x}dx -p \\lambda \\int_0^{\\infty}\\lambda_+ e^{-\\lambda_+x}dx\\\\\n",
    "&=& \\frac{\\lambda \\lambda_- (1-p)}{\\lambda_- + iu} -\\lambda(1-p) +\\frac{p\\lambda \\lambda_+}{\\lambda_+ - iu}-p\\lambda\\\\\n",
    "&=& \\lambda \\left[ \\frac{-(1-p)iu}{\\lambda_- + iu}+\\frac{piu}{\\lambda_+ - iu}\\right]\\\\\n",
    "&=& iu\\lambda\\,\\left\\{\\frac{p}{\\lambda_+ - iu} - \\frac{1-p}{\\lambda_- + iu}\\right\\}\n",
    "\\end{eqnarray*}\n",
    "$$\n",
    "\n",
    "Thus,\n",
    "\n",
    "$$\n",
    "\\psi(u)=-\\frac{\\sigma^2}{2}\\,u^2+i\\,\\omega\\,u+i\\,u\\,\\lambda\\,\\left\\{\\frac{p}{\\lambda_+-i\\,u}-\\frac{1-p}{\\lambda_-+i\\,u}\\right\\}\n",
    "$$\n",
    "\n",
    "With martingale condition $\\phi_T(-i)=\\mathbb{E}\\left[e^{x_T}\\right]=1$,\n",
    "\n",
    "$$\n",
    "\\psi(-i) = \\frac{\\sigma^2}{2} + \\omega - \\lambda\\,\\left[\\frac{p}{\\lambda_+-i\\,u}-\\frac{1-p}{\\lambda_-+i\\,u}\\right] = 0\n",
    "$$\n",
    "we get\n",
    "$$\n",
    "\\omega=-\\frac{\\sigma^2}{2}-\\lambda\\,\\left\\{\\frac{p}{\\lambda_+-1}-\\frac{1-p}{\\lambda_-+1}\\right\\}.\n",
    "$$"
   ]
  },
  {
   "cell_type": "markdown",
   "metadata": {},
   "source": [
    "### 3. (6 points) \n",
    "\n",
    "Use the characteristic exponent [(2)](#eq:KouPsi) and Lewis's formula (6) from Lecture 8 as implemented in `Lewis.R` to plot the one-year Kou model implied volatility smile assuming the following parameters:\n",
    "\n",
    "$$\n",
    "\\sigma=0.1; \\,\\lambda=1.0;\\,p=0.25;\\,\\lambda_-=8;\\,\\lambda_+=25;\n",
    "$$\n",
    "\n",
    "The log-strike range should be from $k=-1.0$ to $k=1.0$.  "
   ]
  },
  {
   "cell_type": "markdown",
   "metadata": {},
   "source": [
    "### Solution:"
   ]
  },
  {
   "cell_type": "code",
   "execution_count": 4,
   "metadata": {},
   "outputs": [],
   "source": [
    "# Characteristic function of Kou model\n",
    "phiKou <- function(params)\n",
    "{   \n",
    "    sig <- params$sig\n",
    "    lambda <- params$lambda\n",
    "    p <- params$p\n",
    "    lambdaM <- params$lambdaM\n",
    "    lambdaP <- params$lambdaP\n",
    "       \n",
    "    res <- function(u, t)\n",
    "    {\n",
    "        omega <- -sig * sig / 2.0 - lambda * (p / (lambdaP - 1) - (1-p) / (lambdaM + 1))\n",
    "        psi <- -sig * sig / 2.0 * u * u + (0+1i) * omega * u \n",
    "        psi <- psi + (0+1i) * u * lambda * ((p / (lambdaP - (0+1i) * u)) - (1-p) / (lambdaM + (0+1i) * u))\n",
    "        res <- exp(psi * t)\n",
    "        return(res)\n",
    "    }\n",
    "    \n",
    "    return(res)\n",
    "}"
   ]
  },
  {
   "cell_type": "code",
   "execution_count": 5,
   "metadata": {},
   "outputs": [],
   "source": [
    "paramsKou <- list(sig = 0.1, lambda = 1.0, p = 0.25, lambdaM = 8.0, lambdaP = 25.0)"
   ]
  },
  {
   "cell_type": "code",
   "execution_count": 6,
   "metadata": {},
   "outputs": [
    {
     "data": {
      "image/png": "[encoded data removed]",
      "text/plain": [
       "plot without title"
      ]
     },
     "metadata": {},
     "output_type": "display_data"
    }
   ],
   "source": [
    "options(repr.plot.height=4,repr.plot.width=6)\n",
    "Impvol <- function(k){sapply(k,function(x){impvol.phi(phiKou(paramsKou))(x,1)})}\n",
    "curve(Impvol(x),from=-1.0,to=1.0,col=\"blue\",xlab=\"Log-strike\", ylab=\"Implied Vol\")"
   ]
  },
  {
   "cell_type": "markdown",
   "metadata": {},
   "source": [
    "## Jump-Diffusion Monte Carlo"
   ]
  },
  {
   "cell_type": "markdown",
   "metadata": {},
   "source": [
    "### 4. (10 points) \n",
    "\n",
    "(a) \n",
    "Write Monte Carlo code to price European options in the Kou model. \n",
    "\n",
    "(b) With the same parameters as in Problem 3, run your Monte Carlo code with $T=1$ year and 2 million paths.\n",
    "\n",
    "(c) \n",
    "Use your output from (b) to plot the one-year implied volatility smile from $k=-1.0$ to $k=1.0$.  \n",
    "\n",
    "(d) Superimpose your plot from (c) on the exact smile from Problem 3.  Verify that you obtain the same implied volatilities."
   ]
  },
  {
   "cell_type": "markdown",
   "metadata": {},
   "source": [
    "### Solution (a)"
   ]
  },
  {
   "cell_type": "code",
   "execution_count": 7,
   "metadata": {},
   "outputs": [],
   "source": [
    "NJumps <- function(n, p, lamp, lamm){\n",
    "    \n",
    "    # n: number of rv to generate, which is positive\n",
    "    # p: probability of rv to be positive\n",
    "    # lamp: rate for positive rv, \n",
    "    # lamm: rate for negative rv\n",
    "\n",
    "    res <- 0\n",
    "    \n",
    "    prob <- runif(n, min=0, max=1)\n",
    "    lampV <- rep(lamp, n)\n",
    "    lammV <- rep(lamm, n)\n",
    "    lamV <- (prob < p) * lamp + (prob >= p) * lamm   \n",
    "    tmp <- rexp(n, rate=lamV)        \n",
    "    res <- sum((prob < p) * tmp - (prob >= p) * tmp)\n",
    "\n",
    "    return (res)\n",
    "}"
   ]
  },
  {
   "cell_type": "code",
   "execution_count": 8,
   "metadata": {},
   "outputs": [],
   "source": [
    "Kou_MC <- function(paramsKou, k, T, paths=100000, steps=1)\n",
    "{\n",
    "    # Function to calculate call option price with Kou model and MC\n",
    "    # assuming alpha = mu_j, S0 = 1, r = 0\n",
    "    \n",
    "    sig <- paramsKou$sig\n",
    "    lambda <- paramsKou$lambda\n",
    "    p <- paramsKou$p\n",
    "    lambdaM <- paramsKou$lambdaM\n",
    "    lambdaP <- paramsKou$lambdaP\n",
    "    \n",
    "    alpha <- 0\n",
    "    \n",
    "    K <- exp(k)  # Assume S0=1\n",
    "    \n",
    "    dt <- T / steps\n",
    " \n",
    "    evolveK <- function(x)\n",
    "    {\n",
    "        BMs <- rnorm(paths)\n",
    "        Nts <- rpois(paths, lambda * dt)\n",
    "        BMs <- BMs - mean(BMs);  BMs <- BMs/sd(BMs)       \n",
    "        jumps <- sapply(Nts, function(Nt){NJumps(Nt, p, lambdaP, lambdaM)})        \n",
    "        x <- x + alpha * dt + sig * sqrt(dt) * BMs + jumps     \n",
    "        x <- x - log(mean(exp(x)))       \n",
    "        return(x)\n",
    "    }\n",
    "\n",
    "    x <- numeric(paths)\n",
    "    \n",
    "    for (i in 1:steps)\n",
    "    {\n",
    "        x <- evolveK(x)        \n",
    "    }\n",
    "    \n",
    "    ST <- exp(x) \n",
    "    payoff <- (ST > K) * (ST - K)   \n",
    "    res <- mean(payoff)   \n",
    "    return(res)\n",
    "}"
   ]
  },
  {
   "cell_type": "markdown",
   "metadata": {},
   "source": [
    "### Solution (b) <font color=blue>Change to 2 million paths if you have time!</font>"
   ]
  },
  {
   "cell_type": "code",
   "execution_count": 9,
   "metadata": {},
   "outputs": [],
   "source": [
    "# Vectorization \n",
    "Npaths <- 100000 # Change to 2,000,000 if you have time\n",
    "Kou_prices_MC <- function(k){sapply(k, function(x){Kou_MC(paramsKou, x, 1.0, Npaths)})}\n",
    "Kou_prices_MC_Vectorized <- Vectorize(Kou_prices_MC)"
   ]
  },
  {
   "cell_type": "code",
   "execution_count": 12,
   "metadata": {},
   "outputs": [],
   "source": [
    "Ks <- seq(-1.0,1.0,0.01)\n",
    "Kou_prices_MC_results <- sapply(Ks, Kou_prices_MC_Vectorized)"
   ]
  },
  {
   "cell_type": "code",
   "execution_count": 25,
   "metadata": {},
   "outputs": [
    {
     "data": {
      "image/png": "[encoded data removed]",
      "text/plain": [
       "plot without title"
      ]
     },
     "metadata": {},
     "output_type": "display_data"
    }
   ],
   "source": [
    "plot(Ks, Kou_prices_MC_results, col=\"blue\",ylab=\"European Call Price Kou Model with MC\",xlab=\"Log-strike\", pch='.')\n",
    "lines(Ks, Kou_prices_MC_results, col=\"blue\") "
   ]
  },
  {
   "cell_type": "markdown",
   "metadata": {},
   "source": [
    "### Solution (c)"
   ]
  },
  {
   "cell_type": "code",
   "execution_count": 34,
   "metadata": {},
   "outputs": [],
   "source": [
    "Strikes = exp(Ks)\n",
    "Kou_impvol_list <- numeric(length(Strikes))"
   ]
  },
  {
   "cell_type": "code",
   "execution_count": 36,
   "metadata": {},
   "outputs": [],
   "source": [
    "for (i in 1:length(Strikes))\n",
    "{\n",
    "    Kou_impvol_list[i] = BSImpliedVolCall(S0=1, K=Strikes[i], T=1, r=0, C=Kou_prices_MC_results[i])\n",
    "}"
   ]
  },
  {
   "cell_type": "code",
   "execution_count": 37,
   "metadata": {},
   "outputs": [
    {
     "data": {
      "image/png": "[encoded data removed]",
      "text/plain": [
       "plot without title"
      ]
     },
     "metadata": {},
     "output_type": "display_data"
    }
   ],
   "source": [
    "plot(Ks, Kou_impvol_list, col=\"blue\",ylab=\"Implied Vol Kou Model with MC\",xlab=\"Log-strike\", pch='.')\n",
    "lines(Ks, Kou_impvol_list, col=\"blue\") "
   ]
  },
  {
   "cell_type": "markdown",
   "metadata": {},
   "source": [
    "### Solution (d)\n",
    "\n",
    "Yes, the same implied volatility smile is obtained. If more Monte Carlo paths is used given enough time, the Monte Carlo results will be smoother and the agreement will improve correspondingly."
   ]
  },
  {
   "cell_type": "code",
   "execution_count": 42,
   "metadata": {},
   "outputs": [
    {
     "data": {
      "image/png": "[encoded data removed]",
      "text/plain": [
       "plot without title"
      ]
     },
     "metadata": {},
     "output_type": "display_data"
    }
   ],
   "source": [
    "plot(Ks, Kou_impvol_list, col=\"blue\",ylab=\"Implied Vol Kou Model with MC\",xlab=\"Log-strike\", pch='.')\n",
    "lines(Ks, Kou_impvol_list, col=\"blue\") \n",
    "curve(Impvol(x),from=-1.0,to=1.0,col=\"red\",xlab=\"Log-strike\", ylab=\"Implied Vol\", add=TRUE)\n",
    "legend(\"bottomleft\",c(\"Monte Carlo\",\"Exact solution\"),lty=1,bty='n', \n",
    "       y.intersp=1.5,cex=1,col=c(\"blue\", \"red\"))"
   ]
  },
  {
   "cell_type": "markdown",
   "metadata": {},
   "source": [
    "## Term structure of ATM skew"
   ]
  },
  {
   "cell_type": "markdown",
   "metadata": {},
   "source": [
    "### 5. (16 points) \n",
    "\n",
    "(a) Implement in R the ATM volatility skew using formula (8) from the lecture notes:\n",
    "\n",
    "\\begin{equation}\n",
    "\\left.\\frac{\\partial \\sigma_{BS} }{\\partial k }\\right|_{k=0}=-\n",
    "e^{\\frac{\\sigma_{BS}^2 T}{8}} \\sqrt{\\frac{2}{ \\pi}}\\frac{1}{\n",
    "\\sqrt{T}}\\,\\int_0^\\infty\\,du \\, \\frac{u\\,\n",
    "\\mathrm{Im}\\left[\\phi_T(u-i/2)\\right]}\n",
    "{u^2+\\frac{1}{4}}.\n",
    "\\end{equation}\n",
    "\n",
    "\n",
    "Your function should look like \n",
    "\n",
    "`atmSkew.phi <- function(phi)function(t){...}`\n",
    "\n",
    "Remember to vectorize this function!\n",
    "\n",
    "(b) Use your function `atmSkew.phi` to plot the Kou model ATM volatility skew with Kou parameters from Problem 3,  from 0 to 10 years.  \n",
    "\n",
    "\n",
    "(c) Using the rough Heston parameters\n",
    "\n",
    "$$\n",
    "H=0.05; \\eta=0.1; \\rho=-.65;\n",
    "$$\n",
    "\n",
    "with a flat forward variance curve $\\xi = 0.035$, superimpose the rough Heston ATM skew curve on the plot from part (b).  Use the Padé 3-3 approximation as in \n",
    "\n",
    "`phi.rHeston <- phiRoughHestonDhApprox(params.rHeston, xiCurve, dh.approx= d.h.Pade33, n=20)`.\n",
    "\n",
    "(d)  Superimpose a plot of the function $\\psi_1/T^{.45}$ where $\\psi_1$ is the rough Heston model 1-year ATM volatility skew.  Why did I choose the exponent $0.45$?\n",
    "\n",
    "(e) Which model is more realistic: Kou or rough Heston?  Why?"
   ]
  },
  {
   "cell_type": "markdown",
   "metadata": {},
   "source": [
    "### Solution (a)"
   ]
  },
  {
   "cell_type": "code",
   "execution_count": 68,
   "metadata": {},
   "outputs": [],
   "source": [
    "# Define the ATM skew function from the formula 8\n",
    "atmSkew.phi <- function(phi)\n",
    "{       \n",
    "    res <- function(t)\n",
    "    {\n",
    "        atmVol <- impvol.phi(phi)(1,t) #BSImpliedVolCall(S0=1, K=1, T=t, r=0, C=callOption(phi, 0, t));\n",
    "        integrand <-  function(u){Im(u*phi(u - 1i/2, t)/(u^2 + 1/4))};\n",
    "        res <- -integrate(integrand,lower=0,upper=Inf,rel.tol=0.0000000001,subdivisions=1000)$value/sqrt(t)*sqrt(2/pi)*exp(atmVol^2*t/8);\n",
    "        return(res);\n",
    "    }\n",
    "    \n",
    "    return(res)\n",
    "}"
   ]
  },
  {
   "cell_type": "code",
   "execution_count": 57,
   "metadata": {},
   "outputs": [],
   "source": [
    "atmSkew_Kou_Vectorized = Vectorize(atmSkew.phi(phiKou(paramsKou)))"
   ]
  },
  {
   "cell_type": "markdown",
   "metadata": {},
   "source": [
    "### Solution (b)"
   ]
  },
  {
   "cell_type": "code",
   "execution_count": 83,
   "metadata": {},
   "outputs": [
    {
     "data": {
      "image/png": "[encoded data removed]",
      "text/plain": [
       "plot without title"
      ]
     },
     "metadata": {},
     "output_type": "display_data"
    }
   ],
   "source": [
    "# Plot the ATM skew with maturity up to 10Y\n",
    "options(repr.plot.height=6,repr.plot.width=6)\n",
    "curve(atmSkew_Kou_Vectorized(x),from=0.1,to=10,col=\"blue\",xlab=\"Maturity\", ylab=\"ATM Skew\")"
   ]
  },
  {
   "cell_type": "markdown",
   "metadata": {},
   "source": [
    "### Solution (c)"
   ]
  },
  {
   "cell_type": "code",
   "execution_count": 71,
   "metadata": {},
   "outputs": [],
   "source": [
    "params.rHeston <- list(H=0.05,nu=0.15,rho=-.65,eta=0.1)\n",
    "xiCurve <- function(t){0.035+0*t}\n",
    "phi.rHeston <- phiRoughHestonDhApprox(params.rHeston, xiCurve, dh.approx= d.h.Pade33, n=20)"
   ]
  },
  {
   "cell_type": "code",
   "execution_count": 72,
   "metadata": {},
   "outputs": [],
   "source": [
    "atmSkew_rHeston_Vectorized = Vectorize(atmSkew.phi(phi.rHeston))"
   ]
  },
  {
   "cell_type": "code",
   "execution_count": 75,
   "metadata": {},
   "outputs": [
    {
     "data": {
      "image/png": "[encoded data removed]",
      "text/plain": [
       "plot without title"
      ]
     },
     "metadata": {},
     "output_type": "display_data"
    }
   ],
   "source": [
    "options(repr.plot.height=6,repr.plot.width=6)\n",
    "curve(atmSkew_Kou_Vectorized(x),from=0.1,to=10,col=\"blue\",xlab=\"Maturity\", ylab=\"ATM Skew\")\n",
    "curve(atmSkew_rHeston_Vectorized(x),from=0.1,to=10,col=\"red\",xlab=\"Maturity\", ylab=\"ATM Skew\", add=TRUE)\n",
    "legend(\"center\",c(\"Kou Model\",\"rHeston Model\"),lty=1,bty='n', y.intersp=1.5,cex=1,col=c(\"blue\", \"red\"))"
   ]
  },
  {
   "cell_type": "markdown",
   "metadata": {},
   "source": [
    "### Solution (d)\n",
    "\n",
    "The exponent is chosen to be 0.45 because it is $\\frac{1}{2}-H = 0.5-0.05=0.45$."
   ]
  },
  {
   "cell_type": "code",
   "execution_count": 76,
   "metadata": {},
   "outputs": [],
   "source": [
    "psi1 <- atmSkew_rHeston_Vectorized(1)"
   ]
  },
  {
   "cell_type": "code",
   "execution_count": 84,
   "metadata": {},
   "outputs": [
    {
     "data": {
      "image/png": "[encoded data removed]",
      "text/plain": [
       "plot without title"
      ]
     },
     "metadata": {},
     "output_type": "display_data"
    }
   ],
   "source": [
    "options(repr.plot.height=6,repr.plot.width=6)\n",
    "curve(atmSkew_Kou_Vectorized(x),from=0.1,to=10,col=\"blue\",xlab=\"Maturity\", ylab=\"ATM Skew\")\n",
    "curve(atmSkew_rHeston_Vectorized(x),from=0.1,to=10,col=\"red\",xlab=\"Maturity\", ylab=\"ATM Skew\", add=TRUE)\n",
    "curve(psi1 / x^0.45, from=0.1,to=10,col=\"gray\", add=TRUE)\n",
    "legend(\"center\",c(\"Kou Model\",\"rHeston Model\", \"Empirical\"),lty=1,bty='n', y.intersp=1.5,cex=1,col=c(\"blue\", \"red\", \"gray\"))"
   ]
  },
  {
   "cell_type": "markdown",
   "metadata": {},
   "source": [
    "### Answer (e):\n",
    "\n",
    "Rough Heston model is more realistic because (1) historical path-dependent information is incorporated in the forward variance curve; (2) power-law behavior of ATM skew is built-in for rHeston model."
   ]
  },
  {
   "cell_type": "markdown",
   "metadata": {},
   "source": [
    "### 6. (6 points)  \n",
    "\n",
    "Explain qualitatively to a non-specialist (*e.g.* your boss who is a trader) what happens to the volatility surface when there is a large negative jump in the Kou model.  Compare this to what happens in the rough Heston model when there is a large negative move in the underlying."
   ]
  },
  {
   "cell_type": "markdown",
   "metadata": {},
   "source": [
    "### Answer:\n",
    "\n",
    "A large negative jump in the Kou model does not affect the volatility surface because it's a Lévy process where the price increments are independent.\n",
    "\n",
    "For rough Heston model, when there is a large negative move in the underlying, volatility surface will level up to reflect the spot-vol anti-correlation."
   ]
  }
 ],
 "metadata": {
  "anaconda-cloud": {},
  "kernelspec": {
   "display_name": "R",
   "language": "R",
   "name": "ir"
  },
  "language_info": {
   "codemirror_mode": "r",
   "file_extension": ".r",
   "mimetype": "text/x-r-source",
   "name": "R",
   "pygments_lexer": "r",
   "version": "3.4.3"
  }
 },
 "nbformat": 4,
 "nbformat_minor": 1
}
