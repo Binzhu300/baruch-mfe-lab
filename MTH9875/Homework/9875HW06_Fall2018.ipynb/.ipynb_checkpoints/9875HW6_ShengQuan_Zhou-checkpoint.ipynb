{
 "cells": [
  {
   "cell_type": "markdown",
   "metadata": {},
   "source": [
    "# MTH9875 Homework 6\n",
    "\n",
    "### ShengQuan Zhou\n",
    "\n",
    "Assigned: October 4, 2018.\n",
    "Due: October 18, 2018 by 6pm.\n",
    "\n",
    "Late homework **will not be accepted**.\n",
    "\n",
    "$$\n",
    "\\newcommand{\\bea}{\\begin{eqnarray}}\n",
    "\\newcommand{\\eea}{\\end{eqnarray}}\n",
    "\\newcommand{\\beas}{\\begin{eqnarray*}}\n",
    "\\newcommand{\\eeas}{\\end{eqnarray*}}\n",
    "\\newcommand{\\supp}{\\mathrm{supp}}\n",
    "\\newcommand{\\E}{\\mathbb{E} }\n",
    "\\def\\Cov{{ \\mbox{Cov} }}\n",
    "\\def\\Var{{ \\mbox{Var} }}\n",
    "\\newcommand{\\1}{\\mathbf{1} }\n",
    "\\newcommand{\\cF}{\\mathcal{F} }\n",
    "\\newcommand{\\PP}{\\mathbb{P} }\n",
    "\\newcommand{\\QQ}{\\mathbb{Q} }\n",
    "\\newcommand{\\RR}{\\mathbb{R} }\n",
    "\\newcommand{\\DD}{\\mathbb{D} }\n",
    "\\newcommand{\\HH}{\\mathbb{H} }\n",
    "\\newcommand{\\spn}{\\mathrm{span} }\n",
    "\\newcommand{\\cov}{\\mathrm{cov} }\n",
    "\\newcommand{\\HS}{\\mathcal{L}_{\\mathrm{HS}} }\n",
    "\\newcommand{\\cV}{\\mathcal{V}}\n",
    "\\newcommand{\\cG}{\\mathcal{G}}\n",
    "\\newcommand{\\cL}{\\mathcal{L}}\n",
    "\\newcommand{\\cO}{\\mathcal{O}}\n",
    "\\newcommand{\\trace}{\\mathrm{trace} }\n",
    "\\newcommand{\\LL}{\\mathcal{L} }\n",
    "\\newcommand{\\s}{\\mathcal{S} }\n",
    "\\newcommand{\\ee}{\\mathcal{E} }\n",
    "\\newcommand{\\ff}{\\mathcal{F} }\n",
    "\\newcommand{\\hh}{\\mathcal{H} }\n",
    "\\newcommand{\\bb}{\\mathcal{B} }\n",
    "\\newcommand{\\dd}{\\mathcal{D} }\n",
    "\\newcommand{\\half}{\\frac{1}{2} }\n",
    "\\newcommand{\\T}{\\mathcal{T} }\n",
    "\\newcommand{\\bi}{\\begin{itemize}}\n",
    "\\newcommand{\\ei}{\\end{itemize}}\n",
    "\\newcommand{\\beq}{\\begin{equation}}\n",
    "\\newcommand{\\eeq}{\\end{equation}}\n",
    "\\newcommand{\\ee}[1]{\\mathbb{E}\\left[{#1}\\right]}\n",
    "\\newcommand{\\eef}[1]{\\mathbb{E}\\left[\\left.{#1}\\right|\\cF_t\\right]}\n",
    "\\newcommand{\\Rplus}{\\mathbb{R}_{\\geqslant 0}}\n",
    "\\newcommand{\\Rpplus}{\\mathbb{R}_{> 0}}\n",
    "\\newcommand{\\Rminus}{\\mathbb{R}_{\\leqslant 0}}\n",
    "\\newcommand{\\p}{\\partial}\n",
    "\\newcommand{\\ui}{\\textrm{i}}\n",
    "\\newcommand{\\mP}{\\mathbb{P}}\n",
    "\\newcommand{\\mQ}{\\mathbb{Q}}\n",
    "\\newcommand{\\angl}[1]{\\langle{#1}\\rangle}\n",
    "\\newcommand{\\var}{{\\rm var}}\n",
    "\\newcommand{\\cov}{{\\rm cov}}\n",
    "\\newcommand{\\covf}[1]{\\cov\\left[\\left.{#1}\\right|\\cF_t\\right]}\n",
    "\\newcommand{\\varf}[1]{\\var\\left[\\left.{#1}\\right|\\cF_t\\right]}\n",
    "$$  "
   ]
  },
  {
   "cell_type": "markdown",
   "metadata": {},
   "source": [
    "<font color = \"red\">Homework is to be done by each student individually.  To receive full credit, you must email a completed copy of this iPython notebook to Victor Istratov (stavka@gmail.com), Yassine Ghalem (yassine.ghalem@gmail.com) and Jim Gatheral (jim.gatheral@gmail.com) by the due date and time.  All R-code must run correctly and solutions must be written up neatly in Markdown/LaTeX format."
   ]
  },
  {
   "cell_type": "markdown",
   "metadata": {},
   "source": [
    "### 1. (3 points)\n",
    "\n",
    "Derive the put-call parity formula for European options in the form\n",
    "\n",
    "$$\n",
    "C-P=PV\\,(F-K)\n",
    "$$ \n",
    "\n",
    "where $C$ is the call price, $P$ is the put price, $F$ is the forward price, $K$ is the strike and $PV$ is the discount factor."
   ]
  },
  {
   "cell_type": "markdown",
   "metadata": {},
   "source": [
    "### Solution\n",
    "\n",
    "At expiry $T$, the payoff of European options are\n",
    "$$\n",
    "C_T = (S_T-K)^+, \\quad P_T = (K_T-S)^+,\n",
    "$$\n",
    "such that\n",
    "$$\n",
    "C_T - P_T = S_T - K.\n",
    "$$\n",
    "Take expectation with information available at time $t$ and discount,\n",
    "$$\n",
    "C - P = PV\\cdot\\mathbb{E}[C_T - P_T|\\mathcal{F}_t]= PV\\cdot\\mathbb{E}[S_T - K|\\mathcal{F}_t]\n",
    "= PV\\cdot \\underbrace{\\mathbb{E}[S_T |\\mathcal{F}_t]}_{\\triangleq F} - PV\\cdot K = PV\\cdot(F-K).\n",
    "$$"
   ]
  },
  {
   "cell_type": "markdown",
   "metadata": {},
   "source": [
    "### Download some code"
   ]
  },
  {
   "cell_type": "code",
   "execution_count": 42,
   "metadata": {},
   "outputs": [],
   "source": [
    "download.file(url=\"http://mfe.baruch.cuny.edu/wp-content/uploads/2018/10/9875-6.zip\", destfile=\"9875-6.zip\")\n",
    "unzip(zipfile=\"9875-6.zip\")\n",
    "\n",
    "source(\"BlackScholes.R\")\n",
    "source(\"Lewis.R\")\n",
    "source(\"Heston.R\")"
   ]
  },
  {
   "cell_type": "markdown",
   "metadata": {},
   "source": [
    "### 2.  (9 points) \n",
    "\n",
    "Given $n$ option strikes from a given expiration $T$, write R-code to take the $2\\,n$ option prices and return $F$ and $PV$ for that expiration (obviously you need at least two strikes).  Test your code on the following prices for European options expiring in 36 days:\n",
    "\n",
    "| Strike | Call price | Put price |\n",
    "|--------|---------:|----------:|\n",
    "| 1190 | 52.23 | 37.51 | \n",
    "| 1195 | 49.11 | 39.34 | \n",
    "| 1200 | 46.59 | 41.52 | \n",
    "| 1205 | 43.13 | 42.55 | \n",
    "| 1210 | 40.21 | 45.40 | \n",
    "| 1215 | 37.45 | 47.57 | \n",
    "  \n",
    "\n",
    "\n",
    "\n",
    "With the resulting values of $F$ and $PV$, and using the implied volatility calculator in `BlackScholes.R`, compute implied volatilities for the above options.  Display these by adding a column to the above table."
   ]
  },
  {
   "cell_type": "markdown",
   "metadata": {},
   "source": [
    "### Solution "
   ]
  },
  {
   "cell_type": "code",
   "execution_count": 43,
   "metadata": {},
   "outputs": [
    {
     "name": "stdout",
     "output_type": "stream",
     "text": [
      "F:  1204.992  PV:  0.9918286 \n"
     ]
    }
   ],
   "source": [
    "### data\n",
    "res<-data.frame(matrix(ncol = 4, nrow = 6))\n",
    "colnames(res)<-c(\"Strike\",\"Call price\",\"Put price\",\"Implied volatility\")\n",
    "res[,\"Strike\"]<-c(1190,1195,1200,1205,1210,1215)\n",
    "res[,\"Call price\"]<-c(52.23,49.11,46.59,43.13,40.21,37.45)\n",
    "res[,\"Put price\"]<-c(37.51,39.34,41.52,42.55,45.40,47.57)\n",
    "\n",
    "### estimate F and PV\n",
    "lr<-lm((res[,\"Call price\"]-res[,\"Put price\"])~res[,\"Strike\"])\n",
    "PV<--summary(lr)$coeff[2]\n",
    "F<-summary(lr)$coeff[1]/PV\n",
    "cat(\"F: \",F,\" PV: \",PV,\"\\n\")"
   ]
  },
  {
   "cell_type": "code",
   "execution_count": 44,
   "metadata": {},
   "outputs": [
    {
     "data": {
      "text/html": [
       "<table>\n",
       "<thead><tr><th scope=col>Strike</th><th scope=col>Call price</th><th scope=col>Put price</th><th scope=col>Implied volatility</th></tr></thead>\n",
       "<tbody>\n",
       "\t<tr><td>1190     </td><td>52.23    </td><td>37.51    </td><td>0.2984816</td></tr>\n",
       "\t<tr><td>1195     </td><td>49.11    </td><td>39.34    </td><td>0.2950218</td></tr>\n",
       "\t<tr><td>1200     </td><td>46.59    </td><td>41.52    </td><td>0.2950292</td></tr>\n",
       "\t<tr><td>1205     </td><td>43.13    </td><td>42.55    </td><td>0.2881578</td></tr>\n",
       "\t<tr><td>1210     </td><td>40.21    </td><td>45.40    </td><td>0.2843159</td></tr>\n",
       "\t<tr><td>1215     </td><td>37.45    </td><td>47.57    </td><td>0.2809337</td></tr>\n",
       "</tbody>\n",
       "</table>\n"
      ],
      "text/latex": [
       "\\begin{tabular}{r|llll}\n",
       " Strike & Call price & Put price & Implied volatility\\\\\n",
       "\\hline\n",
       "\t 1190      & 52.23     & 37.51     & 0.2984816\\\\\n",
       "\t 1195      & 49.11     & 39.34     & 0.2950218\\\\\n",
       "\t 1200      & 46.59     & 41.52     & 0.2950292\\\\\n",
       "\t 1205      & 43.13     & 42.55     & 0.2881578\\\\\n",
       "\t 1210      & 40.21     & 45.40     & 0.2843159\\\\\n",
       "\t 1215      & 37.45     & 47.57     & 0.2809337\\\\\n",
       "\\end{tabular}\n"
      ],
      "text/markdown": [
       "\n",
       "Strike | Call price | Put price | Implied volatility | \n",
       "|---|---|---|---|---|---|\n",
       "| 1190      | 52.23     | 37.51     | 0.2984816 | \n",
       "| 1195      | 49.11     | 39.34     | 0.2950218 | \n",
       "| 1200      | 46.59     | 41.52     | 0.2950292 | \n",
       "| 1205      | 43.13     | 42.55     | 0.2881578 | \n",
       "| 1210      | 40.21     | 45.40     | 0.2843159 | \n",
       "| 1215      | 37.45     | 47.57     | 0.2809337 | \n",
       "\n",
       "\n"
      ],
      "text/plain": [
       "  Strike Call price Put price Implied volatility\n",
       "1 1190   52.23      37.51     0.2984816         \n",
       "2 1195   49.11      39.34     0.2950218         \n",
       "3 1200   46.59      41.52     0.2950292         \n",
       "4 1205   43.13      42.55     0.2881578         \n",
       "5 1210   40.21      45.40     0.2843159         \n",
       "6 1215   37.45      47.57     0.2809337         "
      ]
     },
     "metadata": {},
     "output_type": "display_data"
    }
   ],
   "source": [
    "### implied volatility\n",
    "S0 <- F*PV\n",
    "Texp <- 36/365\n",
    "r <- -log(PV)/Texp\n",
    "\n",
    "for (i in 1:dim(res)[1])\n",
    "{\n",
    "    res[i,\"Implied volatility\"]<-BSImpliedVolCall(S0, res[i,\"Strike\"], Texp, r, res[i,\"Call price\"])\n",
    "}\n",
    "res"
   ]
  },
  {
   "cell_type": "markdown",
   "metadata": {},
   "source": [
    "### Code to make the plots look prettier"
   ]
  },
  {
   "cell_type": "code",
   "execution_count": 45,
   "metadata": {},
   "outputs": [],
   "source": [
    "library(repr)\n",
    "options(repr.plot.width=7,repr.plot.height=5)"
   ]
  },
  {
   "cell_type": "markdown",
   "metadata": {},
   "source": [
    "## A special case of Heston: The Heston-Nandi model\n",
    "\n",
    "According to Lecture 6, if $\\rho=-1$, and $v = \\bar v$, Heston local variance should be well approximated by \n",
    "\n",
    "<a name=\"eq:Hestonlv\"></a>(1)\n",
    "$$\n",
    " v_\\ell(k,T) = \\left[\\bar v - \\eta\\,\\left(k +\\frac12 \\,\\bar v \\,T\\right)\\,\\frac{1-e^{-\\lambda T}}{\\lambda\\,T}\\right]^+.\n",
    "$$\n",
    "\n",
    "The whole expression must obviously be\n",
    "bounded below by zero.\n",
    "\n",
    "We will show this numerically by simulation.  For each of the problems below, take $T=1$ year as the time horizon with Heston parameters:\n",
    "\\begin{eqnarray*}\n",
    "v&=& 0.04\\\\ \\bar v &=& 0.04\\\\ \\lambda&=&10\\\\ \\eta&=&1\\\\\\rho&=&-1.\n",
    "\\end{eqnarray*}"
   ]
  },
  {
   "cell_type": "markdown",
   "metadata": {},
   "source": [
    "### 3. (12 points)\n",
    "\n",
    "(a)\n",
    "\n",
    "Use your Heston Monte Carlo code from HW4 Problem 5. to return vectors of $x=\\log S_T/S_0$ and instantaneous variance $v$ with the above Heston-Nandi parameters.  Run the code with $N=2,000,000$ paths, $m=64$ (128 steps), and `evolve=evolveAlfonsiF` .  (Tip: Save the results so you can reuse these samples of $x$ and $v$ and avoid lengthy reruns of the MC code.)\n",
    "\n",
    "(b) \n",
    "\n",
    "As in part (d) of HW4 Problem 5, using your MC samples of $x_T$ and $v_T$, numerically estimate the local variance function\n",
    "<p>\n",
    "$$\n",
    "v_\\ell(x,1)=\\ee{v_1|x_1=x}\n",
    "$$\n",
    "<p>\n",
    "and plot $v_\\ell(x,1)$ as a function of $x$ from $x=-0.5$ to $x=+0.5$.  (Tip: I recommend binning the data rather than running *e.g.* kernel regression.)  As usual take care of aesthetics, making sure to include error bars.\n",
    "\n",
    "(c) \n",
    "\n",
    "Implement the approximate local variance formula formula [(1)](#eq:Hestonlv) in R.\n",
    "\n",
    "(d)\n",
    "\n",
    "Superimpose a plot of formula [(1)](#eq:Hestonlv) on your output plot from part (b) to reproduce something like  Figure 2 of Lecture 6."
   ]
  },
  {
   "cell_type": "markdown",
   "metadata": {},
   "source": [
    "### Solution (a) "
   ]
  },
  {
   "cell_type": "code",
   "execution_count": 46,
   "metadata": {},
   "outputs": [],
   "source": [
    "# MC: # copy from Lecture 4 and modify the last part.\n",
    "# This is the same code as used in HW4 Problem 5.\n",
    "HestonMC2 <- function(params){\n",
    "    \n",
    "    is.even <- function(j){as.logical((j+1) %% 2)}\n",
    "    \n",
    "    res <- function(S0, T, AK, N, m, evolve,exactVols=NULL)\n",
    "    {\n",
    "  \n",
    "        lambda <<- params$lambda;\n",
    "        rho <<- params$rho;\n",
    "        eta <<- params$eta;\n",
    "        vbar <<- params$vbar;\n",
    "        v0 <<- params$v;\n",
    "  \n",
    "        n <- m*2; #n is number of timesteps = 2*m so we can use Romberg extrapolation\n",
    "        sqrt2 <- sqrt(2);\n",
    "        rho2m1 <<- sqrt(1-rho*rho);\n",
    "        vbarp <<- vbar - eta^2/(4*lambda);\n",
    "\n",
    "        negCount <- 0;\n",
    "    \n",
    "        # We use a vertical array, one element per M.C. path\n",
    "        x <- rep(0,N); v <- rep(1,N)*v0;\n",
    "        xm <- x; vm <- v;\n",
    "        W1m <- rep(0,N); W2m <- rep(0,N); \n",
    "  \n",
    "        # Loop for bias computation (N small, n big)\n",
    "        for (i in 1:n)\n",
    "        {\n",
    "            # Two sets of correlated normal random vars.\n",
    "\n",
    "            W1 <- rnorm(N);\n",
    "            W2 <- rnorm(N);\n",
    "            W1 <- W1 - mean(W1); W1 <- W1/sd(W1);\n",
    "            W2 <- W2 - mean(W2); W2 <- W2/sd(W2);\n",
    "            # Now W1 and W2 are forced to have mean=0 and sd=1\n",
    "\n",
    "            W2p <- W2 - cor(W1,W2)*W1; # Eliminate actual correlation\n",
    "            W2p <- W2p - mean(W2p); W2 <- W2p/sd(W2p); \n",
    "            # Now W1 and W2 have mean=0, sd=1 and correlation=0\n",
    "\n",
    "            L <- rbinom(N, size=1, prob=1/2); # Bernoulli rv for NV step\n",
    "\n",
    "            # Add code for subgrid\n",
    "            W1m <- W1m + W1/sqrt2; W2m <- W2m + W2/sqrt2; # N(0,1) rv's for subgrid\n",
    "\n",
    "            if (is.even(i)) {\n",
    "                #print(c(i,mean(W1m),mean(W2m),sd(W1m),sd(W2m),cor(W1m,W2m)));\n",
    "                resm <- evolve(vm,xm,T/m,W1m,W2m,L);\n",
    "                xm <- resm[,1];\n",
    "                vm <- resm[,2];\n",
    "                W1m <- rep(0,N); W2m <- rep(0,N);\n",
    "            }\n",
    "\n",
    "            res <- evolve(v,x,T/n,W1,W2,L);\n",
    "            x <- res[,1];\n",
    "            v <- res[,2];\n",
    "            negCount <- negCount +mean(v<0)/n; #Probability of negative variance per path per timestep\n",
    "\n",
    "        }\n",
    "\n",
    "        # If a list of strikes is provided, do the implied vol calculation.\n",
    "        if (length(AK)>0)\n",
    "        {\n",
    "            S <- S0*exp(x);\n",
    "            Sm <- S0*exp(xm);\n",
    "            \n",
    "            M <- length(AK);\n",
    "            AV <- numeric(M); AVdev <- numeric(M);\n",
    "            BSV <- numeric(M); BSVH <- numeric(M); BSVL <- numeric(M);\n",
    "            iv2SD <- numeric(M); bias <- numeric(M);\n",
    "            AVm <- numeric(M); AVmdev <- numeric(M);\n",
    "            BSVm <- numeric(M); BSVHm <- numeric(M); BSVLm <- numeric(M);\n",
    "            iv2SDm <- numeric(M);\n",
    "            AV1 <- numeric(M); AV1dev <- numeric(M);\n",
    "            BSV1 <- numeric(M); BSVH1 <- numeric(M); BSVL1 <- numeric(M);\n",
    "            iv2SDrom <- numeric(M);biasRom <- numeric(M);\n",
    "\n",
    "            # Evaluate mean call value for each path\n",
    "            for (i in 1:M)\n",
    "            {\n",
    "                # 2*m timesteps\n",
    "                K <- AK[i];\n",
    "                V <- (S>K)*(S - K); # Boundary condition for European call\n",
    "                AV[i] <- mean(V);\n",
    "                AVdev[i] <- sqrt(var(V)/length(V));  \n",
    "\n",
    "                BSV[i] <- BSImpliedVolCall(S0, K, T, 0, AV[i]);\n",
    "                BSVL[i] <- BSImpliedVolCall(S0, K, T, 0, AV[i] - AVdev[i]);\n",
    "                BSVH[i] <- BSImpliedVolCall(S0, K, T, 0, AV[i] + AVdev[i]);\n",
    "                iv2SD[i] <- (BSVH[i]-BSVL[i]);\n",
    "\n",
    "                # m timesteps\n",
    "                Vm <- (Sm>K)*(Sm - K); # Boundary condition for European call\n",
    "                AVm[i] <- mean(Vm);\n",
    "                AVmdev[i] <- sd(Vm) / sqrt(N);\n",
    "                BSVm[i] <- BSImpliedVolCall(S0, K, T, 0, AVm[i]);\n",
    "                BSVLm[i] <- BSImpliedVolCall(S0, K, T, 0, AVm[i] - AVmdev[i]);\n",
    "                BSVHm[i] <- BSImpliedVolCall(S0, K, T, 0, AVm[i] + AVmdev[i]);\n",
    "                iv2SDm[i] <- (BSVH[i]-BSVL[i]);\n",
    "\n",
    "                # Richardson extrapolation estimates \n",
    "                V1 <- 2*V - Vm;\n",
    "                AV1[i] <- mean(V1);\n",
    "                AV1dev[i] <- sd(V1) / sqrt(N);\n",
    "                BSV1[i] <- BSImpliedVolCall(S0, K, T, 0, AV1[i]);\n",
    "                BSVL1[i] <- BSImpliedVolCall(S0, K, T, 0, AV1[i] - AV1dev[i]);\n",
    "                BSVH1[i] <- BSImpliedVolCall(S0, K, T, 0, AV1[i] + AV1dev[i]);\n",
    "                iv2SDrom[i] <- (BSVH1[i]-BSVL1[i]);\n",
    "\n",
    "                if(!is.null(exactVols)) {bias <- BSV-exactVols};\n",
    "                if(!is.null(exactVols)) {biasRom <- BSV1-exactVols};\n",
    "            }\n",
    "\n",
    "\n",
    "            l.AK <- length(AK)      \n",
    "            data.out <- data.frame(AK,rep(N,l.AK),rep(2*m,l.AK),BSV,bias,iv2SD,BSVm,BSV1,biasRom,iv2SDrom) \n",
    "            names(data.out) <- c(\"Strikes\",\"Paths\",\"Steps\",\"ivol\",\"bias\",\"twoSd\",\"ivolm\", \"ivolRichardson\", \"biasRichardson\",\"twoSdRichardson\") \n",
    "            results <- list(\"impliedVol\"=data.out,\"x\"=x,\"v\"=v)\n",
    "            return(results) \n",
    "        }\n",
    "        else\n",
    "        {\n",
    "            results <- list(\"x\"=x,\"v\"=v)\n",
    "            return(results) \n",
    "        }\n",
    "\n",
    "    }\n",
    "    return(res)\n",
    "}"
   ]
  },
  {
   "cell_type": "code",
   "execution_count": 47,
   "metadata": {},
   "outputs": [],
   "source": [
    "# copy from Lecture 4\n",
    "evolveAlfonsiF <- function(v,x,dt,W1,W2,L=NULL){\n",
    "\n",
    "    eldt2 <- exp(-lambda*dt/2);\n",
    "\n",
    "    #Variance process\n",
    "    vbarp <- vbar - eta^2/(4*lambda);\n",
    "    psi <- (1-eldt2)/lambda;\n",
    "    v1 <- v*eldt2+lambda*vbarp*psi;\n",
    "    v2 <- (v1 > 0) * v1; # Take v2 = 0 if v1<0, else v2=v1\n",
    "    par <- sqrt(v2) + eta/2 * sqrt(dt)*W2;\n",
    "    vf <- eldt2*par*par +lambda*vbarp*psi + v1 - v2;\n",
    "\n",
    "    # Log-stock process (Andersen equation (33))\n",
    "    vvf <- (v+vf > 0) * (v+vf);\n",
    "    dw <- vvf/2*dt;\n",
    "    x <- x  - dw/2 + rho2m1*sqrt(dw)*W1 + rho/eta*(lambda*dw + vf-v -lambda*vbar*dt) ;\n",
    "    # Impose martingale constraint\n",
    "    x <- x - log(mean(exp(x)));\n",
    "    v <- vf;\n",
    "    return(cbind(x,v));\n",
    "}\n",
    "\n",
    "paramsHestonNandi <- list(lambda = 10, rho = -1.0, eta = 1.0, vbar = 0.04, v = 0.04)"
   ]
  },
  {
   "cell_type": "code",
   "execution_count": 59,
   "metadata": {},
   "outputs": [],
   "source": [
    "# empty strike list. no use of strikes in this problem.\n",
    "Ks <- list()"
   ]
  },
  {
   "cell_type": "code",
   "execution_count": 49,
   "metadata": {},
   "outputs": [],
   "source": [
    "### run Monte Carlo and save x,v\n",
    "res_MC <- HestonMC2(paramsHestonNandi)(S0=1, T=1, AK=Ks, N=2000000, m=64, evolve=evolveAlfonsiF)\n",
    "x_MC <- res_MC$x\n",
    "v_MC <- res_MC$v"
   ]
  },
  {
   "cell_type": "markdown",
   "metadata": {},
   "source": [
    "### Solution (b)"
   ]
  },
  {
   "cell_type": "code",
   "execution_count": 50,
   "metadata": {},
   "outputs": [
    {
     "data": {
      "image/png": "[encoded data removed]",
      "text/plain": [
       "plot without title"
      ]
     },
     "metadata": {},
     "output_type": "display_data"
    }
   ],
   "source": [
    "xv_MC<-cbind(x_MC,v_MC)\n",
    "xv_MC<-data.frame(xv_MC)\n",
    "colnames(xv_MC)<-c(\"x_sample\",\"v_sample\")\n",
    "x_min<-min(xv_MC[,\"x_sample\"])\n",
    "x_max<-max(xv_MC[,\"x_sample\"])\n",
    "bins<-100\n",
    "itv<-(x_max-x_min)/bins\n",
    "\n",
    "### local variance\n",
    "localVariance_MC<-function(x)\n",
    "{\n",
    "    i<-floor((x-x_min)/itv)\n",
    "    xl<-x_min+i*itv\n",
    "    xh<-x_min+(i+1)*itv\n",
    "    xv_MC.subset<-subset(xv_MC,x_sample>=xl&x_sample<xh)\n",
    "    v_mean<-mean(xv_MC.subset[,\"v_sample\"])\n",
    "    v_std<-sd(xv_MC.subset[,\"v_sample\"])/sqrt(dim(xv_MC.subset)[1])\n",
    "    return(cbind(v_mean,v_std))\n",
    "}\n",
    "\n",
    "x<-seq(-0.5,0.5,0.02)\n",
    "localVarianc_MC_Array<-sapply(x,localVariance_MC)\n",
    "plot(x,localVarianc_MC_Array[1,],type=\"l\",col=\"black\",xlab=\"Log strike\",ylab=\"Local Variance from Monte Carlo simulation\")\n",
    "\n",
    "### add error bars\n",
    "dx<-0.001\n",
    "for(i in 1:length(x)) {\n",
    "    high<-localVarianc_MC_Array[1,i]+localVarianc_MC_Array[2,i]\n",
    "    low<-localVarianc_MC_Array[1,i]-localVarianc_MC_Array[2,i]\n",
    "    segments(x[i],low,x[i],high)\n",
    "    segments(x[i]-dx, high , x[i]+dx, high)\n",
    "    segments(x[i]-dx, low , x[i]+dx, low)\n",
    "}"
   ]
  },
  {
   "cell_type": "markdown",
   "metadata": {},
   "source": [
    "### Solution (c)"
   ]
  },
  {
   "cell_type": "code",
   "execution_count": 51,
   "metadata": {},
   "outputs": [],
   "source": [
    "localVariance_AnaltyicApprox<-function(x)\n",
    "{\n",
    "    lambdap<-lambda+eta/2\n",
    "    vbarp<-vbar*lambda/lambdap\n",
    "    res<-(v0-vbarp)*exp(-lambdap)+vbarp-eta*x*((1-exp(-lambdap))/lambdap)\n",
    "    res<-res*(res>0)\n",
    "    return(res)\n",
    "}"
   ]
  },
  {
   "cell_type": "markdown",
   "metadata": {},
   "source": [
    "### Solution (d)"
   ]
  },
  {
   "cell_type": "code",
   "execution_count": 52,
   "metadata": {},
   "outputs": [],
   "source": [
    "localVarianc_AA_Array<-sapply(x,localVariance_AnaltyicApprox)"
   ]
  },
  {
   "cell_type": "code",
   "execution_count": 53,
   "metadata": {},
   "outputs": [
    {
     "data": {
      "image/png": "[encoded data removed]",
      "text/plain": [
       "plot without title"
      ]
     },
     "metadata": {},
     "output_type": "display_data"
    }
   ],
   "source": [
    "plot(x,localVarianc_MC_Array[1,],type=\"l\",col=\"black\",xlab=\"Log strike\",ylab=\"Local Variance (MC and Analytic)\")\n",
    "### add error bars\n",
    "dx<-0.001\n",
    "for(i in 1:length(x)) {\n",
    "    high<-localVarianc_MC_Array[1,i]+localVarianc_MC_Array[2,i]\n",
    "    low<-localVarianc_MC_Array[1,i]-localVarianc_MC_Array[2,i]\n",
    "    segments(x[i],low,x[i],high)\n",
    "    segments(x[i]-dx, high , x[i]+dx, high)\n",
    "    segments(x[i]-dx, low , x[i]+dx, low)\n",
    "}\n",
    "\n",
    "### superimpose analytic approximations\n",
    "lines(x,localVarianc_AA_Array,col=\"red\",lty=2)\n",
    "\n",
    "legend(\"bottomleft\",c(\"Monte Carlo\",\"Analytic Approximation\"),col=c(\"blue\",\"red\"),lty=c(1,2))"
   ]
  },
  {
   "cell_type": "markdown",
   "metadata": {
    "collapsed": true
   },
   "source": [
    "### 4. (12 points) \n",
    "\n",
    "(a)\n",
    "\n",
    "Using the closed-form expression for the characteristic function, plot the Heston-Nandi 1-year implied variance smile for log-strikes between $-1.0$ and $0.5$.  \n",
    "\n",
    "(b)\n",
    "\n",
    "Amend the Monte Carlo code of Problem 3 to generate a vector of $x=\\log S_T/S_0$ assuming the local volatility process:\n",
    "\n",
    "$$\n",
    "dx_t=-\\frac{1}{2}\\,v_\\ell(x,t)\\,dt+\\sqrt{v_\\ell(x,t)}\\,dZ_t\n",
    "$$\n",
    "\n",
    "with the approximate formula [(1)](#eq:Hestonlv) for local variance.  \n",
    "\n",
    "\n",
    "(c)\n",
    "\n",
    "Again, with 2 million paths and $m=64$ (128 steps), plot the 1-year volatility smile for log-strikes between $-1.0$ and $0.5$.  Superimpose this smile on the Heston implied volatility smile from part (a) so as to reproduce something like Figure 5 of Lecture 6."
   ]
  },
  {
   "cell_type": "markdown",
   "metadata": {},
   "source": [
    "### Solution (a)\n",
    "\n",
    "Plot of implied variance smile will be done in Part (c)."
   ]
  },
  {
   "cell_type": "code",
   "execution_count": 54,
   "metadata": {},
   "outputs": [],
   "source": [
    "closedFormImpVol<-function(k){sapply(k,function(k){ impvol.phi(phiHeston(paramsHestonNandi))(k, 1.0) })}"
   ]
  },
  {
   "cell_type": "markdown",
   "metadata": {},
   "source": [
    "### Solution (b)"
   ]
  },
  {
   "cell_type": "code",
   "execution_count": 55,
   "metadata": {},
   "outputs": [],
   "source": [
    "# This is the same function as localVariance_AnaltyicApprox,\n",
    "# with an additional time variable.\n",
    "vl<-function(x,t)\n",
    "{\n",
    "    lambdap<-lambda+eta/2\n",
    "    vbarp<-vbar*lambda/lambdap\n",
    "    res<-(v0-vbarp)*exp(-lambdap*t)+vbarp-eta*x*((1-exp(-lambdap*t))/lambdap/t)\n",
    "    res<-res*(res>0)\n",
    "    return(res)\n",
    "}"
   ]
  },
  {
   "cell_type": "code",
   "execution_count": 56,
   "metadata": {},
   "outputs": [],
   "source": [
    "HestonMC2_evolveByLocalVolatility <- function(params)\n",
    "{\n",
    "    res <- function(T, N, m)\n",
    "    {\n",
    "        lambda <<- params$lambda;\n",
    "        rho <<- params$rho;\n",
    "        eta <<- params$eta;\n",
    "        vbar <<- params$vbar;\n",
    "        v0 <<- params$v;\n",
    "\n",
    "        n <- m*2 \n",
    "        x <- rep(0,N);\n",
    "  \n",
    "        for (i in 1:n)\n",
    "        {\n",
    "            W1 <- rnorm(N);\n",
    "            W1 <- W1 - mean(W1);W1 <- W1/sd(W1);\n",
    "\n",
    "            t<-i*T/n\n",
    "            vL<-vl(x,t)\n",
    "            x <- x-0.5*vL*T/n+sqrt(vL)*W1*sqrt(T/n)\n",
    "            x <- x - log(mean(exp(x)))\n",
    "        }\n",
    "        return(x)\n",
    "    }\n",
    "    return(res)\n",
    "}"
   ]
  },
  {
   "cell_type": "markdown",
   "metadata": {},
   "source": [
    "### Solution (c)"
   ]
  },
  {
   "cell_type": "code",
   "execution_count": 57,
   "metadata": {},
   "outputs": [],
   "source": [
    "N=2000000\n",
    "m=64\n",
    "sample2<-HestonMC2_evolveByLocalVolatility(paramsHestonNandi)(T=1, N, m)"
   ]
  },
  {
   "cell_type": "code",
   "execution_count": 58,
   "metadata": {},
   "outputs": [
    {
     "data": {
      "image/png": "[encoded data removed]",
      "text/plain": [
       "plot without title"
      ]
     },
     "metadata": {},
     "output_type": "display_data"
    }
   ],
   "source": [
    "localVolImpVol<-function(k)\n",
    "{\n",
    "    K<-exp(k)\n",
    "    S<-exp(sample2)\n",
    "    C<-mean((S-K)*(S>K))\n",
    "    return(BSImpliedVolCall(1, K, T=1, r=0, C))\n",
    "}\n",
    "\n",
    "localVolimpVol_v<-function(k){sapply(k,localVolimpVol)}\n",
    "\n",
    "curve(localVolimpVol_v(x),from=-1,to=1,col=\"green\")\n",
    "curve(closedFormImpVol(x),from=-1,to=1,col=\"blue\",add=T,lty=2)\n",
    "legend(\"bottomleft\",c(\"Local Vol MC\", \"Closed Form\"),col=c(\"green\",\"blue\"),lty=c(1,2))"
   ]
  },
  {
   "cell_type": "markdown",
   "metadata": {
    "collapsed": true
   },
   "source": [
    "## Intuition"
   ]
  },
  {
   "cell_type": "markdown",
   "metadata": {},
   "source": [
    "### 5. (4 points) \n",
    "\n",
    "\n",
    "From the results of your computations, you should see that the local\n",
    "volatility model and the stochastic volatility model price one year\n",
    "European options almost identically.  Also, because  $\\rho=-1$, both the Heston-Nandi model and the local volatility model with local variance function [(1)](#eq:Hestonlv) are only one-factor, depending only on stock prices. Are there any\n",
    "differences between the two models? If so, what are these differences?"
   ]
  },
  {
   "cell_type": "markdown",
   "metadata": {},
   "source": [
    "### Answer:\n",
    "\n",
    "In a local volatility model the stock price is a Markov process. In the Heston-Nandi model, the stock price itself is not, but the stock price and the instantaneous variance together is a Markov process. The volatility skew in stochastic volatility model is time-homogeneous, while in a local volatility model, the skew in the future is more flattened than today's."
   ]
  },
  {
   "cell_type": "markdown",
   "metadata": {},
   "source": [
    "## Postscript\n",
    "\n",
    "You now have working Heston-Nandi stochastic volatility and local volatility codes.  We will use these later to check our intuition for the impact of dynamical assumptions on the pricing of exotic options."
   ]
  }
 ],
 "metadata": {
  "kernelspec": {
   "display_name": "R",
   "language": "R",
   "name": "ir"
  },
  "language_info": {
   "codemirror_mode": "r",
   "file_extension": ".r",
   "mimetype": "text/x-r-source",
   "name": "R",
   "pygments_lexer": "r",
   "version": "3.4.3"
  }
 },
 "nbformat": 4,
 "nbformat_minor": 1
}
