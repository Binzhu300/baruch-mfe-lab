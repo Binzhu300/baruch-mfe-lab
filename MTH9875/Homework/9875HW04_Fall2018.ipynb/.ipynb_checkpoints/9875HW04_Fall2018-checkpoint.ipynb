{
 "cells": [
  {
   "cell_type": "markdown",
   "metadata": {},
   "source": [
    "# MTH9875 Homework 4\n",
    "\n",
    "### ShengQuan Zhou\n",
    "\n",
    "Assigned: September 20, 2017.\n",
    "Due: October 4, 2018 by 6pm.\n",
    "\n",
    "Late homework **will not be accepted**.\n",
    "\n",
    "$$\n",
    "\\newcommand{\\supp}{\\mathrm{supp}}\n",
    "\\newcommand{\\E}{\\mathbb{E} }\n",
    "\\def\\Cov{{ \\mbox{Cov} }}\n",
    "\\def\\Var{{ \\mbox{Var} }}\n",
    "\\newcommand{\\1}{\\mathbf{1} }\n",
    "\\newcommand{\\PP}{\\mathbb{P} }\n",
    "%\\newcommand{\\Pr}{\\mathrm{Pr} }\n",
    "\\newcommand{\\QQ}{\\mathbb{Q} }\n",
    "\\newcommand{\\RR}{\\mathbb{R} }\n",
    "\\newcommand{\\DD}{\\mathbb{D} }\n",
    "\\newcommand{\\HH}{\\mathbb{H} }\n",
    "\\newcommand{\\spn}{\\mathrm{span} }\n",
    "\\newcommand{\\cov}{\\mathrm{cov} }\n",
    "\\newcommand{\\sgn}{\\mathrm{sgn} }\n",
    "\\newcommand{\\HS}{\\mathcal{L}_{\\mathrm{HS}} }\n",
    "%\\newcommand{\\HS}{\\mathrm{HS} }\n",
    "\\newcommand{\\trace}{\\mathrm{trace} }\n",
    "\\newcommand{\\LL}{\\mathcal{L} }\n",
    "%\\newcommand{\\LL}{\\mathrm{L} }\n",
    "\\newcommand{\\s}{\\mathcal{S} }\n",
    "\\newcommand{\\ee}{\\mathcal{E} }\n",
    "\\newcommand{\\ff}{\\mathcal{F} }\n",
    "\\newcommand{\\hh}{\\mathcal{H} }\n",
    "\\newcommand{\\bb}{\\mathcal{B} }\n",
    "\\newcommand{\\dd}{\\mathcal{D} }\n",
    "\\newcommand{\\g}{\\mathcal{G} }\n",
    "\\newcommand{\\p}{\\partial}\n",
    "\\newcommand{\\half}{\\frac{1}{2} }\n",
    "\\newcommand{\\T}{\\mathcal{T} }\n",
    "\\newcommand{\\bi}{\\begin{itemize}}\n",
    "\\newcommand{\\ei}{\\end{itemize}}\n",
    "\\newcommand{\\beq}{\\begin{equation}}\n",
    "\\newcommand{\\eeq}{\\end{equation}}\n",
    "\\newcommand{\\beas}{\\begin{eqnarray*}}\n",
    "\\newcommand{\\eeas}{\\end{eqnarray*}}\n",
    "\\newcommand{\\cO}{\\mathcal{O}}\n",
    "\\newcommand{\\cF}{\\mathcal{F}}\n",
    "\\newcommand{\\cL}{\\mathcal{L}}\n",
    "$$"
   ]
  },
  {
   "cell_type": "markdown",
   "metadata": {},
   "source": [
    "<font color = \"red\">Homework is to be done by each student individually.  To receive full credit, you must email a completed copy of this iPython notebook to Victor Istratov (stavka@gmail.com), Yassine Ghalem (yassine.ghalem@gmail.com) and Jim Gatheral (jim.gatheral@gmail.com) by the due date and time.  All R-code must run correctly and solutions must be written up neatly in Markdown/LaTeX format."
   ]
  },
  {
   "cell_type": "markdown",
   "metadata": {},
   "source": [
    "### Load some useful R-code\n",
    "\n",
    "The following code sources *BlackScholes.R* which has the Black-Scholes formula and implied volatility computation and *Heston2.R* which has in particular the *impvolHeston* function."
   ]
  },
  {
   "cell_type": "code",
   "execution_count": 42,
   "metadata": {},
   "outputs": [],
   "source": [
    "download.file(url=\"http://mfe.baruch.cuny.edu/wp-content/uploads/2018/09/9875-3.zip\", destfile=\"9875-3.zip\")\n",
    "unzip(zipfile=\"9875-3.zip\")"
   ]
  },
  {
   "cell_type": "code",
   "execution_count": 43,
   "metadata": {},
   "outputs": [],
   "source": [
    "source(\"BlackScholes.R\")\n",
    "source(\"Lewis.R\")\n",
    "source(\"Heston.R\")"
   ]
  },
  {
   "cell_type": "markdown",
   "metadata": {},
   "source": [
    "## Weak convergence of the Euler scheme"
   ]
  },
  {
   "cell_type": "markdown",
   "metadata": {},
   "source": [
    "#### 1. (8 points) \n",
    "\n",
    "(a)  Denote the Euler discretization of the Heston variance process by $\\hat v$ and let $\n",
    "\\Delta \\hat v_t = \\hat v_{t+\\Delta}- \\hat v_t\n",
    "$.  Derive formal expressions for $\\E[\\Delta \\hat v_t|v_t]$ and $\\Var[\\Delta \\hat v_t|v_t]$ (ignore the negative variance issue).  \n",
    " \n",
    "\n",
    "(b) Write down exact expressions for $\\E[v_{t+\\Delta}|v_t]$ and $\\Var[v_{t+\\Delta}|v_t]$ from Lecture 3.  Expand these in a power series to second order in $\\Delta$.\n",
    "\n",
    "(c) Using your results from (a) and (b), compute expressions for the discretization errors in expecation and variance to second order in $\\Delta$.  Verify that the Euler discretization scheme has an $\\cO(\\Delta^2)$ bias, consistent with order one weak convergence. \n",
    "\n",
    "Tip: Use Mathematica or Wolfram Alpha. "
   ]
  },
  {
   "cell_type": "markdown",
   "metadata": {},
   "source": [
    "### Solution (a)\n",
    "\n",
    "Euler discretization reads\n",
    "$$\n",
    "\\Delta \\hat{v}_t \\triangleq \\hat{v}_{t+\\Delta} - \\hat{v}_t= - \\lambda\\,\\Delta\\,\\left(v_t-\\bar v\\right)+\\eta\\,\\sqrt{\\Delta}\\,\\sqrt{v_t}\\,Z.\n",
    "$$\n",
    "Conditioned on $v_t$, we have\n",
    "\\begin{eqnarray}\n",
    "&&\\E[\\Delta \\hat v_t|v_t] = - \\lambda\\,\\left(v_t-\\bar v\\right)\\,\\Delta.\\\\\n",
    "&&\\Var[\\Delta \\hat v_t|v_t] = \\eta^2\\, v_t\\, \\Delta.\n",
    "\\end{eqnarray}"
   ]
  },
  {
   "cell_type": "markdown",
   "metadata": {},
   "source": [
    "### Solution (b)\n",
    "\n",
    "From Lecture 3,\n",
    "\n",
    "\\begin{eqnarray}\n",
    "&& \\E[\\Delta v_t|v_t] = \\xi_t(t+\\Delta) - v_t = (v_t-\\bar v)\\,( e^{-\\lambda\\,\\Delta} - 1)= -(v_t-\\bar v)\\,\\left(\\lambda \\Delta - \\frac{1}{2}\\lambda^2\\Delta^2+\\cO(\\Delta^3)\\right) .\\\\\n",
    "&& \\Var [\\Delta v_t|v_t]  = \\eta^2\\,v_t\\frac{1-e^{-2\\lambda\\,\\Delta}}{2\\,\\lambda} = \\eta^2\\,v_t \\left( \\Delta - \\lambda \\Delta^2 + \\cO(\\Delta^3)\\right).\n",
    "\\end{eqnarray}\n",
    "\n",
    "Thus,\n",
    "\n",
    "\\begin{eqnarray}\n",
    "&& \\E[v_{t+\\Delta}|v_t] = \\xi_t(t+\\Delta) = v_t + (v_t-\\bar v)\\,( e^{-\\lambda\\,\\Delta} - 1)= v_t -(v_t-\\bar v)\\,\\left(\\lambda \\Delta - \\frac{1}{2}\\lambda^2\\Delta^2+\\cO(\\Delta^3)\\right) .\\\\\n",
    "&& \\Var [v_{t+\\Delta}|v_t] = \\Var [\\Delta v_t|v_t]  = \\eta^2\\,v_t\\frac{1-e^{-2\\lambda\\,\\Delta}}{2\\,\\lambda} = \\eta^2\\,v_t \\left( \\Delta - \\lambda \\Delta^2 + \\cO(\\Delta^3)\\right).\n",
    "\\end{eqnarray}"
   ]
  },
  {
   "cell_type": "markdown",
   "metadata": {},
   "source": [
    "### Solution (c)\n",
    "\n",
    "Expand to second order in $\\Delta$:\n",
    "\n",
    "\\begin{eqnarray}\n",
    "&& \\E[\\Delta v_t|v_t] = (v_t-\\bar v)\\,( e^{-\\lambda\\,\\Delta} - 1) \\approx \\E[\\Delta \\hat v_t|v_t] + \\frac{1}{2}\\lambda^2(v_t-\\bar v)\\Delta^2.\\\\\n",
    "&& \\Var [\\Delta v_t|v_t]  = \\eta^2\\,v_t\\frac{1-e^{-2\\lambda\\,\\Delta}}{2\\,\\lambda}\\approx \\Var[\\Delta \\hat v_t|v_t] -\\lambda\\eta^2 v_t \\Delta^2.\n",
    "\\end{eqnarray}\n",
    "\n",
    "Thus, the discretization error in expectation and variance\n",
    "\\begin{eqnarray}\n",
    "&& \\E[\\Delta v_t|v_t] - \\E[\\Delta \\hat v_t|v_t] \\approx \\frac{1}{2}\\lambda^2(v_t-\\bar v)\\Delta^2,\\\\\n",
    "&& \\Var [\\Delta v_t|v_t] - \\Var[\\Delta \\hat v_t|v_t] \\approx -\\lambda\\eta^2 v_t \\Delta^2,\n",
    "\\end{eqnarray}\n",
    "are second order in $\\Delta$, consistent with order one weak convergence."
   ]
  },
  {
   "cell_type": "markdown",
   "metadata": {},
   "source": [
    "## The exponential martingale"
   ]
  },
  {
   "cell_type": "markdown",
   "metadata": {},
   "source": [
    "#### 2. (6 points)\n",
    "\n",
    "\n",
    "If $B_t$ is Brownian motion, show that\n",
    "\n",
    "$$\n",
    "X_t=e^{\\int_0^t \\sigma_s\\,dB_s-\\frac12\\,\\int_0^t\\,\\sigma_s^2\\,ds}\n",
    "$$\n",
    "\n",
    "is a martingale. (Hint:  Apply Itô's Lemma to $e^Y$ where $Y=\\log X$.)\n",
    "\n",
    "Deduce that\n",
    "\n",
    "$$\n",
    "e^{\\frac12\\,\\alpha^2\\,t}=\\E\\left[e^{\\alpha\\,\\sqrt{t}\\,Z}\\right]\n",
    "%\\label{eq:expmartingale}\n",
    "$$\n",
    "\n",
    "where $Z \\sim N(0,1)$.  Is this last equation still true if $\\alpha$ is a matrix?  Why?"
   ]
  },
  {
   "cell_type": "markdown",
   "metadata": {},
   "source": [
    "### Solution\n",
    "\n",
    "Apply Ito's lemma,\n",
    "$$\n",
    "dX_t = X_t \\left( \\sigma_t dB_t -\\frac{1}{2}\\sigma_t^2 dt \\right) + \\frac{1}{2} X_t \\sigma_t^2 \\underbrace{dB_t dB_t}_{=dt} = \\sigma_t X_t dB_t.\n",
    "$$\n",
    "The drift term vanishes and only the diffusion term remains. Thus, $X_t$ is a martingale. As a consequence,\n",
    "$$\n",
    "\\mathbb{E}[X_t] = X_0 = 1.\n",
    "$$\n",
    "In other words, if $\\sigma_t$ is deterministic,\n",
    "$$\n",
    "e^{\\frac12\\,\\int_0^t\\,\\sigma_s^2\\,ds} = \\mathbb{E}\\left[ e^{\\int_0^t \\sigma_s\\,dB_s} \\right].\n",
    "$$\n",
    "Let $\\sigma_t \\equiv \\alpha$ to be a constant and $B_t \\triangleq \\sqrt{t}Z$, where $Z \\sim N(0,1)$, then\n",
    "$$\n",
    "e^{\\frac12\\,\\alpha^2\\,t}=\\E\\left[e^{\\alpha\\,\\sqrt{t}\\,Z}\\right].\n",
    "$$\n",
    "If $\\alpha$ is a matrix, one can still use the Taylor series to expand the exponential function of a matrix where all multiplication involved are matrix multiplications,\n",
    "$$\n",
    "\\E\\left[e^{\\alpha\\,\\sqrt{t}\\,Z}\\right] = \\E\\left[ 1 + \\alpha\\,\\sqrt{t}\\,Z + \\frac{1}{2}\\alpha^2 t Z^2 + \\cdots\\right]\n",
    "= 1 + \\frac{1}{2}\\alpha^2 t \\underbrace{\\E\\left[ Z^2 \\right]}_{=1} + \\cdots = e^{\\frac12\\,\\alpha^2\\,t}.\n",
    "$$\n",
    "So, yes, the last equation still true if $\\alpha$ is a matrix."
   ]
  },
  {
   "cell_type": "markdown",
   "metadata": {},
   "source": [
    "## Strang splitting"
   ]
  },
  {
   "cell_type": "markdown",
   "metadata": {},
   "source": [
    "#### 3. (4 points) \n",
    "\n",
    "If $A$ and $B$ are (in general non-commutative) matrices, show that\n",
    "\n",
    "$$\n",
    "e^{(A+B)\\,\\Delta}=e^{A\\,\\Delta/2}\\,e^{B\\,\\Delta}\\,e^{A\\,\\Delta/2} + \\cO(\\Delta^3).\n",
    "$$"
   ]
  },
  {
   "cell_type": "markdown",
   "metadata": {},
   "source": [
    "### Solution\n",
    "Taylor expand\n",
    "$$\n",
    "e^{(A+B)\\Delta}=1+(A+B)\\Delta+\\frac{1}{2}(A+B)^2\\Delta^2+\\cO(\\Delta^3)\n",
    "$$\n",
    "Compare with\n",
    "\\begin{eqnarray}\n",
    "e^{A\\Delta/2}e^{B\\Delta}e^{A\\Delta/2} &=& \\left[1+\\frac{1}{2}A\\Delta+\\frac{1}{8}A^2\\Delta^2+\\cO(\\Delta^3)\\right]\\left[1+B\\Delta+\\frac{1}{2}B^2\\Delta^2+\\cO(\\Delta^3)\\right]\\left[1+\\frac{1}{2}A\\Delta+\\frac{1}{8}A^2\\Delta^2+\\cO(\\Delta^3)\\right]\\\\\n",
    "&=& 1+(A+B)\\Delta+\\frac{1}{2}(A^2+B^2+AB+BA)\\Delta^2+\\cO(\\Delta^3)\\\\\n",
    "&=& 1+(A+B)\\Delta+\\frac{1}{2}(A+B)^2\\Delta^2+\\cO(\\Delta^3)\n",
    "\\end{eqnarray}\n",
    "Thus,\n",
    "$$\n",
    "e^{(A+B)\\Delta}=e^{A\\Delta/2}e^{B\\Delta}e^{A\\Delta/2}+\\cO(\\Delta^3)\n",
    "$$"
   ]
  },
  {
   "cell_type": "markdown",
   "metadata": {},
   "source": [
    "## Ninomiya-Victoir"
   ]
  },
  {
   "cell_type": "markdown",
   "metadata": {},
   "source": [
    "#### 4. (16 points)\n",
    "\n",
    "Consider the following variance  process:\n",
    "\n",
    "<a name=\"eq:varProcess\"></a>(1)\n",
    "$$\n",
    "dv_t = -\\lambda\\,(v_t-\\bar v)\\,dt+\\xi\\,v_t\\,dZ_t.\n",
    "%\\label{eq:vProcess}\n",
    "$$\n",
    "\n",
    "(a)\n",
    "Let $f(v,t)=\\E[g(v_T)|\\cF_t]$ be the fair value at time $t$ of some claim on $v_T$.  Apply Itô's Lemma to $f$ to find the infinitesimal generator $ \\cL$ of the diffusion such that \n",
    "\n",
    "$$\n",
    "\\frac{df}{dt}+ \\cL f=0.\n",
    "$$\n",
    "\n",
    "(b)\n",
    "Find first order differential operators $ V_0$ and $V_1$ such that\n",
    "\n",
    "$$\n",
    " \\cL= V_0+\\frac12\\,V_1^2.\n",
    "$$\n",
    "\n",
    "(c)  Solve the ODEs \n",
    "\n",
    "$$\n",
    " \\frac{d }{dt} v(t) = V_0 v(t) \\text{ and }  \\frac{d }{dt} v(t) = V_1 v(t)\n",
    "$$\n",
    "\n",
    "with boundary condition $v(0)=v_0$.\n",
    "\n",
    "(d)\n",
    "Deduce the form of the Ninomiya-Victoir Monte Carlo time step for the variance process [(1)](#eq:varProcess) over some small time interval from $t$ to $t+\\Delta$."
   ]
  },
  {
   "cell_type": "markdown",
   "metadata": {},
   "source": [
    "### Solution (a)\n",
    "\n",
    "Apply Ito's lemma,\n",
    "\\begin{eqnarray}\n",
    "df &=& \\frac{\\partial f}{\\partial t}dt+\\frac{\\partial f}{\\partial v}dv+\\frac{1}{2}\\frac{\\partial^2f}{\\partial v^2}dv^2\\\\\n",
    "&=& \\frac{\\partial f}{\\partial t}dt+\\frac{\\partial f}{\\partial v}\\left[-\\lambda(v-\\bar v)dt+\\xi vdZ_t\\right]+\\frac{1}{2}\\frac{\\partial ^2f}{\\partial v^2}\\xi^2v^2dt\\\\\n",
    "&=& \\left[\\frac{\\partial f}{\\partial t}-\\lambda(v-\\bar v)\\frac{\\partial f}{\\partial v}+\\frac{1}{2}\\xi^2 v^2\\frac{\\partial^2 f}{\\partial v^2}\\right]dt+\\frac{\\partial f}{\\partial v}\\xi vdZ_t\n",
    "\\end{eqnarray}\n",
    "Due to martingale,\n",
    "$$\n",
    "\\frac{\\partial f}{\\partial t}+ \\cL f=0,\n",
    "$$\n",
    "where\n",
    "$$\n",
    "\\cL=-\\lambda(v-\\bar v)\\frac{\\partial}{\\partial v}+\\frac{1}{2}\\xi^2 v^2\\frac{\\partial^2}{\\partial v^2}.\n",
    "$$"
   ]
  },
  {
   "cell_type": "markdown",
   "metadata": {},
   "source": [
    "### Solution (b)\n",
    "Let\n",
    "$$\n",
    "V_1=\\xi v\\frac{\\partial}{\\partial v} \\Rightarrow V_1^2 = \\xi^2 v\\frac{\\partial}{\\partial v} v\\frac{\\partial}{\\partial v} =\\xi^2 v^2\\frac{\\partial^2}{\\partial v^2} +\\xi^2 v\\frac{\\partial}{\\partial v}.\n",
    "$$\n",
    "Then,\n",
    "$$\n",
    "V_0=\\cL-\\frac{1}{2}V_1^2=\\left[-\\lambda(v-\\bar v)-\\frac{1}{2}\\xi^2 v\\right]\\frac{\\partial}{\\partial v}.\n",
    "$$"
   ]
  },
  {
   "cell_type": "markdown",
   "metadata": {},
   "source": [
    "### Solution (c)\n",
    "\n",
    "Use the fact that $\\frac{\\partial v}{\\partial v} = 1$ and $\\frac{\\partial^2 v}{\\partial v^2} = 0$,\n",
    "\n",
    "(1) For $\\frac{d }{dt} v(t) = V_0 v(t)$, $v(t=0)=v_0$, we have\n",
    "$$ \\frac{d v }{dt} = -\\lambda(v-\\bar v)-\\frac{1}{2}\\xi^2 v \\Rightarrow v(t)\\triangleq e^{tV_0}v_0=(v_0-\\bar v')e^{\\left(-\\lambda-\\frac{1}{2}\\xi^2\\right)t}+\\bar v',$$\n",
    "where \n",
    "$$\n",
    "\\bar v'=\\frac{\\lambda \\bar v}{\\lambda+\\frac{1}{2}\\xi^2}.\n",
    "$$\n",
    "\n",
    "(2) For $\\frac{d }{dt} v(t) = V_1 v(t)$, $v(t=0)=v_0$, we have\n",
    "$$\n",
    "\\frac{dv}{dt} =\\xi v \\Rightarrow v(t)\\triangleq e^{tV_1}v_0=e^{\\xi t}v_0.\n",
    "$$"
   ]
  },
  {
   "cell_type": "markdown",
   "metadata": {},
   "source": [
    "### Solution (d)\n",
    "\n",
    "\\begin{eqnarray}\n",
    "v(t+\\Delta)&=&e^{V_0\\Delta+V_1\\sqrt{\\Delta}Z}v(t)\\\\\n",
    "&\\approx& e^{V_0\\Delta/2}e^{V_1\\sqrt{\\Delta}Z}e^{V_0\\Delta/2}v(t)\\\\\n",
    "&=&e^{V_0\\Delta/2}e^{V_1\\sqrt{\\Delta}Z}\\left[(v(t)-\\bar v')e^{\\left(-\\lambda-\\frac{1}{2}\\xi^2\\right)\\Delta/2}+\\bar v'\\right]\\\\\n",
    "&=&e^{V_0\\Delta/2}e^{\\xi\\sqrt{\\Delta}Z}\\left[(v(t)-\\bar v')e^{\\left(-\\lambda-\\frac{1}{2}\\xi^2\\right)\\Delta/2}+\\bar v'\\right]\\\\\n",
    "&=&\\left(e^{\\xi\\sqrt{\\Delta}Z}\\left[(v(t)-\\bar v')e^{\\left(-\\lambda-\\frac{1}{2}\\xi^2\\right)\\Delta/2}+\\bar v'\\right]-\\bar v'\\right)e^{\\left(-\\lambda-\\frac{1}{2}\\xi^2\\right)\\Delta/2}+\\bar v'\n",
    "\\end{eqnarray}"
   ]
  },
  {
   "cell_type": "markdown",
   "metadata": {},
   "source": [
    "## Amend the Monte Carlo code and generate samples"
   ]
  },
  {
   "cell_type": "markdown",
   "metadata": {},
   "source": [
    "First we need to load `repr`."
   ]
  },
  {
   "cell_type": "code",
   "execution_count": 44,
   "metadata": {},
   "outputs": [],
   "source": [
    "library(repr)\n",
    "options(repr.plot.height=5)"
   ]
  },
  {
   "cell_type": "markdown",
   "metadata": {},
   "source": [
    "#### 5. (20 points) \n",
    "\n",
    "(a)\n",
    "\n",
    "Amend the Monte Carlo code (`HestonMC2`) from Lecture 4 to return vectors of $x_T=\\log S_T/S_0$ and instantaneous variance $v_T$ with $T = 1$ year.\n",
    "\n",
    "(b)\n",
    "\n",
    "Run this amended routine with BCC parameters,  $N=1,000,000$, $m=8$ (16 steps), `evolve=evolveAlfonsiF` .  Save the results so you can reuse these samples of $x$ and $v$. (This takes around 7 seconds on my machine).\n",
    "\n",
    "(c)\n",
    "\n",
    "Plot the Heston implied volatility smile from the quasi-closed-form Heston formula.  Superimpose the Monte Carlo (MC) smile to reproduce something like Figure 10 in Lecture 4.\n",
    "\n",
    "(d)\n",
    "\n",
    "Using your MC samples of $x_T$ and $v_T$, numerically estimate the local volatility function\n",
    "\n",
    "$$\n",
    "v_\\ell(x,1)=\\E[v_1|x_1=x]\n",
    "$$\n",
    "\n",
    "and plot $v_\\ell(x,1)$ as a function of $x$.  (Tip: I recommend binning the data rather than running *e.g.* kernel regression.)\n",
    "\n",
    "(e)\n",
    "\n",
    "Superimpose the Heston implied variance smile from part (c) on your local variance smile from part (d) to reproduce something like Figure 11 of Lecture 4.  \n",
    "\n",
    "(f)\n",
    "Comment on the qualitative features of the implied volatility and local volatility smiles."
   ]
  },
  {
   "cell_type": "markdown",
   "metadata": {},
   "source": [
    "### Solution (a)"
   ]
  },
  {
   "cell_type": "code",
   "execution_count": 45,
   "metadata": {},
   "outputs": [],
   "source": [
    "# MC: # copy from Lecture 4 and modify the last part.\n",
    "HestonMC2 <- function(params){\n",
    "    \n",
    "    is.even <- function(j){as.logical((j+1) %% 2)}\n",
    "    \n",
    "    res <- function(S0, T, AK, N, m, evolve,exactVols=NULL)\n",
    "    {\n",
    "  \n",
    "    lambda <<- params$lambda;\n",
    "    rho <<- params$rho;\n",
    "    eta <<- params$eta;\n",
    "    vbar <<- params$vbar;\n",
    "    v0 <<- params$v;\n",
    "  \n",
    "    n <- m*2; #n is number of timesteps = 2*m so we can use Romberg extrapolation\n",
    "    sqrt2 <- sqrt(2);\n",
    "    rho2m1 <<- sqrt(1-rho*rho);\n",
    "    vbarp <<- vbar - eta^2/(4*lambda);\n",
    "    \n",
    "    negCount <- 0;\n",
    "    \n",
    "    # We use a vertical array, one element per M.C. path\n",
    "    x <- rep(0,N); v <- rep(1,N)*v0;\n",
    "    xm <- x; vm <- v;\n",
    "    W1m <- rep(0,N); W2m <- rep(0,N); \n",
    "  \n",
    "    # Loop for bias computation (N small, n big)\n",
    "    for (i in 1:n)\n",
    "    {\n",
    "        # Two sets of correlated normal random vars.\n",
    "        \n",
    "        W1 <- rnorm(N);\n",
    "        W2 <- rnorm(N);\n",
    "        W1 <- W1 - mean(W1); W1 <- W1/sd(W1);\n",
    "        W2 <- W2 - mean(W2); W2 <- W2/sd(W2);\n",
    "        # Now W1 and W2 are forced to have mean=0 and sd=1\n",
    "        \n",
    "        W2p <- W2 - cor(W1,W2)*W1; # Eliminate actual correlation\n",
    "        W2p <- W2p - mean(W2p); W2 <- W2p/sd(W2p); \n",
    "        # Now W1 and W2 have mean=0, sd=1 and correlation=0\n",
    "        \n",
    "        L <- rbinom(N, size=1, prob=1/2); # Bernoulli rv for NV step\n",
    "    \n",
    "        # Add code for subgrid\n",
    "        W1m <- W1m + W1/sqrt2; W2m <- W2m + W2/sqrt2; # N(0,1) rv's for subgrid\n",
    "       \n",
    "        if (is.even(i)) {\n",
    "            #print(c(i,mean(W1m),mean(W2m),sd(W1m),sd(W2m),cor(W1m,W2m)));\n",
    "            resm <- evolve(vm,xm,T/m,W1m,W2m,L);\n",
    "            xm <- resm[,1];\n",
    "            vm <- resm[,2];\n",
    "            W1m <- rep(0,N); W2m <- rep(0,N);\n",
    "        }\n",
    "    \n",
    "        res <- evolve(v,x,T/n,W1,W2,L);\n",
    "        x <- res[,1];\n",
    "        v <- res[,2];\n",
    "        negCount <- negCount +mean(v<0)/n; #Probability of negative variance per path per timestep\n",
    "    \n",
    "  }\n",
    "\n",
    "    S <- S0*exp(x);\n",
    "    Sm <- S0*exp(xm);\n",
    "\n",
    "    # Now we have three vectors of final stock prices\n",
    "  \n",
    "    M <- length(AK);\n",
    "    AV <- numeric(M); AVdev <- numeric(M);\n",
    "    BSV <- numeric(M); BSVH <- numeric(M); BSVL <- numeric(M);\n",
    "    iv2SD <- numeric(M); bias <- numeric(M);\n",
    "    AVm <- numeric(M); AVmdev <- numeric(M);\n",
    "    BSVm <- numeric(M); BSVHm <- numeric(M); BSVLm <- numeric(M);\n",
    "    iv2SDm <- numeric(M);\n",
    "    AV1 <- numeric(M); AV1dev <- numeric(M);\n",
    "    BSV1 <- numeric(M); BSVH1 <- numeric(M); BSVL1 <- numeric(M);\n",
    "    iv2SDrom <- numeric(M);biasRom <- numeric(M);\n",
    "  \n",
    "  # Evaluate mean call value for each path\n",
    "  for (i in 1:M)\n",
    "  {\n",
    "    # 2*m timesteps\n",
    "    K <- AK[i];\n",
    "    V <- (S>K)*(S - K); # Boundary condition for European call\n",
    "    AV[i] <- mean(V);\n",
    "    AVdev[i] <- sqrt(var(V)/length(V));  \n",
    "    \n",
    "    BSV[i] <- BSImpliedVolCall(S0, K, T, 0, AV[i]);\n",
    "    BSVL[i] <- BSImpliedVolCall(S0, K, T, 0, AV[i] - AVdev[i]);\n",
    "    BSVH[i] <- BSImpliedVolCall(S0, K, T, 0, AV[i] + AVdev[i]);\n",
    "    iv2SD[i] <- (BSVH[i]-BSVL[i]);\n",
    "    \n",
    "    # m timesteps\n",
    "    Vm <- (Sm>K)*(Sm - K); # Boundary condition for European call\n",
    "    AVm[i] <- mean(Vm);\n",
    "    AVmdev[i] <- sd(Vm) / sqrt(N);\n",
    "    BSVm[i] <- BSImpliedVolCall(S0, K, T, 0, AVm[i]);\n",
    "    BSVLm[i] <- BSImpliedVolCall(S0, K, T, 0, AVm[i] - AVmdev[i]);\n",
    "    BSVHm[i] <- BSImpliedVolCall(S0, K, T, 0, AVm[i] + AVmdev[i]);\n",
    "    iv2SDm[i] <- (BSVH[i]-BSVL[i]);\n",
    "    \n",
    "    # Richardson extrapolation estimates \n",
    "    V1 <- 2*V - Vm;\n",
    "    AV1[i] <- mean(V1);\n",
    "    AV1dev[i] <- sd(V1) / sqrt(N);\n",
    "    BSV1[i] <- BSImpliedVolCall(S0, K, T, 0, AV1[i]);\n",
    "    BSVL1[i] <- BSImpliedVolCall(S0, K, T, 0, AV1[i] - AV1dev[i]);\n",
    "    BSVH1[i] <- BSImpliedVolCall(S0, K, T, 0, AV1[i] + AV1dev[i]);\n",
    "    iv2SDrom[i] <- (BSVH1[i]-BSVL1[i]);\n",
    "    \n",
    "    if(!is.null(exactVols)) {bias <- BSV-exactVols};\n",
    "    if(!is.null(exactVols)) {biasRom <- BSV1-exactVols};\n",
    "  }\n",
    "  \n",
    "  \n",
    "  l.AK <- length(AK)      \n",
    "  data.out <- data.frame(AK,rep(N,l.AK),rep(2*m,l.AK),BSV,bias,iv2SD,BSVm,BSV1,biasRom,iv2SDrom) \n",
    "  names(data.out) <- c(\"Strikes\",\"Paths\",\"Steps\",\"ivol\",\"bias\",\"twoSd\",\"ivolm\", \"ivolRichardson\", \"biasRichardson\",\"twoSdRichardson\") \n",
    "  results <- list(\"impliedVol\"=data.out,\"x\"=x,\"v\"=v)\n",
    "  return(results) \n",
    "}\n",
    "return(res)\n",
    "}"
   ]
  },
  {
   "cell_type": "markdown",
   "metadata": {},
   "source": [
    "### Solution (b)"
   ]
  },
  {
   "cell_type": "code",
   "execution_count": 46,
   "metadata": {},
   "outputs": [],
   "source": [
    "# copy from Lecture 4\n",
    "evolveAlfonsiF <- function(v,x,dt,W1,W2,L=NULL){\n",
    "\n",
    "    eldt2 <- exp(-lambda*dt/2);\n",
    "\n",
    "    #Variance process\n",
    "    vbarp <- vbar - eta^2/(4*lambda);\n",
    "    psi <- (1-eldt2)/lambda;\n",
    "    v1 <- v*eldt2+lambda*vbarp*psi;\n",
    "    v2 <- (v1 > 0) * v1; # Take v2 = 0 if v1<0, else v2=v1\n",
    "    par <- sqrt(v2) + eta/2 * sqrt(dt)*W2;\n",
    "    vf <- eldt2*par*par +lambda*vbarp*psi + v1 - v2;\n",
    "\n",
    "    # Log-stock process (Andersen equation (33))\n",
    "    vvf <- (v+vf > 0) * (v+vf);\n",
    "    dw <- vvf/2*dt;\n",
    "    x <- x  - dw/2 + rho2m1*sqrt(dw)*W1 + rho/eta*(lambda*dw + vf-v -lambda*vbar*dt) ;\n",
    "    # Impose martingale constraint\n",
    "    x <- x - log(mean(exp(x)));\n",
    "    v <- vf;\n",
    "    return(cbind(x,v));\n",
    "}\n",
    "\n",
    "paramsBCC <- list(lambda = 1.15,rho = -0.64,eta = 0.39,vbar = 0.04,v = 0.04)"
   ]
  },
  {
   "cell_type": "markdown",
   "metadata": {},
   "source": [
    "### Solution (c)"
   ]
  },
  {
   "cell_type": "code",
   "execution_count": 47,
   "metadata": {},
   "outputs": [],
   "source": [
    "# Implied volatility from quasi-closed-form Heston formula.\n",
    "impvolHeston <- function(K)\n",
    "{\n",
    "    impvol.phi(phiHeston(paramsBCC))(log(K), 1.0)\n",
    "}\n",
    "\n",
    "impvolHestonVectorized <- Vectorize(impvolHeston)\n",
    "\n",
    "Ks<-c(0.8,1.0,1.2)\n",
    "exactHestonVolsBCC <- sapply(Ks, impvolHestonVectorized)"
   ]
  },
  {
   "cell_type": "code",
   "execution_count": 48,
   "metadata": {},
   "outputs": [
    {
     "name": "stdout",
     "output_type": "stream",
     "text": [
      "[1] \"Monte Carlo\"\n",
      "  Strikes Paths Steps      ivol          bias        twoSd     ivolm\n",
      "1     0.8 1e+06    16 0.2290368  4.103087e-05 0.0013870915 0.2289564\n",
      "2     1.0 1e+06    16 0.1818354  1.072214e-04 0.0004931510 0.1817583\n",
      "3     1.2 1e+06    16 0.1520035 -4.430767e-05 0.0003537956 0.1520436\n",
      "  ivolRichardson biasRichardson twoSdRichardson\n",
      "1      0.2291171   1.213919e-04    0.0014103988\n",
      "2      0.1819124   1.842700e-04    0.0005066922\n",
      "3      0.1519633  -8.445655e-05    0.0003694986\n"
     ]
    }
   ],
   "source": [
    "### run Monte Carlo and save x,v\n",
    "res_MC <- HestonMC2(paramsBCC)(S0=1, T=1, AK=Ks, N=1000000, m=8, evolve=evolveAlfonsiF, exactVols=exactHestonVolsBCC)\n",
    "x_MC <- res_MC$x\n",
    "v_MC <- res_MC$v\n",
    "print(\"Monte Carlo\")\n",
    "print(res_MC$impliedVol)"
   ]
  },
  {
   "cell_type": "code",
   "execution_count": 49,
   "metadata": {},
   "outputs": [],
   "source": [
    "# Implied volatility from MC\n",
    "impvolMC <- function(K)\n",
    "{\n",
    "    S <- exp(x_MC);\n",
    "    V <- (S>K)*(S - K);\n",
    "    AV <- mean(V);\n",
    "    BSV <- BSImpliedVolCall(1, K, 1, 0, AV);\n",
    "    return(BSV)\n",
    "}"
   ]
  },
  {
   "cell_type": "code",
   "execution_count": 50,
   "metadata": {},
   "outputs": [
    {
     "data": {
      "image/png": "[encoded data removed]",
      "text/plain": [
       "plot without title"
      ]
     },
     "metadata": {},
     "output_type": "display_data"
    }
   ],
   "source": [
    "### plot\n",
    "Ks<-seq(0.5,1.5,0.05)\n",
    "iVol_exact<-sapply(Ks,impvolHeston)\n",
    "iVol_MC<-sapply(Ks,impvolMC)\n",
    "plot(Ks,iVol_exact,type=\"l\", lty=2, col=\"black\", xlab=\"Strike K\", ylab=\"Implied vol.\")\n",
    "lines(Ks,iVol_MC, col=\"yellow\", lty=2)"
   ]
  },
  {
   "cell_type": "markdown",
   "metadata": {},
   "source": [
    "### Solution (d) and (e)"
   ]
  },
  {
   "cell_type": "code",
   "execution_count": 51,
   "metadata": {},
   "outputs": [
    {
     "data": {
      "image/png": "[encoded data removed]",
      "text/plain": [
       "plot without title"
      ]
     },
     "metadata": {},
     "output_type": "display_data"
    }
   ],
   "source": [
    "xv_MC<-cbind(x_MC,v_MC)\n",
    "xv_MC<-data.frame(xv_MC)\n",
    "colnames(xv_MC)<-c(\"x_sample\",\"v_sample\")\n",
    "x_min<-min(xv_MC[,\"x_sample\"])\n",
    "x_max<-max(xv_MC[,\"x_sample\"])\n",
    "bins<-100\n",
    "itv<-(x_max-x_min)/bins\n",
    "\n",
    "### local variance\n",
    "localVar<-function(x)\n",
    "{\n",
    "    i<-floor((x-x_min)/itv)\n",
    "    xl<-x_min+i*itv\n",
    "    xh<-x_min+(i+1)*itv\n",
    "    xv_MC.subset<-subset(xv_MC,x_sample>=xl&x_sample<xh)\n",
    "    v_mean<-mean(xv_MC.subset[,\"v_sample\"])\n",
    "    v_std<-sd(xv_MC.subset[,\"v_sample\"])/sqrt(dim(xv_MC.subset)[1])\n",
    "    return(cbind(v_mean,v_std))\n",
    "}\n",
    "\n",
    "x<-seq(-0.5,0.5,0.02)\n",
    "localVarArray<-sapply(x,localVar)\n",
    "\n",
    "impVarArray<-sapply(x,function(x){(impvolMC(exp(x)))^2})\n",
    "plot(x,localVarArray[1,],type=\"l\",col=\"black\",xlab=\"Log strike\",ylab=\"Implied Variance\")\n",
    "lines(x,impVarArray,col=\"blue\")\n",
    "\n",
    "### add error bars\n",
    "dx<-0.001\n",
    "for(i in 1:length(x)) {\n",
    "    high<-localVarArray[1,i]+localVarArray[2,i]\n",
    "    low<-localVarArray[1,i]-localVarArray[2,i]\n",
    "    segments(x[i],low,x[i],high)\n",
    "    segments(x[i]-dx, high , x[i]+dx, high)\n",
    "    segments(x[i]-dx, low , x[i]+dx, low)\n",
    "}"
   ]
  },
  {
   "cell_type": "markdown",
   "metadata": {},
   "source": [
    "### Solution (f)\n",
    "\n",
    "Implied variance (blue line) is greater than the local variance (black bins) for strikes near ATM $0<\\log(K)<0.4$ while for extreme strikes, the local variance is larger. This observation can be qualitatively understood by BBF formula for $T=0$,\n",
    "\n",
    "$$\\frac{1}{\\sigma_{BS}(k)}=\\frac{1}{k}\\,\\int_0^k\\,\\frac{dy}{\\sigma(y,0)}.$$\n",
    "The reciprocal of implied volatility at strike $k$ is an average of the reciprocal of local volatility over a range $[0,k]$. As a consequence, given the fact that $\\frac{1}{\\sigma(k,0)}$ decreases with $k$, for large $k$, $\\frac{1}{\\sigma_{BS}(k)}$ is generally greater than $\\frac{1}{\\sigma(k,0)}$. In other words, $\\sigma_{BS}(k) < \\sigma(k,0)$ for large $k$. For the same reason, for small $k\\approx 0$, $\\sigma_{BS}(k) > \\sigma(k,0)$."
   ]
  }
 ],
 "metadata": {
  "anaconda-cloud": {},
  "kernelspec": {
   "display_name": "R [Anaconda3]",
   "language": "R",
   "name": "R [Anaconda3]"
  },
  "language_info": {
   "codemirror_mode": "r",
   "file_extension": ".r",
   "mimetype": "text/x-r-source",
   "name": "R",
   "pygments_lexer": "r",
   "version": "3.4.3"
  }
 },
 "nbformat": 4,
 "nbformat_minor": 1
}
