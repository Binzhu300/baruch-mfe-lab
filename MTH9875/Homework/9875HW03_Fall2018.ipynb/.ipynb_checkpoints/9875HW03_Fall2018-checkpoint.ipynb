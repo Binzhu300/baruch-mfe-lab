{
 "cells": [
  {
   "cell_type": "markdown",
   "metadata": {},
   "source": [
    "# MTH9875 Homework 3\n",
    "\n",
    "### ShengQuan Zhou\n",
    "\n",
    "Assigned: September 13, 2018.\n",
    "Due: September 27, 2018 by 6pm.\n",
    "\n",
    "Late homework **will not be accepted**.\n",
    "$$\n",
    "\\newcommand{\\bea}{\\begin{eqnarray}}\n",
    "\\newcommand{\\eea}{\\end{eqnarray}}\n",
    "\\newcommand{\\beas}{\\begin{eqnarray*}}\n",
    "\\newcommand{\\eeas}{\\end{eqnarray*}}\n",
    "\\newcommand{\\supp}{\\mathrm{supp}}\n",
    "\\newcommand{\\E}{\\mathbb{E} }\n",
    "\\def\\Cov{{ \\mbox{Cov} }}\n",
    "\\def\\Var{{ \\mbox{Var} }}\n",
    "\\newcommand{\\1}{\\mathbf{1} }\n",
    "\\newcommand{\\cF}{\\mathcal{F} }\n",
    "\\newcommand{\\PP}{\\mathbb{P} }\n",
    "\\newcommand{\\QQ}{\\mathbb{Q} }\n",
    "\\newcommand{\\RR}{\\mathbb{R} }\n",
    "\\newcommand{\\DD}{\\mathbb{D} }\n",
    "\\newcommand{\\HH}{\\mathbb{H} }\n",
    "\\newcommand{\\spn}{\\mathrm{span} }\n",
    "\\newcommand{\\cov}{\\mathrm{cov} }\n",
    "\\newcommand{\\HS}{\\mathcal{L}_{\\mathrm{HS}} }\n",
    "\\newcommand{\\trace}{\\mathrm{trace} }\n",
    "\\newcommand{\\LL}{\\mathcal{L} }\n",
    "\\newcommand{\\s}{\\mathcal{S} }\n",
    "\\newcommand{\\ee}{\\mathcal{E} }\n",
    "\\newcommand{\\ff}{\\mathcal{F} }\n",
    "\\newcommand{\\hh}{\\mathcal{H} }\n",
    "\\newcommand{\\bb}{\\mathcal{B} }\n",
    "\\newcommand{\\dd}{\\mathcal{D} }\n",
    "\\newcommand{\\g}{\\mathcal{G} }\n",
    "\\newcommand{\\half}{\\frac{1}{2} }\n",
    "\\newcommand{\\T}{\\mathcal{T} }\n",
    "\\newcommand{\\bi}{\\begin{itemize}}\n",
    "\\newcommand{\\ei}{\\end{itemize}}\n",
    "\\newcommand{\\beq}{\\begin{equation}}\n",
    "\\newcommand{\\eeq}{\\end{equation}}\n",
    "\\newcommand{\\ee}[1]{\\mathbb{E}\\left[{#1}\\right]}\n",
    "\\newcommand{\\eef}[1]{\\mathbb{E}\\left[\\left.{#1}\\right|\\cF_t\\right]}\n",
    "\\newcommand{\\Rplus}{\\mathbb{R}_{\\geqslant 0}}\n",
    "\\newcommand{\\Rpplus}{\\mathbb{R}_{> 0}}\n",
    "\\newcommand{\\Rminus}{\\mathbb{R}_{\\leqslant 0}}\n",
    "\\newcommand{\\p}{\\partial}\n",
    "\\newcommand{\\ui}{\\textrm{i}}\n",
    "\\newcommand{\\mP}{\\mathbb{P}}\n",
    "\\newcommand{\\mQ}{\\mathbb{Q}}\n",
    "\\newcommand{\\angl}[1]{\\langle{#1}\\rangle}\n",
    "\\newcommand{\\var}{{\\rm var}}\n",
    "\\newcommand{\\cov}{{\\rm cov}}\n",
    "\\newcommand{\\covf}[1]{\\cov\\left[\\left.{#1}\\right|\\cF_t\\right]}\n",
    "\\newcommand{\\varf}[1]{\\var\\left[\\left.{#1}\\right|\\cF_t\\right]}\n",
    "$$"
   ]
  },
  {
   "cell_type": "markdown",
   "metadata": {},
   "source": [
    "<font color = \"red\">Homework is to be done by each student individually.  To receive full credit, you must email a completed copy of this iPython notebook to Victor Istratov (stavka@gmail.com), Yassine Ghalem (yassine.ghalem@gmail.com) and Jim Gatheral (jim.gatheral@gmail.com) by the due date and time.  All R-code must run correctly and solutions must be written up neatly in Markdown/LaTeX format."
   ]
  },
  {
   "cell_type": "markdown",
   "metadata": {},
   "source": [
    "## Forward variances are martingales"
   ]
  },
  {
   "cell_type": "markdown",
   "metadata": {},
   "source": [
    "#### 1. (4 points) \n",
    "\n",
    "In the Lecture 3 notes, we showed that in the Heston model, the forward variance curve is given by\n",
    "\n",
    "$$\n",
    "\\xi_t(u) = (v_t-\\bar v)\\,e^{-\\lambda\\,(u-t)}+\\bar v.\n",
    "$$\n",
    "\n",
    "(a) Show by explicit computation using Itô's Lemma that\n",
    "\n",
    "$$\n",
    "d \\xi_t(u) = \\eta\\,e^{-\\lambda\\,(u-t)}\\,\\sqrt{v_t}\\,dW_t.\n",
    "$$\n",
    "In other words, show that the $dt$ term is zero.\n",
    "\n",
    "(b) Why do we know that the $dt$ term must be zero without having to do the above computation?\n"
   ]
  },
  {
   "cell_type": "markdown",
   "metadata": {},
   "source": [
    "### Solution (a)\n",
    "Apply Ito's lemma directly,\n",
    "\\begin{eqnarray}\n",
    "d\\xi_t(u) &=&  \\lambda(v_t - \\bar{v})e^{-\\lambda(u-t)}dt + dv_t e^{-\\lambda(u-t)}\\\\\n",
    "&=& e^{-\\lambda(u-t)}\\left[ dv_t + \\lambda(v_t - \\bar{v}) dt\\right]\\\\\n",
    "&=& \\eta e^{-\\lambda(u-t)} \\sqrt{v_t}dW_t.\n",
    "\\end{eqnarray}"
   ]
  },
  {
   "cell_type": "markdown",
   "metadata": {},
   "source": [
    "### Solution (b)\n",
    "\n",
    "First, because $\\xi_t(u)\\triangleq \\mathbb{E}[v_u|\\mathcal{F}_t]$. By tower property, for $t\\ge s$, $\\mathcal{F}_s\\subset \\mathcal{F}_t$, $\\mathbb{E}[\\xi_t(u)|\\mathcal{F}_s] = \\mathbb{E}[\\mathbb{E}[v_u|\\mathcal{F}_t]|\\mathcal{F}_s] = \\mathbb{E}[v_u|\\mathcal{F}_s] = \\xi_s(u)$. In other words, $\\xi_t(u)$ is a martingale with respect to $t$ for fixed $u$. Thus, the drift $dt$ term must be zero.\n",
    "\n",
    "Second, more intuitively, forward variance with fixed expiry $u$ is a tradeable contract and has to be a martingale with respect to time $t$. Again, the drift $dt$ term must be zero."
   ]
  },
  {
   "cell_type": "markdown",
   "metadata": {},
   "source": [
    "##  Covariance of terminal stock price and terminal instantaneous variance in the Heston model\n",
    "\n",
    "\n",
    "\n",
    "#### 2. (12 points) \n",
    "\n",
    "Consider the Heston model:\n",
    "\n",
    "$$\n",
    "\\beas\n",
    "\\frac{dS_t}{S_t}&=&\\sqrt{v_t}\\,dZ_t\\\\\n",
    "dv_t&=&-\\lambda\\,(v_t-\\bar v)\\,dt+\\eta\\,\\sqrt{v_t}\\,dW_t\n",
    "\\eeas\n",
    "$$\n",
    "\n",
    "with $\\ee{dZ_t\\,dW_t}=\\rho\\,dt$.  \n",
    "\n",
    "(a)\n",
    "\n",
    "Apply Itô's Lemma to derive the following expression for $\\eef{S_T\\,v_T}$:\n",
    "\n",
    "<a name=\"eq:covsv\"></a>(1)\n",
    "$$\n",
    "\\begin{equation}\n",
    "\\eef{S_T\\,v_T}=S_t\\,v_t\\,e^{-(\\lambda-\\rho\\,\\eta)\\,(T-t)}+\\lambda\\,S_t\\,\\bar v\\,\\int_t^T\\,e^{-(\\lambda-\\rho\\,\\eta)\\,(T-s)}\\,ds.\n",
    "\\end{equation}\n",
    "$$\n",
    "\n",
    "\n",
    "(b)\n",
    "\n",
    "Integrate equation [(1)](#eq:covsv) explicitly to obtain a closed-form expression for the covariance $\\covf{S_T,v_T}$; for simplicity, assume the initial condition $v_t=\\bar v$ so that $\\xi_t(u)=\\eef{v_u}=\\bar v$.\n",
    "\n",
    "(c)\n",
    "* What is the limit of your final expression as $\\tau =T-t \\to 0$?\n",
    "* What is the covariance when $\\rho=0$?\n",
    "* What happens as $\\lambda \\to \\infty$?\n",
    "\n",
    "(d)\n",
    "\n",
    "Explain these results to a non-specialist  *e.g.* your boss who is a trader."
   ]
  },
  {
   "cell_type": "markdown",
   "metadata": {},
   "source": [
    "### Solution (a)\n",
    "\n",
    "Apply Ito's lemma to $S_t v_t$,\n",
    "\\begin{eqnarray}\n",
    "d(S_t v_t) &=& v_t dS_t + S_t dv_t + dS_t dv_t\\\\\n",
    "&=& v_t^{3/2} S_t dZ_t - \\lambda S_t (v_t-\\bar v) dt+\\eta\\sqrt{v_t}S_tdW_t + \\eta S_t v_t dW_t dZ_t\\\\\n",
    "&=& v_t^{3/2} S_t dZ_t - \\lambda S_t (v_t-\\bar v) dt+\\eta\\sqrt{v_t}S_tdW_t + \\eta \\rho S_tv_t dt.\n",
    "\\end{eqnarray}\n",
    "Integrate over time,\n",
    "\\begin{eqnarray}\n",
    "S_T v_T - S_t v_t = \\int_t^T v_s^{3/2} S_s dZ_s +\\eta\\int_t^T \\sqrt{v_s}S_sdW_s + \\int_t^T \\left[ (\\eta \\rho - \\lambda) S_s v_s + \\lambda \\bar v S_s  \\right]ds.\n",
    "\\end{eqnarray}\n",
    "Take expectation conditioned on $\\mathcal{F}_t$, diffusion terms vanish,\n",
    "\\begin{eqnarray}\n",
    "\\mathbb{E}[S_T v_T | \\mathcal{F}_ t] - S_t v_t =  \\int_t^T \\mathbb{E}\\left[ (\\eta \\rho - \\lambda) S_s v_s + \\lambda \\bar v S_s  | \\mathcal{F}_ t\\right]ds.\n",
    "\\end{eqnarray}\n",
    "Differentiate with respect to $T$,\n",
    "$$\n",
    "\\frac{\\partial}{\\partial T} \\mathbb{E}[S_T v_T | \\mathcal{F}_ t] =  (\\eta \\rho - \\lambda) \\mathbb{E}\\left[ S_T v_T | \\mathcal{F}_t \\right] + \\lambda \\bar v \\mathbb{E}[S_T|\\mathcal{F}_t]  =  -(\\lambda-\\eta \\rho) \\mathbb{E}\\left[ S_T v_T | \\mathcal{F}_t \\right] + \\lambda S_t \\bar v .\n",
    "$$\n",
    "This is a commonly seen ODE for $\\mathbb{E}[S_T v_T | \\mathcal{F}_ t]$ in terms of $T$ for fixed $t$. The solution is\n",
    "$$\n",
    "\\mathbb{E}[S_T v_T | \\mathcal{F}_ t] = S_t v_t e^{-(\\lambda-\\eta \\rho)(T-t)} + \\lambda S_t \\bar v \\int_t^T e^{-(\\lambda-\\eta \\rho)(T-s)}ds.\n",
    "$$"
   ]
  },
  {
   "cell_type": "markdown",
   "metadata": {},
   "source": [
    "### Solution (b)\n",
    "\n",
    "Integrate explicitly, we get\n",
    "$$\n",
    "\\mathbb{E}[S_T v_T | \\mathcal{F}_ t] = S_t v_t e^{-(\\lambda-\\eta \\rho)(T-t)} +  \\lambda S_t \\bar v \\frac{1- e^{-(\\lambda-\\eta \\rho)(T-t)}}{\\lambda-\\eta \\rho}.\n",
    "$$\n",
    "Thus, under the assumption $v_t = \\bar v$ and initial forward variance curve being flat $\\xi_t(u)=\\eef{v_u}=\\bar v$,\n",
    "\\begin{eqnarray}\n",
    "\\text{cov}(S_T, v_T | \\mathcal{F}_ t) &=& \\mathbb{E}[S_T v_T | \\mathcal{F}_ t] - \\mathbb{E}[S_T | \\mathcal{F}_ t]\\mathbb{E}[v_T | \\mathcal{F}_ t] \\\\\n",
    "&=& S_t \\bar v e^{-(\\lambda-\\eta \\rho)(T-t)} +  \\lambda S_t \\bar v \\frac{1- e^{-(\\lambda-\\eta \\rho)(T-t)}}{\\lambda-\\eta \\rho} - S_t \\bar v\\\\\n",
    "&=& S_t \\bar v \\left[  e^{-(\\lambda-\\eta \\rho)(T-t)} + \\frac{\\lambda- \\lambda e^{-(\\lambda-\\eta \\rho)(T-t)}}{\\lambda-\\eta \\rho} - 1\\right]\\\\\n",
    "&=& S_t \\bar v \\left[  \\frac{\\lambda  e^{-(\\lambda-\\eta \\rho)(T-t)} - \\eta \\rho  e^{-(\\lambda-\\eta \\rho)(T-t)} + \\lambda- \\lambda e^{-(\\lambda-\\eta \\rho)(T-t)} -\\lambda + \\eta\\rho }{\\lambda-\\eta \\rho}\\right]\\\\\n",
    "&=& \\eta\\rho S_t \\bar v \\frac{1- e^{-(\\lambda-\\eta \\rho)(T-t)}}{\\lambda-\\eta \\rho}.\n",
    "\\end{eqnarray}"
   ]
  },
  {
   "cell_type": "markdown",
   "metadata": {},
   "source": [
    "### Solution (c)\n",
    "\n",
    "when $\\tau\\rightarrow 0$, covariance goes to zero. when $\\rho = 0$, covariance equals to zero. When $\\lambda \\rightarrow\\infty$, covariance goes to zero.\n"
   ]
  },
  {
   "cell_type": "markdown",
   "metadata": {},
   "source": [
    "### Solution (d)\n",
    "\n",
    "When $\\tau = T-t$ very small, the process is very close to its known terminal condition and there is very little variability, so convariance goes to zero. \n",
    "\n",
    "When $\\rho = 0$, the Brownian motions drivint the prices and the variances are not correlated, the covariance equals to zero by definition. \n",
    "\n",
    "When $\\lambda\\rightarrow\\infty$, the volatility process is strongly mean-reverting such that the volatility converges to the equilibrium value $\\bar v$ very quickly. As a consequence, the covariance with the price process vanishes."
   ]
  },
  {
   "cell_type": "markdown",
   "metadata": {},
   "source": [
    "### Download some code"
   ]
  },
  {
   "cell_type": "code",
   "execution_count": 57,
   "metadata": {},
   "outputs": [],
   "source": [
    "download.file(url=\"http://mfe.baruch.cuny.edu/wp-content/uploads/2018/09/9875-3.zip\", destfile=\"9875-3.zip\")\n",
    "unzip(zipfile=\"9875-3.zip\")\n",
    "\n",
    "source(\"BlackScholes.R\")\n",
    "source(\"Lewis.R\")\n",
    "source(\"Heston.R\")\n",
    "source(\"roughHestonPade.R\")"
   ]
  },
  {
   "cell_type": "code",
   "execution_count": 58,
   "metadata": {},
   "outputs": [],
   "source": [
    "library(repr)\n",
    "options(repr.plot.height=5)"
   ]
  },
  {
   "cell_type": "markdown",
   "metadata": {},
   "source": [
    "## Using the classical and rough Heston codes\n",
    "\n",
    "Assume the following BCC parameters."
   ]
  },
  {
   "cell_type": "code",
   "execution_count": 59,
   "metadata": {},
   "outputs": [],
   "source": [
    "paramsBCC <- list(lambda = 1.15,rho = -0.64,eta = 0.39,vbar = 0.04,v = .04)"
   ]
  },
  {
   "cell_type": "markdown",
   "metadata": {},
   "source": [
    "And assume the following rough Heston parameters."
   ]
  },
  {
   "cell_type": "code",
   "execution_count": 60,
   "metadata": {},
   "outputs": [],
   "source": [
    "params.rHeston <- list(H=0.05,nu=0.15,rho=-.64,eta=0.15)\n",
    "xiCurve <- function(t){0.025+0*t}"
   ]
  },
  {
   "cell_type": "markdown",
   "metadata": {},
   "source": [
    "#### 3. (16 points) \n",
    "\n",
    "(a) Using the function `impvol.phi` from `Lewis.R`, code a function in R to approximate the at-the-money (ATM) implied volatility skew \n",
    "\n",
    "$$\n",
    "\\left.\\frac{\\partial \\sigma_{BS}(k,T)}{\\partial k }\\right|_{k=0}\n",
    "$$\n",
    "\n",
    "for a given characteristic function.\n",
    "\n",
    "(b)\n",
    "With `paramsBCC`, plot the term structure of the classical Heston ATM skew from 0 to 10 years.  \n",
    "\n",
    "(c)\n",
    "With `params.rHeston`, plot the term structure of the rough Heston ATM skew from 0 to 10 years. \n",
    "\n",
    "(d)\n",
    "Superimpose your plots from (b) and (c).\n",
    "\n",
    "(e)\n",
    "Superimpose log-log versions of your plots from (b) and (c).\n",
    "\n",
    "(f)\n",
    "Which of the two models, classical Heston or rough Heston, generate a term structure of ATM skew that is closer to the one empirically observed?"
   ]
  },
  {
   "cell_type": "markdown",
   "metadata": {},
   "source": [
    "### Solution (a)"
   ]
  },
  {
   "cell_type": "code",
   "execution_count": 61,
   "metadata": {},
   "outputs": [],
   "source": [
    "# Classical Heston\n",
    "ATMSkewClassicalHeston <- function(t)\n",
    "{\n",
    "    (impvol.phi(phiHeston(paramsBCC))(0.001, t) - impvol.phi(phiHeston(paramsBCC))(-0.001, t))/0.002\n",
    "}\n",
    "\n",
    "# Rough Heston\n",
    "ATMSkewRoughHeston <- function(t)\n",
    "{\n",
    "    phi <- phiRoughHestonDhApprox(params.rHeston, xiCurve, dh.approx= d.h.Pade33, n=20)\n",
    "    (impvol.phi(phi)(0.001, t) - impvol.phi(phi)(-0.001, t))/0.002\n",
    "}"
   ]
  },
  {
   "cell_type": "markdown",
   "metadata": {},
   "source": [
    "### Solution (b)"
   ]
  },
  {
   "cell_type": "code",
   "execution_count": 62,
   "metadata": {},
   "outputs": [
    {
     "data": {
      "image/png": "[encoded data removed]",
      "text/plain": [
       "plot without title"
      ]
     },
     "metadata": {},
     "output_type": "display_data"
    }
   ],
   "source": [
    "ts <- seq(0.1, 10, 0.02)\n",
    "ATMSkewClassicalHestonVectorized <- Vectorize(ATMSkewClassicalHeston)\n",
    "ATMSkewClassicalHestonSeries <- ATMSkewClassicalHestonVectorized(ts)\n",
    "plot(ts, ATMSkewClassicalHestonSeries, col=\"blue\",ylab=\"ATM Implied Vol Skew (Classical Heston)\",xlab=\"T\", pch='.')"
   ]
  },
  {
   "cell_type": "markdown",
   "metadata": {},
   "source": [
    "### Solution (c)"
   ]
  },
  {
   "cell_type": "code",
   "execution_count": 63,
   "metadata": {},
   "outputs": [
    {
     "data": {
      "image/png": "[encoded data removed]",
      "text/plain": [
       "plot without title"
      ]
     },
     "metadata": {},
     "output_type": "display_data"
    }
   ],
   "source": [
    "ts <- seq(0.1, 10, 0.02)\n",
    "ATMSkewRoughHestonVectorized <- Vectorize(ATMSkewRoughHeston)\n",
    "ATMSkewRoughHestonSeries <- ATMSkewRoughHestonVectorized(ts)\n",
    "plot(ts, ATMSkewRoughHestonSeries, col=\"red\",ylab=\"ATM Implied Vol Skew (Rough Heston)\",xlab=\"T\", pch='.')"
   ]
  },
  {
   "cell_type": "markdown",
   "metadata": {},
   "source": [
    "### Solution (d)"
   ]
  },
  {
   "cell_type": "code",
   "execution_count": 64,
   "metadata": {},
   "outputs": [
    {
     "data": {
      "image/png": "[encoded data removed]",
      "text/plain": [
       "plot without title"
      ]
     },
     "metadata": {},
     "output_type": "display_data"
    }
   ],
   "source": [
    "ts <- seq(0.1, 10, 0.02)\n",
    "plot(ts,ATMSkewClassicalHestonSeries, col=\"blue\", ylab=\"ATM Implied Vol Skew\",xlab=\"T\", pch='.')\n",
    "points(ts,ATMSkewRoughHestonSeries, col=\"red\", ylab=\"ATM Implied Vol Skew\",xlab=\"T\", pch='.')\n",
    "legend(7, -0.2, legend=c(\"Classical Heston\", \"Rough Heston\"), col=c(\"blue\", \"red\"), lty=1:2, cex=0.8)"
   ]
  },
  {
   "cell_type": "markdown",
   "metadata": {},
   "source": [
    "### Solution (e)"
   ]
  },
  {
   "cell_type": "code",
   "execution_count": 65,
   "metadata": {
    "scrolled": false
   },
   "outputs": [
    {
     "data": {
      "image/png": "[encoded data removed]",
      "text/plain": [
       "plot without title"
      ]
     },
     "metadata": {},
     "output_type": "display_data"
    }
   ],
   "source": [
    "ts <- seq(0.1, 10, 0.02)\n",
    "plot(log(ts),log(-ATMSkewClassicalHestonSeries), col=\"blue\", ylab=\"Log ATM Implied Vol Skew\",xlab=\"T\", pch='.')\n",
    "points(log(ts),log(-ATMSkewRoughHestonSeries), col=\"red\", ylab=\"Log ATM Implied Vol Skew\",xlab=\"T\", pch='.')\n",
    "legend(7, -0.2, legend=c(\"Classical Heston\", \"Rough Heston\"), col=c(\"blue\", \"red\"), lty=1:2, cex=0.8)"
   ]
  },
  {
   "cell_type": "markdown",
   "metadata": {},
   "source": [
    "### Solution (f)\n",
    "\n",
    "Rough Heston generates a term structure of ATM skew that is closer to the one empirically observed."
   ]
  },
  {
   "cell_type": "markdown",
   "metadata": {},
   "source": [
    "#### 4. (8 points)  \n",
    "\n",
    "Here are the BCC parameters again."
   ]
  },
  {
   "cell_type": "code",
   "execution_count": 66,
   "metadata": {},
   "outputs": [],
   "source": [
    "paramsBCC <- list(lambda = 1.15,rho = -0.64,eta = 0.39,vbar = 0.04,v = .04)"
   ]
  },
  {
   "cell_type": "markdown",
   "metadata": {},
   "source": [
    "Using equation (5) from Lecture 3,  code a function in R to return the Heston probability density $p(x,\\tau)$\n",
    "\n",
    "(a)\n",
    "\n",
    "With $\\tau=1$ and BCC parameters, plot $p(x,\\tau)$ as a function of $x$.  \n",
    "\n",
    "(b)\n",
    "\n",
    "Superimpose 5 dashed curves with $p(x,1)$ redrawn with $\\eta=\\eta_{BCC}+\\{0.1,0.2,0.3,0.4,0.5\\}$.\n",
    "\n",
    "(c)\n",
    "\n",
    "Explain your intuition for these results to a non-specialist."
   ]
  },
  {
   "cell_type": "code",
   "execution_count": 67,
   "metadata": {},
   "outputs": [],
   "source": [
    "helper <- function(params)\n",
    "{  \n",
    "  lambda <- params$lambda\n",
    "  rho <- params$rho\n",
    "  eta <- params$eta\n",
    "  vbar <- params$vbar\n",
    "  v <- params$v\n",
    "  \n",
    "  fj <- function(x, t = 1)\n",
    "  {\n",
    "    integrad = function(u)\n",
    "    {\n",
    "      al <- -u*u/2 - 1i*u/2 \n",
    "      bet <- lambda - rho*eta*1i*u\n",
    "      gam <- eta^2/2\n",
    "      d <- sqrt(bet*bet - 4*al*gam)\n",
    "      rp <- (bet + d)/(2*gam)\n",
    "      rm <- (bet - d)/(2*gam)\n",
    "      g <- rm / rp\n",
    "      C <- lambda * (rm * t - 2/eta^2 * log( (1 - g*exp(-(d*t)))/(1 - g) ) )\n",
    "      D <- rm * (1 - exp(-d*t))/ (1 - g*exp(-d*t))\n",
    "      return(1/pi*Re(exp(C*vbar+D*v-1i*u*x)))\n",
    "    }\n",
    "    return(integrate(integrad, -Inf, Inf)$value)\n",
    "  }\n",
    "}\n",
    "pdf = function(x){helper(paramsBCC)(x)}\n",
    "pdf = Vectorize(pdf)"
   ]
  },
  {
   "cell_type": "markdown",
   "metadata": {},
   "source": [
    "### Solution (a)"
   ]
  },
  {
   "cell_type": "code",
   "execution_count": 68,
   "metadata": {},
   "outputs": [
    {
     "data": {
      "image/png": "[encoded data removed]",
      "text/plain": [
       "plot without title"
      ]
     },
     "metadata": {},
     "output_type": "display_data"
    }
   ],
   "source": [
    "yrange = c(0, 6)\n",
    "curve(pdf(x), -1, 1, col = \"red\", ylim = yrange, xlab = \"x\", ylab = \"probability density function\")"
   ]
  },
  {
   "cell_type": "markdown",
   "metadata": {},
   "source": [
    "### Solution (b)"
   ]
  },
  {
   "cell_type": "code",
   "execution_count": 69,
   "metadata": {},
   "outputs": [],
   "source": [
    "modifiedParams <- function(etaChange)\n",
    "{\n",
    "    tmpParams <- paramsBCC\n",
    "    tmpParams$eta <- tmpParams$eta+etaChange\n",
    "    return(tmpParams)\n",
    "}"
   ]
  },
  {
   "cell_type": "code",
   "execution_count": 70,
   "metadata": {
    "scrolled": false
   },
   "outputs": [
    {
     "data": {
      "image/png": "[encoded data removed]",
      "text/plain": [
       "plot without title"
      ]
     },
     "metadata": {},
     "output_type": "display_data"
    }
   ],
   "source": [
    "yrange = c(0, 10)\n",
    "\n",
    "curve(pdf(x), -1, 1, col = \"red\", ylim = yrange, xlab = \"x\", ylab = \"probability density function\")\n",
    "par(new = T)\n",
    "\n",
    "for(etaChange in c(0.1,0.2,0.3,0.4,0.5))\n",
    "{\n",
    "    modifiedPdf <- function(x){helper(modifiedParams(etaChange))(x)}\n",
    "    modifiedPdf <- Vectorize(modifiedPdf)\n",
    "    curve(modifiedPdf(x), -1, 1, col = \"red\", lty=2, ylim = yrange, xlab = NA, ylab = NA)\n",
    "    par(new = T)\n",
    "}"
   ]
  },
  {
   "cell_type": "markdown",
   "metadata": {},
   "source": [
    "### Solution (c)\n",
    "\n",
    "The $\\eta$ parameter represents the vol of vol. When uncertainty in vol increase, the tail of the probability density function fattens and the peak rises."
   ]
  }
 ],
 "metadata": {
  "kernelspec": {
   "display_name": "R [Anaconda3]",
   "language": "R",
   "name": "R [Anaconda3]"
  },
  "language_info": {
   "codemirror_mode": "r",
   "file_extension": ".r",
   "mimetype": "text/x-r-source",
   "name": "R",
   "pygments_lexer": "r",
   "version": "3.4.3"
  }
 },
 "nbformat": 4,
 "nbformat_minor": 1
}
