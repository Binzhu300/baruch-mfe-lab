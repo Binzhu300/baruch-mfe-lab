{
 "cells": [
  {
   "cell_type": "markdown",
   "metadata": {},
   "source": [
    "# MTH9875 Homework 1 \n",
    "\n",
    "### ShengQuan Zhou\n",
    "\n",
    "Assigned: August 30, 2018.\n",
    "Due: September 13, 2018 by 6pm.\n",
    "\n",
    "Late homework **will not be accepted**."
   ]
  },
  {
   "cell_type": "markdown",
   "metadata": {},
   "source": [
    "<font color = \"red\">Homework is to be done by each student individually.  To receive full credit, you must email a completed copy of this iPython notebook to Victor Istratov (stavka@gmail.com), Yassine Ghalem (yassine.ghalem@gmail.com) and Jim Gatheral (jim.gatheral@gmail.com) by the due date and time.  All R-code must run correctly and solutions must be written up neatly in Markdown/LaTeX format."
   ]
  },
  {
   "cell_type": "markdown",
   "metadata": {},
   "source": [
    "## Power laws"
   ]
  },
  {
   "cell_type": "markdown",
   "metadata": {},
   "source": [
    "$$\\newcommand{\\bi}{\\begin{itemize}}\n",
    "\\newcommand{\\ei}{\\end{itemize}}\n",
    "\\newcommand{\\beq}{\\begin{equation}}\n",
    "\\newcommand{\\eeq}{\\end{equation}}\n",
    "\\newcommand{\\beas}{\\begin{eqnarray*}}\n",
    "\\newcommand{\\eeas}{\\end{eqnarray*}}\n",
    "\\newcommand{\\supp}{\\mathrm{supp}}\n",
    "\\newcommand{\\E}{\\mathbb{E} }\n",
    "\\def\\Cov{{ \\mbox{Cov} }}\n",
    "\\def\\Var{{ \\mbox{Var} }}\n",
    "\\newcommand{\\1}{\\mathbf{1} }\n",
    "\\newcommand{\\PP}{\\mathbb{P} }\n",
    "\\newcommand{\\QQ}{\\mathbb{Q} }\n",
    "\\newcommand{\\RR}{\\mathbb{R} }\n",
    "\\newcommand{\\DD}{\\mathbb{D} }\n",
    "\\newcommand{\\HH}{\\mathbb{H} }\n",
    "\\newcommand{\\spn}{\\mathrm{span} }\n",
    "\\newcommand{\\cov}{\\mathrm{cov} }\n",
    "\\newcommand{\\HS}{\\mathcal{L}_{\\mathrm{HS}} }\n",
    "\\newcommand{\\trace}{\\mathrm{trace} }\n",
    "\\newcommand{\\LL}{\\mathcal{L} }\n",
    "\\newcommand{\\s}{\\mathcal{S} }\n",
    "\\newcommand{\\ee}{\\mathcal{E} }\n",
    "\\newcommand{\\ff}{\\mathcal{F} }\n",
    "\\newcommand{\\hh}{\\mathcal{H} }\n",
    "\\newcommand{\\bb}{\\mathcal{B} }\n",
    "\\newcommand{\\dd}{\\mathcal{D} }\n",
    "\\newcommand{\\g}{\\mathcal{G} }\n",
    "\\newcommand{\\half}{\\frac{1}{2} }\n",
    "\\newcommand{\\T}{\\mathcal{T} }\n",
    "$$\n",
    "#### 1. (4 points)\n",
    "\n",
    "Let $X_i$ be independent power-law distributed random variables, so that for large $x$,\n",
    "\n",
    "$$\n",
    "\\Pr(X_i>x) \\sim \\frac{1}{x^{\\zeta_{X_i}}} \n",
    "$$\n",
    "\n",
    " Prove the following properties of the tail exponents $\\zeta_{X_i}$:\n",
    "\n",
    " (a) $$\n",
    "\\zeta_{X^\\alpha}=\\frac{\\zeta_{X}}{\\alpha}%\\label{eq:PLpower}\n",
    "$$\n",
    "\n",
    "(b) $$\n",
    "\\zeta_{\\alpha\\,X}=\\zeta_{X}\n",
    "%\\label{eq:PLprod}\n",
    "$$\n",
    "\n"
   ]
  },
  {
   "cell_type": "markdown",
   "metadata": {},
   "source": [
    "### Solution:\n",
    "\n",
    "(a) For large $x>0$, the cumulative distribution function for $\\zeta_{X^\\alpha}$\n",
    "$$\\Pr(X^\\alpha > x) = \\Pr(X > x^{1/\\alpha}) \\sim \\frac{1}{x^{\\frac{\\zeta_X}{\\alpha}}}.$$\n",
    "In other words,\n",
    "$$\n",
    "\\zeta_{X^\\alpha} = \\frac{\\zeta_X}{\\alpha}.\n",
    "$$\n",
    "\n",
    "(b) Similarly, the cumulative distribution function for $\\zeta_{\\alpha X}$\n",
    "$$\n",
    "\\Pr(\\alpha X > x) = \\Pr\\left(X > \\frac{x}{\\alpha}\\right)\\sim \\frac{1}{\\left(\\frac{x}{\\alpha}\\right)^{\\zeta_X}} = \\alpha^{\\zeta_X}\\cdot\\frac{1}{x^{\\zeta_X}}\\sim \\frac{1}{x^{\\zeta_X}}.\n",
    "$$\n",
    "In other words,\n",
    "$$\n",
    "\\zeta_{\\alpha X} = \\zeta_X.\n",
    "$$"
   ]
  },
  {
   "cell_type": "markdown",
   "metadata": {},
   "source": [
    "\n",
    "The following code snippet loads the data required for this homework assignment."
   ]
  },
  {
   "cell_type": "code",
   "execution_count": 138,
   "metadata": {},
   "outputs": [],
   "source": [
    "library(repr)\n",
    "options(repr.plot.height=5)"
   ]
  },
  {
   "cell_type": "code",
   "execution_count": 139,
   "metadata": {
    "scrolled": true
   },
   "outputs": [],
   "source": [
    "download.file(url=\"http://mfe.baruch.cuny.edu/wp-content/uploads/2018/08/9875HW1.zip\", destfile=\"9875HW1.zip\")\n",
    "unzip(zipfile=\"9875HW1.zip\")"
   ]
  },
  {
   "cell_type": "markdown",
   "metadata": {},
   "source": [
    "#### 2. (8 points)\n",
    "\n",
    "(a) Convert the file `SSRN.csv` (which contains paper download numbers and ranks) to a data frame.\n",
    "\n",
    "(b) Draw a log-log plot of number of paper downloads ($y$) vs download rank ($x$).\n",
    "\n",
    "(c) Regress $y$ vs $x$ and superimpose the resulting fit on your plot from part (b).\n",
    "\n",
    "(d) Write down the empirical power-law you have found in the form\n",
    "\n",
    "$$\n",
    "y = C x^\\alpha.\n",
    "$$"
   ]
  },
  {
   "cell_type": "markdown",
   "metadata": {},
   "source": [
    "### Solution (a)"
   ]
  },
  {
   "cell_type": "code",
   "execution_count": 140,
   "metadata": {},
   "outputs": [
    {
     "data": {
      "text/html": [
       "<table>\n",
       "<thead><tr><th scope=col>Rank</th><th scope=col>Author</th><th scope=col>Total.New.Downloads</th></tr></thead>\n",
       "<tbody>\n",
       "\t<tr><td>1                  </td><td>Fernandez, Pablo   </td><td>139046             </td></tr>\n",
       "\t<tr><td>2                  </td><td>Jensen, Michael C. </td><td> 66341             </td></tr>\n",
       "\t<tr><td>3                  </td><td>Jackson, Matthew O.</td><td> 41335             </td></tr>\n",
       "\t<tr><td>4                  </td><td>Faber, Mebane T.   </td><td> 37648             </td></tr>\n",
       "\t<tr><td>5                  </td><td>Damodaran, Aswath  </td><td> 35219             </td></tr>\n",
       "\t<tr><td>6                  </td><td>Harvey, Campbell R.</td><td> 33425             </td></tr>\n",
       "</tbody>\n",
       "</table>\n"
      ],
      "text/latex": [
       "\\begin{tabular}{r|lll}\n",
       " Rank & Author & Total.New.Downloads\\\\\n",
       "\\hline\n",
       "\t 1                   & Fernandez, Pablo    & 139046             \\\\\n",
       "\t 2                   & Jensen, Michael C.  &  66341             \\\\\n",
       "\t 3                   & Jackson, Matthew O. &  41335             \\\\\n",
       "\t 4                   & Faber, Mebane T.    &  37648             \\\\\n",
       "\t 5                   & Damodaran, Aswath   &  35219             \\\\\n",
       "\t 6                   & Harvey, Campbell R. &  33425             \\\\\n",
       "\\end{tabular}\n"
      ],
      "text/markdown": [
       "\n",
       "Rank | Author | Total.New.Downloads | \n",
       "|---|---|---|---|---|---|\n",
       "| 1                   | Fernandez, Pablo    | 139046              | \n",
       "| 2                   | Jensen, Michael C.  |  66341              | \n",
       "| 3                   | Jackson, Matthew O. |  41335              | \n",
       "| 4                   | Faber, Mebane T.    |  37648              | \n",
       "| 5                   | Damodaran, Aswath   |  35219              | \n",
       "| 6                   | Harvey, Campbell R. |  33425              | \n",
       "\n",
       "\n"
      ],
      "text/plain": [
       "  Rank Author              Total.New.Downloads\n",
       "1 1    Fernandez, Pablo    139046             \n",
       "2 2    Jensen, Michael C.   66341             \n",
       "3 3    Jackson, Matthew O.  41335             \n",
       "4 4    Faber, Mebane T.     37648             \n",
       "5 5    Damodaran, Aswath    35219             \n",
       "6 6    Harvey, Campbell R.  33425             "
      ]
     },
     "metadata": {},
     "output_type": "display_data"
    }
   ],
   "source": [
    "df1 = read.csv('SSRN.csv')\n",
    "head(df1)"
   ]
  },
  {
   "cell_type": "markdown",
   "metadata": {},
   "source": [
    "### Solution (b) and (c)"
   ]
  },
  {
   "cell_type": "code",
   "execution_count": 141,
   "metadata": {},
   "outputs": [
    {
     "data": {
      "image/png": "[encoded data removed]",
      "text/plain": [
       "plot without title"
      ]
     },
     "metadata": {},
     "output_type": "display_data"
    }
   ],
   "source": [
    "plot(log(df1$Rank), log(df1$Total.New.Downloads), ylab = \"Paper downloads\", xlab = \"Ranks\")\n",
    "lm1 <- lm(log(df1$Total.New.Downloads) ~ log(df1$Rank)) \n",
    "abline(lm1, col = \"red\")"
   ]
  },
  {
   "cell_type": "markdown",
   "metadata": {},
   "source": [
    "### Solution (d)"
   ]
  },
  {
   "cell_type": "code",
   "execution_count": 142,
   "metadata": {},
   "outputs": [
    {
     "data": {
      "text/html": [
       "<strong>(Intercept):</strong> 90312.3357695833"
      ],
      "text/latex": [
       "\\textbf{(Intercept):} 90312.3357695833"
      ],
      "text/markdown": [
       "**(Intercept):** 90312.3357695833"
      ],
      "text/plain": [
       "(Intercept) \n",
       "   90312.34 "
      ]
     },
     "metadata": {},
     "output_type": "display_data"
    },
    {
     "data": {
      "text/html": [
       "<strong>log(df1$Rank):</strong> -0.546706977988616"
      ],
      "text/latex": [
       "\\textbf{log(df1\\textbackslash{}\\$Rank):} -0.546706977988616"
      ],
      "text/markdown": [
       "**log(df1$Rank):** -0.546706977988616"
      ],
      "text/plain": [
       "log(df1$Rank) \n",
       "    -0.546707 "
      ]
     },
     "metadata": {},
     "output_type": "display_data"
    }
   ],
   "source": [
    "C1 = exp( lm1$coefficients[1] )\n",
    "C1\n",
    "alpha1 = lm1$coefficients[2]\n",
    "alpha1"
   ]
  },
  {
   "cell_type": "markdown",
   "metadata": {},
   "source": [
    "We found that $y \\approx 90312\\times x^{-0.5467}$."
   ]
  },
  {
   "cell_type": "markdown",
   "metadata": {},
   "source": [
    "#### 3. (8 points)\n",
    "\n",
    "Repeat all four parts of question 2. for the dataset `Cities.csv`."
   ]
  },
  {
   "cell_type": "markdown",
   "metadata": {},
   "source": [
    "### Solution (a)"
   ]
  },
  {
   "cell_type": "code",
   "execution_count": 143,
   "metadata": {},
   "outputs": [
    {
     "data": {
      "text/html": [
       "<table>\n",
       "<thead><tr><th scope=col>Name</th><th scope=col>Population</th></tr></thead>\n",
       "<tbody>\n",
       "\t<tr><td>New York City</td><td>8491079      </td></tr>\n",
       "\t<tr><td>Los Angeles  </td><td>3928864      </td></tr>\n",
       "\t<tr><td>Chicago      </td><td>2722389      </td></tr>\n",
       "\t<tr><td>Houston      </td><td>2239558      </td></tr>\n",
       "\t<tr><td>Philadelphia </td><td>1560297      </td></tr>\n",
       "\t<tr><td>Phoenix      </td><td>1537058      </td></tr>\n",
       "</tbody>\n",
       "</table>\n"
      ],
      "text/latex": [
       "\\begin{tabular}{r|ll}\n",
       " Name & Population\\\\\n",
       "\\hline\n",
       "\t New York City & 8491079      \\\\\n",
       "\t Los Angeles   & 3928864      \\\\\n",
       "\t Chicago       & 2722389      \\\\\n",
       "\t Houston       & 2239558      \\\\\n",
       "\t Philadelphia  & 1560297      \\\\\n",
       "\t Phoenix       & 1537058      \\\\\n",
       "\\end{tabular}\n"
      ],
      "text/markdown": [
       "\n",
       "Name | Population | \n",
       "|---|---|---|---|---|---|\n",
       "| New York City | 8491079       | \n",
       "| Los Angeles   | 3928864       | \n",
       "| Chicago       | 2722389       | \n",
       "| Houston       | 2239558       | \n",
       "| Philadelphia  | 1560297       | \n",
       "| Phoenix       | 1537058       | \n",
       "\n",
       "\n"
      ],
      "text/plain": [
       "  Name          Population\n",
       "1 New York City 8491079   \n",
       "2 Los Angeles   3928864   \n",
       "3 Chicago       2722389   \n",
       "4 Houston       2239558   \n",
       "5 Philadelphia  1560297   \n",
       "6 Phoenix       1537058   "
      ]
     },
     "metadata": {},
     "output_type": "display_data"
    }
   ],
   "source": [
    "df2 = read.csv('Cities.csv')\n",
    "head(df2)"
   ]
  },
  {
   "cell_type": "markdown",
   "metadata": {},
   "source": [
    "### Solution (b) and (c)"
   ]
  },
  {
   "cell_type": "code",
   "execution_count": 144,
   "metadata": {},
   "outputs": [
    {
     "data": {
      "text/html": [
       "<table>\n",
       "<thead><tr><th scope=col>Name</th><th scope=col>Population</th><th scope=col>rank</th></tr></thead>\n",
       "<tbody>\n",
       "\t<tr><td>New York City</td><td>8491079      </td><td>1            </td></tr>\n",
       "\t<tr><td>Los Angeles  </td><td>3928864      </td><td>2            </td></tr>\n",
       "\t<tr><td>Chicago      </td><td>2722389      </td><td>3            </td></tr>\n",
       "\t<tr><td>Houston      </td><td>2239558      </td><td>4            </td></tr>\n",
       "\t<tr><td>Philadelphia </td><td>1560297      </td><td>5            </td></tr>\n",
       "\t<tr><td>Phoenix      </td><td>1537058      </td><td>6            </td></tr>\n",
       "</tbody>\n",
       "</table>\n"
      ],
      "text/latex": [
       "\\begin{tabular}{r|lll}\n",
       " Name & Population & rank\\\\\n",
       "\\hline\n",
       "\t New York City & 8491079       & 1            \\\\\n",
       "\t Los Angeles   & 3928864       & 2            \\\\\n",
       "\t Chicago       & 2722389       & 3            \\\\\n",
       "\t Houston       & 2239558       & 4            \\\\\n",
       "\t Philadelphia  & 1560297       & 5            \\\\\n",
       "\t Phoenix       & 1537058       & 6            \\\\\n",
       "\\end{tabular}\n"
      ],
      "text/markdown": [
       "\n",
       "Name | Population | rank | \n",
       "|---|---|---|---|---|---|\n",
       "| New York City | 8491079       | 1             | \n",
       "| Los Angeles   | 3928864       | 2             | \n",
       "| Chicago       | 2722389       | 3             | \n",
       "| Houston       | 2239558       | 4             | \n",
       "| Philadelphia  | 1560297       | 5             | \n",
       "| Phoenix       | 1537058       | 6             | \n",
       "\n",
       "\n"
      ],
      "text/plain": [
       "  Name          Population rank\n",
       "1 New York City 8491079    1   \n",
       "2 Los Angeles   3928864    2   \n",
       "3 Chicago       2722389    3   \n",
       "4 Houston       2239558    4   \n",
       "5 Philadelphia  1560297    5   \n",
       "6 Phoenix       1537058    6   "
      ]
     },
     "metadata": {},
     "output_type": "display_data"
    }
   ],
   "source": [
    "# add a rank column\n",
    "df2$rank <-  rank(-df2$Population)\n",
    "head(df2)"
   ]
  },
  {
   "cell_type": "code",
   "execution_count": 145,
   "metadata": {},
   "outputs": [
    {
     "data": {
      "image/png": "[encoded data removed]",
      "text/plain": [
       "plot without title"
      ]
     },
     "metadata": {},
     "output_type": "display_data"
    }
   ],
   "source": [
    "plot(log(df2$rank), log(df2$Population), ylab = \"City population\", xlab = \"Ranks\")\n",
    "lm2 <- lm(log(df2$Population) ~ log(df2$rank)) \n",
    "abline(lm2, col = \"red\")"
   ]
  },
  {
   "cell_type": "markdown",
   "metadata": {},
   "source": [
    "### Solution (d)"
   ]
  },
  {
   "cell_type": "code",
   "execution_count": 146,
   "metadata": {},
   "outputs": [
    {
     "data": {
      "text/html": [
       "<strong>(Intercept):</strong> 6172140.00386952"
      ],
      "text/latex": [
       "\\textbf{(Intercept):} 6172140.00386952"
      ],
      "text/markdown": [
       "**(Intercept):** 6172140.00386952"
      ],
      "text/plain": [
       "(Intercept) \n",
       "    6172140 "
      ]
     },
     "metadata": {},
     "output_type": "display_data"
    },
    {
     "data": {
      "text/html": [
       "<strong>log(df2$rank):</strong> -0.720653506950653"
      ],
      "text/latex": [
       "\\textbf{log(df2\\textbackslash{}\\$rank):} -0.720653506950653"
      ],
      "text/markdown": [
       "**log(df2$rank):** -0.720653506950653"
      ],
      "text/plain": [
       "log(df2$rank) \n",
       "   -0.7206535 "
      ]
     },
     "metadata": {},
     "output_type": "display_data"
    }
   ],
   "source": [
    "C2 = exp( lm2$coefficients[1] )\n",
    "C2\n",
    "alpha2 = lm2$coefficients[2]\n",
    "alpha2"
   ]
  },
  {
   "cell_type": "markdown",
   "metadata": {},
   "source": [
    "We found that $y \\approx 6172140\\times x^{-0.7206}$."
   ]
  },
  {
   "cell_type": "markdown",
   "metadata": {},
   "source": [
    "#### 4. (12 points.)\n",
    "\n",
    "(a) Assuming that SPX daily returns are Student-t distributed with $\\nu=3$, mean $0$ and standard deviation of $1\\%$,  what is the chance of a daily move of more than $10\\%$?  Of more than $20\\%$? How many years should we expect to wait to get moves of over $10\\%$ and $20\\%$ respectively? \n",
    "\n",
    "(b) Repeat the same computation assuming SPX daily returns are normally distributed.  Include in your answer all steps in your computation.\n",
    "\n",
    "Recall that the SPX dropped $23\\%$ on October 19, 1987.  \n",
    "   \n",
    "(c) Should this one-day move have been unexpected?  \n",
    "\n",
    "(d) How many years would we expect to wait to get a move of this magnitude assuming SPX returns are normally distributed?  \n",
    "\n",
    "(e) Compare your answer with the life of the universe so far (around 13.7 billion years)."
   ]
  },
  {
   "cell_type": "markdown",
   "metadata": {},
   "source": [
    "### Solution (a)\n",
    "\n",
    "A random variable $x$ obeying a student-t distribution with $\\nu=3$ has standard deviation $\\sigma=\\sqrt{\\frac{\\nu}{\\nu-2}}$. Thus, $y \\triangleq 0.01\\times \\frac{x}{\\sigma}$ obyes a student-t distribution with standard deviation $1%$. The cumulative probability\n",
    "$$\n",
    "\\Pr(y>10\\%) = \\Pr\\left(0.01\\times \\frac{x}{\\sigma} > 0.1\\right) = \\Pr(x>10\\sigma).\n",
    "$$\n",
    "\n",
    "The chance of a daily move of more than 10% is $\\approx 4\\times 10^{-4}$, for which we expect to wait 9.5 years to observe.\n",
    "\n",
    "The chance of a daily move of more than 20% is $\\approx 5\\times 10^{-5}$, for which we expect to wait 75 years to observe."
   ]
  },
  {
   "cell_type": "code",
   "execution_count": 147,
   "metadata": {},
   "outputs": [
    {
     "name": "stdout",
     "output_type": "stream",
     "text": [
      "The chance of a daily move of more than 10%: 0.000419 \n",
      "The chance of a daily move of more than 20%: 5.3e-05"
     ]
    }
   ],
   "source": [
    "# For student-t distribution, check\n",
    "# http://astrostatistics.psu.edu/su07/R/html/stats/html/TDist.html\n",
    "df = 3\n",
    "sigma = sqrt(df / (df - 2))\n",
    "p10 = 2 * (1 - pt(sigma * 10, df) )\n",
    "cat(\"The chance of a daily move of more than 10%:\", round(p10, digits=6), \"\\n\")\n",
    "p20 = 2 * (1 - pt(sigma * 20, df) )\n",
    "cat(\"The chance of a daily move of more than 20%:\", round(p20, digits=6))"
   ]
  },
  {
   "cell_type": "code",
   "execution_count": 148,
   "metadata": {},
   "outputs": [
    {
     "name": "stdout",
     "output_type": "stream",
     "text": [
      "Number of years to expect a daily move of more than 10%: 9.46 \n",
      "Number of years to expect a daily move of more than 20%: 75.02 \n"
     ]
    }
   ],
   "source": [
    "y10 = 1.0 / p10 / 252.0\n",
    "cat(\"Number of years to expect a daily move of more than 10%:\", round(y10, digits=2), \"\\n\")\n",
    "y20 = 1.0 / p20 / 252.0\n",
    "cat(\"Number of years to expect a daily move of more than 20%:\", round(y20, digits=2), \"\\n\")"
   ]
  },
  {
   "cell_type": "markdown",
   "metadata": {},
   "source": [
    "### Solution (b)"
   ]
  },
  {
   "cell_type": "code",
   "execution_count": 149,
   "metadata": {},
   "outputs": [
    {
     "name": "stdout",
     "output_type": "stream",
     "text": [
      "The chance of a daily move of more than 10%: 1.5e-23 \n",
      "The chance of a daily move of more than 20%: 5.5e-89"
     ]
    }
   ],
   "source": [
    "pn10 = 2 * pnorm(10, lower.tail = FALSE) \n",
    "cat(\"The chance of a daily move of more than 10%:\", format(pn10, digits=2), \"\\n\")\n",
    "pn20 = 2 * pnorm(20, lower.tail = FALSE)\n",
    "cat(\"The chance of a daily move of more than 20%:\", format(pn20, digits=2))"
   ]
  },
  {
   "cell_type": "code",
   "execution_count": 150,
   "metadata": {},
   "outputs": [
    {
     "name": "stdout",
     "output_type": "stream",
     "text": [
      "Number of years to expect a daily move of more than 10%: 2.6e+20 \n",
      "Number of years to expect a daily move of more than 10%: 7.2e+85"
     ]
    }
   ],
   "source": [
    "yn10 = 1.0 / pn10 / 252.0\n",
    "cat(\"Number of years to expect a daily move of more than 10%:\", format(yn10, digits=2), \"\\n\")\n",
    "yn20 = 1.0 / pn20 / 252.0\n",
    "cat(\"Number of years to expect a daily move of more than 10%:\", format(yn20, digits=2))"
   ]
  },
  {
   "cell_type": "markdown",
   "metadata": {},
   "source": [
    "### Answer (c)\n",
    "\n",
    "Yes, this one-day move should have been unexpected."
   ]
  },
  {
   "cell_type": "markdown",
   "metadata": {},
   "source": [
    "### Solution (d)"
   ]
  },
  {
   "cell_type": "code",
   "execution_count": 151,
   "metadata": {},
   "outputs": [
    {
     "name": "stdout",
     "output_type": "stream",
     "text": [
      "Number of years to expect a daily move of more than 23%: 8.5e+113 \n"
     ]
    }
   ],
   "source": [
    "pn23 = 2 * pnorm(23, lower.tail = FALSE)\n",
    "yn23 = 1.0 / pn23 / 252.0\n",
    "cat(\"Number of years to expect a daily move of more than 23%:\", format(yn23, digits=2), \"\\n\")"
   ]
  },
  {
   "cell_type": "markdown",
   "metadata": {},
   "source": [
    "### Solution (e)\n",
    "\n",
    "the life of the universe so far (around 13.7 billion years) is far less than the estimate of waiting time from normal distribution ($\\approx 8.5\\times 10^{104}$ billion years)."
   ]
  },
  {
   "cell_type": "markdown",
   "metadata": {},
   "source": [
    "## Stylized facts"
   ]
  },
  {
   "cell_type": "markdown",
   "metadata": {},
   "source": [
    "#### 5.  (0 points)\n",
    "Run my R-code in `9875Lecture1-2015.ipynb` and try to understand how it works."
   ]
  },
  {
   "cell_type": "markdown",
   "metadata": {},
   "source": [
    "### Solution:\n",
    "\n",
    "Done."
   ]
  },
  {
   "cell_type": "markdown",
   "metadata": {},
   "source": [
    "#### 6. (6 points) \n",
    "\n",
    "The code snippet below loads the data file `spxVIX.rData`.  \n",
    "\n",
    "(a) Write R-code to compute \n",
    "   - The average log-return conditional on the log-return being non-negative.\n",
    "   - The average log-return conditional on the log-return being negative.\n",
    "\n",
    "(b) What proportion of all moves are up-moves? Down-moves?  \n",
    "   \n",
    "(c) Relate your findings to one of the Rama Cont stylized facts.\n"
   ]
  },
  {
   "cell_type": "code",
   "execution_count": 152,
   "metadata": {
    "scrolled": false
   },
   "outputs": [],
   "source": [
    "library(quantmod)\n",
    "load(\"spxVix.rData\")"
   ]
  },
  {
   "cell_type": "code",
   "execution_count": 153,
   "metadata": {},
   "outputs": [
    {
     "data": {
      "text/plain": [
       "           Cl.GSPC Cl.VIX\n",
       "2018-08-17 2850.13  12.64\n",
       "2018-08-20 2857.05  12.49\n",
       "2018-08-21 2862.96  12.86\n",
       "2018-08-22 2861.82  12.25\n",
       "2018-08-23 2856.98  12.41\n",
       "2018-08-24 2874.69  11.99"
      ]
     },
     "metadata": {},
     "output_type": "display_data"
    }
   ],
   "source": [
    "tail(spxVixData)"
   ]
  },
  {
   "cell_type": "markdown",
   "metadata": {},
   "source": [
    "### Solution (a)"
   ]
  },
  {
   "cell_type": "code",
   "execution_count": 154,
   "metadata": {},
   "outputs": [
    {
     "name": "stdout",
     "output_type": "stream",
     "text": [
      "The average log-return of SPX conditional on the log-return being non-negative: 0.0072 \n",
      "The average log-return of VIX conditional on the log-return being non-negative: 0.0486"
     ]
    }
   ],
   "source": [
    "vix <- spxVixData[,\"Cl.VIX\"]\n",
    "spx <- spxVixData[,\"Cl.GSPC\"]\n",
    "\n",
    "spx_ret <- log(spx/lag(spx))\n",
    "spx_ret <- spx_ret[!is.na(spx_ret)]\n",
    "mean_spx_ret_nonnegative = mean( spx_ret[spx_ret >= 0] )\n",
    "\n",
    "vix_ret <- log(vix/lag(vix))\n",
    "vix_ret <- vix_ret[!is.na(vix_ret)]\n",
    "mean_vix_ret_nonnegative = mean( vix_ret[vix_ret >= 0] )\n",
    "\n",
    "cat(\"The average log-return of SPX conditional on the log-return being non-negative:\", round(mean_spx_ret_nonnegative, digits=4), \"\\n\")\n",
    "cat(\"The average log-return of VIX conditional on the log-return being non-negative:\", round(mean_vix_ret_nonnegative, digits=4))"
   ]
  },
  {
   "cell_type": "code",
   "execution_count": 155,
   "metadata": {},
   "outputs": [
    {
     "name": "stdout",
     "output_type": "stream",
     "text": [
      "The average log-return of SPX conditional on the log-return being negative: -0.0077 \n",
      "The average log-return of VIX conditional on the log-return being negative: -0.0443"
     ]
    }
   ],
   "source": [
    "mean_spx_ret_negative = mean( spx_ret[spx_ret < 0] )\n",
    "mean_vix_ret_negative = mean( vix_ret[vix_ret < 0] )\n",
    "\n",
    "cat(\"The average log-return of SPX conditional on the log-return being negative:\", round(mean_spx_ret_negative, digits=4), \"\\n\")\n",
    "cat(\"The average log-return of VIX conditional on the log-return being negative:\", round(mean_vix_ret_negative, digits=4))"
   ]
  },
  {
   "cell_type": "markdown",
   "metadata": {},
   "source": [
    "### Solution (b)"
   ]
  },
  {
   "cell_type": "code",
   "execution_count": 156,
   "metadata": {},
   "outputs": [
    {
     "name": "stdout",
     "output_type": "stream",
     "text": [
      "Proportion of up   moves in SPX log-returns: 0.53 \n",
      "Proportion of down moves in SPX log-returns: 0.46 \n",
      "Proportion of up   moves in VIX log-returns: 0.47 \n",
      "Proportion of down moves in VIX log-returns: 0.52"
     ]
    }
   ],
   "source": [
    "spx_up = length(spx_ret[spx_ret > 0])/length(spx_ret)\n",
    "spx_dn = length(spx_ret[spx_ret < 0])/length(spx_ret)\n",
    "vix_up = length(vix_ret[vix_ret > 0])/length(vix_ret)\n",
    "vix_dn = length(vix_ret[vix_ret < 0])/length(vix_ret)\n",
    "\n",
    "cat(\"Proportion of up   moves in SPX log-returns:\", round(spx_up, digits=2), \"\\n\")\n",
    "cat(\"Proportion of down moves in SPX log-returns:\", round(spx_dn, digits=2), \"\\n\")\n",
    "cat(\"Proportion of up   moves in VIX log-returns:\", round(vix_up, digits=2), \"\\n\")\n",
    "cat(\"Proportion of down moves in VIX log-returns:\", round(vix_dn, digits=2))"
   ]
  },
  {
   "cell_type": "markdown",
   "metadata": {},
   "source": [
    "### Answer (c)\n",
    "\n",
    "Gain/loss asymmetry: one observes large drawdowns in stock prices and stock index values but not\n",
    "equally large upward movements."
   ]
  },
  {
   "cell_type": "markdown",
   "metadata": {},
   "source": [
    "#### 7. (8 points) \n",
    "\n",
    "DAX is a German stock index analogous to the SPX index.  VDAX is the volatility index (VIX) of DAX.\n",
    "\n",
    "(a) Using the lecture code as a template, use the quantmod package to download time series of DAX and VDAX.\n",
    "\n",
    "(b) Regress VDAX log returns vs DAX log returns. What is the $R^2$ of this regression? What is the correlation? \n",
    "\n",
    "(c) Draw a scatter plot of VDAX log returns vs DAX log returns. Superimpose your linear fit from part (b) to make a diagram exactly like Figure 19 of Lecture 1.\n",
    "\n",
    "**Note** Yahoo tickers for the DAX and VDAX are `\"^GDAXI\"` and `\"^VDAX\"` respectively."
   ]
  },
  {
   "cell_type": "markdown",
   "metadata": {},
   "source": [
    "### Solution (a)"
   ]
  },
  {
   "cell_type": "code",
   "execution_count": 157,
   "metadata": {},
   "outputs": [],
   "source": [
    "# Load libraries\n",
    "library(xts)\n",
    "library(zoo)\n",
    "library(quantmod)\n",
    "library(boot)"
   ]
  },
  {
   "cell_type": "code",
   "execution_count": 158,
   "metadata": {},
   "outputs": [
    {
     "name": "stderr",
     "output_type": "stream",
     "text": [
      "Warning message:\n",
      "\"^GDAXI contains missing values. Some functions will not work if objects contain missing values in the middle of the series. Consider using na.omit(), na.approx(), na.fill(), etc to remove or replace them.\""
     ]
    },
    {
     "data": {
      "text/html": [
       "'GDAXI'"
      ],
      "text/latex": [
       "'GDAXI'"
      ],
      "text/markdown": [
       "'GDAXI'"
      ],
      "text/plain": [
       "[1] \"GDAXI\""
      ]
     },
     "metadata": {},
     "output_type": "display_data"
    },
    {
     "name": "stderr",
     "output_type": "stream",
     "text": [
      "Warning message:\n",
      "\"^VDAX contains missing values. Some functions will not work if objects contain missing values in the middle of the series. Consider using na.omit(), na.approx(), na.fill(), etc to remove or replace them.\""
     ]
    },
    {
     "data": {
      "text/html": [
       "'VDAX'"
      ],
      "text/latex": [
       "'VDAX'"
      ],
      "text/markdown": [
       "'VDAX'"
      ],
      "text/plain": [
       "[1] \"VDAX\""
      ]
     },
     "metadata": {},
     "output_type": "display_data"
    }
   ],
   "source": [
    "#Get SPX and VIX data from Yahoo!\n",
    "options(\"getSymbols.warning4.0\"=FALSE)\n",
    "getSymbols(\"^GDAXI\",from=\"1927-01-01\") \n",
    "getSymbols(\"^VDAX\",from=\"1927-01-01\")"
   ]
  },
  {
   "cell_type": "code",
   "execution_count": 159,
   "metadata": {},
   "outputs": [
    {
     "data": {
      "text/plain": [
       "           Cl.GDAXI Cl.VDAX\n",
       "2005-11-16  5081.46   14.65\n",
       "2005-11-17  5099.72   14.54\n",
       "2005-11-18  5123.50   14.35\n",
       "2005-11-21  5170.61   13.56\n",
       "2005-11-22  5174.72   13.69\n",
       "2005-11-23  5196.08   13.11"
      ]
     },
     "metadata": {},
     "output_type": "display_data"
    }
   ],
   "source": [
    "# Use specifyModel to align the two time series\n",
    "mm <- specifyModel(Cl(GDAXI)~Cl(VDAX))\n",
    "DaxVdaxData <- modelData(mm)\n",
    "head(DaxVdaxData)"
   ]
  },
  {
   "cell_type": "markdown",
   "metadata": {},
   "source": [
    "### Solution (b)"
   ]
  },
  {
   "cell_type": "code",
   "execution_count": 160,
   "metadata": {},
   "outputs": [
    {
     "name": "stdout",
     "output_type": "stream",
     "text": [
      "R^2 of the regression: 0.5148 \n",
      "Correlation of the regression: -0.7175"
     ]
    }
   ],
   "source": [
    "dax <- DaxVdaxData[,\"Cl.GDAXI\"]\n",
    "vdax <- DaxVdaxData[,\"Cl.VDAX\"]\n",
    "\n",
    "dax_ret <- log(dax/lag(dax))\n",
    "dax_ret <- dax_ret[!is.na(dax_ret)]\n",
    "vdax_ret <- log(vdax/lag(vdax))\n",
    "vdax_ret <- vdax_ret[!is.na(vdax_ret)]\n",
    "\n",
    "lm3 = lm(vdax_ret ~ dax_ret)\n",
    "r2 = summary(lm3)$r.squared\n",
    "cat(\"R^2 of the regression:\", round(r2, digits=4), \"\\n\")\n",
    "corr = cor(vdax_ret, dax_ret)\n",
    "cat(\"Correlation of the regression:\", round(corr, digits=4))"
   ]
  },
  {
   "cell_type": "markdown",
   "metadata": {},
   "source": [
    "### Solution (c)"
   ]
  },
  {
   "cell_type": "code",
   "execution_count": 161,
   "metadata": {},
   "outputs": [
    {
     "data": {
      "image/png": "[encoded data removed]",
      "text/plain": [
       "plot without title"
      ]
     },
     "metadata": {},
     "output_type": "display_data"
    }
   ],
   "source": [
    "plot(as.numeric(dax_ret), as.numeric(vdax_ret), xlab = \"DAX log-returns\", ylab = \"VDAX log-returns\", pch=20, col=\"blue\" )\n",
    "abline(lm3, col = 'red', lwd=2)"
   ]
  }
 ],
 "metadata": {
  "kernelspec": {
   "display_name": "R",
   "language": "R",
   "name": "ir"
  },
  "language_info": {
   "codemirror_mode": "r",
   "file_extension": ".r",
   "mimetype": "text/x-r-source",
   "name": "R",
   "pygments_lexer": "r",
   "version": "3.4.3"
  }
 },
 "nbformat": 4,
 "nbformat_minor": 1
}
