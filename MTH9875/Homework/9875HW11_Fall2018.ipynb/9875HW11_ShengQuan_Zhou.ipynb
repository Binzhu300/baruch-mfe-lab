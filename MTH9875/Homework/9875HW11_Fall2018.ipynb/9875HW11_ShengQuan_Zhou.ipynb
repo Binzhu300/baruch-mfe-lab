{
 "cells": [
  {
   "cell_type": "markdown",
   "metadata": {},
   "source": [
    "# MTH9875 Homework 11\n",
    "### ShengQuan Zhou\n",
    "\n",
    "Assigned: November 8, 2018.\n",
    "Due: November 22, 2017 (yes, Thanksgiving Day!) by 6pm. \n",
    "\n",
    "Late homework **will not be accepted**."
   ]
  },
  {
   "cell_type": "markdown",
   "metadata": {},
   "source": [
    "<font color = \"red\">Homework is to be done by each student individually.  To receive full credit, you must email a completed copy of this iPython notebook to Victor Istratov (stavka@gmail.com), Yassine Ghalem (yassine.ghalem@gmail.com) and Jim Gatheral (jim.gatheral@gmail.com) by the due date and time.  All R-code must run correctly and solutions must be written up neatly in Markdown/LaTeX format."
   ]
  },
  {
   "cell_type": "markdown",
   "metadata": {},
   "source": [
    "### 0. (0 points)\n",
    "\n",
    "Read Chapters 9 and 10 of The Volatility Surface"
   ]
  },
  {
   "cell_type": "markdown",
   "metadata": {},
   "source": [
    "### Answer:\n",
    "\n",
    "Done."
   ]
  },
  {
   "cell_type": "markdown",
   "metadata": {},
   "source": [
    "## Comparing stochastic and local volatility pricing of lookback options\n",
    "\n",
    "$$\n",
    "\\newcommand{\\supp}{\\mathrm{supp}}\n",
    "\\newcommand{\\E}{\\mathbb{E} }\n",
    "\\def\\Cov{{ \\mbox{Cov} }}\n",
    "\\def\\Var{{ \\mbox{Var} }}\n",
    "\\newcommand{\\1}{\\mathbf{1} }\n",
    "\\newcommand{\\PP}{\\mathbb{P} }\n",
    "%\\newcommand{\\Pr}{\\mathrm{Pr} }\n",
    "\\newcommand{\\QQ}{\\mathbb{Q} }\n",
    "\\newcommand{\\RR}{\\mathbb{R} }\n",
    "\\newcommand{\\DD}{\\mathbb{D} }\n",
    "\\newcommand{\\HH}{\\mathbb{H} }\n",
    "\\newcommand{\\spn}{\\mathrm{span} }\n",
    "\\newcommand{\\cov}{\\mathrm{cov} }\n",
    "\\newcommand{\\sgn}{\\mathrm{sgn} }\n",
    "\\newcommand{\\HS}{\\mathcal{L}_{\\mathrm{HS}} }\n",
    "%\\newcommand{\\HS}{\\mathrm{HS} }\n",
    "\\newcommand{\\trace}{\\mathrm{trace} }\n",
    "\\newcommand{\\LL}{\\mathcal{L} }\n",
    "%\\newcommand{\\LL}{\\mathrm{L} }\n",
    "\\newcommand{\\s}{\\mathcal{S} }\n",
    "\\newcommand{\\ee}{\\mathcal{E} }\n",
    "\\newcommand{\\ff}{\\mathcal{F} }\n",
    "\\newcommand{\\hh}{\\mathcal{H} }\n",
    "\\newcommand{\\bb}{\\mathcal{B} }\n",
    "\\newcommand{\\dd}{\\mathcal{D} }\n",
    "\\newcommand{\\g}{\\mathcal{G} }\n",
    "\\newcommand{\\p}{\\partial}\n",
    "\\newcommand{\\half}{\\frac{1}{2} }\n",
    "\\newcommand{\\T}{\\mathcal{T} }\n",
    "\\newcommand{\\bi}{\\begin{itemize}}\n",
    "\\newcommand{\\ei}{\\end{itemize}}\n",
    "\\newcommand{\\beq}{\\begin{equation}}\n",
    "\\newcommand{\\eeq}{\\end{equation}}\n",
    "\\newcommand{\\beas}{\\begin{eqnarray*}}\n",
    "\\newcommand{\\eeas}{\\end{eqnarray*}}\n",
    "\\newcommand{\\cO}{\\mathcal{O}}\n",
    "\\newcommand{\\cF}{\\mathcal{F}}\n",
    "\\newcommand{\\cL}{\\mathcal{L}}\n",
    "$$\n",
    "\n"
   ]
  },
  {
   "cell_type": "markdown",
   "metadata": {},
   "source": [
    "In the following, a lookback call is defined to pay\n",
    "\n",
    "$$\n",
    "\\left(S_{\\text{max}}-K\\right)^+\n",
    "$$\n",
    "where $S_{\\text{max}}$ is the maximum and $K$ is the strike price."
   ]
  },
  {
   "cell_type": "markdown",
   "metadata": {},
   "source": [
    "### 1. (8 points)\n",
    "\n",
    "Use (for example) the stochastic volatility and local volatility Monte Carlo codes (`HestonMCxmax` and `HestonLvMCxmax` respectively) from Lecture 11 to price a one year at-the-money lookback call\n",
    "that is monitored once a day (assume 252 working days in a year).\n",
    "\n",
    "Use the usual HN parameters  - namely:\n",
    "\n",
    "$$\n",
    "\\begin{eqnarray*}\n",
    "v&=& 0.04\\\\ \\bar v &=& 0.04\\\\ \\lambda&=&10\\\\ \\eta&=&1\\\\\\rho&=&-1.\n",
    "\\end{eqnarray*}\n",
    "$$\n",
    "\n",
    "Use 252 time steps and 20,000 paths.  Do not use Richardson extrapolation."
   ]
  },
  {
   "cell_type": "markdown",
   "metadata": {},
   "source": [
    "### Solution:"
   ]
  },
  {
   "cell_type": "code",
   "execution_count": 36,
   "metadata": {},
   "outputs": [],
   "source": [
    "paramsCh4 <- list(lambda = 10,rho = -1,eta = 1,vbar = 0.04,v = 0.04)"
   ]
  },
  {
   "cell_type": "code",
   "execution_count": 37,
   "metadata": {},
   "outputs": [],
   "source": [
    "evolveAlfonsiF <- function(v,x,dt,W1,W2,L){\n",
    "  \n",
    "  eldt2 <- exp(-lambda*dt/2);\n",
    "  \n",
    "  #Variance process \n",
    "  vbarp <- vbar - eta^2/(4*lambda);\n",
    "  psi <- (1-eldt2)/lambda;\n",
    "  v1 <- v*eldt2+lambda*vbarp*psi;\n",
    "  v2 <- (v1 > 0) * v1; # Take v2 = 0 if v1<0, else v2=v1\n",
    "  par <- sqrt(v2) + eta/2 * sqrt(dt)*W2;\n",
    "  vf <- eldt2*par*par +lambda*vbarp*psi + v1 - v2;\n",
    "  # Full truncation\n",
    "  \n",
    "  # Log-stock process (Andersen equation (33))\n",
    "  vvf <- (v+vf > 0) * (v+vf);\n",
    "  dw <- vvf/2*dt;\n",
    "  x <- x  - dw/2 + rho2m1*sqrt(dw)*W1 +\n",
    "    rho/eta*(lambda*dw + vf-v -lambda*vbar*dt) ;\n",
    "  # Impose martingale constraint\n",
    "  x <- x - log(mean(exp(x)));\n",
    "  v <- vf;\n",
    "  return(cbind(x,v));\n",
    "}"
   ]
  },
  {
   "cell_type": "code",
   "execution_count": 38,
   "metadata": {},
   "outputs": [],
   "source": [
    "HestonMCxmax <- function(params){\n",
    "\n",
    "  is.even <- function(j){as.logical((j+1) %% 2)}\n",
    "  \n",
    "  res <- function(S0, T, AK, N, m, evolve,exactVols=NULL)\n",
    "  {\n",
    "    \n",
    "    lambda <<- params$lambda \n",
    "    rho <<- params$rho \n",
    "    eta <<- params$eta \n",
    "    vbar <<- params$vbar \n",
    "    v0 <<- params$v \n",
    "    \n",
    "    n <- m*2  #n is number of timesteps = 2*m so we can use Romberg extrapolation\n",
    "    sqrt2 <- sqrt(2) \n",
    "    rho2m1 <<- sqrt(1-rho*rho) \n",
    "    vbarp <<- vbar - eta^2/(4*lambda) \n",
    "    \n",
    "    negCount <- 0 \n",
    "    \n",
    "    # We use a vertical array, one element per M.C. path\n",
    "    x <- numeric(N);  v <- rep(1,N)*v0  \n",
    "    xmax <- x \n",
    "    xm <- x  \n",
    "    vm <- v\n",
    "    xmaxm <- xmax \n",
    "    xmin <- numeric(N)  \n",
    "    xminm <- numeric(N) \n",
    "    W1m <- numeric(N) \n",
    "    W2m <- numeric(N)  \n",
    "    \n",
    "    # Loop for bias computation (N small, n big)\n",
    "    for (i in 1:n)\n",
    "    {\n",
    "      # Two sets of correlated normal random vars.\n",
    "      \n",
    "      W1 <- rnorm(N) \n",
    "      W2 <- rnorm(N) \n",
    "      W1 <- W1 - mean(W1)\n",
    "      W1 <- W1/sd(W1) \n",
    "      W2 <- W2 - mean(W2)\n",
    "      W2 <- W2/sd(W2) \n",
    "      # Now W1 and W2 are forced to have mean=0 and sd=1\n",
    "      \n",
    "      W2p <- W2 - cor(W1,W2)*W1  # Eliminate actual correlation\n",
    "      W2p <- W2p - mean(W2p)  \n",
    "      W2 <- W2p/sd(W2p)  \n",
    "      # Now W1 and W2 have mean=0, sd=1 and correlation=0\n",
    "      \n",
    "      L <- rbinom(N, size=1, prob=1/2)  # Bernoulli rv for NV step\n",
    "      \n",
    "      # Add code for subgrid\n",
    "      W1m <- W1m + W1/sqrt2\n",
    "      W2m <- W2m + W2/sqrt2  # N(0,1) rv's for subgrid\n",
    "      \n",
    "      if (is.even(i)) {\n",
    "        #print(c(i,mean(W1m),mean(W2m),sd(W1m),sd(W2m),cor(W1m,W2m))) \n",
    "        resm <- evolve(vm,xm,T/m,W1m,W2m,L) \n",
    "        xnewm <- resm[,1] \n",
    "        xmaxm <- (xnewm>xmaxm)*(xnewm-xmaxm)+xmaxm \n",
    "        xminm <- (xnewm<xminm)*(xnewm-xminm)+xminm \n",
    "        xm <- xnewm \n",
    "        vm <- resm[,2] \n",
    "        W1m <- numeric(N)  \n",
    "        W2m <- numeric(N) \n",
    "      }\n",
    "      \n",
    "      res <- evolve(v,x,T/n,W1,W2,L) \n",
    "      xnew <- res[,1] \n",
    "      xmax <- (xnew>xmax)*(xnew-xmax)+xmax \n",
    "      xmin <- (xnew<xmin)*(xnew-xmin)+xmin \n",
    "      x <- xnew \n",
    "      v <- res[,2] \n",
    "      \n",
    "    }\n",
    "    \n",
    "    return(data.frame(x,xm,v,vm,xmax,xmaxm,xmin,xminm)) \n",
    "    \n",
    "  }\n",
    "  return(res) \n",
    "}"
   ]
  },
  {
   "cell_type": "code",
   "execution_count": 39,
   "metadata": {},
   "outputs": [],
   "source": [
    "# Monte Carlo with Richardson extrapolation\n",
    "HestonLvMCxmax <- function(params){\n",
    "\n",
    "  is.even <- function(j){as.logical((j+1) %% 2)}\n",
    "  \n",
    "  res <- function(S0, T, N, m)\n",
    "  {\n",
    "    \n",
    "    lambda <- params$lambda;\n",
    "    rho <- params$rho;\n",
    "    eta <- params$eta;\n",
    "    vbar <- params$vbar;\n",
    "    v0 <- params$v;\n",
    "    \n",
    "    lambdap <- lambda+eta/2;\n",
    "    vbarp <- vbar*lambda/lambdap;\n",
    "    \n",
    "    n <- m*2;\n",
    "    dt <- T/n;\n",
    "    dtm <- dt*2;\n",
    "    \n",
    "    sqrtdt <- sqrt(dt);\n",
    "    sqrtdtm <- sqrt(dtm);\n",
    "    sqrt2 <- sqrt(2);\n",
    "    \n",
    "    # We use a vertical array, one element per M.C. path\n",
    "    x <- numeric(N); vloc <- rep(v0,N); \n",
    "    xm <- numeric(N); vlocm <- rep(v0,N); \n",
    "    xmax <- numeric(N); xmaxm <- numeric(N);\n",
    "    xmin <- numeric(N); xminm <- numeric(N);\n",
    "    W1m <- numeric(N);\n",
    "    \n",
    "    # Loop over timesteps\n",
    "    for (i in 1:n)\n",
    "    {\n",
    "      W1 <- rnorm(N);\n",
    "      W1 <- W1 - mean(W1); W1 <- W1/sd(W1);\n",
    "      # Now W1 is forced to have mean=0 and sd=1  \n",
    "      \n",
    "      # Add code for subgrid\n",
    "      W1m <- W1m + W1/sqrt2; # N(0,1) rv's for subgrid\n",
    "      \n",
    "      # Compute local variance from formula 4.1 of TVS\n",
    "      ti <- i*dt;\n",
    "      elti <- exp(-lambdap*ti);\t\n",
    "      vlocf <- (v0-vbarp)*elti+vbarp-eta*x*(1-elti)/(lambdap*ti);\n",
    "      vlocf <- (vlocf>=0)*vlocf;\n",
    "      \n",
    "      # Approximate integrated variance\n",
    "      w <- (vlocf +vloc)/2*dt;\n",
    "      \n",
    "      xnew <- x - w/2 + sqrt(w)*W1;\n",
    "      xmax <- (xnew>xmax)*(xnew-xmax)+xmax;\n",
    "      xmin <- (xnew<xmin)*(xnew-xmin)+xmin;\n",
    "      x <- xnew;\n",
    "      vloc <- vlocf;\n",
    "      \n",
    "      \n",
    "      if (is.even(i)) {\n",
    "        \n",
    "        vlocfm <- (v0-vbarp)*elti+vbarp-eta*xm*(1-elti)/(lambdap*ti);\n",
    "        vlocfm <- (vlocfm>=0)*vlocfm;\n",
    "        \n",
    "        wm <- (vlocfm+vlocm)/2*dtm;\n",
    "        xnewm <- xm - wm/2 + sqrt(wm)*W1m;\n",
    "        xmaxm <- (xnewm>xmaxm)*(xnewm-xmaxm)+xmaxm;\n",
    "        xminm <- (xnewm<xminm)*(xnewm-xminm)+xminm;\n",
    "        xm <- xnewm;\n",
    "        vlocm <- vlocf;\n",
    "        W1m <- numeric(N);\n",
    "      } \n",
    "      \n",
    "      \n",
    "    }\n",
    "    \n",
    "    return(data.frame(x,xm,vloc,vlocm,xmax,xmaxm,xmin, xminm));\n",
    "    \n",
    "  }\n",
    "  return(res);\n",
    "}"
   ]
  },
  {
   "cell_type": "code",
   "execution_count": null,
   "metadata": {},
   "outputs": [],
   "source": [
    "sampleLV <- HestonLvMCxmax(paramsCh4)(S0=1, T=1, N=20000, m=252/2);\n",
    "sampleSV <- HestonMCxmax(paramsCh4)(S0=1, T=1, N=20000, m=252/2,evolve=evolveAlfonsiF);\n",
    "\n",
    "Price <- function(data,strike){\n",
    "  Smax <- exp(data$xmax)\n",
    "  K <- strike\n",
    "  V <- (Smax>K)*(Smax-K)\n",
    "  AV <- mean(V)\n",
    "  return(AV)  \n",
    "}\n",
    "\n",
    "atmSV<-Price(sampleSV,strike=1)\n",
    "atmLV<-Price(sampleLV,strike=1)\n",
    "cat(\"Stochastic Vol price: \",atmSV,\"\\n\")\n",
    "cat(\"Local Vol price: \",atmLV)"
   ]
  },
  {
   "cell_type": "markdown",
   "metadata": {},
   "source": [
    "### 2. (4 points) \n",
    "\n",
    "Plot local volatility and stochastic volatility prices of lookback options for a range of strikes from $1.0$ to $1.4$, reproducing Figure 8 of Lecture 11."
   ]
  },
  {
   "cell_type": "markdown",
   "metadata": {},
   "source": [
    "### Solution:"
   ]
  },
  {
   "cell_type": "code",
   "execution_count": null,
   "metadata": {},
   "outputs": [],
   "source": [
    "# Define lookback option based on the payoff\n",
    "LookBack <- function(data,strike)\n",
    "{\n",
    "    S_max <- exp(data$xmax)\n",
    "    K <- strike\n",
    "    V <- (S_max>K)*(S_max-K)\n",
    "    AV <- mean(V)\n",
    "    return(AV)  \n",
    "}"
   ]
  },
  {
   "cell_type": "code",
   "execution_count": null,
   "metadata": {},
   "outputs": [],
   "source": [
    "strikes <- seq(1,1.4,0.02)\n",
    "\n",
    "resSV <- sapply(strikes,function(K){LookBack(sampleSV,strike=K)})\n",
    "resLV <- sapply(strikes,function(K){LookBack(sampleLV,strike=K)})\n",
    "\n",
    "plot(strikes, resSV, col=\"blue\",type=\"l\",ylab=\"Price of Lookback Call Option\",xlab=\"Strike\",ylim=c(0,0.15))\n",
    "points(strikes, resLV, col=\"green\",type=\"l\")\n",
    "legend(\"topright\",c(\"stochastic volatility\",\"local volatility\"),col=c(\"blue\",\"green\"),lty=c(1,1))"
   ]
  },
  {
   "cell_type": "markdown",
   "metadata": {},
   "source": [
    "### 3. (6 points) \n",
    "\n",
    "What is the intuition behind the difference in price under stochastic volatility and local volatility assumptions respectively?  Appeal to the dynamics of the implied volatility skew in\n",
    "your answer. "
   ]
  },
  {
   "cell_type": "markdown",
   "metadata": {},
   "source": [
    "### Answer:\n",
    "\n",
    "When we sell a lookback call option struck at $K \\gt S$, we hedge it by buying two European call options struck at $K$. If the stock price reaches $K$, we need to sell two European calls struck at $K$, and buy two new calls struck at $K+\\Delta K$, which is equivalent to $2C(K+\\Delta K,K)-2C(K+\\Delta K,K+\\Delta K)$, proportional to the negative skew. \n",
    "Under local volatility, the skew is flatter, we will get less at each time we rebalance the hedging portfolio. So we charge more under local volatility assumptions. Thus, the prices under stochastic volatility are lower then those under local volatility."
   ]
  },
  {
   "cell_type": "markdown",
   "metadata": {},
   "source": [
    "## The effect of discreteness"
   ]
  },
  {
   "cell_type": "markdown",
   "metadata": {},
   "source": [
    "### 4. (6 points) \n",
    "\n",
    "Repeat Problem 1 with weekly monitoring (assume 52 weeks).  Estimate the difference in price using the Broadie, Glasserman and Kou adjustment.  Compare with your Monte Carlo results and comment."
   ]
  },
  {
   "cell_type": "markdown",
   "metadata": {},
   "source": [
    "### Solution:"
   ]
  },
  {
   "cell_type": "code",
   "execution_count": null,
   "metadata": {},
   "outputs": [],
   "source": [
    "sampleLV_Weekly <- HestonLvMCxmax(paramsCh4)(S0=1, T=1, N=20000, m=52/2);\n",
    "sampleSV_Weekly <- HestonMCxmax(paramsCh4)(S0=1, T=1, N=20000, m=52/2,evolve=evolveAlfonsiF);\n",
    "\n",
    "atmLV_Weekly <- LookBack(sampleLV_Weekly,strike=1)\n",
    "atmSV_Weekly <- LookBack(sampleSV_Weekly,strike=1)\n",
    "cat(\"Weekly monitoring, Stochastic Vol price: \",atmSV_Weekly,\" Local Vol price: \",atmLV_Weekly)"
   ]
  },
  {
   "cell_type": "markdown",
   "metadata": {},
   "source": [
    "Paste the code for Heston model."
   ]
  },
  {
   "cell_type": "code",
   "execution_count": null,
   "metadata": {},
   "outputs": [],
   "source": [
    "callOption <- function(phi, k, t)\n",
    "{\n",
    "    integrand <-  function(u){Re(exp(-1i*u*k)*phi(u - 1i/2, t)/(u^2 + 1/4))};\n",
    "    res <- 1 - exp(k/2)/pi*integrate(integrand,lower=0,upper=Inf,rel.tol=0.0000000001,subdivisions=1000)$value;\n",
    "    return(res);\n",
    "}"
   ]
  },
  {
   "cell_type": "code",
   "execution_count": null,
   "metadata": {},
   "outputs": [],
   "source": [
    "BSFormula <- function(S0, K, T, r, sigma)\n",
    "{\n",
    "    x <- log(S0/K)+r*T;\n",
    "    sig <- sigma*sqrt(T);\n",
    "    d1 <- x/sig+sig/2;\n",
    "    d2 <- d1 - sig;\n",
    "    pv <- exp(-r*T);\n",
    "    return( S0*pnorm(d1) - pv*K*pnorm(d2));\n",
    "}"
   ]
  },
  {
   "cell_type": "code",
   "execution_count": null,
   "metadata": {},
   "outputs": [],
   "source": [
    "BSImpliedVolCall <- function(S0, K, T, r, C)\n",
    "{\n",
    "    nK <- length(K);\n",
    "    sigmaL <- rep(1e-10,nK);\n",
    "    CL <- BSFormula(S0, K, T, r, sigmaL);\n",
    "    sigmaH <- rep(10,nK);\n",
    "    CH <- BSFormula(S0, K, T, r, sigmaH);\n",
    "    while (mean(sigmaH - sigmaL) > 1e-10)\n",
    "    {\n",
    "        sigma <- (sigmaL + sigmaH)/2;\n",
    "        CM <- BSFormula(S0, K, T, r, sigma);\n",
    "        CL <- CL + (CM < C)*(CM-CL);\n",
    "        sigmaL <- sigmaL + (CM < C)*(sigma-sigmaL);\n",
    "        CH <- CH + (CM >= C)*(CM-CH);\n",
    "        sigmaH <- sigmaH + (CM >= C)*(sigma-sigmaH);\n",
    "    }\n",
    "    return(sigma);\n",
    "}"
   ]
  },
  {
   "cell_type": "code",
   "execution_count": null,
   "metadata": {},
   "outputs": [],
   "source": [
    "bsvol <- function(phi,k, t)\n",
    "{\n",
    "    BSImpliedVolCall(1, exp(k), t, 0, callOption(phi,k,t))\n",
    "}"
   ]
  },
  {
   "cell_type": "code",
   "execution_count": null,
   "metadata": {},
   "outputs": [],
   "source": [
    "phiHeston <- function(params)\n",
    "{\n",
    "    lambda <- params$lambda;\n",
    "    rho <- params$rho;\n",
    "    eta <- params$eta;\n",
    "    vbar <- params$vbar;\n",
    "    v <- params$v;\n",
    "    \n",
    "    function(u, t)\n",
    "    {\n",
    "        al <- -u*u/2 - 1i*u/2;\n",
    "        bet <- lambda - rho*eta*1i*u;\n",
    "        gam <- eta^2/2;\n",
    "        d <- sqrt(bet*bet - 4*al*gam);\n",
    "        rp <- (bet + d)/(2*gam);\n",
    "        rm <- (bet - d)/(2*gam);\n",
    "        g <- rm / rp;\n",
    "        D <- rm * (1 - exp(-d*t))/ (1 - g*exp(-d*t));\n",
    "        C <- lambda * (rm * t - 2/eta^2 * log( (1 - g*exp(-(d*t)))/(1 - g) ) );\n",
    "        return(exp(C*vbar + D*v));\n",
    "    }\n",
    "}"
   ]
  },
  {
   "cell_type": "code",
   "execution_count": null,
   "metadata": {},
   "outputs": [],
   "source": [
    "impvolHeston <- function(params)\n",
    "{\n",
    "    function(k, t)\n",
    "    {\n",
    "        bsvol(phiHeston(params),k,t)\n",
    "    }\n",
    "}"
   ]
  },
  {
   "cell_type": "code",
   "execution_count": null,
   "metadata": {},
   "outputs": [],
   "source": [
    "sigma <- impvolHeston(paramsCh4)(k=0,t=1)\n",
    "cat(\"atm implied vol: \", sigma)"
   ]
  },
  {
   "cell_type": "code",
   "execution_count": null,
   "metadata": {},
   "outputs": [],
   "source": [
    "LookBackCtn <- function(strike)\n",
    "{\n",
    "    return(2*BSFormula(S0=1, K=strike, T=1, r=0, sigma=sigma))\n",
    "}"
   ]
  },
  {
   "cell_type": "code",
   "execution_count": null,
   "metadata": {},
   "outputs": [],
   "source": [
    "beta<-0.5826\n",
    "\n",
    "lb_Daily <- LookBackCtn(exp(-beta*sigma*sqrt(1/252)))-(1-exp(-beta*sigma*sqrt(1/252)))\n",
    "lb_Weekly <- LookBackCtn(exp(-beta*sigma*sqrt(1/52)))-(1-exp(-beta*sigma*sqrt(1/52)))"
   ]
  },
  {
   "cell_type": "code",
   "execution_count": null,
   "metadata": {},
   "outputs": [],
   "source": [
    "x<-c(\"Stochastic Vol\",atmSV,atmSV_Weekly,atmSV-atmSV_Weekly)\n",
    "y<-c(\"Local Vol\",atmLV,atmLV_Weekly,atmLV-atmLV_Weekly)\n",
    "z<-c(\"Broadie, Glasserman and Kou adjustment\",lb_Daily,lb_Weekly,lb_Daily-lb_Weekly)\n",
    "data = rbind(x,y,z)\n",
    "colnames(data) = c('model', 'daily','weekly','diff daily-weekly')\n",
    "rownames(data) = c()\n",
    "data"
   ]
  },
  {
   "cell_type": "markdown",
   "metadata": {},
   "source": [
    "Note: Using BGK adjustment, the price difference between daily and weekly monitoring is one order of magnitude smaller than that from Monte Carlo, under stochastic volatility or local volatility."
   ]
  }
 ],
 "metadata": {
  "kernelspec": {
   "display_name": "R [Anaconda3]",
   "language": "R",
   "name": "R [Anaconda3]"
  },
  "language_info": {
   "codemirror_mode": "r",
   "file_extension": ".r",
   "mimetype": "text/x-r-source",
   "name": "R",
   "pygments_lexer": "r",
   "version": "3.4.3"
  }
 },
 "nbformat": 4,
 "nbformat_minor": 1
}
