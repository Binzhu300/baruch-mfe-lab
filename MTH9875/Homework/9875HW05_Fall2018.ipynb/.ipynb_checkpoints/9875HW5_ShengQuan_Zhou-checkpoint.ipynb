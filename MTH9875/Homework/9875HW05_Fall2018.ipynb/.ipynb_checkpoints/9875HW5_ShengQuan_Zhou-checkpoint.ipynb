{
 "cells": [
  {
   "cell_type": "markdown",
   "metadata": {},
   "source": [
    "# MTH9875 Homework 5\n",
    "\n",
    "### ShengQuan Zhou\n",
    "\n",
    "Assigned: September 27, 2018.\n",
    "Due: October 11, 2018 by 6pm.\n",
    "\n",
    "Late homework **will not be accepted**.\n",
    " $$\n",
    "\\newcommand{\\bea}{\\begin{eqnarray}}\n",
    "\\newcommand{\\eea}{\\end{eqnarray}}\n",
    "\\newcommand{\\beas}{\\begin{eqnarray*}}\n",
    "\\newcommand{\\eeas}{\\end{eqnarray*}}\n",
    "\\newcommand{\\supp}{\\mathrm{supp}}\n",
    "\\newcommand{\\E}{\\mathbb{E} }\n",
    "\\def\\Cov{{ \\mbox{Cov} }}\n",
    "\\def\\Var{{ \\mbox{Var} }}\n",
    "\\newcommand{\\1}{\\mathbf{1} }\n",
    "\\newcommand{\\cF}{\\mathcal{F} }\n",
    "\\newcommand{\\cG}{\\mathcal{G} }\n",
    "\\newcommand{\\cV}{\\mathcal{V} }\n",
    "\\newcommand{\\cL}{\\mathcal{L} }\n",
    "\\newcommand{\\PP}{\\mathbb{P} }\n",
    "\\newcommand{\\QQ}{\\mathbb{Q} }\n",
    "\\newcommand{\\RR}{\\mathbb{R} }\n",
    "\\newcommand{\\DD}{\\mathbb{D} }\n",
    "\\newcommand{\\HH}{\\mathbb{H} }\n",
    "\\newcommand{\\spn}{\\mathrm{span} }\n",
    "\\newcommand{\\cov}{\\mathrm{cov} }\n",
    "\\newcommand{\\HS}{\\mathcal{L}_{\\mathrm{HS}} }\n",
    "\\newcommand{\\trace}{\\mathrm{trace} }\n",
    "\\newcommand{\\LL}{\\mathcal{L} }\n",
    "\\newcommand{\\s}{\\mathcal{S} }\n",
    "\\newcommand{\\ee}{\\mathcal{E} }\n",
    "\\newcommand{\\ff}{\\mathcal{F} }\n",
    "\\newcommand{\\hh}{\\mathcal{H} }\n",
    "\\newcommand{\\bb}{\\mathcal{B} }\n",
    "\\newcommand{\\dd}{\\mathcal{D} }\n",
    "\\newcommand{\\g}{\\mathcal{G} }\n",
    "\\newcommand{\\half}{\\frac{1}{2} }\n",
    "\\newcommand{\\T}{\\mathcal{T} }\n",
    "\\newcommand{\\bi}{\\begin{itemize}}\n",
    "\\newcommand{\\ei}{\\end{itemize}}\n",
    "\\newcommand{\\beq}{\\begin{equation}}\n",
    "\\newcommand{\\eeq}{\\end{equation}}\n",
    "\\newcommand{\\ee}[1]{\\mathbb{E}\\left[{#1}\\right]}\n",
    "\\newcommand{\\eef}[1]{\\mathbb{E}\\left[\\left.{#1}\\right|\\cF_t\\right]}\n",
    "\\newcommand{\\Rplus}{\\mathbb{R}_{\\geqslant 0}}\n",
    "\\newcommand{\\Rpplus}{\\mathbb{R}_{> 0}}\n",
    "\\newcommand{\\Rminus}{\\mathbb{R}_{\\leqslant 0}}\n",
    "\\newcommand{\\p}{\\partial}\n",
    "\\newcommand{\\ui}{\\textrm{i}}\n",
    "\\newcommand{\\mP}{\\mathbb{P}}\n",
    "\\newcommand{\\mQ}{\\mathbb{Q}}\n",
    "\\newcommand{\\angl}[1]{\\langle{#1}\\rangle}\n",
    "\\newcommand{\\var}{{\\rm var}}\n",
    "\\newcommand{\\cov}{{\\rm cov}}\n",
    "\\newcommand{\\covf}[1]{\\cov\\left[\\left.{#1}\\right|\\cF_t\\right]}\n",
    "\\newcommand{\\varf}[1]{\\var\\left[\\left.{#1}\\right|\\cF_t\\right]}\n",
    "$$  "
   ]
  },
  {
   "cell_type": "markdown",
   "metadata": {},
   "source": [
    "<font color = \"red\">Homework is to be done by each student individually.  To receive full credit, you must email a completed copy of this iPython notebook to Victor Istratov (stavka@gmail.com), Yassine Ghalem (yassine.ghalem@gmail.com) and Jim Gatheral (jim.gatheral@gmail.com) by the due date and time.  All R-code must run correctly and solutions must be written up neatly in Markdown/LaTeX format."
   ]
  },
  {
   "cell_type": "markdown",
   "metadata": {},
   "source": [
    "### 0. (0 points)\n",
    "\n",
    "Read Chapter 11 of The Volatility Surface"
   ]
  },
  {
   "cell_type": "markdown",
   "metadata": {},
   "source": [
    "### Solution:\n",
    "\n",
    "Done."
   ]
  },
  {
   "cell_type": "markdown",
   "metadata": {},
   "source": [
    "### As usual, set up your R-environment\n",
    "\n",
    "The following code sources the Heston Monte Carlo simulation code `HestonMC2.R` from Lecture 4."
   ]
  },
  {
   "cell_type": "code",
   "execution_count": 68,
   "metadata": {},
   "outputs": [],
   "source": [
    "download.file(url=\"http://mfe.baruch.cuny.edu/wp-content/uploads/2018/09/9875-5.zip\", destfile=\"9875-5.zip\")\n",
    "unzip(zipfile=\"9875-5.zip\")\n",
    "\n",
    "source(\"HestonMC2.R\")"
   ]
  },
  {
   "cell_type": "code",
   "execution_count": 69,
   "metadata": {},
   "outputs": [],
   "source": [
    "library(repr)\n",
    "options(repr.plot.height=5)"
   ]
  },
  {
   "cell_type": "markdown",
   "metadata": {},
   "source": [
    "## Demonstrate variance swap replication path-by-path"
   ]
  },
  {
   "cell_type": "markdown",
   "metadata": {},
   "source": [
    "### 1. (8 points) \n",
    "\n",
    "(a)\n",
    "\n",
    "Amend the Heston Monte Carlo code `HestonMC2` from `HestonMC2.R` to return the variance swap hedging error (total profit or loss on rebalancing) for each Monte Carlo path.\n",
    "\n",
    "(b) \n",
    "\n",
    "With BCC parameters:\n",
    "\n",
    "$$\n",
    "\\begin{eqnarray*} v&=& 0.04\\\\ \\bar v &=& 0.04\\\\ \\lambda&=&1.15\\\\\n",
    "\\eta&=&0.39\\\\\\rho&=&-0.64\n",
    "\\end{eqnarray*}\n",
    "$$\n",
    "\n",
    "demonstrate that the \n",
    "variance swap hedging strategy outlined on page 136 of *The\n",
    "Volatility Surface* replicates the variance swap payoff path-by-path independently of the dynamical assumptions.  Assume a 1-year variance swap, use 252 time steps and 1,000 paths.  \n",
    "\n",
    "(c) \n",
    "\n",
    "Compute the mean and standard deviation of the hedging errors.\n",
    "\n",
    "(d)\n",
    "\n",
    "Draw a histogram of the variance swap replication errors.  Use `breaks=200`."
   ]
  },
  {
   "cell_type": "markdown",
   "metadata": {},
   "source": [
    "### Solution (a)"
   ]
  },
  {
   "cell_type": "code",
   "execution_count": 70,
   "metadata": {},
   "outputs": [],
   "source": [
    "HestonMC2Modified <- function (params) \n",
    "{\n",
    "    is.even <- function(j) {\n",
    "        as.logical((j + 1)%%2)\n",
    "    }\n",
    "    \n",
    "    res <- function(S0, T, AK, N, m, evolve, exactVols = NULL) {\n",
    "        lambda <<- params$lambda\n",
    "        rho <<- params$rho\n",
    "        eta <<- params$eta\n",
    "        vbar <<- params$vbar\n",
    "        v0 <<- params$v\n",
    "        \n",
    "        #n is number of timesteps = 2*m so we can use Romberg extrapolation\n",
    "        n <- m * 2\n",
    "        sqrt2 <- sqrt(2)\n",
    "        rho2m1 <<- sqrt(1 - rho * rho)\n",
    "        vbarp <<- vbar - eta^2/(4 * lambda)\n",
    "        negCount <- 0\n",
    "        \n",
    "        # We use a vertical array, one element per M.C. path\n",
    "        x <- rep(0, N)\n",
    "        v <- rep(1, N) * v0\n",
    "        xm <- x\n",
    "        vm <- v\n",
    "        W1m <- rep(0, N)\n",
    "        W2m <- rep(0, N)\n",
    "        \n",
    "        ### variance swap\n",
    "        varswap<-numeric(N)\n",
    "        varswap_replication<-numeric(N)\n",
    "        \n",
    "        for (i in 1:n) {\n",
    "            \n",
    "            # Two sets of correlated normal random vars.\n",
    "            W1 <- rnorm(N)\n",
    "            W2 <- rnorm(N)\n",
    "            W1 <- W1 - mean(W1)\n",
    "            W1 <- W1/sd(W1)\n",
    "            W2 <- W2 - mean(W2)\n",
    "            W2 <- W2/sd(W2)\n",
    "            # Now W1 and W2 are forced to have mean=0 and sd=1\n",
    "            \n",
    "            # Orthogonalization, remove correlation\n",
    "            W2p <- W2 - cor(W1, W2) * W1\n",
    "            W2p <- W2p - mean(W2p)\n",
    "            W2 <- W2p/sd(W2p)\n",
    "            # Now W1 and W2 have mean=0, sd=1 and correlation=0\n",
    "            \n",
    "            # Bernoulli rv for NV step\n",
    "            L <- rbinom(N, size = 1, prob = 1/2)\n",
    "            \n",
    "            # Code N(0,1) rv's for subgrid\n",
    "            W1m <- W1m + W1/sqrt2\n",
    "            W2m <- W2m + W2/sqrt2\n",
    "            \n",
    "            if (is.even(i)) {\n",
    "                #print(c(i,mean(W1m),mean(W2m),sd(W1m),sd(W2m),cor(W1m,W2m))) \n",
    "                resm <- evolve(vm, xm, T/m, W1m, W2m, L)\n",
    "                xm <- resm[, 1]\n",
    "                vm <- resm[, 2]\n",
    "                W1m <- rep(0, N)\n",
    "                W2m <- rep(0, N)\n",
    "            }\n",
    "            res <- evolve(v, x, T/n, W1, W2, L)\n",
    "            xnew <- res[,1]\n",
    "            xold <- x\n",
    "            x <- xnew\n",
    "            v <- res[, 2]\n",
    "            varswap<-varswap+v*T/n\n",
    "            varswap_replication<-varswap_replication+(exp(x)-exp(xold))/exp(xold)\n",
    "            negCount <- negCount + mean(v < 0)/n\n",
    "        }\n",
    "        \n",
    "        varswap_replication<-2*varswap_replication-2*log(exp(x)/S0)\n",
    "\n",
    "        # All code for options and implied volatilities calculations are removed.\n",
    "        # No reference to options in this exercise.\n",
    "        results <- list(\"varswap\"=varswap,\"varswap_replication\"=varswap_replication)\n",
    "        return(results)\n",
    "    }\n",
    "    return(res)\n",
    "}"
   ]
  },
  {
   "cell_type": "markdown",
   "metadata": {},
   "source": [
    "### Solution (b)"
   ]
  },
  {
   "cell_type": "code",
   "execution_count": 71,
   "metadata": {},
   "outputs": [],
   "source": [
    "# copy from Lecture 4\n",
    "evolveAlfonsiF <- function(v,x,dt,W1,W2,L=NULL){\n",
    "\n",
    "    eldt2 <- exp(-lambda*dt/2);\n",
    "\n",
    "    #Variance process\n",
    "    vbarp <- vbar - eta^2/(4*lambda);\n",
    "    psi <- (1-eldt2)/lambda;\n",
    "    v1 <- v*eldt2+lambda*vbarp*psi;\n",
    "    v2 <- (v1 > 0) * v1; # Take v2 = 0 if v1<0, else v2=v1\n",
    "    par <- sqrt(v2) + eta/2 * sqrt(dt)*W2;\n",
    "    vf <- eldt2*par*par +lambda*vbarp*psi + v1 - v2;\n",
    "\n",
    "    # Log-stock process (Andersen equation (33))\n",
    "    vvf <- (v+vf > 0) * (v+vf);\n",
    "    dw <- vvf/2*dt;\n",
    "    x <- x  - dw/2 + rho2m1*sqrt(dw)*W1 + rho/eta*(lambda*dw + vf-v -lambda*vbar*dt) ;\n",
    "    # Impose martingale constraint\n",
    "    x <- x - log(mean(exp(x)));\n",
    "    v <- vf;\n",
    "    return(cbind(x,v));\n",
    "}\n",
    "\n",
    "paramsBCC <- list(lambda=1.15,rho=-0.64,eta=0.39,vbar=0.04,v=0.04)"
   ]
  },
  {
   "cell_type": "code",
   "execution_count": 72,
   "metadata": {},
   "outputs": [
    {
     "data": {
      "text/html": [
       "<table>\n",
       "<thead><tr><th scope=col>variance swap</th><th scope=col>replication</th><th scope=col>hedging error</th></tr></thead>\n",
       "<tbody>\n",
       "\t<tr><td>0.04006657   </td><td>0.04002574   </td><td>-4.082929e-05</td></tr>\n",
       "</tbody>\n",
       "</table>\n"
      ],
      "text/latex": [
       "\\begin{tabular}{lll}\n",
       " variance swap & replication & hedging error\\\\\n",
       "\\hline\n",
       "\t 0.04006657    & 0.04002574    & -4.082929e-05\\\\\n",
       "\\end{tabular}\n"
      ],
      "text/markdown": [
       "\n",
       "variance swap | replication | hedging error | \n",
       "|---|\n",
       "| 0.04006657    | 0.04002574    | -4.082929e-05 | \n",
       "\n",
       "\n"
      ],
      "text/plain": [
       "     variance swap replication hedging error\n",
       "[1,] 0.04006657    0.04002574  -4.082929e-05"
      ]
     },
     "metadata": {},
     "output_type": "display_data"
    }
   ],
   "source": [
    "### Run Monte Carlo and save variance swap and its replication\n",
    "### No need to do option calculation: set Ks to empty.\n",
    "Ks<- c()\n",
    "res_MC <- HestonMC2Modified(paramsBCC)(S0=1, T=1, AK=Ks, N=1000, m=126, evolve=evolveAlfonsiF)\n",
    "varswap_MC <- res_MC$varswap\n",
    "varswap_replication_MC <- res_MC$varswap_replication\n",
    "varswap_mean<-mean(varswap_MC)\n",
    "varswap_replication_mean<-mean(varswap_replication_MC)\n",
    "x<-c(varswap_mean,varswap_replication_mean,varswap_replication_mean-varswap_mean)\n",
    "res <- rbind(x)\n",
    "colnames(res)<-c(\"variance swap\",\"replication\",\"hedging error\")\n",
    "rownames(res) <- c()\n",
    "res"
   ]
  },
  {
   "cell_type": "markdown",
   "metadata": {},
   "source": [
    "### Solution (c)"
   ]
  },
  {
   "cell_type": "code",
   "execution_count": 73,
   "metadata": {},
   "outputs": [
    {
     "data": {
      "text/html": [
       "<table>\n",
       "<thead><tr><th scope=col>mean</th><th scope=col>std</th></tr></thead>\n",
       "<tbody>\n",
       "\t<tr><td>-4.082929e-05</td><td>0.005027798  </td></tr>\n",
       "</tbody>\n",
       "</table>\n"
      ],
      "text/latex": [
       "\\begin{tabular}{ll}\n",
       " mean & std\\\\\n",
       "\\hline\n",
       "\t -4.082929e-05 & 0.005027798  \\\\\n",
       "\\end{tabular}\n"
      ],
      "text/markdown": [
       "\n",
       "mean | std | \n",
       "|---|\n",
       "| -4.082929e-05 | 0.005027798   | \n",
       "\n",
       "\n"
      ],
      "text/plain": [
       "     mean          std        \n",
       "[1,] -4.082929e-05 0.005027798"
      ]
     },
     "metadata": {},
     "output_type": "display_data"
    }
   ],
   "source": [
    "y<-c(varswap_replication_mean-varswap_mean,sd(varswap_replication_MC-varswap_MC))\n",
    "res1 <- rbind(y)\n",
    "colnames(res1)<-c(\"mean\",\"std\")\n",
    "rownames(res1) <-c()\n",
    "res1"
   ]
  },
  {
   "cell_type": "markdown",
   "metadata": {},
   "source": [
    "### Solution (d)"
   ]
  },
  {
   "cell_type": "code",
   "execution_count": 74,
   "metadata": {},
   "outputs": [
    {
     "data": {
      "image/png": "[encoded data removed]",
      "text/plain": [
       "Plot with title \"Histogram of varswap_replication_MC - varswap_MC\""
      ]
     },
     "metadata": {},
     "output_type": "display_data"
    }
   ],
   "source": [
    "hist(varswap_replication_MC-varswap_MC, xlab=\"Replication Errors\", breaks=200)"
   ]
  },
  {
   "cell_type": "markdown",
   "metadata": {},
   "source": [
    "## The gamma swap"
   ]
  },
  {
   "cell_type": "markdown",
   "metadata": {},
   "source": [
    "### 2. (8 points)\n",
    "\n",
    "Assume a stock process of the form\n",
    "\n",
    "$$\n",
    "\\frac{dS_t}{S_t}=\\sigma_t\\,dZ_t\n",
    "$$\n",
    "\n",
    "where $\\sigma_t$ may be stochastic.\n",
    "\n",
    "Wlog, let $S_t=1$.  A continuous time version of the payoff of a gamma swap is\n",
    "$\n",
    "\\int_t^T\\,S_u\\,\\sigma_u^2\\,du = \\int_t^T\\,S_u\\,v_u\\,du\n",
    "$.\n",
    "\n",
    "(a)\n",
    "\n",
    "Compute $d(S_t\\,\\log S_t)$ using Itô's Lemma.\n",
    "\n",
    "(b)\n",
    "\n",
    "Deduce the semi-static model-free hedging strategy involving a static hedge in European options and continuous rebalancing in the stock. \n",
    "\n",
    "(c) \n",
    "\n",
    "Using the spanning formula, derive an expression for the weights of the options in the static hedge."
   ]
  },
  {
   "cell_type": "markdown",
   "metadata": {},
   "source": [
    "### Solution (a)\n",
    "\n",
    "\\begin{eqnarray}\n",
    "d(S_t\\log S_t)&=&S_td\\log S_t+\\log S_tdS_t+dS_td\\log S_t\\\\\n",
    "&=& dS_t - \\frac{1}{2}\\sigma_t^2S_tdt +\\log S_tdS_t + \\sigma_t^2S_tdt\\\\\n",
    "&=&(1+\\log S_t)dS_t+\\frac{1}{2}\\sigma_t^2S_tdt.\n",
    "\\end{eqnarray}"
   ]
  },
  {
   "cell_type": "markdown",
   "metadata": {},
   "source": [
    "### Solution (b)\n",
    "\\begin{eqnarray}\n",
    "S_T\\log S_T-S_0\\log S_0 &=& \\int_0^T d(S_t\\log S_t)\\\\\n",
    "&=&\\int_0^T (1+\\log S_t)dS_t+\\frac{1}{2}\\int_0^T\\sigma_t^2S_tdt.\n",
    "\\end{eqnarray}\n",
    "Thus,\n",
    "\\begin{eqnarray}\n",
    "\\int_0^T\\sigma_t^2S_tdt=2S_T\\log S_T-2S_0\\log S_0-2\\int_0^T (1+\\log S_t)dS_t\n",
    "\\end{eqnarray}\n",
    "\n",
    "$2S_T\\log S_T$ is the static hedge, $-2\\int_0^T (1+\\log S_t)dS_t$ is continuous rebalancing where $-2 (1+\\log S_t)$ is the position at time $t$ to take in the stock."
   ]
  },
  {
   "cell_type": "markdown",
   "metadata": {},
   "source": [
    "### Solution (c)\n",
    "\n",
    "Define $g(S_T)= 2S_T\\log S_T$\n",
    "$$\n",
    "g(S_T)=g(F) + g'(F)(S_T-F) +  \\int_0^F g''(K)(K-S_T)^+\\,dK + \\int_F^\\infty g''(K)(S_T-K)^+ dK\n",
    "$$\n",
    "Let $F=S_0$, we have\n",
    "$$\n",
    "g'(S_T)=2\\log S_T+2, \\quad\n",
    "g''(S_T)=\\frac{2}{S_T}.\n",
    "$$\n",
    "Plug in the expansion we get weights $\\dfrac{2}{K}$ in vanilla put and call options, and $2\\log F + 2$ as weights in underlying stocks, plus any remaining cash positions."
   ]
  },
  {
   "cell_type": "markdown",
   "metadata": {},
   "source": [
    "### 3. (8 points) \n",
    "\n",
    "Recall the definition of the gamma swap:\n",
    "$$\\cG_t(T) =2\\,\\E\\left[\\frac{S_T}{S_t}\\,\\log \\frac{S_T}{S_t}\\right]= {\\mathbb{E} }\\left [\\left. \\int_t^T\\,\\frac{S_u}{S_t}\\,v_u\\,du \\right| {\\mathcal{F} }_t\\right].$$\n",
    "\n",
    "Further recall question 2(b) of HW3 where you showed that in the Heston model,\n",
    "$$\n",
    "\\begin{equation}\n",
    "\\eef{S_T\\,v_T}=S_t\\,v_t\\,e^{-(\\lambda-\\rho\\,\\eta)\\,(T-t)}+\\lambda\\,S_t\\,\\bar v\\,\\int_t^T\\,e^{-(\\lambda-\\rho\\,\\eta)\\,(T-s)}\\,ds.\n",
    "\\end{equation}\n",
    "$$\n",
    "\n",
    "(a) Perform the above integration explicitly to derive a closed-form expression for the gamma swap rate\n",
    "$\n",
    "\\frac{1}{T-t}\\,\\cG_t(T).\n",
    "$\n",
    "\n",
    "(b) Compute the 1-Year Heston gamma swap rate with BCC parameters.\n",
    "\n",
    "(c) With BCC parameters, plot the Heston leverage swap rate $\n",
    "\\frac{1}{T-t}\\cL_t(T) = \\frac{1}{T-t}\\,\\cG_t(T)- \\frac{1}{T-t}\\,\\cV_t(T)= \\frac{1}{T-t}\\,\\cG_t(T)- \\bar v.\n",
    "$\n",
    "as a function of $\\tau =T-t$ from $\\tau=0$ to $\\tau=3$.\n"
   ]
  },
  {
   "cell_type": "markdown",
   "metadata": {},
   "source": [
    "### Solution (a)\n",
    "\n",
    "Carry out the integral explicitly, one has\n",
    "$$\n",
    "\\eef{S_T\\,v_T}=S_t\\,v_t\\,e^{-(\\lambda-\\rho\\,\\eta)\\,(T-t)}+\\lambda\\,S_t\\,\\bar v\\,\\frac{1 - e^{-(\\lambda-\\rho\\eta)(T-t)}}{\\lambda-\\rho\\eta}.\n",
    "$$\n",
    "Thus,\n",
    "\\begin{eqnarray}\n",
    "\\mathbb{E}\\left[ \\int_t^T S_u v_u du \\big| \\mathcal{F} _ t \\right] &=& \\int_t^T  \\mathbb{E}\\left[S_u v_u \\big| \\mathcal{F} _ t \\right] du \\\\\n",
    "&=& \\int_t^T \\left[ S_t\\,v_t\\,e^{-(\\lambda-\\rho\\,\\eta)\\,(u-t)}+\\lambda\\,S_t\\,\\bar v\\,\\frac{1 - e^{-(\\lambda-\\rho\\eta)(u-t)}}{\\lambda-\\rho\\eta} \\right] du \\\\\n",
    "&=& S_t v_t \\int_t^T e^{-(\\lambda-\\rho\\,\\eta)\\,(u-t)} du + \\frac{\\lambda S_t \\bar v}{\\lambda -\\rho\\eta}(T-t)\n",
    "- \\frac{\\lambda S_t \\bar v}{\\lambda -\\rho\\eta}\\int_t^T e^{-(\\lambda-\\rho\\,\\eta)\\,(u-t)} du \\\\\n",
    "&=& S_t v_t \\frac{1 - e^{-(\\lambda-\\rho\\,\\eta)\\,(T-t)} }{\\lambda-\\rho\\,\\eta} \n",
    "+  S_t \\bar v \\frac{\\lambda(T-t)}{\\lambda -\\rho\\eta}- S_t \\bar v \\frac{\\lambda }{(\\lambda-\\rho\\,\\eta)^2}\\left[ 1 - e^{-(\\lambda-\\rho\\,\\eta)\\,(T-t)} \\right].\n",
    "\\end{eqnarray}\n",
    "Divided by $S_t$, we get\n",
    "$$\n",
    "\\cG_t(T) = \\mathbb{E}\\left[ \\int_t^T \\frac{S_u}{S_t} v_u du \\big| \\mathcal{F} _ t \\right]\n",
    "= v_t \\frac{1 - e^{-(\\lambda-\\rho\\,\\eta)\\,(T-t)} }{\\lambda-\\rho\\,\\eta} \n",
    "+  \\bar v \\frac{\\lambda(T-t)}{\\lambda -\\rho\\eta}-  \\bar v \\frac{\\lambda }{(\\lambda-\\rho\\,\\eta)^2}\\left[ 1 - e^{-(\\lambda-\\rho\\,\\eta)\\,(T-t)} \\right].\n",
    "$$\n",
    "The gamma swap rate\n",
    "$$\n",
    "\\frac{1}{T-t}\\,\\cG_t(T)\n",
    "= v_t \\left[\\frac{1 - e^{-(\\lambda-\\rho\\,\\eta)\\,(T-t)} }{(\\lambda-\\rho\\,\\eta)(T-t)} \\right]\n",
    "+  \\bar v \\frac{\\lambda}{\\lambda -\\rho\\eta} \\left[1 -  \\frac{1 - e^{-(\\lambda-\\rho\\,\\eta)\\,(T-t)} }{(\\lambda-\\rho\\,\\eta)(T-t)}\\right].\n",
    "$$\n",
    "Denote a weighting factor\n",
    "$$\n",
    "w \\triangleq \\frac{1 - e^{-(\\lambda-\\rho\\,\\eta)\\,(T-t)} }{(\\lambda-\\rho\\,\\eta)(T-t)},\n",
    "$$\n",
    "then\n",
    "$$\n",
    "\\frac{1}{T-t}\\,\\cG_t(T) = w v_t + (1-w) \\frac{\\lambda \\bar v}{\\lambda -\\rho\\eta}.\n",
    "$$\n",
    "Note that in the limiting cases\n",
    "\\begin{eqnarray}\n",
    "&&\\frac{1}{T-t}\\,\\cG_t(T)\\rightarrow v_t, \\quad \\text{as }T-t\\rightarrow 0,\\\\\n",
    "&&\\frac{1}{T-t}\\,\\cG_t(T)\\rightarrow   \\frac{\\lambda \\bar v }{\\lambda -\\rho\\eta}, \\quad \\text{ as } T-t\\rightarrow \\infty.\n",
    "\\end{eqnarray}\n"
   ]
  },
  {
   "cell_type": "markdown",
   "metadata": {},
   "source": [
    "### Solution (b)\n",
    "\n",
    "The 1-Year Heston gamma swap rate with BCC parameters $\\approx 0.036706$, as shown in the following code."
   ]
  },
  {
   "cell_type": "code",
   "execution_count": 75,
   "metadata": {},
   "outputs": [
    {
     "data": {
      "text/html": [
       "0.0367059672018852"
      ],
      "text/latex": [
       "0.0367059672018852"
      ],
      "text/markdown": [
       "0.0367059672018852"
      ],
      "text/plain": [
       "[1] 0.03670597"
      ]
     },
     "metadata": {},
     "output_type": "display_data"
    }
   ],
   "source": [
    "GammaSwapRate <- function (params, tau) {\n",
    "    lambda <<- params$lambda\n",
    "    rho <<- params$rho\n",
    "    eta <<- params$eta\n",
    "    vbar <<- params$vbar\n",
    "    v0 <<- params$v\n",
    "    \n",
    "    w <<- (1-exp(-(lambda-rho*eta)*tau))/((lambda-rho*eta)*tau)\n",
    "    gamma_swap_rate <<- w*v0 + (1-w)*lambda*vbar/(lambda-rho*eta)\n",
    "    \n",
    "    return(gamma_swap_rate)\n",
    "}\n",
    "\n",
    "GammaSwapRate(paramsBCC, 1)"
   ]
  },
  {
   "cell_type": "markdown",
   "metadata": {},
   "source": [
    "### Solution (c)"
   ]
  },
  {
   "cell_type": "code",
   "execution_count": 76,
   "metadata": {},
   "outputs": [],
   "source": [
    "HestonLeverageSwapRate <- function (params) {\n",
    "    \n",
    "    HestonLeverageSwapRateParams <- function(tau) {\n",
    "        vbar <<- params$vbar\n",
    "        gamma_swap_rate <<- GammaSwapRate(params,tau)\n",
    "        return(gamma_swap_rate-vbar)\n",
    "    }\n",
    "    \n",
    "    return(HestonLeverageSwapRateParams)\n",
    "}\n",
    "\n",
    "# Functional programming:)\n",
    "HestonLeverageSwapRateBCC <- HestonLeverageSwapRate(paramsBCC)"
   ]
  },
  {
   "cell_type": "code",
   "execution_count": 77,
   "metadata": {},
   "outputs": [
    {
     "data": {
      "image/png": "[encoded data removed]",
      "text/plain": [
       "plot without title"
      ]
     },
     "metadata": {},
     "output_type": "display_data"
    }
   ],
   "source": [
    "ts <- seq(0, 3, 0.001)\n",
    "HestonLeverageSwapRateBCCVectorized <- Vectorize(HestonLeverageSwapRateBCC)\n",
    "HestonLeverageSwapRateBCC_results <- HestonLeverageSwapRateBCCVectorized(ts)\n",
    "plot(ts, HestonLeverageSwapRateBCC_results, col=\"red\",ylab=\"Heston Leverage Swap Rate (BCC)\",xlab=\"tau\", pch='.')"
   ]
  },
  {
   "cell_type": "markdown",
   "metadata": {},
   "source": [
    "### 4. (8 points) \n",
    "\n",
    "(a) Repeat Problem 1 for a gamma swap with the static hedge you derived for the gamma swap in Problem 2.\n",
    "\n",
    "(b) Compute the 1-Year gamma swap rate from your Monte Carlo simulation and compare with the closed-form computation in Problem 3."
   ]
  },
  {
   "cell_type": "markdown",
   "metadata": {},
   "source": [
    "### Solution (a)"
   ]
  },
  {
   "cell_type": "code",
   "execution_count": 78,
   "metadata": {},
   "outputs": [],
   "source": [
    "HestonMC2ModifiedGammaSwap <- function (params) \n",
    "{\n",
    "    is.even <- function(j) {\n",
    "        as.logical((j + 1)%%2)\n",
    "    }\n",
    "    \n",
    "    res <- function(S0, T, AK, N, m, evolve, exactVols = NULL) {\n",
    "        lambda <<- params$lambda\n",
    "        rho <<- params$rho\n",
    "        eta <<- params$eta\n",
    "        vbar <<- params$vbar\n",
    "        v0 <<- params$v\n",
    "        \n",
    "        #n is number of timesteps = 2*m so we can use Romberg extrapolation\n",
    "        n <- m * 2\n",
    "        sqrt2 <- sqrt(2)\n",
    "        rho2m1 <<- sqrt(1 - rho * rho)\n",
    "        vbarp <<- vbar - eta^2/(4 * lambda)\n",
    "        negCount <- 0\n",
    "        \n",
    "        # We use a vertical array, one element per M.C. path\n",
    "        x <- rep(0, N)\n",
    "        v <- rep(1, N) * v0\n",
    "        xm <- x\n",
    "        vm <- v\n",
    "        W1m <- rep(0, N)\n",
    "        W2m <- rep(0, N)\n",
    "        \n",
    "        ### gamma swap\n",
    "        gammaswap<-numeric(N)\n",
    "        gammaswap_replication<-numeric(N)\n",
    "        \n",
    "        for (i in 1:n) {\n",
    "            \n",
    "            # Two sets of correlated normal random vars.\n",
    "            W1 <- rnorm(N)\n",
    "            W2 <- rnorm(N)\n",
    "            W1 <- W1 - mean(W1)\n",
    "            W1 <- W1/sd(W1)\n",
    "            W2 <- W2 - mean(W2)\n",
    "            W2 <- W2/sd(W2)\n",
    "            # Now W1 and W2 are forced to have mean=0 and sd=1\n",
    "            \n",
    "            # Orthogonalization, remove correlation\n",
    "            W2p <- W2 - cor(W1, W2) * W1\n",
    "            W2p <- W2p - mean(W2p)\n",
    "            W2 <- W2p/sd(W2p)\n",
    "            # Now W1 and W2 have mean=0, sd=1 and correlation=0\n",
    "            \n",
    "            # Bernoulli rv for NV step\n",
    "            L <- rbinom(N, size = 1, prob = 1/2)\n",
    "            \n",
    "            # Code N(0,1) rv's for subgrid\n",
    "            W1m <- W1m + W1/sqrt2\n",
    "            W2m <- W2m + W2/sqrt2\n",
    "            \n",
    "            if (is.even(i)) {\n",
    "                #print(c(i,mean(W1m),mean(W2m),sd(W1m),sd(W2m),cor(W1m,W2m))) \n",
    "                resm <- evolve(vm, xm, T/m, W1m, W2m, L)\n",
    "                xm <- resm[, 1]\n",
    "                vm <- resm[, 2]\n",
    "                W1m <- rep(0, N)\n",
    "                W2m <- rep(0, N)\n",
    "            }\n",
    "            res <- evolve(v, x, T/n, W1, W2, L)\n",
    "            xnew <- res[,1]\n",
    "            xold <- x\n",
    "            x <- xnew\n",
    "            v <- res[, 2]\n",
    "            gammaswap<-gammaswap+v*exp(x)*T/n\n",
    "            gammaswap_replication<-gammaswap_replication+(1+xold)*(exp(xnew)-exp(xold))\n",
    "            negCount <- negCount + mean(v < 0)/n\n",
    "        }\n",
    "        \n",
    "        gammaswap_replication<-2*exp(x)*x-2*S0*log(S0)-2*gammaswap_replication\n",
    "\n",
    "        # All code for options and implied volatilities calculations are removed.\n",
    "        # No reference to options in this exercise.\n",
    "        results <- list(\"gammaswap\"=gammaswap,\"gammaswap_replication\"=gammaswap_replication)\n",
    "        return(results)\n",
    "    }\n",
    "    return(res)\n",
    "}"
   ]
  },
  {
   "cell_type": "code",
   "execution_count": 79,
   "metadata": {},
   "outputs": [
    {
     "data": {
      "text/html": [
       "<table>\n",
       "<thead><tr><th scope=col>Gamma swap</th><th scope=col>replication</th><th scope=col>hedging error</th></tr></thead>\n",
       "<tbody>\n",
       "\t<tr><td>0.03666804   </td><td>0.0365954    </td><td>-7.264502e-05</td></tr>\n",
       "</tbody>\n",
       "</table>\n"
      ],
      "text/latex": [
       "\\begin{tabular}{lll}\n",
       " Gamma swap & replication & hedging error\\\\\n",
       "\\hline\n",
       "\t 0.03666804    & 0.0365954     & -7.264502e-05\\\\\n",
       "\\end{tabular}\n"
      ],
      "text/markdown": [
       "\n",
       "Gamma swap | replication | hedging error | \n",
       "|---|\n",
       "| 0.03666804    | 0.0365954     | -7.264502e-05 | \n",
       "\n",
       "\n"
      ],
      "text/plain": [
       "     Gamma swap replication hedging error\n",
       "[1,] 0.03666804 0.0365954   -7.264502e-05"
      ]
     },
     "metadata": {},
     "output_type": "display_data"
    }
   ],
   "source": [
    "### Run Monte Carlo and save gamma swap and its replication\n",
    "### No need to do option calculation: set Ks to empty.\n",
    "Ks<- c()\n",
    "res_MC <- HestonMC2ModifiedGammaSwap(paramsBCC)(S0=1, T=1, AK=Ks, N=1000, m=126, evolve=evolveAlfonsiF)\n",
    "gammaswap_MC <- res_MC$gammaswap\n",
    "gammaswap_replication_MC <- res_MC$gammaswap_replication\n",
    "gammaswap_mean<-mean(gammaswap_MC)\n",
    "gammaswap_replication_mean<-mean(gammaswap_replication_MC)\n",
    "x<-c(gammaswap_mean,gammaswap_replication_mean,gammaswap_replication_mean-gammaswap_mean)\n",
    "res <- rbind(x)\n",
    "colnames(res)<-c(\"Gamma swap\",\"replication\",\"hedging error\")\n",
    "rownames(res) <- c()\n",
    "res"
   ]
  },
  {
   "cell_type": "code",
   "execution_count": 80,
   "metadata": {},
   "outputs": [
    {
     "data": {
      "text/html": [
       "<table>\n",
       "<thead><tr><th scope=col>mean</th><th scope=col>std</th></tr></thead>\n",
       "<tbody>\n",
       "\t<tr><td>-7.264502e-05</td><td>0.004374131  </td></tr>\n",
       "</tbody>\n",
       "</table>\n"
      ],
      "text/latex": [
       "\\begin{tabular}{ll}\n",
       " mean & std\\\\\n",
       "\\hline\n",
       "\t -7.264502e-05 & 0.004374131  \\\\\n",
       "\\end{tabular}\n"
      ],
      "text/markdown": [
       "\n",
       "mean | std | \n",
       "|---|\n",
       "| -7.264502e-05 | 0.004374131   | \n",
       "\n",
       "\n"
      ],
      "text/plain": [
       "     mean          std        \n",
       "[1,] -7.264502e-05 0.004374131"
      ]
     },
     "metadata": {},
     "output_type": "display_data"
    }
   ],
   "source": [
    "y<-c(gammaswap_replication_mean-gammaswap_mean,sd(gammaswap_replication_MC-gammaswap_MC))\n",
    "res1 <- rbind(y)\n",
    "colnames(res1)<-c(\"mean\",\"std\")\n",
    "rownames(res1) <-c()\n",
    "res1"
   ]
  },
  {
   "cell_type": "code",
   "execution_count": 81,
   "metadata": {},
   "outputs": [
    {
     "data": {
      "image/png": "[encoded data removed]",
      "text/plain": [
       "Plot with title \"Histogram of gammaswap_replication_MC - gammaswap_MC\""
      ]
     },
     "metadata": {},
     "output_type": "display_data"
    }
   ],
   "source": [
    "hist(gammaswap_replication_MC-gammaswap_MC, xlab=\"Replication Errors\", breaks=200)"
   ]
  },
  {
   "cell_type": "markdown",
   "metadata": {},
   "source": [
    "### Solution (b)\n",
    "\n",
    "According to the results obtained in Part (a), the one-year gamma swap rate from Monte Carlo simulation is $\\approx 0.03666804$ (note, this number will change from different instances of Monte Carlo runs, but the order of magnitude up to the fourth significant digits should be the same), while the closed-form computation in Problem 3 gives $\\approx 0.03670597$. The relative percentage error between Monte Carlo simulation and the closed-form computation is around $0.001\\approx 0.1\\%$."
   ]
  }
 ],
 "metadata": {
  "kernelspec": {
   "display_name": "R [Anaconda3]",
   "language": "R",
   "name": "R [Anaconda3]"
  },
  "language_info": {
   "codemirror_mode": "r",
   "file_extension": ".r",
   "mimetype": "text/x-r-source",
   "name": "R",
   "pygments_lexer": "r",
   "version": "3.4.3"
  }
 },
 "nbformat": 4,
 "nbformat_minor": 1
}
