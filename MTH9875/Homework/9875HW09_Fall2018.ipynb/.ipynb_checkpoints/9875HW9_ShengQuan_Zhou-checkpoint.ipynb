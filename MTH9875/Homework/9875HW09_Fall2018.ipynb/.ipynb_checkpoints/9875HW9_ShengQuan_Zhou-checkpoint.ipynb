{
 "cells": [
  {
   "cell_type": "markdown",
   "metadata": {},
   "source": [
    "# MTH9875 Homework 9\n",
    "\n",
    "### ShengQuan Zhou\n",
    "\n",
    "Assigned: October 25, 2018.\n",
    "Due: November 8, 2018 by 6pm.\n",
    "\n",
    "Late homework **will not be accepted**.\n",
    "\n",
    "$$\n",
    "\\newcommand{\\supp}{\\mathrm{supp}}\n",
    "\\newcommand{\\E}{\\mathbb{E} }\n",
    "\\def\\Cov{{ \\mbox{Cov} }}\n",
    "\\def\\Var{{ \\mbox{Var} }}\n",
    "\\newcommand{\\1}{\\mathbf{1} }\n",
    "\\newcommand{\\PP}{\\mathbb{P} }\n",
    "%\\newcommand{\\Pr}{\\mathrm{Pr} }\n",
    "\\newcommand{\\QQ}{\\mathbb{Q} }\n",
    "\\newcommand{\\RR}{\\mathbb{R} }\n",
    "\\newcommand{\\DD}{\\mathbb{D} }\n",
    "\\newcommand{\\HH}{\\mathbb{H} }\n",
    "\\newcommand{\\spn}{\\mathrm{span} }\n",
    "\\newcommand{\\cov}{\\mathrm{cov} }\n",
    "\\newcommand{\\sgn}{\\mathrm{sgn} }\n",
    "\\newcommand{\\HS}{\\mathcal{L}_{\\mathrm{HS}} }\n",
    "%\\newcommand{\\HS}{\\mathrm{HS} }\n",
    "\\newcommand{\\trace}{\\mathrm{trace} }\n",
    "\\newcommand{\\LL}{\\mathcal{L} }\n",
    "%\\newcommand{\\LL}{\\mathrm{L} }\n",
    "\\newcommand{\\s}{\\mathcal{S} }\n",
    "%\\newcommand{\\ee}{\\mathcal{E} }\n",
    "\\newcommand{\\ff}{\\mathcal{F} }\n",
    "\\newcommand{\\hh}{\\mathcal{H} }\n",
    "\\newcommand{\\bb}{\\mathcal{B} }\n",
    "\\newcommand{\\dd}{\\mathcal{D} }\n",
    "\\newcommand{\\g}{\\mathcal{G} }\n",
    "\\newcommand{\\p}{\\partial}\n",
    "\\newcommand{\\half}{\\frac{1}{2} }\n",
    "\\newcommand{\\T}{\\mathcal{T} }\n",
    "\\newcommand{\\bi}{\\begin{itemize}}\n",
    "\\newcommand{\\ei}{\\end{itemize}}\n",
    "\\newcommand{\\beq}{\\begin{equation}}\n",
    "\\newcommand{\\eeq}{\\end{equation}}\n",
    "\\newcommand{\\beas}{\\begin{eqnarray*}}\n",
    "\\newcommand{\\eeas}{\\end{eqnarray*}}\n",
    "\\newcommand{\\cO}{\\mathcal{O}}\n",
    "\\newcommand{\\cF}{\\mathcal{F}}\n",
    "\\newcommand{\\cL}{\\mathcal{L}}\n",
    "\\newcommand{\\BS}{\\text{BS}}\n",
    "\\newcommand{\\ee}[1]{{\\mathbb{E}\\left[{#1}\\right]}}\n",
    "\\newcommand{\\eef}[1]{{\\mathbb{E}\\left[\\left.{#1}\\right|\\cF_t\\right]}}\n",
    "\\newcommand{\\eefm}[2]{{\\mathbb{E}^{#2}\\left[\\left.{#1}\\right|\\cF_t\\right]}}\n",
    "$$"
   ]
  },
  {
   "cell_type": "markdown",
   "metadata": {},
   "source": [
    "<font color = \"red\">Homework is to be done by each student individually.  To receive full credit, you must email a completed copy of this iPython notebook to Victor Istratov (stavka@gmail.com), Yassine Ghalem (yassine.ghalem@gmail.com) and Jim Gatheral (jim.gatheral@gmail.com) by the due date and time.  All R-code must run correctly and solutions must be written up neatly in Markdown/LaTeX format."
   ]
  },
  {
   "cell_type": "markdown",
   "metadata": {},
   "source": [
    "### 0. (0 points) \n",
    "\n",
    "Read the Schoutens et al. paper."
   ]
  },
  {
   "cell_type": "markdown",
   "metadata": {},
   "source": [
    "### Load some R-code and data"
   ]
  },
  {
   "cell_type": "code",
   "execution_count": 76,
   "metadata": {},
   "outputs": [],
   "source": [
    "download.file(url=\"http://mfe.baruch.cuny.edu/wp-content/uploads/2018/10/9875-9.zip\", \n",
    "              destfile=\"9875-9.zip\")\n",
    "unzip(zipfile=\"9875-9.zip\")"
   ]
  },
  {
   "cell_type": "code",
   "execution_count": 77,
   "metadata": {},
   "outputs": [],
   "source": [
    "source(\"BlackScholes.R\")\n",
    "source(\"Lewis.R\")\n",
    "source(\"Heston.R\")\n",
    "source(\"RoughHestonPade.R\")\n",
    "source(\"plotIvols.R\")\n",
    "source(\"fwdVarCurve.R\")\n",
    "source(\"FukasawaRobust.R\")"
   ]
  },
  {
   "cell_type": "code",
   "execution_count": 78,
   "metadata": {},
   "outputs": [],
   "source": [
    "library(repr)\n",
    "options(repr.plot.height=6,repr.plot.width=10)"
   ]
  },
  {
   "cell_type": "markdown",
   "metadata": {},
   "source": [
    "For problem 1, you will need SPX implied vols as of the close on September 15, 2005."
   ]
  },
  {
   "cell_type": "code",
   "execution_count": 79,
   "metadata": {},
   "outputs": [],
   "source": [
    "load(\"spxOptData050915.rData\") "
   ]
  },
  {
   "cell_type": "markdown",
   "metadata": {},
   "source": [
    "As usual, assume zero interest rates and dividends for the following\n",
    "assignments."
   ]
  },
  {
   "cell_type": "markdown",
   "metadata": {},
   "source": [
    "## Comparison of model skews to the SPX volatility skew"
   ]
  },
  {
   "cell_type": "markdown",
   "metadata": {},
   "source": [
    "### 1. (20 points)\n",
    "\n",
    "\n",
    "Consider the following fits of the Heston, rough Heston, and SVJ models to the SPX volatility surface as of September 15, 2005:\n",
    "\n",
    "  |Heston|Rough Heston|SVJ|\n",
    "-----|-----:|-----:|-------:|\n",
    "$v$ |0.0174 | |0.0158\n",
    "$\\bar v$ | 0.0354||  0.0439\n",
    "$\\eta$ |  0.3877|0.1924|0.3038\n",
    "$\\rho$  | -0.7165 |-0.6743|-0.6974 \n",
    "$\\lambda$ |1.3253||0.5394 \n",
    "$H$ ||  0.0119 |\n",
    "$\\lambda_J$| ||0.1308\n",
    "$\\delta$ | ||0.0967 \n",
    "$\\alpha$ |||-0.1151 \n",
    "\n"
   ]
  },
  {
   "cell_type": "markdown",
   "metadata": {},
   "source": [
    "(a)\n",
    "\n",
    "Use the output of the function `plotIvols` to draw a log-log plot of the term structure of the ATM implied volatility skew as of September 15, 2005.  \n",
    "\n",
    "\n",
    "(b) \n",
    "\n",
    "Use the functions `varSwap.Robust` and `xi.curve` to compute a piecewise forward variance curve for September 15, 2005 (see Lecture 6).\n",
    "\n",
    "(c)\n",
    "\n",
    "Use your function `atmSkew.phi` from Problem 5 of HW8 to superimpose on the plot from part (a), log-log plots of the term structure of ATM volatility skew for Heston, rough Heston, and SVJ models with the above parameters.  You will need the function `phiSVJ` from Lecture 9.  Also, for the rough Heston characteristic function, use the approximation\n",
    "\n",
    "`phi.rHeston <- phiRoughHestonDhApprox(params.rHeston, xiCurve, dh.approx=d.h.Pade33, n=20)`\n",
    "\n",
    "(d) \n",
    "\n",
    "Use `plotIvols` to plot the second slice of the volatility surface as of September 15, 2005. Superimpose Heston, rough Heston and SVJ smiles.\n",
    "\n",
    "(e) \n",
    "\n",
    "Comment briefly on these plots in a style suitable for your non-mathematical manager.  Remember to mention the number of model parameters!"
   ]
  },
  {
   "cell_type": "markdown",
   "metadata": {},
   "source": [
    "### Solution (a)"
   ]
  },
  {
   "cell_type": "code",
   "execution_count": 81,
   "metadata": {},
   "outputs": [
    {
     "data": {
      "image/png": "[encoded data removed]",
      "text/plain": [
       "Plot with title \"T = 1.75\""
      ]
     },
     "metadata": {},
     "output_type": "display_data"
    }
   ],
   "source": [
    "res.plot <- plotIvols(spxOptData)"
   ]
  },
  {
   "cell_type": "code",
   "execution_count": 82,
   "metadata": {},
   "outputs": [
    {
     "data": {
      "image/png": "[encoded data removed]",
      "text/plain": [
       "plot without title"
      ]
     },
     "metadata": {},
     "output_type": "display_data"
    }
   ],
   "source": [
    "plot(res.plot$expiries,res.plot$atmSkew,type=\"b\",pch=20,col=\"blue\", xlab=\"Time to expiry (years)\",ylab=\"ATM Skew.\")"
   ]
  },
  {
   "cell_type": "markdown",
   "metadata": {},
   "source": [
    "### Solution (b)"
   ]
  },
  {
   "cell_type": "code",
   "execution_count": 83,
   "metadata": {
    "scrolled": true
   },
   "outputs": [
    {
     "data": {
      "text/html": [
       "<ol class=list-inline>\n",
       "\t<li>0.0132836839925092</li>\n",
       "\t<li>0.0164088073237612</li>\n",
       "\t<li>0.0187458685443766</li>\n",
       "\t<li>0.0206940999772394</li>\n",
       "\t<li>0.0229858758862898</li>\n",
       "\t<li>0.024880376954959</li>\n",
       "\t<li>0.0268306159496352</li>\n",
       "\t<li>0.0283482009075826</li>\n",
       "</ol>\n"
      ],
      "text/latex": [
       "\\begin{enumerate*}\n",
       "\\item 0.0132836839925092\n",
       "\\item 0.0164088073237612\n",
       "\\item 0.0187458685443766\n",
       "\\item 0.0206940999772394\n",
       "\\item 0.0229858758862898\n",
       "\\item 0.024880376954959\n",
       "\\item 0.0268306159496352\n",
       "\\item 0.0283482009075826\n",
       "\\end{enumerate*}\n"
      ],
      "text/markdown": [
       "1. 0.0132836839925092\n",
       "2. 0.0164088073237612\n",
       "3. 0.0187458685443766\n",
       "4. 0.0206940999772394\n",
       "5. 0.0229858758862898\n",
       "6. 0.024880376954959\n",
       "7. 0.0268306159496352\n",
       "8. 0.0283482009075826\n",
       "\n",
       "\n"
      ],
      "text/plain": [
       "[1] 0.01328368 0.01640881 0.01874587 0.02069410 0.02298588 0.02488038 0.02683062\n",
       "[8] 0.02834820"
      ]
     },
     "metadata": {},
     "output_type": "display_data"
    }
   ],
   "source": [
    "(vs <- varSwap.Robust(spxOptData)$vs.mid)"
   ]
  },
  {
   "cell_type": "code",
   "execution_count": 84,
   "metadata": {},
   "outputs": [],
   "source": [
    "texp <- sort(unique(spxOptData$Texp))"
   ]
  },
  {
   "cell_type": "code",
   "execution_count": 85,
   "metadata": {},
   "outputs": [],
   "source": [
    "xi.curve.20050915 <- xi.curve(texp,vs*texp)"
   ]
  },
  {
   "cell_type": "markdown",
   "metadata": {},
   "source": [
    "### Solution (c)"
   ]
  },
  {
   "cell_type": "code",
   "execution_count": 86,
   "metadata": {},
   "outputs": [],
   "source": [
    "# Define the ATM skew function from the formula 8\n",
    "atmSkew.phi <- function(phi)\n",
    "{       \n",
    "    res <- function(t)\n",
    "    {\n",
    "        atmVol <- impvol.phi(phi)(1,t)\n",
    "        integrand <-  function(u){Im(u*phi(u - 1i/2, t)/(u^2 + 1/4))};\n",
    "        res <- -integrate(integrand,lower=0,upper=Inf,rel.tol=0.0000000001,subdivisions=1000)$value/sqrt(t)*sqrt(2/pi)*exp(atmVol^2*t/8);\n",
    "        return(res);\n",
    "    }\n",
    "    \n",
    "    return(res)\n",
    "}"
   ]
  },
  {
   "cell_type": "code",
   "execution_count": 87,
   "metadata": {},
   "outputs": [],
   "source": [
    "paramsHeston <- list(lambda = 1.3253, rho = -0.7165, eta = 0.3877, vbar = 0.0354, v = 0.0174)\n",
    "atmSkew_Heston_Vectorized = Vectorize(atmSkew.phi(phiHeston(paramsHeston)))"
   ]
  },
  {
   "cell_type": "code",
   "execution_count": 88,
   "metadata": {},
   "outputs": [],
   "source": [
    "params.rHeston <- list(H=0.0119,rho=-0.6743,eta=0.1924)\n",
    "phi.rHeston <- phiRoughHestonDhApprox(params.rHeston, xi.curve.20050915, dh.approx=d.h.Pade33, n=20)\n",
    "atmSkew_rHeston_Vectorized = Vectorize(atmSkew.phi(phi.rHeston))"
   ]
  },
  {
   "cell_type": "code",
   "execution_count": 89,
   "metadata": {},
   "outputs": [],
   "source": [
    "paramsSVJ <- list(lambda=0.5394,eta=0.3038,rho=-0.6974,vbar=0.0439,v=0.0158,lambdaJ=0.1308,alpha=-0.1151,delta=0.0967) \n",
    "phiSVJ <- function(params){\n",
    "    \n",
    "    lambdaJ <- params$lambdaJ \n",
    "    alpha <- params$alpha \n",
    "    delta <- params$delta \n",
    "    \n",
    "    function(u, t){\n",
    "        psiu <- lambdaJ*(-1i*u*(exp(alpha+delta^2/2)-1) + (exp(1i*u*alpha-u^2*delta^2/2)-1))   \n",
    "        return(phiHeston(params)(u,t)*exp(psiu*t)) \n",
    "        }\n",
    "}\n",
    "atmSkew_SVJ_Vectorized = Vectorize(atmSkew.phi(phiSVJ(paramsSVJ)))"
   ]
  },
  {
   "cell_type": "markdown",
   "metadata": {},
   "source": [
    "## <font color='red'>Note: removing the first point in empirical skew term structure for better comparison with models</font>"
   ]
  },
  {
   "cell_type": "code",
   "execution_count": 90,
   "metadata": {},
   "outputs": [
    {
     "data": {
      "image/png": "[encoded data removed]",
      "text/plain": [
       "plot without title"
      ]
     },
     "metadata": {},
     "output_type": "display_data"
    }
   ],
   "source": [
    "options(repr.plot.height=6,repr.plot.width=6)\n",
    "plot(res.plot$expiries[2:8],res.plot$atmSkew[2:8],type=\"b\",pch=20,col=\"blue\", xlab=\"Time to expiry (years)\",ylab=\"ATM Skew.\")\n",
    "curve(atmSkew_Heston_Vectorized(x),from=0.1,to=2,col=\"red\",xlab=\"Time to expiry (years)\", ylab=\"ATM Skew\", add=TRUE)\n",
    "curve(atmSkew_rHeston_Vectorized(x),from=0.1,to=2,col=\"green\",xlab=\"Time to expiry (years)\", ylab=\"ATM Skew\", add=TRUE)\n",
    "curve(atmSkew_SVJ_Vectorized(x),from=0.1,to=2,col=\"gray\",xlab=\"Time to expiry (years)\", ylab=\"ATM Skew\", add=TRUE)\n",
    "legend(\"center\",c(\"Empirical\",\"Heston\", \"rHeston\", \"SVJ\"),lty=1,bty='n', y.intersp=1.5,cex=1,col=c(\"blue\", \"red\", \"green\", \"gray\"))"
   ]
  },
  {
   "cell_type": "markdown",
   "metadata": {},
   "source": [
    "### Solution (d)"
   ]
  },
  {
   "cell_type": "code",
   "execution_count": 91,
   "metadata": {},
   "outputs": [
    {
     "data": {
      "image/png": "[encoded data removed]",
      "text/plain": [
       "Plot with title \"T = 0.099\""
      ]
     },
     "metadata": {},
     "output_type": "display_data"
    }
   ],
   "source": [
    "options(repr.plot.height=6,repr.plot.width=6)\n",
    "\n",
    "xrange <- c(-.35,.15);  yrange <- c(.05,.4) \n",
    "\n",
    "res2 <- plotIvols(spxOptData, slices=2)\n",
    "\n",
    "vol <- function(k){sapply(k,function(x){impvol.phi(phiHeston(paramsHeston))(x,0.099)})}\n",
    "curve(vol(x),from=-.5,to=.5,col='red',add=T,lwd=2)\n",
    "\n",
    "vol <- function(k){sapply(k,function(x){impvol.phi(phi.rHeston)(x,0.099)})}\n",
    "curve(vol(x),from=-.5,to=.5,col='green',add=T,lwd=2)\n",
    "\n",
    "vol <- function(k){sapply(k,function(x){impvol.phi(phiSVJ(paramsSVJ))(x,0.099)})}\n",
    "curve(vol(x),from=-.5,to=.5,col='gray',add=T,lwd=2)\n",
    "\n",
    "legend(\"top\",c(\"Data\",\"Heston\", \"rHeston\", \"SVJ\"),lty=1,bty='n', y.intersp=1.5,cex=1,col=c(\"blue\", \"red\", \"green\", \"gray\"))"
   ]
  },
  {
   "cell_type": "markdown",
   "metadata": {},
   "source": [
    "### Solution (e)\n",
    "\n",
    "For the ATM skew, only rHeston is able to capture the large curvature in short expiries.\n",
    "\n",
    "For the smile, both SVJ and rHeston fit well, while Heston does not fit. That being said, rHeston has a much smaller number of parameters than SVJ."
   ]
  },
  {
   "cell_type": "markdown",
   "metadata": {},
   "source": [
    "## Stochastic time change"
   ]
  },
  {
   "cell_type": "markdown",
   "metadata": {},
   "source": [
    "### 2. (8 points) \n",
    "\n",
    "Consider the following model of the stock price:\n",
    "\n",
    "$$\n",
    "S_t = S_0\\,\\exp\\left\\{\\sigma\\,W(\\tau_t)-\\frac12\\,\\sigma^2\\,\\tau_t\\right\\}\n",
    "$$\n",
    "\n",
    "where $W(\\tau_t)$ is time-changed Brownian motion.  The time-change $\\tau$ is given by\n",
    "\n",
    "$$\n",
    "\\tau_t = \n",
    "\\left\\{\n",
    "\\begin{array}{ll}\n",
    " \\theta_1\\,t& \\text{ with probability } 1/2  \\\\\n",
    "\\theta_2\\,t & \\text{ with probability } 1/2.\n",
    "\\end{array}\n",
    "\\right.\n",
    "$$\n",
    "\n",
    "Note that the time-change is independent of the Brownian motion $W$.\n",
    "\n",
    "(a)\n",
    "\n",
    "Compute the characteristic function \n",
    "\n",
    "$$\n",
    "\\phi_{\\tau_t}(u) = \\ee{e^{i\\,u\\,\\tau_t}}\n",
    "$$\n",
    "\n",
    "of the time-change.\n",
    "\n",
    "(b)\n",
    "\n",
    "Use equation (5) of Lecture 7 to compute the characteristic function \n",
    "\n",
    "$$\n",
    "\\phi_T(u) = \\ee{e^{i\\,u\\,x_T}}= \\frac 12 \\,\\left\\{e^{-\\frac12\\,u\\,(u+i)\\,\\sigma^2\\,\\theta_1\\,T}+ e^{-\\frac12\\,u\\,(u+i)\\,\\sigma^2\\,\\theta_2\\,T} \\right\\}.\n",
    "$$\n",
    "\n",
    "with $x_t = \\log S_t/S_0$.\n",
    "\n",
    "(c)\n",
    "\n",
    "Without explicit computation, deduce the fair value $C(S,K,T)$ of a European-style call option with strike $K$ and time to expiry $T$ in this model.\n",
    "\n",
    "Hint: Note that the characteristic function is the sum of two simple ones.\n",
    "\n",
    "(d) Rederive your result in part (c) by conditioning on total variance, Hull-White style."
   ]
  },
  {
   "cell_type": "markdown",
   "metadata": {},
   "source": [
    "### Solution (a)\n",
    "\n",
    "$$\n",
    "\\phi_{\\tau_t}(u) = \\ee{e^{i\\,u\\,\\tau_t}}= \\frac 12 e^{i\\,u\\,\\theta_1\\,t}+\\frac 12 e^{i\\,u\\,\\theta_2\\,t}\n",
    "$$"
   ]
  },
  {
   "cell_type": "markdown",
   "metadata": {},
   "source": [
    "### Solution (b)\n",
    "\n",
    "$$\n",
    "\\phi_{Y_t}(u) = \\mathbb{E}\\left[e^{i\\,u\\,Y_t}\\right] = \\mathbb{E}\\left[\\mathbb{E}\\left[\\left.e^{i\\,u\\,X(\\theta)}\\right|\\theta=\\tau_t\\right]\\right]= \\mathbb{E}\\left[e^{\\psi_X(u)\\,\\tau_t}\\right] = \\phi_{\\tau_t}\\left(-i\\,\\psi_X(u)\\right)\n",
    "$$\n",
    "Since\n",
    "$$X=\\log \\frac{S_t}{S_0} =\\sigma\\,W_t-\\frac12\\,\\sigma^2\\,t \\Rightarrow {\\mathbb{E}\\left[e^{i\\,u\\,X}\\right]}=e^{-\\frac12\\,u\\,(u+i)\\,\\sigma^2\\,}$$\n",
    "we have\n",
    "$$\n",
    "\\phi_T(u) = \\phi_{\\tau_T}\\left(i (-i\\,\\log{\\mathbb{E}\\left[e^{i\\,u\\,X}\\right]})\\tau_T\\right)= \\frac 12 \\,\\left\\{e^{-\\frac12\\,u\\,(u+i)\\,\\sigma^2\\,\\theta_1\\,T}+ e^{-\\frac12\\,u\\,(u+i)\\,\\sigma^2\\,\\theta_2\\,T} \\right\\}.\n",
    "$$"
   ]
  },
  {
   "cell_type": "markdown",
   "metadata": {},
   "source": [
    "### Solution (c)\n",
    "\n",
    "Formula of Lewis\n",
    "$$\n",
    "C(S,K,T;\\phi_T)=S-\\sqrt{SK}\\frac{1}{\\pi}\\int_0^\\infty\\frac{du}{u^2+\\frac{1}{4}}\n",
    "\\,\\mathrm{Re}\\left[e^{-iuk}\\phi_T\\left(u-i/2\\right)\\right].\n",
    "$$\n",
    "\n",
    "$C(S,K,T;\\phi_T)$ is a linear combination of BS value, which is \n",
    "\n",
    "$$C(S,K,T;\\phi_T)=\\frac 12 C(S,K,\\theta_1\\,T;\\phi_{BS})+\\frac 12 C(S,K,\\theta_2\\,T;\\phi_{BS})=\\frac 12 C_{BS}(S,K,\\sigma\\sqrt{\\theta_1\\,T})+\\frac 12 C_{BS}(S,K,\\sigma\\sqrt{\\theta_2\\,T})$$"
   ]
  },
  {
   "cell_type": "markdown",
   "metadata": {},
   "source": [
    "### Solution (d)\n",
    "\n",
    "$$\n",
    "C(k,v,T)=\\mathbb{E}_{w_T}\\left[C_{BS}(k,w)\\right] = \\mathbb{E}_{w_T}\\left[\\mathbb{E}_{S_w}\\left[(S_w-K)^+\\right]\\right],\n",
    "$$\n",
    "\n",
    "where\n",
    " \n",
    "\n",
    "$$\n",
    "w_t = \n",
    "\\left\\{\n",
    "\\begin{array}{ll}\n",
    "\\sigma^2\\theta_1\\,T,& \\text{ with probability } 1/2,  \\\\\n",
    "\\sigma^2\\theta_2\\,T, & \\text{ with probability } 1/2.\n",
    "\\end{array}\n",
    "\\right.\n",
    "$$\n",
    "\n",
    "and  $w_T=\\int_0^T\\,v_t\\,dt$. Thus,\n",
    "\n",
    "$$C(S,K,T)=\\frac 12 C_{BS}(S,K,\\sigma\\sqrt{\\theta_1\\,T})+\\frac 12 C_{BS}(S,K,\\sigma\\sqrt{\\theta_2\\,T}).$$"
   ]
  }
 ],
 "metadata": {
  "kernelspec": {
   "display_name": "R",
   "language": "R",
   "name": "ir"
  },
  "language_info": {
   "codemirror_mode": "r",
   "file_extension": ".r",
   "mimetype": "text/x-r-source",
   "name": "R",
   "pygments_lexer": "r",
   "version": "3.4.3"
  }
 },
 "nbformat": 4,
 "nbformat_minor": 1
}
