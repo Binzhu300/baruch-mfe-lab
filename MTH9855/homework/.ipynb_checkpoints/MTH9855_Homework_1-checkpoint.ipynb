{
 "cells": [
  {
   "cell_type": "markdown",
   "metadata": {},
   "source": [
    "### MTH9855 Homework 1\n",
    "\n",
    "#### ShengQuan Zhou\n",
    "\n",
    "----------------------------------"
   ]
  },
  {
   "cell_type": "markdown",
   "metadata": {
    "collapsed": true
   },
   "source": [
    "### Problem 1\n",
    "\n",
    "Prove that an agent is risk-averse, i.e. inequality\n",
    "\n",
    "$$\n",
    "\\mathbb{E}[u(x+\\tilde{z})] \\le u(w+\\mathbb{E}[\\tilde{z}])\n",
    "$$\n",
    "\n",
    "holds for all w and z̃, if and only if u() is concave."
   ]
  },
  {
   "cell_type": "markdown",
   "metadata": {},
   "source": [
    "#### Proof\n",
    "\n",
    "Jensen's inequality states that a real-valued function $\\phi$ is concave if and only if $\\mathbb{E}[\\phi(X)]\\le \\phi(\\mathbb{E}[X])$ for any random variable $X$ such that $\\mathbb{E}\\left[\\left|x\\right|\\right]<\\infty$. Let $\\phi = u$ and $X = x+\\tilde{z}$, we arrive at the conclusion.\n"
   ]
  },
  {
   "cell_type": "markdown",
   "metadata": {},
   "source": [
    "### Problem 2\n",
    "\n",
    "Show that when $u(w) = − \\frac{\\exp(−aw)}{a}$ and $\\tilde{w}$ is normally\n",
    "distributed with mean $\\mu$ and variance $\\sigma^2$, the Arrow-Pratt approximation\n",
    "is exact and indeed,\n",
    "\n",
    "$$\n",
    "\\mathbb{E}[u(\\tilde{w})] = u\\left( \\mu -\\frac{1}{2}a\\sigma^2 \\right).\n",
    "$$"
   ]
  },
  {
   "cell_type": "markdown",
   "metadata": {},
   "source": [
    "#### Proof\n",
    "\n",
    "Arrow-Pratt approximation states that if $\\mathbb{E}[\\tilde{z}]=0$, $\\mathbb{E}[u(\\mu+\\tilde{z})] = u(\\mu-\\Pi)$, where $\\Pi \\approx -\\frac{1}{2}\\sigma^2\\frac{u''(\\mu)}{u'(\\mu)}$ and $\\sigma^2 = \\mathbb{E}[\\tilde{z}^2]$. Thus, for a random variable with non-zero mean, $\\tilde{w}=\\mu+\\tilde{z}$, given $u(w) = − \\frac{\\exp(−aw)}{a}$,\n",
    "$$\n",
    "u'(w) = \\exp(-aw), \\quad u''(w) = -a\\exp(-aw) \\Rightarrow \\Pi \\approx -\\frac{1}{2}\\sigma^2\\frac{u''(w)}{u'(w)} = \\frac{1}{2}\\sigma^2a.\n",
    "$$\n",
    "Thus, Arrow-Pratt approximation gives\n",
    "$$\n",
    "\\mathbb{E}[u(\\tilde{w})] = \\mathbb{E}[u(\\mu+\\tilde{z})] \\approx u\\left(\\mu-\\frac{1}{2}\\sigma^2a\\right).\n",
    "$$\n",
    "This is indeed the exact result because the moment-generating function of a normal variable\n",
    "$$\n",
    "\\mathbb{E}\\left[e^{-a\\tilde{w}}\\right] = \\exp\\left[ -a\\mathbb{E}[\\tilde{w}] + \\frac{a^2}{2}\\mathbb{V}[\\tilde{w}] \\right] = \\exp\\left[ -a\\mu + \\frac{1}{2}a^2\\sigma^2 \\right]= \\exp\\left[ -a\\left(\\mu - \\frac{1}{2}a\\sigma^2\\right) \\right] = -au\\left(\\mu - \\frac{1}{2}a\\sigma^2\\right).\n",
    "$$\n",
    "In other words,\n",
    "$$\n",
    "\\mathbb{E}\\left[u(\\tilde{w})\\right] = u\\left(\\mu - \\frac{1}{2}a\\sigma^2\\right),\n",
    "$$\n",
    "which is the same as the Arrow-Pratt approximation."
   ]
  },
  {
   "cell_type": "markdown",
   "metadata": {},
   "source": [
    "### Problem 3\n",
    "\n",
    "Show that the following three conditions are equivalent:\n",
    "\n",
    "(a) Agent $v$ is more risk-averse than agent $u$,\n",
    "\n",
    "(b) For all $w$, $A_{v}(w)\\ge A_{u}(w)$,\n",
    "\n",
    "(c) Function $v$ is a concave transformation of function $u$, meaning: $\\exists \\phi$, with $\\phi'>0$, $\\phi''<0$, such that $v(w) = \\phi(u(w))$."
   ]
  },
  {
   "cell_type": "markdown",
   "metadata": {},
   "source": [
    "#### Note: \n",
    "\n",
    "The issues described in this problem are addressed in John W. Pratt (1964): Risk Aversion in the Small and in the Large."
   ]
  },
  {
   "cell_type": "markdown",
   "metadata": {},
   "source": [
    "#### Proof\n",
    "\n",
    "**(c)$\\Rightarrow$(a)**. An agent $v$ is said to be more risk-averse than another agent $u$ with the same initial wealth if the risk premium of any risk is larger for agent $v$ than for agent $u$. In mathematical notation, for any $x$,\n",
    "\\begin{eqnarray}\n",
    "\\mathbb{E}[u(x+\\tilde{z})] &=& u(x+\\mathbb{E}[\\tilde{z}]-\\Pi_u(x,\\tilde{z})),\\\\\n",
    "\\mathbb{E}[v(x+\\tilde{z})] &=& v(x+\\mathbb{E}[\\tilde{z}]-\\Pi_v(x,\\tilde{z})).\n",
    "\\end{eqnarray}\n",
    "Write\n",
    "$$\n",
    "\\Pi_u(x,\\tilde{z}) = x+\\mathbb{E}[\\tilde{z}] - u^{-1}(\\mathbb{E}[u(x+\\tilde{z})]),\n",
    "$$\n",
    "then\n",
    "\\begin{eqnarray}\n",
    "\\Pi_u(x,\\tilde{z})-\\Pi_v(x,\\tilde{z}) &=& v^{-1}(\\mathbb{E}[v(x+\\tilde{z})]) - u^{-1}(\\mathbb{E}[u(x+\\tilde{z})])\\\\\n",
    "(\\text{Note: let } w=u(x+\\tilde{z})) &=&  v^{-1}(\\mathbb{E}[v(u^{-1}(w))]) - u^{-1}(\\mathbb{E}[w])\\\\\n",
    "(\\text{Note: } v(u^{-1}(w))=\\phi(w)\\text{ is concave}) &\\ge & v^{-1}(v(u^{-1}(\\mathbb{E}[w]))) - u^{-1}(\\mathbb{E}[w])\\\\\n",
    "&=& u^{-1}(\\mathbb{E}[w]) - u^{-1}(\\mathbb{E}[w])\\\\\n",
    "&=&0.\n",
    "\\end{eqnarray}\n",
    "Thus, $\\Pi_u(x,\\tilde{z})\\ge \\Pi_v(x,\\tilde{z})$.\n",
    "\n",
    "**(a)$\\Rightarrow$(b)** $A(w)$ is proportional to $\\Pi(w)$ in the limit of $\\sigma^2\\ll 1$ for any $x$:\n",
    "\\begin{eqnarray}\n",
    "\\Pi_u(w,\\tilde{z}) &\\approx& \\frac{1}{2}\\sigma^2 A_u(w),\\\\\n",
    "\\Pi_v(w,\\tilde{z}) &\\approx& \\frac{1}{2}\\sigma^2 A_v(w).\n",
    "\\end{eqnarray}\n",
    "Thus, $\\Pi_u(w,\\tilde{z})\\ge \\Pi_v(w,\\tilde{z}) \\Rightarrow A_u(w)\\ge A_v(w)$.\n",
    "\n",
    "**(b)$\\Rightarrow$(c)**\n",
    "$$\n",
    "\\frac{d\\phi(t)}{dt} = \\frac{d}{dt} v(u^{-1}(t)) = \\frac{v'(u^{-1}(t))}{u'(u^{-1}(t))} > 0.\n",
    "$$\n",
    "Furthermore, the monoticity of $\\frac{d\\phi(t)}{dt}$ is the same as $\\log\\frac{v'(u^{-1}(t))}{u'(u^{-1}(t))}$. In other words, the sign of $\\frac{d^2\\phi(t)}{dt^2}$ is the same as\n",
    "$$\n",
    "\\frac{d}{dt}\\log\\frac{v'(u^{-1}(t))}{u'(u^{-1}(t))} = \\frac{d}{dt}\\log v'(u^{-1}(t)) - \\frac{d}{dt}\\log u'(u^{-1}(t)) = A_v(u^{-1}(t)) - A_u(u^{-1}(t)) \\le 0.\n",
    "$$\n",
    "Thus, $\\frac{d^2\\phi(t)}{dt^2}\\le 0$. In other words, $\\exists \\phi$, with $\\phi'>0$, $\\phi''<0$, such that $v(w) = \\phi(u(w))$.\n"
   ]
  },
  {
   "cell_type": "markdown",
   "metadata": {},
   "source": [
    "### Problem 4\n",
    "\n",
    "Consider a function $v(.)$ such that $v(x) = a + bu(x)$ for all\n",
    "$x$, for some pair of scalars $a$ and $b$, where $b > 0$. Show that a decision-maker with utility function $v(.)$ makes the same decisions and has the same\n",
    "certainty-equivalents as a decision maker with utility function $u(.)$."
   ]
  },
  {
   "cell_type": "markdown",
   "metadata": {},
   "source": [
    "#### Proof\n",
    "\n",
    "The certainty-equivalent $\\pi$ is also called the asking price for a risk $\\tilde{z}$, the smallest amount for which the decision maker would willingly sell $\\tilde{z}$ if he had it. It is given by\n",
    "$$\n",
    "\\mathbb{E}[v(x+\\tilde{z})] = v(x+\\pi_v).\n",
    "$$\n",
    "Replacing $v$ with $u$, we get\n",
    "$$\n",
    "a+ b\\mathbb{E}[u(x+\\tilde{z})] = a+ bu(x+\\pi_v)\\Rightarrow \\mathbb{E}[u(x+\\tilde{z})] = u(x+\\pi_v).\n",
    "$$\n",
    "which is true if and only if the first equation is true. On the other hand $\\mathbb{E}[u(x+\\tilde{z})] = u(x+\\pi_u)$. Thus, for any $x$,\n",
    "$$\n",
    "u(x+\\pi_v) = u(x+\\pi_u) \\Rightarrow \\pi_u = \\pi_v.\n",
    "$$\n",
    "Since the two agents assign the same certainty equivalents to all risky lotteries, they also have the same preference relation when comparing risky lotteries.\n",
    "\n",
    "**Note**. The certainty equivalent, or asking price, is different from the bid price $b$, the largest amount the decision maker would willingly pay to obtain $\\tilde{z}$, which is given by\n",
    "$$\n",
    "u(x) =\\mathbb{E}[u(x+\\tilde{z}-b)].\n",
    "$$"
   ]
  },
  {
   "cell_type": "markdown",
   "metadata": {
    "collapsed": true
   },
   "source": [
    "### Problem 5\n",
    "\n",
    "Suppose you are a fund-of-funds manager with investments in\n",
    "n different hedge funds for some $n \\ge 2$. Let $r_i$ denote the annualized return\n",
    "of the $i$-th fund. Suppose that\n",
    "$$\n",
    "r_i = \\beta r_M + \\epsilon_i, \\quad \\text{var}(\\epsilon_i) = \\sigma_i^2\n",
    "$$\n",
    "where $r_M$ denotes the return of the market portfolio (approximated by the S&P 500 in the US) with variance $\\sigma_M^2$. Suppose that $\\epsilon_i$ and $\\epsilon_j$ are independent random variables if $i\\neq j$, and that $\\epsilon_i$ is independent from $r_M$ for all $i = 1,\\cdots, n$. Suppose that your fund-of-funds has invested $h_i>0$ dollars in the $i$-th hedge fund, so their profit/loss is\n",
    "$$\n",
    "\\pi = h'r = \\sum_i h_i r_i.\n",
    "$$\n",
    "Throughout the following, assume $h=(1/n,1/n/,\\cdots,1/n)\\in \\mathbb{R}^n$ for simplicity, i.e., the fund-of-funds has one unit of capital evenly distributed across its constituents."
   ]
  },
  {
   "cell_type": "markdown",
   "metadata": {},
   "source": [
    "**(a)** Calculate $\\mathbb{E}[h'r]$ and $\\mathbb{V}[h'r]$. Note that $\\mathbb{V}[h'r]$ can be expressed as $\\mathbb{V}[h'r] = f(\\beta,\\sigma_M^2) + g(\\sigma_1^2,\\cdots,\\sigma_n^2)$. Find functions $f()$ and $g()$ explicitly."
   ]
  },
  {
   "cell_type": "markdown",
   "metadata": {},
   "source": [
    "#### Solution:\n",
    "\n",
    "The portfolio mean return:\n",
    "\\begin{eqnarray}\n",
    "\\mathbb{E}[h'r] &=& \\mathbb{E}\\left[\\sum_i h_i r_i\\right]\\\\\n",
    "&=& \\frac{1}{n}\\sum_i\\mathbb{E}\\left[ r_i\\right]\\\\\n",
    "&=& \\frac{1}{n}\\sum_i\\mathbb{E}\\left[ \\beta r_M + \\epsilon_i \\right]\\\\\n",
    "&=& \\beta \\mathbb{E}\\left[  r_M \\right]+ \\frac{1}{n}\\sum_i\\mathbb{E}\\left[ \\epsilon_i \\right].\n",
    "\\end{eqnarray}\n",
    "The portfolio variance $\\mathbb{V}[h'r] = \\mathbb{E}\\left[(h'r)^2\\right] - \\mathbb{E}\\left[h'r\\right]^2$:\n",
    "\\begin{eqnarray}\n",
    "\\mathbb{E}\\left[(h'r)^2\\right] &=&  \\mathbb{E}\\left[\\sum _ {ij} h_i h_j r_i r_j\\right]\\\\\n",
    "&=&  \\frac{1}{n^2}\\sum _ {ij}\\mathbb{E}\\left[ r_i r_j\\right]\\\\\n",
    "&=&  \\frac{1}{n^2}\\sum _ {ij}\\mathbb{E}\\left[ (\\beta r_M + \\epsilon_i)(\\beta r_M + \\epsilon_j) \\right]\\\\\n",
    "&=&  \\frac{1}{n^2}\\sum _ {ij}\\mathbb{E}\\left[ \\beta^2 r_M^2 + \\beta r_M\\epsilon_i + \\beta r_M \\epsilon_j + \\epsilon_i \\epsilon_j\\right]\\\\\n",
    "&=&  \\beta^2\\mathbb{E}\\left[  r_M^2\\right] + \\frac{1}{n^2}\\sum _ {ij} \\left( \\beta \\mathbb{E}\\left[r_M\\right]\\mathbb{E}\\left[\\epsilon_i\\right] + \\beta \\mathbb{E}\\left[r_M\\right]\\mathbb{E}\\left[\\epsilon_j\\right] + \\mathbb{E}\\left[\\epsilon_i \\epsilon_j\\right] \\right) \\\\\n",
    "&=&  \\beta^2\\mathbb{E}\\left[  r_M^2\\right] + 2 \\beta \\mathbb{E}\\left[r_M\\right] \\left(\\frac{1}{n}\\sum _ {i} \\mathbb{E}\\left[\\epsilon_i\\right]\\right) +  \\frac{1}{n^2}\\sum _ {ij}\\mathbb{E}\\left[\\epsilon_i \\epsilon_j\\right].\n",
    "\\end{eqnarray}\n",
    "Thus,\n",
    "\\begin{eqnarray}\n",
    "\\mathbb{V}[h'r] &=& \\mathbb{E}\\left[(h'r)^2\\right] - \\mathbb{E}\\left[h'r\\right]^2\\\\\n",
    "&=& \\beta^2\\mathbb{E}\\left[  r_M^2\\right] + 2 \\beta \\mathbb{E}\\left[r_M\\right] \\left(\\frac{1}{n}\\sum _ {i} \\mathbb{E}\\left[\\epsilon_i\\right]\\right) +  \\frac{1}{n^2}\\sum _ {ij}\\mathbb{E}\\left[\\epsilon_i \\epsilon_j\\right]\n",
    "- \\beta^2\\mathbb{E}\\left[  r_M \\right]^2 - 2 \\beta \\mathbb{E}\\left[r_M\\right] \\left(\\frac{1}{n}\\sum _ {i} \\mathbb{E}\\left[\\epsilon_i\\right]\\right) - \\frac{1}{n^2}\\sum _ {ij}\\mathbb{E}\\left[ \\epsilon_i \\right] \\mathbb{E}\\left[ \\epsilon_j \\right]\\\\\n",
    "&=& \\beta^2 \\left( \\mathbb{E}\\left[  r_M^2\\right] - \\mathbb{E}\\left[  r_M \\right]^2 \\right) + \\frac{1}{n^2}\\sum _ {ij}\\left( \\mathbb{E}\\left[\\epsilon_i \\epsilon_j\\right] - \\mathbb{E}\\left[ \\epsilon_i \\right] \\mathbb{E}\\left[ \\epsilon_j \\right] \\right)\\\\\n",
    "&=& \\beta^2 \\sigma_M^2 + \\frac{1}{n^2}\\sum _ {ij}\\text{cov}(\\epsilon_i, \\epsilon_j)\\\\\n",
    "&=& \\beta^2 \\sigma_M^2 + \\frac{1}{n^2}\\sum _ {ij}\\sigma_i^2 \\delta _ {ij}\\\\\n",
    "&=& \\beta^2 \\sigma_M^2 + \\frac{1}{n^2}\\sum _ {i}\\sigma_i^2\\\\\n",
    "&=& f(\\beta,\\sigma_M^2) + g(\\sigma_1^2,\\cdots,\\sigma_n^2),\n",
    "\\end{eqnarray}\n",
    "where\n",
    "$$\n",
    "f(\\beta,\\sigma_M^2) = \\beta^2 \\sigma_M^2,\\quad g(\\sigma_1^2,\\cdots,\\sigma_n^2) = \\frac{1}{n^2}\\sum _ {i}\\sigma_i^2.\n",
    "$$\n"
   ]
  },
  {
   "cell_type": "markdown",
   "metadata": {},
   "source": [
    "**(b)** Take $\\beta = 0.5$ and $\\sigma_M = 0.2$. Assume that each constituent fund has\n",
    "an annualized volatility target of 10% and all $\\sigma_i \\approx 0.03$. The \"fraction of variance explained by the market\" for the fund-of-funds is\n",
    "defined to be $\\frac{f}{f+g}$. Numerically compute and plot this fraction\n",
    "as a function of $n$ for $n = 2,\\cdots,30$."
   ]
  },
  {
   "cell_type": "markdown",
   "metadata": {},
   "source": [
    "#### Solution:\n",
    "\n",
    "In this special case, $g(\\sigma_1^2,\\cdots,\\sigma_n^2) = \\frac{1}{n} \\sigma_I^2$, where $\\sigma_I = 0.03$."
   ]
  },
  {
   "cell_type": "code",
   "execution_count": 5,
   "metadata": {
    "collapsed": true
   },
   "outputs": [],
   "source": [
    "import numpy as np\n",
    "import matplotlib.pyplot as plt"
   ]
  },
  {
   "cell_type": "code",
   "execution_count": 6,
   "metadata": {
    "collapsed": true
   },
   "outputs": [],
   "source": [
    "beta = 0.5\n",
    "sigmaM = 0.2\n",
    "sigmaI = 0.03"
   ]
  },
  {
   "cell_type": "code",
   "execution_count": 10,
   "metadata": {
    "collapsed": true
   },
   "outputs": [],
   "source": [
    "def fractionOfVarianceExplainedByMarket(beta, sigmaM, sigmaI, n):\n",
    "    f = beta*beta*sigmaM*sigmaM\n",
    "    g = sigmaI*sigmaI/n\n",
    "    return f/(f+g)\n",
    "\n",
    "fractionOfVarianceExplainedByMarket2 = np.vectorize(fractionOfVarianceExplainedByMarket)"
   ]
  },
  {
   "cell_type": "code",
   "execution_count": 13,
   "metadata": {},
   "outputs": [],
   "source": [
    "ns = np.arange(2,31)\n",
    "fractions = fractionOfVarianceExplainedByMarket2(beta, sigmaM, sigmaI, ns)"
   ]
  },
  {
   "cell_type": "code",
   "execution_count": 17,
   "metadata": {},
   "outputs": [
    {
     "data": {
      "image/png": "[encoded data removed]",
      "text/plain": [
       "<matplotlib.figure.Figure at 0x7fe3cf0dc860>"
      ]
     },
     "metadata": {},
     "output_type": "display_data"
    }
   ],
   "source": [
    "plt.plot(ns, fractions)\n",
    "plt.xlabel('# of funds')\n",
    "plt.title('Fraction of Variance Explained by Market')\n",
    "plt.grid(True)\n",
    "plt.show()"
   ]
  },
  {
   "cell_type": "markdown",
   "metadata": {},
   "source": [
    "**(c)** Take the same assumptions as (b). Further assume that each $\\epsilon_i$ has a\n",
    "Sharpe ratio of $1.5$, so that $\\mathbb{E}[\\epsilon_i] = 1.5\\sigma_i$ , and the market’s expected\n",
    "annual return is $\\mathbb{E}[r_M ] = 0.07$. The fund-of-funds charges a fee of\n",
    "$0.01$ on capital. Numerically compute and plot the Sharpe ratio, $\\mathbb{E}[h'r − 0.01]/\\sqrt{\\mathbb{V}[h'r]}$ as a function of $n$ for $n = 2,\\cdots,30$. How does\n",
    "this change if the Sharpe ratio of $\\epsilon_i$ is 2.0 rather than 1.5?"
   ]
  },
  {
   "cell_type": "markdown",
   "metadata": {},
   "source": [
    "#### Solution:"
   ]
  },
  {
   "cell_type": "code",
   "execution_count": 47,
   "metadata": {
    "collapsed": true
   },
   "outputs": [],
   "source": [
    "def sharpeRatio(beta, sigmaM, sigmaI, eM, eI, n):\n",
    "    f = beta*beta*sigmaM*sigmaM\n",
    "    g = sigmaI*sigmaI/n\n",
    "    e = beta*eM + eI\n",
    "    v = f+g\n",
    "    return (e-0.01)/np.sqrt(v)\n",
    "\n",
    "sharpeRatio2 = np.vectorize(sharpeRatio)"
   ]
  },
  {
   "cell_type": "code",
   "execution_count": 48,
   "metadata": {
    "collapsed": true
   },
   "outputs": [],
   "source": [
    "ns = np.arange(2,31)"
   ]
  },
  {
   "cell_type": "code",
   "execution_count": 49,
   "metadata": {
    "collapsed": true
   },
   "outputs": [],
   "source": [
    "eM = 0.07\n",
    "eI = 1.5*sigmaI\n",
    "sharpeRatios = sharpeRatio2(beta, sigmaM, sigmaI, eM, eI, ns)"
   ]
  },
  {
   "cell_type": "code",
   "execution_count": 50,
   "metadata": {},
   "outputs": [
    {
     "data": {
      "image/png": "[encoded data removed]",
      "text/plain": [
       "<matplotlib.figure.Figure at 0x7fe3ceee4e48>"
      ]
     },
     "metadata": {},
     "output_type": "display_data"
    }
   ],
   "source": [
    "plt.plot(ns, sharpeRatios)\n",
    "plt.xlabel('# of funds')\n",
    "plt.title('Sharpe ($E[\\epsilon_i]=1.5\\sigma_i$)')\n",
    "plt.grid(True)\n",
    "plt.show()"
   ]
  },
  {
   "cell_type": "code",
   "execution_count": 51,
   "metadata": {
    "collapsed": true
   },
   "outputs": [],
   "source": [
    "eM = 0.07\n",
    "eI = 2.0*sigmaI\n",
    "sharpeRatios = sharpeRatio2(beta, sigmaM, sigmaI, eM, eI, ns)"
   ]
  },
  {
   "cell_type": "code",
   "execution_count": 52,
   "metadata": {},
   "outputs": [
    {
     "data": {
      "image/png": "[encoded data removed]",
      "text/plain": [
       "<matplotlib.figure.Figure at 0x7fe3ceef0198>"
      ]
     },
     "metadata": {},
     "output_type": "display_data"
    }
   ],
   "source": [
    "plt.plot(ns, sharpeRatios)\n",
    "plt.xlabel('# of funds')\n",
    "plt.title('Sharpe ($E[\\epsilon_i]=2.0\\sigma_i$)')\n",
    "plt.grid(True)\n",
    "plt.show()"
   ]
  },
  {
   "cell_type": "markdown",
   "metadata": {},
   "source": [
    "**(d)** If the fund-of-funds could simply invest in a single fund with the\n",
    "same properties as the others except that this fund has $\\beta = 0$ and\n",
    "$\\sigma_i=0.1$, would that be better or worse, in terms of Sharpe ratio,\n",
    "than the above scenario?"
   ]
  },
  {
   "cell_type": "markdown",
   "metadata": {},
   "source": [
    "#### Solution:\n",
    "\n",
    "In this case, $n=1$\n",
    "\\begin{eqnarray}\n",
    "\\mathbb{E}[h'r] &=& \\mathbb{E}[\\epsilon_i] = 1.5\\sigma_i = 0.15,\\\\\n",
    "\\mathbb{V}[h'r] &=& \\mathbb{V}[\\epsilon_i] = 0.1^2 = 0.01.\n",
    "\\end{eqnarray}\n",
    "Thus, the Sharpe ratio is\n",
    "$$\n",
    "\\frac{\\mathbb{E}[h'r − 0.01]}{\\sqrt{\\mathbb{V}[h'r]}} = \\frac{0.15-0.01}{0.1} = 1.4.\n",
    "$$\n",
    "If the fund-of-funds could simply invest in this single fund, the Sharpe ratio would be better than the above scenario of investing in many assets."
   ]
  }
 ],
 "metadata": {
  "kernelspec": {
   "display_name": "Python 3",
   "language": "python",
   "name": "python3"
  },
  "language_info": {
   "codemirror_mode": {
    "name": "ipython",
    "version": 3
   },
   "file_extension": ".py",
   "mimetype": "text/x-python",
   "name": "python",
   "nbconvert_exporter": "python",
   "pygments_lexer": "ipython3",
   "version": "3.6.0"
  }
 },
 "nbformat": 4,
 "nbformat_minor": 2
}
