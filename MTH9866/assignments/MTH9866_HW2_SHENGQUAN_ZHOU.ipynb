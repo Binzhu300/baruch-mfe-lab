{
 "cells": [
  {
   "cell_type": "markdown",
   "metadata": {},
   "source": [
    "### MTH9866 Modeling and Market Making in Foreign Exchange\n",
    "\n",
    "#### Homework Assignment 2\n",
    "\n",
    "#### ShengQuan Zhou\n",
    "---------------------------"
   ]
  },
  {
   "cell_type": "markdown",
   "metadata": {},
   "source": [
    "### Question 1\n",
    "\n",
    "Why are correlations of daily returns of spot vs daily returns of forward prices so high in the FX markets? What are the two requirements a market must support to enforce a high correlation across the forward curve?"
   ]
  },
  {
   "cell_type": "markdown",
   "metadata": {},
   "source": [
    "#### Answer:\n",
    "\n",
    "Because FX is a financial market where the two requirements for spot/forward arbitrage hold:\n",
    "- one can easily store currencies (and receive an interest rate for storing);\n",
    "- one can easily borrow and short currencies (and pay an interest rate),\n",
    "\n",
    "traders execute the arbitrage all day, everyday. That arbitrage fixes the market forward price to the fair price\n",
    "$$\n",
    "F(t,T) = S(t)e^{\\left[R(t,T)-Q(t,T)\\right](T-t)}.\n",
    "$$\n",
    "The high correlation between daily returns of spot and daily returns of forward prices across the curve arises because the FX markets admit the spot/forward arbitrage that forces the market forward price to equal to the fair forward price. When the spot price moves, all the forwards move accordingly.\n",
    "\n"
   ]
  },
  {
   "cell_type": "markdown",
   "metadata": {},
   "source": [
    "### Question 2\n",
    "\n",
    "Why is risk management more complex for an FX forwards risk manager than for an FX spot risk manager?"
   ]
  },
  {
   "cell_type": "markdown",
   "metadata": {},
   "source": [
    "#### Answer:\n",
    "\n",
    "Tenor of the forward contract adds another dimension. Risk management is more complex for FX forwards than for FX spot because not all trades are fungible with each other across the forward curve, like the spot. In the broker market for inter-dealer trades, only benchmark tenors are traded, while clients can trade any settlement date they like. It's unlikely for a client to want to buy exactly the benchmark tenor or the same tenor forward that another client wanted to sell."
   ]
  },
  {
   "cell_type": "markdown",
   "metadata": {},
   "source": [
    "### Question 3\n",
    "\n",
    "Explain why risk to FX forward points can be expressed as risk to non-USD interest rates."
   ]
  },
  {
   "cell_type": "markdown",
   "metadata": {},
   "source": [
    "#### Answer:\n",
    "\n",
    "Based on\n",
    "$$\n",
    "F(t,T) = S(t)e^{\\left[R(t,T)-Q(t,T)\\right](T-t)} \\Rightarrow \\text{Forward Points} = S(t)\\left[e^{\\left[R(t,T)-Q(t,T)\\right](T-t)}-1\\right].\n",
    "$$\n",
    "forwards portfolio risk can be decomposed into three components:\n",
    "- spot risk: hedging risk to spot is handled by spot desk.\n",
    "- USD interest rates: hedging risk to USD interest rates is handled by rates trading desk, supposedly.\n",
    "- Non-USD interest rates: the only remaining dimension specific to FX forward points."
   ]
  },
  {
   "cell_type": "markdown",
   "metadata": {},
   "source": [
    "### Question 4\n",
    "\n",
    "Assume a portfolio has just one FX forward position in it, settling on a date $T$ which lies between two benchmark settlement dates $T_1$ and $T_2$. Derive the notionals $N_1$ and $N_2$ of the benchmark forwards which hedge the portfolio risk assuming triangle shocks to the benchmark non-USD interest rates, as shown on page 21 of the lecture notes."
   ]
  },
  {
   "cell_type": "markdown",
   "metadata": {},
   "source": [
    "#### Solution:\n",
    "\n",
    "According to page 9 of the lecture notes, a forward settling in time $T$, receiving 1 unit of asset currency, paying $K$ units of denominated currency, is equivalent to being long 1 unit of a zero coupon bond in asset currency and being short $K$ units of a zero coupon bond in denominated currency, the price of which at spot time $t=0$ is\n",
    "$$\n",
    "V(T) = S_0 e^{-Q(T)T} - K e^{-R(T)T},\n",
    "$$\n",
    "where $S_0$ is the current spot exchange rate. Similarly,\n",
    "\\begin{eqnarray}\n",
    "V(T_1) = S_0 e^{-Q(T_1)T_1} - K e^{-R(T_1)T_1},\\\\\n",
    "V(T_2) = S_0 e^{-Q(T_2)T_2} - K e^{-R(T_2)T_2}.\n",
    "\\end{eqnarray}\n",
    "Construct a portfolio that's long one unit of $V(T)$, short $N_1$ units of $V(T_1)$ and $N_2$ units of $V(T_2)$:\n",
    "$$\n",
    "\\Pi = V(T) - N_1 V(T_1) - N_2 V(T_2),\n",
    "$$\n",
    "such that the risk to moving rates $Q(T_1)$ and $Q(T_2)$ is hedged:\n",
    "\\begin{eqnarray}\n",
    "\\frac{d \\Pi}{d Q(T_1)} = \\frac{\\partial \\Pi}{\\partial Q(T_1)} + \\frac{\\partial \\Pi}{\\partial Q(T)}\\frac{\\partial Q(T)}{\\partial Q(T_1)} = S_0 \\left[N_1 T_1  e^{-Q(T_1)T_1} - T  e^{-Q(T)T} \\frac{\\partial Q(T)}{\\partial Q(T_1)}\\right] =0,\\\\\n",
    "\\frac{d \\Pi}{d Q(T_2)} = \\frac{\\partial \\Pi}{\\partial Q(T_2)} + \\frac{\\partial \\Pi}{\\partial Q(T)}\\frac{\\partial Q(T)}{\\partial Q(T_2)}=  S_0 \\left[N_2 T_2  e^{-Q(T_2)T_2} - T e^{-Q(T)T} \\frac{\\partial Q(T)}{\\partial Q(T_1)}\\right] =0.\n",
    "\\end{eqnarray}\n",
    "Assuming a triangle-shock impact to $Q(T)$,\n",
    "\\begin{eqnarray}\n",
    "\\frac{\\partial Q(T)}{\\partial Q(T_1)} = \\frac{T_2 - T}{T_2-T_1}, \\text{ shocked at }T_1\\text{ and fixed at }T_2\\text{, linear interpolate between }T_2\\text{ and }T_1\\text{ at }T,\\\\\n",
    "\\frac{\\partial Q(T)}{\\partial Q(T_2)} = \\frac{T - T_1}{T_2-T_1}, \\text{ shocked at }T_2\\text{ and fixed at }T_1\\text{, linear interpolate between }T_2\\text{ and }T_1\\text{ at }T,\n",
    "\\end{eqnarray}\n",
    "we get\n",
    "\\begin{eqnarray}\n",
    "N_1 T_1  e^{-Q(T_1)T_1} - T  e^{-Q(T)T} \\left(\\frac{T_2 - T}{T_2-T_1}\\right) =0 \\Rightarrow N_1 = \\left(\\frac{T_2 - T}{T_2-T_1}\\right) \\frac{T}{T_1}  e^{-Q(T)(T-T_1)}, \\\\\n",
    "N_2 T_2  e^{-Q(T_2)T_2} - T  e^{-Q(T)T} \\left(\\frac{T - T_1}{T_2-T_1}\\right) =0\\Rightarrow N_2 = \\left(\\frac{T - T_1}{T_2-T_1}\\right) \\frac{T}{T_2}  e^{-Q(T)(T-T_2)}.\n",
    "\\end{eqnarray}\n"
   ]
  },
  {
   "cell_type": "markdown",
   "metadata": {},
   "source": [
    "### Question 5\n",
    "\n",
    "Explain principal component analysis and factor models, focusing on the differences between the two approaches to reduce dimensionality."
   ]
  },
  {
   "cell_type": "markdown",
   "metadata": {},
   "source": [
    "#### Answer:\n",
    "\n",
    "Principal component analysis and factor models are two different methods for reducing dimensionality in a high-dimensional system.\n",
    "\n",
    "| Features |  Principle Component Analysis (PCA)   |   Factor Models |\n",
    "|:------|------|------|\n",
    "| Parameters     | Non-Parametric |  Parametric, parameterized by $\\sigma_1, \\sigma_2, \\beta_1, \\beta_2, \\rho$, etc.    |\n",
    "|General idea|Discovering the main factors driving the moves in the interest rate curve|Fitting historical behavior to a prescribed parametric form of factors|\n",
    "| Methodology | Calculating the historical covariances of daily changes in interest rates of different tenors, then orthogonalizing the covariance matrix|Solving stochastic differential equation driving interest rates of different tenors, the computing the covariance matrix analytically in terms of the parameters|\n",
    "| Shocks to curve | Eigenvectors of historical covariance matrix of daily changes in different tenors, representing othogonal shocks to curve | Shocked by a small number of Brownian motion factors in a stochastic differential equation driving different tenors|\n",
    "|How to reduce dimensionality|Picking off the largest few eigenvalues and approximating all moves in the curves as being linear combinations of the respective eigenvectors|A few parametric factor in the model specification|\n",
    "|Shape of shocks|Non-parametric output of the calculation|Determined by the model parameters, for example, exponential shocks|\n",
    "|Strength|Flexibile in terms of shape of the shocks|Robust in evaluating the shocks and easier for traders to understand|\n",
    "|Weakness|Less robust (historical data artifacts can lead to weird shapes)|Less flexibile in capturing shocks|"
   ]
  },
  {
   "cell_type": "markdown",
   "metadata": {},
   "source": [
    "### Question 6\n",
    "\n",
    "This programming question will try to determine whether using a factor-based approach to reducing dimensionality is better than an ad hoc method.\n",
    "\n",
    "We start by assuming a toy market: spot = 1, asset currency interest rate curve = $Q(T)$ = flat at 3%, and denominated currency interest rate curve = $R(T)$ = flat at 0%. We assume two benchmark dates, $T_1$ = 0.25y and $T_2$ = 1y; we will use forwards to those settlement dates to hedge the forward rate risk (or equivalently, the risk to moves in the asset currency interest rate) of our portfolio.\n",
    "\n",
    "In the toy market, we assume that we know the dynamics of the asset currency interest rate:\n",
    "\\begin{eqnarray}\n",
    "&& dQ = \\sigma_1 e^{-\\beta_1 T}dz_1 + \\sigma_2 e^{-\\beta_2 T}dz_2,\\\\\n",
    "&& \\mathbb{E}[dz_1 dz_2] = \\rho dt,\n",
    "\\end{eqnarray}\n",
    "where $\\sigma_1 = 1\\%/\\sqrt{\\text{year}}$, $\\sigma_2 = 0.8\\%/\\sqrt{\\text{year}}$, $\\beta_1 = 0.5/\\text{year}$, $\\beta_2 = 0.1/\\text{year}$, and $\\rho = -0.4$. \n",
    "\n",
    "The portfolio to hedge has one position: a unit asset-currency notional of a forward contract settling at time $T$. You’ll try this for values of $T$ in [0.1,0.25,0.5,0.75,1,2] to see how performance changes for portfolios with risk to different tenors.\n",
    "\n",
    "You will try three different hedging strategies: one where you choose the hedge notionals (of forwards settling at times $T_1$ and $T_2$) based on the triangle shock we discussed in class (though as there are only two benchmarks here, the T1 shock will be flat before $T_1$ and the $T_2$ shock will be flat after $T_2$); one where the notionals are set to hedge the actual two shocks from the factors described above; and lastly, one where you don’t hedge at all.\n",
    "\n",
    "The result should show that setting hedge notionals based on the true factor shocks should provide a better hedge performance than based on the ad hoc triangle shocks. You should analyze just how much better that performance is.\n",
    "\n",
    "Run a Monte Carlo simulation where you do the following on each run, for each value of $T$, for each of the three hedging strategies described above:\n",
    "\n",
    "\n",
    "1. Construct a portfolio long 1 unit of the forward settling at time $T$\n",
    "2. Add in the hedges: two forwards, settling at times $T_1$ and $T_2$, with notionals set to hedge the portfolio (either against the two triangle shocks or against the two factor shocks). Don’t bother adding the hedges in the third hedge scenario where we leave the portfolio unhedged.\n",
    "3. Simulate the portfolio forward a time $dt=0.001\\text{y}$. That will result in the asset-currency rates moving according to the factor model described above, which shocks the benchmark rates for tenors $T_1$ and $T_2$, and for the portfolio’s risk tenor T. Determine the PNL realized. \n",
    "Then construct the PNL distributions for the three hedging approaches. The unhedged version is the benchmark: you should compare how much more effectively the PNL standard deviation is reduced by hedging according to the true factors vs hedging according to the ad hoc triangle shocks.\n",
    "\n",
    "Do this for all the values of T listed above, and discuss your results."
   ]
  },
  {
   "cell_type": "markdown",
   "metadata": {},
   "source": [
    "#### Solution:\n",
    "\n",
    "Similar to the approach to Question 4, construct a portfolio that's long one unit of $V(T)$, short $N_1$ units of $V(T_1)$ and $N_2$ units of $V(T_2)$:\n",
    "$$\n",
    "\\Pi = V(T) - N_1 V(T_1) - N_2 V(T_2),\n",
    "$$\n",
    "such that the risk to moving rates $Q(T_1)$ and $Q(T_2)$ is hedged:\n",
    "\\begin{eqnarray}\n",
    "\\frac{d \\Pi}{d Q(T_1)} = \\frac{\\partial \\Pi}{\\partial Q(T_1)} + \\frac{\\partial \\Pi}{\\partial Q(T)}\\frac{\\partial Q(T)}{\\partial Q(T_1)} = S_0 \\left[N_1 T_1  e^{-Q(T_1)T_1} - T  e^{-Q(T)T} \\frac{\\partial Q(T)}{\\partial Q(T_1)}\\right] =0 \\Rightarrow N_1 = \\frac{\\partial Q(T)}{\\partial Q(T_1)} \\frac{T}{T_1}  e^{-Q(T)(T-T_1)}, \\\\\n",
    "\\frac{d \\Pi}{d Q(T_2)} = \\frac{\\partial \\Pi}{\\partial Q(T_2)} + \\frac{\\partial \\Pi}{\\partial Q(T)}\\frac{\\partial Q(T)}{\\partial Q(T_2)}=  S_0 \\left[N_2 T_2  e^{-Q(T_2)T_2} - T e^{-Q(T)T} \\frac{\\partial Q(T)}{\\partial Q(T_1)}\\right] =0\\Rightarrow N_2 = \\frac{\\partial Q(T)}{\\partial Q(T_2)} \\frac{T}{T_2}  e^{-Q(T)(T-T_2)},\n",
    "\\end{eqnarray}\n",
    "where the partial derivative $\\frac{\\partial Q(T)}{\\partial Q(T_1)}$ is taken with $Q(T_2)$ held constant, and vice versa for $\\frac{\\partial Q(T)}{\\partial Q(T_2)}$. \n",
    "\n",
    "-------------------------\n",
    "\n",
    "For triangular shocks, the explicit expressions for the partial derivatives mentioned above were derived in Question 4:\n",
    "\\begin{eqnarray}\n",
    "\\frac{\\partial Q(T)}{\\partial Q(T_1)} = \\frac{T_2-T}{T_2-T_1},\\\\\n",
    "\\frac{\\partial Q(T)}{\\partial Q(T_2)} = \\frac{T-T_1}{T_2-T_1}.\n",
    "\\end{eqnarray}\n",
    "\n",
    "-------------------------\n",
    "\n",
    "For shocks from factors,\n",
    "\\begin{eqnarray}\n",
    "dQ(T_1) = \\sigma_1 e^{-\\beta_1 T_1}dz_1 + \\sigma_2 e^{-\\beta_2 T_1}dz_2,\\\\\n",
    "dQ(T_2) = \\sigma_1 e^{-\\beta_1 T_2}dz_1 + \\sigma_2 e^{-\\beta_2 T_2}dz_2.\n",
    "\\end{eqnarray}\n",
    "For $Q(T_1)$ shocked and $Q(T_2)$ fixed,\n",
    "$$\n",
    "dQ(T_2) = \\sigma_1 e^{-\\beta_1 T_2}dz_1 + \\sigma_2 e^{-\\beta_2 T_2}dz_2 = 0 \\Rightarrow \\frac{dz_1}{dz_2} = -\\frac{\\sigma_2 e^{-\\beta_2 T_2}}{\\sigma_1 e^{-\\beta_1 T_2}}.\n",
    "$$\n",
    "Substitute back to $dQ(T_1) = \\sigma_1 e^{-\\beta_1 T_1}dz_1 + \\sigma_2 e^{-\\beta_2 T_1}dz_2$, we get\n",
    "\\begin{eqnarray}\n",
    "\\sigma_1dz_1 &=& \\frac{e^{-\\beta_2 T_2}}{e^{-\\beta_1 T_1  - \\beta_2 T_2 } - e^{-\\beta_1 T_2  - \\beta_2 T_1  }}dQ(T_1),\\\\\n",
    "\\sigma_2dz_2 &=& -\\frac{e^{-\\beta_1 T_2}}{e^{-\\beta_1 T_1  - \\beta_2 T_2 } - e^{-\\beta_1 T_2  - \\beta_2 T_1  }}dQ(T_1).\n",
    "\\end{eqnarray}\n",
    "Thus,\n",
    "$$\n",
    "dQ(T) = \\sigma_1 e^{-\\beta_1 T}dz_1 + \\sigma_2 e^{-\\beta_2 T}dz_2\n",
    "=  \\frac{e^{-\\beta_2 T_2 - \\beta_1 T}-e^{-\\beta_1 T_2 - \\beta_2 T}}{e^{-\\beta_1 T_1  - \\beta_2 T_2 } - e^{-\\beta_1 T_2  - \\beta_2 T_1  }}  dQ(T_1) \\Rightarrow \\frac{\\partial Q(T)}{\\partial Q(T_1)} = \\frac{e^{-\\beta_2 T_2 - \\beta_1 T}-e^{-\\beta_1 T_2 - \\beta_2 T}}{e^{-\\beta_1 T_1  - \\beta_2 T_2 } - e^{-\\beta_1 T_2  - \\beta_2 T_1  }}.\n",
    "$$\n",
    "Similarly, for $Q(T_2)$ shocked and $Q(T_1)$ fixed,\n",
    "$$\n",
    "\\frac{\\partial Q(T)}{\\partial Q(T_2)} = \\frac{e^{-\\beta_1 T_1 - \\beta_2 T}-e^{-\\beta_2 T_1 - \\beta_1 T}}{e^{-\\beta_1 T_1  - \\beta_2 T_2  } - e^{-\\beta_1 T_2  - \\beta_2 T_1 } }.\n",
    "$$\n",
    "\n",
    "-------------------------\n",
    "\n",
    "We briefly tabulate the results below,\n",
    "\n",
    "|  |  Trianglar shock  |   Factor Model shock |\n",
    "|:------|------|------|\n",
    "|$\\frac{\\partial Q(T)}{\\partial Q(T_1)}$|$\\frac{T_2-\\max{(T,T_1)}}{T_2-T_1}$|$\\frac{e^{-\\beta_2 T_2 - \\beta_1 T}-e^{-\\beta_1 T_2 - \\beta_2 T}}{e^{-\\beta_1 T_1  - \\beta_2 T_2 } - e^{-\\beta_1 T_2  - \\beta_2 T_1  }}$|\n",
    "|$\\frac{\\partial Q(T)}{\\partial Q(T_2)}$|$\\frac{\\min{(T,T_2)}-T_1}{T_2-T_1}$|$\\frac{e^{-\\beta_1 T_1 - \\beta_2 T}-e^{-\\beta_2 T_1 - \\beta_1 T}}{e^{-\\beta_1 T_1  - \\beta_2 T_2  } - e^{-\\beta_1 T_2  - \\beta_2 T_1 } }$|\n",
    "\n",
    "Note that, interestingly, the factor model shock is reduced to the triangular shock in the limit $\\beta_1,\\beta_2\\rightarrow 0$, i.e. the limit of weakly decaying shocks:\n",
    "\\begin{eqnarray}\n",
    "\\frac{e^{-\\beta_2 T_2 - \\beta_1 T}-e^{-\\beta_1 T_2 - \\beta_2 T}}{e^{-\\beta_1 T_1  - \\beta_2 T_2 } - e^{-\\beta_1 T_2  - \\beta_2 T_1  }} \\rightarrow \\frac{T_2-T}{T_2-T_1},\\\\\n",
    "\\frac{e^{-\\beta_1 T_1 - \\beta_2 T}-e^{-\\beta_2 T_1 - \\beta_1 T}}{e^{-\\beta_1 T_1  - \\beta_2 T_2  } - e^{-\\beta_1 T_2  - \\beta_2 T_1 } }\\rightarrow \\frac{T-T_1}{T_2-T_1}.\n",
    "\\end{eqnarray}\n",
    "\n",
    "-------------------------\n",
    "\n",
    "PnL calculation: for a forward settling in time $T$, receiving 1 unit of asset currency, paying $K$ units of denominated currency, is equivalent to being long 1 unit of a zero coupon bond in asset currency and being short $K$ units of a zero coupon bond in denominated currency, the price of which at spot time $t=0$ is\n",
    "$$\n",
    "V(T) = S_0 e^{-Q(T)T} - K e^{-R(T)T},\n",
    "$$\n",
    "The change in the price of that forward under a shock $dQ(T)$ is then \n",
    "$$\n",
    "dV(T) = S_0 \\left[ e^{-(Q(T)+dQ(T))T} - e^{-Q(T)T} \\right] = S_0e^{-Q(T)T} \\left[ e^{-dQ(T)T} - 1\\right],\n",
    "$$\n",
    "independent of the forward strike $K$ or the interest rate $R$ of the denominated currency. The PnL calculation of the portfolio is thus \n",
    "$$\n",
    "dV(T)-N_1 dV(T_1) - N_2 dV(T_2).\n",
    "$$\n",
    "Please run the following code to verify."
   ]
  },
  {
   "cell_type": "code",
   "execution_count": 63,
   "metadata": {
    "collapsed": true
   },
   "outputs": [],
   "source": [
    "import math\n",
    "import scipy\n",
    "import pandas"
   ]
  },
  {
   "cell_type": "code",
   "execution_count": 64,
   "metadata": {
    "collapsed": true
   },
   "outputs": [],
   "source": [
    "class BenchmarkShockSimulator:\n",
    "    \"\"\"\n",
    "        A Monte Carlo simulation of a hedged portfolio:\n",
    "            1) long an FX forward settling at time T,\n",
    "            2) short an FX forward settling at time T1,\n",
    "            3) short an FX forward settling at time T2,\n",
    "        where asset currency is some non-USD interest rate,\n",
    "              denominated currency is USD interest rate.\n",
    "        The rate curve moves according to either\n",
    "            1) a triangular prescription,\n",
    "            2) or a parametric 2-factor model.\n",
    "    \"\"\"\n",
    "    \n",
    "    def __init__(self, sigma1, sigma2, beta1, beta2, rho, T1, T2, Q):\n",
    "        \"\"\"\n",
    "            sigma1: the volatility of the first shock factor\n",
    "            sigma2: the volatility of the second shock factor\n",
    "            beta1:  the decaying parameter of the first shock factor\n",
    "            beta2:  the decaying parameter of the second shock factor\n",
    "            rho:    the correlation between the two shock factors\n",
    "            T1:     the time to settlement of the first benchmark forward tenor\n",
    "            T2:     the time to settlement of the second benchmark forward tenor\n",
    "            Q:      the initial (background) asset currency forward curve, assumed to be flat\n",
    "        \"\"\"\n",
    "        \n",
    "        if T1 >= T2:\n",
    "            raise ValueError('Time order T1<T2 is not imposed!')\n",
    "        \n",
    "        self.sigma1 = sigma1\n",
    "        self.sigma2 = sigma2\n",
    "        self.beta1 = beta1\n",
    "        self.beta2 = beta2\n",
    "        self.rho = rho\n",
    "        self.T1 = T1\n",
    "        self.T2 = T2\n",
    "        self.Q = Q\n",
    "        \n",
    "    def run(self, spot, T, dt, nRuns, hedge, seed, debug=False):\n",
    "        \"\"\"\n",
    "            spot:  spot price of asset \n",
    "            T:     the settling time of asset-currency notional of a forward contract in portfolio\n",
    "            dt:    width of a single time step of simulation\n",
    "            nRuns: number of instantiations of paths\n",
    "            hedge: 'None' for no hedge; \n",
    "                   'Triangle' for hedging by triangular shocks; \n",
    "                   'Factor' for hedging by factor models specified for shock evolution.\n",
    "        \"\"\"            \n",
    "                        \n",
    "        # setup hedging notionals\n",
    "        if hedge is None:\n",
    "            N1 = N2 = 0\n",
    "        elif hedge == 'Triangle':\n",
    "            if T <= self.T1:\n",
    "                N1 = 1\n",
    "                N2 = 0\n",
    "            elif T >= self.T2:\n",
    "                N1 = 0\n",
    "                N2 = 1\n",
    "            else:\n",
    "                N1 = (self.T2 - T) / (self.T2 - self.T1)\n",
    "                N2 = (T - self.T1) / (self.T2 - self.T1)\n",
    "        elif hedge == 'Factor':\n",
    "            N1 = (math.exp(-self.beta2 * self.T2 - self.beta1 * T)-math.exp(-self.beta1 * self.T2 - self.beta2 * T))/(math.exp(-self.beta1 * self.T1 - self.beta2 * self.T2)-math.exp(-self.beta1 * self.T2 - self.beta2 * self.T1))\n",
    "            N2 = (math.exp(-self.beta1 * self.T1 - self.beta2 * T)-math.exp(-self.beta2 * self.T1 - self.beta1 * T))/(math.exp(-self.beta1 * self.T1 - self.beta2 * self.T2)-math.exp(-self.beta1 * self.T2 - self.beta2 * self.T1))\n",
    "        else:\n",
    "            raise ValueError('Hedge type must be 1) None 2) Triangle 3) Factor')\n",
    "        \n",
    "        N1 *= (T / self.T1) * math.exp(-self.Q * (T - self.T1))\n",
    "        N2 *= (T / self.T2) * math.exp(-self.Q * (T - self.T2))\n",
    "        \n",
    "        # generate instances of shocks\n",
    "        scipy.random.seed(seed)\n",
    "        sqrtdt = math.sqrt(dt)\n",
    "        # independent Brownian shocks\n",
    "        dw1 = scipy.random.normal(0, sqrtdt, nRuns)\n",
    "        dw2 = scipy.random.normal(0, sqrtdt, nRuns)\n",
    "        # correlated Brownian shocks by rho\n",
    "        dz1 = dw1\n",
    "        dz2 = self.rho * dw1 + math.sqrt(1 - self.rho * self.rho) * dw2\n",
    "        \n",
    "        dQT = self.sigma1 * math.exp(-self.beta1 * T)  * dz1 + self.sigma2 * math.exp(-self.beta2 * T)  * dz2\n",
    "        dQ1 = self.sigma1 * math.exp(-self.beta1 * self.T1) * dz1 + self.sigma2 * math.exp(-self.beta2 * self.T1) * dz2\n",
    "        dQ2 = self.sigma1 * math.exp(-self.beta1 * self.T2) * dz1 + self.sigma2 * math.exp(-self.beta2 * self.T2) * dz2\n",
    "        \n",
    "        # calculate the portfolio PnLs under the rate shocks\n",
    "        # Note: in the second exp function, needs to use scipy version to vectorize.\n",
    "        pnls = spot * math.exp(-self.Q * T) * (scipy.exp(-dQT * T) - 1)\n",
    "        pnls -= N1 * spot * math.exp(-self.Q * self.T1) * (scipy.exp(-dQ1 * T1) - 1)  \n",
    "        pnls -= N2 * spot * math.exp(-self.Q * self.T2) * (scipy.exp(-dQ2 * T2) - 1)\n",
    "        \n",
    "        return (pnls.mean(), pnls.std())\n",
    "        "
   ]
  },
  {
   "cell_type": "code",
   "execution_count": 65,
   "metadata": {
    "collapsed": true
   },
   "outputs": [],
   "source": [
    "# Static parameters\n",
    "sigma1 = 0.01\n",
    "sigma2 = 0.008\n",
    "beta1 = 0.5\n",
    "beta2 = 0.1\n",
    "rho = -0.4\n",
    "T1 = 0.25\n",
    "T2 = 1\n",
    "Q = 0.03"
   ]
  },
  {
   "cell_type": "code",
   "execution_count": 66,
   "metadata": {
    "collapsed": true
   },
   "outputs": [],
   "source": [
    "# Create simulator\n",
    "sim = BenchmarkShockSimulator(sigma1, sigma2, beta1, beta2, rho, T1, T2, Q)"
   ]
  },
  {
   "cell_type": "code",
   "execution_count": 67,
   "metadata": {
    "collapsed": true
   },
   "outputs": [],
   "source": [
    "# Simulation parameters\n",
    "spot = 1\n",
    "dt = 1e-3\n",
    "nRuns = 100000\n",
    "seed = 1\n",
    "Ts = [0.1, 0.25, 0.5, 0.75, 1, 2]\n",
    "hedgeTypes = [None,'Triangle','Factor']"
   ]
  },
  {
   "cell_type": "code",
   "execution_count": 68,
   "metadata": {
    "collapsed": true
   },
   "outputs": [],
   "source": [
    "df = pandas.DataFrame()\n",
    "df['T'] = Ts"
   ]
  },
  {
   "cell_type": "code",
   "execution_count": 69,
   "metadata": {
    "collapsed": true
   },
   "outputs": [],
   "source": [
    "# Run simulations\n",
    "for hedgeType in hedgeTypes:\n",
    "    # choose a nice name for each hedge type\n",
    "    if hedgeType is None:\n",
    "        hedgeTypeName = 'No Hedge'\n",
    "    else:\n",
    "        hedgeTypeName = hedgeType\n",
    "        \n",
    "    # run experiments for different settling times\n",
    "    stds = []\n",
    "    for T in Ts:\n",
    "        mean, std = sim.run(spot, T, dt, nRuns, hedgeType, seed)\n",
    "        stds.append(std*1e3)\n",
    "        \n",
    "    df[hedgeTypeName] = stds"
   ]
  },
  {
   "cell_type": "code",
   "execution_count": 70,
   "metadata": {},
   "outputs": [
    {
     "data": {
      "text/html": [
       "<div>\n",
       "<table border=\"1\" class=\"dataframe\">\n",
       "  <thead>\n",
       "    <tr style=\"text-align: right;\">\n",
       "      <th></th>\n",
       "      <th>T</th>\n",
       "      <th>No Hedge</th>\n",
       "      <th>Triangle</th>\n",
       "      <th>Factor</th>\n",
       "      <th>Triangle efficiency</th>\n",
       "      <th>Factor efficiency</th>\n",
       "    </tr>\n",
       "  </thead>\n",
       "  <tbody>\n",
       "    <tr>\n",
       "      <th>0</th>\n",
       "      <td>0.10</td>\n",
       "      <td>0.030238</td>\n",
       "      <td>0.002042</td>\n",
       "      <td>0.000000</td>\n",
       "      <td>0.932486</td>\n",
       "      <td>0.999988</td>\n",
       "    </tr>\n",
       "    <tr>\n",
       "      <th>1</th>\n",
       "      <td>0.25</td>\n",
       "      <td>0.071404</td>\n",
       "      <td>0.000000</td>\n",
       "      <td>0.000000</td>\n",
       "      <td>1.000000</td>\n",
       "      <td>1.000000</td>\n",
       "    </tr>\n",
       "    <tr>\n",
       "      <th>2</th>\n",
       "      <td>0.50</td>\n",
       "      <td>0.130707</td>\n",
       "      <td>0.001792</td>\n",
       "      <td>0.000001</td>\n",
       "      <td>0.986290</td>\n",
       "      <td>0.999990</td>\n",
       "    </tr>\n",
       "    <tr>\n",
       "      <th>3</th>\n",
       "      <td>0.75</td>\n",
       "      <td>0.180956</td>\n",
       "      <td>0.002558</td>\n",
       "      <td>0.000002</td>\n",
       "      <td>0.985864</td>\n",
       "      <td>0.999990</td>\n",
       "    </tr>\n",
       "    <tr>\n",
       "      <th>4</th>\n",
       "      <td>1.00</td>\n",
       "      <td>0.224536</td>\n",
       "      <td>0.000000</td>\n",
       "      <td>0.000000</td>\n",
       "      <td>1.000000</td>\n",
       "      <td>1.000000</td>\n",
       "    </tr>\n",
       "    <tr>\n",
       "      <th>5</th>\n",
       "      <td>2.00</td>\n",
       "      <td>0.361658</td>\n",
       "      <td>0.130804</td>\n",
       "      <td>0.000033</td>\n",
       "      <td>0.638321</td>\n",
       "      <td>0.999909</td>\n",
       "    </tr>\n",
       "  </tbody>\n",
       "</table>\n",
       "</div>"
      ],
      "text/plain": [
       "      T  No Hedge  Triangle    Factor  Triangle efficiency  Factor efficiency\n",
       "0  0.10  0.030238  0.002042  0.000000             0.932486           0.999988\n",
       "1  0.25  0.071404  0.000000  0.000000             1.000000           1.000000\n",
       "2  0.50  0.130707  0.001792  0.000001             0.986290           0.999990\n",
       "3  0.75  0.180956  0.002558  0.000002             0.985864           0.999990\n",
       "4  1.00  0.224536  0.000000  0.000000             1.000000           1.000000\n",
       "5  2.00  0.361658  0.130804  0.000033             0.638321           0.999909"
      ]
     },
     "execution_count": 70,
     "metadata": {},
     "output_type": "execute_result"
    }
   ],
   "source": [
    "# display the standard deviations in units of 10^-3.\n",
    "df['Triangle efficiency'] = 1-df['Triangle']/df['No Hedge']\n",
    "df['Factor efficiency'] = 1-df['Factor']/df['No Hedge']\n",
    "df.round(6)"
   ]
  },
  {
   "cell_type": "markdown",
   "metadata": {},
   "source": [
    "#### Discussions\n",
    "\n",
    "Hedging by triangular shocks achieves an excellent efficiency (>0.98) for $T_1\\le T\\le T_2$, reasonable (~0.93) for $T<T_1$, but poorly (~0.64) for $T>T_2$. This means that the simple triangular model is a fairly good model as long as the benchmark tenors used in hedging cover the target range of settling dates in the portfolio. The reason for this performance decline approaching the curve backend is that the assumption of forward curve moving in parallel in the backend (from 1y outward) is unrealistic. In fact, the backend of the forward curve responds to a less extent to the shocks than the front end does. More realistically, the 2y tenor will move less than the 1y tenor. As a consequence, the triangular shock model over-estimates the hedging notional on 1y tenor.\n",
    "\n",
    "The factor model hedging essentially offsets all movements in $Q(T)$ (>0.9999). This is expected because the shocks are hedged in exactly the same way they are generated, according to the 2-factor stochastic differential equations."
   ]
  }
 ],
 "metadata": {
  "kernelspec": {
   "display_name": "Python 3",
   "language": "python",
   "name": "python3"
  },
  "language_info": {
   "codemirror_mode": {
    "name": "ipython",
    "version": 3
   },
   "file_extension": ".py",
   "mimetype": "text/x-python",
   "name": "python",
   "nbconvert_exporter": "python",
   "pygments_lexer": "ipython3",
   "version": "3.6.0"
  }
 },
 "nbformat": 4,
 "nbformat_minor": 2
}
