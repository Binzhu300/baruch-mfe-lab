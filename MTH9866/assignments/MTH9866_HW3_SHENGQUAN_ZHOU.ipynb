{
 "cells": [
  {
   "cell_type": "markdown",
   "metadata": {},
   "source": [
    "### MTH9866 Modeling and Market Making in Foreign Exchange\n",
    "\n",
    "#### Homework Assignment 3\n",
    "\n",
    "#### ShengQuan Zhou\n",
    "---------------------------"
   ]
  },
  {
   "cell_type": "markdown",
   "metadata": {},
   "source": [
    "### Question 1\n",
    "\n",
    "Derive the expression for the ATM strike, given the ATM volatility and other market parameters, in the case where the market convention premium currency is the asset currency. In that case the price of the portfolio is (why?)\n",
    "\n",
    "$$\n",
    "\\Pi(S) = v(S) - S\\frac{v_0}{S_0}, \\Leftarrow \\mathbf{\\text{I think this is nonsense. See my solution below.}}\n",
    "$$\n",
    "\n",
    "where $\\Pi(S)$ is the price of the portfolio (which varies with spot $S$), $v(S)$ is the price of the option (which varies with spot $S$), $S$ is the spot, $S_0$ is the initial spot (at the time of the trade), and $v_0$ is the initial price of the option (equal to $v(S_0)$). Note that the option here might be a call or might be put.\n",
    "\n",
    "Calculate the derivative of $\\Pi(S)$ with repsect to $S$ to get the delta of the portfolio (take at spot $S=S_0$), and then solve for the strike that makes the delta of a call portfolio equal to the negative of the delta of a put portfolio (using Black-Scholes formulas for the call and put prices and deltas)."
   ]
  },
  {
   "cell_type": "markdown",
   "metadata": {},
   "source": [
    "#### Solution:\n",
    "\n",
    "Recall that, the value of a forward contract expiring in $T$ is equivalent to being long 1 unit of a zero coupon bond in asset currency and being short $K$ units of a zero coupon bond in denominated currency:\n",
    "$$\n",
    "v(S) = Se^{-QT} - Ke^{-RT},\n",
    "$$\n",
    "where $S$ is the spot exchange rate, $Q$ is the interest for asset currency, $R$ is the interest rate for denominated currency. Generalizing to an option premium in Black-Scholes framework, we have\n",
    "$$\n",
    "v_{call}(S) = +Se^{-QT}N(+d_+) - Ke^{-RT}N(-d_-),\n",
    "$$\n",
    "for a call option,\n",
    "$$\n",
    "v_{put}(S) = -Se^{-QT}N(-d_+) + Ke^{-RT}N(-d_-),\n",
    "$$\n",
    "for a put option. The above formulae are in units of the denominated currency (both $S$ and $K$ have units in denominated currency). The corresponding formulae in units of the asset currency are obtained by dividing the option premium by the exchange rate $S$, i.e. $V(S) = \\frac{v(S)}{S}$:\n",
    "$$\n",
    "V_{call}(S) = +e^{-QT}N(+d_+) - \\frac{K}{S}e^{-RT}N(-d_-),\n",
    "$$\n",
    "for a call option,\n",
    "$$\n",
    "V_{put}(S) = -e^{-QT}N(-d_+) + \\frac{K}{S}e^{-RT}N(-d_-),\n",
    "$$\n",
    "for a put option.\n",
    "\n",
    "\n",
    "Take the derivative of $V(S)$ with respect to $S$, we get the delta's in units of the asset currency:\n",
    "$$\n",
    "\\Delta' = \\frac{\\partial V(S)}{\\partial S} = \\frac{\\partial }{\\partial S} \\left(\\frac{v(S)}{S}\\right)\n",
    "=\\frac{1}{S}\\frac{\\partial v(S)}{\\partial S} - \\frac{v(S)}{S^2}=\\frac{1}{S}\\Delta_{BS}(S) - \\frac{V(S)}{S}.\n",
    "$$\n",
    "Using $\\Delta_{call} = e^{-QT}N(d_{-}), \\Delta_{put} = -e^{-QT}N(-d_{-})$, we get\n",
    "$$\n",
    "\\Delta'_{call} = +\\frac{1}{S}e^{-QT}N(+d_{+}) - \\frac{V_{call}(S)}{S} = +\\frac{K}{S^2}e^{-RT}N(-d_-),\n",
    "$$\n",
    "for a call option,\n",
    "$$\n",
    "\\Delta'_{put} = -\\frac{1}{S}e^{-QT}N(-d_{+}) - \\frac{V_{put}(S)}{S} = -\\frac{K}{S^2}e^{-RT}N(-d_-),\n",
    "$$\n",
    "for a put option.\n",
    "\n",
    "<span style=\"color:red\">Note how the extra term $\\frac{V(S)}{S}$ appears here. This term should NOT be artificially introduced as in the problem statement $\\Pi(S) = v(S) - S\\frac{v_0}{S_0}$. Instead, it appears naturally out of taking derivative with respect to the option premium expressed in units of the asset currency.</span>\n",
    "\n",
    "The delta-neutral ATM occurs when $\\Delta'_{call} = -\\Delta'_{put}$, i.e., $N(d_-) = N(-d_-)$. Because $N(d_-) + N(-d_-)=1$, we have $N(d_-)=\\frac{1}{2}$, or $d_- = 0$. Thus,\n",
    "$$\n",
    "\\frac{\\log\\frac{S}{K} + \\left(R-Q-\\frac{1}{2}\\sigma^2\\right)T}{\\sigma\\sqrt{T}} = 0 \\Rightarrow K = Fe^{-\\frac{1}{2}\\sigma^2 T}.\n",
    "$$"
   ]
  },
  {
   "cell_type": "markdown",
   "metadata": {},
   "source": [
    "### Question 2\n",
    "\n",
    "Assume an FX market where the spot is 1, time to expiration is 0.5y, forward points are +0.0040, and the denominated discount rate is 1.75%. What is the strike corresponding to a 25-delta call option when its implied volatility is 8.75%, using market-convention delta? Assume the market convention premium currency is the denominated currency."
   ]
  },
  {
   "cell_type": "markdown",
   "metadata": {},
   "source": [
    "#### Solution:\n",
    "\n",
    "According to lecture notes,\n",
    "\n",
    "$$\n",
    "K_c = Fe^{\\frac{1}{2}\\sigma_K^2 T - \\sigma_K \\sqrt{T} N^{-1}\\left( \\Delta_c e^{QT} \\right)}.\n",
    "$$\n",
    "\n",
    "Use the fact that $F=Se^{(R-Q)T}$, we get $e^{QT} = \\frac{S}{F}e^{RT}$. Thus,\n",
    "$$\n",
    "K_c = Fe^{\\frac{1}{2}\\sigma_K^2 T - \\sigma_K \\sqrt{T} N^{-1}\\left( \\Delta_c \\frac{S}{F}e^{RT} \\right)}\n",
    "= 1.004\\times \\exp\\left\\{ \\frac{1}{2}\\times 0.0875^2 \\times\\frac{1}{2} - 0.0875 \\times \\sqrt{\\frac{1}{2}}N^{-1}\\left(0.25\\times \\frac{1}{1.004} e^{0.0175\\times \\frac{1}{2}}\\right)\\right\\} \\approx 1.0485.\n",
    "$$"
   ]
  },
  {
   "cell_type": "markdown",
   "metadata": {},
   "source": [
    "### Question 3\n",
    "\n",
    "Describe the risk reversal “beta”."
   ]
  },
  {
   "cell_type": "markdown",
   "metadata": {},
   "source": [
    "#### Answer:\n",
    "\n",
    "Note: risk reversal is defined as the implied volatility skew traded as a separate asset in FX options market. Risk reversal depends on strike (or delta) as well as tenor. For example, 25-delta risk reversal means an implied volatility spread: the 25-delta call implied volatility minus the 25-delta put implied volatility.\n",
    "\n",
    "Moves in risk reversals have a relatively high correlation with moves in spot. This is often quantified as the \"risk reversal beta\", or the slope of a linear regression of day-on-day risk reversal change against spot log return. A number like 0.2 means \"risk reversal gets more positive by 0.2 vols for ever 1% move up in spot\".\n",
    "\n"
   ]
  },
  {
   "cell_type": "markdown",
   "metadata": {},
   "source": [
    "### Question 4\n",
    "\n",
    "Explain the two arbitrage conditions that should be avoided when interpolating in the strike direction, and the one (weak) arbitrage condition to avoid when interpolating in the time direction."
   ]
  },
  {
   "cell_type": "markdown",
   "metadata": {},
   "source": [
    "#### Answer:\n",
    "\n",
    "For a call option, **strike arbitrage** occurs when either of the following conditions is violated:\n",
    "\\begin{eqnarray}\n",
    "&& \\frac{\\partial C}{\\partial K} < 0,\\\\\n",
    "&& \\frac{\\partial^2 C}{\\partial K^2} > 0.\n",
    "\\end{eqnarray}\n",
    "\n",
    "**Maturity arbitrage** occurs when the following condition is violated: $e^{QT}C\\left(Ke^{(R-Q)T}, T\\right)$ is an increasing function of $T$. In the language of implied volatilities, this translates to $T\\sigma^2(T)$ is an increasing function of $T$. For an explicit construction of a maturity arbitrage portfolio, see Bergomi's book.\n",
    "\n",
    "The above two no-arbitrage condition ensures that the Dupire formula\n",
    "$$\n",
    "\\mathbb{E}\\left[\\sigma_T^2\\middle|K\\right] = 2\\frac{\\frac{\\partial C}{\\partial T} + QC + (R-Q)K\\frac{\\partial C}{\\partial K}}{K^2\\frac{\\partial^2 C}{\\partial K^2}}\n",
    "$$\n",
    "is always positive.\n",
    "\n"
   ]
  },
  {
   "cell_type": "markdown",
   "metadata": {},
   "source": [
    "### Question 5\n",
    "\n",
    "Implement a cubic spline interpolation for implied volatility vs strike which has non-standard boundary conditions to give more intuitive volatility extrapolation.\n",
    "\n",
    "Assume you are given five implied volatilities, $\\sigma_1$ through $\\sigma_5$, for five known strikes, $K_1$ through $K_5$, for some known time to expiration $T$.\n",
    "\n",
    "Set up the boundary condition of the cubic spline such that implied volatility reaches a constant value a certain distance beyond the edge points. The distance is defined by a parameter, the **cubic spline extrapolation parameter**, $F$. On the left side, for strikes less than the minimum marked strike $K_1$, implied volatility reaches a constant value at strike $K_{min}$:\n",
    "\n",
    "$$\n",
    "K_{min} = K_1 e^{-F\\sigma_1\\sqrt{T}},\n",
    "$$\n",
    "\n",
    "and on the right side, for strikes greater that the maximum marked strike $K_5$, implied volatility reaches a constant value at strike $K_{max}$:\n",
    "\n",
    "$$\n",
    "K_{max} = K_5 e^{+F\\sigma_5\\sqrt{T}}.\n",
    "$$\n",
    "\n",
    "Start with the standard method for defining a cubic spline (eg here: http://www.aip.de/groups/soe/local/numres/bookcpdf/c3-3.pdf), but add in two extra points at $K_{min}$ and $K_{max}$ where you know that the slope of vol vs strike goes to zero, and the second derivative of vol vs strike goes to zero, but where you do not know the value of volatility (that comes out of the solution for the cubic spline). Of course the first and second derivatives of vol vs strike should be continuous across $K_1$ and $K_5$.\n",
    "\n",
    "Implement a Python class that is initialized with the five strikes, five implied volatilities, time to expiration, and cubic spline extrapolation parameter. As part of initialization it will need to solve a linear system to generate the cubic spline parameters, for which you can use the functions in the scipy or numpy packages. The class should include a “volatility” method that takes a strike and returns an interpolated volatility.\n",
    "\n",
    "Finally, generate plots of implied volatility vs strike for $F=0.01$ and $F=10$ for the following market: $T=0.5$y; ATM volatility of 8%, 25-delta risk reversal of 1%, 10-delta risk reversal of 1.8%, 25-delta butterfly of 0.25%, and 10-delta butterfly of 0.80%; spot=1; forward points=0; denominated discount rate=0%. For this you can use the plotxy function in the WST library wst/util/plot.py; you should return one chart with the two curves on it, showing implied volatility vs strike for all strikes between the 1-delta put and 1-delta call. \n",
    "\n",
    "Give some intuition behind the shape of the two plots in terms of the value of F."
   ]
  },
  {
   "cell_type": "markdown",
   "metadata": {},
   "source": [
    "#### Solution:\n",
    "\n",
    "See NLA Primer by Dan Stefanica, Chapter 2, Page \\#75 for a detail account on how to implement a cubic spline interplation in a naive way. Only slight modification is needed to adapt the algorithm to the present case with flattening boundary conditions. It would be an interesting exercise to adapt the algorithm of an efficient implementation of cubic spline interpolation in Chapter 6, Page \\#181 to the present case, but we are not pursuing this improvement here. "
   ]
  },
  {
   "cell_type": "code",
   "execution_count": 52,
   "metadata": {
    "collapsed": true
   },
   "outputs": [],
   "source": [
    "import bisect\n",
    "import math\n",
    "import scipy\n",
    "from scipy.stats import norm\n",
    "import numpy as np"
   ]
  },
  {
   "cell_type": "code",
   "execution_count": 53,
   "metadata": {
    "collapsed": true
   },
   "outputs": [],
   "source": [
    "class VolatilityStrikeCubicSpline:\n",
    "    \"\"\"\n",
    "    A cubic spline fit to a set of given implied volatilities/strikes, with \n",
    "    boundary conditions set such that volatilities flatten out a certain number \n",
    "    of standard deviations away from the outside strikes on either side.\n",
    "    \"\"\"\n",
    "    \n",
    "    def __init__(self, tExp, strikes, vols, F):\n",
    "        \"\"\"\n",
    "            t:       a fixed expiration\n",
    "            strikes: a set of given strikes\n",
    "            vols:    a set of implied volatilities associated with strikes and t\n",
    "            F:       extrapolation factor F\n",
    "        \n",
    "        \"\"\"\n",
    "        \n",
    "        minStrike = strikes[0]  * math.exp(-F * vols[0]  * math.sqrt(tExp))\n",
    "        maxStrike = strikes[-1] * math.exp( F * vols[-1] * math.sqrt(tExp))\n",
    "        \n",
    "        nIntPoints = len(strikes) # = 5\n",
    "        nAllPoints = nIntPoints+2 # = 7\n",
    "        nIntervals = nAllPoints-1 # = 6\n",
    "        nParams = nIntervals*4    # = 24\n",
    "        \n",
    "        # expand the list self.strikes to length nPoints\n",
    "        self.strikes = [minStrike] + strikes + [maxStrike]\n",
    "        \n",
    "        # matrix\n",
    "        M = np.array([[0.0]*nParams for i in range(nParams)])\n",
    "        \n",
    "        # left boundary, row 0,1\n",
    "        M[0][1] = 1\n",
    "        M[0][2] = 2*self.strikes[0]\n",
    "        M[0][3] = 3*self.strikes[0]*self.strikes[0]\n",
    "        M[1][2] = 2\n",
    "        M[1][3] = 6*self.strikes[0]\n",
    "        \n",
    "        # right boundary, row n-2,n-1\n",
    "        M[nParams-2][nParams-3] = 1\n",
    "        M[nParams-2][nParams-2] = 2*self.strikes[-1]\n",
    "        M[nParams-2][nParams-1] = 3*self.strikes[-1]*self.strikes[-1]\n",
    "        M[nParams-1][nParams-2] = 2\n",
    "        M[nParams-1][nParams-1] = 6*self.strikes[-1]\n",
    "        \n",
    "        # interior points\n",
    "        for i in range(nIntervals-1): # i+1=1,...,5; i+2=2,...,6.\n",
    "            # row 2,6,...,4n-6, thus (n-1) rows in total\n",
    "            M[4*i+2][4*i] = 1\n",
    "            M[4*i+2][4*i+1] = self.strikes[i+1]\n",
    "            M[4*i+2][4*i+2] = self.strikes[i+1]*self.strikes[i+1]\n",
    "            M[4*i+2][4*i+3] = self.strikes[i+1]*self.strikes[i+1]*self.strikes[i+1]\n",
    "            # row 3,7,...,4n-5, thus (n-1) rows in total\n",
    "            M[4*i+3][4*i] = 1\n",
    "            M[4*i+3][4*i+1] = self.strikes[i+1]\n",
    "            M[4*i+3][4*i+2] = self.strikes[i+1]*self.strikes[i+1]\n",
    "            M[4*i+3][4*i+3] = self.strikes[i+1]*self.strikes[i+1]*self.strikes[i+1]\n",
    "            M[4*i+3][4*i+4] = -1\n",
    "            M[4*i+3][4*i+5] = -self.strikes[i+1]\n",
    "            M[4*i+3][4*i+6] = -self.strikes[i+1]*self.strikes[i+1]\n",
    "            M[4*i+3][4*i+7] = -self.strikes[i+1]*self.strikes[i+1]*self.strikes[i+1]\n",
    "            # row 4,8,...,4n-4, thus (n-1) rows in total\n",
    "            M[4*i+4][4*i+1] = 1\n",
    "            M[4*i+4][4*i+2] = 2*self.strikes[i+1]\n",
    "            M[4*i+4][4*i+3] = 3*self.strikes[i+1]*self.strikes[i+1]\n",
    "            M[4*i+4][4*i+5] = -1\n",
    "            M[4*i+4][4*i+6] = -2*self.strikes[i+1]\n",
    "            M[4*i+4][4*i+7] = -3*self.strikes[i+1]*self.strikes[i+1]\n",
    "            # row 5,9,...,4n-3, thus (n-1) rows in total\n",
    "            M[4*i+5][4*i+2] = 2\n",
    "            M[4*i+5][4*i+3] = 6*self.strikes[i+1]\n",
    "            M[4*i+5][4*i+6] = -2\n",
    "            M[4*i+5][4*i+7] = -6*self.strikes[i+1]\n",
    "        \n",
    "        # right hand side\n",
    "        z = np.zeros(nParams)\n",
    "        for i in range(nIntervals-1): # i=0,...,4\n",
    "            z[4*i+2] = vols[i]\n",
    "        \n",
    "        # solution\n",
    "        w = np.linalg.solve(M,z)\n",
    "        \n",
    "        # coefficients\n",
    "        self.a = [ w[4*i] for i in range(nIntervals) ]\n",
    "        self.b = [ w[4*i+1] for i in range(nIntervals) ]\n",
    "        self.c = [ w[4*i+2] for i in range(nIntervals) ]\n",
    "        self.d = [ w[4*i+3] for i in range(nIntervals) ]\n",
    "        \n",
    "    def vol(self, strike):\n",
    "        \n",
    "        if strike < self.strikes[0]:\n",
    "            strike = self.strikes[0]\n",
    "        \n",
    "        if strike > self.strikes[-1]:\n",
    "            strike = self.strikes[-1]\n",
    "            \n",
    "        index = bisect.bisect_left(self.strikes, strike)-1\n",
    "        \n",
    "        if index < 0:\n",
    "            index = 0\n",
    "        \n",
    "        if index >= len(self.strikes)-1:\n",
    "            index = len(self.strikes)-2\n",
    "            \n",
    "        a = self.a[index]\n",
    "        b = self.b[index]\n",
    "        c = self.c[index]\n",
    "        d = self.d[index]\n",
    "        \n",
    "        return a + b*strike + c*strike*strike + d*strike*strike*strike"
   ]
  },
  {
   "cell_type": "code",
   "execution_count": 54,
   "metadata": {
    "collapsed": true
   },
   "outputs": [],
   "source": [
    "spot = 1\n",
    "atmVol  = 0.08\n",
    "rr25 = 0.01\n",
    "rr10 = 0.018\n",
    "bf25 = 0.0025\n",
    "bf10 = 0.0080\n",
    "tExp = 0.5"
   ]
  },
  {
   "cell_type": "code",
   "execution_count": 55,
   "metadata": {
    "collapsed": true
   },
   "outputs": [],
   "source": [
    "vol25c = atmVol + rr25 / 2. + bf25\n",
    "vol25p = atmVol - rr25 / 2. + bf25\n",
    "vol10c = atmVol + rr10 / 2. + bf10\n",
    "vol10p = atmVol - rr10 / 2. + bf10\n",
    "\n",
    "atmStrike = spot * math.exp(atmVol * atmVol * texp /2.)\n",
    "strike25c  = spot * math.exp(vol25c * vol25c * texp / 2. - vol25c * math.sqrt(texp) * scipy.stats.norm.ppf(0.25))\n",
    "strike25p  = spot * math.exp(vol25p * vol25p * texp / 2. + vol25p * math.sqrt(texp) * scipy.stats.norm.ppf(0.25))\n",
    "strike10c  = spot * math.exp(vol10c * vol10c * texp / 2. - vol10c * math.sqrt(texp) * scipy.stats.norm.ppf(0.10))\n",
    "strike10p  = spot * math.exp(vol10p * vol10p * texp / 2. + vol10p * math.sqrt(texp) * scipy.stats.norm.ppf(0.10))\n",
    "\n",
    "strikes = [strike10p, strike25p, atmStrike, strike25c, strike10c]\n",
    "vols = [vol10p, vol25p, atmVol, vol25c, vol10c]"
   ]
  },
  {
   "cell_type": "code",
   "execution_count": 56,
   "metadata": {
    "scrolled": false
   },
   "outputs": [],
   "source": [
    "# create two calculators for F=0.01 and F=10.0\n",
    "vscs1 = VolatilityStrikeCubicSpline(texp, strikes, vols, 0.01)\n",
    "vscs2 = VolatilityStrikeCubicSpline(texp, strikes, vols, 10.0)"
   ]
  },
  {
   "cell_type": "code",
   "execution_count": 57,
   "metadata": {},
   "outputs": [],
   "source": [
    "# setup the boundary for charting\n",
    "strikeMin = spot * math.exp(vol10p * vol10p * tExp / 2. + vol10p * math.sqrt(tExp) * scipy.stats.norm.ppf(0.01))\n",
    "strikeMax = spot * math.exp(vol10c * vol10c * tExp / 2. - vol10c * math.sqrt(tExp) * scipy.stats.norm.ppf(0.01))\n",
    "# setup the sample points\n",
    "nStrikes = 100\n",
    "dStrike = (strikeMax - strikeMin) / (nStrikes - 1)"
   ]
  },
  {
   "cell_type": "code",
   "execution_count": 58,
   "metadata": {},
   "outputs": [],
   "source": [
    "strikes = []\n",
    "vol1List = []\n",
    "vol2List = []\n",
    "for i in range(nStrikes):\n",
    "    strike = strikeMin + i * dStrike\n",
    "    vol1 = vscs1.vol(strike) * 100\n",
    "    vol2 = vscs2.vol(strike) * 100\n",
    "    strikes.append(strike)\n",
    "    vol1List.append(vol1)\n",
    "    vol2List.append(vol2)"
   ]
  },
  {
   "cell_type": "code",
   "execution_count": 59,
   "metadata": {
    "collapsed": true
   },
   "outputs": [],
   "source": [
    "import matplotlib.pyplot as plt"
   ]
  },
  {
   "cell_type": "code",
   "execution_count": 60,
   "metadata": {},
   "outputs": [
    {
     "data": {
      "image/png": "[encoded data removed]",
      "text/plain": [
       "<matplotlib.figure.Figure at 0x7f7b292a9dd8>"
      ]
     },
     "metadata": {},
     "output_type": "display_data"
    }
   ],
   "source": [
    "line1, = plt.plot(strikes, vol1List, label='F=0.01')\n",
    "line2, = plt.plot(strikes, vol2List, label='F=10.0')\n",
    "plt.legend(handles=[line1, line2])\n",
    "plt.xlabel('Strikes')\n",
    "plt.ylabel('Implied Vol (%)')\n",
    "plt.title('Cubic spline interpolation of implied vol w.r.t. strikes')\n",
    "plt.grid(True)\n",
    "plt.show()"
   ]
  },
  {
   "cell_type": "markdown",
   "metadata": {},
   "source": [
    "#### Discussion\n",
    "\n",
    "The extrapolation factor $F$ represents the number of standard deviations beyond the boundary that interpolated vols flatten out. Thus, the interpolated vols for $F=0.01$ flatten out quickly beyond the boundary, while that for $F=10$ extrapolates linearly as shown in the above chart since the plotted region is well within 10 standasrd deviations."
   ]
  }
 ],
 "metadata": {
  "kernelspec": {
   "display_name": "Python 3",
   "language": "python",
   "name": "python3"
  },
  "language_info": {
   "codemirror_mode": {
    "name": "ipython",
    "version": 3
   },
   "file_extension": ".py",
   "mimetype": "text/x-python",
   "name": "python",
   "nbconvert_exporter": "python",
   "pygments_lexer": "ipython3",
   "version": "3.6.0"
  }
 },
 "nbformat": 4,
 "nbformat_minor": 2
}
