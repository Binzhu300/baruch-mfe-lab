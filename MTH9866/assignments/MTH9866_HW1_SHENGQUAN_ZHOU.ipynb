{
 "cells": [
  {
   "cell_type": "markdown",
   "metadata": {},
   "source": [
    "### MTH9866 Modeling and Market Making in Foreign Exchange\n",
    "\n",
    "#### Homework Assignment 1\n",
    "\n",
    "#### ShengQuan Zhou\n",
    "---------------------------"
   ]
  },
  {
   "cell_type": "markdown",
   "metadata": {},
   "source": [
    "### Question 1\n",
    "\n",
    "Describe the four factors that contribute to the bid and ask prices a market maker will show to a client during voice trading?"
   ]
  },
  {
   "cell_type": "markdown",
   "metadata": {},
   "source": [
    "#### Answer:\n",
    "\n",
    "- Inter-dealer market: \n",
    "> This is the market a dealer can hedge at market maker prices, if desired, the trading activities at client market.\n",
    "- Current risk position: \n",
    "> If the current inventory position is already long, bias the quote prices downward to reduce the ask prices so that a client is more likely to buy from dealer; if the current inventory position is already short, bias up to increase the bid prices so that a client is more likely to sell to dealer.\n",
    "- Market views: \n",
    "> Depending on the dealer's view about the market, he/she might want to take risk one way or the other. If the dealer thinks the market is going up, he/she will raise his/her bid price to encourage the clients to sell to dealer.\n",
    "- Client behavior:\n",
    "> Depending on the client's typical behavior (buy or sell), or if the client is typically right about market direction in the past (informative trader or noise trader) over a time frame consistent with the dealer's risk holding period, the dealer might want to adjust the quote prices accordingly."
   ]
  },
  {
   "cell_type": "markdown",
   "metadata": {},
   "source": [
    "### Question 2\n",
    "\n",
    "Why has the daily turnover in the FX markets increased so much in the past fifteen years? Give some statistics."
   ]
  },
  {
   "cell_type": "markdown",
   "metadata": {},
   "source": [
    "#### Answer:\n",
    "\n",
    "The primary reason for the vast increase in the daily turnover in the FX markets in the past fifteen years is the process of shifting trading activities to electronic markets. Electronic trading leads to more transparency in prices, lower transaction costs, and lower bid/ask spreads, which encourages greater market participation and higher trading volumes. In addition, the following factors also contributed to the increase:\n",
    "- the growing importance of foreign exchange as an asset class;\n",
    "- the increased trading activity of high-frequency traders;\n",
    "- the emergence of retail investors as an important market segment.\n",
    "\n",
    "Statistics on daily turnover in the FX markets can be found in __[Triennial Survey](http://www.bis.org/publ/rpfx16.htm)__.\n",
    "\n",
    "| Daily turnover (Billions of USD)| 1998   | 2001   | 2004  | 2007  | 2010  | 2013  | 2016  |\n",
    "| :-------------------------------| -----: | -----: | ----: |-----: |:-----:| -----:|:-----:|\n",
    "| Spot                            | 568    | 386    | 631   | 1,005 | 1,488 | 2,047 | 1,652 |\n",
    "| Forward/Swaps                   | 862    | 786    | 1,163 | 2,076 | 2,234 | 2,919 | 3,078 |\n",
    "| Total (including other products)| 1,527  | 1,239  | 1,934 | 3,324 | 3,971 | 5,357 | 5,067 |\n",
    "\n",
    "Notice that trading in foreign exchange (FX) markets averaged \\$5.1 trillion per day in April 2016, according to the 2016 Triennial Central Bank Survey of FX and over-the-counter (OTC) derivatives markets. This is down from \\$5.4 trillion in April 2013. FX spot trading declined for the first time since 2001, even as activity in FX derivatives continued to increase. The reason for the slowing down or declining of FX spot trading is possibly due to the completion of the process of moving to electronic platform.\n"
   ]
  },
  {
   "cell_type": "markdown",
   "metadata": {},
   "source": [
    "### Question 3\n",
    "\n",
    "Describe the OTC market structure and the different roles involved in executing a trade. Describe the steps involved in executing a trade for voice trading and then for electronic trading."
   ]
  },
  {
   "cell_type": "markdown",
   "metadata": {},
   "source": [
    "#### Answer:\n",
    "\n",
    "FX OTC market structure and roles:\n",
    "- Clients (market takers)\n",
    "> those (humans) who want to trade FX: corporates, hedge funds, pension of sovereign wealth funds, small banks without flobal FX desks, retail channels. <br><br> In voice trading, the trade request is made on phone; in electronic trading, via some computer applications.\n",
    "- Salespeople\n",
    "> those who talk to clients and take client reqeusts for trades. <br><br> In voice trading, on the phone or chat channels; in electronic trading, replaced by some computer applications.\n",
    "- Traders\n",
    "> those who talk to salespeople in response to a client trade request. <br><br> They have two responsibilities: (1) make markets to clients; (2) manage market risks. <br><br> In voice trading, they are human traders; in electronic trading, replaced by market making computer programs while human traders monitoring the programs.\n",
    "\n",
    "Procedure of executing a trade:\n",
    "\n",
    "- Voice trading\n",
    ">1. Client calls a dealer salesperson and asks for a two-way bid/ask prices for a specific currency in a specific amount of notional. \n",
    ">2. Salesperson takes the client call, <span style=\"color:red\">put the phone on mute</span>, and yells over to the spot trader for that currency, asking for the two-way price in the size the client wants, and tells the trade the client name as well.\n",
    ">3. Trader looks at the inter-dealer market, his risk position, his views on the short-term market direction, and historical trading behavior of the client, and shouts bid and ask prices back to the salesperson.\n",
    ">4. The salesperson responds with the price quotes back to the client, who decides whether he/she wants to buy at the offer or sell to the bid. If so, he/she tells the salesperson so, and the trade is done.\n",
    "\n",
    "- Electronic trading\n",
    ">1. Client opens a trading application for a specific dealer on a computer, finds the screen for the currency he/she wants to trade and enters the notional he/she wants to trade.\n",
    ">2. The price-making engine at the dealer receives the request for quote and looks at the inter-dealer electronic market, the risk position of the electronic book, includes any short-term market direction bias (either manually-specified or determined algorithmically), and includes any bias due to historical trading behavior of the client. It calculates bid and ask prices and sends them back to the client. The results update as those four inputs change through time.\n",
    ">3. The client sees the prices in their application and, if he/she wants to trade, clicks to buy at the offer or sell at the bid.\n",
    ">4. The dealer receives the trade request and executes the trade. The trade request might still be rejected if the market has moved sufficiently far since the original quote."
   ]
  },
  {
   "cell_type": "markdown",
   "metadata": {},
   "source": [
    "### Question 4\n",
    "\n",
    "Today is October 27th, 2015. Tomorrow (October 28th) is a good business day for all three currencies. October 29th is a JPY currency settlement holiday. October 30th (a Friday) is a USD settlement holiday and November 2nd (a Monday) is a EUR settlement holiday. November 3rd is a good business day for all three currencies.\n",
    "\n",
    "The EURUSD mid-market spot rate is 1.1300 (the price of a EUR in USD) and the USDJPY mid-market spot rate is 120.00 (the price of a USD in JPY). The USD interest rate is 0.25%, the EUR interest rate is 0.50%, and the JPY interest rate is 0.10%.\n",
    "\n",
    "What are the spot dates for EURUSD, for USDJPY, and for EURJPY? What is the EURJPY mid-market spot rate implied from the triangle arbitrage?"
   ]
  },
  {
   "cell_type": "markdown",
   "metadata": {},
   "source": [
    "#### Solution:\n",
    "\n",
    "Spot dates are\n",
    "- October 29th for EURUSD;\n",
    "> - Move 1 day ahead gives Oct 28, which is a good business day for all three currencies.\n",
    "> - Move 1 more day gives Oct 29, which is a holiday for JPY, irrelevant for EURUSD, so the EURUSD spot date is Oct 29.\n",
    "- November 2nd for USDJPY;\n",
    "> - Move 1 day ahead gives Oct 28, which is a good business day for all three currencies.\n",
    "> - Move 1 more day gives Oct 29, which is a holiday for JPY; skip.\n",
    "> - Move 1 more day gives Oct 30, which is a holiday for USD; skip.\n",
    "> - Move 1 more day (skipping weekends) gives Nov 2, which is a holiday for EUR, irrelevant for USDJPY, so the USDJPY spot date is Nov 2.\n",
    "- November 3rd for EURJPY.\n",
    "> - Move 1 day ahead gives Oct 28, which is a good business day for all three currencies; \n",
    "> - Move 1 more day gives Oct 29, which is a holiday for JPY; skip.\n",
    "> - Move 1 more day gives Oct 30, which is a holiday for USD. This is the second step of the two business day steps and EURJPY is a cross, skip.\n",
    "> - Move 1 more day (skipping weekends) gives Nov 2, which is a holiday for EUR, skip.\n",
    "> - Move 1 more day gives Nov 3, which is a good business day for all three currencies, so the EURJPY spot date is Nov 3.\n",
    "\n",
    "Use Actural/365 day-count convention, and pick Oct 27 as a common starting point,\n",
    "$$\n",
    "\\text{EURJPY}^{\\text{Nov 3}} = \\text{EURJPY}^{\\text{Oct 27}}\\times \\exp\\left[(r_{\\text{JPY}}-r_{\\text{EUR}})\\frac{7}{365}\\right]\\\\\n",
    "\\text{USDJPY}^{\\text{Nov 2}} = \\text{USDJPY}^{\\text{Oct 27}}\\times \\exp\\left[(r_{\\text{JPY}}-r_{\\text{USD}})\\frac{6}{365}\\right]\\\\\n",
    "\\text{EURUSD}^{\\text{Oct 29}} = \\text{EURUSD}^{\\text{Oct 27}}\\times \\exp\\left[(r_{\\text{USD}}-r_{\\text{EUR}})\\frac{2}{365}\\right]\\\\\n",
    "$$\n",
    "and the triangle relation on Oct 27, (instead of <span style=\"color:red\">triangle</span>, I would rather call this relation <span style=\"color:red\">cyclic</span> as $\\text{EURJPY}\\times \\text{JPYUSD} \\times \\text{USDEUR} = 1$):\n",
    "$$\n",
    "\\frac{\\text{EURJPY}^{\\text{Oct 27}}}{\\text{EURUSD}^{\\text{Oct 27}} \\times \\text{USDJPY}^{\\text{Oct 27}}} = 1,\n",
    "$$\n",
    "we get\n",
    "$$\n",
    "\\frac{\\text{EURJPY}^{\\text{Nov 3}} \\exp\\left[-(r_{\\text{JPY}}-r_{\\text{EUR}})\\frac{7}{365}\\right]}{ \\text{EURUSD}^{\\text{Oct 29}} \\exp\\left[-(r_{\\text{USD}}-r_{\\text{EUR}})\\frac{2}{365}\\right]\\times \\text{USDJPY}^{\\text{Nov 2}}\\exp\\left[-(r_{\\text{JPY}}-r_{\\text{USD}})\\frac{6}{365}\\right]} = 1,\n",
    "$$\n",
    "or\n",
    "\\begin{eqnarray}\n",
    "\\text{EURJPY}^{\\text{Nov 3}} &=& \\text{EURUSD}^{\\text{Oct 29}}\\times \\text{USDJPY}^{\\text{Nov 2}}\\times \\exp\\left[-(r_{\\text{USD}}-r_{\\text{EUR}})\\frac{2}{365}-(r_{\\text{JPY}}-r_{\\text{USD}})\\frac{6}{365}+(r_{\\text{JPY}}-r_{\\text{EUR}})\\frac{7}{365}\\right]\\\\\n",
    "&=& \\text{EURUSD}^{\\text{Oct 29}}\\times \\text{USDJPY}^{\\text{Nov 2}}\\times \\exp\\left[ r_{\\text{USD}}\\frac{4}{365} + r_{\\text{JPY}}\\frac{1}{365} - r_{\\text{EUR}}\\frac{5}{365}\\right]\\\\\n",
    "&=& 1.13 \\times 120 \\times \\exp\\left[ 0.0025\\times\\frac{4}{365} + 0.001\\times\\frac{1}{365} - 0.005\\times \\frac{5}{365}\\right]\\\\\n",
    "&\\approx& 135.5948.\n",
    "\\end{eqnarray}"
   ]
  },
  {
   "cell_type": "markdown",
   "metadata": {},
   "source": [
    "### Question 5\n",
    "\n",
    "Same market as Question 4. Assume zero bid/ask spread in interest rates.\n",
    "\n",
    "Take the bid/ask for EURUSD as 1.1299/1.1301, and the bid/ask for USDJPY as 119.99/120.01. What is the bid/ask for EURJPY implied from the triangle arbitrage?"
   ]
  },
  {
   "cell_type": "markdown",
   "metadata": {},
   "source": [
    "#### Solution:\n",
    "\n",
    "Using the same formula for bid and ask respectively,\n",
    "\n",
    "\\begin{eqnarray}\n",
    "\\text{EURJPY}^{\\text{Nov 3}} &=& \\text{EURUSD}^{\\text{Oct 29}}\\times \\text{USDJPY}^{\\text{Nov 2}}\\times \\exp\\left[ r_{\\text{USD}}\\frac{4}{365} + r_{\\text{JPY}}\\frac{1}{365} - r_{\\text{EUR}}\\frac{5}{365}\\right].\n",
    "\\end{eqnarray}\n",
    "Thus, with exactly the same discounting factors,\n",
    "\\begin{eqnarray}\n",
    "\\text{EURJPY}^{\\text{Nov 3}}_{\\text{Ask}} &=& 1.1301 \\times 120.01 \\times \\exp\\left[ 0.0025\\times\\frac{4}{365} + 0.001\\times\\frac{1}{365} - 0.005\\times \\frac{5}{365}\\right]\\\\\n",
    "&\\approx& 135.6181.\\\\\n",
    "\\text{EURJPY}^{\\text{Nov 3}}_{\\text{Bid}} &=& 1.1299 \\times 119.99 \\times \\exp\\left[ 0.0025\\times\\frac{4}{365} + 0.001\\times\\frac{1}{365} - 0.005\\times \\frac{5}{365}\\right]\\\\\n",
    "&\\approx& 135.5715.\n",
    "\\end{eqnarray}\n",
    "\n",
    "---------------------------\n",
    "\n",
    "What if EURUSD is quoted in USDEUR? Then\n",
    "$$\n",
    "\\text{EURJPY} \\sim \\frac{\\text{USDJPY}}{\\text{USDEUR}}.\n",
    "$$\n",
    "Should we use\n",
    "$$\n",
    "\\text{EURJPY}_{\\text{Ask}} \\sim \\frac{\\text{USDJPY}_{\\text{Ask}}}{\\text{USDEUR}_{\\text{Ask}}}?\n",
    "$$\n",
    "Or\n",
    "$$\n",
    "\\text{EURJPY}_{\\text{Ask}} \\sim \\frac{\\text{USDJPY}_{\\text{Ask}}}{\\text{USDEUR}_{\\text{Bid}}}?\n",
    "$$"
   ]
  },
  {
   "cell_type": "markdown",
   "metadata": {},
   "source": [
    "### Question 6\n",
    "\n",
    "In Python, implement a variation of the “toy simulation algorithm” we discussed in class. Model parameters to assume:\n",
    "\n",
    "- Spot starts at 1\n",
    "- Volatility is 10% per year\n",
    "- Poisson frequency $\\lambda$ for client trade arrival is 1 trade/second\n",
    "- Each client trade that happens delivers a position of either +1 unit of the asset or -1 unit of the asset, with even odds\n",
    "- Bid/ask spread for client trades is 1bp\n",
    "     * Receive PNL equal to 1bp$\\times$spot$\\times$50% on each client trade (since client trades always have unit notional in this simulation)\n",
    "- Bid/ask spread for inter-dealer hedge trades is 2bp\n",
    "    * Pay PNL equal to 2bp$\\times$spot$\\times$hedge notional$\\times$50% on each hedge trade\n",
    "- A delta limit of 3 units before the algorithm executes a hedge in the inter-dealer market. \n",
    "\n",
    "Use a time step $\\delta t$ equal to $0.1/\\lambda$ and assume that only a single client trade can happen in each time step (with probability equal to $1-e^{-\\lambda\\delta t}$). Use 500 time steps and a number of simulation runs to give sufficient convergence.\n",
    "\n",
    "When converted between seconds and years, assume 260 (trading) days per year.\n",
    "\n",
    "The variation in the algorithm: when the algorithm decides to hedge, it can do a partial hedge, where it trades such that the net risk is equal to the delta limit (either positive or negative depending on whether the original position was above the delta limit or below -1$\\times$delta limit); or it can do a full hedge, like in the algorithm we discussed in class, where the net risk is reduced to zero.\n",
    "\n",
    "Use the Sharpe ratio of the simulation PNL distribution to determine which of those two hedging approaches is better.\n",
    "\n",
    "Your solution should deliver the Python script that implements the simulation, and you should explain your answer by giving numerical results from the simulation as well as some qualitative intuition behind the result. Include data that shows that you have used sufficient Monte Carlo simulation runs to show that your final result is not affected by statistical noise.\n",
    "\n",
    "Marks will be given for both the numerical results generated from the simulation as well as the quality of your Python code. Remember to include lots of explanatory comments in your code and use variable names that are meaningful. Use external packages like numpy/scipy where applicable rather than rolling your own low-level numerical functions like random number generators. For top marks, use only vectorized operations across the Monte Carlo paths to speed up execution."
   ]
  },
  {
   "cell_type": "markdown",
   "metadata": {
    "collapsed": true
   },
   "source": [
    "#### Solution:\n",
    "\n",
    "Given the prescribed parameters, four different test cases are experimented.\n",
    "- Case I:   Hedge to delta limit, when the position goes beyond the delta limit;\n",
    "- Case II:  Hedge to delta limit minus, when the position reaches the delta limit;\n",
    "- Case III: Hedge to zero, when the position goes beyond the delta limit;\n",
    "- Case IV:  Hedge to zero, when the position reaches the delta limit.\n",
    "In this problem, the delta limit is set to 3 units.\n",
    "\n",
    "The results using 10,000 Monte Carlo runs are reported in the following table (standard deviations appear in parenthesis):\n",
    "\n",
    "| Test Cases (10,000 Monte Carlo runs)   | Sharpe Ratio   | PnL $(10^{-3})$   | Mean # of Client Trades  | Mean # of Hedges  | \n",
    "| :-------------------------------| -----:         | -----:            | ----:               |-----: |\n",
    "| Case I: Hedge to delta limit, when the position goes beyond the delta limit | 3.33           | 1.75(0.53)        | 47.65(6.5)          | 6.25(3.85) |\n",
    "| Caes II: Hedge to delta limit minus, when the position reaches the delta limit | 3.08           | 1.47(0.48)        | 47.65(6.5)          | 9.15(4.01) |\n",
    "| Case III: Hedge to zero, when the position goes beyond the delta limit| 2.04           | 1.24(0.61)        | 47.65(6.5)          | 2.85(1.40) |\n",
    "| Case IV: Hedge to zero, when the position reaches the delta limit | 1.46           | 0.83(0.57)        | 47.65(6.5)          | 5.18(1.91) |\n",
    "\n",
    "The results using 1,000,000 Monte Carlo runs are reported in the following table (standard deviations appear in parenthesis):\n",
    "\n",
    "| Test Cases (1,000,000 Monte Carlo runs)  | Sharpe Ratio   | PnL $(10^{-3})$   | Mean # of Client Trades  | Mean # of Hedges  | \n",
    "| :-------------------------------| -----:         | -----:            | ----:               |-----: |\n",
    "| Case I: Hedge to delta limit, when the position goes beyond the delta limit | 3.34           | 1.76(0.53)        | 47.58(6.6)          | 6.22(3.83) |\n",
    "| Caes II: Hedge to delta limit minus, when the position reaches the delta limit | 3.09           | 1.47(0.47)        | 47.58(6.6)          | 9.11(4.01) |\n",
    "| Case III: Hedge to zero, when the position goes beyond the delta limit| 2.06           | 1.25(0.61)        | 47.58(6.6)          | 2.82(1.40) |\n",
    "| Case IV: Hedge to zero, when the position reaches the delta limit | 1.49           | 0.84(0.56)        | 47.58(6.6)          | 5.14(1.90) |\n",
    "\n",
    "Comparing 10,000 Monte Carlo runs and 1,000,000 Monte Carlo runs show that the results have converged and are not affected by statistical noise.\n",
    "\n",
    "Inspecting the Sharpe ratios, it is advantageous to hedge to edge than to zero: although more frequent hedges are needed in the strategy of hedge to edge, smaller amounts of notional are involved in each hedge trade and less spreads are paid to the inter-dealer market.\n",
    "\n",
    "Please run the following simulation code to verify the results."
   ]
  },
  {
   "cell_type": "code",
   "execution_count": 201,
   "metadata": {
    "collapsed": true
   },
   "outputs": [],
   "source": [
    "import math\n",
    "import scipy"
   ]
  },
  {
   "cell_type": "code",
   "execution_count": 202,
   "metadata": {},
   "outputs": [],
   "source": [
    "class ElectronicHedgingSimulator:\n",
    "    \"\"\"\n",
    "        Spot price follows a geometric Brownian motion with zero drift;\n",
    "        Client trades arrive according to Poisson process;\n",
    "        Client trades deliver a position of +1 or -1 unit of the asset, with even odds;\n",
    "        Client trades pay a fee half the client bid/ask spread;\n",
    "        Client trades always have unit notional;\n",
    "        Hedging happens when the net position reaches a delta threshold.\n",
    "    \"\"\"\n",
    "    \n",
    "    def __init__(self, spotInit, spotVol, clientLambda, clientSpread, dealerSpread):\n",
    "        \"\"\"\n",
    "            spotInit:     initial value of spot price;\n",
    "            spotVol:      volatility of lognormal spot process;\n",
    "            clientLambda: Poisson process frequency of client arrival;\n",
    "            clientSpread: bid/ask spread for client trades;\n",
    "            dealerSpread: bid/ask spread for inter-dealer trades;\n",
    "        \"\"\"\n",
    "                    \n",
    "        if spotInit < 0:\n",
    "            raise ValueError('Initial spot must be positive!')\n",
    "            \n",
    "        if spotVol < 0:\n",
    "            raise ValueError('Spot volatility must be positive!')\n",
    "            \n",
    "        if clientLambda < 0:\n",
    "            raise ValueError('Client Poisson lambda must be positive!')\n",
    "            \n",
    "        if clientSpread < 0:\n",
    "            raise ValueError('Client trade bid/ask spread must be positive!')\n",
    "            \n",
    "        if dealerSpread < 0:\n",
    "            raise ValueError('Dealer trade bid/ask spread must be positive!')\n",
    "                    \n",
    "        self.spotInit = spotInit\n",
    "        self.spotVol = spotVol\n",
    "        self.clientLambda = clientLambda\n",
    "        self.clientSpread = clientSpread\n",
    "        self.dealerSpread = dealerSpread\n",
    "\n",
    "    def run(self, dt, nSteps, nRuns, seed, deltaLimit, hedgeRatio, debug=False):\n",
    "        \"\"\"\n",
    "            dt:         time step width, usually chosen to be 1/lambda;\n",
    "            nSteps:     number of time steps in each path;\n",
    "            nRuns:      number of paths;\n",
    "            deltaLimit: the limit at or beyond which hedge in the inter-dealer market occurs;\n",
    "            hedgeRatio: in [0,1]. Zero: hedge to zero position; One: hedge to the nearer delta limit.\n",
    "        \"\"\"\n",
    "        \n",
    "        if deltaLimit < 0:\n",
    "            raise ValueError('Position size limit must be positive!')\n",
    "            \n",
    "        if hedgeRatio < 0 or hedgeRatio > 1:\n",
    "            raise ValueError('Hedge ratio must be between 0 and 1!')\n",
    "            \n",
    "        scipy.random.seed(seed)\n",
    "        \n",
    "        # The general idea of the vectorized algorithm is to \n",
    "        # evolve all runs in parallel instead of in sequence. \n",
    "        spots = scipy.ones(nRuns)\n",
    "        positions = scipy.zeros(nRuns)\n",
    "        trades = scipy.zeros(nRuns)\n",
    "        hedges = scipy.zeros(nRuns)\n",
    "        pnls = scipy.zeros(nRuns)\n",
    "        \n",
    "        tradeProb = 1 - math.exp(-self.clientLambda*dt)\n",
    "        sqrtdt = math.sqrt(dt)\n",
    "        \n",
    "        if debug:\n",
    "            print(\"Trade probability: \", tradeProb)\n",
    "            print(\"--------------------------------------\")\n",
    "            print(\"Positions: \", positions)\n",
    "            print(\"Trades: \", trades)\n",
    "            print(\"Hedges: \", hedges)\n",
    "            print(\"PnLs: \", pnls)\n",
    "            print(\"======================================\")\n",
    "        \n",
    "        for step in range(nSteps):\n",
    "            \n",
    "            if debug:\n",
    "                print(\"Beginning spot prices: \", spots)\n",
    "                print(\"Beginning PnLs: \", pnls)\n",
    "                print(\"--------------------------------------\")\n",
    "            \n",
    "            # trading\n",
    "            clientTradeDrivers = scipy.random.uniform(0, 1, nRuns)\n",
    "            clientTradeIndicators  = scipy.less(clientTradeDrivers, tradeProb).astype(int)\n",
    "            clientTradeSigns = scipy.random.binomial(1, 0.5, nRuns) * 2 - 1\n",
    "            \n",
    "            if debug:\n",
    "                print(\"clientTradeDrivers: \",    clientTradeDrivers)\n",
    "                print(\"clientTradeIndicators: \", clientTradeIndicators)\n",
    "                print(\"clientTradeSigns: \",      clientTradeSigns)\n",
    "                print(\"--------------------------------------\")\n",
    "            \n",
    "            trades += clientTradeIndicators\n",
    "            positions += clientTradeIndicators*clientTradeSigns\n",
    "            pnls += clientTradeIndicators * self.clientSpread * spots / 2.0\n",
    "            \n",
    "            if debug:\n",
    "                print(\"Trades: \", trades)\n",
    "                print(\"Positions: \", positions)\n",
    "                print(\"PnLs: \", pnls)\n",
    "                print(\"--------------------------------------\")\n",
    "            \n",
    "            # hedging upper limit\n",
    "            upperLimitIndicators = scipy.greater(positions, deltaLimit).astype(int)\n",
    "            hedges += upperLimitIndicators\n",
    "            pnls -= (positions - hedgeRatio * deltaLimit) * upperLimitIndicators * self.dealerSpread * spots / 2.0\n",
    "            positions = positions * scipy.logical_not(upperLimitIndicators) + hedgeRatio * deltaLimit * upperLimitIndicators\n",
    "\n",
    "            if debug:\n",
    "                print(\"upperLimitIndicators: \", upperLimitIndicators)\n",
    "                print(\"Hedges: \", hedges)\n",
    "                print(\"Positions: \", positions)\n",
    "                print(\"PnLs: \", pnls)\n",
    "                print(\"--------------------------------------\")\n",
    "\n",
    "            # heding lower limit\n",
    "            lowerLimitIndicators = scipy.less(positions, -deltaLimit).astype(int)\n",
    "            hedges += lowerLimitIndicators\n",
    "            pnls += (positions + hedgeRatio * deltaLimit) * lowerLimitIndicators * self.dealerSpread * spots / 2.0\n",
    "            positions = positions * scipy.logical_not(lowerLimitIndicators) - hedgeRatio * deltaLimit * lowerLimitIndicators\n",
    "\n",
    "            if debug:\n",
    "                print(\"lowerLimitIndicators: \", lowerLimitIndicators)\n",
    "                print(\"Hedges: \", hedges)\n",
    "                print(\"Positions: \", positions)\n",
    "                print(\"PnLs: \", pnls)\n",
    "                print(\"--------------------------------------\")\n",
    "            \n",
    "            # update spot\n",
    "            dBrownian = scipy.random.normal(0, sqrtdt, nRuns)\n",
    "            dSpots = self.spotVol * spots * dBrownian\n",
    "            spots += dSpots\n",
    "            \n",
    "            # update pnl\n",
    "            pnls += positions * dSpots\n",
    "            \n",
    "            if debug:\n",
    "                print(\"Spot change: \", dSpots)\n",
    "                print(\"Ending PnLs: \", pnls)\n",
    "                print(\"======================================\")\n",
    "            \n",
    "        return { 'Sharpe': pnls.mean()/pnls.std(),\n",
    "                 'PnL': (pnls.mean(), pnls.std()), \n",
    "                 'Trades': (trades.mean(), trades.std()), \n",
    "                 'Hedges': (hedges.mean(), hedges.std()) }"
   ]
  },
  {
   "cell_type": "code",
   "execution_count": 203,
   "metadata": {
    "scrolled": false
   },
   "outputs": [],
   "source": [
    "# Market parameters\n",
    "spot = 1\n",
    "vol = 0.1/math.sqrt(260.0) # 260 days per year, convert from annual vol to daily vol.\n",
    "lam = 1*60*60*24 # 24 hours per day, 60 minutes per hour, 60 seconds per minute.\n",
    "clientSpread = 1e-4\n",
    "dealerSpread = 2e-4"
   ]
  },
  {
   "cell_type": "code",
   "execution_count": 204,
   "metadata": {
    "collapsed": true
   },
   "outputs": [],
   "source": [
    "# Create simulator\n",
    "sim = ElectronicHedgingSimulator(spot, vol, lam, clientSpread, dealerSpread)"
   ]
  },
  {
   "cell_type": "code",
   "execution_count": 205,
   "metadata": {
    "collapsed": true
   },
   "outputs": [],
   "source": [
    "# Simulation parameters\n",
    "dt = 0.1/lam\n",
    "nSteps = 500\n",
    "nRuns = 1000000"
   ]
  },
  {
   "cell_type": "code",
   "execution_count": 206,
   "metadata": {},
   "outputs": [
    {
     "data": {
      "text/plain": [
       "{'Hedges': (6.2242889999999997, 3.8318898006700293),\n",
       " 'PnL': (0.0017566148203996654, 0.00052561600315534037),\n",
       " 'Sharpe': 3.3420116774498512,\n",
       " 'Trades': (47.582813999999999, 6.5638960870358085)}"
      ]
     },
     "execution_count": 206,
     "metadata": {},
     "output_type": "execute_result"
    }
   ],
   "source": [
    "# Case I: Hedge to edge when position goes beyond the delta limit(=3)\n",
    "seed = 1\n",
    "deltaLim = 3\n",
    "hedgeRatio = 1\n",
    "sim.run(dt, nSteps, nRuns, seed, deltaLim, hedgeRatio, False)"
   ]
  },
  {
   "cell_type": "code",
   "execution_count": 207,
   "metadata": {},
   "outputs": [
    {
     "data": {
      "text/plain": [
       "{'Hedges': (9.1141660000000009, 4.0132199197706573),\n",
       " 'PnL': (0.0014676192034584771, 0.00047470177781704581),\n",
       " 'Sharpe': 3.0916656984253184,\n",
       " 'Trades': (47.582813999999999, 6.5638960870358085)}"
      ]
     },
     "execution_count": 207,
     "metadata": {},
     "output_type": "execute_result"
    }
   ],
   "source": [
    "# Case II: Hedge to below edge when position reaches the delta limit(=3)\n",
    "seed = 1\n",
    "deltaLim = 3-1\n",
    "hedgeRatio = 1\n",
    "sim.run(dt, nSteps, nRuns, seed, deltaLim, hedgeRatio, False)"
   ]
  },
  {
   "cell_type": "code",
   "execution_count": 208,
   "metadata": {},
   "outputs": [
    {
     "data": {
      "text/plain": [
       "{'Hedges': (2.8179880000000002, 1.4017687512054191),\n",
       " 'PnL': (0.0012517622033366709, 0.00060682874607459459),\n",
       " 'Sharpe': 2.0627931874255636,\n",
       " 'Trades': (47.582813999999999, 6.5638960870358085)}"
      ]
     },
     "execution_count": 208,
     "metadata": {},
     "output_type": "execute_result"
    }
   ],
   "source": [
    "# Case III: Hedge to zero when position goes beyond the delta limit(=3)\n",
    "seed = 1\n",
    "deltaLim = 3\n",
    "hedgeRatio = 0\n",
    "sim.run(dt, nSteps, nRuns, seed, deltaLim, hedgeRatio, False)"
   ]
  },
  {
   "cell_type": "code",
   "execution_count": 209,
   "metadata": {},
   "outputs": [
    {
     "data": {
      "text/plain": [
       "{'Hedges': (5.1387850000000004, 1.8991112984169722),\n",
       " 'PnL': (0.00083746732951799096, 0.00056354994364752101),\n",
       " 'Sharpe': 1.4860569838718587,\n",
       " 'Trades': (47.582813999999999, 6.5638960870358085)}"
      ]
     },
     "execution_count": 209,
     "metadata": {},
     "output_type": "execute_result"
    }
   ],
   "source": [
    "# Case IV: Hedge to zero when position reaches the delta limit(=3)\n",
    "seed = 1\n",
    "deltaLim = 2\n",
    "hedgeRatio = 0\n",
    "sim.run(dt, nSteps, nRuns, seed, deltaLim, hedgeRatio, False)"
   ]
  }
 ],
 "metadata": {
  "kernelspec": {
   "display_name": "Python 3",
   "language": "python",
   "name": "python3"
  },
  "language_info": {
   "codemirror_mode": {
    "name": "ipython",
    "version": 3
   },
   "file_extension": ".py",
   "mimetype": "text/x-python",
   "name": "python",
   "nbconvert_exporter": "python",
   "pygments_lexer": "ipython3",
   "version": "3.6.0"
  }
 },
 "nbformat": 4,
 "nbformat_minor": 2
}
