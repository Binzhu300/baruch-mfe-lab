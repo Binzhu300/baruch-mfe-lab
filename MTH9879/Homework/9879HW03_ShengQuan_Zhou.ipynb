{
 "cells": [
  {
   "cell_type": "markdown",
   "metadata": {},
   "source": [
    "# MTH9879 Homework 3\n",
    "### Name: ShengQuan Zhou\n",
    "\n",
    "Assigned: February 14, 2017.\n",
    "Due: February 28, 2017 by 6pm. \n",
    "|\n",
    "Late homework **will not be accepted**.\n",
    "\n",
    "$$\n",
    "\\newcommand{\\supp}{\\mathrm{supp}}\n",
    "\\newcommand{\\E}{\\mathbb{E}}\n",
    "\\newcommand{\\EE}{\\mathbb{E}}\n",
    "\\newcommand{\\Eof}[1]{\\mathbb{E}\\left[ #1 \\right]}\n",
    "\\def\\Cov{{ \\mbox{Cov} }}\n",
    "\\def\\Var{{ \\mbox{Var} }}\n",
    "\\newcommand{\\1}{\\mathbf{1} }\n",
    "\\newcommand{\\PP}{\\mathbb{P} }\n",
    "%\\newcommand{\\Pr}{\\mathrm{Pr} }\n",
    "\\newcommand{\\QQ}{\\mathbb{Q} }\n",
    "\\newcommand{\\RR}{\\mathbb{R} }\n",
    "\\newcommand{\\DD}{\\mathbb{D} }\n",
    "\\newcommand{\\HH}{\\mathbb{H} }\n",
    "\\newcommand{\\spn}{\\mathrm{span} }\n",
    "\\newcommand{\\cov}{\\mathrm{cov} }\n",
    "\\newcommand{\\sgn}{\\mathrm{sgn} }\n",
    "\\newcommand{\\HS}{\\mathcal{L}_{\\mathrm{HS}} }\n",
    "%\\newcommand{\\HS}{\\mathrm{HS} }\n",
    "\\newcommand{\\trace}{\\mathrm{trace} }\n",
    "\\newcommand{\\LL}{\\mathcal{L} }\n",
    "%\\newcommand{\\LL}{\\mathrm{L} }\n",
    "\\newcommand{\\s}{\\mathcal{S} }\n",
    "\\newcommand{\\ee}{\\mathcal{E} }\n",
    "\\newcommand{\\ff}{\\mathcal{F} }\n",
    "\\newcommand{\\hh}{\\mathcal{H} }\n",
    "\\newcommand{\\bb}{\\mathcal{B} }\n",
    "\\newcommand{\\dd}{\\mathcal{D} }\n",
    "\\newcommand{\\g}{\\mathcal{G} }\n",
    "\\newcommand{\\p}{\\partial}\n",
    "\\newcommand{\\half}{\\frac{1}{2} }\n",
    "\\newcommand{\\T}{\\mathcal{T} }\n",
    "\\newcommand{\\bi}{\\begin{itemize}}\n",
    "\\newcommand{\\ei}{\\end{itemize}}\n",
    "\\newcommand{\\beq}{\\begin{equation}}\n",
    "\\newcommand{\\eeq}{\\end{equation}}\n",
    "\\newcommand{\\beas}{\\begin{eqnarray*}}\n",
    "\\newcommand{\\eeas}{\\end{eqnarray*}}\n",
    "\\newcommand{\\cO}{\\mathcal{O}}\n",
    "\\newcommand{\\cF}{\\mathcal{F}}\n",
    "\\newcommand{\\cL}{\\mathcal{L}}\n",
    "\\newcommand{\\BS}{\\text{BS}}\n",
    "$$"
   ]
  },
  {
   "cell_type": "markdown",
   "metadata": {},
   "source": [
    "<font color = \"red\">Homework is to be done by each student individually.  To receive full credit, you must email a completed copy of this iPython notebook to Victor Istratov (stavka@gmail.com), Yassine Ghalem (yassine.ghalem@gmail.com) and Jim Gatheral (jim.gatheral@gmail.com) by the due date and time.  All R-code must run correctly and solutions must be written up neatly in Markdown/LaTeX format.\n"
   ]
  },
  {
   "cell_type": "markdown",
   "metadata": {},
   "source": [
    "### 0. (0 points) \n",
    "Read Chapter 11 of Hasbrouck and Section 3.5 of Foucault, Pagano and R&ouml;ell. <br>\n",
    "Also, read the article on high-frequency trading by Menkveld available at http://papers.tinbergen.nl/11076.pdf."
   ]
  },
  {
   "cell_type": "markdown",
   "metadata": {},
   "source": [
    "## The Garman (1976) model"
   ]
  },
  {
   "cell_type": "markdown",
   "metadata": {},
   "source": [
    "### 1. (6 points) \n",
    "Suppose supply and demand functions satisfy\n",
    "\n",
    "$$\n",
    "P_A(\\lambda) = 101 − 18\\lambda + \\lambda^2; \\; P_B(\\lambda) = 61 + 2\\lambda + \\lambda^2,\n",
    "$$\n",
    "\n",
    "where $\\lambda$ is the market order arrival rate per minute and $P_B(\\cdot)$ and $P_A(\\cdot)$ denote supply and demand curves respectively. <br>\n",
    "Determine the dealer’s optimal bid $B$ and ask $A$ and the average profit per minute."
   ]
  },
  {
   "cell_type": "markdown",
   "metadata": {},
   "source": [
    "#### Solution:\n",
    "\n",
    "The P&L per unit of time is\n",
    "$$\n",
    "\\pi(B,A) = [P_A(\\lambda)-P_B(\\lambda)]\\lambda = (101 − 18\\lambda + \\lambda^2 - 61 - 2\\lambda -\\lambda^2)\\lambda\n",
    "= 20(2-\\lambda)\\lambda.\n",
    "$$\n",
    "The minimum point occurs at $2-\\lambda=\\lambda\\Rightarrow \\lambda^* =1$,\n",
    "$$\n",
    "P _ A(\\lambda ^ * ) = 84, \\quad P _ B ( \\lambda ^ * ) = 64, \\quad \\pi(\\lambda ^ * ) = 20.\n",
    "$$"
   ]
  },
  {
   "cell_type": "markdown",
   "metadata": {},
   "source": [
    "## The Stoll (1978) model"
   ]
  },
  {
   "cell_type": "markdown",
   "metadata": {},
   "source": [
    "### 2. (4 points) \n",
    "In the Stoll (1978) model, assuming exponential utility with $S \\sim N(\\mu, \\sigma^2)$, and with current inventory $q$ shares, what are the dealer’s indifference bid and ask prices for $n$ shares?"
   ]
  },
  {
   "cell_type": "markdown",
   "metadata": {},
   "source": [
    "#### Solution:\n",
    "\n",
    "Indifference ask:\n",
    "\n",
    "$$\n",
    "\\mathbb{E}[U((q-n)S+nA)] = \\mathbb{E}[U(qS)]\n",
    "$$\n",
    "$$\n",
    "\\Rightarrow (q-n)\\mathbb{E}[S]+nA - \\frac{\\alpha}{2}\\mathbb{V}[(q-n)S] = q\\mathbb{E}[S] - \\frac{\\alpha}{2}\\mathbb{V}[qS]\n",
    "$$\n",
    "$$\n",
    "\\Rightarrow (q-n)\\mu +nA- \\frac{\\alpha}{2}(q-n)^2\\sigma^2 = q\\mu - \\frac{\\alpha}{2}q^2\\sigma^2.\n",
    "$$\n",
    "Thus,\n",
    "$$\n",
    "    A = \\mu - \\frac{\\alpha}{2}(2q-n)\\sigma^2.\n",
    "$$\n",
    "Similarly,\n",
    "$$\n",
    "    B = \\mu - \\frac{\\alpha}{2}(2q+n)\\sigma^2.\n",
    "$$"
   ]
  },
  {
   "cell_type": "markdown",
   "metadata": {},
   "source": [
    "### 3. (10 points)\n",
    "As mentioned in Lecture 3, in real markets, bid and ask prices $B$ and $A$ are typically given and the dealer must decide how much size to quote at these fixed prices.  Suppose there are currently $Q_A$ offered and $Q_B$ shares bid.  According to Lecture 1,\n",
    "\n",
    "$$\n",
    "\\Eof{S} \\approx M + \\frac s 2 \\,\\frac 4\\pi \\,\\arctan I.\n",
    "$$\n",
    "\n",
    "where $M$ is the mid-price, $s=A-B$, and the book imbalance is given by\n",
    "\n",
    "$$\n",
    "I = \\frac{Q_B-Q_A}{Q_B + Q_A}.\n",
    "$$\n",
    "\n",
    "Assume that $S$ is normally distributed with variance $\\sigma^2$, that the dealer has exponential utility, and that his current inventory is $q$.\n",
    "\n",
    "(a) Use your answer to Problem 2 to show that the indifference size $n_B$ the dealer should quote at the bid $B$ is given by\n",
    "\n",
    "$$\n",
    "n_B = \\frac{s}{\\alpha\\,\\sigma^2}\\,\\left(  1+\\frac 4 \\pi \\,\\arctan I \\right) - 2\\,q.\n",
    "$$\n",
    "\n",
    "(b) Derive a similar formula for the indifference offered quantity $n_A$.\n",
    "\n",
    "(c) Give your intuition for the sensitivities of $n_B$ and $n_A$ to each of the various inputs.\n"
   ]
  },
  {
   "cell_type": "markdown",
   "metadata": {},
   "source": [
    "#### Solution (a):\n",
    "\n",
    "Accoring to $\\Eof{S} \\approx M + \\frac s 2 \\,\\frac 4\\pi \\,\\arctan I$, we have\n",
    "$$\n",
    "\\mu = M + \\frac s 2 \\,\\frac 4\\pi \\,\\arctan I.\n",
    "$$\n",
    "Using the results from Problem 2:\n",
    "$$\n",
    "\\mu = B + \\frac{\\alpha}{2}(2q+n_B)\\sigma^2.\n",
    "$$\n",
    "Subtracting the two equations, we get\n",
    "$$\n",
    "0 = \\frac{s}{2} + \\frac s 2 \\,\\frac 4\\pi \\,\\arctan I - \\frac{\\alpha}{2}(2q+n_B)\\sigma^2\n",
    "$$\n",
    "$$\n",
    "\\Rightarrow n_B = \\frac{s}{\\alpha\\,\\sigma^2}\\,\\left(  1+\\frac 4 \\pi \\,\\arctan I \\right) - 2\\,q.\n",
    "$$"
   ]
  },
  {
   "cell_type": "markdown",
   "metadata": {},
   "source": [
    "#### Solution (b):\n",
    "\n",
    "Similarly,\n",
    "$$\n",
    "\\mu = M + \\frac s 2 \\,\\frac 4\\pi \\,\\arctan I.\n",
    "$$\n",
    "and\n",
    "$$\n",
    "\\mu = A + \\frac{\\alpha}{2}(2q-n)\\sigma^2.\n",
    "$$\n",
    "Subtracting the two equations, we get\n",
    "$$\n",
    "0 = -\\frac{s}{2} + \\frac s 2 \\,\\frac 4\\pi \\,\\arctan I - \\frac{\\alpha}{2}(2q-n_A)\\sigma^2\n",
    "$$\n",
    "$$\n",
    "\\Rightarrow n_A =  \\frac{s}{\\alpha\\,\\sigma^2}\\,\\left(  1-\\frac 4 \\pi \\,\\arctan I \\right) + 2\\,q.\n",
    "$$"
   ]
  },
  {
   "cell_type": "markdown",
   "metadata": {},
   "source": [
    "#### Solution (c):\n",
    "\n",
    "As the spread $s$ increases, $n_A$ and $n_B$ increases as profit margin increases.\n",
    "\n",
    "As the risk aversion parameter $\\alpha$ increases, $n_A$ and $n_B$ decreases. Intuition: more conservative risk measure.\n",
    "\n",
    "As the stock volatility increases, $n_A$ and $n_B$ decreases. Intuition: more conservative risk control for high volatility environment.\n",
    "\n",
    "As the inventory increases, $n_A$ increases because the dealer wants to sell, $n_B$ decreases because the dealer wants to buy, to keep the inventory within a reasonable limit.\n",
    "\n",
    "As the order book imbalance increases with $Q_B$ grows large relative to $Q_A$, the price is likely to go up. Thus, $n_B$ decreases and $n_A$ increases because the dealder tends to buy less and sell more to make a profit.\n"
   ]
  },
  {
   "cell_type": "markdown",
   "metadata": {},
   "source": [
    "## Avellaneda and Stoikov (2008)"
   ]
  },
  {
   "cell_type": "markdown",
   "metadata": {},
   "source": [
    "### 4. (6 points) \n",
    "According to the lecture slides, in the Avellaneda and Stoikov model, the optimal bid and ask prices are given in terms of market order arrival rates by\n",
    "\n",
    "$$\n",
    "B=r_B-\\frac{1}{\\alpha}\\,\\log\\left(1-\\alpha\\,\\frac{{\\lambda_B}(S-B)}{\\lambda_B'(S-B)}\\right).\n",
    "$$\n",
    "\n",
    "Similarly, the optimal ask price is given by\n",
    "\n",
    "$$\n",
    "A=r_A+\\frac{1}{\\alpha}\\,\\log\\left(1-\\alpha\\,\\frac{{\\lambda_A}(A-S)}{\\lambda_A'(A-S)}\\right).\n",
    "$$\n",
    "\n",
    "where $A= S+\\delta_A$ and $B= S-\\delta_B$.\n",
    "\n",
    "Suppose that arrival rates of orders (symmetric between market buys and sells) are given by\n",
    "\n",
    "$$\n",
    "\\lambda(\\delta) = e^{-k \\delta \\pm \\beta\\,q}\n",
    "$$\n",
    "\n",
    "for some constant $\\beta>0$ that reflects adverse selection (i.e., the longer you are, the more market sell orders arrive).\n",
    "\n",
    "(a) Write down expressions for $A$ and $B$ in terms of $r_A$, $r_B$, $k$, $\\beta$ and $q$.\n",
    "\n",
    "(b) How does the optimal spread depend on $q$?\n",
    "\n",
    "(c) Conjecture how the reservation prices $r_A$ and $r_B$ should depend on $q$ if there is adverse selection.\n"
   ]
  },
  {
   "cell_type": "markdown",
   "metadata": {},
   "source": [
    "#### Solution (a):\n",
    "\n",
    "Given $\\lambda(\\delta) = e^{-k \\delta \\pm \\beta\\,q}$, we have\n",
    "$$\n",
    "\\frac{\\lambda(\\delta)}{\\lambda'(\\delta)} = -\\frac{1}{k}.\n",
    "$$\n",
    "Thus,\n",
    "$$\n",
    "B=r_B-\\frac{1}{\\alpha}\\,\\log\\left(1+\\frac{\\alpha}{k}\\right).\n",
    "$$\n",
    "$$\n",
    "A=r_A+\\frac{1}{\\alpha}\\,\\log\\left(1+\\frac{\\alpha}{k}\\right).\n",
    "$$"
   ]
  },
  {
   "cell_type": "markdown",
   "metadata": {},
   "source": [
    "#### Solution (b): \n",
    "The optimal spread\n",
    "$$\n",
    "A-B = r_A-r_B + \\frac{2}{\\alpha}\\,\\log\\left(1+\\frac{\\alpha}{k}\\right)\n",
    "$$\n",
    "depends on the inventory $q$ only through the reservation price difference $r_A-r_B$. However, according to lecture slides,\n",
    "$$\n",
    "r_A - r_B = \\alpha \\sigma^2 (T-t),\n",
    "$$\n",
    "which does not depend on $q$ neither. Thus, the optimal spread does not depend on $q$."
   ]
  },
  {
   "cell_type": "markdown",
   "metadata": {},
   "source": [
    "#### Solution (c):\n",
    "\n",
    "If there is adverse selection, the reservation prices $r_A$ and $r_B$ should depend on the inventory in such a way so as to offset the effect of adverse selection."
   ]
  }
 ],
 "metadata": {
  "anaconda-cloud": {},
  "kernelspec": {
   "display_name": "R",
   "language": "R",
   "name": "ir"
  },
  "language_info": {
   "codemirror_mode": "r",
   "file_extension": ".r",
   "mimetype": "text/x-r-source",
   "name": "R",
   "pygments_lexer": "r",
   "version": "3.3.2"
  }
 },
 "nbformat": 4,
 "nbformat_minor": 0
}
