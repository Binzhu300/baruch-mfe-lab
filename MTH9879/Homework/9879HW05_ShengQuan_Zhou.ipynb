{
 "cells": [
  {
   "cell_type": "markdown",
   "metadata": {},
   "source": [
    "# MTH9879 Homework 5\n",
    "#### Name: ShengQuan Zhou\n",
    "\n",
    "Assigned: March 7, 2017.\n",
    "Due: March 21, 2017 by 6pm.\n",
    "\n",
    "Late homework **will not be accepted**.\n",
    "\n",
    "$$\n",
    "\\newcommand{\\supp}{\\mathrm{supp}}\n",
    "\\newcommand{\\E}{\\mathbb{E}}\n",
    "\\newcommand{\\EE}{\\mathbb{E}}\n",
    "\\newcommand{\\Eof}[1]{\\mathbb{E}\\left[ #1 \\right]}\n",
    "\\def\\Cov{{ \\mbox{Cov} }}\n",
    "\\def\\Var{{ \\mbox{Var} }}\n",
    "\\newcommand{\\1}{\\mathbf{1} }\n",
    "\\newcommand{\\PP}{\\mathbb{P} }\n",
    "%\\newcommand{\\Pr}{\\mathrm{Pr} }\n",
    "\\newcommand{\\QQ}{\\mathbb{Q} }\n",
    "\\newcommand{\\RR}{\\mathbb{R} }\n",
    "\\newcommand{\\DD}{\\mathbb{D} }\n",
    "\\newcommand{\\HH}{\\mathbb{H} }\n",
    "\\newcommand{\\spn}{\\mathrm{span} }\n",
    "\\newcommand{\\cov}{\\mathrm{cov} }\n",
    "\\newcommand{\\sgn}{\\mathrm{sgn} }\n",
    "\\newcommand{\\HS}{\\mathcal{L}_{\\mathrm{HS}} }\n",
    "%\\newcommand{\\HS}{\\mathrm{HS} }\n",
    "\\newcommand{\\trace}{\\mathrm{trace} }\n",
    "\\newcommand{\\LL}{\\mathcal{L} }\n",
    "%\\newcommand{\\LL}{\\mathrm{L} }\n",
    "\\newcommand{\\s}{\\mathcal{S} }\n",
    "\\newcommand{\\ee}{\\mathcal{E} }\n",
    "\\newcommand{\\ff}{\\mathcal{F} }\n",
    "\\newcommand{\\hh}{\\mathcal{H} }\n",
    "\\newcommand{\\bb}{\\mathcal{B} }\n",
    "\\newcommand{\\dd}{\\mathcal{D} }\n",
    "\\newcommand{\\g}{\\mathcal{G} }\n",
    "\\newcommand{\\p}{\\partial}\n",
    "\\newcommand{\\half}{\\frac{1}{2} }\n",
    "\\newcommand{\\T}{\\mathcal{T} }\n",
    "\\newcommand{\\bi}{\\begin{itemize}}\n",
    "\\newcommand{\\ei}{\\end{itemize}}\n",
    "\\newcommand{\\beq}{\\begin{equation}}\n",
    "\\newcommand{\\eeq}{\\end{equation}}\n",
    "\\newcommand{\\beas}{\\begin{eqnarray*}}\n",
    "\\newcommand{\\eeas}{\\end{eqnarray*}}\n",
    "\\newcommand{\\cO}{\\mathcal{O}}\n",
    "\\newcommand{\\cF}{\\mathcal{F}}\n",
    "\\newcommand{\\cI}{\\mathcal{I}}\n",
    "\\newcommand{\\cL}{\\mathcal{L}}\n",
    "\\newcommand{\\cM}{\\mathcal{M}}\n",
    "\\newcommand{\\BS}{\\text{BS}}\n",
    "$$"
   ]
  },
  {
   "cell_type": "markdown",
   "metadata": {},
   "source": [
    "<font color = \"red\">Homework is to be done by each student individually.  To receive full credit, you must email a completed copy of this iPython notebook to Victor Istratov (stavka@gmail.com), Yassine Ghalem (yassine.ghalem@gmail.com) and Jim Gatheral (jim.gatheral@gmail.com) by the due date and time.  All R-code must run correctly and solutions must be written up neatly in Markdown/LaTeX format.\n"
   ]
  },
  {
   "cell_type": "markdown",
   "metadata": {},
   "source": [
    "### 0. (0 points) \n",
    "Read Chapter 7 of Hasbrouck, Chapters 4 and 5 of Foucault, Pagano and R&ouml;ell, and Section 3 of Bouchaud, Farmer and Lillo."
   ]
  },
  {
   "cell_type": "markdown",
   "metadata": {},
   "source": [
    "## The Kyle (1985) model"
   ]
  },
  {
   "cell_type": "markdown",
   "metadata": {},
   "source": [
    "### 1. (14 points)\n",
    "\n",
    "Suppose that the monopolistic trader in the Kyle (1985) model is not told the true value $\\tilde S$ but is instead given a signal $x=\\tilde S+\\epsilon$ with $\\epsilon \\sim N(0,\\sigma_\\epsilon^2)$, where $\\tilde S$ and $\\epsilon$ are assumed independent.\n",
    "\n",
    "(a) Compute the conditional expectation $\\mathbb{E}[\\tilde S|x]$.\n",
    "\n",
    "(b) If $\\mathcal I$ assumes that the market maker $\\mathcal M$ generates a price function of the form $p=\\mu +\\lambda\\,y$, show that the informed trader's optimal (profit maximizing) demand is given by\n",
    "\n",
    "$$\n",
    "y_i=\\frac{\\phi}{2\\,\\lambda}\\,\\left(x-\\mu\\right)\n",
    "$$\n",
    "\n",
    "where\n",
    "\n",
    "$$\n",
    "\\phi = \\frac{\\sigma^2}{\\sigma^2+\\sigma_\\epsilon^2}.\n",
    "$$\n",
    "\n",
    "(c) Following the derivation from the lecture slides, use the result of (b) to deduce equation (11) in the lecture slides:\n",
    "\n",
    "$$\n",
    "\\lambda=\\frac{\\sigma}{2\\,\\sigma_u}\\,\\sqrt{\\phi}.\n",
    "$$\n"
   ]
  },
  {
   "cell_type": "markdown",
   "metadata": {},
   "source": [
    "#### Solution (a):\n",
    "\n",
    "Because $x=\\tilde{S} + \\epsilon$,\n",
    "$$\n",
    "\\mathbb{E}[x] = \\mathbb{E}[\\tilde{S}] = \\mu,\\\\\n",
    "\\mathbb{V}[x] = \\sigma^2 + \\sigma _ {\\epsilon}^2,\\\\\n",
    "\\cov(x,\\tilde{S}) = \\sigma^2.\n",
    "$$\n",
    "Let $\\tilde{S} = \\phi x+w$, where $w$ is a random variable indpendent of $x$ and $\\phi$ is a constant to be determined.\n",
    "$$\n",
    "\\sigma^2 = \\cov(x,\\tilde{S}) = \\phi\\mathbb{V}[x] = \\phi(\\sigma^2 + \\sigma _ {\\epsilon}^2) \\Rightarrow \\phi = \\frac{\\sigma^2}{\\sigma^2 + \\sigma _ {\\epsilon}^2}. \n",
    "$$\n",
    "in agreement with the notation given in Part (b). Thus, $\\tilde{S} = \\phi x+w$, where $w\\sim N\\left((1-\\phi)\\mu, \\frac{\\sigma^2\\sigma _ {\\epsilon}^2}{\\sigma^2 + \\sigma _ {\\epsilon}^2}\\right)$.\n",
    "\n",
    "\n",
    "$$\n",
    "\\mathbb{E}[\\tilde{S}|x] = \\mathbb{E}[\\phi x + w|x] = \\phi x + \\mathbb{E}[w|x] = \\phi x + \\mathbb{E}[w] = \\phi x  + (1-\\phi)\\mu.\n",
    "$$"
   ]
  },
  {
   "cell_type": "markdown",
   "metadata": {},
   "source": [
    "#### Solution (b):\n",
    "\n",
    "The informed trader's profit is given by $\\pi = y_i (\\tilde{S}-p) = y_i (\\tilde{S} -\\mu -\\lambda y_u -\\lambda y_i)$. The expected profit is\n",
    "$$\n",
    "\\mathbb{E}[\\pi|x] = y_i (\\mathbb{E}[\\tilde{S}] -\\mu - \\lambda y_i ) = y_i \\left[\\phi(x-\\mu) - \\lambda y_i \\right],\n",
    "$$\n",
    "which is maximized at $\\lambda y_i = \\phi(x-\\mu) - \\lambda y_i$, if $\\lambda>0$, i.e.\n",
    "$$\n",
    "y_i = \\frac{\\phi}{2\\lambda}(x-\\mu).\n",
    "$$"
   ]
  },
  {
   "cell_type": "markdown",
   "metadata": {},
   "source": [
    "#### Solution (c):\n",
    "\n",
    "From the market maker's perspective, it is assumed that the order flow from informed traders take the following form\n",
    "$$\n",
    "y_i = \\alpha + \\beta x = \\frac{\\phi}{2\\lambda}(x-\\mu) \\Rightarrow \\alpha = -\\frac{\\phi\\mu}{2\\lambda}, \\beta = \\frac{\\phi}{2\\lambda}.\n",
    "$$\n",
    "\n",
    "To compute $\\mathbb{E}[\\tilde{S}|y]$, we need the following relations:\n",
    "$$\n",
    "\\tilde{S} \\sim N(\\mu,\\sigma^2)\n",
    "$$\n",
    "$$\n",
    "y = y_i + y_u \\sim N(\\alpha+\\beta\\mu, \\sigma_u^2 + \\beta^2(\\sigma^2+\\sigma _ {\\epsilon}^2)),\n",
    "$$\n",
    "$$\n",
    "\\cov(\\tilde{S},y) =\\cov(\\tilde{S}, y_i)=\\cov(\\tilde{S}, \\alpha+\\beta x) = \\beta\\sigma^2.\n",
    "$$\n",
    "Thus,\n",
    "$$\n",
    "\\mathbb{E}[\\tilde{S}|y] = \\mu + \\frac{\\beta\\sigma^2}{\\sigma_u^2 + \\beta^2(\\sigma^2+\\sigma _ {\\epsilon}^2)}(y-\\alpha -\\beta \\mu).\n",
    "$$\n",
    "Compare with $p=\\mu+\\lambda y$, we get\n",
    "$$\n",
    "\\lambda = \\frac{\\beta\\sigma^2}{\\sigma_u^2 + \\beta^2(\\sigma^2+\\sigma _ {\\epsilon}^2)}.\n",
    "$$\n",
    "Subsitute $\\lambda = \\frac{\\phi}{2\\beta}$ in the above formula, we get\n",
    "$$\n",
    "\\frac{\\phi}{2\\beta} = \\frac{\\beta\\sigma^2}{\\sigma_u^2 + \\beta^2(\\sigma^2+\\sigma _ {\\epsilon}^2)} \\Rightarrow \\beta^2 = \\frac{\\sigma_u^2}{\\sigma^2 + \\sigma _ {\\epsilon}^2} = \\frac{\\sigma_u^2}{\\sigma^2}\\phi \\Rightarrow \\beta = \\frac{\\sigma_u}{\\sigma}\\sqrt{\\phi}.\n",
    "$$\n",
    "Thus,\n",
    "$$\n",
    "\\lambda = \\frac{\\sigma}{2\\sigma_u}\\sqrt{\\phi}.\n",
    "$$"
   ]
  },
  {
   "cell_type": "markdown",
   "metadata": {},
   "source": [
    "### 2. (2 points) \n",
    "In the Kyle model, if the characteristic uninformed demand $\\sigma_u$ increases by some factor $\\theta$, what happens to the optimal informed trader demand $y_i$?"
   ]
  },
  {
   "cell_type": "markdown",
   "metadata": {},
   "source": [
    "#### Solution: \n",
    "\n",
    "According to Kyle model derived in Lecture 5,\n",
    "$$\n",
    "y_i = \\frac{\\sigma_u}{\\sigma}(\\tilde{S}-\\mu).\n",
    "$$\n",
    "Thus, the optimal informed demand is linearly proportional to the uninformed demand $\\sigma_u$. If $\\sigma_u$ increases by some factor $\\theta$, the optimal informed demand is also increased by $\\theta$."
   ]
  },
  {
   "cell_type": "markdown",
   "metadata": {},
   "source": [
    "### 3. (6 points) \n",
    "\n",
    "As in Exercise 7.3 of Hasbrouck (but with different notation), suppose that a broker $\\mathcal P$ spots an insider and decides to submit his own piggyback orders.  Specifically, if $\\mathcal I$ submits demand $y_i$, $\\mathcal P$ submits demand $\\gamma\\,y_i$ with $\\gamma>0$.\n",
    "\n",
    "(a) Assuming that $\\mathcal I$ can detect how much piggyback order flow there is, deduce that the equilibrium Kyle lambda is unchanged from the original case where there are no piggyback orders.\n",
    "\n",
    "(b) Derive expressions for $\\mathcal I$'s optimal demand $y_i$ and his expected P&L.\n",
    "\n",
    "(c) Explain to a non-expert what happens to your trade capacity and your profitability if someone is piggybacking on your trades.\n"
   ]
  },
  {
   "cell_type": "markdown",
   "metadata": {},
   "source": [
    "#### Solution (a):\n",
    "\n",
    "The informed trader's profit\n",
    "$$\n",
    "\\pi = y_i (\\tilde{S}-p) = y_i (\\tilde{S}-\\mu-\\lambda y)= y_i \\left[\\tilde{S}-\\mu-\\lambda ((1+\\gamma)y_i +y_u)\\right].\n",
    "$$\n",
    "The expected profit is \n",
    "$$\n",
    "\\mathbb{E}[\\pi|\\tilde{S}] = y_i\\left[\\tilde{S}-\\mu-\\lambda(1+\\gamma)y_i\\right],\n",
    "$$\n",
    "maximized at\n",
    "$$ \\lambda(1+\\gamma)y_i = \\tilde{S}-\\mu-\\lambda(1+\\gamma)y_i \\Rightarrow y_i = \\frac{\\tilde{S}-\\mu}{2\\lambda(1+\\gamma)}.$$\n",
    "Next, from the market maker's perspective $y_i = \\alpha + \\beta \\tilde{S}$. Thus,\n",
    "$$\n",
    "\\alpha = -\\frac{\\mu}{2\\lambda(1+\\gamma)}, \\quad \\beta = \\frac{1}{2\\lambda(1+\\gamma)}.\n",
    "$$\n",
    "To calcuate the expected quoted price from the market maker's perspective $\\mathbb{E}[\\tilde{S}|y]$. We need the following relations:\n",
    "$$\n",
    "\\tilde{S} \\sim N(\\mu, \\sigma^2),\n",
    "$$\n",
    "$$\n",
    "y = (1+\\gamma)y_i + y_u \\sim N\\left((1+\\gamma)(\\alpha+\\beta\\mu), \\sigma_u^2 + (1+\\gamma)^2\\beta^2\\sigma^2\\right),\n",
    "$$\n",
    "$$\n",
    "\\cov(\\tilde{S},y) = \\cov(\\tilde{S}, y_u + (1+\\gamma)y_i)= \\cov(\\tilde{S}, y_u + (1+\\gamma)(\\alpha+\\beta\\tilde{S}))\n",
    "= (1+\\gamma)\\beta \\sigma^2.\n",
    "$$\n",
    "Thus,\n",
    "$$\n",
    "\\mathbb{E}[\\tilde{S}|y] = \\mu + \\frac{(1+\\gamma)\\beta \\sigma^2}{\\sigma_u^2 + (1+\\gamma)^2\\beta^2\\sigma^2}\\left(y-(1+\\gamma)(\\alpha+\\beta\\mu)\\right).\n",
    "$$\n",
    "Compare with $p=\\mu+\\lambda y$, we get\n",
    "$$\n",
    "\\lambda = \\frac{(1+\\gamma)\\beta \\sigma^2}{\\sigma_u^2 + (1+\\gamma)^2\\beta^2\\sigma^2}.\n",
    "$$\n",
    "Substitute $\\beta = \\frac{1}{2\\lambda(1+\\gamma)}$ into the above expression, we get\n",
    "$$\n",
    "\\frac{1}{2\\beta(1+\\gamma)} = \\frac{(1+\\gamma)\\beta \\sigma^2}{\\sigma_u^2 + (1+\\gamma)^2\\beta^2\\sigma^2}\n",
    "\\Rightarrow \\beta = \\frac{\\sigma_u}{(1+\\gamma)\\sigma} \\Rightarrow \\lambda = \\frac{\\sigma}{2\\sigma_u},\n",
    "$$\n",
    "which is unchanged from the original case where there are no piggyback orders."
   ]
  },
  {
   "cell_type": "markdown",
   "metadata": {},
   "source": [
    "#### Solution (b):\n",
    "\n",
    "The optimal informed demand is\n",
    "$$\n",
    "y_i = \\frac{\\tilde{S}-\\mu}{2\\lambda(1+\\gamma)} = \\frac{\\sigma_u}{\\sigma (1+\\gamma)}(\\tilde{S}-\\mu).\n",
    "$$\n",
    "The associated P&L is\n",
    "$$\n",
    "\\mathbb{E}[\\pi|\\tilde{S}] = y_i\\left[\\tilde{S}-\\mu-\\lambda(1+\\gamma)y_i\\right]\n",
    "= \\frac{1}{\\lambda(1+\\gamma)}\\lambda(1+\\gamma)y_i\\left[\\tilde{S}-\\mu-\\lambda(1+\\gamma)y_i\\right]\n",
    "\\le \\frac{1}{\\lambda(1+\\gamma)} \\frac{(\\tilde{S}-\\mu)^2}{4} = \\frac{\\sigma_u(\\tilde{S}-\\mu)^2}{2\\sigma (1+\\gamma)}.\n",
    "$$\n",
    "Here we have used the inequality $ab\\le (\\frac{a+b}{2})^2$ to find the optimal point."
   ]
  },
  {
   "cell_type": "markdown",
   "metadata": {},
   "source": [
    "#### Solution (c):\n",
    "\n",
    "The expected profit of the informed trader decreases as the proportion of peggyback orders $\\gamma$ increases. Intuitively, the existence of peggyback orders exerts pressure on the market maker's quoted price, for example, upward pressure caused by buy orders. This pressure on the quoted price will adversely affect the informed trader's trade capacity and profitability."
   ]
  }
 ],
 "metadata": {
  "kernelspec": {
   "display_name": "R",
   "language": "R",
   "name": "ir"
  },
  "language_info": {
   "codemirror_mode": "r",
   "file_extension": ".r",
   "mimetype": "text/x-r-source",
   "name": "R",
   "pygments_lexer": "r",
   "version": "3.3.2"
  }
 },
 "nbformat": 4,
 "nbformat_minor": 0
}
