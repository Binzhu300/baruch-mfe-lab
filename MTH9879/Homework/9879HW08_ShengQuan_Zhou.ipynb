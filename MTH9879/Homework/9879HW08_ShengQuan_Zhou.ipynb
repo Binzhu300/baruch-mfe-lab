{
 "cells": [
  {
   "cell_type": "markdown",
   "metadata": {},
   "source": [
    "# MTH9879 Homework 8\n",
    "\n",
    "#### Name: ShengQuan Zhou\n",
    "\n",
    "Assigned: April 4, 2017.\n",
    "Due: May 2, 2017 by 6pm. \n",
    "\n",
    "Late homework **will not be accepted**.\n",
    "\n",
    "$$\n",
    "\\newcommand{\\supp}{\\mathrm{supp}}\n",
    "\\newcommand{\\E}{\\mathbb{E}}\n",
    "\\newcommand{\\Eof}[1]{\\mathbb{E}\\left[ #1 \\right]}\n",
    "\\def\\Cov{{ \\mbox{Cov} }}\n",
    "\\def\\Var{{ \\mbox{Var} }}\n",
    "\\newcommand{\\1}{\\mathbf{1} }\n",
    "\\newcommand{\\PP}{\\mathbb{P} }\n",
    "%\\newcommand{\\Pr}{\\mathrm{Pr} }\n",
    "\\newcommand{\\QQ}{\\mathbb{Q} }\n",
    "\\newcommand{\\RR}{\\mathbb{R} }\n",
    "\\newcommand{\\DD}{\\mathbb{D} }\n",
    "\\newcommand{\\HH}{\\mathbb{H} }\n",
    "\\newcommand{\\spn}{\\mathrm{span} }\n",
    "\\newcommand{\\cov}{\\mathrm{cov} }\n",
    "\\newcommand{\\sgn}{\\mathrm{sgn} }\n",
    "\\newcommand{\\HS}{\\mathcal{L}_{\\mathrm{HS}} }\n",
    "%\\newcommand{\\HS}{\\mathrm{HS} }\n",
    "\\newcommand{\\trace}{\\mathrm{trace} }\n",
    "\\newcommand{\\LL}{\\mathcal{L} }\n",
    "%\\newcommand{\\LL}{\\mathrm{L} }\n",
    "\\newcommand{\\s}{\\mathcal{S} }\n",
    "\\newcommand{\\ee}{\\mathcal{E} }\n",
    "\\newcommand{\\ff}{\\mathcal{F} }\n",
    "\\newcommand{\\hh}{\\mathcal{H} }\n",
    "\\newcommand{\\bb}{\\mathcal{B} }\n",
    "\\newcommand{\\dd}{\\mathcal{D} }\n",
    "\\newcommand{\\g}{\\mathcal{G} }\n",
    "\\newcommand{\\p}{\\partial}\n",
    "\\newcommand{\\half}{\\frac{1}{2} }\n",
    "\\newcommand{\\T}{\\mathcal{T} }\n",
    "\\newcommand{\\bi}{\\begin{itemize}}\n",
    "\\newcommand{\\ei}{\\end{itemize}}\n",
    "\\newcommand{\\beq}{\\begin{equation}}\n",
    "\\newcommand{\\eeq}{\\end{equation}}\n",
    "\\newcommand{\\beas}{\\begin{eqnarray*}}\n",
    "\\newcommand{\\eeas}{\\end{eqnarray*}}\n",
    "\\newcommand{\\cO}{\\mathcal{O}}\n",
    "\\newcommand{\\cF}{\\mathcal{F}}\n",
    "\\newcommand{\\cL}{\\mathcal{L}}\n",
    "\\newcommand{\\BS}{\\text{BS}}\n",
    "$$"
   ]
  },
  {
   "cell_type": "markdown",
   "metadata": {},
   "source": [
    "<font color = \"red\">Homework is to be done by each student individually.  To receive full credit, you must email a completed copy of this iPython notebook to Victor Istratov (stavka@gmail.com), Yassine Ghalem (yassine.ghalem@gmail.com) and Jim Gatheral (jim.gatheral@gmail.com) by the due date and time.  All R-code must run correctly and solutions must be written up neatly in Markdown/LaTeX format."
   ]
  },
  {
   "cell_type": "markdown",
   "metadata": {},
   "source": [
    "### 0. (0 points) \n",
    "Read Section 6.7 of Bouchaud, Farmer and Lillo."
   ]
  },
  {
   "cell_type": "markdown",
   "metadata": {},
   "source": [
    "## Predictability of order flow"
   ]
  },
  {
   "cell_type": "markdown",
   "metadata": {},
   "source": [
    "### 1. (6 points)\n",
    "\n",
    "Suppose that the distribution of meta order sizes $Q$ is exponential so that\n",
    "\n",
    "$$\n",
    "\\Pr(Q>V)= \\frac{1}{\\lambda}\\,e^{-\\lambda\\,V}\n",
    "$$\n",
    "\n",
    "Assuming slices of  constant size $\\bar v$, compute the conditional probability that a hidden order has more slices given that $n$ slices have already been observed.  Compare your result with the case where distribution of metaorder size is power-law."
   ]
  },
  {
   "cell_type": "markdown",
   "metadata": {},
   "source": [
    "#### Solution:\n",
    "\n",
    "The conditional probability that a hidden order has more slices, each with constant size $\\bar{v}$, given that $n$ slices have already been observed is\n",
    "\\begin{align}\n",
    "\\text{Pr}\\left[Q \\ge (n+1)\\bar{v}\\middle| Q \\ge n\\bar{v}\\right] &=  \\frac{\\text{Pr}\\left[Q \\ge (n+1)\\bar{v},  Q \\ge n\\bar{v}\\right]}{\\text{Pr}\\left[ Q \\ge n\\bar{v}\\right]} \\\\\n",
    "&=  \\frac{\\text{Pr}\\left[Q \\ge (n+1)\\bar{v}\\right]}{\\text{Pr}\\left[ Q \\ge n\\bar{v}\\right]} \\\\\n",
    "&= \\frac{e^{-\\lambda(n+1)\\bar{v}}}{e^{-\\lambda n\\bar{v}}} \\\\\n",
    "&= e^{-\\lambda \\bar{v}},\n",
    "\\end{align}\n",
    "which is independent of $n$. In other words, if the order-size distribution is exponential, the likelihood that a metaorder is to continue is independent of how long it has been active.\n",
    "\n",
    "If the distribution of metaorder size is power-law\n",
    "\\begin{align}\n",
    "\\text{Pr}\\left[Q \\ge (n+1)\\bar{v}\\middle| Q \\ge n\\bar{v}\\right] &=  \\frac{\\text{Pr}\\left[Q \\ge (n+1)\\bar{v}\\right]}{\\text{Pr}\\left[ Q \\ge n\\bar{v}\\right]} \\\\\n",
    "&= \\frac{n^\\beta}{(n+1)^\\beta} \\\\\n",
    "&= \\left(\\frac{n}{n+1}\\right)^\\beta,\n",
    "\\end{align}\n",
    "which increases with $n$. In other words, if the order-size distribution is power-law, the longer a metaorder has been active, the more likely it is to continue."
   ]
  },
  {
   "cell_type": "markdown",
   "metadata": {},
   "source": [
    "## Price manipulation"
   ]
  },
  {
   "cell_type": "markdown",
   "metadata": {},
   "source": [
    "### 2. (10 points)\n",
    "\n",
    "Consider the price process\n",
    "\n",
    "$$\n",
    "S_t=S_0+\\int_0^t\\,f(\\dot{x}_s)\\,G(t-s)\\,ds+\\int_0^t\\,\\sigma\\,dZ_s\n",
    "$$\n",
    "\n",
    "where ${\\dot x}_s$ is the rate of trading in dollars at time $s < t$, $f(\\dot{x}_s)$ represents the impact of trading at time $s$ and $G(t-s)$ is a decay factor.\n",
    "\n",
    "(a) With the choices\n",
    "\n",
    "$$\n",
    "f(v)=\\sqrt{v},\\quad G(\\tau)=\\frac{1}{1+\\tau},\n",
    "$$\n",
    "    \n",
    "repeat the computations in Lecture 8  to derive an expression for the expected cost of accumulating shares at the rate $v_1$ and liquidating them at the rate $v_2$.\n",
    "\n",
    "(b) Verify that with $T=1$, $v_1=1/4$, $v_2=1$, the expected cost of this round-trip strategy is negative, thus demonstrating that price manipulation is possible. (Recall from the lecture slides that price manipulation is always possible if $f(\\cdot)$ is nonlinear and the decay kernel $G(\\cdot)$  is finite at the origin.)\n",
    "\n",
    "Hint: You might consider using Mathematica or Wolfram Alpha to do the integrations."
   ]
  },
  {
   "cell_type": "markdown",
   "metadata": {},
   "source": [
    "#### Solution (a):\n",
    "\n",
    "According to Lecture 8, the cost of a strategy where shares are accumulated at rate $v_1$ and then liquidated at rate $v_2$ can be expressed in terms of $C[\\Pi] = C_{11} + C_{22} - C_{12}$, where\n",
    "\\begin{align}\n",
    "C _ {11} &= v_1f(v_1) \\int _ {0}^{\\theta T} dt \\int _ {0}^t G(t-s)ds, \\\\\n",
    "C _ {22} &= v_2f(v_2) \\int _ {\\theta T}^{T} dt \\int _ {\\theta T}^t G(t-s)ds, \\\\\n",
    "C _ {12} &= v_2f(v_1) \\int _ {\\theta T}^{T} dt \\int _ {0}^{\\theta T} G(t-s)ds,\n",
    "\\end{align}\n",
    "where $\\theta = \\frac{v_2}{v_1 + v_2}$.\n",
    "\n",
    "Carry out the computation,\n",
    "\\begin{align}\n",
    "C _ {11} &= v_1^{\\frac{3}{2}}\\int _ {0}^{\\theta T} dt \\int_0^t \\frac{1}{1+t-s}ds \\\\\n",
    "&= v_1^{\\frac{3}{2}}\\int _ {0}^{\\theta T} dt \\ln(1+t-s)\\big| _ {t}^0\\\\\n",
    "&= v_1^{\\frac{3}{2}}\\int _ {0}^{\\theta T} dt \\ln(1+t) \\\\\n",
    "&= v_1^{\\frac{3}{2}} \\left[ (1+t)\\ln(1+t)-(1+t) \\right]\\big| _ {0}^{\\theta T}\\\\\n",
    "&= v_1^{\\frac{3}{2}} \\left[ (1+\\theta T)\\ln(1+\\theta T)-\\theta T \\right];\\\\\n",
    "C _ {22} &= v_2^{\\frac{3}{2}} \\int _ {\\theta T}^T dt \\int _ {\\theta T}^t \\frac{1}{1+t-s}ds \\\\\n",
    "&= v_2^{\\frac{3}{2}} \\int _ {\\theta T}^T dt \\ln(1+t-s)\\big| _ {t}^{\\theta T} \\\\\n",
    "&= v_2^{\\frac{3}{2}} \\int _ {\\theta T}^T dt \\ln(1+t-\\theta T)\\\\\n",
    "&= v_2^{\\frac{3}{2}} \\left[ (1+t-\\theta T)\\ln(1+t-\\theta T) - (1+t-\\theta T) \\right]\\big| _ {\\theta T} ^T \\\\\n",
    "&= v_2^{\\frac{3}{2}} \\left[ (1+(1-\\theta) T)\\ln(1+(1-\\theta) T) - (1-\\theta) T\\right];\\\\\n",
    "C _ {12} &= v_2 \\sqrt{v_1} \\int _ {\\theta T}^T dt \\int _ {0}^{\\theta T} \\frac{1}{1+t-s}ds \\\\\n",
    "&= v_2 \\sqrt{v_1} \\int _ {\\theta T}^T dt \\ln(1+t-s)\\big| ^ {0} _ {\\theta T} \\\\\n",
    "&= v_2 \\sqrt{v_1} \\int _ {\\theta T}^T dt \\left[ \\ln(1+t) - \\ln(1+t-\\theta T) \\right]  \\\\\n",
    "&= v_2 \\sqrt{v_1}  \\left[ (1+t)\\ln(1+t)-(1+t) - (1+t-\\theta T)\\ln(1+t-\\theta T)+(1+t-\\theta T) \\right]\\big| _ {\\theta T}^T  \\\\\n",
    "&= v_2 \\sqrt{v_1}  \\left[ (1+T)\\ln(1+T) - (1+(1-\\theta) T)\\ln(1+(1-\\theta) T)\n",
    "- (1+\\theta T)\\ln(1+\\theta T)\n",
    "\\right].\n",
    "\\end{align}\n",
    "Combined,\n",
    "$$\n",
    "C[\\Pi] = C_{11} + C_{22} - C_{12}.\n",
    "$$"
   ]
  },
  {
   "cell_type": "markdown",
   "metadata": {},
   "source": [
    "#### Solution (b):\n",
    "\n",
    "Let $T=1$, $v_1=1/4$, $v_2=1$, thus $\\theta = \\frac{1}{1+1/4} = \\frac{4}{5}$, $\\theta T = \\frac{4}{5}$, $(1-\\theta)T = \\frac{1}{5}$, $1+\\theta T = \\frac{9}{5}$, $1+(1-\\theta)T = \\frac{6}{5}$.\n",
    "\\begin{align}\n",
    "C _ {11} &= \\frac{1}{8} \\left( \\frac{9}{5}\\ln\\frac{9}{5}-\\frac{4}{5} \\right)\\approx 0.0322520;\\\\\n",
    "C _ {22} &= \\left( \\frac{6}{5}\\ln\\frac{6}{5} - \\frac{1}{5}\\right)\\approx 0.0187859;\\\\\n",
    "C _ {12} &= \\frac{1}{2}  \\left( 2\\ln 2 - \\frac{6}{5}\\ln\\frac{6}{5} - \\frac{9}{5}\\ln\\frac{9}{5}\\right)\\approx 0.0547462;\\\\\n",
    "C[\\Pi] &\\approx -0.0037 < 0.\n",
    "\\end{align}"
   ]
  },
  {
   "cell_type": "markdown",
   "metadata": {},
   "source": [
    "## The Obizhaeva-Wang model"
   ]
  },
  {
   "cell_type": "markdown",
   "metadata": {},
   "source": [
    "### 3. (8 points)\n",
    "\n",
    "In the Obizhaeva Wang (OW) model, the price follows\n",
    "\n",
    "$$\n",
    "S_t=S_0+\\eta\\,\\int_0^t\\,{\\dot x}_s\\,e^{-\\rho\\,(t-s)}\\,ds+\\int_0^t\\,\\sigma\\,dZ_s\n",
    "$$\n",
    "\n",
    "(a) Derive an expression for the expected price path corresponding to a VWAP execution.\n",
    "\n",
    "(b) With the duration $T$ of the meta order set to 1, plot the expected price path from time $t=0$ to time $t=2$ for $\\rho=0.5,1,$ and $2$.\n",
    "\n",
    "(c) What is the expected average cost per share $\\bar S_T$ of a VWAP order in the OW model?"
   ]
  },
  {
   "cell_type": "markdown",
   "metadata": {},
   "source": [
    "#### Solution (a):\n",
    "\n",
    "For a VWAP execution, denotes the total number of shares to execute by $N$,\n",
    "$$\n",
    "\\dot{x}_s = \\begin{cases}\n",
    "\\frac{N}{T}, &\\quad s\\le T,\\\\\n",
    "0, &\\quad s>T.\n",
    "\\end{cases}\n",
    "$$\n",
    "Because $\\int_0^t \\sigma dZ_s$ is a martingale, $\\mathbb{E}\\left[\\int_0^t \\sigma dZ_s\\right] = 0$. Thus, if $t>T$,\n",
    "\\begin{align}\n",
    "\\mathbb{E}[S_t] &= S_0+\\eta \\int_0^t{\\dot x} _ s e ^ {-\\rho (t-s)}ds\\\\\n",
    " &= S_0+\\eta \\frac{N}{T}\\int_0^T e ^ {-\\rho (t-s)}ds \\\\\n",
    " &= S_0+\\eta \\frac{N}{T} e^{-\\rho t}\\frac{1}{\\rho} e^{\\rho s}\\big|^T_0\\\\\n",
    " &= S_0+\\eta \\frac{N}{T} e^{-\\rho t}\\frac{e^{\\rho T} - 1}{\\rho}  \\\\\n",
    " &= S_0+\\eta N \\frac{e^{\\rho (T-t)} - e^{-\\rho t}}{\\rho T}.\n",
    "\\end{align}\n",
    "If $t\\le T$,\n",
    "\\begin{align}\n",
    "\\mathbb{E}[S_t] &= S_0+\\eta \\int_0^t{\\dot x} _ s e ^ {-\\rho (t-s)}ds\\\\\n",
    " &= S_0+\\eta \\frac{N}{T}\\int_0^t e ^ {-\\rho (t-s)}ds \\\\\n",
    " &= S_0+\\eta \\frac{N}{T} e^{-\\rho t}\\frac{1}{\\rho} e^{\\rho s}\\big|^t_0\\\\\n",
    " &= S_0+\\eta \\frac{N}{T} e^{-\\rho t}\\frac{e^{\\rho t} - 1}{\\rho}  \\\\\n",
    " &= S_0+\\eta N \\frac{1 - e^{-\\rho t}}{\\rho T}.\n",
    "\\end{align}\n",
    "In summary,\n",
    "$$\n",
    "\\mathbb{E}[S_t] = \\begin{cases}\n",
    "S_0+\\eta N \\frac{1 - e^{-\\rho t}}{\\rho T}, &\\quad t\\le T,\\\\\n",
    "S_0+\\eta N \\frac{e^{\\rho (T-t)} - e^{-\\rho t}}{\\rho T}, &\\quad t>T.\n",
    "\\end{cases}\n",
    "$$"
   ]
  },
  {
   "cell_type": "markdown",
   "metadata": {},
   "source": [
    "#### Solution (b):\n",
    "\n",
    "Let $T=1$,\n",
    "$$\n",
    "\\frac{\\mathbb{E}[S_t] - S_0}{N\\eta}= \\begin{cases}\n",
    "  \\frac{1 - e^{-\\rho t}}{\\rho }, &\\quad t\\le 1,\\\\\n",
    "  \\frac{e^{\\rho (1-t)} - e^{-\\rho t}}{\\rho }, &\\quad t>1.\n",
    "\\end{cases}\n",
    "$$"
   ]
  },
  {
   "cell_type": "code",
   "execution_count": 15,
   "metadata": {},
   "outputs": [],
   "source": [
    "ts = seq(0,2,0.001)"
   ]
  },
  {
   "cell_type": "code",
   "execution_count": 33,
   "metadata": {},
   "outputs": [],
   "source": [
    "expected_price_path = function(t, rho)\n",
    "{\n",
    "    if (t<=1)\n",
    "    {\n",
    "        return ((1-exp(-rho*t))/rho);\n",
    "    }\n",
    "    else\n",
    "    {\n",
    "        return ((exp(rho*(1-t))-exp(-rho*t))/rho);\n",
    "    }\n",
    "}"
   ]
  },
  {
   "cell_type": "code",
   "execution_count": 39,
   "metadata": {},
   "outputs": [
    {
     "data": {
      "image/png": "[encoded data removed]",
      "text/plain": [
       "plot without title"
      ]
     },
     "metadata": {},
     "output_type": "display_data"
    }
   ],
   "source": [
    "S_1 = sapply(ts, function(t) {expected_price_path(t, 0.5)})\n",
    "S_2 = sapply(ts, function(t) {expected_price_path(t, 1.0)})\n",
    "S_3 = sapply(ts, function(t) {expected_price_path(t, 2.0)})\n",
    "\n",
    "plot(ts, S_1, type='l', xlab='Time', ylab='Expected Price Path', col='red', ylim=c(0, 1))\n",
    "points(ts, S_2, type='l', col='blue')\n",
    "points(ts, S_3, type='l', col='yellow')\n",
    "abline(v=1, col = \"gray60\",lty=2) # completion at T=1\n",
    "legend(\"topleft\", c(\"rho=0.5\",\"rho=1\",\"rho=2\"),col=c(\"red\",\"blue\",\"yellow\"),lty =1)"
   ]
  },
  {
   "cell_type": "markdown",
   "metadata": {},
   "source": [
    "#### Solution (c):\n",
    "\n",
    "The expected average cost per share\n",
    "$$\n",
    "\\bar{S}_T = \\frac{C[\\Pi]}{N},\n",
    "$$\n",
    "where\n",
    "\\begin{align}\n",
    "C[\\Pi] &= \\mathbb{E}\\left[ \\int_0^T \\dot{x} _ t (S_t-S_0)dt \\right]\\\\\n",
    "&= \\eta\\mathbb{E}\\left[ \\int_0^T dt \\dot{x} _ t \\int _ 0^t{\\dot x} _ s e ^ {-\\rho (t-s)}ds \\right] + \\sigma\\mathbb{E}\\left[ \\int_0^T dt \\dot{x} _ t \\int _ 0^t  dZ _ s \\right] \\\\\n",
    "(\\text{Note: } t\\le T) &= \\eta\\frac{N^2}{T^2}\\int_0^T dt  \\int _ 0^t e ^ {-\\rho (t-s)}ds +  \\sigma \\int_0^T dt \\dot{x} _ t \\underbrace{\\mathbb{E}\\left[\\int _ 0^t  dZ _ s \\right]} _ {=0} \\\\\n",
    "&= \\eta\\frac{N^2}{\\rho T} - \\eta \\frac{N^2}{\\rho^2 T^2}\\left(1 - e^{-\\rho T}\\right) \\\\\n",
    "&= \\eta \\frac{N^2}{\\rho T}\\left( 1- \\frac{1 - e^{-\\rho T}}{\\rho T } \\right).\n",
    "\\end{align}\n",
    "Thus,\n",
    "$$\n",
    "\\bar{S}_T = \\eta \\frac{N}{\\rho T}\\left( 1- \\frac{1 - e^{-\\rho T}}{\\rho T } \\right).\n",
    "$$"
   ]
  }
 ],
 "metadata": {
  "kernelspec": {
   "display_name": "R",
   "language": "R",
   "name": "ir"
  },
  "language_info": {
   "codemirror_mode": "r",
   "file_extension": ".r",
   "mimetype": "text/x-r-source",
   "name": "R",
   "pygments_lexer": "r",
   "version": "3.3.2"
  }
 },
 "nbformat": 4,
 "nbformat_minor": 1
}
