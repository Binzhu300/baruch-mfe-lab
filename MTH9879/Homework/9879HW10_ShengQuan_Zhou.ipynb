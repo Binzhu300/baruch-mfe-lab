{
 "cells": [
  {
   "cell_type": "markdown",
   "metadata": {},
   "source": [
    "# MTH9879 Homework 10\n",
    "#### Name: ShengQuan Zhou\n",
    "\n",
    "Assigned: May 2, 2017.\n",
    "Due: May 16, 2017 by 6pm. \n",
    "\n",
    "Late homework **will not be accepted**.\n",
    "\n",
    "$$\n",
    "\\newcommand{\\supp}{\\mathrm{supp}}\n",
    "\\newcommand{\\E}{\\mathbb{E}}\n",
    "\\newcommand{\\Eof}[1]{\\mathbb{E}\\left[ #1 \\right]}\n",
    "\\def\\Cov{{ \\mbox{Cov} }}\n",
    "\\def\\Var{{ \\mbox{Var} }}\n",
    "\\newcommand{\\1}{\\mathbf{1} }\n",
    "\\newcommand{\\PP}{\\mathbb{P} }\n",
    "%\\newcommand{\\Pr}{\\mathrm{Pr} }\n",
    "\\newcommand{\\QQ}{\\mathbb{Q} }\n",
    "\\newcommand{\\RR}{\\mathbb{R} }\n",
    "\\newcommand{\\DD}{\\mathbb{D} }\n",
    "\\newcommand{\\HH}{\\mathbb{H} }\n",
    "\\newcommand{\\spn}{\\mathrm{span} }\n",
    "\\newcommand{\\cov}{\\mathrm{cov} }\n",
    "\\newcommand{\\sgn}{\\mathrm{sgn} }\n",
    "\\newcommand{\\HS}{\\mathcal{L}_{\\mathrm{HS}} }\n",
    "%\\newcommand{\\HS}{\\mathrm{HS} }\n",
    "\\newcommand{\\trace}{\\mathrm{trace} }\n",
    "\\newcommand{\\LL}{\\mathcal{L} }\n",
    "%\\newcommand{\\LL}{\\mathrm{L} }\n",
    "\\newcommand{\\s}{\\mathcal{S} }\n",
    "\\newcommand{\\ee}{\\mathcal{E} }\n",
    "\\newcommand{\\ff}{\\mathcal{F} }\n",
    "\\newcommand{\\hh}{\\mathcal{H} }\n",
    "\\newcommand{\\bb}{\\mathcal{B} }\n",
    "\\newcommand{\\dd}{\\mathcal{D} }\n",
    "\\newcommand{\\g}{\\mathcal{G} }\n",
    "\\newcommand{\\p}{\\partial}\n",
    "\\newcommand{\\half}{\\frac{1}{2} }\n",
    "\\newcommand{\\T}{\\mathcal{T} }\n",
    "\\newcommand{\\bi}{\\begin{itemize}}\n",
    "\\newcommand{\\ei}{\\end{itemize}}\n",
    "\\newcommand{\\beq}{\\begin{equation}}\n",
    "\\newcommand{\\eeq}{\\end{equation}}\n",
    "\\newcommand{\\beas}{\\begin{eqnarray*}}\n",
    "\\newcommand{\\eeas}{\\end{eqnarray*}}\n",
    "\\newcommand{\\cO}{\\mathcal{O}}\n",
    "\\newcommand{\\cC}{\\mathcal{C}}\n",
    "\\newcommand{\\cF}{\\mathcal{F}}\n",
    "\\newcommand{\\cL}{\\mathcal{L}}\n",
    "\\newcommand{\\BS}{\\text{BS}}\n",
    "$$"
   ]
  },
  {
   "cell_type": "markdown",
   "metadata": {},
   "source": [
    "<font color = \"red\">Homework is to be done by each student individually.  To receive full credit, you must email a completed copy of this iPython notebook to Victor Istratov (stavka@gmail.com), Yassine Ghalem (yassine.ghalem@gmail.com) and Jim Gatheral (jim.gatheral@gmail.com) by the due date and time.  All R-code must run correctly and solutions must be written up neatly in Markdown/LaTeX format."
   ]
  },
  {
   "cell_type": "markdown",
   "metadata": {},
   "source": [
    "## Numerical solution of Fredholm equation"
   ]
  },
  {
   "cell_type": "markdown",
   "metadata": {},
   "source": [
    "### 1. (12 points)\n",
    "Consider the Fredholm equation (7) in Lecture 10:\n",
    "\n",
    "$$\n",
    "\\int_0^T{G}(|t-s|)\\,dx_s =\\text{const.}\\qquad\\text{for all $t\\in [0,T]$.}\n",
    "$$\n",
    "\n",
    "Define $t_i:={i}\\frac T{N}$. One way to discretize this integral equation is as follows:\n",
    "\n",
    "$$\n",
    "\\sum_{j=1}^N G_{ij}\\,v_j=\\text{const.}\n",
    "$$\n",
    "\n",
    "where $v_j=x_{t_{j}}-x_{t_{j-1}}$ and\n",
    "\n",
    "<a name=\"eq:1\"></a>(1)\n",
    "$$\n",
    "G_{ij}=\n",
    "\\int_{t_{i-1}}^{t_i}\\,\\int_{t_{j-1}}^{t_j}\\,G(|t-s|)\\,ds\\,dt.\n",
    "$$\n",
    "\n",
    "(a) Derive an explicit expression for the $G_{ij}$ in the case\n",
    "$$\n",
    "G(\\tau)=\\frac {1}{(1+\\tau)^2}.\n",
    "$$\n",
    "You will need to compute separate expressions for the cases $i \\neq j$ and $i=j$.\n",
    "\n",
    "(b) With $N=512$, use matrix algebra to solve equation [(1)](#eq:1) numerically with this decay kernel.\n",
    "\n",
    "(c) Plot your results - you should end up with something like Figure 2 of Lecture 10.\n",
    "\n"
   ]
  },
  {
   "cell_type": "markdown",
   "metadata": {},
   "source": [
    "#### Solution (a):\n",
    "\n",
    "Consider three cases:\n",
    "\n",
    "**(1)** $i=j$\n",
    "\\begin{align}\n",
    "G_{ij} &= \\int_{t_{i-1}}^{t_i}\\,\\int_{t_{i-1}}^{t}\\,\\frac{1}{(1+t-s)^2}\\,ds\\,dt + \\int_{t_{i-1}}^{t_i}\\,\\int_{t}^{t_i}\\,\\frac{1}{(1+s-t)^2}\\,ds\\,dt\\\\\n",
    "&= 2(t_i-t_{i-1}) - 2\\ln(1+t_i-t_{i-1})\\\\\n",
    "&= \\frac{2T}{N}-2\\ln\\left(1+\\frac{T}{N}\\right)\\\\\n",
    "\\end{align}\n",
    "\n",
    "**(2)** $i<j$\n",
    "\\begin{align}\n",
    "G _ {ij} &= \\int _ {t _ {i-1}} ^{t_i}\\,\\int _ {t _ {j-1}}^{t_j}\\,\\frac{1}{(1+s-t)^2}\\,ds\\,dt \\\\\n",
    "&= \\ln\\left(\\frac{1+t _ {j-1}-t _ {i-1}}{1+t _ {j-1}-t_i} \\cdot \\frac{1+t_j-t_i}{1+t_j-t _ {i-1}} \\right)\\\\\n",
    "&= \\ln\\left[\\frac{1+(j-i)\\frac{T}{N}}{1+(j-i-1)\\frac{T}{N}} \\cdot \\frac{1+(j-i)\\frac{T}{N}}{1+(j-i+1)\\frac{T}{N}} \\right]\\\\\n",
    "\\end{align}\n",
    "\n",
    "**(3)** $i>j$. By symmetry, $G_{ij} = G_{ji}$."
   ]
  },
  {
   "cell_type": "markdown",
   "metadata": {},
   "source": [
    "#### Solution (b):"
   ]
  },
  {
   "cell_type": "code",
   "execution_count": 35,
   "metadata": {},
   "outputs": [
    {
     "data": {
      "text/html": [
       "<ol class=list-inline>\n",
       "\t<li>0.13824900066478</li>\n",
       "\t<li>-0.0363389832565382</li>\n",
       "\t<li>0.0104403132294727</li>\n",
       "\t<li>-0.00209540716991437</li>\n",
       "\t<li>0.00126225962638203</li>\n",
       "\t<li>0.000361325891762094</li>\n",
       "</ol>\n"
      ],
      "text/latex": [
       "\\begin{enumerate*}\n",
       "\\item 0.13824900066478\n",
       "\\item -0.0363389832565382\n",
       "\\item 0.0104403132294727\n",
       "\\item -0.00209540716991437\n",
       "\\item 0.00126225962638203\n",
       "\\item 0.000361325891762094\n",
       "\\end{enumerate*}\n"
      ],
      "text/markdown": [
       "1. 0.13824900066478\n",
       "2. -0.0363389832565382\n",
       "3. 0.0104403132294727\n",
       "4. -0.00209540716991437\n",
       "5. 0.00126225962638203\n",
       "6. 0.000361325891762094\n",
       "\n",
       "\n"
      ],
      "text/plain": [
       "[1]  0.1382490007 -0.0363389833  0.0104403132 -0.0020954072  0.0012622596\n",
       "[6]  0.0003613259"
      ]
     },
     "metadata": {},
     "output_type": "display_data"
    }
   ],
   "source": [
    "getGMatrix <- function(N,T)\n",
    "{\n",
    "    G = matrix(0,N,N)\n",
    "    t <- T/N\n",
    "    for (i in 1:N) \n",
    "    {\n",
    "        for (j in 1:N) \n",
    "        {\n",
    "            if (i == j) \n",
    "            {\n",
    "                G[i,j] = (2*t - 2*log(1 + t))\n",
    "            } \n",
    "            else if (i > j) \n",
    "            {\n",
    "                G[i,j] = (log((1+(i-j)*t)*(1+(i-j)*t) / ((1+(i-j-1)*t)*(1+(i-j+1)*t))))\n",
    "            }\n",
    "            else \n",
    "            {\n",
    "                G[i,j] = (log((1+(j-i)*t)*(1+(j-i)*t) / ((1+(j-i-1)*t)*(1+(j-i+1)*t))))\n",
    "            }  \n",
    "        }\n",
    "    }\n",
    "\n",
    "    return(G)\n",
    "}\n",
    "\n",
    "# generating the constant vector \n",
    "N <- 512\n",
    "const = rep(1e-6,N) ##this number can be changed\n",
    "G = getGMatrix(N,1)\n",
    "v = solve(G, const)\n",
    "head(v)"
   ]
  },
  {
   "cell_type": "markdown",
   "metadata": {},
   "source": [
    "#### Solution (c):"
   ]
  },
  {
   "cell_type": "code",
   "execution_count": 36,
   "metadata": {},
   "outputs": [
    {
     "data": {
      "image/png": "[encoded data removed]",
      "text/plain": [
       "plot without title"
      ]
     },
     "metadata": {},
     "output_type": "display_data"
    }
   ],
   "source": [
    "plot(seq(1/N, 1, 1/N), v, type = \"l\", col = \"red\", xlab = \"s\", ylab = \"u(s)\")"
   ]
  },
  {
   "cell_type": "markdown",
   "metadata": {},
   "source": [
    "## Optimal interval VWAP strategy in the square-root model"
   ]
  },
  {
   "cell_type": "markdown",
   "metadata": {},
   "source": [
    "### 2. (12 points)\n",
    "\n",
    "Consider equation (11) of Lecture 10 for the cost of liquidation using interval VWAPs:\n",
    "\n",
    "$$\n",
    "\\cC=\\sum_{j=1}^m\\,C_{jj}+\\sum_{i< j}^m\\,C_{ji}.\n",
    "$$\n",
    "\n",
    "(a) With $m=3$ (that is 3 interval VWAP slices), and assuming the square-root process where\n",
    "\n",
    "$$\n",
    "h(v)=\\frac  3 4 \\sigma\\,\\sqrt{\\frac{v}{V}} =\\frac  3 4 \\sigma\\,\\sqrt{\\frac{\\dot x}{V}}, \n",
    "\\quad \\mbox{ and } \\quad\n",
    "G(\\tau)=1/\\sqrt{\\tau},\n",
    "$$\n",
    "\n",
    "compute explicit expressions for the matrix elements $C_{ji}$ in terms of $x_1$, $x_2$, $t_1$, and $t_2$ (noting that $t_0=0$ and $t_3=T$).\n",
    "\n",
    "(b) Minimize the resulting expression for the expected cost of liquidation numerically to find optimal choices of $x_1$ and $x_2$ when $t_1=T/3$, and $t_2=2 \\,T/3$.\n",
    "\n",
    "(c) What is the percentage saving from trading with the 3-slice strategy relative to a VWAP?\n",
    "\n",
    "(d) Explain to your non-mathematical manager why this strategy has lower expected cost."
   ]
  },
  {
   "cell_type": "markdown",
   "metadata": {},
   "source": [
    "#### Solution (a):\n",
    "\n",
    "For $i=j$,\n",
    "$$\n",
    "C_{jj}=\\frac{x_j}{t_{j}-t_{j-1}}\\,h(v_j)\\,\\int_{t_{j-1}}^{t_j}\\,dt\\,\\int_{t_{j-1}}^{t_j}\\,\\frac{1}{\\sqrt{t-s}}\\,ds=\n",
    "\\frac{4}{3}\\,x_j\\,h(v_j)\\,\\sqrt{t_j-t_{j-1}} = \\frac{\\sigma}{\\sqrt{V}} x_j^{3/2},\n",
    "$$\n",
    "where we have used $\\dot{x}_j(t_{j}-t_{j-1})=x_j$ is the number of shares liquidated in the $j$th sub-interval.\n",
    "Due to $x_1+x_2+x_3=X$,\n",
    "\\begin{align}\n",
    "C _ {11}&= \\frac{\\sigma}{\\sqrt{V}} x_1^{3/2}, \\\\\n",
    "C _ {22}&= \\frac{\\sigma}{\\sqrt{V}} x_2^{3/2}, \\\\\n",
    "C _ {33}&= \\frac{\\sigma}{\\sqrt{V}} (X-x_1-x_2)^{3/2}.\n",
    "\\end{align}\n",
    "For $i\\neq j$,\n",
    "\\begin{align}\n",
    "C _ {ji}&=\\frac{x_j}{t_{j}-t_{j-1}}\\,h(v_i)\\,\\int _ {t _ {j-1}}^{t_j}\\,dt\\,\\int _ {t _ {i-1}}^{t_i}\\,\\frac{1}{\\sqrt{t-s}}\\,ds\\\\\n",
    "&=\n",
    "\\frac{4}{3}\\,x_j\\,h(v_i)\\,\\frac{\\left(t _ {j}-t _ {i-1}\\right)^{3/2}\n",
    "-\\left(t _ {j}-t _ {i}\\right)^{3/2}\n",
    "-\\left(t _ {j-1}-t _ {i-1}\\right)^{3/2}\n",
    "+\\left(t _ {j-1}-t _ {i}\\right)^{3/2}\n",
    "}{t _ {j}-t _ {j-1}}\\\\\n",
    "&=\n",
    "\\frac{\\sigma}{\\sqrt{V}}x_j\\sqrt{x_i}\\,\\frac{\\left(t _ {j}-t _ {i-1}\\right)^{3/2} - \\left(t _ {j}-t _ {i}\\right)^{3/2} - \\left(t _ {j-1}-t _ {i-1}\\right)^{3/2} + \\left(t _ {j-1}-t _ {i}\\right)^{3/2} }{(t _ {j}-t _ {j-1})\\sqrt{t _ {i}-t _ {i-1}}}.\n",
    "\\end{align}\n",
    "Thus,\n",
    "\\begin{align}\n",
    "\\therefore\\,C _ {21}&=\\frac{\\sigma}{\\sqrt{V}}x_2\\sqrt{x_1}\\,\\frac{t _ {2}^{3/2} - \\left(t _ {2}-t _ {1}\\right)^{3/2} - t _ {1}^{3/2}  }{(t _ {2}-t _ {1})\\sqrt{t _ {1}}}\\\\\n",
    "C _ {31}&=\\frac{\\sigma}{\\sqrt{V}}(X-x_1-x_2)\\sqrt{x_1}\\,\\frac{T^{3/2} - \\left(T-t _ {1}\\right)^{3/2} - t _ {2}^{3/2}+\\left(t _ {2}-t _ {1}\\right)^{3/2}  }{(T-t _ {2})\\sqrt{t _ {1}}}\\\\\n",
    "C _ {32}&=\\frac{\\sigma}{\\sqrt{V}}(X-x_1-x_2)\\sqrt{x_2}\\,\\frac{\\left(T-t _ {1}\\right)^{3/2} - \\left(T-t _ {2}\\right)^{3/2} - \\left(t _ {2}-t _ {1}\\right)^{3/2}}{(T-t _ {2})\\sqrt{t _ {2}-t _ {1}}}.\n",
    "\\end{align}\n"
   ]
  },
  {
   "cell_type": "markdown",
   "metadata": {},
   "source": [
    "#### Solution (b):\n",
    "\n",
    "For $t_1=T/3$, and $t_2=2 \\,T/3$, express $C_{ij}$ in units of $\\frac{\\sigma}{\\sqrt{V}}$:\n",
    "\n",
    "\\begin{align}\n",
    "C _ {11} &= x_1^{3/2}, \\\\\n",
    "C _ {21} &= (2\\sqrt{2}-2)x_2\\sqrt{x_1},\\\\\n",
    "C _ {31} &= (3\\sqrt{3}-4\\sqrt{2}+1)\\left(X-x_1-x_2\\right)\\sqrt{x_1},\\\\\n",
    "C _ {22} &= x_2^{3/2}, \\\\\n",
    "C _ {32} &= (2\\sqrt{2}-2)\\left(X-x_1-x_2\\right)\\sqrt{x_2},\\\\\n",
    "C _ {33} &= \\left(X-x_1-x_2\\right)^{3/2}.\n",
    "\\end{align}"
   ]
  },
  {
   "cell_type": "code",
   "execution_count": 37,
   "metadata": {},
   "outputs": [
    {
     "data": {
      "text/plain": [
       "$par\n",
       "[1] 6.470814e-01 2.005129e-16\n",
       "\n",
       "$value\n",
       "[1] 0.8832821\n",
       "\n",
       "$counts\n",
       "function gradient \n",
       "     257       NA \n",
       "\n",
       "$convergence\n",
       "[1] 0\n",
       "\n",
       "$message\n",
       "NULL\n"
      ]
     },
     "metadata": {},
     "output_type": "display_data"
    }
   ],
   "source": [
    "# choose X=1\n",
    "cost <- function (x)\n",
    "{\n",
    "    x1 <- x[1]\n",
    "    x2 <- x[2]\n",
    "    c11 <- (x1)^1.5\n",
    "    c22 <- (x2)^1.5\n",
    "    c33 <- (1 - x1 - x2)^1.5\n",
    "    c21 <- (2 * sqrt(2) - 2) * x2 * sqrt(x1)\n",
    "    c32 <- (2 * sqrt(2) - 2) * (1 - x1 - x2) * sqrt(abs(x2))\n",
    "    c31 <- (3 * sqrt(3) - 4 * sqrt(2) + 1 ) * (1 - x1 - x2) * sqrt(abs(x1))\n",
    "    return (c11 + c22 + c33 + c21 + c32 + c31)\n",
    "}\n",
    "\n",
    "# Initialize x1=x2=x3=1/3\n",
    "optim(c(1.0/3.0,1.0/3.0), cost)"
   ]
  },
  {
   "cell_type": "markdown",
   "metadata": {},
   "source": [
    "#### Solution (c):\n",
    "\n",
    "Simple VWAP is defined as $x_1=X$ and $t_1=T$\n",
    "$$\\mathcal{C}_{VWAP}=\\frac{\\sigma}{\\sqrt{V}}X^{3/2}.$$\n",
    "Thus,\n",
    "$$\\frac{\\mathcal{C}-\\mathcal{C}_{VWAP}}{\\mathcal{C}_{VWAP}}=\\frac{0.883-1}{1}=-0.117=-11.7\\%$$\n",
    "\n",
    "So this strategy saves 11.7% compared to the VWAP."
   ]
  },
  {
   "cell_type": "markdown",
   "metadata": {},
   "source": [
    "#### Solution (d):\n",
    "\n",
    "In VWAP, a continuous execution without any waiting takes in both instantaneous and accumulated market impact. On the other hand, in this 3-slice strategy, a decay of the accumulated market impact has occurred during the time gaps between slices, thus lowering the expected cost.\n"
   ]
  }
 ],
 "metadata": {
  "kernelspec": {
   "display_name": "R",
   "language": "R",
   "name": "ir"
  },
  "language_info": {
   "codemirror_mode": "r",
   "file_extension": ".r",
   "mimetype": "text/x-r-source",
   "name": "R",
   "pygments_lexer": "r",
   "version": "3.3.2"
  }
 },
 "nbformat": 4,
 "nbformat_minor": 1
}
