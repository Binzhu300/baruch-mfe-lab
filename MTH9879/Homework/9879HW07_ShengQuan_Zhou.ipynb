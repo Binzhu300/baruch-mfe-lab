{
 "cells": [
  {
   "cell_type": "markdown",
   "metadata": {},
   "source": [
    "# MTH9879 Homework 7\n",
    "#### Name: ShengQuan Zhou\n",
    "\n",
    "Assigned: March 29, 2017.\n",
    "Due: April 25, 2017 by 6pm. \n",
    "\n",
    "Late homework **will not be accepted**.\n",
    "\n",
    "$$\n",
    "\\newcommand{\\supp}{\\mathrm{supp}}\n",
    "\\newcommand{\\E}{\\mathbb{E}}\n",
    "\\newcommand{\\Eof}[1]{\\mathbb{E}\\left[ #1 \\right]}\n",
    "\\def\\Cov{{ \\mbox{Cov} }}\n",
    "\\def\\Var{{ \\mbox{Var} }}\n",
    "\\newcommand{\\1}{\\mathbf{1} }\n",
    "\\newcommand{\\PP}{\\mathbb{P} }\n",
    "%\\newcommand{\\Pr}{\\mathrm{Pr} }\n",
    "\\newcommand{\\QQ}{\\mathbb{Q} }\n",
    "\\newcommand{\\RR}{\\mathbb{R} }\n",
    "\\newcommand{\\DD}{\\mathbb{D} }\n",
    "\\newcommand{\\HH}{\\mathbb{H} }\n",
    "\\newcommand{\\spn}{\\mathrm{span} }\n",
    "\\newcommand{\\cov}{\\mathrm{cov} }\n",
    "\\newcommand{\\sgn}{\\mathrm{sgn} }\n",
    "\\newcommand{\\HS}{\\mathcal{L}_{\\mathrm{HS}} }\n",
    "%\\newcommand{\\HS}{\\mathrm{HS} }\n",
    "\\newcommand{\\trace}{\\mathrm{trace} }\n",
    "\\newcommand{\\LL}{\\mathcal{L} }\n",
    "%\\newcommand{\\LL}{\\mathrm{L} }\n",
    "\\newcommand{\\s}{\\mathcal{S} }\n",
    "\\newcommand{\\ee}{\\mathcal{E} }\n",
    "\\newcommand{\\ff}{\\mathcal{F} }\n",
    "\\newcommand{\\hh}{\\mathcal{H} }\n",
    "\\newcommand{\\bb}{\\mathcal{B} }\n",
    "\\newcommand{\\dd}{\\mathcal{D} }\n",
    "\\newcommand{\\g}{\\mathcal{G} }\n",
    "\\newcommand{\\p}{\\partial}\n",
    "\\newcommand{\\half}{\\frac{1}{2} }\n",
    "\\newcommand{\\T}{\\mathcal{T} }\n",
    "\\newcommand{\\bi}{\\begin{itemize}}\n",
    "\\newcommand{\\ei}{\\end{itemize}}\n",
    "\\newcommand{\\beq}{\\begin{equation}}\n",
    "\\newcommand{\\eeq}{\\end{equation}}\n",
    "\\newcommand{\\beas}{\\begin{eqnarray*}}\n",
    "\\newcommand{\\eeas}{\\end{eqnarray*}}\n",
    "\\newcommand{\\cO}{\\mathcal{O}}\n",
    "\\newcommand{\\cF}{\\mathcal{F}}\n",
    "\\newcommand{\\cL}{\\mathcal{L}}\n",
    "\\newcommand{\\BS}{\\text{BS}}\n",
    "$$"
   ]
  },
  {
   "cell_type": "markdown",
   "metadata": {},
   "source": [
    "<font color = \"red\">Homework is to be done by each student individually.  To receive full credit, you must email a completed copy of this iPython notebook to Victor Istratov (stavka@gmail.com), Yassine Ghalem (yassine.ghalem@gmail.com) and Jim Gatheral (jim.gatheral@gmail.com) by the due date and time.  All R-code must run correctly and solutions must be written up neatly in Markdown/LaTeX format."
   ]
  },
  {
   "cell_type": "markdown",
   "metadata": {},
   "source": [
    "### 0. (0 points) \n",
    "Read Sections 4, 5 and 6 of Bouchaud, Farmer and Lillo."
   ]
  },
  {
   "cell_type": "markdown",
   "metadata": {},
   "source": [
    "## Long memory"
   ]
  },
  {
   "cell_type": "markdown",
   "metadata": {},
   "source": [
    "### 1. (6 points)\n",
    "\n",
    "Consider the long memory process\n",
    "\n",
    "$$\n",
    "X_T=\\sum_{i=1}^T\\,\\epsilon_i\n",
    "$$\n",
    "\n",
    "with autocovariance function $\\gamma(\\tau)=\\E[\\epsilon_i\\,\\epsilon_{i-\\tau}] \\sim \\tau^{-\\alpha}$.  Show that as $\\tau \\to \\infty$,\n",
    "\n",
    "$$\n",
    "\\Var[X_{t+\\tau}-X_t] \\sim \\tau ^{2\\,H}\n",
    "$$\n",
    "\n",
    "where the Hurst exponent $H$ is given by\n",
    "\n",
    "$$\n",
    "H=1-\\frac{\\alpha}{2}.\n",
    "$$"
   ]
  },
  {
   "cell_type": "markdown",
   "metadata": {},
   "source": [
    "#### Solution:\n",
    "\n",
    "\\begin{align}\n",
    "\\text{Var}[X _ {t+\\tau} - X_t] &= \\text{Var}\\left[\\sum _ {i=t+1}^{t+\\tau} \\epsilon_i\\right]\\\\\n",
    "&= \\mathbb{E}\\left[\\left(\\sum _ {i=t+1}^{t+\\tau} \\epsilon_i\\right)^2\\right]\\\\\n",
    "&= \\mathbb{E}\\left[\\sum _ {i=t+1}^{t+\\tau}\\sum _ {j=t+1}^{t+\\tau} \\epsilon_i \\epsilon_j\\right]\\\\\n",
    "&= \\sum _ {i=t+1}^{t+\\tau}\\sum _ {j=t+1}^{t+\\tau}\\mathbb{E}\\left[ \\epsilon_i \\epsilon_j\\right]\\\\\n",
    "&= \\sum _ {i=t+1}^{t+\\tau}\\sum _ {j=t+1}^{t+\\tau}\\gamma(|i-j|)\\\\\n",
    "&= \\sum _ {i=1}^{\\tau}\\sum _ {j=1}^{\\tau}\\gamma(|i-j|)\\\\\n",
    "&= \\sum _ {i=1}^{\\tau} \\gamma(0) + \\sum _ {i\\neq j=1}^{\\tau}\\gamma(|i-j|)\\\\\n",
    "&\\sim \\tau\\gamma(0) + \\sum _ {i\\neq j=1}^{\\tau}\\frac{1}{|i-j|^{\\alpha}}\\\\\n",
    "&\\sim 2\\sum _ {i=1}^{\\tau} \\sum _ {j=1}^{i-1} \\frac{1}{|i-j|^{\\alpha}}\\\\\n",
    "&\\sim \\sum _ {i=1}^{\\tau} \\sum _ {k=1}^{i-1} \\frac{1}{k^{\\alpha}}\\\\\n",
    "&\\sim \\sum _ {i=1}^{\\tau} \\int_1^{i-1} \\frac{dk}{k^{\\alpha}}\\\\\n",
    "&\\sim \\sum _ {i=1}^{\\tau} \\frac{1}{(i-1)^{\\alpha-1}} \\\\\n",
    "&\\sim \\int_0^{\\tau-1} \\frac{di}{i^{\\alpha-1}} \\\\\n",
    "&\\sim \\frac{1}{(\\tau-1)^{\\alpha-2}}\\\\\n",
    "&\\sim \\frac{1}{\\tau^{\\alpha-2}}\\\\\n",
    "&= \\tau^{2H},\n",
    "\\end{align}\n",
    "where $H=1-\\frac{\\alpha}{2}$."
   ]
  },
  {
   "cell_type": "markdown",
   "metadata": {},
   "source": [
    "## MSFT data from Alejandro Ca&ntilde;ete"
   ]
  },
  {
   "cell_type": "code",
   "execution_count": 1,
   "metadata": {},
   "outputs": [
    {
     "name": "stderr",
     "output_type": "stream",
     "text": [
      "Loading required package: xts\n",
      "Loading required package: zoo\n",
      "\n",
      "Attaching package: ‘zoo’\n",
      "\n",
      "The following objects are masked from ‘package:base’:\n",
      "\n",
      "    as.Date, as.Date.numeric\n",
      "\n"
     ]
    }
   ],
   "source": [
    "library(highfrequency)\n",
    "download.file(url=\"http://mfe.baruch.cuny.edu/wp-content/uploads/2015/03/MSFT130311.rData_.zip\", destfile=\"MSFT130311.zip\")\n",
    "unzip(zipfile=\"MSFT130311.zip\")\n",
    "load(\"MSFT130311.rData\")"
   ]
  },
  {
   "cell_type": "markdown",
   "metadata": {},
   "source": [
    "### 2. (10 points)\n",
    "\n",
    "(a) Generate the series *tradeSign* of trade signs from the *msft130311.inet* data frame.\n",
    "\n",
    "(b) Fit an AR(1) model to the *tradeSign*  data to give the forecast:\n",
    "    $$\n",
    "    \\hat \\epsilon^{(1)}_t=\\phi_1\\,\\epsilon_{t-1}\n",
    "    $$\n",
    "\n",
    "(c) How does $\\phi_1$ relate to the autocorrelation coefficients of *tradeSign*?  What is the mean-squared error of this AR(1) forecast?\n",
    "\n",
    "(d) Fit an $AR(p)$ model to the *tradeSign* data, allowing R to find the best value of $p$ using the default AIC criterion.  This generates the forecast:\n",
    "    $$\n",
    "    \\hat \\epsilon^{(2)}_t=\\sum_{k=1}^p\\,\\phi_k\\,\\epsilon_{t-k}.\n",
    "    $$\n",
    "\n",
    "(e) What value of $p$ is selected by R?  What is the mean-squared error of this AR(p) forecast?\n"
   ]
  },
  {
   "cell_type": "markdown",
   "metadata": {},
   "source": [
    "#### Solution (a):"
   ]
  },
  {
   "cell_type": "code",
   "execution_count": 2,
   "metadata": {},
   "outputs": [
    {
     "data": {
      "text/html": [
       "<table>\n",
       "<thead><tr><th></th><th scope=col>signed.shares</th><th scope=col>trade.price</th></tr></thead>\n",
       "<tbody>\n",
       "\t<tr><th scope=row>16053</th><td>-4000</td><td>27.86</td></tr>\n",
       "\t<tr><th scope=row>16054</th><td>-4000</td><td>27.85</td></tr>\n",
       "\t<tr><th scope=row>16055</th><td>  100</td><td>27.87</td></tr>\n",
       "\t<tr><th scope=row>16056</th><td>  200</td><td>27.87</td></tr>\n",
       "\t<tr><th scope=row>16057</th><td> -400</td><td>27.87</td></tr>\n",
       "\t<tr><th scope=row>16058</th><td>  -20</td><td>27.87</td></tr>\n",
       "</tbody>\n",
       "</table>\n"
      ],
      "text/latex": [
       "\\begin{tabular}{r|ll}\n",
       "  & signed.shares & trade.price\\\\\n",
       "\\hline\n",
       "\t16053 & -4000 & 27.86\\\\\n",
       "\t16054 & -4000 & 27.85\\\\\n",
       "\t16055 &   100 & 27.87\\\\\n",
       "\t16056 &   200 & 27.87\\\\\n",
       "\t16057 &  -400 & 27.87\\\\\n",
       "\t16058 &   -20 & 27.87\\\\\n",
       "\\end{tabular}\n"
      ],
      "text/markdown": [
       "\n",
       "| <!--/--> | signed.shares | trade.price | \n",
       "|---|---|---|---|---|---|\n",
       "| 16053 | -4000 | 27.86 | \n",
       "| 16054 | -4000 | 27.85 | \n",
       "| 16055 |   100 | 27.87 | \n",
       "| 16056 |   200 | 27.87 | \n",
       "| 16057 |  -400 | 27.87 | \n",
       "| 16058 |   -20 | 27.87 | \n",
       "\n",
       "\n"
      ],
      "text/plain": [
       "      signed.shares trade.price\n",
       "16053 -4000         27.86      \n",
       "16054 -4000         27.85      \n",
       "16055   100         27.87      \n",
       "16056   200         27.87      \n",
       "16057  -400         27.87      \n",
       "16058   -20         27.87      "
      ]
     },
     "metadata": {},
     "output_type": "display_data"
    }
   ],
   "source": [
    "tail(data.frame(msft130311.inet))"
   ]
  },
  {
   "cell_type": "code",
   "execution_count": 3,
   "metadata": {
    "collapsed": true
   },
   "outputs": [],
   "source": [
    "tradeSign = sign(msft130311.inet$signed.shares)"
   ]
  },
  {
   "cell_type": "markdown",
   "metadata": {},
   "source": [
    "#### Solution (b):"
   ]
  },
  {
   "cell_type": "code",
   "execution_count": 4,
   "metadata": {
    "collapsed": true,
    "scrolled": true
   },
   "outputs": [],
   "source": [
    "res <- ar(tradeSign, order.max=1, demean=FALSE)"
   ]
  },
  {
   "cell_type": "code",
   "execution_count": 5,
   "metadata": {},
   "outputs": [
    {
     "data": {
      "text/html": [
       "0.822331548138"
      ],
      "text/latex": [
       "0.822331548138"
      ],
      "text/markdown": [
       "0.822331548138"
      ],
      "text/plain": [
       "[1] 0.8223315"
      ]
     },
     "metadata": {},
     "output_type": "display_data"
    }
   ],
   "source": [
    "res$ar"
   ]
  },
  {
   "cell_type": "markdown",
   "metadata": {},
   "source": [
    "Thus, $\\phi_1 \\approx 0.822$."
   ]
  },
  {
   "cell_type": "markdown",
   "metadata": {},
   "source": [
    "The forecast can be written as\n",
    "$$\n",
    "\\hat{\\epsilon}_t = \\phi_1\\epsilon_{t-1} \\approx  0.822\\times (-1) \\approx -0.822 \\approx -1.\n",
    "$$"
   ]
  },
  {
   "cell_type": "markdown",
   "metadata": {},
   "source": [
    "#### Solution (c):"
   ]
  },
  {
   "cell_type": "code",
   "execution_count": 6,
   "metadata": {
    "scrolled": false
   },
   "outputs": [
    {
     "data": {
      "image/png": "[encoded data removed]",
      "text/plain": [
       "Plot with title “Series  tradeSign”"
      ]
     },
     "metadata": {},
     "output_type": "display_data"
    }
   ],
   "source": [
    "acfSign <- acf(tradeSign)"
   ]
  },
  {
   "cell_type": "code",
   "execution_count": 7,
   "metadata": {},
   "outputs": [
    {
     "data": {
      "text/plain": [
       "\n",
       "Autocorrelations of series ‘tradeSign’, by lag\n",
       "\n",
       "    1 \n",
       "0.821 "
      ]
     },
     "metadata": {},
     "output_type": "display_data"
    }
   ],
   "source": [
    "acfSign[1]"
   ]
  },
  {
   "cell_type": "markdown",
   "metadata": {},
   "source": [
    "Thus, $\\phi_1$ equals approximately to the autocorrelation function at lag 1. If the AR fit had been done with an intercept, the equality would be exact according to $\\rho = \\frac{\\gamma_1}{\\gamma_0}$."
   ]
  },
  {
   "cell_type": "markdown",
   "metadata": {},
   "source": [
    "#### Solution (d):"
   ]
  },
  {
   "cell_type": "code",
   "execution_count": 14,
   "metadata": {
    "collapsed": true
   },
   "outputs": [],
   "source": [
    "res2 <- ar(tradeSign, aic=TRUE, demean=FALSE)"
   ]
  },
  {
   "cell_type": "code",
   "execution_count": 15,
   "metadata": {
    "collapsed": true
   },
   "outputs": [],
   "source": [
    "phi <- res2$ar"
   ]
  },
  {
   "cell_type": "code",
   "execution_count": 18,
   "metadata": {},
   "outputs": [
    {
     "data": {
      "text/plain": [
       "\n",
       "Call:\n",
       "ar(x = tradeSign, aic = TRUE, demean = FALSE)\n",
       "\n",
       "Coefficients:\n",
       "      1        2        3        4        5        6        7        8  \n",
       " 0.6958   0.0372   0.0417   0.0183   0.0234   0.0044  -0.0005   0.0298  \n",
       "      9       10       11       12       13       14       15       16  \n",
       " 0.0107  -0.0083   0.0145  -0.0140   0.0225   0.0121  -0.0005   0.0057  \n",
       "     17       18       19       20  \n",
       " 0.0047  -0.0043   0.0003   0.0165  \n",
       "\n",
       "Order selected 20  sigma^2 estimated as  0.3116"
      ]
     },
     "metadata": {},
     "output_type": "display_data"
    }
   ],
   "source": [
    "res2"
   ]
  },
  {
   "cell_type": "markdown",
   "metadata": {},
   "source": [
    "#### Solution (e):\n",
    "\n",
    "The $p$ value selected by R is 20. The mean-squared error is 0.3116."
   ]
  },
  {
   "cell_type": "markdown",
   "metadata": {},
   "source": [
    "### 3. (8 points)\n",
    "\n",
    "(a) Bin the AR(p) forecast data from the previous problem by forecast sign with bin-breaks from -1.01 to 1.01 in steps of 0.02.\n",
    "\n",
    "(b) Plot the average actual order sign in each bin against the average forecast order sign.  What is the slope of the resulting graph? (Hint: use the R function *lm*).\n",
    "\n",
    "(c) If the expected order sign is $\\hat \\epsilon$, what is the probability $p$ that the next trade will be a market buy?"
   ]
  },
  {
   "cell_type": "markdown",
   "metadata": {},
   "source": [
    "#### Solution (a):\n",
    "\n",
    "<font color=\"red\">Note: in this problem, we are using the AR(p) fit without intercept.</font>"
   ]
  },
  {
   "cell_type": "code",
   "execution_count": 19,
   "metadata": {
    "collapsed": true
   },
   "outputs": [],
   "source": [
    "# the order of AR(p)\n",
    "order <- length(phi)\n",
    "# number of observations\n",
    "size <- length(tradeSign)\n",
    "# initialize an array of predicted trade signs\n",
    "tradeSignPrediction <- rep(0, size)\n",
    "\n",
    "for (i in (order+1) : size)\n",
    "{\n",
    "    tradeSignPrediction[i] = 0\n",
    "    for (j in 1 : order)\n",
    "    {\n",
    "        tradeSignPrediction[i] = tradeSignPrediction[i] + phi[j]*tradeSign[i-j]\n",
    "    }\n",
    "}\n",
    "\n",
    "tradeSignPredictionTruncated <- tradeSignPrediction[-(1:order)]"
   ]
  },
  {
   "cell_type": "code",
   "execution_count": 20,
   "metadata": {},
   "outputs": [
    {
     "data": {
      "image/png": "[encoded data removed]",
      "text/plain": [
       "Plot with title “Histogram of tradeSignPredictionTruncated”"
      ]
     },
     "metadata": {},
     "output_type": "display_data"
    }
   ],
   "source": [
    "hist(tradeSignPredictionTruncated, breaks = seq(-1.01,1.01,by=0.02),xlab=\"Forecast sign\")"
   ]
  },
  {
   "cell_type": "markdown",
   "metadata": {},
   "source": [
    "#### Solution (b):"
   ]
  },
  {
   "cell_type": "code",
   "execution_count": 21,
   "metadata": {
    "collapsed": true
   },
   "outputs": [],
   "source": [
    "leftBoundary <- -1.01\n",
    "rightBoundary <- 1.01\n",
    "binWidth <- 0.02\n",
    "numBins <- (rightBoundary-leftBoundary)/binWidth\n",
    "actualSigns <- rep(0, numBins)\n",
    "predictedSigns <- rep(0, numBins)\n",
    "count <- rep(0, numBins)\n",
    "\n",
    "# cumulative order sign\n",
    "for (j in (order+1) : size)\n",
    "{\n",
    "    v <- tradeSignPrediction[j]\n",
    "    i <- as.integer((v - leftBoundary)/binWidth)\n",
    "    actualSigns[i] = actualSigns[i] + tradeSign[j]\n",
    "    predictedSigns[i] = predictedSigns[i] + tradeSignPrediction[j]\n",
    "    count[i] = count[i] + 1\n",
    "}\n",
    "\n",
    "# normalize to get the average order sign\n",
    "for (i in 1:numBins)\n",
    "{\n",
    "    actualSigns[i] = actualSigns[i]/count[i]\n",
    "    predictedSigns[i] = predictedSigns[i]/count[i]\n",
    "}"
   ]
  },
  {
   "cell_type": "code",
   "execution_count": 22,
   "metadata": {},
   "outputs": [
    {
     "data": {
      "image/png": "[encoded data removed]",
      "text/plain": [
       "plot without title"
      ]
     },
     "metadata": {},
     "output_type": "display_data"
    }
   ],
   "source": [
    "# linear regression to estimate the slop\n",
    "res3 <- lm(actualSigns~predictedSigns)\n",
    "plot( predictedSigns, actualSigns,type=\"p\", col=\"red\", xlab=expression(\"Predicted Average Order Sign\"), ylab=\"Actual Average Order Sign\")\n",
    "abline(res3, col='blue')"
   ]
  },
  {
   "cell_type": "code",
   "execution_count": 23,
   "metadata": {},
   "outputs": [
    {
     "data": {
      "text/plain": [
       "\n",
       "Call:\n",
       "lm(formula = actualSigns ~ predictedSigns)\n",
       "\n",
       "Coefficients:\n",
       "   (Intercept)  predictedSigns  \n",
       "        0.0162          0.9863  \n"
      ]
     },
     "metadata": {},
     "output_type": "display_data"
    }
   ],
   "source": [
    "res3"
   ]
  },
  {
   "cell_type": "markdown",
   "metadata": {},
   "source": [
    "Slope $\\approx 0.9863$."
   ]
  },
  {
   "cell_type": "markdown",
   "metadata": {},
   "source": [
    "#### Solution (c):\n",
    "\n",
    "$$\n",
    "\\hat \\epsilon = 1 \\times p + (-1) \\times (1-p) = 2p-1\n",
    "$$\n",
    "\n",
    "The probability p that the next trade will be a market buy is\n",
    "\n",
    "$$\n",
    "p = \\frac{\\hat \\epsilon + 1}{2}.\n",
    "$$"
   ]
  }
 ],
 "metadata": {
  "kernelspec": {
   "display_name": "R",
   "language": "R",
   "name": "ir"
  },
  "language_info": {
   "codemirror_mode": "r",
   "file_extension": ".r",
   "mimetype": "text/x-r-source",
   "name": "R",
   "pygments_lexer": "r",
   "version": "3.3.2"
  }
 },
 "nbformat": 4,
 "nbformat_minor": 1
}
